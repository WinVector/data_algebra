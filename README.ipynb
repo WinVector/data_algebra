{
 "cells": [
  {
   "cell_type": "markdown",
   "metadata": {
    "pycharm": {
     "name": "#%% md\n"
    }
   },
   "source": [
    "# data_algebra\n",
    "\n",
    "[data_algebra](https://github.com/WinVector/data_algebra) is a piped data wrangling system\n",
    "based on Codd's relational algebra and experience working with data manipulation languages at scale.\n",
    "The primary purpose of the package is to support an easy to\n",
    "compose and maintain grammar of data processing steps that in turn can be used to generate\n",
    "database specific SQL. The package also implements the same transforms for Pandas DataFrames.\n",
    "\n",
    "Currently the system is primarily adapted and testing for Pandas, Google BigQuery, PostgreSQL, and\n",
    "SQLite. Extension to other data processing systems such as Spark and MariaDB is possible, but\n",
    "not currently supported/tested.\n",
    "\n",
    "[This](https://github.com/WinVector/data_algebra) is to be the [`Python`](https://www.python.org) equivalent of the [`R`](https://www.r-project.org) packages [`rquery`](https://github.com/WinVector/rquery/), [`rqdatatable`](https://github.com/WinVector/rqdatatable), and [`cdata`](https://CRAN.R-project.org/package=cdata).  This package will supply piped Codd-transform style notation that can perform data engineering in [`Pandas`](https://pandas.pydata.org) and generate [`SQL`](https://en.wikipedia.org/wiki/SQL) queries from the same specification.\n",
    "\n",
    "# Installing\n",
    "\n",
    "Install `data_algebra` with `pip install data_algebra`\n",
    "\n",
    "# Announcement\n",
    "\n",
    "This article introduces the [`data_algebra`](https://github.com/WinVector/data_algebra) project: a data processing tool family available in `R` and `Python`.  These tools are designed to transform data either in-memory or on remote databases.  For an example (with video) of using `data_algebra` to re-arrange data layout please see [here](https://github.com/WinVector/data_algebra/blob/master/Examples/cdata/ranking_pivot_example.md).\n",
    "\n",
    "In particular, we will discuss the `Python` implementation (also called `data_algebra`) and its relation to the mature `R` implementations (`rquery` and `rqdatatable`).\n",
    "\n",
    "## Introduction\n",
    "\n",
    "The project intent is to realize a method chained data processing language based on [Codd's relational operators](https://en.wikipedia.org/wiki/Relational_model) that is easy to maintain, has helpful tooling, and has very similar realizations (or dialects) for:\n",
    "\n",
    "  * [`SQL`](https://en.wikipedia.org/wiki/SQL) databases accessed from [`Python`](https://www.python.org), useful working at scale with `PostgreSQL` or Apache `Spark` (`Spark` example [here](https://github.com/WinVector/data_algebra/blob/master/Examples/Spark/pyspark_example.ipynb)).\n",
    "  * [`Pandas`](https://pandas.pydata.org) `DataFrame` objects in `Python`.\n",
    "  * `SQL` databases access from [`R`](https://www.r-project.org) (implementation is [here](https://github.com/WinVector/rquery), and is mature and ready for production use).\n",
    "  \n",
    "The intent is the notation should look idiomatic in each language.  Working in `Python` should feel like working in `Python`, and working in `R` should feel like working in `R`.  The data semantics, however, are designed to be close to the `SQL` realizations (given the close connection of `SQL` to the relational algebra; in particular row numbering starts at `1` and row and column order is not preserved except at row-order steps or select-columns steps respectively). The intent is: it should be very easy to use the system in either `Python` or `R` (a boon to multi-language data science projects) and it is easy to port either code or experience from one system to another (a boon for porting projects, or for data scientists working with more than one code base or computer language).\n",
    "\n",
    "Related work includes:\n",
    "\n",
    "  * [Codd's relational algebra](https://en.wikipedia.org/wiki/Relational_algebra)\n",
    "  * [`SQL`](https://en.wikipedia.org/wiki/SQL)\n",
    "  * [`data.table`](https://CRAN.R-project.org/package=data.table)\n",
    "  * [`dfply`](https://github.com/kieferk/dfply)\n",
    "  * [`dplython`](https://github.com/dodger487/dplython)\n",
    "  * [`LINQ`](https://en.wikipedia.org/wiki/Language_Integrated_Query)\n",
    "  * [`Apache Calcite`](https://calcite.apache.org)\n",
    "  * [`dplyr`](https://CRAN.R-project.org/package=dplyr)\n",
    "  * [`dtplyr`](https://CRAN.R-project.org/package=dtplyr)\n",
    "  * [`table.express`](https://github.com/asardaes/table.express)\n",
    "  * [`Pandas`](https://pandas.pydata.org)\n",
    "  * [`pandas-ply`](https://github.com/coursera/pandas-ply)\n",
    "  * [`SQLAlchemy`](https://www.sqlalchemy.org)\n",
    "  * [`rquery`](https://github.com/WinVector/rquery/)\n",
    "  * [`cdata`](https://github.com/WinVector/cdata/)\n",
    "  * [`siuba`](https://github.com/machow/siuba)\n",
    "  \n",
    "The `data_algebra` principles include:\n",
    "\n",
    "  * Writing data transforms as a pipeline or method-chain of many simple transform steps.\n",
    "  * Treating data transform pipelines or directed acyclic graphs (DAGs) as themselves being sharable data.\n",
    "  * Being able to use the same transform specification many places (in memory, on databases, in `R`, in `Python`).\n",
    "\n",
    "The `data_algebra` supplies two primary services:\n",
    "\n",
    "  * Building composite data processing pipelines (which we demonstrate in this note).\n",
    "  * Building record transforms (which we demonstrate [here](https://github.com/WinVector/data_algebra/blob/master/Examples/cdata/cdata_general_example.ipynb)).\n",
    "\n",
    "## Example\n",
    "\n",
    "Let's start with a pipeline example in `Python` (for a record transform example, please see [here](https://github.com/WinVector/data_algebra/blob/master/Examples/cdata/cdata_general_example.ipynb)).\n",
    "\n",
    "For our example we will assume we have a data set of how many points different subjects score in a psychological survey.  The goal is transform the data so that we see what fraction of the subjects answers are in each category (subject to an exponential transform, as often used in [logistic regression](https://en.wikipedia.org/wiki/Logistic_regression)).  We then treat the per-subject renormalized data as a probability or diagnosis.\n",
    "\n",
    "The exact meaning of such a scoring method are not the topic of this note.  It is a notional example to show a non-trivial data transformation need.  In particular: having to normalize per-subject (divide some set of scores per-subject by a per-subject total) is a classic pain point in data-processing.  In classic `SQL` this can only be done by joining against a summary table, or in more modern `SQL` with a \"[window function](https://en.wikipedia.org/wiki/SQL_window_function).\" We want to show by working in small enough steps this can be done simply.\n",
    "\n",
    "### Set up\n",
    "\n",
    "Let's start our `Python` example.  First we import the packages we are going to use, and set a few options.\n"
   ]
  },
  {
   "cell_type": "code",
   "execution_count": 1,
   "metadata": {
    "collapsed": false,
    "jupyter": {
     "outputs_hidden": false
    },
    "pycharm": {
     "name": "#%%\n"
    }
   },
   "outputs": [
    {
     "data": {
      "text/plain": [
       "'0.7.3'"
      ]
     },
     "execution_count": 1,
     "metadata": {},
     "output_type": "execute_result"
    }
   ],
   "source": [
    "import sqlite3\n",
    "import sqlalchemy\n",
    "import pandas\n",
    "from data_algebra.data_ops import *  # https://github.com/WinVector/data_algebra\n",
    "import data_algebra.PostgreSQL\n",
    "import data_algebra.SQLite\n",
    "\n",
    "data_algebra.__version__"
   ]
  },
  {
   "cell_type": "markdown",
   "metadata": {
    "pycharm": {
     "name": "#%% md\n"
    }
   },
   "source": [
    "Now let's type in our example data.  Notice this is an in-memory `Pandas` `Data.Frame`.\n"
   ]
  },
  {
   "cell_type": "code",
   "execution_count": 2,
   "metadata": {
    "collapsed": false,
    "jupyter": {
     "outputs_hidden": false
    },
    "pycharm": {
     "name": "#%%\n"
    }
   },
   "outputs": [
    {
     "data": {
      "text/html": [
       "<div>\n",
       "<style scoped>\n",
       "    .dataframe tbody tr th:only-of-type {\n",
       "        vertical-align: middle;\n",
       "    }\n",
       "\n",
       "    .dataframe tbody tr th {\n",
       "        vertical-align: top;\n",
       "    }\n",
       "\n",
       "    .dataframe thead th {\n",
       "        text-align: right;\n",
       "    }\n",
       "</style>\n",
       "<table border=\"1\" class=\"dataframe\">\n",
       "  <thead>\n",
       "    <tr style=\"text-align: right;\">\n",
       "      <th></th>\n",
       "      <th>subjectID</th>\n",
       "      <th>surveyCategory</th>\n",
       "      <th>assessmentTotal</th>\n",
       "      <th>irrelevantCol1</th>\n",
       "      <th>irrelevantCol2</th>\n",
       "    </tr>\n",
       "  </thead>\n",
       "  <tbody>\n",
       "    <tr>\n",
       "      <th>0</th>\n",
       "      <td>1</td>\n",
       "      <td>withdrawal behavior</td>\n",
       "      <td>5.0</td>\n",
       "      <td>irrel1</td>\n",
       "      <td>irrel2</td>\n",
       "    </tr>\n",
       "    <tr>\n",
       "      <th>1</th>\n",
       "      <td>1</td>\n",
       "      <td>positive re-framing</td>\n",
       "      <td>2.0</td>\n",
       "      <td>irrel1</td>\n",
       "      <td>irrel2</td>\n",
       "    </tr>\n",
       "    <tr>\n",
       "      <th>2</th>\n",
       "      <td>2</td>\n",
       "      <td>withdrawal behavior</td>\n",
       "      <td>3.0</td>\n",
       "      <td>irrel1</td>\n",
       "      <td>irrel2</td>\n",
       "    </tr>\n",
       "    <tr>\n",
       "      <th>3</th>\n",
       "      <td>2</td>\n",
       "      <td>positive re-framing</td>\n",
       "      <td>4.0</td>\n",
       "      <td>irrel1</td>\n",
       "      <td>irrel2</td>\n",
       "    </tr>\n",
       "  </tbody>\n",
       "</table>\n",
       "</div>"
      ],
      "text/plain": [
       "   subjectID       surveyCategory  assessmentTotal irrelevantCol1  \\\n",
       "0          1  withdrawal behavior              5.0         irrel1   \n",
       "1          1  positive re-framing              2.0         irrel1   \n",
       "2          2  withdrawal behavior              3.0         irrel1   \n",
       "3          2  positive re-framing              4.0         irrel1   \n",
       "\n",
       "  irrelevantCol2  \n",
       "0         irrel2  \n",
       "1         irrel2  \n",
       "2         irrel2  \n",
       "3         irrel2  "
      ]
     },
     "execution_count": 2,
     "metadata": {},
     "output_type": "execute_result"
    }
   ],
   "source": [
    "d_local = pandas.DataFrame({\n",
    "    'subjectID':[1, 1, 2, 2],\n",
    "    'surveyCategory': [ \"withdrawal behavior\", \"positive re-framing\", \"withdrawal behavior\", \"positive re-framing\"],\n",
    "    'assessmentTotal': [5., 2., 3., 4.],\n",
    "    'irrelevantCol1': ['irrel1']*4,\n",
    "    'irrelevantCol2': ['irrel2']*4,\n",
    "})\n",
    "\n",
    "d_local"
   ]
  },
  {
   "cell_type": "markdown",
   "metadata": {
    "pycharm": {
     "name": "#%% md\n"
    }
   },
   "source": [
    "\n",
    "Let's also copy this data to a database.  Normally big data is already in the system one wants to work with, so the copying over is just to simulate the data already being there.\n"
   ]
  },
  {
   "cell_type": "code",
   "execution_count": 3,
   "metadata": {
    "collapsed": false,
    "jupyter": {
     "outputs_hidden": false
    },
    "pycharm": {
     "name": "#%%\n"
    }
   },
   "outputs": [],
   "source": [
    "use_postgresql = True\n",
    "\n",
    "if use_postgresql:\n",
    "    db_handle = data_algebra.PostgreSQL.example_handle()\n",
    "else:\n",
    "    db_handle = data_algebra.SQLite.example_handle()\n"
   ]
  },
  {
   "cell_type": "markdown",
   "metadata": {
    "pycharm": {
     "name": "#%% md\n"
    }
   },
   "source": []
  },
  {
   "cell_type": "code",
   "execution_count": 4,
   "metadata": {
    "collapsed": false,
    "jupyter": {
     "outputs_hidden": false
    },
    "pycharm": {
     "name": "#%%\n"
    }
   },
   "outputs": [
    {
     "data": {
      "text/html": [
       "<div>\n",
       "<style scoped>\n",
       "    .dataframe tbody tr th:only-of-type {\n",
       "        vertical-align: middle;\n",
       "    }\n",
       "\n",
       "    .dataframe tbody tr th {\n",
       "        vertical-align: top;\n",
       "    }\n",
       "\n",
       "    .dataframe thead th {\n",
       "        text-align: right;\n",
       "    }\n",
       "</style>\n",
       "<table border=\"1\" class=\"dataframe\">\n",
       "  <thead>\n",
       "    <tr style=\"text-align: right;\">\n",
       "      <th></th>\n",
       "      <th>subjectID</th>\n",
       "      <th>surveyCategory</th>\n",
       "      <th>assessmentTotal</th>\n",
       "      <th>irrelevantCol1</th>\n",
       "      <th>irrelevantCol2</th>\n",
       "    </tr>\n",
       "  </thead>\n",
       "  <tbody>\n",
       "    <tr>\n",
       "      <th>0</th>\n",
       "      <td>1</td>\n",
       "      <td>withdrawal behavior</td>\n",
       "      <td>5.0</td>\n",
       "      <td>irrel1</td>\n",
       "      <td>irrel2</td>\n",
       "    </tr>\n",
       "    <tr>\n",
       "      <th>1</th>\n",
       "      <td>1</td>\n",
       "      <td>positive re-framing</td>\n",
       "      <td>2.0</td>\n",
       "      <td>irrel1</td>\n",
       "      <td>irrel2</td>\n",
       "    </tr>\n",
       "    <tr>\n",
       "      <th>2</th>\n",
       "      <td>2</td>\n",
       "      <td>withdrawal behavior</td>\n",
       "      <td>3.0</td>\n",
       "      <td>irrel1</td>\n",
       "      <td>irrel2</td>\n",
       "    </tr>\n",
       "    <tr>\n",
       "      <th>3</th>\n",
       "      <td>2</td>\n",
       "      <td>positive re-framing</td>\n",
       "      <td>4.0</td>\n",
       "      <td>irrel1</td>\n",
       "      <td>irrel2</td>\n",
       "    </tr>\n",
       "  </tbody>\n",
       "</table>\n",
       "</div>"
      ],
      "text/plain": [
       "   subjectID       surveyCategory  assessmentTotal irrelevantCol1  \\\n",
       "0          1  withdrawal behavior              5.0         irrel1   \n",
       "1          1  positive re-framing              2.0         irrel1   \n",
       "2          2  withdrawal behavior              3.0         irrel1   \n",
       "3          2  positive re-framing              4.0         irrel1   \n",
       "\n",
       "  irrelevantCol2  \n",
       "0         irrel2  \n",
       "1         irrel2  \n",
       "2         irrel2  \n",
       "3         irrel2  "
      ]
     },
     "execution_count": 4,
     "metadata": {},
     "output_type": "execute_result"
    }
   ],
   "source": [
    "remote_table_desciption = db_handle.insert_table(d_local, table_name='d', allow_overwrite=True)\n",
    "\n",
    "remote_table_desciption.head\n"
   ]
  },
  {
   "cell_type": "markdown",
   "metadata": {
    "pycharm": {
     "name": "#%% md\n"
    }
   },
   "source": [
    "\n",
    "Normally one does not read data back from a database, but instead materializes results in the database with `SQL` commands such as `CREATE TABLE tablename AS SELECT ...`.\n",
    "Also note: case in columns is a bit of nightmare.  It is often best to lower-case them all.\n",
    "\n",
    "### Back to the `data_algebra`\n",
    "\n",
    "Now we continue our example by importing the `data_algebra` components we need.\n",
    "\n",
    "Now we use the `data_algebra` to define our processing pipeline: `ops`.  We are writing this pipeline using a [method chaining](https://en.wikipedia.org/wiki/Method_chaining) notation where we have placed `Python` method-dot at the end of lines using the `.\\` notation.  This notation will look *very* much like a [pipe](https://en.wikipedia.org/wiki/Pipeline_(Unix)) to `R`/[`magrittr`](https://CRAN.R-project.org/package=magrittr) users.\n"
   ]
  },
  {
   "cell_type": "code",
   "execution_count": 5,
   "metadata": {
    "collapsed": false,
    "jupyter": {
     "outputs_hidden": false
    },
    "pycharm": {
     "name": "#%%\n"
    }
   },
   "outputs": [],
   "source": [
    "scale = 0.237\n",
    "\n",
    "ops = data_algebra.data_ops.describe_table(d_local, 'd'). \\\n",
    "    extend({'probability': f'(assessmentTotal * {scale}).exp()'}). \\\n",
    "    extend({'total': 'probability.sum()'},\n",
    "           partition_by='subjectID'). \\\n",
    "    extend({'probability': 'probability/total'}). \\\n",
    "    extend({'row_number': '(1).cumsum()'},\n",
    "           partition_by=['subjectID'],\n",
    "           order_by=['probability'], reverse=['probability']). \\\n",
    "    select_rows('row_number == 1'). \\\n",
    "    select_columns(['subjectID', 'surveyCategory', 'probability']). \\\n",
    "    rename_columns({'diagnosis': 'surveyCategory'})\n"
   ]
  },
  {
   "cell_type": "markdown",
   "metadata": {
    "pycharm": {
     "name": "#%% md\n"
    }
   },
   "source": [
    "We are deliberately writing a longer pipeline of simple steps, so we can use the same pipeline locally with Pandas, and (potentially) great scale with `PostgreSQL` or Apache `Spark`.  A more concise variation of this pipeline can be found in the R example [here](https://github.com/WinVector/rquery).\n",
    "\n",
    "The intent is: the user can build up very sophisticated processing pipelines using a small number of primitive steps.  The pipelines tend to be long, but can still be very efficient- as they are well suited for use with `Pandas` and with `SQL` query optimizers.  Most of the heavy lifting is performed by the  very powerful \"window functions\" (triggered by use of `partition_by` and `order_by`) available on the `extend()` step.  Multiple statements can be combined into extend steps, but only when they have the same window-structure, and don't create and use the same value name in the same statement (except for replacement, which is shown in this example).  Many conditions are checked and enforced during pipeline construction, making debugging very easy.\n",
    "\n",
    "For a more Pythonic way of writing the same pipeline we can show how the code would have been formatted by [`black`](https://github.com/psf/black).\n"
   ]
  },
  {
   "cell_type": "code",
   "execution_count": 6,
   "metadata": {
    "collapsed": false,
    "jupyter": {
     "outputs_hidden": false
    },
    "pycharm": {
     "name": "#%%\n"
    }
   },
   "outputs": [
    {
     "name": "stdout",
     "output_type": "stream",
     "text": [
      "TableDescription(\n",
      "    table_name=\"d\",\n",
      "    column_names=[\n",
      "        \"subjectID\",\n",
      "        \"surveyCategory\",\n",
      "        \"assessmentTotal\",\n",
      "        \"irrelevantCol1\",\n",
      "        \"irrelevantCol2\",\n",
      "    ],\n",
      ").extend({\"probability\": \"((assessmentTotal * 0.237)).exp()\"}).extend(\n",
      "    {\"total\": \"probability.sum()\"}, partition_by=[\"subjectID\"]\n",
      ").extend(\n",
      "    {\"probability\": \"probability / total\"}\n",
      ").extend(\n",
      "    {\"row_number\": \"(1).cumsum()\"},\n",
      "    partition_by=[\"subjectID\"],\n",
      "    order_by=[\"probability\"],\n",
      "    reverse=[\"probability\"],\n",
      ").select_rows(\n",
      "    \"row_number == 1\"\n",
      ").select_columns(\n",
      "    [\"subjectID\", \"surveyCategory\", \"probability\"]\n",
      ").rename_columns(\n",
      "    {\"diagnosis\": \"surveyCategory\"}\n",
      ")\n",
      "\n"
     ]
    }
   ],
   "source": [
    "py_source = ops.to_python(pretty=True)\n",
    "\n",
    "print(py_source)"
   ]
  },
  {
   "cell_type": "markdown",
   "metadata": {
    "pycharm": {
     "name": "#%% md\n"
    }
   },
   "source": [
    "In either case, the pipeline is read as a sequence of operations (top to bottom, and left to right).  What it is saying is:\n",
    "\n",
    "  * We start with a table named \"d\" that is known to have columns \"subjectID\", \"surveyCategory\", \"assessmentTotal\", \"irrelevantCol1\", and \"irrelevantCol2\".\n",
    "  * We produce a new table by transforming this table through a sequence of \"extend\" operations which add new columns.\n",
    "  \n",
    "    * The first `extend` computes `probability = exp(scale*assessmentTotal)`, this is similar to the inverse-link step of a logistic regression. We assume when writing this pipeline we were given this math as a requirement.\n",
    "    * The next few `extend` steps total the `probability` per-subject (this is controlled by the `partition_by` argument) and then rank the normalized probabilities per-subject (grouping again specified by the `partition_by` argument, and order controlled by the `order_by` clause).\n",
    "    \n",
    "  * We then select the per-subject top-ranked rows by the `select_rows` step.\n",
    "  \n",
    "  * And finally we clean up the results for presentation with the `select_columns`, `rename_columns`, and `order_rows` steps.  The names of these methods are intended to evoke what they do.\n",
    "  \n",
    "The point is: each step is deliberately so trivial one can reason about it. However the many steps in sequence do quite a lot.\n",
    "\n",
    "### `SQL`\n",
    "\n",
    "Once we have the `ops` object we can do quite a lot with it. We have already exhibited the pretty-printing of the pipeline. Next we demonstrate translating the operator pipeline into `SQL`.\n"
   ]
  },
  {
   "cell_type": "code",
   "execution_count": 7,
   "metadata": {
    "collapsed": false,
    "jupyter": {
     "outputs_hidden": false
    },
    "pycharm": {
     "name": "#%%\n"
    }
   },
   "outputs": [
    {
     "name": "stdout",
     "output_type": "stream",
     "text": [
      "-- data_algebra SQL https://github.com/WinVector/data_algebra\n",
      "--  dialect: PostgreSQLModel\n",
      "--       string quote: '\n",
      "--   identifier quote: \"\n",
      "WITH \"table_reference_0\" AS\n",
      "  (SELECT \"subjectID\",\n",
      "          \"surveyCategory\",\n",
      "          \"assessmentTotal\"\n",
      "   FROM \"d\"),\n",
      "     \"extend_1\" AS\n",
      "  (SELECT -- extend({ 'probability': '((assessmentTotal * 0.237)).exp()'})\n",
      " \"subjectID\",\n",
      " \"surveyCategory\",\n",
      " EXP((\"assessmentTotal\" * 0.237)) AS \"probability\"\n",
      "   FROM \"table_reference_0\"),\n",
      "     \"extend_2\" AS\n",
      "  (SELECT -- extend({ 'total': 'probability.sum()'}, partition_by=['subjectID'])\n",
      " \"subjectID\",\n",
      " \"surveyCategory\",\n",
      " \"probability\",\n",
      " SUM(\"probability\") OVER (PARTITION BY \"subjectID\") AS \"total\"\n",
      "   FROM \"extend_1\"),\n",
      "     \"extend_3\" AS\n",
      "  (SELECT -- extend({ 'probability': 'probability / total'})\n",
      " \"subjectID\",\n",
      " \"surveyCategory\",\n",
      " \"probability\" / \"total\" AS \"probability\"\n",
      "   FROM \"extend_2\"),\n",
      "     \"extend_4\" AS\n",
      "  (SELECT -- extend({ 'row_number': '(1).cumsum()'}, partition_by=['subjectID'], order_by=['probability'], reverse=['probability'])\n",
      " \"subjectID\",\n",
      " \"surveyCategory\",\n",
      " \"probability\",\n",
      " SUM(1) OVER (PARTITION BY \"subjectID\"\n",
      "              ORDER BY \"probability\" DESC) AS \"row_number\"\n",
      "   FROM \"extend_3\"),\n",
      "     \"select_rows_5\" AS\n",
      "  (SELECT -- select_rows('row_number == 1')\n",
      " \"subjectID\",\n",
      " \"surveyCategory\",\n",
      " \"probability\"\n",
      "   FROM \"extend_4\"\n",
      "   WHERE \"row_number\" = 1 )\n",
      "SELECT -- rename_columns({'diagnosis': 'surveyCategory'})\n",
      " \"surveyCategory\" AS \"diagnosis\",\n",
      " \"subjectID\",\n",
      " \"probability\"\n",
      "FROM \"select_rows_5\"\n"
     ]
    }
   ],
   "source": [
    "sql = db_handle.to_sql(ops, pretty=True, use_with=True, annotate=True)\n",
    "\n",
    "print(sql)"
   ]
  },
  {
   "cell_type": "markdown",
   "metadata": {
    "pycharm": {
     "name": "#%% md\n"
    }
   },
   "source": [
    "\n",
    "Older `SQL` can be hard to read, as `SQL` expresses composition by inner-nesting (inside `SELECT` statements happen first).  The operator pipeline expresses composition by sequencing or method-chaining, which can be a lot more legible.  In this example we use the SQL-99 common table expression (`WITH`) notation to manage the composition in a more legible manner. A huge advantage of the `SQL` is: we can send it to the database for execution, as we do now.\n",
    "\n",
    "Also notice the generated `SQL` has applied query narrowing: columns not used in the outer queries are removed from the inner queries. The \"irrelevant\" columns are not carried into the calculation as they would be with a `SELECT *`.  This early optimization comes in quite handy.\n"
   ]
  },
  {
   "cell_type": "code",
   "execution_count": 8,
   "metadata": {
    "collapsed": false,
    "jupyter": {
     "outputs_hidden": false
    },
    "pycharm": {
     "name": "#%%\n"
    }
   },
   "outputs": [
    {
     "data": {
      "text/html": [
       "<div>\n",
       "<style scoped>\n",
       "    .dataframe tbody tr th:only-of-type {\n",
       "        vertical-align: middle;\n",
       "    }\n",
       "\n",
       "    .dataframe tbody tr th {\n",
       "        vertical-align: top;\n",
       "    }\n",
       "\n",
       "    .dataframe thead th {\n",
       "        text-align: right;\n",
       "    }\n",
       "</style>\n",
       "<table border=\"1\" class=\"dataframe\">\n",
       "  <thead>\n",
       "    <tr style=\"text-align: right;\">\n",
       "      <th></th>\n",
       "      <th>diagnosis</th>\n",
       "      <th>subjectID</th>\n",
       "      <th>probability</th>\n",
       "    </tr>\n",
       "  </thead>\n",
       "  <tbody>\n",
       "    <tr>\n",
       "      <th>0</th>\n",
       "      <td>withdrawal behavior</td>\n",
       "      <td>1</td>\n",
       "      <td>0.670622</td>\n",
       "    </tr>\n",
       "    <tr>\n",
       "      <th>1</th>\n",
       "      <td>positive re-framing</td>\n",
       "      <td>2</td>\n",
       "      <td>0.558974</td>\n",
       "    </tr>\n",
       "  </tbody>\n",
       "</table>\n",
       "</div>"
      ],
      "text/plain": [
       "             diagnosis  subjectID  probability\n",
       "0  withdrawal behavior          1     0.670622\n",
       "1  positive re-framing          2     0.558974"
      ]
     },
     "execution_count": 8,
     "metadata": {},
     "output_type": "execute_result"
    }
   ],
   "source": [
    "db_handle.read_query(sql)"
   ]
  },
  {
   "cell_type": "markdown",
   "metadata": {},
   "source": [
    "\n",
    "\n",
    "What comes back is: one row per subject, with the highest per-subject diagnosis and the estimated probability. Again, the math of this is outside the scope of this note (think of that as something coming from a specification)- the ability to write such a pipeline is our actual topic.\n",
    "\n",
    "The hope is that the `data_algebra` pipeline is easier to read, write, and maintain than the `SQL` query. If we wanted to change the calculation we would just add a stage to the `data_algebra` pipeline and then regenerate the `SQL` query.\n",
    "\n",
    "### `Pandas`\n",
    "\n",
    "An advantage of the pipeline is it can also be directly used on `Pandas` `DataFrame`s. Let's see how that is achieved.\n"
   ]
  },
  {
   "cell_type": "code",
   "execution_count": 9,
   "metadata": {
    "collapsed": false,
    "jupyter": {
     "outputs_hidden": false
    },
    "pycharm": {
     "name": "#%%\n"
    }
   },
   "outputs": [
    {
     "data": {
      "text/html": [
       "<div>\n",
       "<style scoped>\n",
       "    .dataframe tbody tr th:only-of-type {\n",
       "        vertical-align: middle;\n",
       "    }\n",
       "\n",
       "    .dataframe tbody tr th {\n",
       "        vertical-align: top;\n",
       "    }\n",
       "\n",
       "    .dataframe thead th {\n",
       "        text-align: right;\n",
       "    }\n",
       "</style>\n",
       "<table border=\"1\" class=\"dataframe\">\n",
       "  <thead>\n",
       "    <tr style=\"text-align: right;\">\n",
       "      <th></th>\n",
       "      <th>subjectID</th>\n",
       "      <th>diagnosis</th>\n",
       "      <th>probability</th>\n",
       "    </tr>\n",
       "  </thead>\n",
       "  <tbody>\n",
       "    <tr>\n",
       "      <th>0</th>\n",
       "      <td>1</td>\n",
       "      <td>withdrawal behavior</td>\n",
       "      <td>0.670622</td>\n",
       "    </tr>\n",
       "    <tr>\n",
       "      <th>1</th>\n",
       "      <td>2</td>\n",
       "      <td>positive re-framing</td>\n",
       "      <td>0.558974</td>\n",
       "    </tr>\n",
       "  </tbody>\n",
       "</table>\n",
       "</div>"
      ],
      "text/plain": [
       "   subjectID            diagnosis  probability\n",
       "0          1  withdrawal behavior     0.670622\n",
       "1          2  positive re-framing     0.558974"
      ]
     },
     "execution_count": 9,
     "metadata": {},
     "output_type": "execute_result"
    }
   ],
   "source": [
    "ops.eval({'d': d_local})"
   ]
  },
  {
   "cell_type": "markdown",
   "metadata": {},
   "source": [
    "\n",
    "\n",
    "There is also a shorthand notation for single table source pipelines:\n"
   ]
  },
  {
   "cell_type": "code",
   "execution_count": 10,
   "metadata": {
    "collapsed": false,
    "jupyter": {
     "outputs_hidden": false
    },
    "pycharm": {
     "name": "#%%\n"
    }
   },
   "outputs": [
    {
     "data": {
      "text/html": [
       "<div>\n",
       "<style scoped>\n",
       "    .dataframe tbody tr th:only-of-type {\n",
       "        vertical-align: middle;\n",
       "    }\n",
       "\n",
       "    .dataframe tbody tr th {\n",
       "        vertical-align: top;\n",
       "    }\n",
       "\n",
       "    .dataframe thead th {\n",
       "        text-align: right;\n",
       "    }\n",
       "</style>\n",
       "<table border=\"1\" class=\"dataframe\">\n",
       "  <thead>\n",
       "    <tr style=\"text-align: right;\">\n",
       "      <th></th>\n",
       "      <th>subjectID</th>\n",
       "      <th>diagnosis</th>\n",
       "      <th>probability</th>\n",
       "    </tr>\n",
       "  </thead>\n",
       "  <tbody>\n",
       "    <tr>\n",
       "      <th>0</th>\n",
       "      <td>1</td>\n",
       "      <td>withdrawal behavior</td>\n",
       "      <td>0.670622</td>\n",
       "    </tr>\n",
       "    <tr>\n",
       "      <th>1</th>\n",
       "      <td>2</td>\n",
       "      <td>positive re-framing</td>\n",
       "      <td>0.558974</td>\n",
       "    </tr>\n",
       "  </tbody>\n",
       "</table>\n",
       "</div>"
      ],
      "text/plain": [
       "   subjectID            diagnosis  probability\n",
       "0          1  withdrawal behavior     0.670622\n",
       "1          2  positive re-framing     0.558974"
      ]
     },
     "execution_count": 10,
     "metadata": {},
     "output_type": "execute_result"
    }
   ],
   "source": [
    "ops.transform(d_local)"
   ]
  },
  {
   "cell_type": "markdown",
   "metadata": {},
   "source": [
    "\n",
    "`eval` takes a dictionary of `Pandas` `DataFrame`s (names matching names specified in the pipeline) and returns the result of applying the pipeline to the data using `Pandas` commands.  Currently our `Pandas` implementation only allows very simple window functions.  This is why we didn't write `probability = probability/sum(probability)`, but instead broken the calculation into multiple steps by introducing the `total` column (the `SQL` realization does in fact support more complex window functions).  This is a small issue with the grammar: but our feeling encourage simple steps is in fact a good thing (improves debuggability), and in `SQL` the query optimizers likely optimize the different query styles into very similar realizations anyway.\n",
    "\n",
    "\n",
    "## Export/Import\n",
    "\n",
    "Because our operator pipeline is a `Python` object with no references to external objects (such as the database connection), it can be saved through standard methods such as \"[pickling](https://docs.python.org/3/library/pickle.html).\"\n",
    "\n",
    "We can also diagram the pipeline using graphviz.\n"
   ]
  },
  {
   "cell_type": "code",
   "execution_count": 11,
   "metadata": {
    "collapsed": false,
    "jupyter": {
     "outputs_hidden": false
    },
    "pycharm": {
     "name": "#%%\n"
    }
   },
   "outputs": [
    {
     "data": {
      "image/svg+xml": [
       "<?xml version=\"1.0\" encoding=\"UTF-8\" standalone=\"no\"?>\n",
       "<!DOCTYPE svg PUBLIC \"-//W3C//DTD SVG 1.1//EN\"\n",
       " \"http://www.w3.org/Graphics/SVG/1.1/DTD/svg11.dtd\">\n",
       "<!-- Generated by graphviz version 2.47.1 (0)\n",
       " -->\n",
       "<!-- Pages: 1 -->\n",
       "<svg width=\"365pt\" height=\"781pt\"\n",
       " viewBox=\"0.00 0.00 365.00 781.00\" xmlns=\"http://www.w3.org/2000/svg\" xmlns:xlink=\"http://www.w3.org/1999/xlink\">\n",
       "<g id=\"graph0\" class=\"graph\" transform=\"scale(1 1) rotate(0) translate(4 777)\">\n",
       "<polygon fill=\"white\" stroke=\"transparent\" points=\"-4,4 -4,-777 361,-777 361,4 -4,4\"/>\n",
       "<!-- 0 -->\n",
       "<g id=\"node1\" class=\"node\">\n",
       "<title>0</title>\n",
       "<polygon fill=\"none\" stroke=\"blue\" points=\"254,-773 251,-777 230,-777 227,-773 103,-773 103,-615 254,-615 254,-773\"/>\n",
       "<text text-anchor=\"middle\" x=\"178.5\" y=\"-757.8\" font-family=\"Times,serif\" font-size=\"14.00\">TableDescription(</text>\n",
       "<text text-anchor=\"middle\" x=\"178.5\" y=\"-742.8\" font-family=\"Times,serif\" font-size=\"14.00\"> &#160;&#160;&#160;table_name=&quot;d&quot;,</text>\n",
       "<text text-anchor=\"middle\" x=\"178.5\" y=\"-727.8\" font-family=\"Times,serif\" font-size=\"14.00\"> &#160;&#160;&#160;column_names=[</text>\n",
       "<text text-anchor=\"middle\" x=\"178.5\" y=\"-712.8\" font-family=\"Times,serif\" font-size=\"14.00\"> &#160;&#160;&#160;&#160;&#160;&#160;&#160;&quot;subjectID&quot;,</text>\n",
       "<text text-anchor=\"middle\" x=\"178.5\" y=\"-697.8\" font-family=\"Times,serif\" font-size=\"14.00\"> &#160;&#160;&#160;&#160;&#160;&#160;&#160;&quot;surveyCategory&quot;,</text>\n",
       "<text text-anchor=\"middle\" x=\"178.5\" y=\"-682.8\" font-family=\"Times,serif\" font-size=\"14.00\"> &#160;&#160;&#160;&#160;&#160;&#160;&#160;&quot;assessmentTotal&quot;,</text>\n",
       "<text text-anchor=\"middle\" x=\"178.5\" y=\"-667.8\" font-family=\"Times,serif\" font-size=\"14.00\"> &#160;&#160;&#160;&#160;&#160;&#160;&#160;&quot;irrelevantCol1&quot;,</text>\n",
       "<text text-anchor=\"middle\" x=\"178.5\" y=\"-652.8\" font-family=\"Times,serif\" font-size=\"14.00\"> &#160;&#160;&#160;&#160;&#160;&#160;&#160;&quot;irrelevantCol2&quot;,</text>\n",
       "<text text-anchor=\"middle\" x=\"178.5\" y=\"-637.8\" font-family=\"Times,serif\" font-size=\"14.00\"> &#160;&#160;&#160;],</text>\n",
       "<text text-anchor=\"middle\" x=\"178.5\" y=\"-622.8\" font-family=\"Times,serif\" font-size=\"14.00\">)</text>\n",
       "</g>\n",
       "<!-- 1 -->\n",
       "<g id=\"node2\" class=\"node\">\n",
       "<title>1</title>\n",
       "<polygon fill=\"none\" stroke=\"darkgreen\" points=\"351,-579 0,-579 0,-543 357,-543 357,-573 351,-579\"/>\n",
       "<polyline fill=\"none\" stroke=\"darkgreen\" points=\"351,-579 351,-573 \"/>\n",
       "<polyline fill=\"none\" stroke=\"darkgreen\" points=\"357,-573 351,-573 \"/>\n",
       "<text text-anchor=\"middle\" x=\"178.5\" y=\"-557.3\" font-family=\"Times,serif\" font-size=\"14.00\">extend({&quot;probability&quot;: &quot;((assessmentTotal * 0.237)).exp()&quot;})</text>\n",
       "</g>\n",
       "<!-- 0&#45;&gt;1 -->\n",
       "<g id=\"edge1\" class=\"edge\">\n",
       "<title>0&#45;&gt;1</title>\n",
       "<path fill=\"none\" stroke=\"black\" d=\"M178.5,-614.91C178.5,-605.82 178.5,-597.07 178.5,-589.39\"/>\n",
       "<polygon fill=\"black\" stroke=\"black\" points=\"182,-589.32 178.5,-579.32 175,-589.32 182,-589.32\"/>\n",
       "</g>\n",
       "<!-- 2 -->\n",
       "<g id=\"node3\" class=\"node\">\n",
       "<title>2</title>\n",
       "<polygon fill=\"none\" stroke=\"darkgreen\" points=\"272.5,-507 78.5,-507 78.5,-439 278.5,-439 278.5,-501 272.5,-507\"/>\n",
       "<polyline fill=\"none\" stroke=\"darkgreen\" points=\"272.5,-507 272.5,-501 \"/>\n",
       "<polyline fill=\"none\" stroke=\"darkgreen\" points=\"278.5,-501 272.5,-501 \"/>\n",
       "<text text-anchor=\"middle\" x=\"178.5\" y=\"-491.8\" font-family=\"Times,serif\" font-size=\"14.00\">extend(</text>\n",
       "<text text-anchor=\"middle\" x=\"178.5\" y=\"-476.8\" font-family=\"Times,serif\" font-size=\"14.00\"> &#160;&#160;&#160;{&quot;total&quot;: &quot;probability.sum()&quot;},</text>\n",
       "<text text-anchor=\"middle\" x=\"178.5\" y=\"-461.8\" font-family=\"Times,serif\" font-size=\"14.00\"> &#160;&#160;&#160;partition_by=[&quot;subjectID&quot;],</text>\n",
       "<text text-anchor=\"middle\" x=\"178.5\" y=\"-446.8\" font-family=\"Times,serif\" font-size=\"14.00\">)</text>\n",
       "</g>\n",
       "<!-- 1&#45;&gt;2 -->\n",
       "<g id=\"edge2\" class=\"edge\">\n",
       "<title>1&#45;&gt;2</title>\n",
       "<path fill=\"none\" stroke=\"black\" d=\"M178.5,-542.6C178.5,-535.18 178.5,-526.16 178.5,-517.14\"/>\n",
       "<polygon fill=\"black\" stroke=\"black\" points=\"182,-517.03 178.5,-507.03 175,-517.03 182,-517.03\"/>\n",
       "</g>\n",
       "<!-- 3 -->\n",
       "<g id=\"node4\" class=\"node\">\n",
       "<title>3</title>\n",
       "<polygon fill=\"none\" stroke=\"darkgreen\" points=\"305,-403 46,-403 46,-367 311,-367 311,-397 305,-403\"/>\n",
       "<polyline fill=\"none\" stroke=\"darkgreen\" points=\"305,-403 305,-397 \"/>\n",
       "<polyline fill=\"none\" stroke=\"darkgreen\" points=\"311,-397 305,-397 \"/>\n",
       "<text text-anchor=\"middle\" x=\"178.5\" y=\"-381.3\" font-family=\"Times,serif\" font-size=\"14.00\">extend({&quot;probability&quot;: &quot;probability / total&quot;})</text>\n",
       "</g>\n",
       "<!-- 2&#45;&gt;3 -->\n",
       "<g id=\"edge3\" class=\"edge\">\n",
       "<title>2&#45;&gt;3</title>\n",
       "<path fill=\"none\" stroke=\"black\" d=\"M178.5,-439C178.5,-430.56 178.5,-421.59 178.5,-413.47\"/>\n",
       "<polygon fill=\"black\" stroke=\"black\" points=\"182,-413.4 178.5,-403.4 175,-413.4 182,-413.4\"/>\n",
       "</g>\n",
       "<!-- 4 -->\n",
       "<g id=\"node5\" class=\"node\">\n",
       "<title>4</title>\n",
       "<polygon fill=\"none\" stroke=\"darkgreen\" points=\"285.5,-331 65.5,-331 65.5,-233 291.5,-233 291.5,-325 285.5,-331\"/>\n",
       "<polyline fill=\"none\" stroke=\"darkgreen\" points=\"285.5,-331 285.5,-325 \"/>\n",
       "<polyline fill=\"none\" stroke=\"darkgreen\" points=\"291.5,-325 285.5,-325 \"/>\n",
       "<text text-anchor=\"middle\" x=\"178.5\" y=\"-315.8\" font-family=\"Times,serif\" font-size=\"14.00\">extend(</text>\n",
       "<text text-anchor=\"middle\" x=\"178.5\" y=\"-300.8\" font-family=\"Times,serif\" font-size=\"14.00\"> &#160;&#160;&#160;{&quot;row_number&quot;: &quot;(1).cumsum()&quot;},</text>\n",
       "<text text-anchor=\"middle\" x=\"178.5\" y=\"-285.8\" font-family=\"Times,serif\" font-size=\"14.00\"> &#160;&#160;&#160;partition_by=[&quot;subjectID&quot;],</text>\n",
       "<text text-anchor=\"middle\" x=\"178.5\" y=\"-270.8\" font-family=\"Times,serif\" font-size=\"14.00\"> &#160;&#160;&#160;order_by=[&quot;probability&quot;],</text>\n",
       "<text text-anchor=\"middle\" x=\"178.5\" y=\"-255.8\" font-family=\"Times,serif\" font-size=\"14.00\"> &#160;&#160;&#160;reverse=[&quot;probability&quot;],</text>\n",
       "<text text-anchor=\"middle\" x=\"178.5\" y=\"-240.8\" font-family=\"Times,serif\" font-size=\"14.00\">)</text>\n",
       "</g>\n",
       "<!-- 3&#45;&gt;4 -->\n",
       "<g id=\"edge4\" class=\"edge\">\n",
       "<title>3&#45;&gt;4</title>\n",
       "<path fill=\"none\" stroke=\"black\" d=\"M178.5,-366.87C178.5,-359.59 178.5,-350.65 178.5,-341.34\"/>\n",
       "<polygon fill=\"black\" stroke=\"black\" points=\"182,-341.15 178.5,-331.15 175,-341.15 182,-341.15\"/>\n",
       "</g>\n",
       "<!-- 5 -->\n",
       "<g id=\"node6\" class=\"node\">\n",
       "<title>5</title>\n",
       "<polygon fill=\"none\" stroke=\"darkgreen\" points=\"275,-197 76,-197 76,-161 281,-161 281,-191 275,-197\"/>\n",
       "<polyline fill=\"none\" stroke=\"darkgreen\" points=\"275,-197 275,-191 \"/>\n",
       "<polyline fill=\"none\" stroke=\"darkgreen\" points=\"281,-191 275,-191 \"/>\n",
       "<text text-anchor=\"middle\" x=\"178.5\" y=\"-175.3\" font-family=\"Times,serif\" font-size=\"14.00\">select_rows(&quot;row_number == 1&quot;)</text>\n",
       "</g>\n",
       "<!-- 4&#45;&gt;5 -->\n",
       "<g id=\"edge5\" class=\"edge\">\n",
       "<title>4&#45;&gt;5</title>\n",
       "<path fill=\"none\" stroke=\"black\" d=\"M178.5,-232.87C178.5,-224.06 178.5,-215.17 178.5,-207.24\"/>\n",
       "<polygon fill=\"black\" stroke=\"black\" points=\"182,-207.15 178.5,-197.15 175,-207.15 182,-207.15\"/>\n",
       "</g>\n",
       "<!-- 6 -->\n",
       "<g id=\"node7\" class=\"node\">\n",
       "<title>6</title>\n",
       "<polygon fill=\"none\" stroke=\"darkgreen\" points=\"319,-125 32,-125 32,-72 325,-72 325,-119 319,-125\"/>\n",
       "<polyline fill=\"none\" stroke=\"darkgreen\" points=\"319,-125 319,-119 \"/>\n",
       "<polyline fill=\"none\" stroke=\"darkgreen\" points=\"325,-119 319,-119 \"/>\n",
       "<text text-anchor=\"middle\" x=\"178.5\" y=\"-109.8\" font-family=\"Times,serif\" font-size=\"14.00\">select_columns(</text>\n",
       "<text text-anchor=\"middle\" x=\"178.5\" y=\"-94.8\" font-family=\"Times,serif\" font-size=\"14.00\"> &#160;&#160;&#160;[&quot;subjectID&quot;, &quot;surveyCategory&quot;, &quot;probability&quot;]</text>\n",
       "<text text-anchor=\"middle\" x=\"178.5\" y=\"-79.8\" font-family=\"Times,serif\" font-size=\"14.00\">)</text>\n",
       "</g>\n",
       "<!-- 5&#45;&gt;6 -->\n",
       "<g id=\"edge6\" class=\"edge\">\n",
       "<title>5&#45;&gt;6</title>\n",
       "<path fill=\"none\" stroke=\"black\" d=\"M178.5,-160.97C178.5,-153.45 178.5,-144.31 178.5,-135.4\"/>\n",
       "<polygon fill=\"black\" stroke=\"black\" points=\"182,-135.16 178.5,-125.16 175,-135.16 182,-135.16\"/>\n",
       "</g>\n",
       "<!-- 7 -->\n",
       "<g id=\"node8\" class=\"node\">\n",
       "<title>7</title>\n",
       "<polygon fill=\"none\" stroke=\"darkgreen\" points=\"326,-36 25,-36 25,0 332,0 332,-30 326,-36\"/>\n",
       "<polyline fill=\"none\" stroke=\"darkgreen\" points=\"326,-36 326,-30 \"/>\n",
       "<polyline fill=\"none\" stroke=\"darkgreen\" points=\"332,-30 326,-30 \"/>\n",
       "<text text-anchor=\"middle\" x=\"178.5\" y=\"-14.3\" font-family=\"Times,serif\" font-size=\"14.00\">rename_columns({&quot;diagnosis&quot;: &quot;surveyCategory&quot;})</text>\n",
       "</g>\n",
       "<!-- 6&#45;&gt;7 -->\n",
       "<g id=\"edge7\" class=\"edge\">\n",
       "<title>6&#45;&gt;7</title>\n",
       "<path fill=\"none\" stroke=\"black\" d=\"M178.5,-71.8C178.5,-63.71 178.5,-54.76 178.5,-46.55\"/>\n",
       "<polygon fill=\"black\" stroke=\"black\" points=\"182,-46.33 178.5,-36.33 175,-46.33 182,-46.33\"/>\n",
       "</g>\n",
       "</g>\n",
       "</svg>\n"
      ],
      "text/plain": [
       "<graphviz.dot.Digraph at 0x7fcbd05404c0>"
      ]
     },
     "execution_count": 11,
     "metadata": {},
     "output_type": "execute_result"
    }
   ],
   "source": [
    "import graphviz\n",
    "\n",
    "import data_algebra.diagram\n",
    "\n",
    "dot = data_algebra.diagram.to_digraph(ops)\n",
    "dot"
   ]
  },
  {
   "cell_type": "markdown",
   "metadata": {},
   "source": [
    "\n",
    "## Advantages of `data_algebra`\n",
    "\n",
    "A `data_algebra` operator pipeline carries around usable knowledge of the data transform.\n",
    "\n",
    "For example:\n"
   ]
  },
  {
   "cell_type": "code",
   "execution_count": 12,
   "metadata": {
    "collapsed": false,
    "jupyter": {
     "outputs_hidden": false
    },
    "pycharm": {
     "name": "#%%\n"
    }
   },
   "outputs": [
    {
     "data": {
      "text/plain": [
       "{'d': {'assessmentTotal', 'subjectID', 'surveyCategory'}}"
      ]
     },
     "execution_count": 12,
     "metadata": {},
     "output_type": "execute_result"
    }
   ],
   "source": [
    "# report all source table columns used by the query\n",
    "ops.columns_used()"
   ]
  },
  {
   "cell_type": "markdown",
   "metadata": {},
   "source": []
  },
  {
   "cell_type": "code",
   "execution_count": 13,
   "metadata": {
    "collapsed": false,
    "jupyter": {
     "outputs_hidden": false
    },
    "pycharm": {
     "name": "#%%\n"
    }
   },
   "outputs": [
    {
     "data": {
      "text/plain": [
       "['subjectID', 'diagnosis', 'probability']"
      ]
     },
     "execution_count": 13,
     "metadata": {},
     "output_type": "execute_result"
    }
   ],
   "source": [
    "# what columns does this operation produce?\n",
    "ops.column_names"
   ]
  },
  {
   "cell_type": "markdown",
   "metadata": {},
   "source": [
    "## Conclusion\n",
    "\n",
    "The `data_algebra` is part of a powerful cross-language and mutli-implementaiton family data manipulation tools. These tools can greatly reduce the development and maintenance cost of data science projects, while improving the documentation of project intent.\n",
    "\n",
    "[Win Vector LLC](http://www.win-vector.com/) is looking for sponsors and partners to further the package.  In particular if your group is using both `R` and `Python` in big-data projects (where `SQL` is a need, including [`Apache Spark`](https://spark.apache.org)), or are porting a project from one of these languages to another- please get in touch.\n",
    "\n"
   ]
  },
  {
   "cell_type": "code",
   "execution_count": 14,
   "metadata": {
    "collapsed": false,
    "jupyter": {
     "outputs_hidden": false
    },
    "pycharm": {
     "name": "#%%\n"
    }
   },
   "outputs": [],
   "source": [
    "# be neat\n",
    "db_handle.close()"
   ]
  },
  {
   "cell_type": "markdown",
   "metadata": {},
   "source": [
    "Note: as with `SQL` the `data_algebra` assumes the processing pipeline is a [`DAG`](https://en.wikipedia.org/wiki/Directed_acyclic_graph) with only table-nodes used more than once.\n"
   ]
  }
 ],
 "metadata": {
  "kernelspec": {
   "display_name": "Python 3",
   "language": "python",
   "name": "python3"
  },
  "language_info": {
   "codemirror_mode": {
    "name": "ipython",
    "version": 3
   },
   "file_extension": ".py",
   "mimetype": "text/x-python",
   "name": "python",
   "nbconvert_exporter": "python",
   "pygments_lexer": "ipython3",
   "version": "3.9.4"
  }
 },
 "nbformat": 4,
 "nbformat_minor": 4
}