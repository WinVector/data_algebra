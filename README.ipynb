{
 "cells": [
  {
   "cell_type": "markdown",
   "metadata": {
    "pycharm": {
     "name": "#%% md\n"
    }
   },
   "source": [
    "# data_algebra\n",
    "\n",
    "[Codd style operators](https://en.wikipedia.org/wiki/Relational_algebra) in a [piped](https://en.wikipedia.org/wiki/Pipeline_(Unix)) or [method-chained](https://en.wikipedia.org/wiki/Method_chaining) notation (or [dplyr](https://CRAN.R-project.org/package=dplyr)-esque) data processing in Python\n",
    "\n",
    "\n",
    "[This](https://github.com/WinVector/data_algebra) is to be the [`Python`](https://www.python.org) equivalent of the [`R`](https://www.r-project.org) packages [`rquery`](https://github.com/WinVector/rquery/), [`rqdatatable`](https://github.com/WinVector/rqdatatable), and [`cdata`](https://CRAN.R-project.org/package=cdata).  This package will supply piped Codd-transform style notation that can perform data engineering in [`Pandas`](https://pandas.pydata.org) and generate [`SQL`](https://en.wikipedia.org/wiki/SQL) queries from the same specification.\n",
    "\n",
    "# Installing\n",
    "\n",
    "Install `data_algebra` with `pip install data_algebra`\n",
    "\n",
    "# Announcement\n",
    "\n",
    "This article introduces the [`data_algebra`](https://github.com/WinVector/data_algebra) project: a data processing tool family available in `R` and `Python`.  These tools are designed to transform data either in-memory or on remote databases.  For an example (with video) of using `data_algebra` to re-arrange data layout please see [here](https://github.com/WinVector/data_algebra/blob/master/Examples/cdata/ranking_pivot_example.md).\n",
    "\n",
    "In particular, we will discuss the `Python` implementation (also called `data_algebra`) and its relation to the mature `R` implementations (`rquery` and `rqdatatable`).\n",
    "\n",
    "## Introduction\n",
    "\n",
    "The project intent is to realize a method chained data processing language based on [Codd's relational operators](https://en.wikipedia.org/wiki/Relational_model) that is easy to maintain, has helpful tooling, and has very similar realizations (or dialects) for:\n",
    "\n",
    "  * [`SQL`](https://en.wikipedia.org/wiki/SQL) databases accessed from [`Python`](https://www.python.org), useful working at scale with `PostgreSQL` or Apache `Spark` (`Spark` example [here](https://github.com/WinVector/data_algebra/blob/master/Examples/Spark/pyspark_example.ipynb)).\n",
    "  * [`Pandas`](https://pandas.pydata.org) `DataFrame` objects in `Python`.\n",
    "  * `SQL` databases access from [`R`](https://www.r-project.org) (implementation is [here](https://github.com/WinVector/rquery), and is mature and ready for production use).\n",
    "  \n",
    "The intent is the notation should look idiomatic in each language.  Working in `Python` should feel like working in `Python`, and working in `R` should feel like working in `R`.  The data semantics, however, are designed to be close to the `SQL` realizations (given the close connection of `SQL` to the relational algebra; in particular row numbering starts at `1` and row and column order is not preserved except at row-order steps or select-columns steps respectively). The intent is: it should be very easy to use the system in either `Python` or `R` (a boon to multi-language data science projects) and it is easy to port either code or experience from one system to another (a boon for porting projects, or for data scientists working with more than one code base or computer language).\n",
    "\n",
    "Related work includes:\n",
    "\n",
    "  * [Codd's relational algebra](https://en.wikipedia.org/wiki/Relational_algebra)\n",
    "  * [`SQL`](https://en.wikipedia.org/wiki/SQL)\n",
    "  * [`data.table`](https://CRAN.R-project.org/package=data.table)\n",
    "  * [`dfply`](https://github.com/kieferk/dfply)\n",
    "  * [`dplython`](https://github.com/dodger487/dplython)\n",
    "  * [`LINQ`](https://en.wikipedia.org/wiki/Language_Integrated_Query)\n",
    "  * [`Apache Calcite`](https://calcite.apache.org)\n",
    "  * [`dplyr`](https://CRAN.R-project.org/package=dplyr)\n",
    "  * [`dtplyr`](https://CRAN.R-project.org/package=dtplyr)\n",
    "  * [`table.express`](https://github.com/asardaes/table.express)\n",
    "  * [`Pandas`](https://pandas.pydata.org)\n",
    "  * [`pandas-ply`](https://github.com/coursera/pandas-ply)\n",
    "  * [`SQLAlchemy`](https://www.sqlalchemy.org)\n",
    "  * [`rquery`](https://github.com/WinVector/rquery/)\n",
    "  * [`cdata`](https://github.com/WinVector/cdata/)\n",
    "  * [`siuba`](https://github.com/machow/siuba)\n",
    "  \n",
    "The `data_algebra` principles include:\n",
    "\n",
    "  * Writing data transforms as a pipeline or method-chain of many simple transform steps.\n",
    "  * Treating data transform pipelines or directed acyclic graphs (DAGs) as themselves being sharable data.\n",
    "  * Being able to use the same transform specification many places (in memory, on databases, in `R`, in `Python`).\n",
    "\n",
    "The `data_algebra` supplies two primary services:\n",
    "\n",
    "  * Building composite data processing pipelines (which we demonstrate in this note).\n",
    "  * Building record transforms (which we demonstrate [here](https://github.com/WinVector/data_algebra/blob/master/Examples/cdata/cdata_general_example.ipynb)).\n",
    "\n",
    "## Example\n",
    "\n",
    "Let's start with a pipeline example in `Python` (for a record transform example, please see [here](https://github.com/WinVector/data_algebra/blob/master/Examples/cdata/cdata_general_example.ipynb)).\n",
    "\n",
    "For our example we will assume we have a data set of how many points different subjects score in a psychological survey.  The goal is transform the data so that we see what fraction of the subjects answers are in each category (subject to an exponential transform, as often used in [logistic regression](https://en.wikipedia.org/wiki/Logistic_regression)).  We then treat the per-subject renormalized data as a probability or diagnosis.\n",
    "\n",
    "The exact meaning of such a scoring method are not the topic of this note.  It is a notional example to show a non-trivial data transformation need.  In particular: having to normalize per-subject (divide some set of scores per-subject by a per-subject total) is a classic pain point in data-processing.  In classic `SQL` this can only be done by joining against a summary table, or in more modern `SQL` with a \"[window function](https://en.wikipedia.org/wiki/SQL_window_function).\" We want to show by working in small enough steps this can be done simply.\n",
    "\n",
    "### Set up\n",
    "\n",
    "Let's start our `Python` example.  First we import the packages we are going to use, and set a few options.\n"
   ]
  },
  {
   "cell_type": "code",
   "execution_count": 1,
   "metadata": {
    "collapsed": false,
    "jupyter": {
     "outputs_hidden": false
    },
    "pycharm": {
     "name": "#%%\n"
    }
   },
   "outputs": [],
   "source": [
    "import math\n",
    "import io\n",
    "import sqlite3\n",
    "from pprint import pprint\n",
    "import psycopg2       # http://initd.org/psycopg/\n",
    "import pandas         # https://pandas.pydata.org\n",
    "from data_algebra.data_ops import *  # https://github.com/WinVector/data_algebra\n",
    "import data_algebra.PostgreSQL\n",
    "import data_algebra.SQLite"
   ]
  },
  {
   "cell_type": "markdown",
   "metadata": {
    "pycharm": {
     "name": "#%% md\n"
    }
   },
   "source": [
    "Now let's type in our example data.  Notice this is an in-memory `Pandas` `Data.Frame`.\n"
   ]
  },
  {
   "cell_type": "code",
   "execution_count": 2,
   "metadata": {
    "collapsed": false,
    "jupyter": {
     "outputs_hidden": false
    },
    "pycharm": {
     "name": "#%%\n"
    }
   },
   "outputs": [
    {
     "data": {
      "text/plain": "   subjectID       surveyCategory  assessmentTotal irrelevantCol1  \\\n0          1  withdrawal behavior                5         irrel1   \n1          1  positive re-framing                2         irrel1   \n2          2  withdrawal behavior                3         irrel1   \n3          2  positive re-framing                4         irrel1   \n\n  irrelevantCol2  \n0         irrel2  \n1         irrel2  \n2         irrel2  \n3         irrel2  ",
      "text/html": "<div>\n<style scoped>\n    .dataframe tbody tr th:only-of-type {\n        vertical-align: middle;\n    }\n\n    .dataframe tbody tr th {\n        vertical-align: top;\n    }\n\n    .dataframe thead th {\n        text-align: right;\n    }\n</style>\n<table border=\"1\" class=\"dataframe\">\n  <thead>\n    <tr style=\"text-align: right;\">\n      <th></th>\n      <th>subjectID</th>\n      <th>surveyCategory</th>\n      <th>assessmentTotal</th>\n      <th>irrelevantCol1</th>\n      <th>irrelevantCol2</th>\n    </tr>\n  </thead>\n  <tbody>\n    <tr>\n      <th>0</th>\n      <td>1</td>\n      <td>withdrawal behavior</td>\n      <td>5</td>\n      <td>irrel1</td>\n      <td>irrel2</td>\n    </tr>\n    <tr>\n      <th>1</th>\n      <td>1</td>\n      <td>positive re-framing</td>\n      <td>2</td>\n      <td>irrel1</td>\n      <td>irrel2</td>\n    </tr>\n    <tr>\n      <th>2</th>\n      <td>2</td>\n      <td>withdrawal behavior</td>\n      <td>3</td>\n      <td>irrel1</td>\n      <td>irrel2</td>\n    </tr>\n    <tr>\n      <th>3</th>\n      <td>2</td>\n      <td>positive re-framing</td>\n      <td>4</td>\n      <td>irrel1</td>\n      <td>irrel2</td>\n    </tr>\n  </tbody>\n</table>\n</div>"
     },
     "execution_count": 2,
     "metadata": {},
     "output_type": "execute_result"
    }
   ],
   "source": [
    "d_local = pandas.DataFrame({\n",
    "    'subjectID':[1, 1, 2, 2],\n",
    "    'surveyCategory': [ \"withdrawal behavior\", \"positive re-framing\", \"withdrawal behavior\", \"positive re-framing\"],\n",
    "    'assessmentTotal': [5, 2, 3, 4],\n",
    "    'irrelevantCol1': ['irrel1']*4,\n",
    "    'irrelevantCol2': ['irrel2']*4,\n",
    "})\n",
    "d_local"
   ]
  },
  {
   "cell_type": "markdown",
   "metadata": {
    "pycharm": {
     "name": "#%% md\n"
    }
   },
   "source": [
    "\n",
    "Let's also copy this data to a database.  Normally big data is already in the system one wants to work with, so the copying over is just to simulate the data already being there.\n"
   ]
  },
  {
   "cell_type": "code",
   "execution_count": 3,
   "metadata": {
    "collapsed": false,
    "jupyter": {
     "outputs_hidden": false
    },
    "pycharm": {
     "name": "#%%\n"
    }
   },
   "outputs": [],
   "source": [
    "use_postgresql = False\n",
    "\n",
    "if use_postgresql:\n",
    "    conn = psycopg2.connect(\n",
    "        database=\"johnmount\",\n",
    "        user=\"johnmount\",\n",
    "        host=\"localhost\",\n",
    "        password=\"\"\n",
    "    )\n",
    "    conn.autocommit=True\n",
    "    db_model = data_algebra.PostgreSQL.PostgreSQLModel() \n",
    "else:\n",
    "    conn = sqlite3.connect(':memory:')\n",
    "    db_model = data_algebra.SQLite.SQLiteModel()\n",
    "\n",
    "db_model.prepare_connection(conn)  # define any user functions and settings we want/need"
   ]
  },
  {
   "cell_type": "markdown",
   "metadata": {
    "pycharm": {
     "name": "#%% md\n"
    }
   },
   "source": []
  },
  {
   "cell_type": "code",
   "execution_count": 4,
   "metadata": {
    "collapsed": false,
    "jupyter": {
     "outputs_hidden": false
    },
    "pycharm": {
     "name": "#%%\n"
    }
   },
   "outputs": [
    {
     "data": {
      "text/plain": "   index  subjectID       surveyCategory  assessmentTotal irrelevantCol1  \\\n0      0          1  withdrawal behavior                5         irrel1   \n1      1          1  positive re-framing                2         irrel1   \n2      2          2  withdrawal behavior                3         irrel1   \n3      3          2  positive re-framing                4         irrel1   \n\n  irrelevantCol2  \n0         irrel2  \n1         irrel2  \n2         irrel2  \n3         irrel2  ",
      "text/html": "<div>\n<style scoped>\n    .dataframe tbody tr th:only-of-type {\n        vertical-align: middle;\n    }\n\n    .dataframe tbody tr th {\n        vertical-align: top;\n    }\n\n    .dataframe thead th {\n        text-align: right;\n    }\n</style>\n<table border=\"1\" class=\"dataframe\">\n  <thead>\n    <tr style=\"text-align: right;\">\n      <th></th>\n      <th>index</th>\n      <th>subjectID</th>\n      <th>surveyCategory</th>\n      <th>assessmentTotal</th>\n      <th>irrelevantCol1</th>\n      <th>irrelevantCol2</th>\n    </tr>\n  </thead>\n  <tbody>\n    <tr>\n      <th>0</th>\n      <td>0</td>\n      <td>1</td>\n      <td>withdrawal behavior</td>\n      <td>5</td>\n      <td>irrel1</td>\n      <td>irrel2</td>\n    </tr>\n    <tr>\n      <th>1</th>\n      <td>1</td>\n      <td>1</td>\n      <td>positive re-framing</td>\n      <td>2</td>\n      <td>irrel1</td>\n      <td>irrel2</td>\n    </tr>\n    <tr>\n      <th>2</th>\n      <td>2</td>\n      <td>2</td>\n      <td>withdrawal behavior</td>\n      <td>3</td>\n      <td>irrel1</td>\n      <td>irrel2</td>\n    </tr>\n    <tr>\n      <th>3</th>\n      <td>3</td>\n      <td>2</td>\n      <td>positive re-framing</td>\n      <td>4</td>\n      <td>irrel1</td>\n      <td>irrel2</td>\n    </tr>\n  </tbody>\n</table>\n</div>"
     },
     "execution_count": 4,
     "metadata": {},
     "output_type": "execute_result"
    }
   ],
   "source": [
    "\n",
    "db_model.insert_table(conn, d_local, 'd')\n",
    "\n",
    "db_model.read_table(conn, 'd')"
   ]
  },
  {
   "cell_type": "markdown",
   "metadata": {
    "pycharm": {
     "name": "#%% md\n"
    }
   },
   "source": [
    "\n",
    "Normally one does not read data back from a database, but instead materializes results in the database with `SQL` commands such as `CREATE TABLE tablename AS SELECT ...`.\n",
    "Also note: case in columns is a bit of nightmare.  It is often best to lower-case them all.\n",
    "\n",
    "### Back to the `data_algebra`\n",
    "\n",
    "Now we continue our example by importing the `data_algebra` components we need.\n",
    "\n",
    "Now we use the `data_algebra` to define our processing pipeline: `ops`.  We are writing this pipeline using a [method chaining](https://en.wikipedia.org/wiki/Method_chaining) notation where we have placed `Python` method-dot at the end of lines using the `.\\` notation.  This notation will look *very* much like a [pipe](https://en.wikipedia.org/wiki/Pipeline_(Unix)) to `R`/[`magrittr`](https://CRAN.R-project.org/package=magrittr) users.\n"
   ]
  },
  {
   "cell_type": "code",
   "execution_count": 5,
   "metadata": {
    "collapsed": false,
    "jupyter": {
     "outputs_hidden": false
    },
    "pycharm": {
     "name": "#%%\n"
    }
   },
   "outputs": [],
   "source": [
    "scale = 0.237\n",
    "\n",
    "ops = data_algebra.data_ops.describe_table(d_local, 'd'). \\\n",
    "    extend({'probability': f'(assessmentTotal * {scale}).exp()'}). \\\n",
    "    extend({'total': 'probability.sum()'},\n",
    "           partition_by='subjectID'). \\\n",
    "    extend({'probability': 'probability/total'}). \\\n",
    "    extend({'sort_key': '-probability'}). \\\n",
    "    extend({'row_number': '_row_number()'},\n",
    "           partition_by=['subjectID'],\n",
    "           order_by=['sort_key']). \\\n",
    "    select_rows('row_number == 1'). \\\n",
    "    select_columns(['subjectID', 'surveyCategory', 'probability']). \\\n",
    "    rename_columns({'diagnosis': 'surveyCategory'})"
   ]
  },
  {
   "cell_type": "markdown",
   "metadata": {
    "pycharm": {
     "name": "#%% md\n"
    }
   },
   "source": [
    "We are deliberately writing a longer pipeline of simple steps, so we can use the same pipeline locally with Pandas, and (potentially) great scale with `PostgreSQL` or Apache `Spark`.  A more concise variation of this pipeline can be found in the R example [here](https://github.com/WinVector/rquery).\n",
    "\n",
    "The intent is: the user can build up very sophisticated processing pipelines using a small number of primitive steps.  The pipelines tend to be long, but can still be very efficient- as they are well suited for use with `Pandas` and with `SQL` query optimizers.  Most of the heavy lifting is performed by the  very powerful \"window functions\" (triggered by use of `partition_by` and `order_by`) available on the `extend()` step.  Multiple statements can be combined into extend steps, but only when they have the same window-structure, and don't create and use the same value name in the same statement (except for replacement, which is shown in this example).  Many conditions are checked and enforced during pipeline construction, making debugging very easy.\n",
    "\n",
    "For a more Pythonic way of writing the same pipeline we can show how the code would have been formatted by [`black`](https://github.com/psf/black).\n"
   ]
  },
  {
   "cell_type": "code",
   "execution_count": 6,
   "metadata": {
    "collapsed": false,
    "jupyter": {
     "outputs_hidden": false
    },
    "pycharm": {
     "name": "#%%\n"
    }
   },
   "outputs": [
    {
     "name": "stdout",
     "output_type": "stream",
     "text": [
      "TableDescription(\n",
      "    table_name=\"d\",\n",
      "    column_names=[\n",
      "        \"subjectID\",\n",
      "        \"surveyCategory\",\n",
      "        \"assessmentTotal\",\n",
      "        \"irrelevantCol1\",\n",
      "        \"irrelevantCol2\",\n",
      "    ],\n",
      ").extend({\"probability\": \"(assessmentTotal * 0.237).exp()\"}).extend(\n",
      "    {\"total\": \"probability.sum()\"}, partition_by=[\"subjectID\"]\n",
      ").extend(\n",
      "    {\"probability\": \"probability / total\"}\n",
      ").extend(\n",
      "    {\"sort_key\": \"-probability\"}\n",
      ").extend(\n",
      "    {\"row_number\": \"_row_number()\"}, partition_by=[\"subjectID\"], order_by=[\"sort_key\"]\n",
      ").select_rows(\n",
      "    \"row_number == 1\"\n",
      ").select_columns(\n",
      "    [\"subjectID\", \"surveyCategory\", \"probability\"]\n",
      ").rename_columns(\n",
      "    {\"diagnosis\": \"surveyCategory\"}\n",
      ")\n",
      "\n"
     ]
    }
   ],
   "source": [
    "py_source = ops.to_python(pretty=True)\n",
    "print(py_source)"
   ]
  },
  {
   "cell_type": "markdown",
   "metadata": {
    "pycharm": {
     "name": "#%% md\n"
    }
   },
   "source": [
    "In either case, the pipeline is read as a sequence of operations (top to bottom, and left to right).  What it is saying is:\n",
    "\n",
    "  * We start with a table named \"d\" that is known to have columns \"subjectID\", \"surveyCategory\", \"assessmentTotal\", \"irrelevantCol1\", and \"irrelevantCol2\".\n",
    "  * We produce a new table by transforming this table through a sequence of \"extend\" operations which add new columns.\n",
    "  \n",
    "    * The first `extend` computes `probability = exp(scale*assessmentTotal)`, this is similar to the inverse-link step of a logistic regression. We assume when writing this pipeline we were given this math as a requirement.\n",
    "    * The next few `extend` steps total the `probability` per-subject (this is controlled by the `partition_by` argument) and then rank the normalized probabilities per-subject (grouping again specified by the `partition_by` argument, and order controlled by the `order_by` clause).\n",
    "    \n",
    "  * We then select the per-subject top-ranked rows by the `select_rows` step.\n",
    "  \n",
    "  * And finally we clean up the results for presentation with the `select_columns`, `rename_columns`, and `order_rows` steps.  The names of these methods are intended to evoke what they do.\n",
    "  \n",
    "The point is: each step is deliberately so trivial one can reason about it. However the many steps in sequence do quite a lot.\n",
    "\n",
    "### `SQL`\n",
    "\n",
    "Once we have the `ops` object we can do quite a lot with it. We have already exhibited the pretty-printing of the pipeline. Next we demonstrate translating the operator pipeline into `SQL`.\n"
   ]
  },
  {
   "cell_type": "code",
   "execution_count": 7,
   "metadata": {
    "collapsed": false,
    "jupyter": {
     "outputs_hidden": false
    },
    "pycharm": {
     "name": "#%%\n"
    }
   },
   "outputs": [
    {
     "name": "stdout",
     "output_type": "stream",
     "text": [
      "SELECT \"surveyCategory\" AS \"diagnosis\",\n",
      "       \"subjectID\",\n",
      "       \"probability\"\n",
      "FROM\n",
      "  (SELECT \"surveyCategory\",\n",
      "          \"subjectID\",\n",
      "          \"probability\"\n",
      "   FROM\n",
      "     (SELECT \"surveyCategory\",\n",
      "             \"subjectID\",\n",
      "             \"probability\",\n",
      "             ROW_NUMBER() OVER (PARTITION BY \"subjectID\"\n",
      "                                ORDER BY \"sort_key\") AS \"row_number\"\n",
      "      FROM\n",
      "        (SELECT \"surveyCategory\",\n",
      "                \"subjectID\",\n",
      "                \"probability\", -(\"probability\") AS \"sort_key\"\n",
      "         FROM\n",
      "           (SELECT \"surveyCategory\",\n",
      "                   \"subjectID\",\n",
      "                   \"probability\" / \"total\" AS \"probability\"\n",
      "            FROM\n",
      "              (SELECT \"surveyCategory\",\n",
      "                      \"subjectID\",\n",
      "                      \"probability\",\n",
      "                      SUM(\"probability\") OVER (PARTITION BY \"subjectID\") AS \"total\"\n",
      "               FROM\n",
      "                 (SELECT \"surveyCategory\",\n",
      "                         \"subjectID\",\n",
      "                         EXP((\"assessmentTotal\" * 0.237)) AS \"probability\"\n",
      "                  FROM\n",
      "                    (SELECT surveyCategory AS \"surveyCategory\",\n",
      "                            subjectID AS \"subjectID\",\n",
      "                            assessmentTotal AS \"assessmentTotal\"\n",
      "                     FROM \"d\") \"table_reference_0\") \"extend_1\") \"extend_2\") \"extend_3\") \"extend_4\") \"extend_5\"\n",
      "   WHERE \"row_number\" = 1 ) \"select_rows_6\"\n"
     ]
    }
   ],
   "source": [
    "sql = ops.to_sql(db_model, pretty=True)\n",
    "print(sql)"
   ]
  },
  {
   "cell_type": "markdown",
   "metadata": {
    "pycharm": {
     "name": "#%% md\n"
    }
   },
   "source": [
    "\n",
    "The `SQL` can be hard to read, as `SQL` expresses composition by inner-nesting (inside `SELECT` statements happen first).  The operator pipeline expresses composition by sequencing or method-chaining, which can be a lot more legible.  However the huge advantage of the `SQL` is: we can send it to the database for execution, as we do now.\n",
    "\n",
    "Also notice the generate `SQL` has applied query narrowing: columns not used in the outer queries are removed from the inner queries. The \"irrelevant\" columns are not carried into the calculation as they would be with a `SELECT *`.  This early optimization comes in quite handy.\n"
   ]
  },
  {
   "cell_type": "code",
   "execution_count": 8,
   "metadata": {
    "collapsed": false,
    "jupyter": {
     "outputs_hidden": false
    },
    "pycharm": {
     "name": "#%%\n"
    }
   },
   "outputs": [
    {
     "data": {
      "text/plain": "             diagnosis  subjectID  probability\n0  withdrawal behavior          1     0.670622\n1  positive re-framing          2     0.558974",
      "text/html": "<div>\n<style scoped>\n    .dataframe tbody tr th:only-of-type {\n        vertical-align: middle;\n    }\n\n    .dataframe tbody tr th {\n        vertical-align: top;\n    }\n\n    .dataframe thead th {\n        text-align: right;\n    }\n</style>\n<table border=\"1\" class=\"dataframe\">\n  <thead>\n    <tr style=\"text-align: right;\">\n      <th></th>\n      <th>diagnosis</th>\n      <th>subjectID</th>\n      <th>probability</th>\n    </tr>\n  </thead>\n  <tbody>\n    <tr>\n      <th>0</th>\n      <td>withdrawal behavior</td>\n      <td>1</td>\n      <td>0.670622</td>\n    </tr>\n    <tr>\n      <th>1</th>\n      <td>positive re-framing</td>\n      <td>2</td>\n      <td>0.558974</td>\n    </tr>\n  </tbody>\n</table>\n</div>"
     },
     "execution_count": 8,
     "metadata": {},
     "output_type": "execute_result"
    }
   ],
   "source": [
    "db_model.read_query(conn, sql)"
   ]
  },
  {
   "cell_type": "markdown",
   "metadata": {},
   "source": [
    "\n",
    "\n",
    "What comes back is: one row per subject, with the highest per-subject diagnosis and the estimated probability. Again, the math of this is outside the scope of this note (think of that as something coming from a specification)- the ability to write such a pipeline is our actual topic.\n",
    "\n",
    "The hope is that the `data_algebra` pipeline is easier to read, write, and maintain than the `SQL` query. If we wanted to change the calculation we would just add a stage to the `data_algebra` pipeline and then regenerate the `SQL` query.\n",
    "\n",
    "### `Pandas`\n",
    "\n",
    "An advantage of the pipeline is it can also be directly used on `Pandas` `DataFrame`s. Let's see how that is achieved.\n"
   ]
  },
  {
   "cell_type": "code",
   "execution_count": 9,
   "metadata": {
    "collapsed": false,
    "jupyter": {
     "outputs_hidden": false
    },
    "pycharm": {
     "name": "#%%\n"
    }
   },
   "outputs": [
    {
     "data": {
      "text/plain": "   subjectID            diagnosis  probability\n0          1  withdrawal behavior     0.670622\n1          2  positive re-framing     0.558974",
      "text/html": "<div>\n<style scoped>\n    .dataframe tbody tr th:only-of-type {\n        vertical-align: middle;\n    }\n\n    .dataframe tbody tr th {\n        vertical-align: top;\n    }\n\n    .dataframe thead th {\n        text-align: right;\n    }\n</style>\n<table border=\"1\" class=\"dataframe\">\n  <thead>\n    <tr style=\"text-align: right;\">\n      <th></th>\n      <th>subjectID</th>\n      <th>diagnosis</th>\n      <th>probability</th>\n    </tr>\n  </thead>\n  <tbody>\n    <tr>\n      <th>0</th>\n      <td>1</td>\n      <td>withdrawal behavior</td>\n      <td>0.670622</td>\n    </tr>\n    <tr>\n      <th>1</th>\n      <td>2</td>\n      <td>positive re-framing</td>\n      <td>0.558974</td>\n    </tr>\n  </tbody>\n</table>\n</div>"
     },
     "execution_count": 9,
     "metadata": {},
     "output_type": "execute_result"
    }
   ],
   "source": [
    "ops.eval({'d': d_local})"
   ]
  },
  {
   "cell_type": "markdown",
   "metadata": {},
   "source": [
    "\n",
    "\n",
    "There is also a shorthand notation for single table source pipelines:\n"
   ]
  },
  {
   "cell_type": "code",
   "execution_count": 10,
   "metadata": {
    "collapsed": false,
    "jupyter": {
     "outputs_hidden": false
    },
    "pycharm": {
     "name": "#%%\n"
    }
   },
   "outputs": [
    {
     "data": {
      "text/plain": "   subjectID            diagnosis  probability\n0          1  withdrawal behavior     0.670622\n1          2  positive re-framing     0.558974",
      "text/html": "<div>\n<style scoped>\n    .dataframe tbody tr th:only-of-type {\n        vertical-align: middle;\n    }\n\n    .dataframe tbody tr th {\n        vertical-align: top;\n    }\n\n    .dataframe thead th {\n        text-align: right;\n    }\n</style>\n<table border=\"1\" class=\"dataframe\">\n  <thead>\n    <tr style=\"text-align: right;\">\n      <th></th>\n      <th>subjectID</th>\n      <th>diagnosis</th>\n      <th>probability</th>\n    </tr>\n  </thead>\n  <tbody>\n    <tr>\n      <th>0</th>\n      <td>1</td>\n      <td>withdrawal behavior</td>\n      <td>0.670622</td>\n    </tr>\n    <tr>\n      <th>1</th>\n      <td>2</td>\n      <td>positive re-framing</td>\n      <td>0.558974</td>\n    </tr>\n  </tbody>\n</table>\n</div>"
     },
     "execution_count": 10,
     "metadata": {},
     "output_type": "execute_result"
    }
   ],
   "source": [
    "ops.transform(d_local)"
   ]
  },
  {
   "cell_type": "markdown",
   "metadata": {},
   "source": [
    "\n",
    "`eval` takes a dictionary of `Pandas` `DataFrame`s (names matching names specified in the pipeline) and returns the result of applying the pipeline to the data using `Pandas` commands.  Currently our `Pandas` implementation only allows very simple window functions.  This is why we didn't write `probability = probability/sum(probability)`, but instead broken the calculation into multiple steps by introducing the `total` column (the `SQL` realization does in fact support more complex window functions).  This is a small issue with the grammar: but our feeling encourage simple steps is in fact a good thing (improves debuggability), and in `SQL` the query optimizers likely optimize the different query styles into very similar realizations anyway.\n",
    "\n",
    "\n",
    "## Export/Import\n",
    "\n",
    "Because our operator pipeline is a `Python` object with no references to external objects (such as the database connection), it can be saved through standard methods such as \"[pickling](https://docs.python.org/3/library/pickle.html).\"\n",
    "\n",
    "We can also diagram the pipeline using graphviz.\n"
   ]
  },
  {
   "cell_type": "code",
   "execution_count": 11,
   "metadata": {
    "collapsed": false,
    "jupyter": {
     "outputs_hidden": false
    },
    "pycharm": {
     "name": "#%%\n"
    }
   },
   "outputs": [
    {
     "data": {
      "text/plain": "<graphviz.dot.Digraph at 0x7fe650723950>",
      "image/svg+xml": "<?xml version=\"1.0\" encoding=\"UTF-8\" standalone=\"no\"?>\n<!DOCTYPE svg PUBLIC \"-//W3C//DTD SVG 1.1//EN\"\n \"http://www.w3.org/Graphics/SVG/1.1/DTD/svg11.dtd\">\n<!-- Generated by graphviz version 2.40.1 (20161225.0304)\n -->\n<!-- Title: %3 Pages: 1 -->\n<svg width=\"356pt\" height=\"838pt\"\n viewBox=\"0.00 0.00 356.00 838.00\" xmlns=\"http://www.w3.org/2000/svg\" xmlns:xlink=\"http://www.w3.org/1999/xlink\">\n<g id=\"graph0\" class=\"graph\" transform=\"scale(1 1) rotate(0) translate(4 834)\">\n<title>%3</title>\n<polygon fill=\"#ffffff\" stroke=\"transparent\" points=\"-4,4 -4,-834 352,-834 352,4 -4,4\"/>\n<!-- 0 -->\n<g id=\"node1\" class=\"node\">\n<title>0</title>\n<polygon fill=\"none\" stroke=\"#0000ff\" points=\"249.5,-830 246.5,-834 225.5,-834 222.5,-830 98.5,-830 98.5,-672 249.5,-672 249.5,-830\"/>\n<text text-anchor=\"middle\" x=\"174\" y=\"-814.8\" font-family=\"Times,serif\" font-size=\"14.00\" fill=\"#000000\">TableDescription(</text>\n<text text-anchor=\"middle\" x=\"174\" y=\"-799.8\" font-family=\"Times,serif\" font-size=\"14.00\" fill=\"#000000\"> &#160;&#160;&#160;table_name=&quot;d&quot;,</text>\n<text text-anchor=\"middle\" x=\"174\" y=\"-784.8\" font-family=\"Times,serif\" font-size=\"14.00\" fill=\"#000000\"> &#160;&#160;&#160;column_names=[</text>\n<text text-anchor=\"middle\" x=\"174\" y=\"-769.8\" font-family=\"Times,serif\" font-size=\"14.00\" fill=\"#000000\"> &#160;&#160;&#160;&#160;&#160;&#160;&#160;&quot;subjectID&quot;,</text>\n<text text-anchor=\"middle\" x=\"174\" y=\"-754.8\" font-family=\"Times,serif\" font-size=\"14.00\" fill=\"#000000\"> &#160;&#160;&#160;&#160;&#160;&#160;&#160;&quot;surveyCategory&quot;,</text>\n<text text-anchor=\"middle\" x=\"174\" y=\"-739.8\" font-family=\"Times,serif\" font-size=\"14.00\" fill=\"#000000\"> &#160;&#160;&#160;&#160;&#160;&#160;&#160;&quot;assessmentTotal&quot;,</text>\n<text text-anchor=\"middle\" x=\"174\" y=\"-724.8\" font-family=\"Times,serif\" font-size=\"14.00\" fill=\"#000000\"> &#160;&#160;&#160;&#160;&#160;&#160;&#160;&quot;irrelevantCol1&quot;,</text>\n<text text-anchor=\"middle\" x=\"174\" y=\"-709.8\" font-family=\"Times,serif\" font-size=\"14.00\" fill=\"#000000\"> &#160;&#160;&#160;&#160;&#160;&#160;&#160;&quot;irrelevantCol2&quot;,</text>\n<text text-anchor=\"middle\" x=\"174\" y=\"-694.8\" font-family=\"Times,serif\" font-size=\"14.00\" fill=\"#000000\"> &#160;&#160;&#160;],</text>\n<text text-anchor=\"middle\" x=\"174\" y=\"-679.8\" font-family=\"Times,serif\" font-size=\"14.00\" fill=\"#000000\">)</text>\n</g>\n<!-- 1 -->\n<g id=\"node2\" class=\"node\">\n<title>1</title>\n<polygon fill=\"none\" stroke=\"#006400\" points=\"342,-636 0,-636 0,-600 348,-600 348,-630 342,-636\"/>\n<polyline fill=\"none\" stroke=\"#006400\" points=\"342,-636 342,-630 \"/>\n<polyline fill=\"none\" stroke=\"#006400\" points=\"348,-630 342,-630 \"/>\n<text text-anchor=\"middle\" x=\"174\" y=\"-614.3\" font-family=\"Times,serif\" font-size=\"14.00\" fill=\"#000000\">extend({&quot;probability&quot;: &quot;(assessmentTotal * 0.237).exp()&quot;})</text>\n</g>\n<!-- 0&#45;&gt;1 -->\n<g id=\"edge1\" class=\"edge\">\n<title>0&#45;&gt;1</title>\n<path fill=\"none\" stroke=\"#000000\" d=\"M174,-671.7128C174,-662.6382 174,-653.8937 174,-646.1901\"/>\n<polygon fill=\"#000000\" stroke=\"#000000\" points=\"177.5001,-646.0667 174,-636.0667 170.5001,-646.0668 177.5001,-646.0667\"/>\n</g>\n<!-- 2 -->\n<g id=\"node3\" class=\"node\">\n<title>2</title>\n<polygon fill=\"none\" stroke=\"#006400\" points=\"268,-564 74,-564 74,-496 274,-496 274,-558 268,-564\"/>\n<polyline fill=\"none\" stroke=\"#006400\" points=\"268,-564 268,-558 \"/>\n<polyline fill=\"none\" stroke=\"#006400\" points=\"274,-558 268,-558 \"/>\n<text text-anchor=\"middle\" x=\"174\" y=\"-548.8\" font-family=\"Times,serif\" font-size=\"14.00\" fill=\"#000000\">extend(</text>\n<text text-anchor=\"middle\" x=\"174\" y=\"-533.8\" font-family=\"Times,serif\" font-size=\"14.00\" fill=\"#000000\"> &#160;&#160;&#160;{&quot;total&quot;: &quot;probability.sum()&quot;},</text>\n<text text-anchor=\"middle\" x=\"174\" y=\"-518.8\" font-family=\"Times,serif\" font-size=\"14.00\" fill=\"#000000\"> &#160;&#160;&#160;partition_by=[&quot;subjectID&quot;],</text>\n<text text-anchor=\"middle\" x=\"174\" y=\"-503.8\" font-family=\"Times,serif\" font-size=\"14.00\" fill=\"#000000\">)</text>\n</g>\n<!-- 1&#45;&gt;2 -->\n<g id=\"edge2\" class=\"edge\">\n<title>1&#45;&gt;2</title>\n<path fill=\"none\" stroke=\"#000000\" d=\"M174,-599.7663C174,-592.3045 174,-583.3162 174,-574.3106\"/>\n<polygon fill=\"#000000\" stroke=\"#000000\" points=\"177.5001,-574.216 174,-564.216 170.5001,-574.216 177.5001,-574.216\"/>\n</g>\n<!-- 3 -->\n<g id=\"node4\" class=\"node\">\n<title>3</title>\n<polygon fill=\"none\" stroke=\"#006400\" points=\"300.5,-460 41.5,-460 41.5,-424 306.5,-424 306.5,-454 300.5,-460\"/>\n<polyline fill=\"none\" stroke=\"#006400\" points=\"300.5,-460 300.5,-454 \"/>\n<polyline fill=\"none\" stroke=\"#006400\" points=\"306.5,-454 300.5,-454 \"/>\n<text text-anchor=\"middle\" x=\"174\" y=\"-438.3\" font-family=\"Times,serif\" font-size=\"14.00\" fill=\"#000000\">extend({&quot;probability&quot;: &quot;probability / total&quot;})</text>\n</g>\n<!-- 2&#45;&gt;3 -->\n<g id=\"edge3\" class=\"edge\">\n<title>2&#45;&gt;3</title>\n<path fill=\"none\" stroke=\"#000000\" d=\"M174,-495.9769C174,-487.5023 174,-478.5065 174,-470.3388\"/>\n<polygon fill=\"#000000\" stroke=\"#000000\" points=\"177.5001,-470.1919 174,-460.192 170.5001,-470.192 177.5001,-470.1919\"/>\n</g>\n<!-- 4 -->\n<g id=\"node5\" class=\"node\">\n<title>4</title>\n<polygon fill=\"none\" stroke=\"#006400\" points=\"278.5,-388 63.5,-388 63.5,-352 284.5,-352 284.5,-382 278.5,-388\"/>\n<polyline fill=\"none\" stroke=\"#006400\" points=\"278.5,-388 278.5,-382 \"/>\n<polyline fill=\"none\" stroke=\"#006400\" points=\"284.5,-382 278.5,-382 \"/>\n<text text-anchor=\"middle\" x=\"174\" y=\"-366.3\" font-family=\"Times,serif\" font-size=\"14.00\" fill=\"#000000\">extend({&quot;sort_key&quot;: &quot;&#45;probability&quot;})</text>\n</g>\n<!-- 3&#45;&gt;4 -->\n<g id=\"edge4\" class=\"edge\">\n<title>3&#45;&gt;4</title>\n<path fill=\"none\" stroke=\"#000000\" d=\"M174,-423.8314C174,-416.131 174,-406.9743 174,-398.4166\"/>\n<polygon fill=\"#000000\" stroke=\"#000000\" points=\"177.5001,-398.4132 174,-388.4133 170.5001,-398.4133 177.5001,-398.4132\"/>\n</g>\n<!-- 5 -->\n<g id=\"node6\" class=\"node\">\n<title>5</title>\n<polygon fill=\"none\" stroke=\"#006400\" points=\"286.5,-316 55.5,-316 55.5,-233 292.5,-233 292.5,-310 286.5,-316\"/>\n<polyline fill=\"none\" stroke=\"#006400\" points=\"286.5,-316 286.5,-310 \"/>\n<polyline fill=\"none\" stroke=\"#006400\" points=\"292.5,-310 286.5,-310 \"/>\n<text text-anchor=\"middle\" x=\"174\" y=\"-300.8\" font-family=\"Times,serif\" font-size=\"14.00\" fill=\"#000000\">extend(</text>\n<text text-anchor=\"middle\" x=\"174\" y=\"-285.8\" font-family=\"Times,serif\" font-size=\"14.00\" fill=\"#000000\"> &#160;&#160;&#160;{&quot;row_number&quot;: &quot;_row_number()&quot;},</text>\n<text text-anchor=\"middle\" x=\"174\" y=\"-270.8\" font-family=\"Times,serif\" font-size=\"14.00\" fill=\"#000000\"> &#160;&#160;&#160;partition_by=[&quot;subjectID&quot;],</text>\n<text text-anchor=\"middle\" x=\"174\" y=\"-255.8\" font-family=\"Times,serif\" font-size=\"14.00\" fill=\"#000000\"> &#160;&#160;&#160;order_by=[&quot;sort_key&quot;],</text>\n<text text-anchor=\"middle\" x=\"174\" y=\"-240.8\" font-family=\"Times,serif\" font-size=\"14.00\" fill=\"#000000\">)</text>\n</g>\n<!-- 4&#45;&gt;5 -->\n<g id=\"edge5\" class=\"edge\">\n<title>4&#45;&gt;5</title>\n<path fill=\"none\" stroke=\"#000000\" d=\"M174,-351.5866C174,-344.2618 174,-335.4333 174,-326.4051\"/>\n<polygon fill=\"#000000\" stroke=\"#000000\" points=\"177.5001,-326.1966 174,-316.1967 170.5001,-326.1967 177.5001,-326.1966\"/>\n</g>\n<!-- 6 -->\n<g id=\"node7\" class=\"node\">\n<title>6</title>\n<polygon fill=\"none\" stroke=\"#006400\" points=\"270.5,-197 71.5,-197 71.5,-161 276.5,-161 276.5,-191 270.5,-197\"/>\n<polyline fill=\"none\" stroke=\"#006400\" points=\"270.5,-197 270.5,-191 \"/>\n<polyline fill=\"none\" stroke=\"#006400\" points=\"276.5,-191 270.5,-191 \"/>\n<text text-anchor=\"middle\" x=\"174\" y=\"-175.3\" font-family=\"Times,serif\" font-size=\"14.00\" fill=\"#000000\">select_rows(&quot;row_number == 1&quot;)</text>\n</g>\n<!-- 5&#45;&gt;6 -->\n<g id=\"edge6\" class=\"edge\">\n<title>5&#45;&gt;6</title>\n<path fill=\"none\" stroke=\"#000000\" d=\"M174,-232.8901C174,-224.3201 174,-215.4817 174,-207.5041\"/>\n<polygon fill=\"#000000\" stroke=\"#000000\" points=\"177.5001,-207.2651 174,-197.2651 170.5001,-207.2651 177.5001,-207.2651\"/>\n</g>\n<!-- 7 -->\n<g id=\"node8\" class=\"node\">\n<title>7</title>\n<polygon fill=\"none\" stroke=\"#006400\" points=\"314.5,-125 27.5,-125 27.5,-72 320.5,-72 320.5,-119 314.5,-125\"/>\n<polyline fill=\"none\" stroke=\"#006400\" points=\"314.5,-125 314.5,-119 \"/>\n<polyline fill=\"none\" stroke=\"#006400\" points=\"320.5,-119 314.5,-119 \"/>\n<text text-anchor=\"middle\" x=\"174\" y=\"-109.8\" font-family=\"Times,serif\" font-size=\"14.00\" fill=\"#000000\">select_columns(</text>\n<text text-anchor=\"middle\" x=\"174\" y=\"-94.8\" font-family=\"Times,serif\" font-size=\"14.00\" fill=\"#000000\"> &#160;&#160;&#160;[&quot;subjectID&quot;, &quot;surveyCategory&quot;, &quot;probability&quot;]</text>\n<text text-anchor=\"middle\" x=\"174\" y=\"-79.8\" font-family=\"Times,serif\" font-size=\"14.00\" fill=\"#000000\">)</text>\n</g>\n<!-- 6&#45;&gt;7 -->\n<g id=\"edge7\" class=\"edge\">\n<title>6&#45;&gt;7</title>\n<path fill=\"none\" stroke=\"#000000\" d=\"M174,-160.7333C174,-153.1981 174,-144.1801 174,-135.3786\"/>\n<polygon fill=\"#000000\" stroke=\"#000000\" points=\"177.5001,-135.2476 174,-125.2477 170.5001,-135.2477 177.5001,-135.2476\"/>\n</g>\n<!-- 8 -->\n<g id=\"node9\" class=\"node\">\n<title>8</title>\n<polygon fill=\"none\" stroke=\"#006400\" points=\"321.5,-36 20.5,-36 20.5,0 327.5,0 327.5,-30 321.5,-36\"/>\n<polyline fill=\"none\" stroke=\"#006400\" points=\"321.5,-36 321.5,-30 \"/>\n<polyline fill=\"none\" stroke=\"#006400\" points=\"327.5,-30 321.5,-30 \"/>\n<text text-anchor=\"middle\" x=\"174\" y=\"-14.3\" font-family=\"Times,serif\" font-size=\"14.00\" fill=\"#000000\">rename_columns({&quot;diagnosis&quot;: &quot;surveyCategory&quot;})</text>\n</g>\n<!-- 7&#45;&gt;8 -->\n<g id=\"edge8\" class=\"edge\">\n<title>7&#45;&gt;8</title>\n<path fill=\"none\" stroke=\"#000000\" d=\"M174,-71.6947C174,-63.462 174,-54.3814 174,-46.0667\"/>\n<polygon fill=\"#000000\" stroke=\"#000000\" points=\"177.5001,-46.0657 174,-36.0658 170.5001,-46.0658 177.5001,-46.0657\"/>\n</g>\n</g>\n</svg>\n"
     },
     "execution_count": 11,
     "metadata": {},
     "output_type": "execute_result"
    }
   ],
   "source": [
    "import graphviz\n",
    "\n",
    "import data_algebra.diagram\n",
    "\n",
    "dot = data_algebra.diagram.to_digraph(ops)\n",
    "dot"
   ]
  },
  {
   "cell_type": "markdown",
   "metadata": {},
   "source": [
    "\n",
    "## Advantages of `data_algebra`\n",
    "\n",
    "A `data_algebra` operator pipeline carries around usable knowledge of the data transform.\n",
    "\n",
    "For example:\n"
   ]
  },
  {
   "cell_type": "code",
   "execution_count": 12,
   "metadata": {
    "collapsed": false,
    "jupyter": {
     "outputs_hidden": false
    },
    "pycharm": {
     "name": "#%%\n"
    }
   },
   "outputs": [
    {
     "data": {
      "text/plain": "{'d': {'assessmentTotal', 'subjectID', 'surveyCategory'}}"
     },
     "execution_count": 12,
     "metadata": {},
     "output_type": "execute_result"
    }
   ],
   "source": [
    "# report all source table columns used by the query\n",
    "ops.columns_used()"
   ]
  },
  {
   "cell_type": "markdown",
   "metadata": {},
   "source": []
  },
  {
   "cell_type": "code",
   "execution_count": 13,
   "metadata": {
    "collapsed": false,
    "jupyter": {
     "outputs_hidden": false
    },
    "pycharm": {
     "name": "#%%\n"
    }
   },
   "outputs": [
    {
     "data": {
      "text/plain": "['subjectID', 'diagnosis', 'probability']"
     },
     "execution_count": 13,
     "metadata": {},
     "output_type": "execute_result"
    }
   ],
   "source": [
    "# what columns does this operation produce?\n",
    "ops.column_names"
   ]
  },
  {
   "cell_type": "markdown",
   "metadata": {},
   "source": [
    "## Conclusion\n",
    "\n",
    "The `data_algebra` is part of a powerful cross-language and mutli-implementaiton family data manipulation tools. These tools can greatly reduce the development and maintenance cost of data science projects, while improving the documentation of project intent.\n",
    "\n",
    "[Win Vector LLC](http://www.win-vector.com/) is looking for sponsors and partners to further the package.  In particular if your group is using both `R` and `Python` in big-data projects (where `SQL` is a need, including [`Apache Spark`](https://spark.apache.org)), or are porting a project from one of these languages to another- please get in touch.\n",
    "\n"
   ]
  },
  {
   "cell_type": "code",
   "execution_count": 14,
   "metadata": {
    "collapsed": false,
    "jupyter": {
     "outputs_hidden": false
    },
    "pycharm": {
     "name": "#%%\n"
    }
   },
   "outputs": [],
   "source": [
    "# be neat\n",
    "conn.close()"
   ]
  },
  {
   "cell_type": "markdown",
   "metadata": {},
   "source": [
    "Note: as with `SQL` the `data_algebra` assumes the processing pipeline is a [`DAG`](https://en.wikipedia.org/wiki/Directed_acyclic_graph) with only table-nodes used more than once.\n",
    "\n",
    "[Known to not work with Pandas 0.25.1 on Python 3.7](https://github.com/pandas-dev/pandas/issues/29819) (newer Pandas fixes the issue).\n"
   ]
  }
 ],
 "metadata": {
  "kernelspec": {
   "display_name": "Python 3",
   "language": "python",
   "name": "python3"
  },
  "language_info": {
   "codemirror_mode": {
    "name": "ipython",
    "version": 3
   },
   "file_extension": ".py",
   "mimetype": "text/x-python",
   "name": "python",
   "nbconvert_exporter": "python",
   "pygments_lexer": "ipython3",
   "version": "3.7.7"
  }
 },
 "nbformat": 4,
 "nbformat_minor": 4
}