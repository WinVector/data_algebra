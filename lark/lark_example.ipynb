{
 "cells": [
  {
   "cell_type": "code",
   "execution_count": 11,
   "metadata": {
    "collapsed": true
   },
   "outputs": [
    {
     "name": "stdout",
     "output_type": "stream",
     "text": [
      "single_input\n",
      "  arith_expr\n",
      "    number\t1\n",
      "    +\n",
      "    funccall\n",
      "      getattr\n",
      "        var\ta\n",
      "        sq\n",
      "\n"
     ]
    }
   ],
   "source": [
    "\n",
    "from lark import Lark\n",
    "\n",
    "kwargs = {\n",
    "    'start': 'single_input',\n",
    "    }\n",
    "\n",
    "parser = Lark.open(\n",
    "    'python3.lark',\n",
    "    parser='lalr',\n",
    "    **kwargs)\n",
    "\n",
    "tree = parser.parse('1 + a.sq()\\n')\n",
    "\n",
    "print(tree.pretty())"
   ]
  }
 ],
 "metadata": {
  "kernelspec": {
   "display_name": "Python 3",
   "language": "python",
   "name": "python3"
  },
  "language_info": {
   "codemirror_mode": {
    "name": "ipython",
    "version": 2
   },
   "file_extension": ".py",
   "mimetype": "text/x-python",
   "name": "python",
   "nbconvert_exporter": "python",
   "pygments_lexer": "ipython2",
   "version": "2.7.6"
  }
 },
 "nbformat": 4,
 "nbformat_minor": 0
}