{
 "cells": [
  {
   "cell_type": "code",
   "execution_count": 5,
   "metadata": {
    "collapsed": true,
    "pycharm": {
     "name": "#%%\n"
    }
   },
   "outputs": [
    {
     "name": "stdout",
     "output_type": "stream",
     "text": [
      "single_input\n",
      "  number\t1\n",
      "\n"
     ]
    }
   ],
   "source": [
    "\n",
    "import lark\n",
    "\n",
    "kwargs = {\n",
    "    'start': 'single_input',\n",
    "    }\n",
    "\n",
    "with open('../data_algebra/data/python3.lark', 'r') as f:\n",
    "    grammar = f.read()\n",
    "\n",
    "parser = lark.Lark(\n",
    "    grammar,\n",
    "    parser='lalr',\n",
    "    **kwargs)\n",
    "\n",
    "# tree = parser.parse('1 + a.sq(\"z\")\\n')\n",
    "tree = parser.parse('1\\n')\n",
    "\n",
    "print(tree.pretty())\n"
   ]
  }
 ],
 "metadata": {
  "kernelspec": {
   "display_name": "Python 3",
   "language": "python",
   "name": "python3"
  },
  "language_info": {
   "codemirror_mode": {
    "name": "ipython",
    "version": 2
   },
   "file_extension": ".py",
   "mimetype": "text/x-python",
   "name": "python",
   "nbconvert_exporter": "python",
   "pygments_lexer": "ipython2",
   "version": "2.7.6"
  }
 },
 "nbformat": 4,
 "nbformat_minor": 0
}