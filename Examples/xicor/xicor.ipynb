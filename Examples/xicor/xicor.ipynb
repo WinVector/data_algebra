{
 "cells": [
  {
   "cell_type": "markdown",
   "metadata": {
    "collapsed": true,
    "pycharm": {
     "name": "#%% md\n"
    }
   },
   "source": [
    "Professor Sourav Chatterjee's xicor coefficient of correlation (<a href=\"https://win-vector.com/2021/12/26/how-to-read-sourav-chatterjees-basic-xicor-defenition/\">our note</a>, <a href=\"https://doi.org/10.1080/01621459.2020.1758115\">JASA</a>; original sources: <a href=\"https://CRAN.R-project.org/package=XICOR\">R package</a>, <a href=\"https://arxiv.org/abs/1909.10140\">Arxiv</a>, <a href=\"https://news.ycombinator.com/item?id=29687613\">Hacker News</a>, and <a href=\"https://github.com/czbiohub/xicor\">a Python package</a> (different author))."
   ]
  },
  {
   "cell_type": "code",
   "execution_count": null,
   "outputs": [],
   "source": [
    "import pandas as pd\n",
    "import numpy as np\n",
    "from data_algebra.data_ops import *\n",
    "\n",
    "def xicor(x, y):\n",
    "    d = pd.DataFrame({'x': x, 'y': y})\n",
    "    n = d.shape[0]\n",
    "    d['x_tie_breaker'] = np.random.choice(n, size=n, replace=False)\n",
    "    d['y_tie_breaker'] = np.random.choice(n, size=n, replace=False)\n",
    "    res_frame = ex(\n",
    "        data(d=d)\n",
    "            .extend(\n",
    "                {'r': '(1).cumsum()'},\n",
    "                order_by=['y', 'y_tie_breaker'])\n",
    "            .extend(\n",
    "                {'l': '(1).cumsum()'},\n",
    "                order_by=['y', 'y_tie_breaker'],\n",
    "                reverse=['y', 'y_tie_breaker'])\n",
    "            .extend(\n",
    "                {'rplus': 'r.shift()'},\n",
    "                order_by=['x', 'x_tie_breaker'],\n",
    "                reverse=['x', 'x_tie_breaker'])\n",
    "            .extend({'n': '(1).sum()'})\n",
    "            .extend(\n",
    "                {\n",
    "                    'rdiff': '(rplus - r).abs().coalesce_0()',\n",
    "                    'lterm': 'l * (n - l)',\n",
    "                })\n",
    "            .project(\n",
    "                {\n",
    "                    'num_sum': 'rdiff.sum()',\n",
    "                    'den_sum': 'lterm.sum()',\n",
    "                    'n': 'n.max()',  # pseudo-aggregation, column is constant\n",
    "                }\n",
    "                )\n",
    "            .extend({'xicor': '1 - n * num_sum / ( 2 * den_sum)'})\n",
    "            .select_columns('xicor')\n",
    "    )\n",
    "    return res_frame['xicor'].values[0]\n"
   ],
   "metadata": {
    "collapsed": false,
    "pycharm": {
     "name": "#%%\n"
    }
   }
  }
 ],
 "metadata": {
  "kernelspec": {
   "display_name": "Python 3",
   "language": "python",
   "name": "python3"
  },
  "language_info": {
   "codemirror_mode": {
    "name": "ipython",
    "version": 2
   },
   "file_extension": ".py",
   "mimetype": "text/x-python",
   "name": "python",
   "nbconvert_exporter": "python",
   "pygments_lexer": "ipython2",
   "version": "2.7.6"
  }
 },
 "nbformat": 4,
 "nbformat_minor": 0
}