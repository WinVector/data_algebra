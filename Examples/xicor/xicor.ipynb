{
 "cells": [
  {
   "cell_type": "markdown",
   "metadata": {
    "collapsed": true,
    "pycharm": {
     "name": "#%% md\n"
    }
   },
   "source": [
    "Professor Sourav Chatterjee's xicor coefficient of correlation (<a href=\"https://win-vector.com/2021/12/29/exploring-the-xi-correlation-coefficient/\">Nina Zumel's tutorial</a>, <a href=\"https://doi.org/10.1080/01621459.2020.1758115\">JASA</a>; original sources: <a href=\"https://CRAN.R-project.org/package=XICOR\">R package</a>, <a href=\"https://arxiv.org/abs/1909.10140\">Arxiv</a>, <a href=\"https://news.ycombinator.com/item?id=29687613\">Hacker News</a>, and <a href=\"https://github.com/czbiohub/xicor\">a Python package</a> (different author))."
   ]
  },
  {
   "cell_type": "code",
   "execution_count": 1,
   "outputs": [],
   "source": [
    "from typing import Iterable\n",
    "import numpy as np\n",
    "import pandas\n",
    "import pandas as pd\n",
    "from data_algebra.data_ops import descr, TableDescription, ViewRepresentation\n",
    "import data_algebra.BigQuery\n",
    "import yaml\n"
   ],
   "metadata": {
    "collapsed": false,
    "pycharm": {
     "name": "#%%\n"
    }
   }
  },
  {
   "cell_type": "code",
   "execution_count": 2,
   "outputs": [],
   "source": [
    "def xicor_query(\n",
    "        data: ViewRepresentation,\n",
    "        *,\n",
    "        x_name: str = 'x',\n",
    "        y_name: str = 'y',\n",
    "        var_keys: Iterable[str] = tuple()):\n",
    "    \"\"\"\n",
    "    Build a query computing the xicor of y_name as a function of x_name for each var_keys group of rows.\n",
    "    Ref: https://arxiv.org/abs/1909.10140\n",
    "\n",
    "    xicor(x, y) : 1 - n sum(i = 0, n-2) |r(i+1) - r(i)| / (2 * sum(i=0, n-1) l(i) (n - l(i)),\n",
    "    where r(i) is the rank of the i-th Y item when ordered by x, and l(i) is the reverse rank of\n",
    "    the l-th Y item.\n",
    "\n",
    "    :param x_name: name for explanatory variable column.\n",
    "    :param y_name: name for dependent variable column.\n",
    "    :param var_keys: list of names for variable id columns.\n",
    "    :param rep_id: name for repetition id column.\n",
    "    :return: data algebra query computing xicor.\n",
    "    \"\"\"\n",
    "    assert isinstance(x_name, str)\n",
    "    assert isinstance(y_name, str)\n",
    "    assert not isinstance(var_keys, str)\n",
    "    var_keys = list(var_keys)\n",
    "    x_tie_breaker = x_name + \"_tie_breaker\"\n",
    "    y_group = y_name + \"_group\"\n",
    "    names = [\n",
    "        x_name, y_name, x_tie_breaker, y_group,\n",
    "        'l', 'n', 'r',\n",
    "        'rplus', 'rdiff', 'lterm', 'num_sum', 'den_sum',\n",
    "        'xicor'\n",
    "        ] + var_keys\n",
    "    assert(len(names) == len(set(names)))\n",
    "    ops = (\n",
    "        data\n",
    "            .extend({y_group: f\"{y_name}.as_str()\"})  # Google BigQuery won't group by float\n",
    "            .extend({    # convert types, and add in tie breaking column\n",
    "                x_name: f\"1.0 * {x_name}\",\n",
    "                y_name: f\"1.0 * {y_name}\",\n",
    "                x_tie_breaker: \"_uniform()\"})\n",
    "            .extend(\n",
    "                {\"n\": \"(1).sum()\"}, partition_by=var_keys)  # annotate in number of rows\n",
    "            .extend(  # compute y ranks, that we will use to compare rank changes wrt x\n",
    "                {\"r\": \"(1).cumsum()\"}, order_by=[y_name], partition_by=var_keys)\n",
    "            .extend(  # compute reverse y ranks, used to normalize for ties in denominator\n",
    "                {\"l\": \"(1).cumsum()\"}, order_by=[y_name], reverse=[y_name], partition_by=var_keys)\n",
    "            .extend(  # go to max rank of group tie breaking\n",
    "                {\"l\": \"l.max()\", \"r\": \"r.max()\"}, partition_by=[y_group] + var_keys)\n",
    "            .extend(  # get y rank and y rank of next x-item into same row so we can take a difference\n",
    "                {\"rplus\": \"r.shift(1)\"},\n",
    "                order_by=[x_name, x_tie_breaker],\n",
    "                reverse=[x_name, x_tie_breaker],\n",
    "                partition_by=var_keys,\n",
    "                )\n",
    "            .extend(  # compute numerator and denominator terms\n",
    "                {\"rdiff\": \"((rplus - r).abs()).coalesce(0)\", \"lterm\": \"l * (n - l)\"})\n",
    "            .project(   # aggregate to compute sums in xicor definition\n",
    "                {\"num_sum\": \"rdiff.sum()\", \"den_sum\": \"lterm.sum()\",\n",
    "                 \"n\": \"n.max()\"  # pseudo-aggregation n is constant across rows\n",
    "                 },\n",
    "                group_by=var_keys,\n",
    "                )\n",
    "            .extend(  # apply actual xicor formula\n",
    "                {\"xicor\": \"1.0 - ((n * num_sum) / (2.0 * den_sum))\"})\n",
    "            .select_columns(var_keys + [\"xicor\"])\n",
    "        )\n",
    "    return ops"
   ],
   "metadata": {
    "collapsed": false,
    "pycharm": {
     "name": "#%%\n"
    }
   }
  },
  {
   "cell_type": "code",
   "execution_count": 3,
   "outputs": [],
   "source": [
    "x_y_ops = xicor_query(TableDescription(table_name='df', column_names=['x', 'y']))\n",
    "\n",
    "def xicor(x, y):\n",
    "    \"\"\"\n",
    "    Compute xicor of y treated as a function of x.\n",
    "\n",
    "    :param x: vector of explanatory variable values.\n",
    "    :param y: vector of dependent variable values.\n",
    "    :return: xicor score (floating point number).\n",
    "    \"\"\"\n",
    "\n",
    "    res_frame = x_y_ops.transform(pd.DataFrame({'x': x, 'y': y}))\n",
    "    return res_frame['xicor'].values[0]\n"
   ],
   "metadata": {
    "collapsed": false,
    "pycharm": {
     "name": "#%%\n"
    }
   }
  },
  {
   "cell_type": "code",
   "execution_count": 4,
   "outputs": [
    {
     "data": {
      "text/plain": "0.25"
     },
     "execution_count": 4,
     "metadata": {},
     "output_type": "execute_result"
    }
   ],
   "source": [
    "x1 = xicor([1, 2, 3], [1, 2, 3])  # expect 0.25\n",
    "assert x1 == 0.25\n",
    "x1"
   ],
   "metadata": {
    "collapsed": false,
    "pycharm": {
     "name": "#%%\n"
    }
   }
  },
  {
   "cell_type": "code",
   "execution_count": 5,
   "outputs": [
    {
     "data": {
      "text/plain": "0.25"
     },
     "execution_count": 5,
     "metadata": {},
     "output_type": "execute_result"
    }
   ],
   "source": [
    "x2 = xicor([1, 2, 3], [3, 2, 1])  # expect 0.25\n",
    "assert x2 == 0.25\n",
    "x2"
   ],
   "metadata": {
    "collapsed": false,
    "pycharm": {
     "name": "#%%\n"
    }
   }
  },
  {
   "cell_type": "code",
   "execution_count": 6,
   "outputs": [
    {
     "data": {
      "text/plain": "-0.125"
     },
     "execution_count": 6,
     "metadata": {},
     "output_type": "execute_result"
    }
   ],
   "source": [
    "x3 = xicor([1, 2, 3], [1, 3, 2])  # expect -0.125\n",
    "assert x3 == -0.125\n",
    "x3"
   ],
   "metadata": {
    "collapsed": false,
    "pycharm": {
     "name": "#%%\n"
    }
   }
  },
  {
   "cell_type": "code",
   "execution_count": 7,
   "outputs": [],
   "source": [
    "with open(\"examples.yaml\", \"r\") as in_f:\n",
    "   examples = yaml.safe_load(in_f)"
   ],
   "metadata": {
    "collapsed": false,
    "pycharm": {
     "name": "#%%\n"
    }
   }
  },
  {
   "cell_type": "code",
   "execution_count": 8,
   "outputs": [
    {
     "data": {
      "text/plain": "            x          y vname\n0    0.561595   0.084883   v_0\n1    0.035700   0.635105   v_0\n2    0.748017   0.133560   v_0\n3    0.663603   0.577371   v_0\n4    0.074035   0.214352   v_0\n..        ...        ...   ...\n995  0.360310   5.000000  v_49\n996  0.413419   2.000000  v_49\n997  0.224839   4.000000  v_49\n998  0.910356  10.000000  v_49\n999  0.845627   1.000000  v_49\n\n[1000 rows x 3 columns]",
      "text/html": "<div>\n<style scoped>\n    .dataframe tbody tr th:only-of-type {\n        vertical-align: middle;\n    }\n\n    .dataframe tbody tr th {\n        vertical-align: top;\n    }\n\n    .dataframe thead th {\n        text-align: right;\n    }\n</style>\n<table border=\"1\" class=\"dataframe\">\n  <thead>\n    <tr style=\"text-align: right;\">\n      <th></th>\n      <th>x</th>\n      <th>y</th>\n      <th>vname</th>\n    </tr>\n  </thead>\n  <tbody>\n    <tr>\n      <th>0</th>\n      <td>0.561595</td>\n      <td>0.084883</td>\n      <td>v_0</td>\n    </tr>\n    <tr>\n      <th>1</th>\n      <td>0.035700</td>\n      <td>0.635105</td>\n      <td>v_0</td>\n    </tr>\n    <tr>\n      <th>2</th>\n      <td>0.748017</td>\n      <td>0.133560</td>\n      <td>v_0</td>\n    </tr>\n    <tr>\n      <th>3</th>\n      <td>0.663603</td>\n      <td>0.577371</td>\n      <td>v_0</td>\n    </tr>\n    <tr>\n      <th>4</th>\n      <td>0.074035</td>\n      <td>0.214352</td>\n      <td>v_0</td>\n    </tr>\n    <tr>\n      <th>...</th>\n      <td>...</td>\n      <td>...</td>\n      <td>...</td>\n    </tr>\n    <tr>\n      <th>995</th>\n      <td>0.360310</td>\n      <td>5.000000</td>\n      <td>v_49</td>\n    </tr>\n    <tr>\n      <th>996</th>\n      <td>0.413419</td>\n      <td>2.000000</td>\n      <td>v_49</td>\n    </tr>\n    <tr>\n      <th>997</th>\n      <td>0.224839</td>\n      <td>4.000000</td>\n      <td>v_49</td>\n    </tr>\n    <tr>\n      <th>998</th>\n      <td>0.910356</td>\n      <td>10.000000</td>\n      <td>v_49</td>\n    </tr>\n    <tr>\n      <th>999</th>\n      <td>0.845627</td>\n      <td>1.000000</td>\n      <td>v_49</td>\n    </tr>\n  </tbody>\n</table>\n<p>1000 rows × 3 columns</p>\n</div>"
     },
     "execution_count": 8,
     "metadata": {},
     "output_type": "execute_result"
    }
   ],
   "source": [
    "def example_to_frame(ei):\n",
    "    \"encode an example into a data frame\"\n",
    "    example = examples[ei]\n",
    "    a = example['a']\n",
    "    b = example['b']\n",
    "    return pd.DataFrame({'x': a, 'y': b, 'vname': f'v_{ei}'})\n",
    "\n",
    "example_frames = [example_to_frame(ei) for ei in range(len(examples))]\n",
    "example_frames = pd.concat(example_frames).reset_index(drop=True, inplace=False)\n",
    "\n",
    "example_frames"
   ],
   "metadata": {
    "collapsed": false,
    "pycharm": {
     "name": "#%%\n"
    }
   }
  },
  {
   "cell_type": "code",
   "execution_count": 9,
   "outputs": [],
   "source": [
    "rep_frame = pd.DataFrame({\n",
    "    'rep': range(100)\n",
    "})\n"
   ],
   "metadata": {
    "collapsed": false,
    "pycharm": {
     "name": "#%%\n"
    }
   }
  },
  {
   "cell_type": "code",
   "execution_count": 10,
   "outputs": [
    {
     "data": {
      "text/plain": "   vname  xicor_mean  xicor_std\n0    v_0   -0.067669   0.000000\n1    v_1   -0.007519   0.000000\n2   v_10   -0.046758   0.101408\n3   v_11   -0.003308   0.084650\n4   v_12   -0.133595   0.120476\n5   v_13    0.069973   0.000000\n6   v_14   -0.046917   0.081213\n7   v_15    0.187075   0.097869\n8   v_16   -0.022156   0.098955\n9   v_17   -0.049518   0.107321\n10  v_18   -0.147787   0.000000\n11  v_19   -0.112782   0.000000\n12   v_2    0.000000   0.000000\n13  v_20    0.015414   0.062500\n14  v_21   -0.149398   0.082535\n15  v_22   -0.060723   0.000000\n16  v_23    0.064511   0.079436\n17  v_24   -0.068899   0.083541\n18  v_25   -0.022556   0.000000\n19  v_26    0.397866   0.000000\n20  v_27   -0.022998   0.000000\n21  v_28   -0.067669   0.000000\n22  v_29   -0.045113   0.000000\n23   v_3   -0.187970   0.000000\n24  v_30   -0.086310   0.000000\n25  v_31    0.120301   0.000000\n26  v_32    0.023467   0.000000\n27  v_33    0.052063   0.121300\n28  v_34   -0.001353   0.076336\n29  v_35    0.027368   0.105953\n30  v_36   -0.150376   0.000000\n31  v_37   -0.082707   0.000000\n32  v_38   -0.014461   0.105234\n33  v_39    0.015552   0.081015\n34   v_4    0.135514   0.000000\n35  v_40   -0.069044   0.104502\n36  v_41    0.064042   0.127257\n37  v_42   -0.039398   0.105030\n38  v_43    0.003831   0.000000\n39  v_44   -0.090226   0.000000\n40  v_45    0.023383   0.076676\n41  v_46    0.052406   0.074359\n42  v_47    0.217293   0.062848\n43  v_48   -0.044886   0.000000\n44  v_49   -0.076095   0.000000\n45   v_5    0.001654   0.060251\n46   v_6   -0.068447   0.000000\n47   v_7   -0.127190   0.000000\n48   v_8    0.033101   0.088829\n49   v_9   -0.120301   0.000000",
      "text/html": "<div>\n<style scoped>\n    .dataframe tbody tr th:only-of-type {\n        vertical-align: middle;\n    }\n\n    .dataframe tbody tr th {\n        vertical-align: top;\n    }\n\n    .dataframe thead th {\n        text-align: right;\n    }\n</style>\n<table border=\"1\" class=\"dataframe\">\n  <thead>\n    <tr style=\"text-align: right;\">\n      <th></th>\n      <th>vname</th>\n      <th>xicor_mean</th>\n      <th>xicor_std</th>\n    </tr>\n  </thead>\n  <tbody>\n    <tr>\n      <th>0</th>\n      <td>v_0</td>\n      <td>-0.067669</td>\n      <td>0.000000</td>\n    </tr>\n    <tr>\n      <th>1</th>\n      <td>v_1</td>\n      <td>-0.007519</td>\n      <td>0.000000</td>\n    </tr>\n    <tr>\n      <th>2</th>\n      <td>v_10</td>\n      <td>-0.046758</td>\n      <td>0.101408</td>\n    </tr>\n    <tr>\n      <th>3</th>\n      <td>v_11</td>\n      <td>-0.003308</td>\n      <td>0.084650</td>\n    </tr>\n    <tr>\n      <th>4</th>\n      <td>v_12</td>\n      <td>-0.133595</td>\n      <td>0.120476</td>\n    </tr>\n    <tr>\n      <th>5</th>\n      <td>v_13</td>\n      <td>0.069973</td>\n      <td>0.000000</td>\n    </tr>\n    <tr>\n      <th>6</th>\n      <td>v_14</td>\n      <td>-0.046917</td>\n      <td>0.081213</td>\n    </tr>\n    <tr>\n      <th>7</th>\n      <td>v_15</td>\n      <td>0.187075</td>\n      <td>0.097869</td>\n    </tr>\n    <tr>\n      <th>8</th>\n      <td>v_16</td>\n      <td>-0.022156</td>\n      <td>0.098955</td>\n    </tr>\n    <tr>\n      <th>9</th>\n      <td>v_17</td>\n      <td>-0.049518</td>\n      <td>0.107321</td>\n    </tr>\n    <tr>\n      <th>10</th>\n      <td>v_18</td>\n      <td>-0.147787</td>\n      <td>0.000000</td>\n    </tr>\n    <tr>\n      <th>11</th>\n      <td>v_19</td>\n      <td>-0.112782</td>\n      <td>0.000000</td>\n    </tr>\n    <tr>\n      <th>12</th>\n      <td>v_2</td>\n      <td>0.000000</td>\n      <td>0.000000</td>\n    </tr>\n    <tr>\n      <th>13</th>\n      <td>v_20</td>\n      <td>0.015414</td>\n      <td>0.062500</td>\n    </tr>\n    <tr>\n      <th>14</th>\n      <td>v_21</td>\n      <td>-0.149398</td>\n      <td>0.082535</td>\n    </tr>\n    <tr>\n      <th>15</th>\n      <td>v_22</td>\n      <td>-0.060723</td>\n      <td>0.000000</td>\n    </tr>\n    <tr>\n      <th>16</th>\n      <td>v_23</td>\n      <td>0.064511</td>\n      <td>0.079436</td>\n    </tr>\n    <tr>\n      <th>17</th>\n      <td>v_24</td>\n      <td>-0.068899</td>\n      <td>0.083541</td>\n    </tr>\n    <tr>\n      <th>18</th>\n      <td>v_25</td>\n      <td>-0.022556</td>\n      <td>0.000000</td>\n    </tr>\n    <tr>\n      <th>19</th>\n      <td>v_26</td>\n      <td>0.397866</td>\n      <td>0.000000</td>\n    </tr>\n    <tr>\n      <th>20</th>\n      <td>v_27</td>\n      <td>-0.022998</td>\n      <td>0.000000</td>\n    </tr>\n    <tr>\n      <th>21</th>\n      <td>v_28</td>\n      <td>-0.067669</td>\n      <td>0.000000</td>\n    </tr>\n    <tr>\n      <th>22</th>\n      <td>v_29</td>\n      <td>-0.045113</td>\n      <td>0.000000</td>\n    </tr>\n    <tr>\n      <th>23</th>\n      <td>v_3</td>\n      <td>-0.187970</td>\n      <td>0.000000</td>\n    </tr>\n    <tr>\n      <th>24</th>\n      <td>v_30</td>\n      <td>-0.086310</td>\n      <td>0.000000</td>\n    </tr>\n    <tr>\n      <th>25</th>\n      <td>v_31</td>\n      <td>0.120301</td>\n      <td>0.000000</td>\n    </tr>\n    <tr>\n      <th>26</th>\n      <td>v_32</td>\n      <td>0.023467</td>\n      <td>0.000000</td>\n    </tr>\n    <tr>\n      <th>27</th>\n      <td>v_33</td>\n      <td>0.052063</td>\n      <td>0.121300</td>\n    </tr>\n    <tr>\n      <th>28</th>\n      <td>v_34</td>\n      <td>-0.001353</td>\n      <td>0.076336</td>\n    </tr>\n    <tr>\n      <th>29</th>\n      <td>v_35</td>\n      <td>0.027368</td>\n      <td>0.105953</td>\n    </tr>\n    <tr>\n      <th>30</th>\n      <td>v_36</td>\n      <td>-0.150376</td>\n      <td>0.000000</td>\n    </tr>\n    <tr>\n      <th>31</th>\n      <td>v_37</td>\n      <td>-0.082707</td>\n      <td>0.000000</td>\n    </tr>\n    <tr>\n      <th>32</th>\n      <td>v_38</td>\n      <td>-0.014461</td>\n      <td>0.105234</td>\n    </tr>\n    <tr>\n      <th>33</th>\n      <td>v_39</td>\n      <td>0.015552</td>\n      <td>0.081015</td>\n    </tr>\n    <tr>\n      <th>34</th>\n      <td>v_4</td>\n      <td>0.135514</td>\n      <td>0.000000</td>\n    </tr>\n    <tr>\n      <th>35</th>\n      <td>v_40</td>\n      <td>-0.069044</td>\n      <td>0.104502</td>\n    </tr>\n    <tr>\n      <th>36</th>\n      <td>v_41</td>\n      <td>0.064042</td>\n      <td>0.127257</td>\n    </tr>\n    <tr>\n      <th>37</th>\n      <td>v_42</td>\n      <td>-0.039398</td>\n      <td>0.105030</td>\n    </tr>\n    <tr>\n      <th>38</th>\n      <td>v_43</td>\n      <td>0.003831</td>\n      <td>0.000000</td>\n    </tr>\n    <tr>\n      <th>39</th>\n      <td>v_44</td>\n      <td>-0.090226</td>\n      <td>0.000000</td>\n    </tr>\n    <tr>\n      <th>40</th>\n      <td>v_45</td>\n      <td>0.023383</td>\n      <td>0.076676</td>\n    </tr>\n    <tr>\n      <th>41</th>\n      <td>v_46</td>\n      <td>0.052406</td>\n      <td>0.074359</td>\n    </tr>\n    <tr>\n      <th>42</th>\n      <td>v_47</td>\n      <td>0.217293</td>\n      <td>0.062848</td>\n    </tr>\n    <tr>\n      <th>43</th>\n      <td>v_48</td>\n      <td>-0.044886</td>\n      <td>0.000000</td>\n    </tr>\n    <tr>\n      <th>44</th>\n      <td>v_49</td>\n      <td>-0.076095</td>\n      <td>0.000000</td>\n    </tr>\n    <tr>\n      <th>45</th>\n      <td>v_5</td>\n      <td>0.001654</td>\n      <td>0.060251</td>\n    </tr>\n    <tr>\n      <th>46</th>\n      <td>v_6</td>\n      <td>-0.068447</td>\n      <td>0.000000</td>\n    </tr>\n    <tr>\n      <th>47</th>\n      <td>v_7</td>\n      <td>-0.127190</td>\n      <td>0.000000</td>\n    </tr>\n    <tr>\n      <th>48</th>\n      <td>v_8</td>\n      <td>0.033101</td>\n      <td>0.088829</td>\n    </tr>\n    <tr>\n      <th>49</th>\n      <td>v_9</td>\n      <td>-0.120301</td>\n      <td>0.000000</td>\n    </tr>\n  </tbody>\n</table>\n</div>"
     },
     "execution_count": 10,
     "metadata": {},
     "output_type": "execute_result"
    }
   ],
   "source": [
    "grouped_calc = (\n",
    "    xicor_query(\n",
    "            descr(d=example_frames)\n",
    "                .natural_join(  # cross join rows to get experiment repetitions\n",
    "                    b=descr(rep_frame=rep_frame),\n",
    "                    by=[],\n",
    "                    jointype='cross',\n",
    "                ),\n",
    "            var_keys=['vname', 'rep'])\n",
    "        .project({\n",
    "            'xicor_mean': 'xicor.mean()',\n",
    "            'xicor_std': 'xicor.std()',\n",
    "            },\n",
    "            group_by=['vname'])\n",
    "        .order_rows(['vname'])\n",
    ")\n",
    "xicor_results = grouped_calc.eval({'d': example_frames, 'rep_frame': rep_frame})\n",
    "\n",
    "xicor_results\n"
   ],
   "metadata": {
    "collapsed": false,
    "pycharm": {
     "name": "#%%\n"
    }
   }
  },
  {
   "cell_type": "code",
   "execution_count": 11,
   "outputs": [
    {
     "name": "stdout",
     "output_type": "stream",
     "text": [
      "ref: -0.0676692 0.0, ours: -0.06766917293233088 0.0\n",
      "ref: -0.007518800000000003 3.469446951953614e-18, ours: -0.007518796992481258 0.0\n",
      "ref: 2.2204459999999992e-16 7.395570986446986e-32, ours: 0.0 0.0\n",
      "ref: -0.18796989999999994 5.551115123125783e-17, ours: -0.18796992481203012 0.0\n",
      "ref: 0.135514 0.0, ours: 0.13551401869158874 0.0\n",
      "ref: 0.003533834180000004 0.06878326849618019, ours: 0.0016541353383458545 0.060250732715828835\n",
      "ref: -0.06844740000000002 1.3877787807814457e-17, ours: -0.06844741235392315 0.0\n",
      "ref: -0.12718959999999996 5.551115123125783e-17, ours: -0.12718964204112715 0.0\n",
      "ref: 0.04385151299999999 0.08295654197477093, ours: 0.03310131477184842 0.08882900576466028\n",
      "ref: -0.12030080000000005 5.551115123125783e-17, ours: -0.12030075187969924 0.0\n",
      "ref: -0.042562927 0.11081480834838983, ours: -0.0467581998474447 0.10140755651739736\n",
      "ref: -0.01849624 0.07992888705673187, ours: -0.003308270676691737 0.08465041505613047\n",
      "ref: -0.12621664900000001 0.11045203602378319, ours: -0.13359497645211932 0.12047563445499809\n",
      "ref: 0.0699734 0.0, ours: 0.06997342781222315 0.0\n",
      "ref: -0.038045115 0.07459783493448637, ours: -0.0469172932330827 0.08121313321339574\n",
      "ref: 0.195568684 0.08753438126409499, ours: 0.18707533234859675 0.09786895821978996\n",
      "ref: -0.00044609599999999707 0.1007116363467558, ours: -0.022156133828996286 0.09895489312048758\n",
      "ref: -0.057968877 0.10542007147626951, ours: -0.04951816160118606 0.10732064420060873\n",
      "ref: -0.14778690000000003 2.7755575615628914e-17, ours: -0.14778694673668413 0.0\n",
      "ref: -0.11278199999999992 6.938893903907228e-17, ours: -0.112781954887218 0.0\n",
      "ref: 0.017142856999999997 0.07826834003527257, ours: 0.01541353383458646 0.06250037473955604\n",
      "ref: -0.1597744364 0.08836665551085406, ours: -0.14939849624060153 0.08253505099928937\n",
      "ref: -0.06072249999999999 6.938893903907228e-18, ours: -0.06072252113758658 0.0\n",
      "ref: 0.0625563912 0.08687305410591217, ours: 0.06451127819548871 0.07943629411166205\n",
      "ref: -0.085565466 0.09320217536198308, ours: -0.06889880952380951 0.08354069468918623\n",
      "ref: -0.0225564 0.0, ours: -0.022556390977443552 0.0\n",
      "ref: 0.39786590000000005 5.551115123125783e-17, ours: 0.39786585365853655 0.0\n",
      "ref: -0.022997600000000003 3.469446951953614e-18, ours: -0.022997620935765184 0.0\n",
      "ref: -0.0676692 0.0, ours: -0.06766917293233088 0.0\n",
      "ref: -0.0451128 0.0, ours: -0.04511278195488733 0.0\n",
      "ref: -0.08630950000000004 4.163336342344337e-17, ours: -0.08630952380952372 0.0\n",
      "ref: 0.12030080000000005 5.551115123125783e-17, ours: 0.12030075187969924 0.0\n",
      "ref: 0.023467099999999998 3.469446951953614e-18, ours: 0.02346707040121121 0.0\n",
      "ref: 0.076519122 0.11352149575468566, ours: 0.0520630157539385 0.12129974699883726\n",
      "ref: -0.009849621919999989 0.0793914826594726, ours: -0.0013533834586466275 0.07633648515203852\n",
      "ref: 0.02601503660000001 0.09562431926454337, ours: 0.027368421052631556 0.10595267232338502\n",
      "ref: -0.1503759 0.0, ours: -0.15037593984962405 0.0\n",
      "ref: -0.08270679999999998 1.3877787807814457e-17, ours: -0.08270676691729317 0.0\n",
      "ref: -0.005661819999999999 0.10453398156933562, ours: -0.01446059678653406 0.10523367045590841\n",
      "ref: 0.033575586000000004 0.08538535787547069, ours: 0.015552325581395354 0.08101522766959376\n",
      "ref: -0.061987861 0.11166651115096493, ours: -0.06904400606980272 0.1045024202670498\n",
      "ref: 0.059273279 0.11467449857053598, ours: 0.0640423921271764 0.12725664432131176\n",
      "ref: -0.04390977482 0.09428655419525532, ours: -0.03939849624060153 0.1050302841288646\n",
      "ref: 0.0038313999999999987 1.3010426069826053e-18, ours: 0.003831417624521105 0.0\n",
      "ref: -0.0902256 0.0, ours: -0.09022556390977442 0.0\n",
      "ref: 0.030526316 0.08357589038605419, ours: 0.02338345864661654 0.07667620320056019\n",
      "ref: 0.039172937 0.08762733960876669, ours: 0.05240601503759399 0.07435902888734428\n",
      "ref: 0.21563909099999998 0.05927827445030953, ours: 0.2172932330827068 0.06284773775227034\n",
      "ref: -0.04488589999999998 2.0816681711721685e-17, ours: -0.04488594554819714 0.0\n",
      "ref: -0.0760953 0.0, ours: -0.07609531129900082 0.0\n"
     ]
    }
   ],
   "source": [
    "# compare results\n",
    "def compare_res(xicor_results_to_check):\n",
    "    for ei in range(len(examples)):\n",
    "        example = examples[ei]\n",
    "        a = example['a']\n",
    "        b = example['b']\n",
    "        ref_xicor = example['xicor']\n",
    "        our_result = xicor_results_to_check.loc[xicor_results_to_check['vname'] == f'v_{ei}', :]\n",
    "        our_xicor_mean = our_result['xicor_mean'].values[0]\n",
    "        our_xicor_std = our_result['xicor_std'].values[0]\n",
    "        assert np.abs(np.mean(ref_xicor) - our_xicor_mean) < 0.05\n",
    "        assert np.abs(np.std(ref_xicor) - our_xicor_std) < 0.05\n",
    "        print(f'ref: {np.mean(ref_xicor)} {np.std(ref_xicor)}, ours: {our_xicor_mean} {our_xicor_std}')\n",
    "\n",
    "compare_res(xicor_results)"
   ],
   "metadata": {
    "collapsed": false,
    "pycharm": {
     "name": "#%%\n"
    }
   }
  },
  {
   "cell_type": "code",
   "execution_count": 12,
   "outputs": [],
   "source": [
    "# try it in database\n",
    "db_handle = data_algebra.BigQuery.example_handle()\n",
    "db_handle.insert_table(example_frames, table_name='d', allow_overwrite=True)\n",
    "db_handle.insert_table(rep_frame, table_name='rep_frame', allow_overwrite=True)\n",
    "db_handle.drop_table(f\"{db_handle.db_model.table_prefix}.xicor\")"
   ],
   "metadata": {
    "collapsed": false,
    "pycharm": {
     "name": "#%%\n"
    }
   }
  },
  {
   "cell_type": "code",
   "execution_count": 13,
   "outputs": [],
   "source": [
    "db_handle.execute(f\"CREATE TABLE {db_handle.db_model.table_prefix}.xicor AS {db_handle.to_sql(grouped_calc)}\")\n",
    "db_res = db_handle.read_query(f\"SELECT * FROM {db_handle.db_model.table_prefix}.xicor ORDER BY vname\")"
   ],
   "metadata": {
    "collapsed": false,
    "pycharm": {
     "name": "#%%\n"
    }
   }
  },
  {
   "cell_type": "code",
   "execution_count": 14,
   "outputs": [
    {
     "name": "stdout",
     "output_type": "stream",
     "text": [
      "ref: -0.0676692 0.0, ours: -0.06766917293233088 0.0\n",
      "ref: -0.007518800000000003 3.469446951953614e-18, ours: -0.007518796992481258 0.0\n",
      "ref: 2.2204459999999992e-16 7.395570986446986e-32, ours: 0.0 0.0\n",
      "ref: -0.18796989999999994 5.551115123125783e-17, ours: -0.18796992481203012 0.0\n",
      "ref: 0.135514 0.0, ours: 0.13551401869158874 0.0\n",
      "ref: 0.003533834180000004 0.06878326849618019, ours: -0.003082706766917313 0.06564393845423029\n",
      "ref: -0.06844740000000002 1.3877787807814457e-17, ours: -0.06844741235392315 0.0\n",
      "ref: -0.12718959999999996 5.551115123125783e-17, ours: -0.12718964204112715 0.0\n",
      "ref: 0.04385151299999999 0.08295654197477093, ours: 0.03147718484145399 0.07996553432627482\n",
      "ref: -0.12030080000000005 5.551115123125783e-17, ours: -0.12030075187969924 0.0\n",
      "ref: -0.042562927 0.11081480834838983, ours: -0.04073226544622424 0.12056812523020059\n",
      "ref: -0.01849624 0.07992888705673187, ours: -0.008496240601503774 0.07979831229775736\n",
      "ref: -0.12621664900000001 0.11045203602378319, ours: -0.11742543171114597 0.11825637472494042\n",
      "ref: 0.0699734 0.0, ours: 0.06997342781222315 0.0\n",
      "ref: -0.038045115 0.07459783493448637, ours: -0.03939849624060148 0.0782772355475529\n",
      "ref: 0.195568684 0.08753438126409499, ours: 0.17326440177252583 0.09082960637426461\n",
      "ref: -0.00044609599999999707 0.1007116363467558, ours: -0.003866171003717472 0.09851094941102725\n",
      "ref: -0.057968877 0.10542007147626951, ours: -0.04225352112676056 0.11606130411200759\n",
      "ref: -0.14778690000000003 2.7755575615628914e-17, ours: -0.14778694673668413 0.0\n",
      "ref: -0.11278199999999992 6.938893903907228e-17, ours: -0.11278195488721798 0.0\n",
      "ref: 0.017142856999999997 0.07826834003527257, ours: 0.010977443609022548 0.07311972723904489\n",
      "ref: -0.1597744364 0.08836665551085406, ours: -0.16473684210526318 0.0852069677388203\n",
      "ref: -0.06072249999999999 6.938893903907228e-18, ours: -0.06072252113758658 0.0\n",
      "ref: 0.0625563912 0.08687305410591217, ours: 0.072781954887218 0.08486977356659384\n",
      "ref: -0.085565466 0.09320217536198308, ours: -0.06800595238095238 0.08619736434537766\n",
      "ref: -0.0225564 0.0, ours: -0.022556390977443552 0.0\n",
      "ref: 0.39786590000000005 5.551115123125783e-17, ours: 0.39786585365853655 0.0\n",
      "ref: -0.022997600000000003 3.469446951953614e-18, ours: -0.022997620935765184 0.0\n",
      "ref: -0.0676692 0.0, ours: -0.06766917293233088 0.0\n",
      "ref: -0.0451128 0.0, ours: -0.04511278195488733 0.0\n",
      "ref: -0.08630950000000004 4.163336342344337e-17, ours: -0.08630952380952372 0.0\n",
      "ref: 0.12030080000000005 5.551115123125783e-17, ours: 0.12030075187969924 0.0\n",
      "ref: 0.023467099999999998 3.469446951953614e-18, ours: 0.02346707040121121 0.0\n",
      "ref: 0.076519122 0.11352149575468566, ours: 0.05521380345086273 0.11145364384553831\n",
      "ref: -0.009849621919999989 0.0793914826594726, ours: -0.0018796992481202993 0.08199166818524105\n",
      "ref: 0.02601503660000001 0.09562431926454337, ours: 0.03999999999999998 0.1011176903629047\n",
      "ref: -0.1503759 0.0, ours: -0.15037593984962405 0.0\n",
      "ref: -0.08270679999999998 1.3877787807814457e-17, ours: -0.08270676691729317 0.0\n",
      "ref: -0.005661819999999999 0.10453398156933562, ours: -0.007727620504973228 0.10529658443190534\n",
      "ref: 0.033575586000000004 0.08538535787547069, ours: 0.015552325581395361 0.07059979248426755\n",
      "ref: -0.061987861 0.11166651115096493, ours: -0.06722306525037935 0.10564640311791308\n",
      "ref: 0.059273279 0.11467449857053598, ours: 0.06078728236184709 0.11755162229037185\n",
      "ref: -0.04390977482 0.09428655419525532, ours: -0.04586466165413537 0.10580155036584715\n",
      "ref: 0.0038313999999999987 1.3010426069826053e-18, ours: 0.003831417624521105 0.0\n",
      "ref: -0.0902256 0.0, ours: -0.09022556390977443 0.0\n",
      "ref: 0.030526316 0.08357589038605419, ours: 0.033684210526315775 0.08807647880768073\n",
      "ref: 0.039172937 0.08762733960876669, ours: 0.04135338345864663 0.08179032016080562\n",
      "ref: 0.21563909099999998 0.05927827445030953, ours: 0.2117293233082707 0.057457770878789075\n",
      "ref: -0.04488589999999998 2.0816681711721685e-17, ours: -0.04488594554819714 0.0\n",
      "ref: -0.0760953 0.0, ours: -0.07609531129900082 0.0\n"
     ]
    }
   ],
   "source": [
    "compare_res(db_res)"
   ],
   "metadata": {
    "collapsed": false,
    "pycharm": {
     "name": "#%%\n"
    }
   }
  },
  {
   "cell_type": "code",
   "execution_count": 15,
   "outputs": [
    {
     "name": "stdout",
     "output_type": "stream",
     "text": [
      "done\n"
     ]
    }
   ],
   "source": [
    "# show we made it to here, adn did not assert earlier\n",
    "print('done')"
   ],
   "metadata": {
    "collapsed": false,
    "pycharm": {
     "name": "#%%\n"
    }
   }
  }
 ],
 "metadata": {
  "kernelspec": {
   "display_name": "Python 3",
   "language": "python",
   "name": "python3"
  },
  "language_info": {
   "codemirror_mode": {
    "name": "ipython",
    "version": 2
   },
   "file_extension": ".py",
   "mimetype": "text/x-python",
   "name": "python",
   "nbconvert_exporter": "python",
   "pygments_lexer": "ipython2",
   "version": "2.7.6"
  }
 },
 "nbformat": 4,
 "nbformat_minor": 0
}