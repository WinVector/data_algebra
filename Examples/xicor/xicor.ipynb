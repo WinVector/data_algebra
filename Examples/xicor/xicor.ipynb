{
 "cells": [
  {
   "cell_type": "markdown",
   "metadata": {
    "collapsed": true,
    "pycharm": {
     "name": "#%% md\n"
    }
   },
   "source": [
    "Professor Sourav Chatterjee's xicor coefficient of correlation (<a href=\"https://win-vector.com/2021/12/26/how-to-read-sourav-chatterjees-basic-xicor-defenition/\">our note</a>, <a href=\"https://doi.org/10.1080/01621459.2020.1758115\">JASA</a>; original sources: <a href=\"https://CRAN.R-project.org/package=XICOR\">R package</a>, <a href=\"https://arxiv.org/abs/1909.10140\">Arxiv</a>, <a href=\"https://news.ycombinator.com/item?id=29687613\">Hacker News</a>, and <a href=\"https://github.com/czbiohub/xicor\">a Python package</a> (different author))."
   ]
  },
  {
   "cell_type": "code",
   "execution_count": 1,
   "outputs": [],
   "source": [
    "import numpy as np\n",
    "import pandas as pd\n",
    "from data_algebra.data_ops import *\n",
    "import yaml\n"
   ],
   "metadata": {
    "collapsed": false,
    "pycharm": {
     "name": "#%%\n"
    }
   }
  },
  {
   "cell_type": "code",
   "execution_count": 2,
   "outputs": [],
   "source": [
    "def xicor_query(*, x_name: str = 'x', y_name: str = 'y'):\n",
    "    \"\"\"\n",
    "    Build a query computing the xicor of y_name as a function of x_name.\n",
    "    Ref: https://arxiv.org/abs/1909.10140\n",
    "\n",
    "    xicor(x, y) : 1 - n sum(i = 0, n-2) |r(i+1) - r(i)| / (2 * sum(i=0, n-1) l(i) (n - l(i)),\n",
    "    where r(i) is the rank of the i-th Y item when ordered by x, and l(i) is the reverse rank of\n",
    "    the l-th Y item.\n",
    "\n",
    "    :param x_name: name for explanatory variable column.\n",
    "    :param y_name: name for dependent variable column.\n",
    "    :return: data algebra query computing xicor.\n",
    "    \"\"\"\n",
    "    assert isinstance(x_name, str)\n",
    "    assert isinstance(y_name, str)\n",
    "    x_tie_breaker = x_name + \"_tie_breaker\"\n",
    "    y_tie_breaker = y_name + \"_tie_breaker\"\n",
    "    y_str = y_name + \"_str\"\n",
    "    names = [\n",
    "        x_name, y_name, x_tie_breaker, y_tie_breaker, y_str,\n",
    "        'l', 'n', 'r',\n",
    "        'rplus', 'rdiff', 'lterm', 'num_sum', 'den_sum',\n",
    "        'xicor'\n",
    "        ]\n",
    "    assert(len(names) == len(set(names)))\n",
    "    ops = (\n",
    "        TableDescription(column_names=[x_name, y_name])\n",
    "            .extend({y_str: f'{y_name}.as_str()'})\n",
    "            .extend(  # add in some tie breaking columns\n",
    "                {\n",
    "                    x_name: f'1.0 * {x_name}',\n",
    "                    y_name: f'1.0 * {y_name}',\n",
    "                    x_tie_breaker: '_uniform()',\n",
    "                    y_tie_breaker: '_uniform()',\n",
    "                })\n",
    "            .extend({'n': '(1).sum()'}) # annotate in number of rows\n",
    "            .extend(\n",
    "                {'r': '(1).cumsum()'},  # compute y ranks, that we will use to compare rank changes wrt x\n",
    "                order_by=[y_name, y_tie_breaker])\n",
    "            .extend(\n",
    "                {'l': '(1).cumsum()'},  # compute reverse y ranks, used to normalize for ties in denominator\n",
    "                order_by=[y_name, y_tie_breaker],\n",
    "                reverse=[y_name, y_tie_breaker])\n",
    "            .extend(  # go to max rank of group tie breaking\n",
    "                {\n",
    "                    'l': 'l.max()',\n",
    "                    'r': 'r.max()',\n",
    "                },\n",
    "                partition_by=[y_str],\n",
    "                )\n",
    "            .extend(  # get y rank and y rank of next x-item into same row so we can take a differnce\n",
    "                {'rplus': 'r.shift()'},\n",
    "                order_by=[x_name, x_tie_breaker],\n",
    "                reverse=[x_name, x_tie_breaker])\n",
    "            .extend(  # compute numerator and denominator terms\n",
    "                {\n",
    "                    'rdiff': '(rplus - r).abs().coalesce_0()',\n",
    "                    'lterm': 'l * (n - l)',\n",
    "                })\n",
    "            .project(  # aggregate to compute sums in xicor definition\n",
    "                {\n",
    "                    'num_sum': 'rdiff.sum()',\n",
    "                    'den_sum': 'lterm.sum()',\n",
    "                    'n': 'n.max()',  # pseudo-aggregation, column is constant\n",
    "                }\n",
    "                )\n",
    "            .extend({'xicor': '1.0 - n * num_sum / ( 2.0 * den_sum)'})  #  actual xicor formula\n",
    "            .select_columns('xicor')\n",
    "    )\n",
    "    return ops"
   ],
   "metadata": {
    "collapsed": false,
    "pycharm": {
     "name": "#%%\n"
    }
   }
  },
  {
   "cell_type": "code",
   "execution_count": 3,
   "outputs": [],
   "source": [
    "x_y_ops = xicor_query(x_name='x', y_name='y')\n",
    "\n",
    "def xicor(x, y):\n",
    "    \"\"\"\n",
    "    Compute xicor of y treated as a function of x.\n",
    "\n",
    "    :param x: vector of explanatory variable values.\n",
    "    :param y: vector of dependent variable values.\n",
    "    :return: xicor score (floating point number).\n",
    "    \"\"\"\n",
    "\n",
    "    res_frame = x_y_ops.transform(pd.DataFrame({'x': x, 'y': y}))\n",
    "    return res_frame['xicor'].values[0]\n"
   ],
   "metadata": {
    "collapsed": false,
    "pycharm": {
     "name": "#%%\n"
    }
   }
  },
  {
   "cell_type": "code",
   "execution_count": 4,
   "outputs": [
    {
     "data": {
      "text/plain": "0.25"
     },
     "execution_count": 4,
     "metadata": {},
     "output_type": "execute_result"
    }
   ],
   "source": [
    "xicor([1, 2, 3], [1, 2, 3])"
   ],
   "metadata": {
    "collapsed": false,
    "pycharm": {
     "name": "#%%\n"
    }
   }
  },
  {
   "cell_type": "code",
   "execution_count": 5,
   "outputs": [
    {
     "data": {
      "text/plain": "0.25"
     },
     "execution_count": 5,
     "metadata": {},
     "output_type": "execute_result"
    }
   ],
   "source": [
    "xicor([1, 2, 3], [3, 2, 1])"
   ],
   "metadata": {
    "collapsed": false,
    "pycharm": {
     "name": "#%%\n"
    }
   }
  },
  {
   "cell_type": "code",
   "execution_count": 6,
   "outputs": [
    {
     "data": {
      "text/plain": "-0.125"
     },
     "execution_count": 6,
     "metadata": {},
     "output_type": "execute_result"
    }
   ],
   "source": [
    "xicor([1, 2, 3], [1, 3, 2])"
   ],
   "metadata": {
    "collapsed": false,
    "pycharm": {
     "name": "#%%\n"
    }
   }
  },
  {
   "cell_type": "code",
   "execution_count": 7,
   "outputs": [],
   "source": [
    "with open(\"examples.yaml\", \"r\") as in_f:\n",
    "   examples = yaml.safe_load(in_f)"
   ],
   "metadata": {
    "collapsed": false,
    "pycharm": {
     "name": "#%%\n"
    }
   }
  },
  {
   "cell_type": "code",
   "execution_count": 8,
   "outputs": [
    {
     "name": "stdout",
     "output_type": "stream",
     "text": [
      "ref: -0.0676692, ours: -0.06766917293233089\n",
      "ref: -0.007518800000000003, ours: -0.007518796992481258\n",
      "ref: 2.2204459999999992e-16, ours: 0.0\n",
      "ref: -0.18796989999999994, ours: -0.18796992481203012\n",
      "ref: 0.135514, ours: 0.1355140186915888\n",
      "ref: 0.003533834180000004, ours: 0.0003759398496240496\n",
      "ref: -0.06844740000000002, ours: -0.06844741235392317\n",
      "ref: -0.12718959999999996, ours: -0.12718964204112715\n",
      "ref: 0.04385151299999999, ours: 0.025444702242846097\n",
      "ref: -0.12030080000000005, ours: -0.12030075187969928\n",
      "ref: -0.042562927, ours: -0.051563691838291376\n",
      "ref: -0.01849624, ours: -0.02954887218045113\n",
      "ref: -0.12621664900000001, ours: -0.10722135007849293\n",
      "ref: 0.0699734, ours: 0.06997342781222315\n",
      "ref: -0.038045115, ours: -0.03774436090225563\n",
      "ref: 0.195568684, ours: 0.1853028064992614\n",
      "ref: -0.00044609599999999707, ours: -0.030185873605947943\n",
      "ref: -0.057968877, ours: -0.04714603409933285\n",
      "ref: -0.14778690000000003, ours: -0.1477869467366841\n",
      "ref: -0.11278199999999992, ours: -0.112781954887218\n",
      "ref: 0.017142856999999997, ours: 0.01240601503759399\n",
      "ref: -0.1597744364, ours: -0.17751879699248124\n",
      "ref: -0.06072249999999999, ours: -0.06072252113758658\n",
      "ref: 0.0625563912, ours: 0.07067669172932328\n",
      "ref: -0.085565466, ours: -0.07916666666666666\n",
      "ref: -0.0225564, ours: -0.022556390977443552\n",
      "ref: 0.39786590000000005, ours: 0.3978658536585366\n",
      "ref: -0.022997600000000003, ours: -0.022997620935765184\n",
      "ref: -0.0676692, ours: -0.06766917293233089\n",
      "ref: -0.0451128, ours: -0.04511278195488732\n",
      "ref: -0.08630950000000004, ours: -0.08630952380952372\n",
      "ref: 0.12030080000000005, ours: 0.12030075187969928\n",
      "ref: 0.023467099999999998, ours: 0.02346707040121121\n",
      "ref: 0.076519122, ours: 0.0730682670667667\n",
      "ref: -0.009849621919999989, ours: -0.0075939849624060175\n",
      "ref: 0.02601503660000001, ours: 0.018045112781954864\n",
      "ref: -0.1503759, ours: -0.15037593984962405\n",
      "ref: -0.08270679999999998, ours: -0.08270676691729321\n",
      "ref: -0.005661819999999999, ours: -0.010405508798775836\n",
      "ref: 0.033575586000000004, ours: 0.0029069767441860495\n",
      "ref: -0.061987861, ours: -0.07207890743550835\n",
      "ref: 0.059273279, ours: 0.06328538985616959\n",
      "ref: -0.04390977482, ours: -0.03172932330827071\n",
      "ref: 0.0038313999999999987, ours: 0.003831417624521105\n",
      "ref: -0.0902256, ours: -0.09022556390977442\n",
      "ref: 0.030526316, ours: 0.004511278195488715\n",
      "ref: 0.039172937, ours: 0.06406015037593986\n",
      "ref: 0.21563909099999998, ours: 0.21045112781954892\n",
      "ref: -0.04488589999999998, ours: -0.04488594554819713\n",
      "ref: -0.0760953, ours: -0.07609531129900084\n"
     ]
    }
   ],
   "source": [
    "for example in examples:\n",
    "    a = example['a']\n",
    "    b = example['b']\n",
    "    ref_xicor = example['xicor']\n",
    "    our_xicor = [xicor(a, b) for i in range(len(ref_xicor))]\n",
    "    assert np.abs(np.mean(ref_xicor) - np.mean(our_xicor)) < 0.05\n",
    "    assert np.abs(np.std(ref_xicor) - np.std(our_xicor)) < 0.05\n",
    "    print(f'ref: {np.mean(ref_xicor)}, ours: {np.mean(our_xicor)}')"
   ],
   "metadata": {
    "collapsed": false,
    "pycharm": {
     "name": "#%%\n"
    }
   }
  },
  {
   "cell_type": "code",
   "execution_count": 9,
   "outputs": [
    {
     "name": "stdout",
     "output_type": "stream",
     "text": [
      "done\n"
     ]
    }
   ],
   "source": [
    "print('done')"
   ],
   "metadata": {
    "collapsed": false,
    "pycharm": {
     "name": "#%%\n"
    }
   }
  }
 ],
 "metadata": {
  "kernelspec": {
   "display_name": "Python 3",
   "language": "python",
   "name": "python3"
  },
  "language_info": {
   "codemirror_mode": {
    "name": "ipython",
    "version": 2
   },
   "file_extension": ".py",
   "mimetype": "text/x-python",
   "name": "python",
   "nbconvert_exporter": "python",
   "pygments_lexer": "ipython2",
   "version": "2.7.6"
  }
 },
 "nbformat": 4,
 "nbformat_minor": 0
}