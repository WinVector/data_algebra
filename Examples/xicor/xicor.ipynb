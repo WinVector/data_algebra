{
 "cells": [
  {
   "cell_type": "markdown",
   "metadata": {
    "collapsed": true,
    "pycharm": {
     "name": "#%% md\n"
    }
   },
   "source": [
    "Professor Sourav Chatterjee's xicor coefficient of correlation (<a href=\"https://win-vector.com/2021/12/29/exploring-the-xi-correlation-coefficient/\">Nina Zumel's tutorial</a>, <a href=\"https://doi.org/10.1080/01621459.2020.1758115\">JASA</a>; original sources: <a href=\"https://CRAN.R-project.org/package=XICOR\">R package</a>, <a href=\"https://arxiv.org/abs/1909.10140\">Arxiv</a>, <a href=\"https://news.ycombinator.com/item?id=29687613\">Hacker News</a>, and <a href=\"https://github.com/czbiohub/xicor\">a Python package</a> (different author))."
   ]
  },
  {
   "cell_type": "code",
   "execution_count": 5,
   "outputs": [],
   "source": [
    "from typing import Iterable\n",
    "import numpy as np\n",
    "import pandas as pd\n",
    "from data_algebra.data_ops import descr, TableDescription, ViewRepresentation\n",
    "import data_algebra.BigQuery\n",
    "import yaml\n"
   ],
   "metadata": {
    "collapsed": false,
    "pycharm": {
     "name": "#%%\n"
    }
   }
  },
  {
   "cell_type": "code",
   "execution_count": 5,
   "outputs": [],
   "source": [],
   "metadata": {
    "collapsed": false,
    "pycharm": {
     "name": "#%%\n"
    }
   }
  },
  {
   "cell_type": "code",
   "execution_count": 6,
   "outputs": [],
   "source": [
    "x_y_ops = xicor_query(TableDescription(table_name='df', column_names=['x', 'y']))\n",
    "\n",
    "def xicor(x, y):\n",
    "    \"\"\"\n",
    "    Compute xicor of y treated as a function of x.\n",
    "\n",
    "    :param x: vector of explanatory variable values.\n",
    "    :param y: vector of dependent variable values.\n",
    "    :return: xicor score (floating point number).\n",
    "    \"\"\"\n",
    "\n",
    "    res_frame = x_y_ops.transform(pd.DataFrame({'x': x, 'y': y}))\n",
    "    return res_frame['xicor'].values[0]\n"
   ],
   "metadata": {
    "collapsed": false,
    "pycharm": {
     "name": "#%%\n"
    }
   }
  },
  {
   "cell_type": "code",
   "execution_count": 7,
   "outputs": [
    {
     "data": {
      "text/plain": "0.25"
     },
     "execution_count": 7,
     "metadata": {},
     "output_type": "execute_result"
    }
   ],
   "source": [
    "x1 = xicor([1, 2, 3], [1, 2, 3])  # expect 0.25\n",
    "assert x1 == 0.25\n",
    "x1"
   ],
   "metadata": {
    "collapsed": false,
    "pycharm": {
     "name": "#%%\n"
    }
   }
  },
  {
   "cell_type": "code",
   "execution_count": 8,
   "outputs": [
    {
     "data": {
      "text/plain": "0.25"
     },
     "execution_count": 8,
     "metadata": {},
     "output_type": "execute_result"
    }
   ],
   "source": [
    "x2 = xicor([1, 2, 3], [3, 2, 1])  # expect 0.25\n",
    "assert x2 == 0.25\n",
    "x2"
   ],
   "metadata": {
    "collapsed": false,
    "pycharm": {
     "name": "#%%\n"
    }
   }
  },
  {
   "cell_type": "code",
   "execution_count": 9,
   "outputs": [
    {
     "data": {
      "text/plain": "-0.125"
     },
     "execution_count": 9,
     "metadata": {},
     "output_type": "execute_result"
    }
   ],
   "source": [
    "x3 = xicor([1, 2, 3], [1, 3, 2])  # expect -0.125\n",
    "assert x3 == -0.125\n",
    "x3"
   ],
   "metadata": {
    "collapsed": false,
    "pycharm": {
     "name": "#%%\n"
    }
   }
  },
  {
   "cell_type": "code",
   "execution_count": 10,
   "outputs": [],
   "source": [
    "with open(\"examples.yaml\", \"r\") as in_f:\n",
    "   examples = yaml.safe_load(in_f)"
   ],
   "metadata": {
    "collapsed": false,
    "pycharm": {
     "name": "#%%\n"
    }
   }
  },
  {
   "cell_type": "code",
   "execution_count": 11,
   "outputs": [
    {
     "data": {
      "text/plain": "            x          y vname\n0    0.561595   0.084883   v_0\n1    0.035700   0.635105   v_0\n2    0.748017   0.133560   v_0\n3    0.663603   0.577371   v_0\n4    0.074035   0.214352   v_0\n..        ...        ...   ...\n995  0.360310   5.000000  v_49\n996  0.413419   2.000000  v_49\n997  0.224839   4.000000  v_49\n998  0.910356  10.000000  v_49\n999  0.845627   1.000000  v_49\n\n[1000 rows x 3 columns]",
      "text/html": "<div>\n<style scoped>\n    .dataframe tbody tr th:only-of-type {\n        vertical-align: middle;\n    }\n\n    .dataframe tbody tr th {\n        vertical-align: top;\n    }\n\n    .dataframe thead th {\n        text-align: right;\n    }\n</style>\n<table border=\"1\" class=\"dataframe\">\n  <thead>\n    <tr style=\"text-align: right;\">\n      <th></th>\n      <th>x</th>\n      <th>y</th>\n      <th>vname</th>\n    </tr>\n  </thead>\n  <tbody>\n    <tr>\n      <th>0</th>\n      <td>0.561595</td>\n      <td>0.084883</td>\n      <td>v_0</td>\n    </tr>\n    <tr>\n      <th>1</th>\n      <td>0.035700</td>\n      <td>0.635105</td>\n      <td>v_0</td>\n    </tr>\n    <tr>\n      <th>2</th>\n      <td>0.748017</td>\n      <td>0.133560</td>\n      <td>v_0</td>\n    </tr>\n    <tr>\n      <th>3</th>\n      <td>0.663603</td>\n      <td>0.577371</td>\n      <td>v_0</td>\n    </tr>\n    <tr>\n      <th>4</th>\n      <td>0.074035</td>\n      <td>0.214352</td>\n      <td>v_0</td>\n    </tr>\n    <tr>\n      <th>...</th>\n      <td>...</td>\n      <td>...</td>\n      <td>...</td>\n    </tr>\n    <tr>\n      <th>995</th>\n      <td>0.360310</td>\n      <td>5.000000</td>\n      <td>v_49</td>\n    </tr>\n    <tr>\n      <th>996</th>\n      <td>0.413419</td>\n      <td>2.000000</td>\n      <td>v_49</td>\n    </tr>\n    <tr>\n      <th>997</th>\n      <td>0.224839</td>\n      <td>4.000000</td>\n      <td>v_49</td>\n    </tr>\n    <tr>\n      <th>998</th>\n      <td>0.910356</td>\n      <td>10.000000</td>\n      <td>v_49</td>\n    </tr>\n    <tr>\n      <th>999</th>\n      <td>0.845627</td>\n      <td>1.000000</td>\n      <td>v_49</td>\n    </tr>\n  </tbody>\n</table>\n<p>1000 rows × 3 columns</p>\n</div>"
     },
     "execution_count": 11,
     "metadata": {},
     "output_type": "execute_result"
    }
   ],
   "source": [
    "def example_to_frame(ei):\n",
    "    \"encode an example into a data frame\"\n",
    "    example = examples[ei]\n",
    "    a = example['a']\n",
    "    b = example['b']\n",
    "    return pd.DataFrame({'x': a, 'y': b, 'vname': f'v_{ei}'})\n",
    "\n",
    "example_frames = [example_to_frame(ei) for ei in range(len(examples))]\n",
    "example_frames = pd.concat(example_frames).reset_index(drop=True, inplace=False)\n",
    "\n",
    "example_frames"
   ],
   "metadata": {
    "collapsed": false,
    "pycharm": {
     "name": "#%%\n"
    }
   }
  },
  {
   "cell_type": "code",
   "execution_count": 12,
   "outputs": [],
   "source": [
    "rep_frame = pd.DataFrame({\n",
    "    'rep': range(100)\n",
    "})\n"
   ],
   "metadata": {
    "collapsed": false,
    "pycharm": {
     "name": "#%%\n"
    }
   }
  },
  {
   "cell_type": "code",
   "execution_count": 13,
   "outputs": [
    {
     "data": {
      "text/plain": "   vname  xicor_mean  xicor_std\n0    v_0   -0.067669   0.000000\n1    v_1   -0.007519   0.000000\n2   v_10   -0.056827   0.101521\n3   v_11   -0.011729   0.088231\n4   v_12   -0.120722   0.099834\n5   v_13    0.069973   0.000000\n6   v_14   -0.044060   0.081703\n7   v_15    0.193279   0.088892\n8   v_16   -0.022305   0.090496\n9   v_17   -0.061305   0.118250\n10  v_18   -0.147787   0.000000\n11  v_19   -0.112782   0.000000\n12   v_2    0.000000   0.000000\n13  v_20    0.023008   0.076661\n14  v_21   -0.155564   0.089900\n15  v_22   -0.060723   0.000000\n16  v_23    0.061955   0.078946\n17  v_24   -0.073512   0.097536\n18  v_25   -0.022556   0.000000\n19  v_26    0.397866   0.000000\n20  v_27   -0.022998   0.000000\n21  v_28   -0.067669   0.000000\n22  v_29   -0.045113   0.000000\n23   v_3   -0.187970   0.000000\n24  v_30   -0.086310   0.000000\n25  v_31    0.120301   0.000000\n26  v_32    0.023467   0.000000\n27  v_33    0.045461   0.117866\n28  v_34   -0.008722   0.081512\n29  v_35    0.031729   0.113156\n30  v_36   -0.150376   0.000000\n31  v_37   -0.082707   0.000000\n32  v_38   -0.013160   0.105184\n33  v_39    0.024419   0.104083\n34   v_4    0.135514   0.000000\n35  v_40   -0.083839   0.096416\n36  v_41    0.013248   0.113911\n37  v_42   -0.060150   0.110916\n38  v_43    0.003831   0.000000\n39  v_44   -0.090226   0.000000\n40  v_45    0.031278   0.070538\n41  v_46    0.044662   0.082162\n42  v_47    0.207218   0.062041\n43  v_48   -0.044886   0.000000\n44  v_49   -0.076095   0.000000\n45   v_5   -0.000977   0.069928\n46   v_6   -0.068447   0.000000\n47   v_7   -0.127190   0.000000\n48   v_8    0.027997   0.087885\n49   v_9   -0.120301   0.000000",
      "text/html": "<div>\n<style scoped>\n    .dataframe tbody tr th:only-of-type {\n        vertical-align: middle;\n    }\n\n    .dataframe tbody tr th {\n        vertical-align: top;\n    }\n\n    .dataframe thead th {\n        text-align: right;\n    }\n</style>\n<table border=\"1\" class=\"dataframe\">\n  <thead>\n    <tr style=\"text-align: right;\">\n      <th></th>\n      <th>vname</th>\n      <th>xicor_mean</th>\n      <th>xicor_std</th>\n    </tr>\n  </thead>\n  <tbody>\n    <tr>\n      <th>0</th>\n      <td>v_0</td>\n      <td>-0.067669</td>\n      <td>0.000000</td>\n    </tr>\n    <tr>\n      <th>1</th>\n      <td>v_1</td>\n      <td>-0.007519</td>\n      <td>0.000000</td>\n    </tr>\n    <tr>\n      <th>2</th>\n      <td>v_10</td>\n      <td>-0.056827</td>\n      <td>0.101521</td>\n    </tr>\n    <tr>\n      <th>3</th>\n      <td>v_11</td>\n      <td>-0.011729</td>\n      <td>0.088231</td>\n    </tr>\n    <tr>\n      <th>4</th>\n      <td>v_12</td>\n      <td>-0.120722</td>\n      <td>0.099834</td>\n    </tr>\n    <tr>\n      <th>5</th>\n      <td>v_13</td>\n      <td>0.069973</td>\n      <td>0.000000</td>\n    </tr>\n    <tr>\n      <th>6</th>\n      <td>v_14</td>\n      <td>-0.044060</td>\n      <td>0.081703</td>\n    </tr>\n    <tr>\n      <th>7</th>\n      <td>v_15</td>\n      <td>0.193279</td>\n      <td>0.088892</td>\n    </tr>\n    <tr>\n      <th>8</th>\n      <td>v_16</td>\n      <td>-0.022305</td>\n      <td>0.090496</td>\n    </tr>\n    <tr>\n      <th>9</th>\n      <td>v_17</td>\n      <td>-0.061305</td>\n      <td>0.118250</td>\n    </tr>\n    <tr>\n      <th>10</th>\n      <td>v_18</td>\n      <td>-0.147787</td>\n      <td>0.000000</td>\n    </tr>\n    <tr>\n      <th>11</th>\n      <td>v_19</td>\n      <td>-0.112782</td>\n      <td>0.000000</td>\n    </tr>\n    <tr>\n      <th>12</th>\n      <td>v_2</td>\n      <td>0.000000</td>\n      <td>0.000000</td>\n    </tr>\n    <tr>\n      <th>13</th>\n      <td>v_20</td>\n      <td>0.023008</td>\n      <td>0.076661</td>\n    </tr>\n    <tr>\n      <th>14</th>\n      <td>v_21</td>\n      <td>-0.155564</td>\n      <td>0.089900</td>\n    </tr>\n    <tr>\n      <th>15</th>\n      <td>v_22</td>\n      <td>-0.060723</td>\n      <td>0.000000</td>\n    </tr>\n    <tr>\n      <th>16</th>\n      <td>v_23</td>\n      <td>0.061955</td>\n      <td>0.078946</td>\n    </tr>\n    <tr>\n      <th>17</th>\n      <td>v_24</td>\n      <td>-0.073512</td>\n      <td>0.097536</td>\n    </tr>\n    <tr>\n      <th>18</th>\n      <td>v_25</td>\n      <td>-0.022556</td>\n      <td>0.000000</td>\n    </tr>\n    <tr>\n      <th>19</th>\n      <td>v_26</td>\n      <td>0.397866</td>\n      <td>0.000000</td>\n    </tr>\n    <tr>\n      <th>20</th>\n      <td>v_27</td>\n      <td>-0.022998</td>\n      <td>0.000000</td>\n    </tr>\n    <tr>\n      <th>21</th>\n      <td>v_28</td>\n      <td>-0.067669</td>\n      <td>0.000000</td>\n    </tr>\n    <tr>\n      <th>22</th>\n      <td>v_29</td>\n      <td>-0.045113</td>\n      <td>0.000000</td>\n    </tr>\n    <tr>\n      <th>23</th>\n      <td>v_3</td>\n      <td>-0.187970</td>\n      <td>0.000000</td>\n    </tr>\n    <tr>\n      <th>24</th>\n      <td>v_30</td>\n      <td>-0.086310</td>\n      <td>0.000000</td>\n    </tr>\n    <tr>\n      <th>25</th>\n      <td>v_31</td>\n      <td>0.120301</td>\n      <td>0.000000</td>\n    </tr>\n    <tr>\n      <th>26</th>\n      <td>v_32</td>\n      <td>0.023467</td>\n      <td>0.000000</td>\n    </tr>\n    <tr>\n      <th>27</th>\n      <td>v_33</td>\n      <td>0.045461</td>\n      <td>0.117866</td>\n    </tr>\n    <tr>\n      <th>28</th>\n      <td>v_34</td>\n      <td>-0.008722</td>\n      <td>0.081512</td>\n    </tr>\n    <tr>\n      <th>29</th>\n      <td>v_35</td>\n      <td>0.031729</td>\n      <td>0.113156</td>\n    </tr>\n    <tr>\n      <th>30</th>\n      <td>v_36</td>\n      <td>-0.150376</td>\n      <td>0.000000</td>\n    </tr>\n    <tr>\n      <th>31</th>\n      <td>v_37</td>\n      <td>-0.082707</td>\n      <td>0.000000</td>\n    </tr>\n    <tr>\n      <th>32</th>\n      <td>v_38</td>\n      <td>-0.013160</td>\n      <td>0.105184</td>\n    </tr>\n    <tr>\n      <th>33</th>\n      <td>v_39</td>\n      <td>0.024419</td>\n      <td>0.104083</td>\n    </tr>\n    <tr>\n      <th>34</th>\n      <td>v_4</td>\n      <td>0.135514</td>\n      <td>0.000000</td>\n    </tr>\n    <tr>\n      <th>35</th>\n      <td>v_40</td>\n      <td>-0.083839</td>\n      <td>0.096416</td>\n    </tr>\n    <tr>\n      <th>36</th>\n      <td>v_41</td>\n      <td>0.013248</td>\n      <td>0.113911</td>\n    </tr>\n    <tr>\n      <th>37</th>\n      <td>v_42</td>\n      <td>-0.060150</td>\n      <td>0.110916</td>\n    </tr>\n    <tr>\n      <th>38</th>\n      <td>v_43</td>\n      <td>0.003831</td>\n      <td>0.000000</td>\n    </tr>\n    <tr>\n      <th>39</th>\n      <td>v_44</td>\n      <td>-0.090226</td>\n      <td>0.000000</td>\n    </tr>\n    <tr>\n      <th>40</th>\n      <td>v_45</td>\n      <td>0.031278</td>\n      <td>0.070538</td>\n    </tr>\n    <tr>\n      <th>41</th>\n      <td>v_46</td>\n      <td>0.044662</td>\n      <td>0.082162</td>\n    </tr>\n    <tr>\n      <th>42</th>\n      <td>v_47</td>\n      <td>0.207218</td>\n      <td>0.062041</td>\n    </tr>\n    <tr>\n      <th>43</th>\n      <td>v_48</td>\n      <td>-0.044886</td>\n      <td>0.000000</td>\n    </tr>\n    <tr>\n      <th>44</th>\n      <td>v_49</td>\n      <td>-0.076095</td>\n      <td>0.000000</td>\n    </tr>\n    <tr>\n      <th>45</th>\n      <td>v_5</td>\n      <td>-0.000977</td>\n      <td>0.069928</td>\n    </tr>\n    <tr>\n      <th>46</th>\n      <td>v_6</td>\n      <td>-0.068447</td>\n      <td>0.000000</td>\n    </tr>\n    <tr>\n      <th>47</th>\n      <td>v_7</td>\n      <td>-0.127190</td>\n      <td>0.000000</td>\n    </tr>\n    <tr>\n      <th>48</th>\n      <td>v_8</td>\n      <td>0.027997</td>\n      <td>0.087885</td>\n    </tr>\n    <tr>\n      <th>49</th>\n      <td>v_9</td>\n      <td>-0.120301</td>\n      <td>0.000000</td>\n    </tr>\n  </tbody>\n</table>\n</div>"
     },
     "execution_count": 13,
     "metadata": {},
     "output_type": "execute_result"
    }
   ],
   "source": [
    "grouped_calc = (\n",
    "    xicor_query(\n",
    "            descr(d=example_frames)\n",
    "                .natural_join(  # cross join rows to get experiment repetitions\n",
    "                    b=descr(rep_frame=rep_frame),\n",
    "                    by=[],\n",
    "                    jointype='cross',\n",
    "                ),\n",
    "            var_keys=['vname', 'rep'])\n",
    "        .project({\n",
    "            'xicor_mean': 'xicor.mean()',\n",
    "            'xicor_std': 'xicor.std()',\n",
    "            },\n",
    "            group_by=['vname'])\n",
    "        .order_rows(['vname'])\n",
    ")\n",
    "xicor_results = grouped_calc.eval({'d': example_frames, 'rep_frame': rep_frame})\n",
    "\n",
    "xicor_results\n"
   ],
   "metadata": {
    "collapsed": false,
    "pycharm": {
     "name": "#%%\n"
    }
   }
  },
  {
   "cell_type": "code",
   "execution_count": 14,
   "outputs": [
    {
     "name": "stdout",
     "output_type": "stream",
     "text": [
      "ref: -0.0676692 0.0, ours: -0.06766917293233088 0.0\n",
      "ref: -0.007518800000000003 3.469446951953614e-18, ours: -0.007518796992481258 0.0\n",
      "ref: 2.2204459999999992e-16 7.395570986446986e-32, ours: 0.0 0.0\n",
      "ref: -0.18796989999999994 5.551115123125783e-17, ours: -0.18796992481203012 0.0\n",
      "ref: 0.135514 0.0, ours: 0.13551401869158874 0.0\n",
      "ref: 0.003533834180000004 0.06878326849618019, ours: -0.0009774436090225712 0.06992807851052675\n",
      "ref: -0.06844740000000002 1.3877787807814457e-17, ours: -0.06844741235392315 0.0\n",
      "ref: -0.12718959999999996 5.551115123125783e-17, ours: -0.12718964204112715 0.0\n",
      "ref: 0.04385151299999999 0.08295654197477093, ours: 0.0279969064191802 0.08788468129913046\n",
      "ref: -0.12030080000000005 5.551115123125783e-17, ours: -0.12030075187969924 0.0\n",
      "ref: -0.042562927 0.11081480834838983, ours: -0.05682684973302821 0.10152062117597214\n",
      "ref: -0.01849624 0.07992888705673187, ours: -0.011729323308270687 0.08823090724031592\n",
      "ref: -0.12621664900000001 0.11045203602378319, ours: -0.1207221350078493 0.0998340329880463\n",
      "ref: 0.0699734 0.0, ours: 0.06997342781222315 0.0\n",
      "ref: -0.038045115 0.07459783493448637, ours: -0.04406015037593982 0.08170314239939688\n",
      "ref: 0.195568684 0.08753438126409499, ours: 0.19327917282127033 0.08889231295999679\n",
      "ref: -0.00044609599999999707 0.1007116363467558, ours: -0.02230483271375465 0.09049628774717455\n",
      "ref: -0.057968877 0.10542007147626951, ours: -0.06130467012601928 0.11825042900557312\n",
      "ref: -0.14778690000000003 2.7755575615628914e-17, ours: -0.14778694673668413 0.0\n",
      "ref: -0.11278199999999992 6.938893903907228e-17, ours: -0.112781954887218 0.0\n",
      "ref: 0.017142856999999997 0.07826834003527257, ours: 0.02300751879699248 0.0766607484217049\n",
      "ref: -0.1597744364 0.08836665551085406, ours: -0.1555639097744361 0.08990027054458617\n",
      "ref: -0.06072249999999999 6.938893903907228e-18, ours: -0.06072252113758658 0.0\n",
      "ref: 0.0625563912 0.08687305410591217, ours: 0.061954887218045096 0.07894552396157178\n",
      "ref: -0.085565466 0.09320217536198308, ours: -0.07351190476190475 0.09753553338198771\n",
      "ref: -0.0225564 0.0, ours: -0.022556390977443552 0.0\n",
      "ref: 0.39786590000000005 5.551115123125783e-17, ours: 0.39786585365853655 0.0\n",
      "ref: -0.022997600000000003 3.469446951953614e-18, ours: -0.022997620935765184 0.0\n",
      "ref: -0.0676692 0.0, ours: -0.06766917293233088 0.0\n",
      "ref: -0.0451128 0.0, ours: -0.04511278195488733 0.0\n",
      "ref: -0.08630950000000004 4.163336342344337e-17, ours: -0.08630952380952372 0.0\n",
      "ref: 0.12030080000000005 5.551115123125783e-17, ours: 0.12030075187969924 0.0\n",
      "ref: 0.023467099999999998 3.469446951953614e-18, ours: 0.02346707040121121 0.0\n",
      "ref: 0.076519122 0.11352149575468566, ours: 0.045461365341335346 0.11786563927861081\n",
      "ref: -0.009849621919999989 0.0793914826594726, ours: -0.008721804511278207 0.08151211599146414\n",
      "ref: 0.02601503660000001 0.09562431926454337, ours: 0.03172932330827066 0.11315641236422334\n",
      "ref: -0.1503759 0.0, ours: -0.15037593984962405 0.0\n",
      "ref: -0.08270679999999998 1.3877787807814457e-17, ours: -0.08270676691729317 0.0\n",
      "ref: -0.005661819999999999 0.10453398156933562, ours: -0.013159908186687073 0.1051835651563749\n",
      "ref: 0.033575586000000004 0.08538535787547069, ours: 0.024418604651162797 0.10408274230374173\n",
      "ref: -0.061987861 0.11166651115096493, ours: -0.08383915022761759 0.09641555026543883\n",
      "ref: 0.059273279 0.11467449857053598, ours: 0.013247539742619234 0.11391106422114493\n",
      "ref: -0.04390977482 0.09428655419525532, ours: -0.06015037593984966 0.11091593177205838\n",
      "ref: 0.0038313999999999987 1.3010426069826053e-18, ours: 0.003831417624521105 0.0\n",
      "ref: -0.0902256 0.0, ours: -0.09022556390977442 0.0\n",
      "ref: 0.030526316 0.08357589038605419, ours: 0.031278195488721794 0.07053839671387624\n",
      "ref: 0.039172937 0.08762733960876669, ours: 0.04466165413533835 0.0821617397303745\n",
      "ref: 0.21563909099999998 0.05927827445030953, ours: 0.20721804511278197 0.06204136271294084\n",
      "ref: -0.04488589999999998 2.0816681711721685e-17, ours: -0.04488594554819714 0.0\n",
      "ref: -0.0760953 0.0, ours: -0.07609531129900082 0.0\n"
     ]
    }
   ],
   "source": [
    "# compare results\n",
    "def compare_res(xicor_results_to_check):\n",
    "    for ei in range(len(examples)):\n",
    "        example = examples[ei]\n",
    "        a = example['a']\n",
    "        b = example['b']\n",
    "        ref_xicor = example['xicor']\n",
    "        our_result = xicor_results_to_check.loc[xicor_results_to_check['vname'] == f'v_{ei}', :]\n",
    "        our_xicor_mean = our_result['xicor_mean'].values[0]\n",
    "        our_xicor_std = our_result['xicor_std'].values[0]\n",
    "        assert np.abs(np.mean(ref_xicor) - our_xicor_mean) < 0.05\n",
    "        assert np.abs(np.std(ref_xicor) - our_xicor_std) < 0.05\n",
    "        print(f'ref: {np.mean(ref_xicor)} {np.std(ref_xicor)}, ours: {our_xicor_mean} {our_xicor_std}')\n",
    "\n",
    "compare_res(xicor_results)"
   ],
   "metadata": {
    "collapsed": false,
    "pycharm": {
     "name": "#%%\n"
    }
   }
  },
  {
   "cell_type": "code",
   "execution_count": 15,
   "outputs": [
    {
     "data": {
      "text/plain": "(TableDescription(table_name=\"rep_frame\", column_names=[\"rep\"]))"
     },
     "execution_count": 15,
     "metadata": {},
     "output_type": "execute_result"
    }
   ],
   "source": [
    "# try it in database\n",
    "db_handle = data_algebra.BigQuery.example_handle()\n",
    "db_handle.insert_table(example_frames, table_name='d', allow_overwrite=True)\n",
    "db_handle.insert_table(rep_frame, table_name='rep_frame', allow_overwrite=True)"
   ],
   "metadata": {
    "collapsed": false,
    "pycharm": {
     "name": "#%%\n"
    }
   }
  },
  {
   "cell_type": "code",
   "execution_count": 16,
   "outputs": [],
   "source": [
    "db_handle.drop_table(\"xicor\")"
   ],
   "metadata": {
    "collapsed": false,
    "pycharm": {
     "name": "#%%\n"
    }
   }
  },
  {
   "cell_type": "code",
   "execution_count": 17,
   "outputs": [],
   "source": [
    "db_handle.execute(f\"CREATE TABLE {db_handle.db_model.table_prefix}.xicor AS {db_handle.to_sql(grouped_calc)}\")\n",
    "db_res = db_handle.read_query(f\"SELECT * FROM {db_handle.db_model.table_prefix}.xicor ORDER BY vname\")"
   ],
   "metadata": {
    "collapsed": false,
    "pycharm": {
     "name": "#%%\n"
    }
   }
  },
  {
   "cell_type": "code",
   "execution_count": 18,
   "outputs": [
    {
     "name": "stdout",
     "output_type": "stream",
     "text": [
      "ref: -0.0676692 0.0, ours: -0.06766917293233088 0.0\n",
      "ref: -0.007518800000000003 3.469446951953614e-18, ours: -0.007518796992481258 0.0\n",
      "ref: 2.2204459999999992e-16 7.395570986446986e-32, ours: 0.0 0.0\n",
      "ref: -0.18796989999999994 5.551115123125783e-17, ours: -0.18796992481203012 0.0\n",
      "ref: 0.135514 0.0, ours: 0.13551401869158874 0.0\n",
      "ref: 0.003533834180000004 0.06878326849618019, ours: -0.016240601503759423 0.06815869787738167\n",
      "ref: -0.06844740000000002 1.3877787807814457e-17, ours: -0.06844741235392315 0.0\n",
      "ref: -0.12718959999999996 5.551115123125783e-17, ours: -0.12718964204112715 0.0\n",
      "ref: 0.04385151299999999 0.08295654197477093, ours: 0.032018561484918794 0.07778912646483754\n",
      "ref: -0.12030080000000005 5.551115123125783e-17, ours: -0.12030075187969924 0.0\n",
      "ref: -0.042562927 0.11081480834838983, ours: -0.04630053394355454 0.11283142924862233\n",
      "ref: -0.01849624 0.07992888705673187, ours: 0.005037593984962396 0.08714819132102225\n",
      "ref: -0.12621664900000001 0.11045203602378319, ours: -0.0998430141287284 0.1375342631737879\n",
      "ref: 0.0699734 0.0, ours: 0.06997342781222315 0.0\n",
      "ref: -0.038045115 0.07459783493448637, ours: -0.04586466165413533 0.0764495063154527\n",
      "ref: 0.195568684 0.08753438126409499, ours: 0.1937961595273264 0.09966779658398814\n",
      "ref: -0.00044609599999999707 0.1007116363467558, ours: -0.04059479553903345 0.10621285397601077\n",
      "ref: -0.057968877 0.10542007147626951, ours: -0.04017790956263899 0.10334580434771108\n",
      "ref: -0.14778690000000003 2.7755575615628914e-17, ours: -0.14778694673668413 0.0\n",
      "ref: -0.11278199999999992 6.938893903907228e-17, ours: -0.11278195488721798 0.0\n",
      "ref: 0.017142856999999997 0.07826834003527257, ours: 0.006616541353383453 0.0726249572234049\n",
      "ref: -0.1597744364 0.08836665551085406, ours: -0.17060150375939853 0.0841522911073984\n",
      "ref: -0.06072249999999999 6.938893903907228e-18, ours: -0.06072252113758658 0.0\n",
      "ref: 0.0625563912 0.08687305410591217, ours: 0.07443609022556388 0.09329663640629988\n",
      "ref: -0.085565466 0.09320217536198308, ours: -0.07708333333333332 0.0896427445580125\n",
      "ref: -0.0225564 0.0, ours: -0.022556390977443552 0.0\n",
      "ref: 0.39786590000000005 5.551115123125783e-17, ours: 0.39786585365853655 0.0\n",
      "ref: -0.022997600000000003 3.469446951953614e-18, ours: -0.022997620935765184 0.0\n",
      "ref: -0.0676692 0.0, ours: -0.06766917293233088 0.0\n",
      "ref: -0.0451128 0.0, ours: -0.04511278195488733 0.0\n",
      "ref: -0.08630950000000004 4.163336342344337e-17, ours: -0.08630952380952372 0.0\n",
      "ref: 0.12030080000000005 5.551115123125783e-17, ours: 0.12030075187969924 0.0\n",
      "ref: 0.023467099999999998 3.469446951953614e-18, ours: 0.02346707040121121 0.0\n",
      "ref: 0.076519122 0.11352149575468566, ours: 0.0784696174043511 0.11837385245510558\n",
      "ref: -0.009849621919999989 0.0793914826594726, ours: -0.0030827067669172968 0.08797018446102936\n",
      "ref: 0.02601503660000001 0.09562431926454337, ours: 0.036541353383458625 0.11116801714971083\n",
      "ref: -0.1503759 0.0, ours: -0.15037593984962405 0.0\n",
      "ref: -0.08270679999999998 1.3877787807814457e-17, ours: -0.08270676691729317 0.0\n",
      "ref: -0.005661819999999999 0.10453398156933562, ours: -0.024407039020658 0.1023267066185856\n",
      "ref: 0.033575586000000004 0.08538535787547069, ours: 0.023255813953488372 0.07454430231867523\n",
      "ref: -0.061987861 0.11166651115096493, ours: -0.06942336874051591 0.08893002641809206\n",
      "ref: 0.059273279 0.11467449857053598, ours: 0.06161998485995459 0.1251208892527618\n",
      "ref: -0.04390977482 0.09428655419525532, ours: -0.05248120300751883 0.10764472696009794\n",
      "ref: 0.0038313999999999987 1.3010426069826053e-18, ours: 0.003831417624521105 0.0\n",
      "ref: -0.0902256 0.0, ours: -0.09022556390977443 0.0\n",
      "ref: 0.030526316 0.08357589038605419, ours: 0.012556390977443594 0.08042131114785704\n",
      "ref: 0.039172937 0.08762733960876669, ours: 0.05315789473684211 0.08246998978555034\n",
      "ref: 0.21563909099999998 0.05927827445030953, ours: 0.2242857142857143 0.06202051197710987\n",
      "ref: -0.04488589999999998 2.0816681711721685e-17, ours: -0.04488594554819714 0.0\n",
      "ref: -0.0760953 0.0, ours: -0.07609531129900082 0.0\n"
     ]
    }
   ],
   "source": [
    "compare_res(db_res)"
   ],
   "metadata": {
    "collapsed": false,
    "pycharm": {
     "name": "#%%\n"
    }
   }
  },
  {
   "cell_type": "code",
   "execution_count": 19,
   "outputs": [
    {
     "name": "stdout",
     "output_type": "stream",
     "text": [
      "done\n"
     ]
    }
   ],
   "source": [
    "# clean up\n",
    "db_handle.drop_table(\"d\")\n",
    "db_handle.drop_table(\"rep_frame\")\n",
    "db_handle.drop_table(\"xicor\")\n",
    "db_handle.close()\n",
    "# show we made it to here, adn did not assert earlier\n",
    "print('done')"
   ],
   "metadata": {
    "collapsed": false,
    "pycharm": {
     "name": "#%%\n"
    }
   }
  }
 ],
 "metadata": {
  "kernelspec": {
   "display_name": "Python 3",
   "language": "python",
   "name": "python3"
  },
  "language_info": {
   "codemirror_mode": {
    "name": "ipython",
    "version": 2
   },
   "file_extension": ".py",
   "mimetype": "text/x-python",
   "name": "python",
   "nbconvert_exporter": "python",
   "pygments_lexer": "ipython2",
   "version": "2.7.6"
  }
 },
 "nbformat": 4,
 "nbformat_minor": 0
}