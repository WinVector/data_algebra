{
 "cells": [
  {
   "cell_type": "markdown",
   "metadata": {
    "collapsed": true,
    "pycharm": {
     "name": "#%% md\n"
    }
   },
   "source": [
    "Professor Sourav Chatterjee's xicor coefficient of correlation (<a href=\"https://win-vector.com/2021/12/29/exploring-the-xi-correlation-coefficient/\">Nina Zumel's tutorial</a>, <a href=\"https://doi.org/10.1080/01621459.2020.1758115\">JASA</a>; original sources: <a href=\"https://CRAN.R-project.org/package=XICOR\">R package</a>, <a href=\"https://arxiv.org/abs/1909.10140\">Arxiv</a>, <a href=\"https://news.ycombinator.com/item?id=29687613\">Hacker News</a>, and <a href=\"https://github.com/czbiohub/xicor\">a Python package</a> (different author))."
   ]
  },
  {
   "cell_type": "code",
   "execution_count": 1,
   "outputs": [],
   "source": [
    "import numpy as np\n",
    "import pandas as pd\n",
    "from data_algebra.data_ops import *\n",
    "import yaml\n"
   ],
   "metadata": {
    "collapsed": false,
    "pycharm": {
     "name": "#%%\n"
    }
   }
  },
  {
   "cell_type": "code",
   "execution_count": 2,
   "outputs": [],
   "source": [
    "def xicor_query(*, x_name: str = 'x', y_name: str = 'y', table_name='df'):\n",
    "    \"\"\"\n",
    "    Build a query computing the xicor of y_name as a function of x_name.\n",
    "    Ref: https://arxiv.org/abs/1909.10140\n",
    "\n",
    "    xicor(x, y) : 1 - n sum(i = 0, n-2) |r(i+1) - r(i)| / (2 * sum(i=0, n-1) l(i) (n - l(i)),\n",
    "    where r(i) is the rank of the i-th Y item when ordered by x, and l(i) is the reverse rank of\n",
    "    the l-th Y item.\n",
    "\n",
    "    :param x_name: name for explanatory variable column.\n",
    "    :param y_name: name for dependent variable column.\n",
    "    :param table_name: name of data source\n",
    "    :return: data algebra query computing xicor.\n",
    "    \"\"\"\n",
    "    assert isinstance(x_name, str)\n",
    "    assert isinstance(y_name, str)\n",
    "    x_tie_breaker = x_name + \"_tie_breaker\"\n",
    "    y_group = y_name + \"_group\"\n",
    "    names = [\n",
    "        x_name, y_name, x_tie_breaker, y_group,\n",
    "        'l', 'n', 'r',\n",
    "        'rplus', 'rdiff', 'lterm', 'num_sum', 'den_sum',\n",
    "        'xicor'\n",
    "        ]\n",
    "    assert(len(names) == len(set(names)))\n",
    "    ops = (\n",
    "        TableDescription(table_name=table_name, column_names=[x_name, y_name])\n",
    "            .extend({y_group: f\"{y_name}.as_str()\"})  # Google BigQuery won't group by float\n",
    "            .extend({    # convert types, and add in tie breaking column\n",
    "                x_name: f\"1.0 * {x_name}\",\n",
    "                y_name: f\"1.0 * {y_name}\",\n",
    "                x_tie_breaker: \"_uniform()\"})\n",
    "            .extend({\"n\": \"(1).sum()\"})  # annotate in number of rows\n",
    "            .extend(  # compute y ranks, that we will use to compare rank changes wrt x\n",
    "                {\"r\": \"(1).cumsum()\"}, order_by=[y_name])\n",
    "            .extend(  # compute reverse y ranks, used to normalize for ties in denominator\n",
    "                {\"l\": \"(1).cumsum()\"}, order_by=[y_name], reverse=[y_name])\n",
    "            .extend(  # go to max rank of group tie breaking\n",
    "                {\"l\": \"l.max()\", \"r\": \"r.max()\"}, partition_by=[y_group])\n",
    "            .extend(  # get y rank and y rank of next x-item into same row so we can take a difference\n",
    "                {\"rplus\": \"r.shift(1)\"},\n",
    "                order_by=[x_name, x_tie_breaker],\n",
    "                reverse=[x_name, x_tie_breaker],\n",
    "            )\n",
    "            .extend(  # compute numerator and denominator terms\n",
    "                {\"rdiff\": \"((rplus - r).abs()).coalesce(0)\", \"lterm\": \"l * (n - l)\"})\n",
    "            .project(   # aggregate to compute sums in xicor definition\n",
    "                {\"num_sum\": \"rdiff.sum()\", \"den_sum\": \"lterm.sum()\",\n",
    "                 \"n\": \"n.max()\"  # pseudo-aggregation n is constant across rows\n",
    "                 })\n",
    "            .extend(  # actual xicor formula\n",
    "                {\"xicor\": \"1.0 - ((n * num_sum) / (2.0 * den_sum))\"})\n",
    "            .select_columns([\"xicor\"])\n",
    "        )\n",
    "    return ops"
   ],
   "metadata": {
    "collapsed": false,
    "pycharm": {
     "name": "#%%\n"
    }
   }
  },
  {
   "cell_type": "code",
   "execution_count": 3,
   "outputs": [],
   "source": [
    "x_y_ops = xicor_query(x_name='x', y_name='y')\n",
    "\n",
    "def xicor(x, y):\n",
    "    \"\"\"\n",
    "    Compute xicor of y treated as a function of x.\n",
    "\n",
    "    :param x: vector of explanatory variable values.\n",
    "    :param y: vector of dependent variable values.\n",
    "    :return: xicor score (floating point number).\n",
    "    \"\"\"\n",
    "\n",
    "    res_frame = x_y_ops.transform(pd.DataFrame({'x': x, 'y': y}))\n",
    "    return res_frame['xicor'].values[0]\n"
   ],
   "metadata": {
    "collapsed": false,
    "pycharm": {
     "name": "#%%\n"
    }
   }
  },
  {
   "cell_type": "code",
   "execution_count": 4,
   "outputs": [
    {
     "data": {
      "text/plain": "0.25"
     },
     "execution_count": 4,
     "metadata": {},
     "output_type": "execute_result"
    }
   ],
   "source": [
    "xicor([1, 2, 3], [1, 2, 3])"
   ],
   "metadata": {
    "collapsed": false,
    "pycharm": {
     "name": "#%%\n"
    }
   }
  },
  {
   "cell_type": "code",
   "execution_count": 5,
   "outputs": [
    {
     "data": {
      "text/plain": "0.25"
     },
     "execution_count": 5,
     "metadata": {},
     "output_type": "execute_result"
    }
   ],
   "source": [
    "xicor([1, 2, 3], [3, 2, 1])"
   ],
   "metadata": {
    "collapsed": false,
    "pycharm": {
     "name": "#%%\n"
    }
   }
  },
  {
   "cell_type": "code",
   "execution_count": 6,
   "outputs": [
    {
     "data": {
      "text/plain": "-0.125"
     },
     "execution_count": 6,
     "metadata": {},
     "output_type": "execute_result"
    }
   ],
   "source": [
    "xicor([1, 2, 3], [1, 3, 2])"
   ],
   "metadata": {
    "collapsed": false,
    "pycharm": {
     "name": "#%%\n"
    }
   }
  },
  {
   "cell_type": "code",
   "execution_count": 7,
   "outputs": [],
   "source": [
    "with open(\"examples.yaml\", \"r\") as in_f:\n",
    "   examples = yaml.safe_load(in_f)"
   ],
   "metadata": {
    "collapsed": false,
    "pycharm": {
     "name": "#%%\n"
    }
   }
  },
  {
   "cell_type": "code",
   "execution_count": 8,
   "outputs": [
    {
     "name": "stdout",
     "output_type": "stream",
     "text": [
      "ref: -0.0676692 0.0, ours: -0.06766917293233089 1.3877787807814457e-17\n",
      "ref: -0.007518800000000003 3.469446951953614e-18, ours: -0.007518796992481258 0.0\n",
      "ref: 2.2204459999999992e-16 7.395570986446986e-32, ours: 0.0 0.0\n",
      "ref: -0.18796989999999994 5.551115123125783e-17, ours: -0.18796992481203012 0.0\n",
      "ref: 0.135514 0.0, ours: 0.1355140186915888 5.551115123125783e-17\n",
      "ref: 0.003533834180000004 0.06878326849618019, ours: -0.011203007518797015 0.06381235387786602\n",
      "ref: -0.06844740000000002 1.3877787807814457e-17, ours: -0.06844741235392317 1.3877787807814457e-17\n",
      "ref: -0.12718959999999996 5.551115123125783e-17, ours: -0.12718964204112715 0.0\n",
      "ref: 0.04385151299999999 0.08295654197477093, ours: 0.04276875483372002 0.09474552129832493\n",
      "ref: -0.12030080000000005 5.551115123125783e-17, ours: -0.12030075187969928 4.163336342344337e-17\n",
      "ref: -0.042562927 0.11081480834838983, ours: -0.04752097635392831 0.10766262765712442\n",
      "ref: -0.01849624 0.07992888705673187, ours: -0.01669172932330829 0.08729954708955799\n",
      "ref: -0.12621664900000001 0.11045203602378319, ours: -0.13673469387755102 0.11536261390640025\n",
      "ref: 0.0699734 0.0, ours: 0.06997342781222315 0.0\n",
      "ref: -0.038045115 0.07459783493448637, ours: -0.0500751879699248 0.08570254503419245\n",
      "ref: 0.195568684 0.08753438126409499, ours: 0.19933530280649925 0.090562882708955\n",
      "ref: -0.00044609599999999707 0.1007116363467558, ours: -0.007137546468401486 0.09444088479190303\n",
      "ref: -0.057968877 0.10542007147626951, ours: -0.05841363973313566 0.11236633723300776\n",
      "ref: -0.14778690000000003 2.7755575615628914e-17, ours: -0.1477869467366841 2.7755575615628914e-17\n",
      "ref: -0.11278199999999992 6.938893903907228e-17, ours: -0.112781954887218 1.3877787807814457e-17\n",
      "ref: 0.017142856999999997 0.07826834003527257, ours: 0.004135338345864663 0.07129290638459893\n",
      "ref: -0.1597744364 0.08836665551085406, ours: -0.15902255639097745 0.09088341005044925\n",
      "ref: -0.06072249999999999 6.938893903907228e-18, ours: -0.06072252113758658 0.0\n",
      "ref: 0.0625563912 0.08687305410591217, ours: 0.06345864661654134 0.08618994782520259\n",
      "ref: -0.085565466 0.09320217536198308, ours: -0.07827380952380952 0.08359652316219408\n",
      "ref: -0.0225564 0.0, ours: -0.022556390977443552 0.0\n",
      "ref: 0.39786590000000005 5.551115123125783e-17, ours: 0.3978658536585366 5.551115123125783e-17\n",
      "ref: -0.022997600000000003 3.469446951953614e-18, ours: -0.022997620935765184 0.0\n",
      "ref: -0.0676692 0.0, ours: -0.06766917293233089 1.3877787807814457e-17\n",
      "ref: -0.0451128 0.0, ours: -0.04511278195488732 6.938893903907228e-18\n",
      "ref: -0.08630950000000004 4.163336342344337e-17, ours: -0.08630952380952372 0.0\n",
      "ref: 0.12030080000000005 5.551115123125783e-17, ours: 0.12030075187969928 4.163336342344337e-17\n",
      "ref: 0.023467099999999998 3.469446951953614e-18, ours: 0.02346707040121121 0.0\n",
      "ref: 0.076519122 0.11352149575468566, ours: 0.06436609152288073 0.11330603835088505\n",
      "ref: -0.009849621919999989 0.0793914826594726, ours: -0.011127819548872184 0.0729321758001608\n",
      "ref: 0.02601503660000001 0.09562431926454337, ours: 0.06375939849624059 0.11221148958824624\n",
      "ref: -0.1503759 0.0, ours: -0.15037593984962405 0.0\n",
      "ref: -0.08270679999999998 1.3877787807814457e-17, ours: -0.08270676691729321 4.163336342344337e-17\n",
      "ref: -0.005661819999999999 0.10453398156933562, ours: -0.003978576893649588 0.09198262888326425\n",
      "ref: 0.033575586000000004 0.08538535787547069, ours: 0.013808139534883721 0.08345542424142596\n",
      "ref: -0.061987861 0.11166651115096493, ours: -0.07617602427921093 0.10725016805555486\n",
      "ref: 0.059273279 0.11467449857053598, ours: 0.05889477668433006 0.126098856163036\n",
      "ref: -0.04390977482 0.09428655419525532, ours: -0.07548872180451131 0.09607551630624919\n",
      "ref: 0.0038313999999999987 1.3010426069826053e-18, ours: 0.003831417624521105 0.0\n",
      "ref: -0.0902256 0.0, ours: -0.09022556390977442 1.3877787807814457e-17\n",
      "ref: 0.030526316 0.08357589038605419, ours: 0.01586466165413533 0.09336574965571592\n",
      "ref: 0.039172937 0.08762733960876669, ours: 0.034210526315789476 0.07513061722368439\n",
      "ref: 0.21563909099999998 0.05927827445030953, ours: 0.19939849624060155 0.06475321372194436\n",
      "ref: -0.04488589999999998 2.0816681711721685e-17, ours: -0.04488594554819713 6.938893903907228e-18\n",
      "ref: -0.0760953 0.0, ours: -0.07609531129900084 1.3877787807814457e-17\n"
     ]
    }
   ],
   "source": [
    "for example in examples:\n",
    "    a = example['a']\n",
    "    b = example['b']\n",
    "    ref_xicor = example['xicor']\n",
    "    our_xicor = [xicor(a, b) for i in range(len(ref_xicor))]\n",
    "    assert np.abs(np.mean(ref_xicor) - np.mean(our_xicor)) < 0.05\n",
    "    assert np.abs(np.std(ref_xicor) - np.std(our_xicor)) < 0.05\n",
    "    print(f'ref: {np.mean(ref_xicor)} {np.std(ref_xicor)}, ours: {np.mean(our_xicor)} {np.std(our_xicor)}')"
   ],
   "metadata": {
    "collapsed": false,
    "pycharm": {
     "name": "#%%\n"
    }
   }
  },
  {
   "cell_type": "code",
   "execution_count": 9,
   "outputs": [
    {
     "name": "stdout",
     "output_type": "stream",
     "text": [
      "done\n"
     ]
    }
   ],
   "source": [
    "print('done')"
   ],
   "metadata": {
    "collapsed": false,
    "pycharm": {
     "name": "#%%\n"
    }
   }
  }
 ],
 "metadata": {
  "kernelspec": {
   "display_name": "Python 3",
   "language": "python",
   "name": "python3"
  },
  "language_info": {
   "codemirror_mode": {
    "name": "ipython",
    "version": 2
   },
   "file_extension": ".py",
   "mimetype": "text/x-python",
   "name": "python",
   "nbconvert_exporter": "python",
   "pygments_lexer": "ipython2",
   "version": "2.7.6"
  }
 },
 "nbformat": 4,
 "nbformat_minor": 0
}