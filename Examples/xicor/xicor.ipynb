{
 "cells": [
  {
   "cell_type": "markdown",
   "metadata": {
    "collapsed": true,
    "pycharm": {
     "name": "#%% md\n"
    }
   },
   "source": [
    "Professor Sourav Chatterjee's xicor coefficient of correlation (<a href=\"https://win-vector.com/2021/12/29/exploring-the-xi-correlation-coefficient/\">Nina Zumel's tutorial</a>, <a href=\"https://doi.org/10.1080/01621459.2020.1758115\">JASA</a>; original sources: <a href=\"https://CRAN.R-project.org/package=XICOR\">R package</a>, <a href=\"https://arxiv.org/abs/1909.10140\">Arxiv</a>, <a href=\"https://news.ycombinator.com/item?id=29687613\">Hacker News</a>, and <a href=\"https://github.com/czbiohub/xicor\">a Python package</a> (different author))."
   ]
  },
  {
   "cell_type": "code",
   "execution_count": 1,
   "outputs": [],
   "source": [
    "import numpy as np\n",
    "import pandas\n",
    "import pandas as pd\n",
    "from data_algebra.data_ops import *\n",
    "import yaml\n"
   ],
   "metadata": {
    "collapsed": false,
    "pycharm": {
     "name": "#%%\n"
    }
   }
  },
  {
   "cell_type": "code",
   "execution_count": 2,
   "outputs": [],
   "source": [
    "def xicor_query(\n",
    "        *,\n",
    "        x_name: str = 'x',\n",
    "        y_name: str = 'y',\n",
    "        var_keys: Iterable[str] = ('vname', ),\n",
    "        table_name='df'):\n",
    "    \"\"\"\n",
    "    Build a query computing the xicor of y_name as a function of x_name for each var_keys group of rows.\n",
    "    Ref: https://arxiv.org/abs/1909.10140\n",
    "\n",
    "    xicor(x, y) : 1 - n sum(i = 0, n-2) |r(i+1) - r(i)| / (2 * sum(i=0, n-1) l(i) (n - l(i)),\n",
    "    where r(i) is the rank of the i-th Y item when ordered by x, and l(i) is the reverse rank of\n",
    "    the l-th Y item.\n",
    "\n",
    "    :param x_name: name for explanatory variable column.\n",
    "    :param y_name: name for dependent variable column.\n",
    "    :param var_keys: list of names for variable id columns.\n",
    "    :param rep_id: name for repetition id column.\n",
    "    :param table_name: name of data source\n",
    "    :return: data algebra query computing xicor.\n",
    "    \"\"\"\n",
    "    assert isinstance(x_name, str)\n",
    "    assert isinstance(y_name, str)\n",
    "    assert not isinstance(var_keys, str)\n",
    "    var_keys = list(var_keys)\n",
    "    assert len(var_keys) > 0\n",
    "    x_tie_breaker = x_name + \"_tie_breaker\"\n",
    "    y_group = y_name + \"_group\"\n",
    "    names = [\n",
    "        x_name, y_name, x_tie_breaker, y_group,\n",
    "        'l', 'n', 'r',\n",
    "        'rplus', 'rdiff', 'lterm', 'num_sum', 'den_sum',\n",
    "        'xicor'\n",
    "        ] + var_keys\n",
    "    assert(len(names) == len(set(names)))\n",
    "    ops = (\n",
    "        TableDescription(table_name=table_name, column_names=var_keys + [x_name, y_name])\n",
    "            .extend({y_group: f\"{y_name}.as_str()\"})  # Google BigQuery won't group by float\n",
    "            .extend({    # convert types, and add in tie breaking column\n",
    "                x_name: f\"1.0 * {x_name}\",\n",
    "                y_name: f\"1.0 * {y_name}\",\n",
    "                x_tie_breaker: \"_uniform()\"})\n",
    "            .extend(\n",
    "                {\"n\": \"(1).sum()\"}, partition_by=var_keys)  # annotate in number of rows\n",
    "            .extend(  # compute y ranks, that we will use to compare rank changes wrt x\n",
    "                {\"r\": \"(1).cumsum()\"}, order_by=[y_name], partition_by=var_keys)\n",
    "            .extend(  # compute reverse y ranks, used to normalize for ties in denominator\n",
    "                {\"l\": \"(1).cumsum()\"}, order_by=[y_name], reverse=[y_name], partition_by=var_keys)\n",
    "            .extend(  # go to max rank of group tie breaking\n",
    "                {\"l\": \"l.max()\", \"r\": \"r.max()\"}, partition_by=[y_group] + var_keys)\n",
    "            .extend(  # get y rank and y rank of next x-item into same row so we can take a difference\n",
    "                {\"rplus\": \"r.shift(1)\"},\n",
    "                order_by=[x_name, x_tie_breaker],\n",
    "                reverse=[x_name, x_tie_breaker],\n",
    "                partition_by=var_keys,\n",
    "                )\n",
    "            .extend(  # compute numerator and denominator terms\n",
    "                {\"rdiff\": \"((rplus - r).abs()).coalesce(0)\", \"lterm\": \"l * (n - l)\"})\n",
    "            .project(   # aggregate to compute sums in xicor definition\n",
    "                {\"num_sum\": \"rdiff.sum()\", \"den_sum\": \"lterm.sum()\",\n",
    "                 \"n\": \"n.max()\"  # pseudo-aggregation n is constant across rows\n",
    "                 },\n",
    "                group_by=var_keys,\n",
    "                )\n",
    "            .extend(  # apply actual xicor formula\n",
    "                {\"xicor\": \"1.0 - ((n * num_sum) / (2.0 * den_sum))\"})\n",
    "            .select_columns(var_keys + [\"xicor\"])\n",
    "        )\n",
    "    return ops"
   ],
   "metadata": {
    "collapsed": false,
    "pycharm": {
     "name": "#%%\n"
    }
   }
  },
  {
   "cell_type": "code",
   "execution_count": 3,
   "outputs": [],
   "source": [
    "x_y_ops = xicor_query(var_keys=['vname', 'rep'])\n",
    "\n",
    "def xicor(x, y):\n",
    "    \"\"\"\n",
    "    Compute xicor of y treated as a function of x.\n",
    "\n",
    "    :param x: vector of explanatory variable values.\n",
    "    :param y: vector of dependent variable values.\n",
    "    :return: xicor score (floating point number).\n",
    "    \"\"\"\n",
    "\n",
    "    res_frame = x_y_ops.transform(pd.DataFrame({'x': x, 'y': y, 'vname': 'v', 'rep': 0}))\n",
    "    return res_frame['xicor'].values[0]\n"
   ],
   "metadata": {
    "collapsed": false,
    "pycharm": {
     "name": "#%%\n"
    }
   }
  },
  {
   "cell_type": "code",
   "execution_count": 4,
   "outputs": [
    {
     "data": {
      "text/plain": "0.25"
     },
     "execution_count": 4,
     "metadata": {},
     "output_type": "execute_result"
    }
   ],
   "source": [
    "x1 = xicor([1, 2, 3], [1, 2, 3])  # expect 0.25\n",
    "assert x1 == 0.25\n",
    "x1"
   ],
   "metadata": {
    "collapsed": false,
    "pycharm": {
     "name": "#%%\n"
    }
   }
  },
  {
   "cell_type": "code",
   "execution_count": 5,
   "outputs": [
    {
     "data": {
      "text/plain": "0.25"
     },
     "execution_count": 5,
     "metadata": {},
     "output_type": "execute_result"
    }
   ],
   "source": [
    "x2 = xicor([1, 2, 3], [3, 2, 1])  # expect 0.25\n",
    "assert x2 == 0.25\n",
    "x2"
   ],
   "metadata": {
    "collapsed": false,
    "pycharm": {
     "name": "#%%\n"
    }
   }
  },
  {
   "cell_type": "code",
   "execution_count": 6,
   "outputs": [
    {
     "data": {
      "text/plain": "-0.125"
     },
     "execution_count": 6,
     "metadata": {},
     "output_type": "execute_result"
    }
   ],
   "source": [
    "x3 = xicor([1, 2, 3], [1, 3, 2])  # expect -0.125\n",
    "assert x3 == -0.125\n",
    "x3"
   ],
   "metadata": {
    "collapsed": false,
    "pycharm": {
     "name": "#%%\n"
    }
   }
  },
  {
   "cell_type": "code",
   "execution_count": 7,
   "outputs": [],
   "source": [
    "with open(\"examples.yaml\", \"r\") as in_f:\n",
    "   examples = yaml.safe_load(in_f)"
   ],
   "metadata": {
    "collapsed": false,
    "pycharm": {
     "name": "#%%\n"
    }
   }
  },
  {
   "cell_type": "code",
   "execution_count": 8,
   "outputs": [
    {
     "data": {
      "text/plain": "              x          y vname  rep\n0      0.561595   0.084883   v_0    0\n1      0.035700   0.635105   v_0    0\n2      0.748017   0.133560   v_0    0\n3      0.663603   0.577371   v_0    0\n4      0.074035   0.214352   v_0    0\n...         ...        ...   ...  ...\n99995  0.360310   5.000000  v_49   99\n99996  0.413419   2.000000  v_49   99\n99997  0.224839   4.000000  v_49   99\n99998  0.910356  10.000000  v_49   99\n99999  0.845627   1.000000  v_49   99\n\n[100000 rows x 4 columns]",
      "text/html": "<div>\n<style scoped>\n    .dataframe tbody tr th:only-of-type {\n        vertical-align: middle;\n    }\n\n    .dataframe tbody tr th {\n        vertical-align: top;\n    }\n\n    .dataframe thead th {\n        text-align: right;\n    }\n</style>\n<table border=\"1\" class=\"dataframe\">\n  <thead>\n    <tr style=\"text-align: right;\">\n      <th></th>\n      <th>x</th>\n      <th>y</th>\n      <th>vname</th>\n      <th>rep</th>\n    </tr>\n  </thead>\n  <tbody>\n    <tr>\n      <th>0</th>\n      <td>0.561595</td>\n      <td>0.084883</td>\n      <td>v_0</td>\n      <td>0</td>\n    </tr>\n    <tr>\n      <th>1</th>\n      <td>0.035700</td>\n      <td>0.635105</td>\n      <td>v_0</td>\n      <td>0</td>\n    </tr>\n    <tr>\n      <th>2</th>\n      <td>0.748017</td>\n      <td>0.133560</td>\n      <td>v_0</td>\n      <td>0</td>\n    </tr>\n    <tr>\n      <th>3</th>\n      <td>0.663603</td>\n      <td>0.577371</td>\n      <td>v_0</td>\n      <td>0</td>\n    </tr>\n    <tr>\n      <th>4</th>\n      <td>0.074035</td>\n      <td>0.214352</td>\n      <td>v_0</td>\n      <td>0</td>\n    </tr>\n    <tr>\n      <th>...</th>\n      <td>...</td>\n      <td>...</td>\n      <td>...</td>\n      <td>...</td>\n    </tr>\n    <tr>\n      <th>99995</th>\n      <td>0.360310</td>\n      <td>5.000000</td>\n      <td>v_49</td>\n      <td>99</td>\n    </tr>\n    <tr>\n      <th>99996</th>\n      <td>0.413419</td>\n      <td>2.000000</td>\n      <td>v_49</td>\n      <td>99</td>\n    </tr>\n    <tr>\n      <th>99997</th>\n      <td>0.224839</td>\n      <td>4.000000</td>\n      <td>v_49</td>\n      <td>99</td>\n    </tr>\n    <tr>\n      <th>99998</th>\n      <td>0.910356</td>\n      <td>10.000000</td>\n      <td>v_49</td>\n      <td>99</td>\n    </tr>\n    <tr>\n      <th>99999</th>\n      <td>0.845627</td>\n      <td>1.000000</td>\n      <td>v_49</td>\n      <td>99</td>\n    </tr>\n  </tbody>\n</table>\n<p>100000 rows × 4 columns</p>\n</div>"
     },
     "execution_count": 8,
     "metadata": {},
     "output_type": "execute_result"
    }
   ],
   "source": [
    "def example_to_frame(ei):\n",
    "    \"encode an example into a data frame\"\n",
    "    example = examples[ei]\n",
    "    a = example['a']\n",
    "    b = example['b']\n",
    "    n_answers = len(example['xicor'])\n",
    "    frames = [pd.DataFrame({'x': a, 'y': b, 'vname': f'v_{ei}', 'rep': j})\n",
    "                           for j in range(n_answers)]\n",
    "    return pandas.concat(frames).reset_index(drop=True, inplace=False)\n",
    "\n",
    "example_frames = [example_to_frame(i) for i in range(len(examples))]\n",
    "example_frames = pd.concat(example_frames).reset_index(drop=True, inplace=False)\n",
    "\n",
    "example_frames"
   ],
   "metadata": {
    "collapsed": false,
    "pycharm": {
     "name": "#%%\n"
    }
   }
  },
  {
   "cell_type": "code",
   "execution_count": 9,
   "outputs": [
    {
     "data": {
      "text/plain": "   vname  xicor_mean  xicor_std\n0    v_0   -0.067669   0.000000\n1    v_1   -0.007519   0.000000\n2   v_10   -0.035317   0.117819\n3   v_11   -0.032556   0.086014\n4   v_12   -0.123548   0.121688\n5   v_13    0.069973   0.000000\n6   v_14   -0.040602   0.075355\n7   v_15    0.201477   0.087224\n8   v_16   -0.023048   0.095868\n9   v_17   -0.052557   0.098633\n10  v_18   -0.147787   0.000000\n11  v_19   -0.112782   0.000000\n12   v_2    0.000000   0.000000\n13  v_20    0.004962   0.079767\n14  v_21   -0.163684   0.078632\n15  v_22   -0.060723   0.000000\n16  v_23    0.069774   0.076543\n17  v_24   -0.073661   0.087319\n18  v_25   -0.022556   0.000000\n19  v_26    0.397866   0.000000\n20  v_27   -0.022998   0.000000\n21  v_28   -0.067669   0.000000\n22  v_29   -0.045113   0.000000\n23   v_3   -0.187970   0.000000\n24  v_30   -0.086310   0.000000\n25  v_31    0.120301   0.000000\n26  v_32    0.023467   0.000000\n27  v_33    0.051013   0.102747\n28  v_34   -0.017744   0.078571\n29  v_35    0.037744   0.109287\n30  v_36   -0.150376   0.000000\n31  v_37   -0.082707   0.000000\n32  v_38    0.001224   0.098514\n33  v_39    0.001890   0.090971\n34   v_4    0.135514   0.000000\n35  v_40   -0.053945   0.109362\n36  v_41    0.048070   0.118445\n37  v_42   -0.069774   0.108596\n38  v_43    0.003831   0.000000\n39  v_44   -0.090226   0.000000\n40  v_45    0.041278   0.079496\n41  v_46    0.045338   0.077642\n42  v_47    0.219925   0.051467\n43  v_48   -0.044886   0.000000\n44  v_49   -0.076095   0.000000\n45   v_5   -0.002406   0.071728\n46   v_6   -0.068447   0.000000\n47   v_7   -0.127190   0.000000\n48   v_8    0.037896   0.081062\n49   v_9   -0.120301   0.000000",
      "text/html": "<div>\n<style scoped>\n    .dataframe tbody tr th:only-of-type {\n        vertical-align: middle;\n    }\n\n    .dataframe tbody tr th {\n        vertical-align: top;\n    }\n\n    .dataframe thead th {\n        text-align: right;\n    }\n</style>\n<table border=\"1\" class=\"dataframe\">\n  <thead>\n    <tr style=\"text-align: right;\">\n      <th></th>\n      <th>vname</th>\n      <th>xicor_mean</th>\n      <th>xicor_std</th>\n    </tr>\n  </thead>\n  <tbody>\n    <tr>\n      <th>0</th>\n      <td>v_0</td>\n      <td>-0.067669</td>\n      <td>0.000000</td>\n    </tr>\n    <tr>\n      <th>1</th>\n      <td>v_1</td>\n      <td>-0.007519</td>\n      <td>0.000000</td>\n    </tr>\n    <tr>\n      <th>2</th>\n      <td>v_10</td>\n      <td>-0.035317</td>\n      <td>0.117819</td>\n    </tr>\n    <tr>\n      <th>3</th>\n      <td>v_11</td>\n      <td>-0.032556</td>\n      <td>0.086014</td>\n    </tr>\n    <tr>\n      <th>4</th>\n      <td>v_12</td>\n      <td>-0.123548</td>\n      <td>0.121688</td>\n    </tr>\n    <tr>\n      <th>5</th>\n      <td>v_13</td>\n      <td>0.069973</td>\n      <td>0.000000</td>\n    </tr>\n    <tr>\n      <th>6</th>\n      <td>v_14</td>\n      <td>-0.040602</td>\n      <td>0.075355</td>\n    </tr>\n    <tr>\n      <th>7</th>\n      <td>v_15</td>\n      <td>0.201477</td>\n      <td>0.087224</td>\n    </tr>\n    <tr>\n      <th>8</th>\n      <td>v_16</td>\n      <td>-0.023048</td>\n      <td>0.095868</td>\n    </tr>\n    <tr>\n      <th>9</th>\n      <td>v_17</td>\n      <td>-0.052557</td>\n      <td>0.098633</td>\n    </tr>\n    <tr>\n      <th>10</th>\n      <td>v_18</td>\n      <td>-0.147787</td>\n      <td>0.000000</td>\n    </tr>\n    <tr>\n      <th>11</th>\n      <td>v_19</td>\n      <td>-0.112782</td>\n      <td>0.000000</td>\n    </tr>\n    <tr>\n      <th>12</th>\n      <td>v_2</td>\n      <td>0.000000</td>\n      <td>0.000000</td>\n    </tr>\n    <tr>\n      <th>13</th>\n      <td>v_20</td>\n      <td>0.004962</td>\n      <td>0.079767</td>\n    </tr>\n    <tr>\n      <th>14</th>\n      <td>v_21</td>\n      <td>-0.163684</td>\n      <td>0.078632</td>\n    </tr>\n    <tr>\n      <th>15</th>\n      <td>v_22</td>\n      <td>-0.060723</td>\n      <td>0.000000</td>\n    </tr>\n    <tr>\n      <th>16</th>\n      <td>v_23</td>\n      <td>0.069774</td>\n      <td>0.076543</td>\n    </tr>\n    <tr>\n      <th>17</th>\n      <td>v_24</td>\n      <td>-0.073661</td>\n      <td>0.087319</td>\n    </tr>\n    <tr>\n      <th>18</th>\n      <td>v_25</td>\n      <td>-0.022556</td>\n      <td>0.000000</td>\n    </tr>\n    <tr>\n      <th>19</th>\n      <td>v_26</td>\n      <td>0.397866</td>\n      <td>0.000000</td>\n    </tr>\n    <tr>\n      <th>20</th>\n      <td>v_27</td>\n      <td>-0.022998</td>\n      <td>0.000000</td>\n    </tr>\n    <tr>\n      <th>21</th>\n      <td>v_28</td>\n      <td>-0.067669</td>\n      <td>0.000000</td>\n    </tr>\n    <tr>\n      <th>22</th>\n      <td>v_29</td>\n      <td>-0.045113</td>\n      <td>0.000000</td>\n    </tr>\n    <tr>\n      <th>23</th>\n      <td>v_3</td>\n      <td>-0.187970</td>\n      <td>0.000000</td>\n    </tr>\n    <tr>\n      <th>24</th>\n      <td>v_30</td>\n      <td>-0.086310</td>\n      <td>0.000000</td>\n    </tr>\n    <tr>\n      <th>25</th>\n      <td>v_31</td>\n      <td>0.120301</td>\n      <td>0.000000</td>\n    </tr>\n    <tr>\n      <th>26</th>\n      <td>v_32</td>\n      <td>0.023467</td>\n      <td>0.000000</td>\n    </tr>\n    <tr>\n      <th>27</th>\n      <td>v_33</td>\n      <td>0.051013</td>\n      <td>0.102747</td>\n    </tr>\n    <tr>\n      <th>28</th>\n      <td>v_34</td>\n      <td>-0.017744</td>\n      <td>0.078571</td>\n    </tr>\n    <tr>\n      <th>29</th>\n      <td>v_35</td>\n      <td>0.037744</td>\n      <td>0.109287</td>\n    </tr>\n    <tr>\n      <th>30</th>\n      <td>v_36</td>\n      <td>-0.150376</td>\n      <td>0.000000</td>\n    </tr>\n    <tr>\n      <th>31</th>\n      <td>v_37</td>\n      <td>-0.082707</td>\n      <td>0.000000</td>\n    </tr>\n    <tr>\n      <th>32</th>\n      <td>v_38</td>\n      <td>0.001224</td>\n      <td>0.098514</td>\n    </tr>\n    <tr>\n      <th>33</th>\n      <td>v_39</td>\n      <td>0.001890</td>\n      <td>0.090971</td>\n    </tr>\n    <tr>\n      <th>34</th>\n      <td>v_4</td>\n      <td>0.135514</td>\n      <td>0.000000</td>\n    </tr>\n    <tr>\n      <th>35</th>\n      <td>v_40</td>\n      <td>-0.053945</td>\n      <td>0.109362</td>\n    </tr>\n    <tr>\n      <th>36</th>\n      <td>v_41</td>\n      <td>0.048070</td>\n      <td>0.118445</td>\n    </tr>\n    <tr>\n      <th>37</th>\n      <td>v_42</td>\n      <td>-0.069774</td>\n      <td>0.108596</td>\n    </tr>\n    <tr>\n      <th>38</th>\n      <td>v_43</td>\n      <td>0.003831</td>\n      <td>0.000000</td>\n    </tr>\n    <tr>\n      <th>39</th>\n      <td>v_44</td>\n      <td>-0.090226</td>\n      <td>0.000000</td>\n    </tr>\n    <tr>\n      <th>40</th>\n      <td>v_45</td>\n      <td>0.041278</td>\n      <td>0.079496</td>\n    </tr>\n    <tr>\n      <th>41</th>\n      <td>v_46</td>\n      <td>0.045338</td>\n      <td>0.077642</td>\n    </tr>\n    <tr>\n      <th>42</th>\n      <td>v_47</td>\n      <td>0.219925</td>\n      <td>0.051467</td>\n    </tr>\n    <tr>\n      <th>43</th>\n      <td>v_48</td>\n      <td>-0.044886</td>\n      <td>0.000000</td>\n    </tr>\n    <tr>\n      <th>44</th>\n      <td>v_49</td>\n      <td>-0.076095</td>\n      <td>0.000000</td>\n    </tr>\n    <tr>\n      <th>45</th>\n      <td>v_5</td>\n      <td>-0.002406</td>\n      <td>0.071728</td>\n    </tr>\n    <tr>\n      <th>46</th>\n      <td>v_6</td>\n      <td>-0.068447</td>\n      <td>0.000000</td>\n    </tr>\n    <tr>\n      <th>47</th>\n      <td>v_7</td>\n      <td>-0.127190</td>\n      <td>0.000000</td>\n    </tr>\n    <tr>\n      <th>48</th>\n      <td>v_8</td>\n      <td>0.037896</td>\n      <td>0.081062</td>\n    </tr>\n    <tr>\n      <th>49</th>\n      <td>v_9</td>\n      <td>-0.120301</td>\n      <td>0.000000</td>\n    </tr>\n  </tbody>\n</table>\n</div>"
     },
     "execution_count": 9,
     "metadata": {},
     "output_type": "execute_result"
    }
   ],
   "source": [
    "grouped_calc = (\n",
    "    x_y_ops\n",
    "        .project({\n",
    "            'xicor_mean': 'xicor.mean()',\n",
    "            'xicor_std': 'xicor.std()',\n",
    "            },\n",
    "            group_by=['vname'])\n",
    "        .order_rows(['vname'])\n",
    ")\n",
    "xicor_results = grouped_calc.transform(example_frames)\n",
    "\n",
    "xicor_results\n"
   ],
   "metadata": {
    "collapsed": false,
    "pycharm": {
     "name": "#%%\n"
    }
   }
  },
  {
   "cell_type": "code",
   "execution_count": 10,
   "outputs": [
    {
     "name": "stdout",
     "output_type": "stream",
     "text": [
      "ref: -0.0676692 0.0, ours: -0.06766917293233088 0.0\n",
      "ref: -0.007518800000000003 3.469446951953614e-18, ours: -0.007518796992481258 0.0\n",
      "ref: 2.2204459999999992e-16 7.395570986446986e-32, ours: 0.0 0.0\n",
      "ref: -0.18796989999999994 5.551115123125783e-17, ours: -0.18796992481203012 0.0\n",
      "ref: 0.135514 0.0, ours: 0.13551401869158874 0.0\n",
      "ref: 0.003533834180000004 0.06878326849618019, ours: -0.002406015037593997 0.07172777727549859\n",
      "ref: -0.06844740000000002 1.3877787807814457e-17, ours: -0.06844741235392315 0.0\n",
      "ref: -0.12718959999999996 5.551115123125783e-17, ours: -0.12718964204112715 0.0\n",
      "ref: 0.04385151299999999 0.08295654197477093, ours: 0.03789636504253673 0.08106221700616294\n",
      "ref: -0.12030080000000005 5.551115123125783e-17, ours: -0.12030075187969924 0.0\n",
      "ref: -0.042562927 0.11081480834838983, ours: -0.03531655225019069 0.11781945013820248\n",
      "ref: -0.01849624 0.07992888705673187, ours: -0.03255639097744363 0.08601378816978562\n",
      "ref: -0.12621664900000001 0.11045203602378319, ours: -0.12354788069073783 0.12168780807784174\n",
      "ref: 0.0699734 0.0, ours: 0.06997342781222315 0.0\n",
      "ref: -0.038045115 0.07459783493448637, ours: -0.040601503759398486 0.07535486906452589\n",
      "ref: 0.195568684 0.08753438126409499, ours: 0.2014771048744461 0.08722438861716231\n",
      "ref: -0.00044609599999999707 0.1007116363467558, ours: -0.023048327137546464 0.09586830166836521\n",
      "ref: -0.057968877 0.10542007147626951, ours: -0.052557449962935515 0.09863342690932986\n",
      "ref: -0.14778690000000003 2.7755575615628914e-17, ours: -0.14778694673668413 0.0\n",
      "ref: -0.11278199999999992 6.938893903907228e-17, ours: -0.112781954887218 0.0\n",
      "ref: 0.017142856999999997 0.07826834003527257, ours: 0.004962406015037585 0.07976656930799889\n",
      "ref: -0.1597744364 0.08836665551085406, ours: -0.16368421052631582 0.07863195426831432\n",
      "ref: -0.06072249999999999 6.938893903907228e-18, ours: -0.06072252113758658 0.0\n",
      "ref: 0.0625563912 0.08687305410591217, ours: 0.06977443609022554 0.07654341393373215\n",
      "ref: -0.085565466 0.09320217536198308, ours: -0.07366071428571427 0.0873193924106835\n",
      "ref: -0.0225564 0.0, ours: -0.022556390977443552 0.0\n",
      "ref: 0.39786590000000005 5.551115123125783e-17, ours: 0.39786585365853655 0.0\n",
      "ref: -0.022997600000000003 3.469446951953614e-18, ours: -0.022997620935765184 0.0\n",
      "ref: -0.0676692 0.0, ours: -0.06766917293233088 0.0\n",
      "ref: -0.0451128 0.0, ours: -0.04511278195488733 0.0\n",
      "ref: -0.08630950000000004 4.163336342344337e-17, ours: -0.08630952380952372 0.0\n",
      "ref: 0.12030080000000005 5.551115123125783e-17, ours: 0.12030075187969924 0.0\n",
      "ref: 0.023467099999999998 3.469446951953614e-18, ours: 0.02346707040121121 0.0\n",
      "ref: 0.076519122 0.11352149575468566, ours: 0.051012753188297094 0.10274717697743116\n",
      "ref: -0.009849621919999989 0.0793914826594726, ours: -0.01774436090225564 0.07857140131755626\n",
      "ref: 0.02601503660000001 0.09562431926454337, ours: 0.037744360902255615 0.10928729154887148\n",
      "ref: -0.1503759 0.0, ours: -0.15037593984962405 0.0\n",
      "ref: -0.08270679999999998 1.3877787807814457e-17, ours: -0.08270676691729317 0.0\n",
      "ref: -0.005661819999999999 0.10453398156933562, ours: 0.001224177505738333 0.09851416554147199\n",
      "ref: 0.033575586000000004 0.08538535787547069, ours: 0.0018895348837209313 0.09097122149969442\n",
      "ref: -0.061987861 0.11166651115096493, ours: -0.05394537177541729 0.1093616439892632\n",
      "ref: 0.059273279 0.11467449857053598, ours: 0.048069644208932644 0.1184450121074264\n",
      "ref: -0.04390977482 0.09428655419525532, ours: -0.0697744360902256 0.10859591833428599\n",
      "ref: 0.0038313999999999987 1.3010426069826053e-18, ours: 0.003831417624521105 0.0\n",
      "ref: -0.0902256 0.0, ours: -0.09022556390977442 0.0\n",
      "ref: 0.030526316 0.08357589038605419, ours: 0.0412781954887218 0.07949604460542434\n",
      "ref: 0.039172937 0.08762733960876669, ours: 0.04533834586466166 0.077642439315873\n",
      "ref: 0.21563909099999998 0.05927827445030953, ours: 0.21992481203007522 0.05146728339326301\n",
      "ref: -0.04488589999999998 2.0816681711721685e-17, ours: -0.04488594554819714 0.0\n",
      "ref: -0.0760953 0.0, ours: -0.07609531129900082 0.0\n"
     ]
    }
   ],
   "source": [
    "for ei in range(len(examples)):\n",
    "    example = examples[ei]\n",
    "    a = example['a']\n",
    "    b = example['b']\n",
    "    ref_xicor = example['xicor']\n",
    "    our_result = xicor_results.loc[xicor_results['vname'] == f'v_{ei}', :]\n",
    "    our_xicor_mean = our_result['xicor_mean'].values[0]\n",
    "    our_xicor_std = our_result['xicor_std'].values[0]\n",
    "    assert np.abs(np.mean(ref_xicor) - our_xicor_mean) < 0.05\n",
    "    assert np.abs(np.std(ref_xicor) - our_xicor_std) < 0.05\n",
    "    print(f'ref: {np.mean(ref_xicor)} {np.std(ref_xicor)}, ours: {our_xicor_mean} {our_xicor_std}')"
   ],
   "metadata": {
    "collapsed": false,
    "pycharm": {
     "name": "#%%\n"
    }
   }
  },
  {
   "cell_type": "code",
   "execution_count": 11,
   "outputs": [
    {
     "name": "stdout",
     "output_type": "stream",
     "text": [
      "done\n"
     ]
    }
   ],
   "source": [
    "print('done')"
   ],
   "metadata": {
    "collapsed": false,
    "pycharm": {
     "name": "#%%\n"
    }
   }
  }
 ],
 "metadata": {
  "kernelspec": {
   "display_name": "Python 3",
   "language": "python",
   "name": "python3"
  },
  "language_info": {
   "codemirror_mode": {
    "name": "ipython",
    "version": 2
   },
   "file_extension": ".py",
   "mimetype": "text/x-python",
   "name": "python",
   "nbconvert_exporter": "python",
   "pygments_lexer": "ipython2",
   "version": "2.7.6"
  }
 },
 "nbformat": 4,
 "nbformat_minor": 0
}