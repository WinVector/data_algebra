{
 "cells": [
  {
   "cell_type": "markdown",
   "metadata": {
    "collapsed": true,
    "pycharm": {
     "name": "#%% md\n"
    }
   },
   "source": [
    "Professor Sourav Chatterjee's xicor coefficient of correlation (<a href=\"https://win-vector.com/2021/12/26/how-to-read-sourav-chatterjees-basic-xicor-defenition/\">our note</a>, <a href=\"https://doi.org/10.1080/01621459.2020.1758115\">JASA</a>; original sources: <a href=\"https://CRAN.R-project.org/package=XICOR\">R package</a>, <a href=\"https://arxiv.org/abs/1909.10140\">Arxiv</a>, <a href=\"https://news.ycombinator.com/item?id=29687613\">Hacker News</a>, and <a href=\"https://github.com/czbiohub/xicor\">a Python package</a> (different author))."
   ]
  },
  {
   "cell_type": "code",
   "execution_count": 1,
   "outputs": [],
   "source": [
    "import numpy as np\n",
    "import pandas as pd\n",
    "import numpy as np\n",
    "from data_algebra.data_ops import *\n",
    "import yaml\n"
   ],
   "metadata": {
    "collapsed": false,
    "pycharm": {
     "name": "#%%\n"
    }
   }
  },
  {
   "cell_type": "code",
   "execution_count": 2,
   "outputs": [],
   "source": [
    "def xicor_query(*, x_name: str = 'x', y_name: str = 'y'):\n",
    "    \"\"\"\n",
    "    Build a query computing the xicor of y_name as a function of x_name.\n",
    "    Ref: https://arxiv.org/abs/1909.10140\n",
    "\n",
    "    xicor(x, y) : 1 - n sum(i = 0, n-2) |r(i+1) - r(i)| / (2 * sum(i=0, n-1) l(i) (n - l(i)),\n",
    "    where r(i) is the rank of the i-th Y item when ordered by x, and l(i) is the reverse rank of\n",
    "    the l-th Y item.\n",
    "\n",
    "    :param x_name: name for explanatory variable column.\n",
    "    :param y_name: name for dependent variable column.\n",
    "    :return: data algebra query computing xicor.\n",
    "    \"\"\"\n",
    "    assert isinstance(x_name, str)\n",
    "    assert isinstance(y_name, str)\n",
    "    x_tie_breaker = x_name + \"_tie_breaker\"\n",
    "    y_tie_breaker = y_name + \"_tie_breaker\"\n",
    "    assert(len({x_name, y_name, x_tie_breaker, y_tie_breaker}) == 4)\n",
    "    ops = (\n",
    "        TableDescription(column_names=[x_name, y_name])\n",
    "            .extend(  # add in some tie breaking columns\n",
    "                {\n",
    "                    x_tie_breaker: '_uniform()',\n",
    "                    y_tie_breaker: '_uniform()',\n",
    "                })\n",
    "            .extend({'n': '(1).sum()'}) # annotate in number of rows\n",
    "            .extend({'r': '(1).cumsum()'},  # compute y ranks, that we will use to compare rank changes wrt x\n",
    "                order_by=[y_name, y_tie_breaker])\n",
    "            .extend(\n",
    "                {'l': '(1).cumsum()'},  # compute reverse y ranks, used to normalize for ties in denominator\n",
    "                order_by=[y_name, y_tie_breaker],\n",
    "                reverse=[y_name, y_tie_breaker])\n",
    "            .extend(  # get y rank and y rank of next x-item into same row so we can take a differnce\n",
    "                {'rplus': 'r.shift()'},\n",
    "                order_by=[x_name, x_tie_breaker],\n",
    "                reverse=[x_name, x_tie_breaker])\n",
    "            .extend(  # compute numerator and denominator terms\n",
    "                {\n",
    "                    'rdiff': '(rplus - r).abs().coalesce_0()',\n",
    "                    'lterm': 'l * (n - l)',\n",
    "                })\n",
    "            .project(  # aggregate to compute sums in xicor definition\n",
    "                {\n",
    "                    'num_sum': 'rdiff.sum()',\n",
    "                    'den_sum': 'lterm.sum()',\n",
    "                    'n': 'n.max()',  # pseudo-aggregation, column is constant\n",
    "                }\n",
    "                )\n",
    "            .extend({'xicor': '1 - n * num_sum / ( 2 * den_sum)'})  #  actual xicor formula\n",
    "            .select_columns('xicor')\n",
    "    )\n",
    "    return ops"
   ],
   "metadata": {
    "collapsed": false,
    "pycharm": {
     "name": "#%%\n"
    }
   }
  },
  {
   "cell_type": "code",
   "execution_count": 3,
   "outputs": [],
   "source": [
    "def xicor(x, y):\n",
    "    \"\"\"\n",
    "    Compute xicor of y treated as a function of x.\n",
    "\n",
    "    :param x: vector of explanatory variable values.\n",
    "    :param y: vector of dependent variable values.\n",
    "    :return: xicor score (floating point number).\n",
    "    \"\"\"\n",
    "\n",
    "    ops = xicor_query(x_name='x', y_name='y')\n",
    "    res_frame = ops.transform(pd.DataFrame({'x': x, 'y': y}))\n",
    "    return res_frame['xicor'].values[0]\n"
   ],
   "metadata": {
    "collapsed": false,
    "pycharm": {
     "name": "#%%\n"
    }
   }
  },
  {
   "cell_type": "code",
   "execution_count": 4,
   "outputs": [
    {
     "data": {
      "text/plain": "0.25"
     },
     "execution_count": 4,
     "metadata": {},
     "output_type": "execute_result"
    }
   ],
   "source": [
    "xicor([1, 2, 3], [1, 2, 3])"
   ],
   "metadata": {
    "collapsed": false,
    "pycharm": {
     "name": "#%%\n"
    }
   }
  },
  {
   "cell_type": "code",
   "execution_count": 5,
   "outputs": [
    {
     "data": {
      "text/plain": "0.25"
     },
     "execution_count": 5,
     "metadata": {},
     "output_type": "execute_result"
    }
   ],
   "source": [
    "xicor([1, 2, 3], [3, 2, 1])"
   ],
   "metadata": {
    "collapsed": false,
    "pycharm": {
     "name": "#%%\n"
    }
   }
  },
  {
   "cell_type": "code",
   "execution_count": 6,
   "outputs": [
    {
     "data": {
      "text/plain": "-0.125"
     },
     "execution_count": 6,
     "metadata": {},
     "output_type": "execute_result"
    }
   ],
   "source": [
    "xicor([1, 2, 3], [1, 3, 2])"
   ],
   "metadata": {
    "collapsed": false,
    "pycharm": {
     "name": "#%%\n"
    }
   }
  },
  {
   "cell_type": "code",
   "execution_count": 7,
   "outputs": [],
   "source": [
    "with open(\"examples.yaml\", \"r\") as in_f:\n",
    "   examples = yaml.safe_load(in_f)"
   ],
   "metadata": {
    "collapsed": false,
    "pycharm": {
     "name": "#%%\n"
    }
   }
  },
  {
   "cell_type": "code",
   "execution_count": 8,
   "outputs": [
    {
     "name": "stdout",
     "output_type": "stream",
     "text": [
      "ref: 0.0300752, ours: 0.03007518796992481\n",
      "ref: 0.2180451, ours: 0.21804511278195493\n",
      "ref: -0.1353383, ours: -0.13533834586466176\n",
      "ref: -0.0601504, ours: -0.06015037593984962\n",
      "ref: -0.0300752, ours: -0.03007518796992481\n",
      "ref: -0.075188, ours: -0.07518796992481214\n",
      "ref: 0.1203008, ours: 0.12030075187969924\n",
      "ref: 0.0, ours: 0.0\n",
      "ref: 0.3007519, ours: 0.3007518796992481\n",
      "ref: -0.1654135, ours: -0.16541353383458657\n",
      "ref: -0.0827068, ours: -0.08270676691729317\n",
      "ref: -0.0827068, ours: -0.08270676691729317\n",
      "ref: 0.2105263, ours: 0.21052631578947367\n",
      "ref: -0.112782, ours: -0.11278195488721798\n",
      "ref: 0.1428571, ours: 0.1428571428571429\n",
      "ref: -0.1729323, ours: -0.1729323308270676\n",
      "ref: -0.112782, ours: -0.11278195488721798\n",
      "ref: 0.075188, ours: 0.07518796992481203\n",
      "ref: -0.0451128, ours: -0.04511278195488733\n",
      "ref: -0.1052632, ours: -0.10526315789473695\n"
     ]
    }
   ],
   "source": [
    "for example in examples:\n",
    "    a = example['a']\n",
    "    b = example['b']\n",
    "    ref_xicor = example['xicor']\n",
    "    our_xicor = xicor(a, b)\n",
    "    assert np.abs(ref_xicor - our_xicor) < 1e-3\n",
    "    print(f'ref: {ref_xicor}, ours: {our_xicor}')"
   ],
   "metadata": {
    "collapsed": false,
    "pycharm": {
     "name": "#%%\n"
    }
   }
  }
 ],
 "metadata": {
  "kernelspec": {
   "display_name": "Python 3",
   "language": "python",
   "name": "python3"
  },
  "language_info": {
   "codemirror_mode": {
    "name": "ipython",
    "version": 2
   },
   "file_extension": ".py",
   "mimetype": "text/x-python",
   "name": "python",
   "nbconvert_exporter": "python",
   "pygments_lexer": "ipython2",
   "version": "2.7.6"
  }
 },
 "nbformat": 4,
 "nbformat_minor": 0
}