{
 "cells": [
  {
   "cell_type": "markdown",
   "metadata": {
    "collapsed": true,
    "pycharm": {
     "name": "#%% md\n"
    }
   },
   "source": [
    "Professor Sourav Chatterjee's xicor coefficient of correlation (<a href=\"https://win-vector.com/2021/12/29/exploring-the-xi-correlation-coefficient/\">Nina Zumel's tutorial</a>, <a href=\"https://doi.org/10.1080/01621459.2020.1758115\">JASA</a>; original sources: <a href=\"https://CRAN.R-project.org/package=XICOR\">R package</a>, <a href=\"https://arxiv.org/abs/1909.10140\">Arxiv</a>, <a href=\"https://news.ycombinator.com/item?id=29687613\">Hacker News</a>, and <a href=\"https://github.com/czbiohub/xicor\">a Python package</a> (different author))."
   ]
  },
  {
   "cell_type": "code",
   "execution_count": 1,
   "outputs": [],
   "source": [
    "from typing import Iterable\n",
    "import numpy as np\n",
    "import pandas as pd\n",
    "from data_algebra.data_ops import descr, TableDescription, ViewRepresentation\n",
    "import data_algebra.BigQuery\n",
    "import yaml\n"
   ],
   "metadata": {
    "collapsed": false,
    "pycharm": {
     "name": "#%%\n"
    }
   }
  },
  {
   "cell_type": "code",
   "execution_count": 2,
   "outputs": [],
   "source": [
    "def xicor_query(\n",
    "        data: ViewRepresentation,\n",
    "        *,\n",
    "        x_name: str = 'x',\n",
    "        y_name: str = 'y',\n",
    "        var_keys: Iterable[str] = tuple()):\n",
    "    \"\"\"\n",
    "    Build a query computing the xicor of y_name as a function of x_name for each var_keys group of rows.\n",
    "    Ref: https://arxiv.org/abs/1909.10140\n",
    "\n",
    "    xicor(x, y) : 1 - n sum(i = 0, n-2) |r(i+1) - r(i)| / (2 * sum(i=0, n-1) l(i) (n - l(i)),\n",
    "    where r(i) is the rank of the i-th Y item when ordered by x, and l(i) is the reverse rank of\n",
    "    the l-th Y item.\n",
    "\n",
    "    :param x_name: name for explanatory variable column.\n",
    "    :param y_name: name for dependent variable column.\n",
    "    :param var_keys: list of names for variable id columns.\n",
    "    :param rep_id: name for repetition id column.\n",
    "    :return: data algebra query computing xicor.\n",
    "    \"\"\"\n",
    "    assert isinstance(x_name, str)\n",
    "    assert isinstance(y_name, str)\n",
    "    assert not isinstance(var_keys, str)\n",
    "    var_keys = list(var_keys)\n",
    "    x_tie_breaker = x_name + \"_tie_breaker\"\n",
    "    y_group = y_name + \"_group\"\n",
    "    names = [\n",
    "        x_name, y_name, x_tie_breaker, y_group,\n",
    "        'l', 'n', 'r',\n",
    "        'rplus', 'rdiff', 'lterm', 'num_sum', 'den_sum',\n",
    "        'xicor'\n",
    "        ] + var_keys\n",
    "    assert(len(names) == len(set(names)))\n",
    "    ops = (\n",
    "        data\n",
    "            .extend({y_group: f\"{y_name}.as_str()\"})  # Google BigQuery won't group by float\n",
    "            .extend({    # convert types, and add in tie breaking column\n",
    "                x_name: f\"1.0 * {x_name}\",\n",
    "                y_name: f\"1.0 * {y_name}\",\n",
    "                x_tie_breaker: \"_uniform()\"})\n",
    "            .extend(\n",
    "                {\"n\": \"(1).sum()\"}, partition_by=var_keys)  # annotate in number of rows\n",
    "            .extend(  # compute y ranks, that we will use to compare rank changes wrt x\n",
    "                {\"r\": \"(1).cumsum()\"}, order_by=[y_name], partition_by=var_keys)\n",
    "            .extend(  # compute reverse y ranks, used to normalize for ties in denominator\n",
    "                {\"l\": \"(1).cumsum()\"}, order_by=[y_name], reverse=[y_name], partition_by=var_keys)\n",
    "            .extend(  # go to max rank of group tie breaking\n",
    "                {\"l\": \"l.max()\", \"r\": \"r.max()\"}, partition_by=[y_group] + var_keys)\n",
    "            .extend(  # get y rank and y rank of next x-item into same row so we can take a difference\n",
    "                {\"rplus\": \"r.shift(1)\"},\n",
    "                order_by=[x_name, x_tie_breaker],\n",
    "                reverse=[x_name, x_tie_breaker],\n",
    "                partition_by=var_keys,\n",
    "                )\n",
    "            .extend(  # compute numerator and denominator terms\n",
    "                {\"rdiff\": \"((rplus - r).abs()).coalesce(0)\", \"lterm\": \"l * (n - l)\"})\n",
    "            .project(   # aggregate to compute sums in xicor definition\n",
    "                {\"num_sum\": \"rdiff.sum()\", \"den_sum\": \"lterm.sum()\",\n",
    "                 \"n\": \"n.max()\"  # pseudo-aggregation n is constant across rows\n",
    "                 },\n",
    "                group_by=var_keys,\n",
    "                )\n",
    "            .extend(  # apply actual xicor formula\n",
    "                {\"xicor\": \"1.0 - ((n * num_sum) / (2.0 * den_sum))\"})\n",
    "            .select_columns(var_keys + [\"xicor\"])\n",
    "        )\n",
    "    return ops"
   ],
   "metadata": {
    "collapsed": false,
    "pycharm": {
     "name": "#%%\n"
    }
   }
  },
  {
   "cell_type": "code",
   "execution_count": 3,
   "outputs": [],
   "source": [
    "x_y_ops = xicor_query(TableDescription(table_name='df', column_names=['x', 'y']))\n",
    "\n",
    "def xicor(x, y):\n",
    "    \"\"\"\n",
    "    Compute xicor of y treated as a function of x.\n",
    "\n",
    "    :param x: vector of explanatory variable values.\n",
    "    :param y: vector of dependent variable values.\n",
    "    :return: xicor score (floating point number).\n",
    "    \"\"\"\n",
    "\n",
    "    res_frame = x_y_ops.transform(pd.DataFrame({'x': x, 'y': y}))\n",
    "    return res_frame['xicor'].values[0]\n"
   ],
   "metadata": {
    "collapsed": false,
    "pycharm": {
     "name": "#%%\n"
    }
   }
  },
  {
   "cell_type": "code",
   "execution_count": 4,
   "outputs": [
    {
     "data": {
      "text/plain": "0.25"
     },
     "execution_count": 4,
     "metadata": {},
     "output_type": "execute_result"
    }
   ],
   "source": [
    "x1 = xicor([1, 2, 3], [1, 2, 3])  # expect 0.25\n",
    "assert x1 == 0.25\n",
    "x1"
   ],
   "metadata": {
    "collapsed": false,
    "pycharm": {
     "name": "#%%\n"
    }
   }
  },
  {
   "cell_type": "code",
   "execution_count": 5,
   "outputs": [
    {
     "data": {
      "text/plain": "0.25"
     },
     "execution_count": 5,
     "metadata": {},
     "output_type": "execute_result"
    }
   ],
   "source": [
    "x2 = xicor([1, 2, 3], [3, 2, 1])  # expect 0.25\n",
    "assert x2 == 0.25\n",
    "x2"
   ],
   "metadata": {
    "collapsed": false,
    "pycharm": {
     "name": "#%%\n"
    }
   }
  },
  {
   "cell_type": "code",
   "execution_count": 6,
   "outputs": [
    {
     "data": {
      "text/plain": "-0.125"
     },
     "execution_count": 6,
     "metadata": {},
     "output_type": "execute_result"
    }
   ],
   "source": [
    "x3 = xicor([1, 2, 3], [1, 3, 2])  # expect -0.125\n",
    "assert x3 == -0.125\n",
    "x3"
   ],
   "metadata": {
    "collapsed": false,
    "pycharm": {
     "name": "#%%\n"
    }
   }
  },
  {
   "cell_type": "code",
   "execution_count": 7,
   "outputs": [],
   "source": [
    "with open(\"examples.yaml\", \"r\") as in_f:\n",
    "   examples = yaml.safe_load(in_f)"
   ],
   "metadata": {
    "collapsed": false,
    "pycharm": {
     "name": "#%%\n"
    }
   }
  },
  {
   "cell_type": "code",
   "execution_count": 8,
   "outputs": [
    {
     "data": {
      "text/plain": "            x          y vname\n0    0.561595   0.084883   v_0\n1    0.035700   0.635105   v_0\n2    0.748017   0.133560   v_0\n3    0.663603   0.577371   v_0\n4    0.074035   0.214352   v_0\n..        ...        ...   ...\n995  0.360310   5.000000  v_49\n996  0.413419   2.000000  v_49\n997  0.224839   4.000000  v_49\n998  0.910356  10.000000  v_49\n999  0.845627   1.000000  v_49\n\n[1000 rows x 3 columns]",
      "text/html": "<div>\n<style scoped>\n    .dataframe tbody tr th:only-of-type {\n        vertical-align: middle;\n    }\n\n    .dataframe tbody tr th {\n        vertical-align: top;\n    }\n\n    .dataframe thead th {\n        text-align: right;\n    }\n</style>\n<table border=\"1\" class=\"dataframe\">\n  <thead>\n    <tr style=\"text-align: right;\">\n      <th></th>\n      <th>x</th>\n      <th>y</th>\n      <th>vname</th>\n    </tr>\n  </thead>\n  <tbody>\n    <tr>\n      <th>0</th>\n      <td>0.561595</td>\n      <td>0.084883</td>\n      <td>v_0</td>\n    </tr>\n    <tr>\n      <th>1</th>\n      <td>0.035700</td>\n      <td>0.635105</td>\n      <td>v_0</td>\n    </tr>\n    <tr>\n      <th>2</th>\n      <td>0.748017</td>\n      <td>0.133560</td>\n      <td>v_0</td>\n    </tr>\n    <tr>\n      <th>3</th>\n      <td>0.663603</td>\n      <td>0.577371</td>\n      <td>v_0</td>\n    </tr>\n    <tr>\n      <th>4</th>\n      <td>0.074035</td>\n      <td>0.214352</td>\n      <td>v_0</td>\n    </tr>\n    <tr>\n      <th>...</th>\n      <td>...</td>\n      <td>...</td>\n      <td>...</td>\n    </tr>\n    <tr>\n      <th>995</th>\n      <td>0.360310</td>\n      <td>5.000000</td>\n      <td>v_49</td>\n    </tr>\n    <tr>\n      <th>996</th>\n      <td>0.413419</td>\n      <td>2.000000</td>\n      <td>v_49</td>\n    </tr>\n    <tr>\n      <th>997</th>\n      <td>0.224839</td>\n      <td>4.000000</td>\n      <td>v_49</td>\n    </tr>\n    <tr>\n      <th>998</th>\n      <td>0.910356</td>\n      <td>10.000000</td>\n      <td>v_49</td>\n    </tr>\n    <tr>\n      <th>999</th>\n      <td>0.845627</td>\n      <td>1.000000</td>\n      <td>v_49</td>\n    </tr>\n  </tbody>\n</table>\n<p>1000 rows × 3 columns</p>\n</div>"
     },
     "execution_count": 8,
     "metadata": {},
     "output_type": "execute_result"
    }
   ],
   "source": [
    "def example_to_frame(ei):\n",
    "    \"encode an example into a data frame\"\n",
    "    example = examples[ei]\n",
    "    a = example['a']\n",
    "    b = example['b']\n",
    "    return pd.DataFrame({'x': a, 'y': b, 'vname': f'v_{ei}'})\n",
    "\n",
    "example_frames = [example_to_frame(ei) for ei in range(len(examples))]\n",
    "example_frames = pd.concat(example_frames).reset_index(drop=True, inplace=False)\n",
    "\n",
    "example_frames"
   ],
   "metadata": {
    "collapsed": false,
    "pycharm": {
     "name": "#%%\n"
    }
   }
  },
  {
   "cell_type": "code",
   "execution_count": 9,
   "outputs": [],
   "source": [
    "rep_frame = pd.DataFrame({\n",
    "    'rep': range(100)\n",
    "})\n"
   ],
   "metadata": {
    "collapsed": false,
    "pycharm": {
     "name": "#%%\n"
    }
   }
  },
  {
   "cell_type": "code",
   "execution_count": 10,
   "outputs": [
    {
     "data": {
      "text/plain": "   vname  xicor_mean  xicor_std\n0    v_0   -0.067669   0.000000\n1    v_1   -0.007519   0.000000\n2   v_10   -0.054615   0.110641\n3   v_11   -0.021128   0.074644\n4   v_12   -0.117582   0.131565\n5   v_13    0.069973   0.000000\n6   v_14   -0.032331   0.088574\n7   v_15    0.191950   0.093362\n8   v_16   -0.034498   0.091548\n9   v_17   -0.067976   0.105553\n10  v_18   -0.147787   0.000000\n11  v_19   -0.112782   0.000000\n12   v_2    0.000000   0.000000\n13  v_20    0.013158   0.076553\n14  v_21   -0.162256   0.093899\n15  v_22   -0.060723   0.000000\n16  v_23    0.063910   0.089574\n17  v_24   -0.088542   0.096100\n18  v_25   -0.022556   0.000000\n19  v_26    0.397866   0.000000\n20  v_27   -0.022998   0.000000\n21  v_28   -0.067669   0.000000\n22  v_29   -0.045113   0.000000\n23   v_3   -0.187970   0.000000\n24  v_30   -0.086310   0.000000\n25  v_31    0.120301   0.000000\n26  v_32    0.023467   0.000000\n27  v_33    0.039610   0.104266\n28  v_34   -0.005414   0.077271\n29  v_35    0.030226   0.109078\n30  v_36   -0.150376   0.000000\n31  v_37   -0.082707   0.000000\n32  v_38   -0.020964   0.100698\n33  v_39    0.016715   0.089798\n34   v_4    0.135514   0.000000\n35  v_40   -0.058877   0.094859\n36  v_41    0.053747   0.122583\n37  v_42   -0.050376   0.092411\n38  v_43    0.003831   0.000000\n39  v_44   -0.090226   0.000000\n40  v_45    0.015940   0.077597\n41  v_46    0.040376   0.078594\n42  v_47    0.218120   0.059246\n43  v_48   -0.044886   0.000000\n44  v_49   -0.076095   0.000000\n45   v_5   -0.010451   0.065328\n46   v_6   -0.068447   0.000000\n47   v_7   -0.127190   0.000000\n48   v_8    0.050193   0.078708\n49   v_9   -0.120301   0.000000",
      "text/html": "<div>\n<style scoped>\n    .dataframe tbody tr th:only-of-type {\n        vertical-align: middle;\n    }\n\n    .dataframe tbody tr th {\n        vertical-align: top;\n    }\n\n    .dataframe thead th {\n        text-align: right;\n    }\n</style>\n<table border=\"1\" class=\"dataframe\">\n  <thead>\n    <tr style=\"text-align: right;\">\n      <th></th>\n      <th>vname</th>\n      <th>xicor_mean</th>\n      <th>xicor_std</th>\n    </tr>\n  </thead>\n  <tbody>\n    <tr>\n      <th>0</th>\n      <td>v_0</td>\n      <td>-0.067669</td>\n      <td>0.000000</td>\n    </tr>\n    <tr>\n      <th>1</th>\n      <td>v_1</td>\n      <td>-0.007519</td>\n      <td>0.000000</td>\n    </tr>\n    <tr>\n      <th>2</th>\n      <td>v_10</td>\n      <td>-0.054615</td>\n      <td>0.110641</td>\n    </tr>\n    <tr>\n      <th>3</th>\n      <td>v_11</td>\n      <td>-0.021128</td>\n      <td>0.074644</td>\n    </tr>\n    <tr>\n      <th>4</th>\n      <td>v_12</td>\n      <td>-0.117582</td>\n      <td>0.131565</td>\n    </tr>\n    <tr>\n      <th>5</th>\n      <td>v_13</td>\n      <td>0.069973</td>\n      <td>0.000000</td>\n    </tr>\n    <tr>\n      <th>6</th>\n      <td>v_14</td>\n      <td>-0.032331</td>\n      <td>0.088574</td>\n    </tr>\n    <tr>\n      <th>7</th>\n      <td>v_15</td>\n      <td>0.191950</td>\n      <td>0.093362</td>\n    </tr>\n    <tr>\n      <th>8</th>\n      <td>v_16</td>\n      <td>-0.034498</td>\n      <td>0.091548</td>\n    </tr>\n    <tr>\n      <th>9</th>\n      <td>v_17</td>\n      <td>-0.067976</td>\n      <td>0.105553</td>\n    </tr>\n    <tr>\n      <th>10</th>\n      <td>v_18</td>\n      <td>-0.147787</td>\n      <td>0.000000</td>\n    </tr>\n    <tr>\n      <th>11</th>\n      <td>v_19</td>\n      <td>-0.112782</td>\n      <td>0.000000</td>\n    </tr>\n    <tr>\n      <th>12</th>\n      <td>v_2</td>\n      <td>0.000000</td>\n      <td>0.000000</td>\n    </tr>\n    <tr>\n      <th>13</th>\n      <td>v_20</td>\n      <td>0.013158</td>\n      <td>0.076553</td>\n    </tr>\n    <tr>\n      <th>14</th>\n      <td>v_21</td>\n      <td>-0.162256</td>\n      <td>0.093899</td>\n    </tr>\n    <tr>\n      <th>15</th>\n      <td>v_22</td>\n      <td>-0.060723</td>\n      <td>0.000000</td>\n    </tr>\n    <tr>\n      <th>16</th>\n      <td>v_23</td>\n      <td>0.063910</td>\n      <td>0.089574</td>\n    </tr>\n    <tr>\n      <th>17</th>\n      <td>v_24</td>\n      <td>-0.088542</td>\n      <td>0.096100</td>\n    </tr>\n    <tr>\n      <th>18</th>\n      <td>v_25</td>\n      <td>-0.022556</td>\n      <td>0.000000</td>\n    </tr>\n    <tr>\n      <th>19</th>\n      <td>v_26</td>\n      <td>0.397866</td>\n      <td>0.000000</td>\n    </tr>\n    <tr>\n      <th>20</th>\n      <td>v_27</td>\n      <td>-0.022998</td>\n      <td>0.000000</td>\n    </tr>\n    <tr>\n      <th>21</th>\n      <td>v_28</td>\n      <td>-0.067669</td>\n      <td>0.000000</td>\n    </tr>\n    <tr>\n      <th>22</th>\n      <td>v_29</td>\n      <td>-0.045113</td>\n      <td>0.000000</td>\n    </tr>\n    <tr>\n      <th>23</th>\n      <td>v_3</td>\n      <td>-0.187970</td>\n      <td>0.000000</td>\n    </tr>\n    <tr>\n      <th>24</th>\n      <td>v_30</td>\n      <td>-0.086310</td>\n      <td>0.000000</td>\n    </tr>\n    <tr>\n      <th>25</th>\n      <td>v_31</td>\n      <td>0.120301</td>\n      <td>0.000000</td>\n    </tr>\n    <tr>\n      <th>26</th>\n      <td>v_32</td>\n      <td>0.023467</td>\n      <td>0.000000</td>\n    </tr>\n    <tr>\n      <th>27</th>\n      <td>v_33</td>\n      <td>0.039610</td>\n      <td>0.104266</td>\n    </tr>\n    <tr>\n      <th>28</th>\n      <td>v_34</td>\n      <td>-0.005414</td>\n      <td>0.077271</td>\n    </tr>\n    <tr>\n      <th>29</th>\n      <td>v_35</td>\n      <td>0.030226</td>\n      <td>0.109078</td>\n    </tr>\n    <tr>\n      <th>30</th>\n      <td>v_36</td>\n      <td>-0.150376</td>\n      <td>0.000000</td>\n    </tr>\n    <tr>\n      <th>31</th>\n      <td>v_37</td>\n      <td>-0.082707</td>\n      <td>0.000000</td>\n    </tr>\n    <tr>\n      <th>32</th>\n      <td>v_38</td>\n      <td>-0.020964</td>\n      <td>0.100698</td>\n    </tr>\n    <tr>\n      <th>33</th>\n      <td>v_39</td>\n      <td>0.016715</td>\n      <td>0.089798</td>\n    </tr>\n    <tr>\n      <th>34</th>\n      <td>v_4</td>\n      <td>0.135514</td>\n      <td>0.000000</td>\n    </tr>\n    <tr>\n      <th>35</th>\n      <td>v_40</td>\n      <td>-0.058877</td>\n      <td>0.094859</td>\n    </tr>\n    <tr>\n      <th>36</th>\n      <td>v_41</td>\n      <td>0.053747</td>\n      <td>0.122583</td>\n    </tr>\n    <tr>\n      <th>37</th>\n      <td>v_42</td>\n      <td>-0.050376</td>\n      <td>0.092411</td>\n    </tr>\n    <tr>\n      <th>38</th>\n      <td>v_43</td>\n      <td>0.003831</td>\n      <td>0.000000</td>\n    </tr>\n    <tr>\n      <th>39</th>\n      <td>v_44</td>\n      <td>-0.090226</td>\n      <td>0.000000</td>\n    </tr>\n    <tr>\n      <th>40</th>\n      <td>v_45</td>\n      <td>0.015940</td>\n      <td>0.077597</td>\n    </tr>\n    <tr>\n      <th>41</th>\n      <td>v_46</td>\n      <td>0.040376</td>\n      <td>0.078594</td>\n    </tr>\n    <tr>\n      <th>42</th>\n      <td>v_47</td>\n      <td>0.218120</td>\n      <td>0.059246</td>\n    </tr>\n    <tr>\n      <th>43</th>\n      <td>v_48</td>\n      <td>-0.044886</td>\n      <td>0.000000</td>\n    </tr>\n    <tr>\n      <th>44</th>\n      <td>v_49</td>\n      <td>-0.076095</td>\n      <td>0.000000</td>\n    </tr>\n    <tr>\n      <th>45</th>\n      <td>v_5</td>\n      <td>-0.010451</td>\n      <td>0.065328</td>\n    </tr>\n    <tr>\n      <th>46</th>\n      <td>v_6</td>\n      <td>-0.068447</td>\n      <td>0.000000</td>\n    </tr>\n    <tr>\n      <th>47</th>\n      <td>v_7</td>\n      <td>-0.127190</td>\n      <td>0.000000</td>\n    </tr>\n    <tr>\n      <th>48</th>\n      <td>v_8</td>\n      <td>0.050193</td>\n      <td>0.078708</td>\n    </tr>\n    <tr>\n      <th>49</th>\n      <td>v_9</td>\n      <td>-0.120301</td>\n      <td>0.000000</td>\n    </tr>\n  </tbody>\n</table>\n</div>"
     },
     "execution_count": 10,
     "metadata": {},
     "output_type": "execute_result"
    }
   ],
   "source": [
    "grouped_calc = (\n",
    "    xicor_query(\n",
    "            descr(d=example_frames)\n",
    "                .natural_join(  # cross join rows to get experiment repetitions\n",
    "                    b=descr(rep_frame=rep_frame),\n",
    "                    by=[],\n",
    "                    jointype='cross',\n",
    "                ),\n",
    "            var_keys=['vname', 'rep'])\n",
    "        .project({\n",
    "            'xicor_mean': 'xicor.mean()',\n",
    "            'xicor_std': 'xicor.std()',\n",
    "            },\n",
    "            group_by=['vname'])\n",
    "        .order_rows(['vname'])\n",
    ")\n",
    "xicor_results = grouped_calc.eval({'d': example_frames, 'rep_frame': rep_frame})\n",
    "\n",
    "xicor_results\n"
   ],
   "metadata": {
    "collapsed": false,
    "pycharm": {
     "name": "#%%\n"
    }
   }
  },
  {
   "cell_type": "code",
   "execution_count": 11,
   "outputs": [
    {
     "name": "stdout",
     "output_type": "stream",
     "text": [
      "ref: -0.0676692 0.0, ours: -0.06766917293233088 0.0\n",
      "ref: -0.007518800000000003 3.469446951953614e-18, ours: -0.007518796992481258 0.0\n",
      "ref: 2.2204459999999992e-16 7.395570986446986e-32, ours: 0.0 0.0\n",
      "ref: -0.18796989999999994 5.551115123125783e-17, ours: -0.18796992481203012 0.0\n",
      "ref: 0.135514 0.0, ours: 0.13551401869158874 0.0\n",
      "ref: 0.003533834180000004 0.06878326849618019, ours: -0.010451127819548885 0.06532827746422165\n",
      "ref: -0.06844740000000002 1.3877787807814457e-17, ours: -0.06844741235392315 0.0\n",
      "ref: -0.12718959999999996 5.551115123125783e-17, ours: -0.12718964204112715 0.0\n",
      "ref: 0.04385151299999999 0.08295654197477093, ours: 0.05019334880123742 0.07870777149798387\n",
      "ref: -0.12030080000000005 5.551115123125783e-17, ours: -0.12030075187969924 0.0\n",
      "ref: -0.042562927 0.11081480834838983, ours: -0.054614797864225795 0.1106410842401945\n",
      "ref: -0.01849624 0.07992888705673187, ours: -0.021127819548872197 0.0746444622588659\n",
      "ref: -0.12621664900000001 0.11045203602378319, ours: -0.1175824175824176 0.131565271021057\n",
      "ref: 0.0699734 0.0, ours: 0.06997342781222315 0.0\n",
      "ref: -0.038045115 0.07459783493448637, ours: -0.032330827067669154 0.08857442128858291\n",
      "ref: 0.195568684 0.08753438126409499, ours: 0.19194977843426883 0.09336187946214998\n",
      "ref: -0.00044609599999999707 0.1007116363467558, ours: -0.03449814126394052 0.09154846000549212\n",
      "ref: -0.057968877 0.10542007147626951, ours: -0.06797627872498146 0.10555317335918002\n",
      "ref: -0.14778690000000003 2.7755575615628914e-17, ours: -0.14778694673668413 0.0\n",
      "ref: -0.11278199999999992 6.938893903907228e-17, ours: -0.112781954887218 0.0\n",
      "ref: 0.017142856999999997 0.07826834003527257, ours: 0.013157894736842098 0.07655307435484805\n",
      "ref: -0.1597744364 0.08836665551085406, ours: -0.1622556390977444 0.09389867687976851\n",
      "ref: -0.06072249999999999 6.938893903907228e-18, ours: -0.06072252113758658 0.0\n",
      "ref: 0.0625563912 0.08687305410591217, ours: 0.06390977443609021 0.08957449710991612\n",
      "ref: -0.085565466 0.09320217536198308, ours: -0.08854166666666666 0.0960997865392644\n",
      "ref: -0.0225564 0.0, ours: -0.022556390977443552 0.0\n",
      "ref: 0.39786590000000005 5.551115123125783e-17, ours: 0.39786585365853655 0.0\n",
      "ref: -0.022997600000000003 3.469446951953614e-18, ours: -0.022997620935765184 0.0\n",
      "ref: -0.0676692 0.0, ours: -0.06766917293233088 0.0\n",
      "ref: -0.0451128 0.0, ours: -0.04511278195488733 0.0\n",
      "ref: -0.08630950000000004 4.163336342344337e-17, ours: -0.08630952380952372 0.0\n",
      "ref: 0.12030080000000005 5.551115123125783e-17, ours: 0.12030075187969924 0.0\n",
      "ref: 0.023467099999999998 3.469446951953614e-18, ours: 0.02346707040121121 0.0\n",
      "ref: 0.076519122 0.11352149575468566, ours: 0.039609902475618915 0.10426562877981987\n",
      "ref: -0.009849621919999989 0.0793914826594726, ours: -0.005413533834586465 0.07727106034102513\n",
      "ref: 0.02601503660000001 0.09562431926454337, ours: 0.030225563909774406 0.10907808863737793\n",
      "ref: -0.1503759 0.0, ours: -0.15037593984962405 0.0\n",
      "ref: -0.08270679999999998 1.3877787807814457e-17, ours: -0.08270676691729317 0.0\n",
      "ref: -0.005661819999999999 0.10453398156933562, ours: -0.020964039785768936 0.10069818823591624\n",
      "ref: 0.033575586000000004 0.08538535787547069, ours: 0.01671511627906977 0.08979828543930567\n",
      "ref: -0.061987861 0.11166651115096493, ours: -0.05887708649468891 0.0948587220901774\n",
      "ref: 0.059273279 0.11467449857053598, ours: 0.05374716124148374 0.1225834751601425\n",
      "ref: -0.04390977482 0.09428655419525532, ours: -0.050375939849624095 0.09241106395250319\n",
      "ref: 0.0038313999999999987 1.3010426069826053e-18, ours: 0.003831417624521105 0.0\n",
      "ref: -0.0902256 0.0, ours: -0.09022556390977442 0.0\n",
      "ref: 0.030526316 0.08357589038605419, ours: 0.015939849624060146 0.07759701102637694\n",
      "ref: 0.039172937 0.08762733960876669, ours: 0.04037593984962407 0.07859418225622497\n",
      "ref: 0.21563909099999998 0.05927827445030953, ours: 0.2181203007518797 0.05924640663947081\n",
      "ref: -0.04488589999999998 2.0816681711721685e-17, ours: -0.04488594554819714 0.0\n",
      "ref: -0.0760953 0.0, ours: -0.07609531129900082 0.0\n"
     ]
    }
   ],
   "source": [
    "# compare results\n",
    "def compare_res(xicor_results_to_check):\n",
    "    for ei in range(len(examples)):\n",
    "        example = examples[ei]\n",
    "        a = example['a']\n",
    "        b = example['b']\n",
    "        ref_xicor = example['xicor']\n",
    "        our_result = xicor_results_to_check.loc[xicor_results_to_check['vname'] == f'v_{ei}', :]\n",
    "        our_xicor_mean = our_result['xicor_mean'].values[0]\n",
    "        our_xicor_std = our_result['xicor_std'].values[0]\n",
    "        assert np.abs(np.mean(ref_xicor) - our_xicor_mean) < 0.05\n",
    "        assert np.abs(np.std(ref_xicor) - our_xicor_std) < 0.05\n",
    "        print(f'ref: {np.mean(ref_xicor)} {np.std(ref_xicor)}, ours: {our_xicor_mean} {our_xicor_std}')\n",
    "\n",
    "compare_res(xicor_results)"
   ],
   "metadata": {
    "collapsed": false,
    "pycharm": {
     "name": "#%%\n"
    }
   }
  },
  {
   "cell_type": "code",
   "execution_count": 12,
   "outputs": [
    {
     "data": {
      "text/plain": "(TableDescription(table_name=\"rep_frame\", column_names=[\"rep\"]))"
     },
     "execution_count": 12,
     "metadata": {},
     "output_type": "execute_result"
    }
   ],
   "source": [
    "# try it in database\n",
    "db_handle = data_algebra.BigQuery.example_handle()\n",
    "db_handle.insert_table(example_frames, table_name='d', allow_overwrite=True)\n",
    "db_handle.insert_table(rep_frame, table_name='rep_frame', allow_overwrite=True)"
   ],
   "metadata": {
    "collapsed": false,
    "pycharm": {
     "name": "#%%\n"
    }
   }
  },
  {
   "cell_type": "code",
   "execution_count": 13,
   "outputs": [],
   "source": [
    "db_handle.drop_table(\"xicor\")"
   ],
   "metadata": {
    "collapsed": false,
    "pycharm": {
     "name": "#%%\n"
    }
   }
  },
  {
   "cell_type": "code",
   "execution_count": 14,
   "outputs": [],
   "source": [
    "db_handle.execute(f\"CREATE TABLE {db_handle.db_model.table_prefix}.xicor AS {db_handle.to_sql(grouped_calc)}\")\n",
    "db_res = db_handle.read_query(f\"SELECT * FROM {db_handle.db_model.table_prefix}.xicor ORDER BY vname\")"
   ],
   "metadata": {
    "collapsed": false,
    "pycharm": {
     "name": "#%%\n"
    }
   }
  },
  {
   "cell_type": "code",
   "execution_count": 15,
   "outputs": [
    {
     "name": "stdout",
     "output_type": "stream",
     "text": [
      "ref: -0.0676692 0.0, ours: -0.06766917293233088 0.0\n",
      "ref: -0.007518800000000003 3.469446951953614e-18, ours: -0.007518796992481258 0.0\n",
      "ref: 2.2204459999999992e-16 7.395570986446986e-32, ours: 0.0 0.0\n",
      "ref: -0.18796989999999994 5.551115123125783e-17, ours: -0.18796992481203012 0.0\n",
      "ref: 0.135514 0.0, ours: 0.13551401869158874 0.0\n",
      "ref: 0.003533834180000004 0.06878326849618019, ours: -0.007293233082706794 0.0648242509989685\n",
      "ref: -0.06844740000000002 1.3877787807814457e-17, ours: -0.06844741235392315 0.0\n",
      "ref: -0.12718959999999996 5.551115123125783e-17, ours: -0.12718964204112715 0.0\n",
      "ref: 0.04385151299999999 0.08295654197477093, ours: 0.03132250580046403 0.08696897691202102\n",
      "ref: -0.12030080000000005 5.551115123125783e-17, ours: -0.12030075187969924 0.0\n",
      "ref: -0.042562927 0.11081480834838983, ours: -0.05270785659801679 0.10159075988667066\n",
      "ref: -0.01849624 0.07992888705673187, ours: -0.006616541353383467 0.08518139683216029\n",
      "ref: -0.12621664900000001 0.11045203602378319, ours: -0.12794348508634223 0.12938413961164422\n",
      "ref: 0.0699734 0.0, ours: 0.06997342781222315 0.0\n",
      "ref: -0.038045115 0.07459783493448637, ours: -0.035639097744360894 0.08502935453036822\n",
      "ref: 0.195568684 0.08753438126409499, ours: 0.17636632200886262 0.08793026499568159\n",
      "ref: -0.00044609599999999707 0.1007116363467558, ours: -0.02691449814126395 0.09871082974457038\n",
      "ref: -0.057968877 0.10542007147626951, ours: -0.0547813194959229 0.09221038796542827\n",
      "ref: -0.14778690000000003 2.7755575615628914e-17, ours: -0.14778694673668413 0.0\n",
      "ref: -0.11278199999999992 6.938893903907228e-17, ours: -0.11278195488721798 0.0\n",
      "ref: 0.017142856999999997 0.07826834003527257, ours: 0.01954887218045113 0.0640759725890234\n",
      "ref: -0.1597744364 0.08836665551085406, ours: -0.15827067669172928 0.08620821976383021\n",
      "ref: -0.06072249999999999 6.938893903907228e-18, ours: -0.06072252113758658 0.0\n",
      "ref: 0.0625563912 0.08687305410591217, ours: 0.0756390977443609 0.08558627864514332\n",
      "ref: -0.085565466 0.09320217536198308, ours: -0.07455357142857143 0.09083292967500456\n",
      "ref: -0.0225564 0.0, ours: -0.022556390977443552 0.0\n",
      "ref: 0.39786590000000005 5.551115123125783e-17, ours: 0.39786585365853655 0.0\n",
      "ref: -0.022997600000000003 3.469446951953614e-18, ours: -0.022997620935765184 0.0\n",
      "ref: -0.0676692 0.0, ours: -0.06766917293233088 0.0\n",
      "ref: -0.0451128 0.0, ours: -0.04511278195488733 0.0\n",
      "ref: -0.08630950000000004 4.163336342344337e-17, ours: -0.08630952380952372 0.0\n",
      "ref: 0.12030080000000005 5.551115123125783e-17, ours: 0.12030075187969924 0.0\n",
      "ref: 0.023467099999999998 3.469446951953614e-18, ours: 0.02346707040121121 0.0\n",
      "ref: 0.076519122 0.11352149575468566, ours: 0.08327081770442613 0.12395361822582107\n",
      "ref: -0.009849621919999989 0.0793914826594726, ours: -0.002706766917293238 0.088522959808646\n",
      "ref: 0.02601503660000001 0.09562431926454337, ours: 0.03729323308270674 0.10966253864481676\n",
      "ref: -0.1503759 0.0, ours: -0.15037593984962405 0.0\n",
      "ref: -0.08270679999999998 1.3877787807814457e-17, ours: -0.08270676691729317 0.0\n",
      "ref: -0.005661819999999999 0.10453398156933562, ours: -0.0058148431522570855 0.09691051368237\n",
      "ref: 0.033575586000000004 0.08538535787547069, ours: 0.02427325581395349 0.09044424453199193\n",
      "ref: -0.061987861 0.11166651115096493, ours: -0.06722306525037933 0.12208014132070223\n",
      "ref: 0.059273279 0.11467449857053598, ours: 0.04746404239212718 0.11615371767264779\n",
      "ref: -0.04390977482 0.09428655419525532, ours: -0.044360902255639136 0.09390670395658782\n",
      "ref: 0.0038313999999999987 1.3010426069826053e-18, ours: 0.003831417624521105 0.0\n",
      "ref: -0.0902256 0.0, ours: -0.09022556390977443 0.0\n",
      "ref: 0.030526316 0.08357589038605419, ours: 0.027218045112781947 0.074553256264262\n",
      "ref: 0.039172937 0.08762733960876669, ours: 0.046466165413533836 0.07377250465300857\n",
      "ref: 0.21563909099999998 0.05927827445030953, ours: 0.21112781954887222 0.05511381236453748\n",
      "ref: -0.04488589999999998 2.0816681711721685e-17, ours: -0.04488594554819714 0.0\n",
      "ref: -0.0760953 0.0, ours: -0.07609531129900082 0.0\n"
     ]
    }
   ],
   "source": [
    "compare_res(db_res)"
   ],
   "metadata": {
    "collapsed": false,
    "pycharm": {
     "name": "#%%\n"
    }
   }
  },
  {
   "cell_type": "code",
   "execution_count": 16,
   "outputs": [
    {
     "name": "stdout",
     "output_type": "stream",
     "text": [
      "done\n"
     ]
    }
   ],
   "source": [
    "# clean up\n",
    "db_handle.drop_table(\"d\")\n",
    "db_handle.drop_table(\"rep_frame\")\n",
    "db_handle.drop_table(\"xicor\")\n",
    "db_handle.close()\n",
    "# show we made it to here, adn did not assert earlier\n",
    "print('done')"
   ],
   "metadata": {
    "collapsed": false,
    "pycharm": {
     "name": "#%%\n"
    }
   }
  }
 ],
 "metadata": {
  "kernelspec": {
   "display_name": "Python 3",
   "language": "python",
   "name": "python3"
  },
  "language_info": {
   "codemirror_mode": {
    "name": "ipython",
    "version": 2
   },
   "file_extension": ".py",
   "mimetype": "text/x-python",
   "name": "python",
   "nbconvert_exporter": "python",
   "pygments_lexer": "ipython2",
   "version": "2.7.6"
  }
 },
 "nbformat": 4,
 "nbformat_minor": 0
}