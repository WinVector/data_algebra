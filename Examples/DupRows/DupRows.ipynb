{
 "cells": [
  {
   "cell_type": "markdown",
   "metadata": {},
   "source": [
    "An example showing how to detect duplicate rows in a data frame."
   ]
  },
  {
   "cell_type": "code",
   "execution_count": 1,
   "metadata": {},
   "outputs": [],
   "source": [
    "import numpy as np\n",
    "import pandas as pd\n",
    "import data_algebra\n",
    "import data_algebra.db_space"
   ]
  },
  {
   "cell_type": "code",
   "execution_count": 2,
   "metadata": {},
   "outputs": [],
   "source": [
    "rng = np.random.default_rng(2022)"
   ]
  },
  {
   "cell_type": "code",
   "execution_count": 3,
   "metadata": {},
   "outputs": [],
   "source": [
    "def generate_example(*, n_columns: int = 5, n_rows: int = 10):\n",
    "    assert isinstance(n_columns, int)\n",
    "    assert isinstance(n_rows, int)\n",
    "    return pd.DataFrame({\n",
    "        f\"col_{i:03d}\": rng.choice([\"a\", \"b\", \"c\", \"d\"], size=n_rows, replace=True) for i in range(n_columns)\n",
    "    })"
   ]
  },
  {
   "cell_type": "code",
   "execution_count": 4,
   "metadata": {},
   "outputs": [
    {
     "data": {
      "text/html": [
       "<div>\n",
       "<style scoped>\n",
       "    .dataframe tbody tr th:only-of-type {\n",
       "        vertical-align: middle;\n",
       "    }\n",
       "\n",
       "    .dataframe tbody tr th {\n",
       "        vertical-align: top;\n",
       "    }\n",
       "\n",
       "    .dataframe thead th {\n",
       "        text-align: right;\n",
       "    }\n",
       "</style>\n",
       "<table border=\"1\" class=\"dataframe\">\n",
       "  <thead>\n",
       "    <tr style=\"text-align: right;\">\n",
       "      <th></th>\n",
       "      <th>col_000</th>\n",
       "      <th>col_001</th>\n",
       "      <th>col_002</th>\n",
       "      <th>col_003</th>\n",
       "      <th>col_004</th>\n",
       "      <th>col_005</th>\n",
       "      <th>col_006</th>\n",
       "      <th>col_007</th>\n",
       "      <th>col_008</th>\n",
       "      <th>col_009</th>\n",
       "    </tr>\n",
       "  </thead>\n",
       "  <tbody>\n",
       "    <tr>\n",
       "      <th>0</th>\n",
       "      <td>c</td>\n",
       "      <td>d</td>\n",
       "      <td>d</td>\n",
       "      <td>b</td>\n",
       "      <td>d</td>\n",
       "      <td>a</td>\n",
       "      <td>a</td>\n",
       "      <td>b</td>\n",
       "      <td>d</td>\n",
       "      <td>a</td>\n",
       "    </tr>\n",
       "    <tr>\n",
       "      <th>1</th>\n",
       "      <td>a</td>\n",
       "      <td>b</td>\n",
       "      <td>c</td>\n",
       "      <td>d</td>\n",
       "      <td>a</td>\n",
       "      <td>c</td>\n",
       "      <td>c</td>\n",
       "      <td>c</td>\n",
       "      <td>a</td>\n",
       "      <td>b</td>\n",
       "    </tr>\n",
       "    <tr>\n",
       "      <th>2</th>\n",
       "      <td>c</td>\n",
       "      <td>c</td>\n",
       "      <td>d</td>\n",
       "      <td>d</td>\n",
       "      <td>a</td>\n",
       "      <td>c</td>\n",
       "      <td>b</td>\n",
       "      <td>d</td>\n",
       "      <td>a</td>\n",
       "      <td>b</td>\n",
       "    </tr>\n",
       "    <tr>\n",
       "      <th>3</th>\n",
       "      <td>a</td>\n",
       "      <td>a</td>\n",
       "      <td>d</td>\n",
       "      <td>d</td>\n",
       "      <td>a</td>\n",
       "      <td>c</td>\n",
       "      <td>b</td>\n",
       "      <td>a</td>\n",
       "      <td>a</td>\n",
       "      <td>b</td>\n",
       "    </tr>\n",
       "    <tr>\n",
       "      <th>4</th>\n",
       "      <td>a</td>\n",
       "      <td>b</td>\n",
       "      <td>a</td>\n",
       "      <td>a</td>\n",
       "      <td>c</td>\n",
       "      <td>d</td>\n",
       "      <td>a</td>\n",
       "      <td>c</td>\n",
       "      <td>c</td>\n",
       "      <td>b</td>\n",
       "    </tr>\n",
       "    <tr>\n",
       "      <th>...</th>\n",
       "      <td>...</td>\n",
       "      <td>...</td>\n",
       "      <td>...</td>\n",
       "      <td>...</td>\n",
       "      <td>...</td>\n",
       "      <td>...</td>\n",
       "      <td>...</td>\n",
       "      <td>...</td>\n",
       "      <td>...</td>\n",
       "      <td>...</td>\n",
       "    </tr>\n",
       "    <tr>\n",
       "      <th>995</th>\n",
       "      <td>c</td>\n",
       "      <td>c</td>\n",
       "      <td>d</td>\n",
       "      <td>a</td>\n",
       "      <td>a</td>\n",
       "      <td>c</td>\n",
       "      <td>b</td>\n",
       "      <td>b</td>\n",
       "      <td>b</td>\n",
       "      <td>a</td>\n",
       "    </tr>\n",
       "    <tr>\n",
       "      <th>996</th>\n",
       "      <td>d</td>\n",
       "      <td>d</td>\n",
       "      <td>d</td>\n",
       "      <td>a</td>\n",
       "      <td>d</td>\n",
       "      <td>a</td>\n",
       "      <td>c</td>\n",
       "      <td>c</td>\n",
       "      <td>a</td>\n",
       "      <td>b</td>\n",
       "    </tr>\n",
       "    <tr>\n",
       "      <th>997</th>\n",
       "      <td>b</td>\n",
       "      <td>a</td>\n",
       "      <td>d</td>\n",
       "      <td>c</td>\n",
       "      <td>c</td>\n",
       "      <td>b</td>\n",
       "      <td>a</td>\n",
       "      <td>d</td>\n",
       "      <td>d</td>\n",
       "      <td>a</td>\n",
       "    </tr>\n",
       "    <tr>\n",
       "      <th>998</th>\n",
       "      <td>a</td>\n",
       "      <td>b</td>\n",
       "      <td>c</td>\n",
       "      <td>b</td>\n",
       "      <td>a</td>\n",
       "      <td>d</td>\n",
       "      <td>a</td>\n",
       "      <td>a</td>\n",
       "      <td>b</td>\n",
       "      <td>a</td>\n",
       "    </tr>\n",
       "    <tr>\n",
       "      <th>999</th>\n",
       "      <td>b</td>\n",
       "      <td>d</td>\n",
       "      <td>d</td>\n",
       "      <td>a</td>\n",
       "      <td>d</td>\n",
       "      <td>a</td>\n",
       "      <td>d</td>\n",
       "      <td>d</td>\n",
       "      <td>d</td>\n",
       "      <td>a</td>\n",
       "    </tr>\n",
       "  </tbody>\n",
       "</table>\n",
       "<p>1000 rows × 10 columns</p>\n",
       "</div>"
      ],
      "text/plain": [
       "    col_000 col_001 col_002 col_003 col_004 col_005 col_006 col_007 col_008  \\\n",
       "0         c       d       d       b       d       a       a       b       d   \n",
       "1         a       b       c       d       a       c       c       c       a   \n",
       "2         c       c       d       d       a       c       b       d       a   \n",
       "3         a       a       d       d       a       c       b       a       a   \n",
       "4         a       b       a       a       c       d       a       c       c   \n",
       "..      ...     ...     ...     ...     ...     ...     ...     ...     ...   \n",
       "995       c       c       d       a       a       c       b       b       b   \n",
       "996       d       d       d       a       d       a       c       c       a   \n",
       "997       b       a       d       c       c       b       a       d       d   \n",
       "998       a       b       c       b       a       d       a       a       b   \n",
       "999       b       d       d       a       d       a       d       d       d   \n",
       "\n",
       "    col_009  \n",
       "0         a  \n",
       "1         b  \n",
       "2         b  \n",
       "3         b  \n",
       "4         b  \n",
       "..      ...  \n",
       "995       a  \n",
       "996       b  \n",
       "997       a  \n",
       "998       a  \n",
       "999       a  \n",
       "\n",
       "[1000 rows x 10 columns]"
      ]
     },
     "execution_count": 4,
     "metadata": {},
     "output_type": "execute_result"
    }
   ],
   "source": [
    "d = generate_example(n_columns=10, n_rows=1000)\n",
    "\n",
    "d"
   ]
  },
  {
   "cell_type": "code",
   "execution_count": 5,
   "metadata": {},
   "outputs": [
    {
     "data": {
      "text/plain": [
       "array([ 56, 245])"
      ]
     },
     "execution_count": 5,
     "metadata": {},
     "output_type": "execute_result"
    }
   ],
   "source": [
    "dup_locs_1 = d.duplicated(keep=False)\n",
    "\n",
    "np.where(dup_locs_1)[0]"
   ]
  },
  {
   "cell_type": "code",
   "execution_count": 6,
   "metadata": {},
   "outputs": [
    {
     "data": {
      "text/html": [
       "<div>\n",
       "<style scoped>\n",
       "    .dataframe tbody tr th:only-of-type {\n",
       "        vertical-align: middle;\n",
       "    }\n",
       "\n",
       "    .dataframe tbody tr th {\n",
       "        vertical-align: top;\n",
       "    }\n",
       "\n",
       "    .dataframe thead th {\n",
       "        text-align: right;\n",
       "    }\n",
       "</style>\n",
       "<table border=\"1\" class=\"dataframe\">\n",
       "  <thead>\n",
       "    <tr style=\"text-align: right;\">\n",
       "      <th></th>\n",
       "      <th>col_000</th>\n",
       "      <th>col_001</th>\n",
       "      <th>col_002</th>\n",
       "      <th>col_003</th>\n",
       "      <th>col_004</th>\n",
       "      <th>col_005</th>\n",
       "      <th>col_006</th>\n",
       "      <th>col_007</th>\n",
       "      <th>col_008</th>\n",
       "      <th>col_009</th>\n",
       "    </tr>\n",
       "  </thead>\n",
       "  <tbody>\n",
       "    <tr>\n",
       "      <th>56</th>\n",
       "      <td>c</td>\n",
       "      <td>c</td>\n",
       "      <td>d</td>\n",
       "      <td>a</td>\n",
       "      <td>c</td>\n",
       "      <td>a</td>\n",
       "      <td>b</td>\n",
       "      <td>c</td>\n",
       "      <td>d</td>\n",
       "      <td>b</td>\n",
       "    </tr>\n",
       "    <tr>\n",
       "      <th>245</th>\n",
       "      <td>c</td>\n",
       "      <td>c</td>\n",
       "      <td>d</td>\n",
       "      <td>a</td>\n",
       "      <td>c</td>\n",
       "      <td>a</td>\n",
       "      <td>b</td>\n",
       "      <td>c</td>\n",
       "      <td>d</td>\n",
       "      <td>b</td>\n",
       "    </tr>\n",
       "  </tbody>\n",
       "</table>\n",
       "</div>"
      ],
      "text/plain": [
       "    col_000 col_001 col_002 col_003 col_004 col_005 col_006 col_007 col_008  \\\n",
       "56        c       c       d       a       c       a       b       c       d   \n",
       "245       c       c       d       a       c       a       b       c       d   \n",
       "\n",
       "    col_009  \n",
       "56        b  \n",
       "245       b  "
      ]
     },
     "execution_count": 6,
     "metadata": {},
     "output_type": "execute_result"
    }
   ],
   "source": [
    "\n",
    "d.loc[dup_locs_1, :]"
   ]
  },
  {
   "cell_type": "code",
   "execution_count": 7,
   "metadata": {},
   "outputs": [
    {
     "data": {
      "text/html": [
       "<div>\n",
       "<style scoped>\n",
       "    .dataframe tbody tr th:only-of-type {\n",
       "        vertical-align: middle;\n",
       "    }\n",
       "\n",
       "    .dataframe tbody tr th {\n",
       "        vertical-align: top;\n",
       "    }\n",
       "\n",
       "    .dataframe thead th {\n",
       "        text-align: right;\n",
       "    }\n",
       "</style>\n",
       "<table border=\"1\" class=\"dataframe\">\n",
       "  <thead>\n",
       "    <tr style=\"text-align: right;\">\n",
       "      <th></th>\n",
       "      <th>col_000</th>\n",
       "      <th>col_001</th>\n",
       "      <th>col_002</th>\n",
       "      <th>col_003</th>\n",
       "      <th>col_004</th>\n",
       "      <th>col_005</th>\n",
       "      <th>col_006</th>\n",
       "      <th>col_007</th>\n",
       "      <th>col_008</th>\n",
       "      <th>col_009</th>\n",
       "    </tr>\n",
       "  </thead>\n",
       "  <tbody>\n",
       "    <tr>\n",
       "      <th>56</th>\n",
       "      <td>c</td>\n",
       "      <td>c</td>\n",
       "      <td>d</td>\n",
       "      <td>a</td>\n",
       "      <td>c</td>\n",
       "      <td>a</td>\n",
       "      <td>b</td>\n",
       "      <td>c</td>\n",
       "      <td>d</td>\n",
       "      <td>b</td>\n",
       "    </tr>\n",
       "    <tr>\n",
       "      <th>245</th>\n",
       "      <td>c</td>\n",
       "      <td>c</td>\n",
       "      <td>d</td>\n",
       "      <td>a</td>\n",
       "      <td>c</td>\n",
       "      <td>a</td>\n",
       "      <td>b</td>\n",
       "      <td>c</td>\n",
       "      <td>d</td>\n",
       "      <td>b</td>\n",
       "    </tr>\n",
       "  </tbody>\n",
       "</table>\n",
       "</div>"
      ],
      "text/plain": [
       "    col_000 col_001 col_002 col_003 col_004 col_005 col_006 col_007 col_008  \\\n",
       "56        c       c       d       a       c       a       b       c       d   \n",
       "245       c       c       d       a       c       a       b       c       d   \n",
       "\n",
       "    col_009  \n",
       "56        b  \n",
       "245       b  "
      ]
     },
     "execution_count": 7,
     "metadata": {},
     "output_type": "execute_result"
    }
   ],
   "source": [
    "dup_locs_2 = d.groupby(list(d.columns)).transform(\"size\") > 1\n",
    "assert np.all(dup_locs_1 == dup_locs_2)\n",
    "\n",
    "d.loc[dup_locs_2, :]"
   ]
  },
  {
   "cell_type": "code",
   "execution_count": 8,
   "metadata": {},
   "outputs": [
    {
     "data": {
      "text/html": [
       "<div>\n",
       "<style scoped>\n",
       "    .dataframe tbody tr th:only-of-type {\n",
       "        vertical-align: middle;\n",
       "    }\n",
       "\n",
       "    .dataframe tbody tr th {\n",
       "        vertical-align: top;\n",
       "    }\n",
       "\n",
       "    .dataframe thead th {\n",
       "        text-align: right;\n",
       "    }\n",
       "</style>\n",
       "<table border=\"1\" class=\"dataframe\">\n",
       "  <thead>\n",
       "    <tr style=\"text-align: right;\">\n",
       "      <th></th>\n",
       "      <th>col_000</th>\n",
       "      <th>col_001</th>\n",
       "      <th>col_002</th>\n",
       "      <th>col_003</th>\n",
       "      <th>col_004</th>\n",
       "      <th>col_005</th>\n",
       "      <th>col_006</th>\n",
       "      <th>col_007</th>\n",
       "      <th>col_008</th>\n",
       "      <th>col_009</th>\n",
       "    </tr>\n",
       "  </thead>\n",
       "  <tbody>\n",
       "    <tr>\n",
       "      <th>0</th>\n",
       "      <td>c</td>\n",
       "      <td>c</td>\n",
       "      <td>d</td>\n",
       "      <td>a</td>\n",
       "      <td>c</td>\n",
       "      <td>a</td>\n",
       "      <td>b</td>\n",
       "      <td>c</td>\n",
       "      <td>d</td>\n",
       "      <td>b</td>\n",
       "    </tr>\n",
       "    <tr>\n",
       "      <th>1</th>\n",
       "      <td>c</td>\n",
       "      <td>c</td>\n",
       "      <td>d</td>\n",
       "      <td>a</td>\n",
       "      <td>c</td>\n",
       "      <td>a</td>\n",
       "      <td>b</td>\n",
       "      <td>c</td>\n",
       "      <td>d</td>\n",
       "      <td>b</td>\n",
       "    </tr>\n",
       "  </tbody>\n",
       "</table>\n",
       "</div>"
      ],
      "text/plain": [
       "  col_000 col_001 col_002 col_003 col_004 col_005 col_006 col_007 col_008  \\\n",
       "0       c       c       d       a       c       a       b       c       d   \n",
       "1       c       c       d       a       c       a       b       c       d   \n",
       "\n",
       "  col_009  \n",
       "0       b  \n",
       "1       b  "
      ]
     },
     "execution_count": 8,
     "metadata": {},
     "output_type": "execute_result"
    }
   ],
   "source": [
    "ops = (\n",
    "    data_algebra.descr(d=d)\n",
    "        .extend({\"count\": \"(1).sum()\"}, partition_by=d.columns)\n",
    "        .select_rows(\"count > 1\")\n",
    "        .drop_columns([\"count\"])\n",
    ")\n",
    "\n",
    "ops_res = ops.transform(d)\n",
    "assert ops_res.shape[0] == np.sum(dup_locs_1)\n",
    "\n",
    "ops_res"
   ]
  },
  {
   "cell_type": "code",
   "execution_count": 9,
   "metadata": {},
   "outputs": [
    {
     "data": {
      "text/plain": [
       "'d'"
      ]
     },
     "execution_count": 9,
     "metadata": {},
     "output_type": "execute_result"
    }
   ],
   "source": [
    "db_tables = data_algebra.db_space.DBSpace()\n",
    "db_tables.insert(key=\"d\", value=d)"
   ]
  },
  {
   "cell_type": "code",
   "execution_count": 10,
   "metadata": {},
   "outputs": [],
   "source": [
    "res_description = db_tables.execute(ops)"
   ]
  },
  {
   "cell_type": "code",
   "execution_count": 11,
   "metadata": {},
   "outputs": [
    {
     "data": {
      "text/html": [
       "<div>\n",
       "<style scoped>\n",
       "    .dataframe tbody tr th:only-of-type {\n",
       "        vertical-align: middle;\n",
       "    }\n",
       "\n",
       "    .dataframe tbody tr th {\n",
       "        vertical-align: top;\n",
       "    }\n",
       "\n",
       "    .dataframe thead th {\n",
       "        text-align: right;\n",
       "    }\n",
       "</style>\n",
       "<table border=\"1\" class=\"dataframe\">\n",
       "  <thead>\n",
       "    <tr style=\"text-align: right;\">\n",
       "      <th></th>\n",
       "      <th>col_000</th>\n",
       "      <th>col_001</th>\n",
       "      <th>col_002</th>\n",
       "      <th>col_003</th>\n",
       "      <th>col_004</th>\n",
       "      <th>col_005</th>\n",
       "      <th>col_006</th>\n",
       "      <th>col_007</th>\n",
       "      <th>col_008</th>\n",
       "      <th>col_009</th>\n",
       "    </tr>\n",
       "  </thead>\n",
       "  <tbody>\n",
       "    <tr>\n",
       "      <th>0</th>\n",
       "      <td>c</td>\n",
       "      <td>c</td>\n",
       "      <td>d</td>\n",
       "      <td>a</td>\n",
       "      <td>c</td>\n",
       "      <td>a</td>\n",
       "      <td>b</td>\n",
       "      <td>c</td>\n",
       "      <td>d</td>\n",
       "      <td>b</td>\n",
       "    </tr>\n",
       "    <tr>\n",
       "      <th>1</th>\n",
       "      <td>c</td>\n",
       "      <td>c</td>\n",
       "      <td>d</td>\n",
       "      <td>a</td>\n",
       "      <td>c</td>\n",
       "      <td>a</td>\n",
       "      <td>b</td>\n",
       "      <td>c</td>\n",
       "      <td>d</td>\n",
       "      <td>b</td>\n",
       "    </tr>\n",
       "  </tbody>\n",
       "</table>\n",
       "</div>"
      ],
      "text/plain": [
       "  col_000 col_001 col_002 col_003 col_004 col_005 col_006 col_007 col_008  \\\n",
       "0       c       c       d       a       c       a       b       c       d   \n",
       "1       c       c       d       a       c       a       b       c       d   \n",
       "\n",
       "  col_009  \n",
       "0       b  \n",
       "1       b  "
      ]
     },
     "execution_count": 11,
     "metadata": {},
     "output_type": "execute_result"
    }
   ],
   "source": [
    "db_res = db_tables.retrieve(res_description.table_name)\n",
    "assert db_res.shape[0] == np.sum(dup_locs_1)\n",
    "\n",
    "db_res"
   ]
  },
  {
   "cell_type": "code",
   "execution_count": 12,
   "metadata": {},
   "outputs": [],
   "source": [
    "big_example = generate_example(n_columns=20, n_rows=5000000)\n"
   ]
  },
  {
   "cell_type": "code",
   "execution_count": 13,
   "metadata": {},
   "outputs": [
    {
     "data": {
      "text/plain": [
       "28"
      ]
     },
     "execution_count": 13,
     "metadata": {},
     "output_type": "execute_result"
    }
   ],
   "source": [
    "sum_1 = np.sum(big_example.duplicated(keep=False))\n",
    "\n",
    "sum_1"
   ]
  },
  {
   "cell_type": "code",
   "execution_count": 14,
   "metadata": {},
   "outputs": [],
   "source": [
    "sum_2 = np.sum(big_example.groupby(list(big_example.columns)).transform(\"size\") > 1)\n",
    "assert sum_2 == sum_1"
   ]
  },
  {
   "cell_type": "code",
   "execution_count": 15,
   "metadata": {},
   "outputs": [],
   "source": [
    "big_ops = (\n",
    "    data_algebra.descr(big_example=big_example)\n",
    "        .extend({\"count\": \"(1).sum()\"}, partition_by=big_example.columns)\n",
    "        .select_rows(\"count > 1\")\n",
    "        .drop_columns([\"count\"])\n",
    ")\n",
    "big_res = big_ops.transform(big_example)\n",
    "assert big_res.shape[0] == sum_1"
   ]
  },
  {
   "cell_type": "code",
   "execution_count": 16,
   "metadata": {},
   "outputs": [
    {
     "data": {
      "text/plain": [
       "'big_example'"
      ]
     },
     "execution_count": 16,
     "metadata": {},
     "output_type": "execute_result"
    }
   ],
   "source": [
    "db_tables.insert(key=\"big_example\", value=big_example)"
   ]
  },
  {
   "cell_type": "code",
   "execution_count": 17,
   "metadata": {},
   "outputs": [],
   "source": [
    "big_res_description = db_tables.execute(big_ops)"
   ]
  },
  {
   "cell_type": "code",
   "execution_count": 18,
   "metadata": {},
   "outputs": [],
   "source": [
    "big_db_res = db_tables.retrieve(big_res_description.table_name)\n",
    "assert big_db_res.shape[0] == sum_1"
   ]
  },
  {
   "cell_type": "code",
   "execution_count": 19,
   "metadata": {},
   "outputs": [
    {
     "name": "stdout",
     "output_type": "stream",
     "text": [
      "-- data_algebra SQL https://github.com/WinVector/data_algebra\n",
      "--  dialect: SQLiteModel 1.4.6\n",
      "--       string quote: '\n",
      "--   identifier quote: \"\n",
      "WITH\n",
      " \"extend_0\" AS (\n",
      "  SELECT  -- .extend({ 'count': '(1).sum()'}, partition_by=['col_000', 'col_001', 'col_002', 'col_003', 'col_004', 'col_005', 'col_006', 'col_007', 'col_008', 'col_009'])\n",
      "   \"col_000\" ,\n",
      "   \"col_001\" ,\n",
      "   \"col_002\" ,\n",
      "   \"col_003\" ,\n",
      "   \"col_004\" ,\n",
      "   \"col_005\" ,\n",
      "   \"col_006\" ,\n",
      "   \"col_007\" ,\n",
      "   \"col_008\" ,\n",
      "   \"col_009\" ,\n",
      "   SUM(1) OVER ( PARTITION BY \"col_000\", \"col_001\", \"col_002\", \"col_003\", \"col_004\", \"col_005\", \"col_006\", \"col_007\", \"col_008\", \"col_009\"  )  AS \"count\"\n",
      "  FROM\n",
      "   \"d\"\n",
      " )\n",
      "SELECT  -- .select_rows('count > 1')\n",
      " \"col_000\" ,\n",
      " \"col_001\" ,\n",
      " \"col_002\" ,\n",
      " \"col_003\" ,\n",
      " \"col_004\" ,\n",
      " \"col_005\" ,\n",
      " \"col_006\" ,\n",
      " \"col_007\" ,\n",
      " \"col_008\" ,\n",
      " \"col_009\"\n",
      "FROM\n",
      " \"extend_0\"\n",
      "WHERE\n",
      " \"count\" > 1\n",
      "\n"
     ]
    }
   ],
   "source": [
    "print(ops.to_sql())"
   ]
  },
  {
   "cell_type": "code",
   "execution_count": 20,
   "metadata": {},
   "outputs": [],
   "source": [
    "db_tables.close()"
   ]
  },
  {
   "cell_type": "code",
   "execution_count": null,
   "metadata": {},
   "outputs": [],
   "source": []
  },
  {
   "cell_type": "code",
   "execution_count": null,
   "metadata": {},
   "outputs": [],
   "source": []
  }
 ],
 "metadata": {
  "kernelspec": {
   "display_name": "Python 3.10.8 ('data_algebra_dev_env')",
   "language": "python",
   "name": "python3"
  },
  "language_info": {
   "codemirror_mode": {
    "name": "ipython",
    "version": 3
   },
   "file_extension": ".py",
   "mimetype": "text/x-python",
   "name": "python",
   "nbconvert_exporter": "python",
   "pygments_lexer": "ipython3",
   "version": "3.10.8"
  },
  "orig_nbformat": 4,
  "vscode": {
   "interpreter": {
    "hash": "78f2e370b2228f20769c50722e4fc1c000bb9a3ed5301a20de3a1aec2b74b543"
   }
  }
 },
 "nbformat": 4,
 "nbformat_minor": 2
}
