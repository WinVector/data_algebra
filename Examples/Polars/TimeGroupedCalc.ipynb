{
 "cells": [
  {
   "attachments": {},
   "cell_type": "markdown",
   "metadata": {},
   "source": [
    "In this note compare a simple grouped calculation in Python using [Pandas](https://pandas.pydata.org), [Polars](https://www.pola.rs), and the [data algebra](https://github.com/WinVector/data_algebra) (over Pandas and over Polars).\n",
    "\n",
    "What is really neat is:\n",
    "\n",
    "  * Polars is indeed faster than Pandas\n",
    "  * Programming over Polars with the data algebra is very low overhead!\n",
    "  * The same data algebra operations can be used over Pandas, Polars (still under development), or SQL.\n",
    "\n",
    "First, let's import our packages and set up our example data."
   ]
  },
  {
   "cell_type": "code",
   "execution_count": 1,
   "metadata": {},
   "outputs": [],
   "source": [
    "import sys\n",
    "import time\n",
    "import numpy as np\n",
    "import pandas as pd\n",
    "import polars as pl\n",
    "import pyarrow\n",
    "import data_algebra\n",
    "import data_algebra.test_util\n"
   ]
  },
  {
   "cell_type": "code",
   "execution_count": 2,
   "metadata": {},
   "outputs": [],
   "source": [
    "rng = np.random.default_rng(2022)"
   ]
  },
  {
   "cell_type": "code",
   "execution_count": 3,
   "metadata": {},
   "outputs": [],
   "source": [
    "def mk_example(*, n_rows: int, n_groups: int):\n",
    "    assert n_rows > 0\n",
    "    assert n_groups > 0\n",
    "    groups = [f\"group_{i:04d}\" for i in range(n_groups)]\n",
    "    d = pd.DataFrame({\n",
    "        \"group\": rng.choice(groups, size=n_rows, replace=True),\n",
    "        \"value\": rng.normal(size=n_rows)\n",
    "    })\n",
    "    return d"
   ]
  },
  {
   "cell_type": "code",
   "execution_count": 4,
   "metadata": {},
   "outputs": [],
   "source": [
    "d_Pandas = mk_example(n_rows=10, n_groups=2)\n"
   ]
  },
  {
   "cell_type": "code",
   "execution_count": 5,
   "metadata": {},
   "outputs": [],
   "source": [
    "d_Polars = pl.DataFrame(d_Pandas)"
   ]
  },
  {
   "attachments": {},
   "cell_type": "markdown",
   "metadata": {},
   "source": [
    "Our task: compute the minimum and maximum of `value` for each group specified by `group`."
   ]
  },
  {
   "attachments": {},
   "cell_type": "markdown",
   "metadata": {},
   "source": [
    "First in Pandas."
   ]
  },
  {
   "cell_type": "code",
   "execution_count": 6,
   "metadata": {},
   "outputs": [
    {
     "data": {
      "text/html": [
       "<div>\n",
       "<style scoped>\n",
       "    .dataframe tbody tr th:only-of-type {\n",
       "        vertical-align: middle;\n",
       "    }\n",
       "\n",
       "    .dataframe tbody tr th {\n",
       "        vertical-align: top;\n",
       "    }\n",
       "\n",
       "    .dataframe thead tr th {\n",
       "        text-align: left;\n",
       "    }\n",
       "\n",
       "    .dataframe thead tr:last-of-type th {\n",
       "        text-align: right;\n",
       "    }\n",
       "</style>\n",
       "<table border=\"1\" class=\"dataframe\">\n",
       "  <thead>\n",
       "    <tr>\n",
       "      <th></th>\n",
       "      <th colspan=\"2\" halign=\"left\">value</th>\n",
       "    </tr>\n",
       "    <tr>\n",
       "      <th></th>\n",
       "      <th>min</th>\n",
       "      <th>max</th>\n",
       "    </tr>\n",
       "    <tr>\n",
       "      <th>group</th>\n",
       "      <th></th>\n",
       "      <th></th>\n",
       "    </tr>\n",
       "  </thead>\n",
       "  <tbody>\n",
       "    <tr>\n",
       "      <th>group_0000</th>\n",
       "      <td>-2.931249</td>\n",
       "      <td>1.667716</td>\n",
       "    </tr>\n",
       "    <tr>\n",
       "      <th>group_0001</th>\n",
       "      <td>-1.440234</td>\n",
       "      <td>0.078888</td>\n",
       "    </tr>\n",
       "  </tbody>\n",
       "</table>\n",
       "</div>"
      ],
      "text/plain": [
       "               value          \n",
       "                 min       max\n",
       "group                         \n",
       "group_0000 -2.931249  1.667716\n",
       "group_0001 -1.440234  0.078888"
      ]
     },
     "execution_count": 6,
     "metadata": {},
     "output_type": "execute_result"
    }
   ],
   "source": [
    "res_pandas = (\n",
    "    d_Pandas\n",
    "        .groupby([\"group\"])\n",
    "        .agg({\"value\": [\"min\", \"max\"]})\n",
    ")\n",
    "\n",
    "res_pandas"
   ]
  },
  {
   "attachments": {},
   "cell_type": "markdown",
   "metadata": {},
   "source": [
    "Now in Polars."
   ]
  },
  {
   "cell_type": "code",
   "execution_count": 7,
   "metadata": {},
   "outputs": [
    {
     "data": {
      "text/html": [
       "<div>\n",
       "<style scoped>\n",
       "    .dataframe tbody tr th:only-of-type {\n",
       "        vertical-align: middle;\n",
       "    }\n",
       "\n",
       "    .dataframe tbody tr th {\n",
       "        vertical-align: top;\n",
       "    }\n",
       "\n",
       "    .dataframe thead th {\n",
       "        text-align: right;\n",
       "    }\n",
       "\n",
       "    .dataframe td {\n",
       "        white-space: pre;\n",
       "    }\n",
       "\n",
       "    .dataframe td {\n",
       "        padding-top: 0;\n",
       "    }\n",
       "\n",
       "    .dataframe td {\n",
       "        padding-bottom: 0;\n",
       "    }\n",
       "</style>\n",
       "<table border=\"1\" class=\"dataframe\">\n",
       "<small>shape: (2, 3)</small>\n",
       "<thead>\n",
       "<tr>\n",
       "<th>\n",
       "group\n",
       "</th>\n",
       "<th>\n",
       "min_value\n",
       "</th>\n",
       "<th>\n",
       "max_value\n",
       "</th>\n",
       "</tr>\n",
       "<tr>\n",
       "<td>\n",
       "str\n",
       "</td>\n",
       "<td>\n",
       "f64\n",
       "</td>\n",
       "<td>\n",
       "f64\n",
       "</td>\n",
       "</tr>\n",
       "</thead>\n",
       "<tbody>\n",
       "<tr>\n",
       "<td>\n",
       "&quot;group_0001&quot;\n",
       "</td>\n",
       "<td>\n",
       "-1.440234\n",
       "</td>\n",
       "<td>\n",
       "0.078888\n",
       "</td>\n",
       "</tr>\n",
       "<tr>\n",
       "<td>\n",
       "&quot;group_0000&quot;\n",
       "</td>\n",
       "<td>\n",
       "-2.931249\n",
       "</td>\n",
       "<td>\n",
       "1.667716\n",
       "</td>\n",
       "</tr>\n",
       "</tbody>\n",
       "</table>\n",
       "</div>"
      ],
      "text/plain": [
       "shape: (2, 3)\n",
       "┌────────────┬───────────┬───────────┐\n",
       "│ group      ┆ min_value ┆ max_value │\n",
       "│ ---        ┆ ---       ┆ ---       │\n",
       "│ str        ┆ f64       ┆ f64       │\n",
       "╞════════════╪═══════════╪═══════════╡\n",
       "│ group_0001 ┆ -1.440234 ┆ 0.078888  │\n",
       "├╌╌╌╌╌╌╌╌╌╌╌╌┼╌╌╌╌╌╌╌╌╌╌╌┼╌╌╌╌╌╌╌╌╌╌╌┤\n",
       "│ group_0000 ┆ -2.931249 ┆ 1.667716  │\n",
       "└────────────┴───────────┴───────────┘"
      ]
     },
     "execution_count": 7,
     "metadata": {},
     "output_type": "execute_result"
    }
   ],
   "source": [
    "res_Polars = (\n",
    "    d_Polars\n",
    "        .groupby([\"group\"])\n",
    "        .agg([\n",
    "            pl.col(\"value\").min().alias(\"min_value\"),\n",
    "            pl.col(\"value\").max().alias(\"max_value\"),\n",
    "        ])\n",
    ")\n",
    "\n",
    "res_Polars"
   ]
  },
  {
   "attachments": {},
   "cell_type": "markdown",
   "metadata": {},
   "source": [
    "Now in the data algebra."
   ]
  },
  {
   "cell_type": "code",
   "execution_count": 8,
   "metadata": {},
   "outputs": [],
   "source": [
    "ops = (\n",
    "    data_algebra.descr(d=d_Pandas)\n",
    "        .project(\n",
    "            {\n",
    "                \"max_value\": \"value.max()\",\n",
    "                \"min_value\": \"value.min()\",\n",
    "            },\n",
    "            group_by=[\"group\"]\n",
    "        )\n",
    ")"
   ]
  },
  {
   "attachments": {},
   "cell_type": "markdown",
   "metadata": {},
   "source": [
    "We have the data algebra working over Pandas."
   ]
  },
  {
   "cell_type": "code",
   "execution_count": 9,
   "metadata": {},
   "outputs": [
    {
     "data": {
      "text/html": [
       "<div>\n",
       "<style scoped>\n",
       "    .dataframe tbody tr th:only-of-type {\n",
       "        vertical-align: middle;\n",
       "    }\n",
       "\n",
       "    .dataframe tbody tr th {\n",
       "        vertical-align: top;\n",
       "    }\n",
       "\n",
       "    .dataframe thead th {\n",
       "        text-align: right;\n",
       "    }\n",
       "</style>\n",
       "<table border=\"1\" class=\"dataframe\">\n",
       "  <thead>\n",
       "    <tr style=\"text-align: right;\">\n",
       "      <th></th>\n",
       "      <th>group</th>\n",
       "      <th>max_value</th>\n",
       "      <th>min_value</th>\n",
       "    </tr>\n",
       "  </thead>\n",
       "  <tbody>\n",
       "    <tr>\n",
       "      <th>0</th>\n",
       "      <td>group_0000</td>\n",
       "      <td>1.667716</td>\n",
       "      <td>-2.931249</td>\n",
       "    </tr>\n",
       "    <tr>\n",
       "      <th>1</th>\n",
       "      <td>group_0001</td>\n",
       "      <td>0.078888</td>\n",
       "      <td>-1.440234</td>\n",
       "    </tr>\n",
       "  </tbody>\n",
       "</table>\n",
       "</div>"
      ],
      "text/plain": [
       "        group  max_value  min_value\n",
       "0  group_0000   1.667716  -2.931249\n",
       "1  group_0001   0.078888  -1.440234"
      ]
     },
     "execution_count": 9,
     "metadata": {},
     "output_type": "execute_result"
    }
   ],
   "source": [
    "res_data_algebra_Pandas = ops.transform(d_Pandas)\n",
    "\n",
    "res_data_algebra_Pandas"
   ]
  },
  {
   "attachments": {},
   "cell_type": "markdown",
   "metadata": {},
   "source": [
    "Or can have the data algebra working over Polars."
   ]
  },
  {
   "cell_type": "code",
   "execution_count": 10,
   "metadata": {},
   "outputs": [
    {
     "data": {
      "text/html": [
       "<div>\n",
       "<style scoped>\n",
       "    .dataframe tbody tr th:only-of-type {\n",
       "        vertical-align: middle;\n",
       "    }\n",
       "\n",
       "    .dataframe tbody tr th {\n",
       "        vertical-align: top;\n",
       "    }\n",
       "\n",
       "    .dataframe thead th {\n",
       "        text-align: right;\n",
       "    }\n",
       "\n",
       "    .dataframe td {\n",
       "        white-space: pre;\n",
       "    }\n",
       "\n",
       "    .dataframe td {\n",
       "        padding-top: 0;\n",
       "    }\n",
       "\n",
       "    .dataframe td {\n",
       "        padding-bottom: 0;\n",
       "    }\n",
       "</style>\n",
       "<table border=\"1\" class=\"dataframe\">\n",
       "<small>shape: (2, 3)</small>\n",
       "<thead>\n",
       "<tr>\n",
       "<th>\n",
       "group\n",
       "</th>\n",
       "<th>\n",
       "max_value\n",
       "</th>\n",
       "<th>\n",
       "min_value\n",
       "</th>\n",
       "</tr>\n",
       "<tr>\n",
       "<td>\n",
       "str\n",
       "</td>\n",
       "<td>\n",
       "f64\n",
       "</td>\n",
       "<td>\n",
       "f64\n",
       "</td>\n",
       "</tr>\n",
       "</thead>\n",
       "<tbody>\n",
       "<tr>\n",
       "<td>\n",
       "&quot;group_0000&quot;\n",
       "</td>\n",
       "<td>\n",
       "1.667716\n",
       "</td>\n",
       "<td>\n",
       "-2.931249\n",
       "</td>\n",
       "</tr>\n",
       "<tr>\n",
       "<td>\n",
       "&quot;group_0001&quot;\n",
       "</td>\n",
       "<td>\n",
       "0.078888\n",
       "</td>\n",
       "<td>\n",
       "-1.440234\n",
       "</td>\n",
       "</tr>\n",
       "</tbody>\n",
       "</table>\n",
       "</div>"
      ],
      "text/plain": [
       "shape: (2, 3)\n",
       "┌────────────┬───────────┬───────────┐\n",
       "│ group      ┆ max_value ┆ min_value │\n",
       "│ ---        ┆ ---       ┆ ---       │\n",
       "│ str        ┆ f64       ┆ f64       │\n",
       "╞════════════╪═══════════╪═══════════╡\n",
       "│ group_0000 ┆ 1.667716  ┆ -2.931249 │\n",
       "├╌╌╌╌╌╌╌╌╌╌╌╌┼╌╌╌╌╌╌╌╌╌╌╌┼╌╌╌╌╌╌╌╌╌╌╌┤\n",
       "│ group_0001 ┆ 0.078888  ┆ -1.440234 │\n",
       "└────────────┴───────────┴───────────┘"
      ]
     },
     "execution_count": 10,
     "metadata": {},
     "output_type": "execute_result"
    }
   ],
   "source": [
    "res_Polars = ops.transform(d_Polars)\n",
    "assert data_algebra.test_util.equivalent_frames(res_Polars.to_pandas(), res_data_algebra_Pandas)\n",
    "\n",
    "res_Polars"
   ]
  },
  {
   "attachments": {},
   "cell_type": "markdown",
   "metadata": {},
   "source": [
    "Let's build a larger example to get some timings."
   ]
  },
  {
   "cell_type": "code",
   "execution_count": 11,
   "metadata": {},
   "outputs": [],
   "source": [
    "d_Pandas = mk_example(n_rows=1000000, n_groups=100000)\n",
    "d_Polars = pl.DataFrame(d_Pandas)\n",
    "n_repetitions = 10"
   ]
  },
  {
   "cell_type": "code",
   "execution_count": 12,
   "metadata": {},
   "outputs": [],
   "source": [
    "t0 = time.perf_counter()\n",
    "for i in range(n_repetitions):\n",
    "    res_data_algebra_Pandas = ops.transform(d_Pandas)\n",
    "t1 = time.perf_counter()\n",
    "time_data_algebra_Pandas = t1 - t0"
   ]
  },
  {
   "cell_type": "code",
   "execution_count": 13,
   "metadata": {},
   "outputs": [],
   "source": [
    "t0 = time.perf_counter()\n",
    "for i in range(n_repetitions):\n",
    "    res_pandas = (\n",
    "        d_Pandas\n",
    "            .groupby([\"group\"])\n",
    "            .agg({\"value\": [\"min\", \"max\"]})\n",
    "    )\n",
    "t1 = time.perf_counter()\n",
    "time_Pandas = t1 - t0"
   ]
  },
  {
   "cell_type": "code",
   "execution_count": 14,
   "metadata": {},
   "outputs": [],
   "source": [
    "t0 = time.perf_counter()\n",
    "for i in range(n_repetitions):\n",
    "    res_data_algebra_Polars = ops.transform(d_Polars)\n",
    "t1 = time.perf_counter()\n",
    "time_data_algebra_Polars = t1 - t0"
   ]
  },
  {
   "cell_type": "code",
   "execution_count": 15,
   "metadata": {},
   "outputs": [],
   "source": [
    "t0 = time.perf_counter()\n",
    "for i in range(n_repetitions):\n",
    "    res_Polars = (\n",
    "        d_Polars\n",
    "            .groupby([\"group\"])\n",
    "            .agg([\n",
    "                pl.col(\"value\").min().alias(\"min_value\"),\n",
    "                pl.col(\"value\").max().alias(\"max_value\"),\n",
    "                ])\n",
    "    )\n",
    "t1 = time.perf_counter()\n",
    "time_Polars = t1 - t0"
   ]
  },
  {
   "cell_type": "code",
   "execution_count": 16,
   "metadata": {},
   "outputs": [],
   "source": [
    "t0 = time.perf_counter()\n",
    "for i in range(n_repetitions):\n",
    "    res_Polars_lazy = (\n",
    "        d_Polars\n",
    "            .lazy()\n",
    "            .groupby([\"group\"])\n",
    "            .agg([\n",
    "                pl.col(\"value\").min().alias(\"min_value\"),\n",
    "                pl.col(\"value\").max().alias(\"max_value\"),\n",
    "                ])\n",
    "            .collect()\n",
    "    )\n",
    "t1 = time.perf_counter()\n",
    "time_Polars_lazy = t1 - t0"
   ]
  },
  {
   "cell_type": "code",
   "execution_count": 17,
   "metadata": {},
   "outputs": [],
   "source": [
    "assert data_algebra.test_util.equivalent_frames(res_Polars.to_pandas(), res_data_algebra_Pandas)"
   ]
  },
  {
   "cell_type": "code",
   "execution_count": 18,
   "metadata": {},
   "outputs": [
    {
     "data": {
      "text/html": [
       "<div>\n",
       "<style scoped>\n",
       "    .dataframe tbody tr th:only-of-type {\n",
       "        vertical-align: middle;\n",
       "    }\n",
       "\n",
       "    .dataframe tbody tr th {\n",
       "        vertical-align: top;\n",
       "    }\n",
       "\n",
       "    .dataframe thead th {\n",
       "        text-align: right;\n",
       "    }\n",
       "</style>\n",
       "<table border=\"1\" class=\"dataframe\">\n",
       "  <thead>\n",
       "    <tr style=\"text-align: right;\">\n",
       "      <th></th>\n",
       "      <th>method</th>\n",
       "      <th>time (seconds/run)</th>\n",
       "    </tr>\n",
       "  </thead>\n",
       "  <tbody>\n",
       "    <tr>\n",
       "      <th>0</th>\n",
       "      <td>Pandas</td>\n",
       "      <td>0.279023</td>\n",
       "    </tr>\n",
       "    <tr>\n",
       "      <th>1</th>\n",
       "      <td>data_algebra_Pandas</td>\n",
       "      <td>0.406919</td>\n",
       "    </tr>\n",
       "    <tr>\n",
       "      <th>2</th>\n",
       "      <td>Polars</td>\n",
       "      <td>0.110303</td>\n",
       "    </tr>\n",
       "    <tr>\n",
       "      <th>3</th>\n",
       "      <td>Polars (lazy)</td>\n",
       "      <td>0.112036</td>\n",
       "    </tr>\n",
       "    <tr>\n",
       "      <th>4</th>\n",
       "      <td>data_algebra_Polars</td>\n",
       "      <td>0.123590</td>\n",
       "    </tr>\n",
       "  </tbody>\n",
       "</table>\n",
       "</div>"
      ],
      "text/plain": [
       "                method  time (seconds/run)\n",
       "0               Pandas            0.279023\n",
       "1  data_algebra_Pandas            0.406919\n",
       "2               Polars            0.110303\n",
       "3        Polars (lazy)            0.112036\n",
       "4  data_algebra_Polars            0.123590"
      ]
     },
     "execution_count": 18,
     "metadata": {},
     "output_type": "execute_result"
    }
   ],
   "source": [
    "timings = pd.DataFrame({\n",
    "    \"method\": [\"Pandas\", \"data_algebra_Pandas\", \"Polars\", \"Polars (lazy)\", \"data_algebra_Polars\"],\n",
    "    \"time (seconds/run)\": [time_Pandas, time_data_algebra_Pandas, time_Polars, time_Polars_lazy, time_data_algebra_Polars],\n",
    "})\n",
    "timings[\"time (seconds/run)\"] = timings[\"time (seconds/run)\"] / n_repetitions\n",
    "\n",
    "timings"
   ]
  },
  {
   "attachments": {},
   "cell_type": "markdown",
   "metadata": {},
   "source": [
    "What we see includes:\n",
    "\n",
    "  * data algebra, unfortunately, does have some overhead cost working over Pandas.\n",
    "  * Polars is faster than Pandas.\n",
    "  * data algebra, has little overhead working over Polars (and does use the lazy interface).\n",
    "\n",
    "For a serious study, we would want a longer task, more runs, standard deviations, and to also eliminate possible warm-start issues (though we did run data algebra first to make sure it was cold-started).\n",
    "\n",
    "And, just for fun, convert the data algebra ops to SQL."
   ]
  },
  {
   "cell_type": "code",
   "execution_count": 19,
   "metadata": {},
   "outputs": [
    {
     "name": "stdout",
     "output_type": "stream",
     "text": [
      "-- data_algebra SQL https://github.com/WinVector/data_algebra\n",
      "--  dialect: SQLiteModel 1.5.1\n",
      "--       string quote: '\n",
      "--   identifier quote: \"\n",
      "SELECT  -- .project({ 'max_value': 'value.max()', 'min_value': 'value.min()'}, group_by=['group'])\n",
      " MAX(\"value\") AS \"max_value\" ,\n",
      " MIN(\"value\") AS \"min_value\" ,\n",
      " \"group\"\n",
      "FROM\n",
      " \"d\"\n",
      "GROUP BY\n",
      " \"group\"\n",
      "\n"
     ]
    }
   ],
   "source": [
    "print(ops.to_sql())"
   ]
  },
  {
   "attachments": {},
   "cell_type": "markdown",
   "metadata": {},
   "source": [
    "Or even print the ops themselves."
   ]
  },
  {
   "cell_type": "code",
   "execution_count": 20,
   "metadata": {},
   "outputs": [
    {
     "name": "stdout",
     "output_type": "stream",
     "text": [
      "(\n",
      "    TableDescription(table_name=\"d\", column_names=[\"group\", \"value\"]).project(\n",
      "        {\"max_value\": \"value.max()\", \"min_value\": \"value.min()\"}, group_by=[\"group\"]\n",
      "    )\n",
      ")\n",
      "\n"
     ]
    }
   ],
   "source": [
    "print(ops.to_python(pretty=True))"
   ]
  },
  {
   "cell_type": "code",
   "execution_count": 21,
   "metadata": {},
   "outputs": [],
   "source": [
    "# write summary results out\n",
    "timings[\"language\"] = \"Python\"\n",
    "timings.to_csv(\"tgc_python_timings.csv\", index=False)"
   ]
  },
  {
   "attachments": {},
   "cell_type": "markdown",
   "metadata": {},
   "source": [
    "The system and package versions used for this demonstration are as follows."
   ]
  },
  {
   "cell_type": "code",
   "execution_count": 22,
   "metadata": {},
   "outputs": [
    {
     "data": {
      "text/plain": [
       "'3.10.8 (main, Nov 24 2022, 08:09:04) [Clang 14.0.6 ]'"
      ]
     },
     "execution_count": 22,
     "metadata": {},
     "output_type": "execute_result"
    }
   ],
   "source": [
    "sys.version"
   ]
  },
  {
   "cell_type": "code",
   "execution_count": 23,
   "metadata": {},
   "outputs": [
    {
     "data": {
      "text/plain": [
       "'0.15.3'"
      ]
     },
     "execution_count": 23,
     "metadata": {},
     "output_type": "execute_result"
    }
   ],
   "source": [
    "pl.__version__"
   ]
  },
  {
   "cell_type": "code",
   "execution_count": 24,
   "metadata": {},
   "outputs": [
    {
     "data": {
      "text/plain": [
       "'1.5.2'"
      ]
     },
     "execution_count": 24,
     "metadata": {},
     "output_type": "execute_result"
    }
   ],
   "source": [
    "pd.__version__"
   ]
  },
  {
   "cell_type": "code",
   "execution_count": 25,
   "metadata": {},
   "outputs": [
    {
     "data": {
      "text/plain": [
       "'1.5.1'"
      ]
     },
     "execution_count": 25,
     "metadata": {},
     "output_type": "execute_result"
    }
   ],
   "source": [
    "data_algebra.__version__"
   ]
  },
  {
   "cell_type": "code",
   "execution_count": 26,
   "metadata": {},
   "outputs": [
    {
     "data": {
      "text/plain": [
       "'8.0.0'"
      ]
     },
     "execution_count": 26,
     "metadata": {},
     "output_type": "execute_result"
    }
   ],
   "source": [
    "pyarrow.__version__"
   ]
  },
  {
   "cell_type": "code",
   "execution_count": 27,
   "metadata": {},
   "outputs": [
    {
     "data": {
      "text/html": [
       "<div>\n",
       "<style scoped>\n",
       "    .dataframe tbody tr th:only-of-type {\n",
       "        vertical-align: middle;\n",
       "    }\n",
       "\n",
       "    .dataframe tbody tr th {\n",
       "        vertical-align: top;\n",
       "    }\n",
       "\n",
       "    .dataframe thead th {\n",
       "        text-align: right;\n",
       "    }\n",
       "</style>\n",
       "<table border=\"1\" class=\"dataframe\">\n",
       "  <thead>\n",
       "    <tr style=\"text-align: right;\">\n",
       "      <th></th>\n",
       "      <th>method</th>\n",
       "      <th>time (seconds/run)</th>\n",
       "      <th>language</th>\n",
       "    </tr>\n",
       "  </thead>\n",
       "  <tbody>\n",
       "    <tr>\n",
       "      <th>0</th>\n",
       "      <td>Pandas</td>\n",
       "      <td>0.279023</td>\n",
       "      <td>Python</td>\n",
       "    </tr>\n",
       "    <tr>\n",
       "      <th>1</th>\n",
       "      <td>data_algebra_Pandas</td>\n",
       "      <td>0.406919</td>\n",
       "      <td>Python</td>\n",
       "    </tr>\n",
       "    <tr>\n",
       "      <th>2</th>\n",
       "      <td>Polars</td>\n",
       "      <td>0.110303</td>\n",
       "      <td>Python</td>\n",
       "    </tr>\n",
       "    <tr>\n",
       "      <th>3</th>\n",
       "      <td>Polars (lazy)</td>\n",
       "      <td>0.112036</td>\n",
       "      <td>Python</td>\n",
       "    </tr>\n",
       "    <tr>\n",
       "      <th>4</th>\n",
       "      <td>data_algebra_Polars</td>\n",
       "      <td>0.123590</td>\n",
       "      <td>Python</td>\n",
       "    </tr>\n",
       "    <tr>\n",
       "      <th>5</th>\n",
       "      <td>base_R</td>\n",
       "      <td>4.941736</td>\n",
       "      <td>R</td>\n",
       "    </tr>\n",
       "    <tr>\n",
       "      <th>6</th>\n",
       "      <td>data_table</td>\n",
       "      <td>0.097809</td>\n",
       "      <td>R</td>\n",
       "    </tr>\n",
       "    <tr>\n",
       "      <th>7</th>\n",
       "      <td>dplyr</td>\n",
       "      <td>1.054196</td>\n",
       "      <td>R</td>\n",
       "    </tr>\n",
       "    <tr>\n",
       "      <th>8</th>\n",
       "      <td>dtplyr</td>\n",
       "      <td>0.133225</td>\n",
       "      <td>R</td>\n",
       "    </tr>\n",
       "    <tr>\n",
       "      <th>9</th>\n",
       "      <td>rqdatabable</td>\n",
       "      <td>0.212543</td>\n",
       "      <td>R</td>\n",
       "    </tr>\n",
       "  </tbody>\n",
       "</table>\n",
       "</div>"
      ],
      "text/plain": [
       "                method  time (seconds/run) language\n",
       "0               Pandas            0.279023   Python\n",
       "1  data_algebra_Pandas            0.406919   Python\n",
       "2               Polars            0.110303   Python\n",
       "3        Polars (lazy)            0.112036   Python\n",
       "4  data_algebra_Polars            0.123590   Python\n",
       "5               base_R            4.941736        R\n",
       "6           data_table            0.097809        R\n",
       "7                dplyr            1.054196        R\n",
       "8               dtplyr            0.133225        R\n",
       "9          rqdatabable            0.212543        R"
      ]
     },
     "execution_count": 27,
     "metadata": {},
     "output_type": "execute_result"
    }
   ],
   "source": [
    "# compare to R run\n",
    "r_timings = pd.read_csv(\"tgc_r_summary.csv\")\n",
    "overall_timings = pd.concat([timings, r_timings], ignore_index=True)\n",
    "overall_timings.to_csv(\"tgc_overall_timings.csv\", index=False)\n",
    "\n",
    "overall_timings"
   ]
  }
 ],
 "metadata": {
  "kernelspec": {
   "display_name": "Python 3",
   "language": "python",
   "name": "python3"
  },
  "language_info": {
   "codemirror_mode": {
    "name": "ipython",
    "version": 3
   },
   "file_extension": ".py",
   "mimetype": "text/x-python",
   "name": "python",
   "nbconvert_exporter": "python",
   "pygments_lexer": "ipython3",
   "version": "3.10.8"
  },
  "orig_nbformat": 4,
  "vscode": {
   "interpreter": {
    "hash": "78f2e370b2228f20769c50722e4fc1c000bb9a3ed5301a20de3a1aec2b74b543"
   }
  }
 },
 "nbformat": 4,
 "nbformat_minor": 2
}
