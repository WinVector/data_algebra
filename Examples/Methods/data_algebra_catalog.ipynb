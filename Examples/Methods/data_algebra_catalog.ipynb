{
 "cells": [
  {
   "cell_type": "markdown",
   "source": [
    "## A catalog of [data algebra expression](https://github.com/WinVector/data_algebra) methods.\n"
   ],
   "metadata": {
    "collapsed": false,
    "pycharm": {
     "name": "#%% md\n"
    }
   }
  },
  {
   "cell_type": "code",
   "execution_count": 13,
   "metadata": {
    "collapsed": true
   },
   "outputs": [],
   "source": [
    "import datetime\n",
    "import os\n",
    "import warnings\n",
    "import numpy as np\n",
    "import pandas as pd\n",
    "import pickle\n",
    "import gzip\n",
    "\n",
    "from data_algebra.data_ops import *\n",
    "import data_algebra.SQLite\n",
    "import data_algebra.BigQuery\n",
    "import data_algebra.PostgreSQL\n",
    "import data_algebra.SparkSQL\n",
    "import data_algebra.MySQL\n",
    "from data_algebra.parse_by_lark import parse_by_lark\n",
    "import data_algebra.test_util\n",
    "import data_algebra.util"
   ]
  },
  {
   "cell_type": "code",
   "execution_count": 14,
   "outputs": [],
   "source": [
    "def mk_example():\n",
    "    datetime_format = \"%Y-%m-%d %H:%M:%S\"\n",
    "    date_format = \"%Y-%m-%d\"\n",
    "    d = pd.DataFrame({\n",
    "        'row_id': [0, 1, 2, 3],\n",
    "        'a': [False, False, True, True],\n",
    "        'b': [False, True, False, True],\n",
    "        'q': [1, 1, 2, 2],\n",
    "        'x': [.1, .2, .3, .4],\n",
    "        'y': [2.4, 1.33, 1.2, 1.1],\n",
    "        'z': [1.6, None, -2.1, numpy.nan],\n",
    "        'g': ['a', 'a', 'b', 'ccc'],\n",
    "        's2': ['z', 'q', '11', 'b'],\n",
    "        \"str_datetime_col\": [\"2000-01-01 12:13:21\", \"2020-04-05 14:03:00\", \"2000-01-01 12:13:21\", \"2020-04-05 14:03:00\"],\n",
    "        \"str_date_col\": [\"2000-03-01\", \"2020-04-05\", \"2000-03-01\", \"2020-04-05\"],\n",
    "        \"datetime_col_0\": pd.to_datetime(\n",
    "            pd.Series([\"2010-01-01 12:13:21\", \"2030-04-05 14:03:00\", \"2010-01-01 12:13:21\", \"2030-04-05 14:03:00\"]),\n",
    "            format=datetime_format,\n",
    "        ),\n",
    "        \"datetime_col_1\": pd.to_datetime(\n",
    "            pd.Series([\"2010-01-01 12:11:21\", \"2030-04-06 14:03:00\", \"2010-01-01 12:11:21\", \"2030-04-06 14:03:00\"]),\n",
    "            format=date_format,\n",
    "        ),\n",
    "        \"date_col_0\": pd.to_datetime(\n",
    "            pd.Series([\"2000-01-02\", \"2035-04-05\", \"2000-01-02\", \"2035-04-05\"]),\n",
    "            format=date_format\n",
    "        ).dt.date,\n",
    "        \"date_col_1\": pd.to_datetime(\n",
    "            pd.Series([\"2000-01-02\", \"2035-05-05\", \"2000-01-02\", \"2035-05-05\"]),\n",
    "            format=date_format\n",
    "        ).dt.date,\n",
    "    })\n",
    "    return d\n",
    "\n",
    "\n",
    "def f(expression):\n",
    "    return (\n",
    "        descr(d=d)\n",
    "            .extend({'new_column': expression})\n",
    "            .select_columns(['row_id', 'new_column'])\n",
    "            .order_rows(['row_id'])\n",
    "    )\n",
    "\n",
    "\n",
    "def fg(expression):\n",
    "    return (\n",
    "        descr(d=d)\n",
    "            .extend(\n",
    "                {'new_column': expression},\n",
    "                partition_by=['g'])\n",
    "            .select_columns(['g', 'row_id', 'new_column'])\n",
    "            .order_rows(['g', 'row_id'])\n",
    "    )\n",
    "\n",
    "\n",
    "def fp(expression):\n",
    "    return (\n",
    "        descr(d=d)\n",
    "            .project(\n",
    "                {'new_column': expression},\n",
    "                group_by=['g'])\n",
    "            .order_rows(['g'])\n",
    "    )\n",
    "\n",
    "\n",
    "def fw(expression):\n",
    "    return (\n",
    "        descr(d=d)\n",
    "            .extend(\n",
    "                {'new_column': expression},\n",
    "                partition_by=['g'],\n",
    "                order_by=['row_id'])\n",
    "            .select_columns(['g', 'row_id', 'new_column'])\n",
    "            .order_rows(['g', 'row_id'])\n",
    "    )\n"
   ],
   "metadata": {
    "collapsed": false,
    "pycharm": {
     "name": "#%%\n"
    }
   }
  },
  {
   "cell_type": "code",
   "execution_count": 15,
   "outputs": [
    {
     "data": {
      "text/plain": "   row_id      a      b  q    x     y    z    g  s2     str_datetime_col  \\\n0       0  False  False  1  0.1  2.40  1.6    a   z  2000-01-01 12:13:21   \n1       1  False   True  1  0.2  1.33  NaN    a   q  2020-04-05 14:03:00   \n2       2   True  False  2  0.3  1.20 -2.1    b  11  2000-01-01 12:13:21   \n3       3   True   True  2  0.4  1.10  NaN  ccc   b  2020-04-05 14:03:00   \n\n  str_date_col      datetime_col_0      datetime_col_1  date_col_0  date_col_1  \n0   2000-03-01 2010-01-01 12:13:21 2010-01-01 12:11:21  2000-01-02  2000-01-02  \n1   2020-04-05 2030-04-05 14:03:00 2030-04-06 14:03:00  2035-04-05  2035-05-05  \n2   2000-03-01 2010-01-01 12:13:21 2010-01-01 12:11:21  2000-01-02  2000-01-02  \n3   2020-04-05 2030-04-05 14:03:00 2030-04-06 14:03:00  2035-04-05  2035-05-05  ",
      "text/html": "<div>\n<style scoped>\n    .dataframe tbody tr th:only-of-type {\n        vertical-align: middle;\n    }\n\n    .dataframe tbody tr th {\n        vertical-align: top;\n    }\n\n    .dataframe thead th {\n        text-align: right;\n    }\n</style>\n<table border=\"1\" class=\"dataframe\">\n  <thead>\n    <tr style=\"text-align: right;\">\n      <th></th>\n      <th>row_id</th>\n      <th>a</th>\n      <th>b</th>\n      <th>q</th>\n      <th>x</th>\n      <th>y</th>\n      <th>z</th>\n      <th>g</th>\n      <th>s2</th>\n      <th>str_datetime_col</th>\n      <th>str_date_col</th>\n      <th>datetime_col_0</th>\n      <th>datetime_col_1</th>\n      <th>date_col_0</th>\n      <th>date_col_1</th>\n    </tr>\n  </thead>\n  <tbody>\n    <tr>\n      <th>0</th>\n      <td>0</td>\n      <td>False</td>\n      <td>False</td>\n      <td>1</td>\n      <td>0.1</td>\n      <td>2.40</td>\n      <td>1.6</td>\n      <td>a</td>\n      <td>z</td>\n      <td>2000-01-01 12:13:21</td>\n      <td>2000-03-01</td>\n      <td>2010-01-01 12:13:21</td>\n      <td>2010-01-01 12:11:21</td>\n      <td>2000-01-02</td>\n      <td>2000-01-02</td>\n    </tr>\n    <tr>\n      <th>1</th>\n      <td>1</td>\n      <td>False</td>\n      <td>True</td>\n      <td>1</td>\n      <td>0.2</td>\n      <td>1.33</td>\n      <td>NaN</td>\n      <td>a</td>\n      <td>q</td>\n      <td>2020-04-05 14:03:00</td>\n      <td>2020-04-05</td>\n      <td>2030-04-05 14:03:00</td>\n      <td>2030-04-06 14:03:00</td>\n      <td>2035-04-05</td>\n      <td>2035-05-05</td>\n    </tr>\n    <tr>\n      <th>2</th>\n      <td>2</td>\n      <td>True</td>\n      <td>False</td>\n      <td>2</td>\n      <td>0.3</td>\n      <td>1.20</td>\n      <td>-2.1</td>\n      <td>b</td>\n      <td>11</td>\n      <td>2000-01-01 12:13:21</td>\n      <td>2000-03-01</td>\n      <td>2010-01-01 12:13:21</td>\n      <td>2010-01-01 12:11:21</td>\n      <td>2000-01-02</td>\n      <td>2000-01-02</td>\n    </tr>\n    <tr>\n      <th>3</th>\n      <td>3</td>\n      <td>True</td>\n      <td>True</td>\n      <td>2</td>\n      <td>0.4</td>\n      <td>1.10</td>\n      <td>NaN</td>\n      <td>ccc</td>\n      <td>b</td>\n      <td>2020-04-05 14:03:00</td>\n      <td>2020-04-05</td>\n      <td>2030-04-05 14:03:00</td>\n      <td>2030-04-06 14:03:00</td>\n      <td>2035-04-05</td>\n      <td>2035-05-05</td>\n    </tr>\n  </tbody>\n</table>\n</div>"
     },
     "execution_count": 3,
     "metadata": {},
     "output_type": "execute_result"
    },
    {
     "data": {
      "text/plain": "   row_id      a      b  q    x     y    z    g  s2     str_datetime_col  \\\n0       0  False  False  1  0.1  2.40  1.6    a   z  2000-01-01 12:13:21   \n1       1  False   True  1  0.2  1.33  NaN    a   q  2020-04-05 14:03:00   \n2       2   True  False  2  0.3  1.20 -2.1    b  11  2000-01-01 12:13:21   \n3       3   True   True  2  0.4  1.10  NaN  ccc   b  2020-04-05 14:03:00   \n\n  str_date_col      datetime_col_0      datetime_col_1  date_col_0  date_col_1  \n0   2000-03-01 2010-01-01 12:13:21 2010-01-01 12:11:21  2000-01-02  2000-01-02  \n1   2020-04-05 2030-04-05 14:03:00 2030-04-06 14:03:00  2035-04-05  2035-05-05  \n2   2000-03-01 2010-01-01 12:13:21 2010-01-01 12:11:21  2000-01-02  2000-01-02  \n3   2020-04-05 2030-04-05 14:03:00 2030-04-06 14:03:00  2035-04-05  2035-05-05  ",
      "text/html": "<div>\n<style scoped>\n    .dataframe tbody tr th:only-of-type {\n        vertical-align: middle;\n    }\n\n    .dataframe tbody tr th {\n        vertical-align: top;\n    }\n\n    .dataframe thead th {\n        text-align: right;\n    }\n</style>\n<table border=\"1\" class=\"dataframe\">\n  <thead>\n    <tr style=\"text-align: right;\">\n      <th></th>\n      <th>row_id</th>\n      <th>a</th>\n      <th>b</th>\n      <th>q</th>\n      <th>x</th>\n      <th>y</th>\n      <th>z</th>\n      <th>g</th>\n      <th>s2</th>\n      <th>str_datetime_col</th>\n      <th>str_date_col</th>\n      <th>datetime_col_0</th>\n      <th>datetime_col_1</th>\n      <th>date_col_0</th>\n      <th>date_col_1</th>\n    </tr>\n  </thead>\n  <tbody>\n    <tr>\n      <th>0</th>\n      <td>0</td>\n      <td>False</td>\n      <td>False</td>\n      <td>1</td>\n      <td>0.1</td>\n      <td>2.40</td>\n      <td>1.6</td>\n      <td>a</td>\n      <td>z</td>\n      <td>2000-01-01 12:13:21</td>\n      <td>2000-03-01</td>\n      <td>2010-01-01 12:13:21</td>\n      <td>2010-01-01 12:11:21</td>\n      <td>2000-01-02</td>\n      <td>2000-01-02</td>\n    </tr>\n    <tr>\n      <th>1</th>\n      <td>1</td>\n      <td>False</td>\n      <td>True</td>\n      <td>1</td>\n      <td>0.2</td>\n      <td>1.33</td>\n      <td>NaN</td>\n      <td>a</td>\n      <td>q</td>\n      <td>2020-04-05 14:03:00</td>\n      <td>2020-04-05</td>\n      <td>2030-04-05 14:03:00</td>\n      <td>2030-04-06 14:03:00</td>\n      <td>2035-04-05</td>\n      <td>2035-05-05</td>\n    </tr>\n    <tr>\n      <th>2</th>\n      <td>2</td>\n      <td>True</td>\n      <td>False</td>\n      <td>2</td>\n      <td>0.3</td>\n      <td>1.20</td>\n      <td>-2.1</td>\n      <td>b</td>\n      <td>11</td>\n      <td>2000-01-01 12:13:21</td>\n      <td>2000-03-01</td>\n      <td>2010-01-01 12:13:21</td>\n      <td>2010-01-01 12:11:21</td>\n      <td>2000-01-02</td>\n      <td>2000-01-02</td>\n    </tr>\n    <tr>\n      <th>3</th>\n      <td>3</td>\n      <td>True</td>\n      <td>True</td>\n      <td>2</td>\n      <td>0.4</td>\n      <td>1.10</td>\n      <td>NaN</td>\n      <td>ccc</td>\n      <td>b</td>\n      <td>2020-04-05 14:03:00</td>\n      <td>2020-04-05</td>\n      <td>2030-04-05 14:03:00</td>\n      <td>2030-04-06 14:03:00</td>\n      <td>2035-04-05</td>\n      <td>2035-05-05</td>\n    </tr>\n  </tbody>\n</table>\n</div>"
     },
     "execution_count": 15,
     "metadata": {},
     "output_type": "execute_result"
    }
   ],
   "source": [
    "d = mk_example()\n",
    "\n",
    "d\n"
   ],
   "metadata": {
    "collapsed": false,
    "pycharm": {
     "name": "#%%\n"
    }
   }
  },
  {
   "cell_type": "code",
   "execution_count": 16,
   "outputs": [],
   "source": [
    "data_def = {k: v for (k, v) in descr(d=d).column_map().items()}\n",
    "\n",
    "def parse(exp):\n",
    "    return parse_by_lark(exp, data_def=data_def)\n"
   ],
   "metadata": {
    "collapsed": false,
    "pycharm": {
     "name": "#%%\n"
    }
   }
  },
  {
   "cell_type": "code",
   "execution_count": 17,
   "outputs": [],
   "source": [
    "expressions = [\n",
    "    'x + y',\n",
    "    'x - y',\n",
    "    'row_id // q',\n",
    "    'row_id % q',\n",
    "    'x / y',\n",
    "    'x * y',\n",
    "    'x ** y',\n",
    "    'x == y',\n",
    "    'x > y',\n",
    "    'x >= y',\n",
    "    'x < y',\n",
    "    'x <= y',\n",
    "    'x != y',\n",
    "    '-x',\n",
    "    'not a',\n",
    "    'a & b',\n",
    "    'a and b',\n",
    "    'a | b',\n",
    "    'a or b',\n",
    "    'z.sign()',\n",
    "    'x.sin()',\n",
    "    'x.cos()',\n",
    "    'x.arcsin()',\n",
    "    'x.arccos()',\n",
    "    'x.arctan()',\n",
    "    'x.arctan2(y)',\n",
    "    'x.sinh()',\n",
    "    'x.cosh()',\n",
    "    'x.tanh()',\n",
    "    'x.arcsinh()',\n",
    "    'x.arccosh()',\n",
    "    'x.arctanh()',\n",
    "    'y.floor()',\n",
    "    'z.floor()',\n",
    "    'y.ceil()',\n",
    "    'z.ceil()',\n",
    "    'x.sum()',\n",
    "    'x.exp()',\n",
    "    'y.expm1()',\n",
    "    'x.log()',\n",
    "    'x.log10()',\n",
    "    'x.log1p()',\n",
    "    'row_id.mod(2)',\n",
    "    'row_id.remainder(2)',\n",
    "    'x.sqrt()',\n",
    "    'z.abs()',\n",
    "    'row_id.maximum(x)',\n",
    "    'row_id.minimum(x)',\n",
    "    'row_id.fmax(x)',\n",
    "    'row_id.fmin(x)',\n",
    "    'y.round()',\n",
    "    'y.around(2)',\n",
    "    'z.is_null()',\n",
    "    'z.is_bad()',\n",
    "    'a.if_else(x, y)',\n",
    "    'row_id.is_in({1, 3})',\n",
    "    'g.concat(s2)',\n",
    "    'g %+% \"_\" %+% s2',\n",
    "    'z.coalesce(2)',\n",
    "    'z %?% 2',\n",
    "    'z.coalesce_0()',\n",
    "    'g.mapv({\"a\": 1, \"b\": 2, \"z\": 26}, 0)',\n",
    "    'y.as_int64()',\n",
    "    'y.as_str()',\n",
    "    'g.trimstr(0, 2)',\n",
    "    'datetime_col_0.datetime_to_date()',\n",
    "    'str_date_col.parse_date()',\n",
    "    'str_datetime_col.parse_datetime()',\n",
    "    'datetime_col_0.format_datetime()',\n",
    "    'date_col_0.format_date()',\n",
    "    'date_col_0.dayofweek()',\n",
    "    'date_col_0.dayofyear()',\n",
    "    'date_col_0.dayofmonth()',\n",
    "    'date_col_0.weekofyear()',\n",
    "    'date_col_0.month()',\n",
    "    'date_col_0.quarter()',\n",
    "    'date_col_0.year()',\n",
    "    'datetime_col_0.timestamp_diff(datetime_col_1)',\n",
    "    'date_col_0.date_diff(date_col_1)',\n",
    "    'date_col_1.base_Sunday()',\n",
    "]\n",
    "\n",
    "grouped_expressions = [\n",
    "    'x.sum()',\n",
    "    '(1).sum()',\n",
    "    '_ngroup()',\n",
    "    'x.max()',\n",
    "    'x.mean()',\n",
    "    'x.median()',\n",
    "    'x.min()',\n",
    "    'x.nunique()',\n",
    "    'x.size()',\n",
    "    'z.count()',\n",
    "    '_size()',\n",
    "    '_count()',\n",
    "]\n",
    "\n",
    "project_expressions = [\n",
    "    'x.sum()',\n",
    "    '(1).sum()',\n",
    "    'a.all()',\n",
    "    'a.any()',\n",
    "    'x.max()',\n",
    "    'x.mean()',\n",
    "    'x.median()',\n",
    "    'x.min()',\n",
    "    'x.nunique()',\n",
    "    'x.size()',\n",
    "    'x.std()',\n",
    "    'x.var()',\n",
    "    'z.count()',\n",
    "    '_size()',\n",
    "]\n",
    "\n",
    "windowed_expressions = [\n",
    "    'z.bfill()',\n",
    "    'z.ffill()',\n",
    "    'x.first()',\n",
    "    'x.last()',\n",
    "    'x.rank()',\n",
    "    'x.cumprod()',\n",
    "    'x.cumsum()',\n",
    "    'z.cumcount()',\n",
    "    'x.cummax()',\n",
    "    'x.cummin()',\n",
    "    'x.shift()',\n",
    "    '_row_number()',\n",
    "]\n",
    "\n",
    "u_expressions = [  # not simply checkable as output varies\n",
    "    '_uniform()',\n",
    "]\n",
    "\n",
    "up_expressions = [  # not simply checkable as output varies\n",
    "    'x.any_value()',\n",
    "]"
   ],
   "metadata": {
    "collapsed": false,
    "pycharm": {
     "name": "#%%\n"
    }
   }
  },
  {
   "cell_type": "markdown",
   "source": [
    "TODO: windowed project for first/last?"
   ],
   "metadata": {
    "collapsed": false,
    "pycharm": {
     "name": "#%% md\n"
    }
   }
  },
  {
   "cell_type": "code",
   "execution_count": 18,
   "outputs": [],
   "source": [
    "e_expectations = [(parse(exp).op, 'e', exp, f(exp), f(exp).transform(d)) for exp in expressions]\n",
    "g_expectations = [(parse(exp).op, 'g', exp, fg(exp), fg(exp).transform(d)) for exp in grouped_expressions]\n",
    "p_expectations = [(parse(exp).op, 'p', exp, fp(exp), fp(exp).transform(d)) for exp in project_expressions]\n",
    "w_expectations = [(parse(exp).op, 'w', exp, fw(exp), fw(exp).transform(d)) for exp in windowed_expressions]\n",
    "u_results = (\n",
    "    [(parse(exp).op, 'u', exp, f(exp), f(exp).transform(d)) for exp in u_expressions]\n",
    "    + [(parse(exp).op, 'up', exp, fp(exp), fp(exp).transform(d)) for exp in up_expressions]\n",
    ")"
   ],
   "metadata": {
    "collapsed": false,
    "pycharm": {
     "name": "#%%\n"
    }
   }
  },
  {
   "cell_type": "code",
   "execution_count": 19,
   "outputs": [],
   "source": [
    "with gzip.open('expr_expectations.pkl.gz', 'wb') as out_f:\n",
    "    pickle.dump(\n",
    "        {\n",
    "            'd': d,\n",
    "            'expectations': e_expectations + g_expectations + p_expectations + w_expectations,\n",
    "            'u_results': u_results,\n",
    "        },\n",
    "        out_f)"
   ],
   "metadata": {
    "collapsed": false,
    "pycharm": {
     "name": "#%%\n"
    }
   }
  },
  {
   "cell_type": "code",
   "execution_count": 20,
   "outputs": [
    {
     "name": "stderr",
     "output_type": "stream",
     "text": [
      "22/01/18 18:53:27 WARN Utils: Your hostname, JAMiMac.local resolves to a loopback address: 127.0.0.1; using 192.168.0.155 instead (on interface en1)\n",
      "22/01/18 18:53:27 WARN Utils: Set SPARK_LOCAL_IP if you need to bind to another address\n",
      "Using Spark's default log4j profile: org/apache/spark/log4j-defaults.properties\n",
      "Setting default log level to \"WARN\".\n",
      "To adjust logging level use sc.setLogLevel(newLevel). For SparkR, use setLogLevel(newLevel).\n",
      "22/01/18 18:53:28 WARN NativeCodeLoader: Unable to load native-hadoop library for your platform... using builtin-java classes where applicable\n"
     ]
    }
   ],
   "source": [
    "ops_list = e_expectations + g_expectations + p_expectations + w_expectations + u_results\n",
    "\n",
    "op_catalog = pd.DataFrame({\n",
    "    'op': [op for op, op_class, exp, ops, expect in ops_list],\n",
    "    'expression': [exp for op, op_class, exp, ops, expect in ops_list],\n",
    "    'op_class': [op_class for op, op_class, exp, ops, expect in ops_list],\n",
    "})\n",
    "op_catalog['Pandas'] = 'y'\n",
    "\n",
    "\n",
    "def test_on_db(db_handle, *, msg_file):\n",
    "    # test on db\n",
    "    res_vector = ['?'] * len(ops_list)\n",
    "    db_handle.insert_table(d, table_name='d', allow_overwrite=True)\n",
    "    for i in range(len(ops_list)):\n",
    "        op = ops_list[i][0]\n",
    "        op_class = ops_list[i][1]\n",
    "        exp = ops_list[i][2]\n",
    "        ops = ops_list[i][3]\n",
    "        expect = ops_list[i][4]\n",
    "        try:\n",
    "            res = db_handle.read_query(ops)\n",
    "            if op_class not in  {'u', 'up'}:\n",
    "                if data_algebra.test_util.equivalent_frames(res, expect):\n",
    "                    res_vector[i] = 'y'\n",
    "                else:\n",
    "                    res_vector[i] = 'w'\n",
    "                    print(\"\", file=msg_file)\n",
    "                    print(\"difference (w)\",\n",
    "                          file=msg_file)\n",
    "                    print(f'op: {op}, op_class: {op_class}, example expression: {exp}, db: {db_handle.db_model}',\n",
    "                          file=msg_file)\n",
    "                    print(\"Pandas result (expectation):\",\n",
    "                          file=msg_file)\n",
    "                    print(expect,\n",
    "                          file=msg_file)\n",
    "                    print(\"DB result:\",\n",
    "                          file=msg_file)\n",
    "                    print(res,\n",
    "                          file=msg_file)\n",
    "                    print(\"query\",\n",
    "                          file=msg_file)\n",
    "                    print(db_handle.to_sql(ops),\n",
    "                          file=msg_file)\n",
    "                    print(\"\", file=msg_file)\n",
    "            else:\n",
    "                res_vector[i] = 'y'\n",
    "        except Exception as ex:\n",
    "            res_vector[i] = 'n'\n",
    "            print(\"\", file=msg_file)\n",
    "            print(\"error (n)\",\n",
    "                  file=msg_file)\n",
    "            print(f'op: {op}, op_class: {op_class}, example expression: {exp}, db: {db_handle.db_model}',\n",
    "                  file=msg_file)\n",
    "            print(f\"caught: {ex}\",\n",
    "                  file=msg_file)\n",
    "            print(\"\", file=msg_file)\n",
    "    db_handle.drop_table('d')\n",
    "    return res_vector\n",
    "\n",
    "\n",
    "db_handles = [\n",
    "    data_algebra.SQLite.example_handle(),\n",
    "    data_algebra.BigQuery.example_handle(),\n",
    "    data_algebra.PostgreSQL.example_handle(),\n",
    "    data_algebra.SparkSQL.example_handle(),\n",
    "    data_algebra.MySQL.example_handle(),\n",
    "]"
   ],
   "metadata": {
    "collapsed": false,
    "pycharm": {
     "name": "#%%\n"
    }
   }
  },
  {
   "cell_type": "code",
   "execution_count": 21,
   "outputs": [
    {
     "name": "stderr",
     "output_type": "stream",
     "text": [
      "22/01/18 18:56:11 WARN WindowExec: No Partition Defined for Window operation! Moving all data to a single partition, this can cause serious performance degradation.\n",
      "22/01/18 18:56:11 WARN WindowExec: No Partition Defined for Window operation! Moving all data to a single partition, this can cause serious performance degradation.\n",
      "ERROR:root:Internal Python error in the inspect module.\n",
      "Below is the traceback from this internal error.\n",
      "\n"
     ]
    },
    {
     "name": "stdout",
     "output_type": "stream",
     "text": [
      "Traceback (most recent call last):\n",
      "  File \"/Users/johnmount/opt/anaconda3/envs/ai_academy_3_9/lib/python3.9/site-packages/IPython/core/interactiveshell.py\", line 3441, in run_code\n",
      "    exec(code_obj, self.user_global_ns, self.user_ns)\n",
      "  File \"/var/folders/7f/sdjycp_d08n8wwytsbgwqgsw0000gn/T/ipykernel_17791/1979511716.py\", line 4, in <module>\n",
      "    db_test_res = test_on_db(db_handle, msg_file=msg_file)\n",
      "  File \"/var/folders/7f/sdjycp_d08n8wwytsbgwqgsw0000gn/T/ipykernel_17791/4025021899.py\", line 22, in test_on_db\n",
      "    res = db_handle.read_query(ops)\n",
      "  File \"/Users/johnmount/Documents/work/data_algebra/data_algebra/db_model.py\", line 2240, in read_query\n",
      "    return self.db_model.read_query(conn=self.conn, q=q)\n",
      "  File \"/Users/johnmount/Documents/work/data_algebra/data_algebra/BigQuery.py\", line 155, in read_query\n",
      "    r = self.local_data_model.pd.DataFrame(conn.query(q).result().to_dataframe())\n",
      "  File \"/Users/johnmount/opt/anaconda3/envs/ai_academy_3_9/lib/python3.9/site-packages/google/cloud/bigquery/client.py\", line 3391, in query\n",
      "    future = do_query()\n",
      "  File \"/Users/johnmount/opt/anaconda3/envs/ai_academy_3_9/lib/python3.9/site-packages/google/cloud/bigquery/client.py\", line 3368, in do_query\n",
      "    query_job._begin(retry=retry, timeout=timeout)\n",
      "  File \"/Users/johnmount/opt/anaconda3/envs/ai_academy_3_9/lib/python3.9/site-packages/google/cloud/bigquery/job/query.py\", line 1249, in _begin\n",
      "    super(QueryJob, self)._begin(client=client, retry=retry, timeout=timeout)\n",
      "  File \"/Users/johnmount/opt/anaconda3/envs/ai_academy_3_9/lib/python3.9/site-packages/google/cloud/bigquery/job/base.py\", line 509, in _begin\n",
      "    api_response = client._call_api(\n",
      "  File \"/Users/johnmount/opt/anaconda3/envs/ai_academy_3_9/lib/python3.9/site-packages/google/cloud/bigquery/client.py\", line 782, in _call_api\n",
      "    return call()\n",
      "  File \"/Users/johnmount/opt/anaconda3/envs/ai_academy_3_9/lib/python3.9/site-packages/google/api_core/retry.py\", line 283, in retry_wrapped_func\n",
      "    return retry_target(\n",
      "  File \"/Users/johnmount/opt/anaconda3/envs/ai_academy_3_9/lib/python3.9/site-packages/google/api_core/retry.py\", line 190, in retry_target\n",
      "    return target()\n",
      "  File \"/Users/johnmount/opt/anaconda3/envs/ai_academy_3_9/lib/python3.9/site-packages/google/cloud/_http/__init__.py\", line 469, in api_request\n",
      "    response = self._make_request(\n",
      "  File \"/Users/johnmount/opt/anaconda3/envs/ai_academy_3_9/lib/python3.9/site-packages/google/cloud/_http/__init__.py\", line 333, in _make_request\n",
      "    return self._do_request(\n",
      "  File \"/Users/johnmount/opt/anaconda3/envs/ai_academy_3_9/lib/python3.9/site-packages/google/cloud/_http/__init__.py\", line 371, in _do_request\n",
      "    return self.http.request(\n",
      "  File \"/Users/johnmount/opt/anaconda3/envs/ai_academy_3_9/lib/python3.9/site-packages/google/auth/transport/requests.py\", line 480, in request\n",
      "    response = super(AuthorizedSession, self).request(\n",
      "  File \"/Users/johnmount/opt/anaconda3/envs/ai_academy_3_9/lib/python3.9/site-packages/requests/sessions.py\", line 542, in request\n",
      "    resp = self.send(prep, **send_kwargs)\n",
      "  File \"/Users/johnmount/opt/anaconda3/envs/ai_academy_3_9/lib/python3.9/site-packages/requests/sessions.py\", line 655, in send\n",
      "    r = adapter.send(request, **kwargs)\n",
      "  File \"/Users/johnmount/opt/anaconda3/envs/ai_academy_3_9/lib/python3.9/site-packages/requests/adapters.py\", line 439, in send\n",
      "    resp = conn.urlopen(\n",
      "  File \"/Users/johnmount/opt/anaconda3/envs/ai_academy_3_9/lib/python3.9/site-packages/urllib3/connectionpool.py\", line 699, in urlopen\n",
      "    httplib_response = self._make_request(\n",
      "  File \"/Users/johnmount/opt/anaconda3/envs/ai_academy_3_9/lib/python3.9/site-packages/urllib3/connectionpool.py\", line 445, in _make_request\n",
      "    six.raise_from(e, None)\n",
      "  File \"<string>\", line 3, in raise_from\n",
      "  File \"/Users/johnmount/opt/anaconda3/envs/ai_academy_3_9/lib/python3.9/site-packages/urllib3/connectionpool.py\", line 440, in _make_request\n",
      "    httplib_response = conn.getresponse()\n",
      "  File \"/Users/johnmount/opt/anaconda3/envs/ai_academy_3_9/lib/python3.9/http/client.py\", line 1371, in getresponse\n",
      "    response.begin()\n",
      "  File \"/Users/johnmount/opt/anaconda3/envs/ai_academy_3_9/lib/python3.9/http/client.py\", line 319, in begin\n",
      "    version, status, reason = self._read_status()\n",
      "  File \"/Users/johnmount/opt/anaconda3/envs/ai_academy_3_9/lib/python3.9/http/client.py\", line 280, in _read_status\n",
      "    line = str(self.fp.readline(_MAXLINE + 1), \"iso-8859-1\")\n",
      "  File \"/Users/johnmount/opt/anaconda3/envs/ai_academy_3_9/lib/python3.9/socket.py\", line 704, in readinto\n",
      "    return self._sock.recv_into(b)\n",
      "  File \"/Users/johnmount/opt/anaconda3/envs/ai_academy_3_9/lib/python3.9/ssl.py\", line 1241, in recv_into\n",
      "    return self.read(nbytes, buffer)\n",
      "  File \"/Users/johnmount/opt/anaconda3/envs/ai_academy_3_9/lib/python3.9/ssl.py\", line 1099, in read\n",
      "    return self._sslobj.read(len, buffer)\n",
      "KeyboardInterrupt\n",
      "\n",
      "During handling of the above exception, another exception occurred:\n",
      "\n",
      "Traceback (most recent call last):\n",
      "  File \"/Users/johnmount/opt/anaconda3/envs/ai_academy_3_9/lib/python3.9/site-packages/IPython/core/interactiveshell.py\", line 2061, in showtraceback\n",
      "    stb = value._render_traceback_()\n",
      "AttributeError: 'KeyboardInterrupt' object has no attribute '_render_traceback_'\n",
      "\n",
      "During handling of the above exception, another exception occurred:\n",
      "\n",
      "Traceback (most recent call last):\n",
      "  File \"/Users/johnmount/opt/anaconda3/envs/ai_academy_3_9/lib/python3.9/site-packages/IPython/core/ultratb.py\", line 1101, in get_records\n",
      "    return _fixed_getinnerframes(etb, number_of_lines_of_context, tb_offset)\n",
      "  File \"/Users/johnmount/opt/anaconda3/envs/ai_academy_3_9/lib/python3.9/site-packages/IPython/core/ultratb.py\", line 248, in wrapped\n",
      "    return f(*args, **kwargs)\n",
      "  File \"/Users/johnmount/opt/anaconda3/envs/ai_academy_3_9/lib/python3.9/site-packages/IPython/core/ultratb.py\", line 281, in _fixed_getinnerframes\n",
      "    records = fix_frame_records_filenames(inspect.getinnerframes(etb, context))\n",
      "  File \"/Users/johnmount/opt/anaconda3/envs/ai_academy_3_9/lib/python3.9/inspect.py\", line 1541, in getinnerframes\n",
      "    frameinfo = (tb.tb_frame,) + getframeinfo(tb, context)\n",
      "  File \"/Users/johnmount/opt/anaconda3/envs/ai_academy_3_9/lib/python3.9/inspect.py\", line 1499, in getframeinfo\n",
      "    filename = getsourcefile(frame) or getfile(frame)\n",
      "  File \"/Users/johnmount/opt/anaconda3/envs/ai_academy_3_9/lib/python3.9/inspect.py\", line 709, in getsourcefile\n",
      "    if getattr(getmodule(object, filename), '__loader__', None) is not None:\n",
      "  File \"/Users/johnmount/opt/anaconda3/envs/ai_academy_3_9/lib/python3.9/inspect.py\", line 752, in getmodule\n",
      "    f = getabsfile(module)\n",
      "  File \"/Users/johnmount/opt/anaconda3/envs/ai_academy_3_9/lib/python3.9/inspect.py\", line 722, in getabsfile\n",
      "    return os.path.normcase(os.path.abspath(_filename))\n",
      "  File \"/Users/johnmount/opt/anaconda3/envs/ai_academy_3_9/lib/python3.9/posixpath.py\", line 382, in abspath\n",
      "    return normpath(path)\n",
      "  File \"/Users/johnmount/opt/anaconda3/envs/ai_academy_3_9/lib/python3.9/posixpath.py\", line 356, in normpath\n",
      "    comps = path.split(sep)\n",
      "KeyboardInterrupt\n"
     ]
    },
    {
     "ename": "TypeError",
     "evalue": "object of type 'NoneType' has no len()",
     "output_type": "error",
     "traceback": [
      "\u001B[0;31m---------------------------------------------------------------------------\u001B[0m",
      "\u001B[0;31mKeyboardInterrupt\u001B[0m                         Traceback (most recent call last)",
      "    \u001B[0;31m[... skipping hidden 1 frame]\u001B[0m\n",
      "\u001B[0;32m/var/folders/7f/sdjycp_d08n8wwytsbgwqgsw0000gn/T/ipykernel_17791/1979511716.py\u001B[0m in \u001B[0;36m<module>\u001B[0;34m\u001B[0m\n\u001B[1;32m      3\u001B[0m     \u001B[0;32mfor\u001B[0m \u001B[0mdb_handle\u001B[0m \u001B[0;32min\u001B[0m \u001B[0mdb_handles\u001B[0m\u001B[0;34m:\u001B[0m\u001B[0;34m\u001B[0m\u001B[0;34m\u001B[0m\u001B[0m\n\u001B[0;32m----> 4\u001B[0;31m         \u001B[0mdb_test_res\u001B[0m \u001B[0;34m=\u001B[0m \u001B[0mtest_on_db\u001B[0m\u001B[0;34m(\u001B[0m\u001B[0mdb_handle\u001B[0m\u001B[0;34m,\u001B[0m \u001B[0mmsg_file\u001B[0m\u001B[0;34m=\u001B[0m\u001B[0mmsg_file\u001B[0m\u001B[0;34m)\u001B[0m\u001B[0;34m\u001B[0m\u001B[0;34m\u001B[0m\u001B[0m\n\u001B[0m\u001B[1;32m      5\u001B[0m         \u001B[0mop_catalog\u001B[0m\u001B[0;34m[\u001B[0m\u001B[0mstr\u001B[0m\u001B[0;34m(\u001B[0m\u001B[0mdb_handle\u001B[0m\u001B[0;34m.\u001B[0m\u001B[0mdb_model\u001B[0m\u001B[0;34m)\u001B[0m\u001B[0;34m]\u001B[0m \u001B[0;34m=\u001B[0m \u001B[0mdb_test_res\u001B[0m\u001B[0;34m\u001B[0m\u001B[0;34m\u001B[0m\u001B[0m\n",
      "\u001B[0;32m/var/folders/7f/sdjycp_d08n8wwytsbgwqgsw0000gn/T/ipykernel_17791/4025021899.py\u001B[0m in \u001B[0;36mtest_on_db\u001B[0;34m(db_handle, msg_file)\u001B[0m\n\u001B[1;32m     21\u001B[0m         \u001B[0;32mtry\u001B[0m\u001B[0;34m:\u001B[0m\u001B[0;34m\u001B[0m\u001B[0;34m\u001B[0m\u001B[0m\n\u001B[0;32m---> 22\u001B[0;31m             \u001B[0mres\u001B[0m \u001B[0;34m=\u001B[0m \u001B[0mdb_handle\u001B[0m\u001B[0;34m.\u001B[0m\u001B[0mread_query\u001B[0m\u001B[0;34m(\u001B[0m\u001B[0mops\u001B[0m\u001B[0;34m)\u001B[0m\u001B[0;34m\u001B[0m\u001B[0;34m\u001B[0m\u001B[0m\n\u001B[0m\u001B[1;32m     23\u001B[0m             \u001B[0;32mif\u001B[0m \u001B[0mop_class\u001B[0m \u001B[0;32mnot\u001B[0m \u001B[0;32min\u001B[0m  \u001B[0;34m{\u001B[0m\u001B[0;34m'u'\u001B[0m\u001B[0;34m,\u001B[0m \u001B[0;34m'up'\u001B[0m\u001B[0;34m}\u001B[0m\u001B[0;34m:\u001B[0m\u001B[0;34m\u001B[0m\u001B[0;34m\u001B[0m\u001B[0m\n",
      "\u001B[0;32m~/Documents/work/data_algebra/data_algebra/db_model.py\u001B[0m in \u001B[0;36mread_query\u001B[0;34m(self, q)\u001B[0m\n\u001B[1;32m   2239\u001B[0m         \"\"\"\n\u001B[0;32m-> 2240\u001B[0;31m         \u001B[0;32mreturn\u001B[0m \u001B[0mself\u001B[0m\u001B[0;34m.\u001B[0m\u001B[0mdb_model\u001B[0m\u001B[0;34m.\u001B[0m\u001B[0mread_query\u001B[0m\u001B[0;34m(\u001B[0m\u001B[0mconn\u001B[0m\u001B[0;34m=\u001B[0m\u001B[0mself\u001B[0m\u001B[0;34m.\u001B[0m\u001B[0mconn\u001B[0m\u001B[0;34m,\u001B[0m \u001B[0mq\u001B[0m\u001B[0;34m=\u001B[0m\u001B[0mq\u001B[0m\u001B[0;34m)\u001B[0m\u001B[0;34m\u001B[0m\u001B[0;34m\u001B[0m\u001B[0m\n\u001B[0m\u001B[1;32m   2241\u001B[0m \u001B[0;34m\u001B[0m\u001B[0m\n",
      "\u001B[0;32m~/Documents/work/data_algebra/data_algebra/BigQuery.py\u001B[0m in \u001B[0;36mread_query\u001B[0;34m(self, conn, q)\u001B[0m\n\u001B[1;32m    154\u001B[0m         \u001B[0;32massert\u001B[0m \u001B[0misinstance\u001B[0m\u001B[0;34m(\u001B[0m\u001B[0mq\u001B[0m\u001B[0;34m,\u001B[0m \u001B[0mstr\u001B[0m\u001B[0;34m)\u001B[0m\u001B[0;34m\u001B[0m\u001B[0;34m\u001B[0m\u001B[0m\n\u001B[0;32m--> 155\u001B[0;31m         \u001B[0mr\u001B[0m \u001B[0;34m=\u001B[0m \u001B[0mself\u001B[0m\u001B[0;34m.\u001B[0m\u001B[0mlocal_data_model\u001B[0m\u001B[0;34m.\u001B[0m\u001B[0mpd\u001B[0m\u001B[0;34m.\u001B[0m\u001B[0mDataFrame\u001B[0m\u001B[0;34m(\u001B[0m\u001B[0mconn\u001B[0m\u001B[0;34m.\u001B[0m\u001B[0mquery\u001B[0m\u001B[0;34m(\u001B[0m\u001B[0mq\u001B[0m\u001B[0;34m)\u001B[0m\u001B[0;34m.\u001B[0m\u001B[0mresult\u001B[0m\u001B[0;34m(\u001B[0m\u001B[0;34m)\u001B[0m\u001B[0;34m.\u001B[0m\u001B[0mto_dataframe\u001B[0m\u001B[0;34m(\u001B[0m\u001B[0;34m)\u001B[0m\u001B[0;34m)\u001B[0m\u001B[0;34m\u001B[0m\u001B[0;34m\u001B[0m\u001B[0m\n\u001B[0m\u001B[1;32m    156\u001B[0m         \u001B[0mr\u001B[0m\u001B[0;34m.\u001B[0m\u001B[0mreset_index\u001B[0m\u001B[0;34m(\u001B[0m\u001B[0mdrop\u001B[0m\u001B[0;34m=\u001B[0m\u001B[0;32mTrue\u001B[0m\u001B[0;34m,\u001B[0m \u001B[0minplace\u001B[0m\u001B[0;34m=\u001B[0m\u001B[0;32mTrue\u001B[0m\u001B[0;34m)\u001B[0m\u001B[0;34m\u001B[0m\u001B[0;34m\u001B[0m\u001B[0m\n",
      "\u001B[0;32m~/opt/anaconda3/envs/ai_academy_3_9/lib/python3.9/site-packages/google/cloud/bigquery/client.py\u001B[0m in \u001B[0;36mquery\u001B[0;34m(self, query, job_config, job_id, job_id_prefix, location, project, retry, timeout, job_retry)\u001B[0m\n\u001B[1;32m   3390\u001B[0m \u001B[0;34m\u001B[0m\u001B[0m\n\u001B[0;32m-> 3391\u001B[0;31m         \u001B[0mfuture\u001B[0m \u001B[0;34m=\u001B[0m \u001B[0mdo_query\u001B[0m\u001B[0;34m(\u001B[0m\u001B[0;34m)\u001B[0m\u001B[0;34m\u001B[0m\u001B[0;34m\u001B[0m\u001B[0m\n\u001B[0m\u001B[1;32m   3392\u001B[0m         \u001B[0;31m# The future might be in a failed state now, but if it's\u001B[0m\u001B[0;34m\u001B[0m\u001B[0;34m\u001B[0m\u001B[0m\n",
      "\u001B[0;32m~/opt/anaconda3/envs/ai_academy_3_9/lib/python3.9/site-packages/google/cloud/bigquery/client.py\u001B[0m in \u001B[0;36mdo_query\u001B[0;34m()\u001B[0m\n\u001B[1;32m   3367\u001B[0m             \u001B[0;32mtry\u001B[0m\u001B[0;34m:\u001B[0m\u001B[0;34m\u001B[0m\u001B[0;34m\u001B[0m\u001B[0m\n\u001B[0;32m-> 3368\u001B[0;31m                 \u001B[0mquery_job\u001B[0m\u001B[0;34m.\u001B[0m\u001B[0m_begin\u001B[0m\u001B[0;34m(\u001B[0m\u001B[0mretry\u001B[0m\u001B[0;34m=\u001B[0m\u001B[0mretry\u001B[0m\u001B[0;34m,\u001B[0m \u001B[0mtimeout\u001B[0m\u001B[0;34m=\u001B[0m\u001B[0mtimeout\u001B[0m\u001B[0;34m)\u001B[0m\u001B[0;34m\u001B[0m\u001B[0;34m\u001B[0m\u001B[0m\n\u001B[0m\u001B[1;32m   3369\u001B[0m             \u001B[0;32mexcept\u001B[0m \u001B[0mcore_exceptions\u001B[0m\u001B[0;34m.\u001B[0m\u001B[0mConflict\u001B[0m \u001B[0;32mas\u001B[0m \u001B[0mcreate_exc\u001B[0m\u001B[0;34m:\u001B[0m\u001B[0;34m\u001B[0m\u001B[0;34m\u001B[0m\u001B[0m\n",
      "\u001B[0;32m~/opt/anaconda3/envs/ai_academy_3_9/lib/python3.9/site-packages/google/cloud/bigquery/job/query.py\u001B[0m in \u001B[0;36m_begin\u001B[0;34m(self, client, retry, timeout)\u001B[0m\n\u001B[1;32m   1248\u001B[0m         \u001B[0;32mtry\u001B[0m\u001B[0;34m:\u001B[0m\u001B[0;34m\u001B[0m\u001B[0;34m\u001B[0m\u001B[0m\n\u001B[0;32m-> 1249\u001B[0;31m             \u001B[0msuper\u001B[0m\u001B[0;34m(\u001B[0m\u001B[0mQueryJob\u001B[0m\u001B[0;34m,\u001B[0m \u001B[0mself\u001B[0m\u001B[0;34m)\u001B[0m\u001B[0;34m.\u001B[0m\u001B[0m_begin\u001B[0m\u001B[0;34m(\u001B[0m\u001B[0mclient\u001B[0m\u001B[0;34m=\u001B[0m\u001B[0mclient\u001B[0m\u001B[0;34m,\u001B[0m \u001B[0mretry\u001B[0m\u001B[0;34m=\u001B[0m\u001B[0mretry\u001B[0m\u001B[0;34m,\u001B[0m \u001B[0mtimeout\u001B[0m\u001B[0;34m=\u001B[0m\u001B[0mtimeout\u001B[0m\u001B[0;34m)\u001B[0m\u001B[0;34m\u001B[0m\u001B[0;34m\u001B[0m\u001B[0m\n\u001B[0m\u001B[1;32m   1250\u001B[0m         \u001B[0;32mexcept\u001B[0m \u001B[0mexceptions\u001B[0m\u001B[0;34m.\u001B[0m\u001B[0mGoogleAPICallError\u001B[0m \u001B[0;32mas\u001B[0m \u001B[0mexc\u001B[0m\u001B[0;34m:\u001B[0m\u001B[0;34m\u001B[0m\u001B[0;34m\u001B[0m\u001B[0m\n",
      "\u001B[0;32m~/opt/anaconda3/envs/ai_academy_3_9/lib/python3.9/site-packages/google/cloud/bigquery/job/base.py\u001B[0m in \u001B[0;36m_begin\u001B[0;34m(self, client, retry, timeout)\u001B[0m\n\u001B[1;32m    508\u001B[0m         \u001B[0mspan_attributes\u001B[0m \u001B[0;34m=\u001B[0m \u001B[0;34m{\u001B[0m\u001B[0;34m\"path\"\u001B[0m\u001B[0;34m:\u001B[0m \u001B[0mpath\u001B[0m\u001B[0;34m}\u001B[0m\u001B[0;34m\u001B[0m\u001B[0;34m\u001B[0m\u001B[0m\n\u001B[0;32m--> 509\u001B[0;31m         api_response = client._call_api(\n\u001B[0m\u001B[1;32m    510\u001B[0m             \u001B[0mretry\u001B[0m\u001B[0;34m,\u001B[0m\u001B[0;34m\u001B[0m\u001B[0;34m\u001B[0m\u001B[0m\n",
      "\u001B[0;32m~/opt/anaconda3/envs/ai_academy_3_9/lib/python3.9/site-packages/google/cloud/bigquery/client.py\u001B[0m in \u001B[0;36m_call_api\u001B[0;34m(self, retry, span_name, span_attributes, job_ref, headers, **kwargs)\u001B[0m\n\u001B[1;32m    781\u001B[0m             ):\n\u001B[0;32m--> 782\u001B[0;31m                 \u001B[0;32mreturn\u001B[0m \u001B[0mcall\u001B[0m\u001B[0;34m(\u001B[0m\u001B[0;34m)\u001B[0m\u001B[0;34m\u001B[0m\u001B[0;34m\u001B[0m\u001B[0m\n\u001B[0m\u001B[1;32m    783\u001B[0m \u001B[0;34m\u001B[0m\u001B[0m\n",
      "\u001B[0;32m~/opt/anaconda3/envs/ai_academy_3_9/lib/python3.9/site-packages/google/api_core/retry.py\u001B[0m in \u001B[0;36mretry_wrapped_func\u001B[0;34m(*args, **kwargs)\u001B[0m\n\u001B[1;32m    282\u001B[0m             )\n\u001B[0;32m--> 283\u001B[0;31m             return retry_target(\n\u001B[0m\u001B[1;32m    284\u001B[0m                 \u001B[0mtarget\u001B[0m\u001B[0;34m,\u001B[0m\u001B[0;34m\u001B[0m\u001B[0;34m\u001B[0m\u001B[0m\n",
      "\u001B[0;32m~/opt/anaconda3/envs/ai_academy_3_9/lib/python3.9/site-packages/google/api_core/retry.py\u001B[0m in \u001B[0;36mretry_target\u001B[0;34m(target, predicate, sleep_generator, deadline, on_error)\u001B[0m\n\u001B[1;32m    189\u001B[0m         \u001B[0;32mtry\u001B[0m\u001B[0;34m:\u001B[0m\u001B[0;34m\u001B[0m\u001B[0;34m\u001B[0m\u001B[0m\n\u001B[0;32m--> 190\u001B[0;31m             \u001B[0;32mreturn\u001B[0m \u001B[0mtarget\u001B[0m\u001B[0;34m(\u001B[0m\u001B[0;34m)\u001B[0m\u001B[0;34m\u001B[0m\u001B[0;34m\u001B[0m\u001B[0m\n\u001B[0m\u001B[1;32m    191\u001B[0m \u001B[0;34m\u001B[0m\u001B[0m\n",
      "\u001B[0;32m~/opt/anaconda3/envs/ai_academy_3_9/lib/python3.9/site-packages/google/cloud/_http/__init__.py\u001B[0m in \u001B[0;36mapi_request\u001B[0;34m(self, method, path, query_params, data, content_type, headers, api_base_url, api_version, expect_json, _target_object, timeout)\u001B[0m\n\u001B[1;32m    468\u001B[0m \u001B[0;34m\u001B[0m\u001B[0m\n\u001B[0;32m--> 469\u001B[0;31m         response = self._make_request(\n\u001B[0m\u001B[1;32m    470\u001B[0m             \u001B[0mmethod\u001B[0m\u001B[0;34m=\u001B[0m\u001B[0mmethod\u001B[0m\u001B[0;34m,\u001B[0m\u001B[0;34m\u001B[0m\u001B[0;34m\u001B[0m\u001B[0m\n",
      "\u001B[0;32m~/opt/anaconda3/envs/ai_academy_3_9/lib/python3.9/site-packages/google/cloud/_http/__init__.py\u001B[0m in \u001B[0;36m_make_request\u001B[0;34m(self, method, url, data, content_type, headers, target_object, timeout)\u001B[0m\n\u001B[1;32m    332\u001B[0m \u001B[0;34m\u001B[0m\u001B[0m\n\u001B[0;32m--> 333\u001B[0;31m         return self._do_request(\n\u001B[0m\u001B[1;32m    334\u001B[0m             \u001B[0mmethod\u001B[0m\u001B[0;34m,\u001B[0m \u001B[0murl\u001B[0m\u001B[0;34m,\u001B[0m \u001B[0mheaders\u001B[0m\u001B[0;34m,\u001B[0m \u001B[0mdata\u001B[0m\u001B[0;34m,\u001B[0m \u001B[0mtarget_object\u001B[0m\u001B[0;34m,\u001B[0m \u001B[0mtimeout\u001B[0m\u001B[0;34m=\u001B[0m\u001B[0mtimeout\u001B[0m\u001B[0;34m\u001B[0m\u001B[0;34m\u001B[0m\u001B[0m\n",
      "\u001B[0;32m~/opt/anaconda3/envs/ai_academy_3_9/lib/python3.9/site-packages/google/cloud/_http/__init__.py\u001B[0m in \u001B[0;36m_do_request\u001B[0;34m(self, method, url, headers, data, target_object, timeout)\u001B[0m\n\u001B[1;32m    370\u001B[0m         \"\"\"\n\u001B[0;32m--> 371\u001B[0;31m         return self.http.request(\n\u001B[0m\u001B[1;32m    372\u001B[0m             \u001B[0murl\u001B[0m\u001B[0;34m=\u001B[0m\u001B[0murl\u001B[0m\u001B[0;34m,\u001B[0m \u001B[0mmethod\u001B[0m\u001B[0;34m=\u001B[0m\u001B[0mmethod\u001B[0m\u001B[0;34m,\u001B[0m \u001B[0mheaders\u001B[0m\u001B[0;34m=\u001B[0m\u001B[0mheaders\u001B[0m\u001B[0;34m,\u001B[0m \u001B[0mdata\u001B[0m\u001B[0;34m=\u001B[0m\u001B[0mdata\u001B[0m\u001B[0;34m,\u001B[0m \u001B[0mtimeout\u001B[0m\u001B[0;34m=\u001B[0m\u001B[0mtimeout\u001B[0m\u001B[0;34m\u001B[0m\u001B[0;34m\u001B[0m\u001B[0m\n",
      "\u001B[0;32m~/opt/anaconda3/envs/ai_academy_3_9/lib/python3.9/site-packages/google/auth/transport/requests.py\u001B[0m in \u001B[0;36mrequest\u001B[0;34m(self, method, url, data, headers, max_allowed_time, timeout, **kwargs)\u001B[0m\n\u001B[1;32m    479\u001B[0m         \u001B[0;32mwith\u001B[0m \u001B[0mTimeoutGuard\u001B[0m\u001B[0;34m(\u001B[0m\u001B[0mremaining_time\u001B[0m\u001B[0;34m)\u001B[0m \u001B[0;32mas\u001B[0m \u001B[0mguard\u001B[0m\u001B[0;34m:\u001B[0m\u001B[0;34m\u001B[0m\u001B[0;34m\u001B[0m\u001B[0m\n\u001B[0;32m--> 480\u001B[0;31m             response = super(AuthorizedSession, self).request(\n\u001B[0m\u001B[1;32m    481\u001B[0m                 \u001B[0mmethod\u001B[0m\u001B[0;34m,\u001B[0m\u001B[0;34m\u001B[0m\u001B[0;34m\u001B[0m\u001B[0m\n",
      "\u001B[0;32m~/opt/anaconda3/envs/ai_academy_3_9/lib/python3.9/site-packages/requests/sessions.py\u001B[0m in \u001B[0;36mrequest\u001B[0;34m(self, method, url, params, data, headers, cookies, files, auth, timeout, allow_redirects, proxies, hooks, stream, verify, cert, json)\u001B[0m\n\u001B[1;32m    541\u001B[0m         \u001B[0msend_kwargs\u001B[0m\u001B[0;34m.\u001B[0m\u001B[0mupdate\u001B[0m\u001B[0;34m(\u001B[0m\u001B[0msettings\u001B[0m\u001B[0;34m)\u001B[0m\u001B[0;34m\u001B[0m\u001B[0;34m\u001B[0m\u001B[0m\n\u001B[0;32m--> 542\u001B[0;31m         \u001B[0mresp\u001B[0m \u001B[0;34m=\u001B[0m \u001B[0mself\u001B[0m\u001B[0;34m.\u001B[0m\u001B[0msend\u001B[0m\u001B[0;34m(\u001B[0m\u001B[0mprep\u001B[0m\u001B[0;34m,\u001B[0m \u001B[0;34m**\u001B[0m\u001B[0msend_kwargs\u001B[0m\u001B[0;34m)\u001B[0m\u001B[0;34m\u001B[0m\u001B[0;34m\u001B[0m\u001B[0m\n\u001B[0m\u001B[1;32m    543\u001B[0m \u001B[0;34m\u001B[0m\u001B[0m\n",
      "\u001B[0;32m~/opt/anaconda3/envs/ai_academy_3_9/lib/python3.9/site-packages/requests/sessions.py\u001B[0m in \u001B[0;36msend\u001B[0;34m(self, request, **kwargs)\u001B[0m\n\u001B[1;32m    654\u001B[0m         \u001B[0;31m# Send the request\u001B[0m\u001B[0;34m\u001B[0m\u001B[0;34m\u001B[0m\u001B[0m\n\u001B[0;32m--> 655\u001B[0;31m         \u001B[0mr\u001B[0m \u001B[0;34m=\u001B[0m \u001B[0madapter\u001B[0m\u001B[0;34m.\u001B[0m\u001B[0msend\u001B[0m\u001B[0;34m(\u001B[0m\u001B[0mrequest\u001B[0m\u001B[0;34m,\u001B[0m \u001B[0;34m**\u001B[0m\u001B[0mkwargs\u001B[0m\u001B[0;34m)\u001B[0m\u001B[0;34m\u001B[0m\u001B[0;34m\u001B[0m\u001B[0m\n\u001B[0m\u001B[1;32m    656\u001B[0m \u001B[0;34m\u001B[0m\u001B[0m\n",
      "\u001B[0;32m~/opt/anaconda3/envs/ai_academy_3_9/lib/python3.9/site-packages/requests/adapters.py\u001B[0m in \u001B[0;36msend\u001B[0;34m(self, request, stream, timeout, verify, cert, proxies)\u001B[0m\n\u001B[1;32m    438\u001B[0m             \u001B[0;32mif\u001B[0m \u001B[0;32mnot\u001B[0m \u001B[0mchunked\u001B[0m\u001B[0;34m:\u001B[0m\u001B[0;34m\u001B[0m\u001B[0;34m\u001B[0m\u001B[0m\n\u001B[0;32m--> 439\u001B[0;31m                 resp = conn.urlopen(\n\u001B[0m\u001B[1;32m    440\u001B[0m                     \u001B[0mmethod\u001B[0m\u001B[0;34m=\u001B[0m\u001B[0mrequest\u001B[0m\u001B[0;34m.\u001B[0m\u001B[0mmethod\u001B[0m\u001B[0;34m,\u001B[0m\u001B[0;34m\u001B[0m\u001B[0;34m\u001B[0m\u001B[0m\n",
      "\u001B[0;32m~/opt/anaconda3/envs/ai_academy_3_9/lib/python3.9/site-packages/urllib3/connectionpool.py\u001B[0m in \u001B[0;36murlopen\u001B[0;34m(self, method, url, body, headers, retries, redirect, assert_same_host, timeout, pool_timeout, release_conn, chunked, body_pos, **response_kw)\u001B[0m\n\u001B[1;32m    698\u001B[0m             \u001B[0;31m# Make the request on the httplib connection object.\u001B[0m\u001B[0;34m\u001B[0m\u001B[0;34m\u001B[0m\u001B[0m\n\u001B[0;32m--> 699\u001B[0;31m             httplib_response = self._make_request(\n\u001B[0m\u001B[1;32m    700\u001B[0m                 \u001B[0mconn\u001B[0m\u001B[0;34m,\u001B[0m\u001B[0;34m\u001B[0m\u001B[0;34m\u001B[0m\u001B[0m\n",
      "\u001B[0;32m~/opt/anaconda3/envs/ai_academy_3_9/lib/python3.9/site-packages/urllib3/connectionpool.py\u001B[0m in \u001B[0;36m_make_request\u001B[0;34m(self, conn, method, url, timeout, chunked, **httplib_request_kw)\u001B[0m\n\u001B[1;32m    444\u001B[0m                     \u001B[0;31m# Otherwise it looks like a bug in the code.\u001B[0m\u001B[0;34m\u001B[0m\u001B[0;34m\u001B[0m\u001B[0m\n\u001B[0;32m--> 445\u001B[0;31m                     \u001B[0msix\u001B[0m\u001B[0;34m.\u001B[0m\u001B[0mraise_from\u001B[0m\u001B[0;34m(\u001B[0m\u001B[0me\u001B[0m\u001B[0;34m,\u001B[0m \u001B[0;32mNone\u001B[0m\u001B[0;34m)\u001B[0m\u001B[0;34m\u001B[0m\u001B[0;34m\u001B[0m\u001B[0m\n\u001B[0m\u001B[1;32m    446\u001B[0m         \u001B[0;32mexcept\u001B[0m \u001B[0;34m(\u001B[0m\u001B[0mSocketTimeout\u001B[0m\u001B[0;34m,\u001B[0m \u001B[0mBaseSSLError\u001B[0m\u001B[0;34m,\u001B[0m \u001B[0mSocketError\u001B[0m\u001B[0;34m)\u001B[0m \u001B[0;32mas\u001B[0m \u001B[0me\u001B[0m\u001B[0;34m:\u001B[0m\u001B[0;34m\u001B[0m\u001B[0;34m\u001B[0m\u001B[0m\n",
      "\u001B[0;32m~/opt/anaconda3/envs/ai_academy_3_9/lib/python3.9/site-packages/urllib3/packages/six.py\u001B[0m in \u001B[0;36mraise_from\u001B[0;34m(value, from_value)\u001B[0m\n",
      "\u001B[0;32m~/opt/anaconda3/envs/ai_academy_3_9/lib/python3.9/site-packages/urllib3/connectionpool.py\u001B[0m in \u001B[0;36m_make_request\u001B[0;34m(self, conn, method, url, timeout, chunked, **httplib_request_kw)\u001B[0m\n\u001B[1;32m    439\u001B[0m                 \u001B[0;32mtry\u001B[0m\u001B[0;34m:\u001B[0m\u001B[0;34m\u001B[0m\u001B[0;34m\u001B[0m\u001B[0m\n\u001B[0;32m--> 440\u001B[0;31m                     \u001B[0mhttplib_response\u001B[0m \u001B[0;34m=\u001B[0m \u001B[0mconn\u001B[0m\u001B[0;34m.\u001B[0m\u001B[0mgetresponse\u001B[0m\u001B[0;34m(\u001B[0m\u001B[0;34m)\u001B[0m\u001B[0;34m\u001B[0m\u001B[0;34m\u001B[0m\u001B[0m\n\u001B[0m\u001B[1;32m    441\u001B[0m                 \u001B[0;32mexcept\u001B[0m \u001B[0mBaseException\u001B[0m \u001B[0;32mas\u001B[0m \u001B[0me\u001B[0m\u001B[0;34m:\u001B[0m\u001B[0;34m\u001B[0m\u001B[0;34m\u001B[0m\u001B[0m\n",
      "\u001B[0;32m~/opt/anaconda3/envs/ai_academy_3_9/lib/python3.9/http/client.py\u001B[0m in \u001B[0;36mgetresponse\u001B[0;34m(self)\u001B[0m\n\u001B[1;32m   1370\u001B[0m             \u001B[0;32mtry\u001B[0m\u001B[0;34m:\u001B[0m\u001B[0;34m\u001B[0m\u001B[0;34m\u001B[0m\u001B[0m\n\u001B[0;32m-> 1371\u001B[0;31m                 \u001B[0mresponse\u001B[0m\u001B[0;34m.\u001B[0m\u001B[0mbegin\u001B[0m\u001B[0;34m(\u001B[0m\u001B[0;34m)\u001B[0m\u001B[0;34m\u001B[0m\u001B[0;34m\u001B[0m\u001B[0m\n\u001B[0m\u001B[1;32m   1372\u001B[0m             \u001B[0;32mexcept\u001B[0m \u001B[0mConnectionError\u001B[0m\u001B[0;34m:\u001B[0m\u001B[0;34m\u001B[0m\u001B[0;34m\u001B[0m\u001B[0m\n",
      "\u001B[0;32m~/opt/anaconda3/envs/ai_academy_3_9/lib/python3.9/http/client.py\u001B[0m in \u001B[0;36mbegin\u001B[0;34m(self)\u001B[0m\n\u001B[1;32m    318\u001B[0m         \u001B[0;32mwhile\u001B[0m \u001B[0;32mTrue\u001B[0m\u001B[0;34m:\u001B[0m\u001B[0;34m\u001B[0m\u001B[0;34m\u001B[0m\u001B[0m\n\u001B[0;32m--> 319\u001B[0;31m             \u001B[0mversion\u001B[0m\u001B[0;34m,\u001B[0m \u001B[0mstatus\u001B[0m\u001B[0;34m,\u001B[0m \u001B[0mreason\u001B[0m \u001B[0;34m=\u001B[0m \u001B[0mself\u001B[0m\u001B[0;34m.\u001B[0m\u001B[0m_read_status\u001B[0m\u001B[0;34m(\u001B[0m\u001B[0;34m)\u001B[0m\u001B[0;34m\u001B[0m\u001B[0;34m\u001B[0m\u001B[0m\n\u001B[0m\u001B[1;32m    320\u001B[0m             \u001B[0;32mif\u001B[0m \u001B[0mstatus\u001B[0m \u001B[0;34m!=\u001B[0m \u001B[0mCONTINUE\u001B[0m\u001B[0;34m:\u001B[0m\u001B[0;34m\u001B[0m\u001B[0;34m\u001B[0m\u001B[0m\n",
      "\u001B[0;32m~/opt/anaconda3/envs/ai_academy_3_9/lib/python3.9/http/client.py\u001B[0m in \u001B[0;36m_read_status\u001B[0;34m(self)\u001B[0m\n\u001B[1;32m    279\u001B[0m     \u001B[0;32mdef\u001B[0m \u001B[0m_read_status\u001B[0m\u001B[0;34m(\u001B[0m\u001B[0mself\u001B[0m\u001B[0;34m)\u001B[0m\u001B[0;34m:\u001B[0m\u001B[0;34m\u001B[0m\u001B[0;34m\u001B[0m\u001B[0m\n\u001B[0;32m--> 280\u001B[0;31m         \u001B[0mline\u001B[0m \u001B[0;34m=\u001B[0m \u001B[0mstr\u001B[0m\u001B[0;34m(\u001B[0m\u001B[0mself\u001B[0m\u001B[0;34m.\u001B[0m\u001B[0mfp\u001B[0m\u001B[0;34m.\u001B[0m\u001B[0mreadline\u001B[0m\u001B[0;34m(\u001B[0m\u001B[0m_MAXLINE\u001B[0m \u001B[0;34m+\u001B[0m \u001B[0;36m1\u001B[0m\u001B[0;34m)\u001B[0m\u001B[0;34m,\u001B[0m \u001B[0;34m\"iso-8859-1\"\u001B[0m\u001B[0;34m)\u001B[0m\u001B[0;34m\u001B[0m\u001B[0;34m\u001B[0m\u001B[0m\n\u001B[0m\u001B[1;32m    281\u001B[0m         \u001B[0;32mif\u001B[0m \u001B[0mlen\u001B[0m\u001B[0;34m(\u001B[0m\u001B[0mline\u001B[0m\u001B[0;34m)\u001B[0m \u001B[0;34m>\u001B[0m \u001B[0m_MAXLINE\u001B[0m\u001B[0;34m:\u001B[0m\u001B[0;34m\u001B[0m\u001B[0;34m\u001B[0m\u001B[0m\n",
      "\u001B[0;32m~/opt/anaconda3/envs/ai_academy_3_9/lib/python3.9/socket.py\u001B[0m in \u001B[0;36mreadinto\u001B[0;34m(self, b)\u001B[0m\n\u001B[1;32m    703\u001B[0m             \u001B[0;32mtry\u001B[0m\u001B[0;34m:\u001B[0m\u001B[0;34m\u001B[0m\u001B[0;34m\u001B[0m\u001B[0m\n\u001B[0;32m--> 704\u001B[0;31m                 \u001B[0;32mreturn\u001B[0m \u001B[0mself\u001B[0m\u001B[0;34m.\u001B[0m\u001B[0m_sock\u001B[0m\u001B[0;34m.\u001B[0m\u001B[0mrecv_into\u001B[0m\u001B[0;34m(\u001B[0m\u001B[0mb\u001B[0m\u001B[0;34m)\u001B[0m\u001B[0;34m\u001B[0m\u001B[0;34m\u001B[0m\u001B[0m\n\u001B[0m\u001B[1;32m    705\u001B[0m             \u001B[0;32mexcept\u001B[0m \u001B[0mtimeout\u001B[0m\u001B[0;34m:\u001B[0m\u001B[0;34m\u001B[0m\u001B[0;34m\u001B[0m\u001B[0m\n",
      "\u001B[0;32m~/opt/anaconda3/envs/ai_academy_3_9/lib/python3.9/ssl.py\u001B[0m in \u001B[0;36mrecv_into\u001B[0;34m(self, buffer, nbytes, flags)\u001B[0m\n\u001B[1;32m   1240\u001B[0m                   self.__class__)\n\u001B[0;32m-> 1241\u001B[0;31m             \u001B[0;32mreturn\u001B[0m \u001B[0mself\u001B[0m\u001B[0;34m.\u001B[0m\u001B[0mread\u001B[0m\u001B[0;34m(\u001B[0m\u001B[0mnbytes\u001B[0m\u001B[0;34m,\u001B[0m \u001B[0mbuffer\u001B[0m\u001B[0;34m)\u001B[0m\u001B[0;34m\u001B[0m\u001B[0;34m\u001B[0m\u001B[0m\n\u001B[0m\u001B[1;32m   1242\u001B[0m         \u001B[0;32melse\u001B[0m\u001B[0;34m:\u001B[0m\u001B[0;34m\u001B[0m\u001B[0;34m\u001B[0m\u001B[0m\n",
      "\u001B[0;32m~/opt/anaconda3/envs/ai_academy_3_9/lib/python3.9/ssl.py\u001B[0m in \u001B[0;36mread\u001B[0;34m(self, len, buffer)\u001B[0m\n\u001B[1;32m   1098\u001B[0m             \u001B[0;32mif\u001B[0m \u001B[0mbuffer\u001B[0m \u001B[0;32mis\u001B[0m \u001B[0;32mnot\u001B[0m \u001B[0;32mNone\u001B[0m\u001B[0;34m:\u001B[0m\u001B[0;34m\u001B[0m\u001B[0;34m\u001B[0m\u001B[0m\n\u001B[0;32m-> 1099\u001B[0;31m                 \u001B[0;32mreturn\u001B[0m \u001B[0mself\u001B[0m\u001B[0;34m.\u001B[0m\u001B[0m_sslobj\u001B[0m\u001B[0;34m.\u001B[0m\u001B[0mread\u001B[0m\u001B[0;34m(\u001B[0m\u001B[0mlen\u001B[0m\u001B[0;34m,\u001B[0m \u001B[0mbuffer\u001B[0m\u001B[0;34m)\u001B[0m\u001B[0;34m\u001B[0m\u001B[0;34m\u001B[0m\u001B[0m\n\u001B[0m\u001B[1;32m   1100\u001B[0m             \u001B[0;32melse\u001B[0m\u001B[0;34m:\u001B[0m\u001B[0;34m\u001B[0m\u001B[0;34m\u001B[0m\u001B[0m\n",
      "\u001B[0;31mKeyboardInterrupt\u001B[0m: ",
      "\nDuring handling of the above exception, another exception occurred:\n",
      "\u001B[0;31mAttributeError\u001B[0m                            Traceback (most recent call last)",
      "\u001B[0;32m~/opt/anaconda3/envs/ai_academy_3_9/lib/python3.9/site-packages/IPython/core/interactiveshell.py\u001B[0m in \u001B[0;36mshowtraceback\u001B[0;34m(self, exc_tuple, filename, tb_offset, exception_only, running_compiled_code)\u001B[0m\n\u001B[1;32m   2060\u001B[0m                         \u001B[0;31m# in the engines. This should return a list of strings.\u001B[0m\u001B[0;34m\u001B[0m\u001B[0;34m\u001B[0m\u001B[0m\n\u001B[0;32m-> 2061\u001B[0;31m                         \u001B[0mstb\u001B[0m \u001B[0;34m=\u001B[0m \u001B[0mvalue\u001B[0m\u001B[0;34m.\u001B[0m\u001B[0m_render_traceback_\u001B[0m\u001B[0;34m(\u001B[0m\u001B[0;34m)\u001B[0m\u001B[0;34m\u001B[0m\u001B[0;34m\u001B[0m\u001B[0m\n\u001B[0m\u001B[1;32m   2062\u001B[0m                     \u001B[0;32mexcept\u001B[0m \u001B[0mException\u001B[0m\u001B[0;34m:\u001B[0m\u001B[0;34m\u001B[0m\u001B[0;34m\u001B[0m\u001B[0m\n",
      "\u001B[0;31mAttributeError\u001B[0m: 'KeyboardInterrupt' object has no attribute '_render_traceback_'",
      "\nDuring handling of the above exception, another exception occurred:\n",
      "\u001B[0;31mTypeError\u001B[0m                                 Traceback (most recent call last)",
      "    \u001B[0;31m[... skipping hidden 1 frame]\u001B[0m\n",
      "\u001B[0;32m~/opt/anaconda3/envs/ai_academy_3_9/lib/python3.9/site-packages/IPython/core/interactiveshell.py\u001B[0m in \u001B[0;36mshowtraceback\u001B[0;34m(self, exc_tuple, filename, tb_offset, exception_only, running_compiled_code)\u001B[0m\n\u001B[1;32m   2061\u001B[0m                         \u001B[0mstb\u001B[0m \u001B[0;34m=\u001B[0m \u001B[0mvalue\u001B[0m\u001B[0;34m.\u001B[0m\u001B[0m_render_traceback_\u001B[0m\u001B[0;34m(\u001B[0m\u001B[0;34m)\u001B[0m\u001B[0;34m\u001B[0m\u001B[0;34m\u001B[0m\u001B[0m\n\u001B[1;32m   2062\u001B[0m                     \u001B[0;32mexcept\u001B[0m \u001B[0mException\u001B[0m\u001B[0;34m:\u001B[0m\u001B[0;34m\u001B[0m\u001B[0;34m\u001B[0m\u001B[0m\n\u001B[0;32m-> 2063\u001B[0;31m                         stb = self.InteractiveTB.structured_traceback(etype,\n\u001B[0m\u001B[1;32m   2064\u001B[0m                                             value, tb, tb_offset=tb_offset)\n\u001B[1;32m   2065\u001B[0m \u001B[0;34m\u001B[0m\u001B[0m\n",
      "\u001B[0;32m~/opt/anaconda3/envs/ai_academy_3_9/lib/python3.9/site-packages/IPython/core/ultratb.py\u001B[0m in \u001B[0;36mstructured_traceback\u001B[0;34m(self, etype, value, tb, tb_offset, number_of_lines_of_context)\u001B[0m\n\u001B[1;32m   1365\u001B[0m         \u001B[0;32melse\u001B[0m\u001B[0;34m:\u001B[0m\u001B[0;34m\u001B[0m\u001B[0;34m\u001B[0m\u001B[0m\n\u001B[1;32m   1366\u001B[0m             \u001B[0mself\u001B[0m\u001B[0;34m.\u001B[0m\u001B[0mtb\u001B[0m \u001B[0;34m=\u001B[0m \u001B[0mtb\u001B[0m\u001B[0;34m\u001B[0m\u001B[0;34m\u001B[0m\u001B[0m\n\u001B[0;32m-> 1367\u001B[0;31m         return FormattedTB.structured_traceback(\n\u001B[0m\u001B[1;32m   1368\u001B[0m             self, etype, value, tb, tb_offset, number_of_lines_of_context)\n\u001B[1;32m   1369\u001B[0m \u001B[0;34m\u001B[0m\u001B[0m\n",
      "\u001B[0;32m~/opt/anaconda3/envs/ai_academy_3_9/lib/python3.9/site-packages/IPython/core/ultratb.py\u001B[0m in \u001B[0;36mstructured_traceback\u001B[0;34m(self, etype, value, tb, tb_offset, number_of_lines_of_context)\u001B[0m\n\u001B[1;32m   1265\u001B[0m         \u001B[0;32mif\u001B[0m \u001B[0mmode\u001B[0m \u001B[0;32min\u001B[0m \u001B[0mself\u001B[0m\u001B[0;34m.\u001B[0m\u001B[0mverbose_modes\u001B[0m\u001B[0;34m:\u001B[0m\u001B[0;34m\u001B[0m\u001B[0;34m\u001B[0m\u001B[0m\n\u001B[1;32m   1266\u001B[0m             \u001B[0;31m# Verbose modes need a full traceback\u001B[0m\u001B[0;34m\u001B[0m\u001B[0;34m\u001B[0m\u001B[0m\n\u001B[0;32m-> 1267\u001B[0;31m             return VerboseTB.structured_traceback(\n\u001B[0m\u001B[1;32m   1268\u001B[0m                 \u001B[0mself\u001B[0m\u001B[0;34m,\u001B[0m \u001B[0metype\u001B[0m\u001B[0;34m,\u001B[0m \u001B[0mvalue\u001B[0m\u001B[0;34m,\u001B[0m \u001B[0mtb\u001B[0m\u001B[0;34m,\u001B[0m \u001B[0mtb_offset\u001B[0m\u001B[0;34m,\u001B[0m \u001B[0mnumber_of_lines_of_context\u001B[0m\u001B[0;34m\u001B[0m\u001B[0;34m\u001B[0m\u001B[0m\n\u001B[1;32m   1269\u001B[0m             )\n",
      "\u001B[0;32m~/opt/anaconda3/envs/ai_academy_3_9/lib/python3.9/site-packages/IPython/core/ultratb.py\u001B[0m in \u001B[0;36mstructured_traceback\u001B[0;34m(self, etype, evalue, etb, tb_offset, number_of_lines_of_context)\u001B[0m\n\u001B[1;32m   1122\u001B[0m         \u001B[0;34m\"\"\"Return a nice text document describing the traceback.\"\"\"\u001B[0m\u001B[0;34m\u001B[0m\u001B[0;34m\u001B[0m\u001B[0m\n\u001B[1;32m   1123\u001B[0m \u001B[0;34m\u001B[0m\u001B[0m\n\u001B[0;32m-> 1124\u001B[0;31m         formatted_exception = self.format_exception_as_a_whole(etype, evalue, etb, number_of_lines_of_context,\n\u001B[0m\u001B[1;32m   1125\u001B[0m                                                                tb_offset)\n\u001B[1;32m   1126\u001B[0m \u001B[0;34m\u001B[0m\u001B[0m\n",
      "\u001B[0;32m~/opt/anaconda3/envs/ai_academy_3_9/lib/python3.9/site-packages/IPython/core/ultratb.py\u001B[0m in \u001B[0;36mformat_exception_as_a_whole\u001B[0;34m(self, etype, evalue, etb, number_of_lines_of_context, tb_offset)\u001B[0m\n\u001B[1;32m   1080\u001B[0m \u001B[0;34m\u001B[0m\u001B[0m\n\u001B[1;32m   1081\u001B[0m \u001B[0;34m\u001B[0m\u001B[0m\n\u001B[0;32m-> 1082\u001B[0;31m         \u001B[0mlast_unique\u001B[0m\u001B[0;34m,\u001B[0m \u001B[0mrecursion_repeat\u001B[0m \u001B[0;34m=\u001B[0m \u001B[0mfind_recursion\u001B[0m\u001B[0;34m(\u001B[0m\u001B[0morig_etype\u001B[0m\u001B[0;34m,\u001B[0m \u001B[0mevalue\u001B[0m\u001B[0;34m,\u001B[0m \u001B[0mrecords\u001B[0m\u001B[0;34m)\u001B[0m\u001B[0;34m\u001B[0m\u001B[0;34m\u001B[0m\u001B[0m\n\u001B[0m\u001B[1;32m   1083\u001B[0m \u001B[0;34m\u001B[0m\u001B[0m\n\u001B[1;32m   1084\u001B[0m         \u001B[0mframes\u001B[0m \u001B[0;34m=\u001B[0m \u001B[0mself\u001B[0m\u001B[0;34m.\u001B[0m\u001B[0mformat_records\u001B[0m\u001B[0;34m(\u001B[0m\u001B[0mrecords\u001B[0m\u001B[0;34m,\u001B[0m \u001B[0mlast_unique\u001B[0m\u001B[0;34m,\u001B[0m \u001B[0mrecursion_repeat\u001B[0m\u001B[0;34m)\u001B[0m\u001B[0;34m\u001B[0m\u001B[0;34m\u001B[0m\u001B[0m\n",
      "\u001B[0;32m~/opt/anaconda3/envs/ai_academy_3_9/lib/python3.9/site-packages/IPython/core/ultratb.py\u001B[0m in \u001B[0;36mfind_recursion\u001B[0;34m(etype, value, records)\u001B[0m\n\u001B[1;32m    380\u001B[0m     \u001B[0;31m# first frame (from in to out) that looks different.\u001B[0m\u001B[0;34m\u001B[0m\u001B[0;34m\u001B[0m\u001B[0m\n\u001B[1;32m    381\u001B[0m     \u001B[0;32mif\u001B[0m \u001B[0;32mnot\u001B[0m \u001B[0mis_recursion_error\u001B[0m\u001B[0;34m(\u001B[0m\u001B[0metype\u001B[0m\u001B[0;34m,\u001B[0m \u001B[0mvalue\u001B[0m\u001B[0;34m,\u001B[0m \u001B[0mrecords\u001B[0m\u001B[0;34m)\u001B[0m\u001B[0;34m:\u001B[0m\u001B[0;34m\u001B[0m\u001B[0;34m\u001B[0m\u001B[0m\n\u001B[0;32m--> 382\u001B[0;31m         \u001B[0;32mreturn\u001B[0m \u001B[0mlen\u001B[0m\u001B[0;34m(\u001B[0m\u001B[0mrecords\u001B[0m\u001B[0;34m)\u001B[0m\u001B[0;34m,\u001B[0m \u001B[0;36m0\u001B[0m\u001B[0;34m\u001B[0m\u001B[0;34m\u001B[0m\u001B[0m\n\u001B[0m\u001B[1;32m    383\u001B[0m \u001B[0;34m\u001B[0m\u001B[0m\n\u001B[1;32m    384\u001B[0m     \u001B[0;31m# Select filename, lineno, func_name to track frames with\u001B[0m\u001B[0;34m\u001B[0m\u001B[0;34m\u001B[0m\u001B[0m\n",
      "\u001B[0;31mTypeError\u001B[0m: object of type 'NoneType' has no len()"
     ]
    }
   ],
   "source": [
    "warnings.filterwarnings(\"ignore\")  # don't trigger our own warnings on old defs\n",
    "with open(\"error_msgs.txt\", 'w') as msg_file:\n",
    "    for db_handle in db_handles:\n",
    "        db_test_res = test_on_db(db_handle, msg_file=msg_file)\n",
    "        op_catalog[str(db_handle.db_model)] = db_test_res\n",
    "        db_handle.close()\n",
    "warnings.filterwarnings(\"default\")  # put back to default"
   ],
   "metadata": {
    "collapsed": false,
    "pycharm": {
     "name": "#%%\n"
    }
   }
  },
  {
   "cell_type": "code",
   "execution_count": null,
   "outputs": [
    {
     "data": {
      "text/plain": "        op  expression op_class Pandas SQLiteModel BigQueryModel  \\\n0       !=      x != y        e      y           y             y   \n1        %  row_id % q        e      y           y             y   \n2        *       x * y        e      y           y             y   \n3       **      x ** y        e      y           y             y   \n4        +       x + y        e      y           y             y   \n..     ...         ...      ...    ...         ...           ...   \n115  ffill   z.ffill()        w      y           n             n   \n116  first   x.first()        w      y           n             n   \n117   last    x.last()        w      y           n             n   \n118   rank    x.rank()        w      y           n             n   \n119  shift   x.shift()        w      y           y             y   \n\n    PostgreSQLModel SparkSQLModel MySQLModel version  \n0                 y             y          y   1.3.1  \n1                 y             y          y   1.3.1  \n2                 y             y          y   1.3.1  \n3                 y             y          y   1.3.1  \n4                 y             y          y   1.3.1  \n..              ...           ...        ...     ...  \n115               n             n          n   1.3.1  \n116               n             y          n   1.3.1  \n117               n             w          n   1.3.1  \n118               n             y          n   1.3.1  \n119               y             y          y   1.3.1  \n\n[120 rows x 10 columns]",
      "text/html": "<div>\n<style scoped>\n    .dataframe tbody tr th:only-of-type {\n        vertical-align: middle;\n    }\n\n    .dataframe tbody tr th {\n        vertical-align: top;\n    }\n\n    .dataframe thead th {\n        text-align: right;\n    }\n</style>\n<table border=\"1\" class=\"dataframe\">\n  <thead>\n    <tr style=\"text-align: right;\">\n      <th></th>\n      <th>op</th>\n      <th>expression</th>\n      <th>op_class</th>\n      <th>Pandas</th>\n      <th>SQLiteModel</th>\n      <th>BigQueryModel</th>\n      <th>PostgreSQLModel</th>\n      <th>SparkSQLModel</th>\n      <th>MySQLModel</th>\n      <th>version</th>\n    </tr>\n  </thead>\n  <tbody>\n    <tr>\n      <th>0</th>\n      <td>!=</td>\n      <td>x != y</td>\n      <td>e</td>\n      <td>y</td>\n      <td>y</td>\n      <td>y</td>\n      <td>y</td>\n      <td>y</td>\n      <td>y</td>\n      <td>1.3.1</td>\n    </tr>\n    <tr>\n      <th>1</th>\n      <td>%</td>\n      <td>row_id % q</td>\n      <td>e</td>\n      <td>y</td>\n      <td>y</td>\n      <td>y</td>\n      <td>y</td>\n      <td>y</td>\n      <td>y</td>\n      <td>1.3.1</td>\n    </tr>\n    <tr>\n      <th>2</th>\n      <td>*</td>\n      <td>x * y</td>\n      <td>e</td>\n      <td>y</td>\n      <td>y</td>\n      <td>y</td>\n      <td>y</td>\n      <td>y</td>\n      <td>y</td>\n      <td>1.3.1</td>\n    </tr>\n    <tr>\n      <th>3</th>\n      <td>**</td>\n      <td>x ** y</td>\n      <td>e</td>\n      <td>y</td>\n      <td>y</td>\n      <td>y</td>\n      <td>y</td>\n      <td>y</td>\n      <td>y</td>\n      <td>1.3.1</td>\n    </tr>\n    <tr>\n      <th>4</th>\n      <td>+</td>\n      <td>x + y</td>\n      <td>e</td>\n      <td>y</td>\n      <td>y</td>\n      <td>y</td>\n      <td>y</td>\n      <td>y</td>\n      <td>y</td>\n      <td>1.3.1</td>\n    </tr>\n    <tr>\n      <th>...</th>\n      <td>...</td>\n      <td>...</td>\n      <td>...</td>\n      <td>...</td>\n      <td>...</td>\n      <td>...</td>\n      <td>...</td>\n      <td>...</td>\n      <td>...</td>\n      <td>...</td>\n    </tr>\n    <tr>\n      <th>115</th>\n      <td>ffill</td>\n      <td>z.ffill()</td>\n      <td>w</td>\n      <td>y</td>\n      <td>n</td>\n      <td>n</td>\n      <td>n</td>\n      <td>n</td>\n      <td>n</td>\n      <td>1.3.1</td>\n    </tr>\n    <tr>\n      <th>116</th>\n      <td>first</td>\n      <td>x.first()</td>\n      <td>w</td>\n      <td>y</td>\n      <td>n</td>\n      <td>n</td>\n      <td>n</td>\n      <td>y</td>\n      <td>n</td>\n      <td>1.3.1</td>\n    </tr>\n    <tr>\n      <th>117</th>\n      <td>last</td>\n      <td>x.last()</td>\n      <td>w</td>\n      <td>y</td>\n      <td>n</td>\n      <td>n</td>\n      <td>n</td>\n      <td>w</td>\n      <td>n</td>\n      <td>1.3.1</td>\n    </tr>\n    <tr>\n      <th>118</th>\n      <td>rank</td>\n      <td>x.rank()</td>\n      <td>w</td>\n      <td>y</td>\n      <td>n</td>\n      <td>n</td>\n      <td>n</td>\n      <td>y</td>\n      <td>n</td>\n      <td>1.3.1</td>\n    </tr>\n    <tr>\n      <th>119</th>\n      <td>shift</td>\n      <td>x.shift()</td>\n      <td>w</td>\n      <td>y</td>\n      <td>y</td>\n      <td>y</td>\n      <td>y</td>\n      <td>y</td>\n      <td>y</td>\n      <td>1.3.1</td>\n    </tr>\n  </tbody>\n</table>\n<p>120 rows × 10 columns</p>\n</div>"
     },
     "execution_count": 10,
     "metadata": {},
     "output_type": "execute_result"
    }
   ],
   "source": [
    "op_catalog = op_catalog.sort_values(by=['op_class', 'op', 'expression'], inplace=False).reset_index(\n",
    "    drop=True, inplace=False)\n",
    "op_catalog['version'] = data_algebra.__version__\n",
    "op_catalog"
   ],
   "metadata": {
    "collapsed": false,
    "pycharm": {
     "name": "#%%\n"
    }
   }
  },
  {
   "cell_type": "code",
   "execution_count": null,
   "outputs": [],
   "source": [
    "op_catalog.to_csv('op_catalog.csv', index=False)"
   ],
   "metadata": {
    "collapsed": false,
    "pycharm": {
     "name": "#%%\n"
    }
   }
  },
  {
   "cell_type": "code",
   "execution_count": null,
   "outputs": [],
   "source": [
    "table_as_python = data_algebra.util.pandas_to_example_str(op_catalog)\n",
    "table_as_python = pretty_format_python(table_as_python)\n",
    "\n",
    "with open('op_catalog.py', 'w') as f_out:\n",
    "    print(\"\"\"\n",
    "\n",
    "import data_algebra\n",
    "\n",
    "pd = data_algebra.default_data_model.pd\n",
    "\n",
    "    \"\"\",\n",
    "          file=f_out)\n",
    "    print(\"methods_table = \" + table_as_python,\n",
    "          file=f_out)"
   ],
   "metadata": {
    "collapsed": false,
    "pycharm": {
     "name": "#%%\n"
    }
   }
  },
  {
   "cell_type": "markdown",
   "source": [
    "  * [data algebra](https://github.com/WinVector/data_algebra)\n",
    "  * [data_algebra_catalog.ipynb](https://github.com/WinVector/data_algebra/blob/main/Examples/Methods/data_algebra_catalog.ipynb)\n",
    "  * [op_cataglog.csv](https://github.com/WinVector/data_algebra/blob/main/Examples/Methods/op_catalog.csv)\n",
    "  * [error_msgs.txt](https://github.com/WinVector/data_algebra/blob/main/Examples/Methods/error_msgs.txt)\n",
    "  * [Method Warnings](https://github.com/WinVector/data_algebra/blob/main/Examples/Methods/MethodWarnings.ipynb)"
   ],
   "metadata": {
    "collapsed": false,
    "pycharm": {
     "name": "#%% md\n"
    }
   }
  }
 ],
 "metadata": {
  "kernelspec": {
   "display_name": "Python 3",
   "language": "python",
   "name": "python3"
  },
  "language_info": {
   "codemirror_mode": {
    "name": "ipython",
    "version": 2
   },
   "file_extension": ".py",
   "mimetype": "text/x-python",
   "name": "python",
   "nbconvert_exporter": "python",
   "pygments_lexer": "ipython2",
   "version": "2.7.6"
  }
 },
 "nbformat": 4,
 "nbformat_minor": 0
}