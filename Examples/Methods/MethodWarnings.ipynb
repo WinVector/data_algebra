{
 "cells": [
  {
   "cell_type": "code",
   "execution_count": 1,
   "metadata": {
    "collapsed": true
   },
   "outputs": [],
   "source": [
    "import pandas as pd\n",
    "from data_algebra.data_ops import descr\n",
    "import data_algebra.test_util\n",
    "import data_algebra.BigQuery"
   ]
  },
  {
   "cell_type": "code",
   "execution_count": 2,
   "outputs": [
    {
     "data": {
      "text/plain": "   id     x\n0   0   4.0\n1   1  50.0\n2   2   1.0\n3   3   3.0\n4   4   2.2",
      "text/html": "<div>\n<style scoped>\n    .dataframe tbody tr th:only-of-type {\n        vertical-align: middle;\n    }\n\n    .dataframe tbody tr th {\n        vertical-align: top;\n    }\n\n    .dataframe thead th {\n        text-align: right;\n    }\n</style>\n<table border=\"1\" class=\"dataframe\">\n  <thead>\n    <tr style=\"text-align: right;\">\n      <th></th>\n      <th>id</th>\n      <th>x</th>\n    </tr>\n  </thead>\n  <tbody>\n    <tr>\n      <th>0</th>\n      <td>0</td>\n      <td>4.0</td>\n    </tr>\n    <tr>\n      <th>1</th>\n      <td>1</td>\n      <td>50.0</td>\n    </tr>\n    <tr>\n      <th>2</th>\n      <td>2</td>\n      <td>1.0</td>\n    </tr>\n    <tr>\n      <th>3</th>\n      <td>3</td>\n      <td>3.0</td>\n    </tr>\n    <tr>\n      <th>4</th>\n      <td>4</td>\n      <td>2.2</td>\n    </tr>\n  </tbody>\n</table>\n</div>"
     },
     "execution_count": 2,
     "metadata": {},
     "output_type": "execute_result"
    }
   ],
   "source": [
    "d = pd.DataFrame({\n",
    "    'id': [0, 1, 2, 3, 4],\n",
    "    'x': [4, 50, 1, 3, 2.2],\n",
    "})\n",
    "\n",
    "d"
   ],
   "metadata": {
    "collapsed": false,
    "pycharm": {
     "name": "#%%\n"
    }
   }
  },
  {
   "cell_type": "code",
   "execution_count": 3,
   "outputs": [],
   "source": [
    "ops = (\n",
    "    descr(d=d)\n",
    "        .extend(\n",
    "            {'o': '(1).cumcount()'},\n",
    "            order_by=['x'])\n",
    "        .order_rows(['id'])\n",
    ")"
   ],
   "metadata": {
    "collapsed": false,
    "pycharm": {
     "name": "#%%\n"
    }
   }
  },
  {
   "cell_type": "code",
   "execution_count": 4,
   "outputs": [
    {
     "data": {
      "text/plain": "   id     x  o\n0   0   4.0  3\n1   1  50.0  4\n2   2   1.0  0\n3   3   3.0  2\n4   4   2.2  1",
      "text/html": "<div>\n<style scoped>\n    .dataframe tbody tr th:only-of-type {\n        vertical-align: middle;\n    }\n\n    .dataframe tbody tr th {\n        vertical-align: top;\n    }\n\n    .dataframe thead th {\n        text-align: right;\n    }\n</style>\n<table border=\"1\" class=\"dataframe\">\n  <thead>\n    <tr style=\"text-align: right;\">\n      <th></th>\n      <th>id</th>\n      <th>x</th>\n      <th>o</th>\n    </tr>\n  </thead>\n  <tbody>\n    <tr>\n      <th>0</th>\n      <td>0</td>\n      <td>4.0</td>\n      <td>3</td>\n    </tr>\n    <tr>\n      <th>1</th>\n      <td>1</td>\n      <td>50.0</td>\n      <td>4</td>\n    </tr>\n    <tr>\n      <th>2</th>\n      <td>2</td>\n      <td>1.0</td>\n      <td>0</td>\n    </tr>\n    <tr>\n      <th>3</th>\n      <td>3</td>\n      <td>3.0</td>\n      <td>2</td>\n    </tr>\n    <tr>\n      <th>4</th>\n      <td>4</td>\n      <td>2.2</td>\n      <td>1</td>\n    </tr>\n  </tbody>\n</table>\n</div>"
     },
     "execution_count": 4,
     "metadata": {},
     "output_type": "execute_result"
    }
   ],
   "source": [
    "pandas_res = ops.transform(d)\n",
    "\n",
    "pandas_res"
   ],
   "metadata": {
    "collapsed": false,
    "pycharm": {
     "name": "#%%\n"
    }
   }
  },
  {
   "cell_type": "code",
   "execution_count": 5,
   "outputs": [],
   "source": [
    "expect = pd.DataFrame({\n",
    "    'id': [0, 1, 2, 3, 4],\n",
    "    'x': [4, 50, 1, 3, 2.2],\n",
    "    'o': [3, 4, 0, 2, 1],\n",
    "})\n",
    "\n",
    "assert data_algebra.test_util.equivalent_frames(\n",
    "    pandas_res,\n",
    "    expect)"
   ],
   "metadata": {
    "collapsed": false,
    "pycharm": {
     "name": "#%%\n"
    }
   }
  },
  {
   "cell_type": "code",
   "execution_count": 6,
   "outputs": [
    {
     "data": {
      "text/plain": "(TableDescription(table_name=\"d\", column_names=[\"id\", \"x\"]))"
     },
     "execution_count": 6,
     "metadata": {},
     "output_type": "execute_result"
    }
   ],
   "source": [
    "bigquery_handle = data_algebra.BigQuery.example_handle()\n",
    "bigquery_handle.insert_table(d, table_name='d', allow_overwrite=True)"
   ],
   "metadata": {
    "collapsed": false,
    "pycharm": {
     "name": "#%%\n"
    }
   }
  },
  {
   "cell_type": "code",
   "execution_count": 7,
   "outputs": [
    {
     "name": "stdout",
     "output_type": "stream",
     "text": [
      "-- data_algebra SQL https://github.com/WinVector/data_algebra\n",
      "--  dialect: BigQueryModel\n",
      "--       string quote: \"\n",
      "--   identifier quote: `\n",
      "WITH\n",
      " `extend_0` AS (\n",
      "  SELECT  -- .extend({ 'o': '(1).cumcount()'}, partition_by=1, order_by=['x'])\n",
      "   `id` ,\n",
      "   `x` ,\n",
      "   CUMCOUNT(1) OVER ( ORDER BY `x`  )  AS `o`\n",
      "  FROM\n",
      "   `data-algebra-test.test_1.d`\n",
      " )\n",
      "SELECT  -- .order_rows(['id'])\n",
      " *\n",
      "FROM\n",
      " `extend_0`\n",
      "ORDER BY\n",
      " `id`\n",
      "\n"
     ]
    },
    {
     "name": "stderr",
     "output_type": "stream",
     "text": [
      "/Users/johnmount/Documents/work/data_algebra/data_algebra/db_model.py:1634: UserWarning: BigQueryModel translation doesn't fully support method(s): ['cumcount']\n",
      "  warnings.warn(f\"{self} translation doesn't fully support method(s): {non_rec}\", UserWarning)\n"
     ]
    }
   ],
   "source": [
    "bigquery_sql = bigquery_handle.to_sql(ops)\n",
    "\n",
    "print(bigquery_sql)"
   ],
   "metadata": {
    "collapsed": false,
    "pycharm": {
     "name": "#%%\n"
    }
   }
  },
  {
   "cell_type": "code",
   "execution_count": 8,
   "outputs": [
    {
     "name": "stdout",
     "output_type": "stream",
     "text": [
      "caught: 400 Function not found: CUMCOUNT at [10:4]\n",
      "\n",
      "(job ID: feb74d09-b744-4c83-8435-b6faa990b713)\n",
      "\n",
      "                          -----Query Job SQL Follows-----                          \n",
      "\n",
      "    |    .    |    .    |    .    |    .    |    .    |    .    |    .    |\n",
      "   1:-- data_algebra SQL https://github.com/WinVector/data_algebra\n",
      "   2:--  dialect: BigQueryModel\n",
      "   3:--       string quote: \"\n",
      "   4:--   identifier quote: `\n",
      "   5:WITH\n",
      "   6: `extend_0` AS (\n",
      "   7:  SELECT  -- .extend({ 'o': '(1).cumcount()'}, partition_by=1, order_by=['x'])\n",
      "   8:   `id` ,\n",
      "   9:   `x` ,\n",
      "  10:   CUMCOUNT(1) OVER ( ORDER BY `x`  )  AS `o`\n",
      "  11:  FROM\n",
      "  12:   `data-algebra-test.test_1.d`\n",
      "  13: )\n",
      "  14:SELECT  -- .order_rows(['id'])\n",
      "  15: *\n",
      "  16:FROM\n",
      "  17: `extend_0`\n",
      "  18:ORDER BY\n",
      "  19: `id`\n",
      "    |    .    |    .    |    .    |    .    |    .    |    .    |    .    |\n"
     ]
    }
   ],
   "source": [
    "try:\n",
    "    bigquery_handle.read_query(bigquery_sql)\n",
    "except Exception as ex:\n",
    "    print(f'caught: {ex}')"
   ],
   "metadata": {
    "collapsed": false,
    "pycharm": {
     "name": "#%%\n"
    }
   }
  },
  {
   "cell_type": "code",
   "execution_count": 9,
   "outputs": [],
   "source": [
    "ops_2 = (\n",
    "    descr(d=d)\n",
    "        .extend(\n",
    "            {'o': '(1).cumsum()'},\n",
    "            order_by=['x'])\n",
    "        .order_rows(['id'])\n",
    ")\n"
   ],
   "metadata": {
    "collapsed": false,
    "pycharm": {
     "name": "#%%\n"
    }
   }
  },
  {
   "cell_type": "code",
   "execution_count": 10,
   "outputs": [
    {
     "data": {
      "text/plain": "   id     x  o\n0   0   4.0  4\n1   1  50.0  5\n2   2   1.0  1\n3   3   3.0  3\n4   4   2.2  2",
      "text/html": "<div>\n<style scoped>\n    .dataframe tbody tr th:only-of-type {\n        vertical-align: middle;\n    }\n\n    .dataframe tbody tr th {\n        vertical-align: top;\n    }\n\n    .dataframe thead th {\n        text-align: right;\n    }\n</style>\n<table border=\"1\" class=\"dataframe\">\n  <thead>\n    <tr style=\"text-align: right;\">\n      <th></th>\n      <th>id</th>\n      <th>x</th>\n      <th>o</th>\n    </tr>\n  </thead>\n  <tbody>\n    <tr>\n      <th>0</th>\n      <td>0</td>\n      <td>4.0</td>\n      <td>4</td>\n    </tr>\n    <tr>\n      <th>1</th>\n      <td>1</td>\n      <td>50.0</td>\n      <td>5</td>\n    </tr>\n    <tr>\n      <th>2</th>\n      <td>2</td>\n      <td>1.0</td>\n      <td>1</td>\n    </tr>\n    <tr>\n      <th>3</th>\n      <td>3</td>\n      <td>3.0</td>\n      <td>3</td>\n    </tr>\n    <tr>\n      <th>4</th>\n      <td>4</td>\n      <td>2.2</td>\n      <td>2</td>\n    </tr>\n  </tbody>\n</table>\n</div>"
     },
     "execution_count": 10,
     "metadata": {},
     "output_type": "execute_result"
    }
   ],
   "source": [
    "pandas_res_2 = ops_2.transform(d)\n",
    "\n",
    "pandas_res_2"
   ],
   "metadata": {
    "collapsed": false,
    "pycharm": {
     "name": "#%%\n"
    }
   }
  },
  {
   "cell_type": "code",
   "execution_count": 11,
   "outputs": [],
   "source": [
    "expect_2 = pd.DataFrame({\n",
    "    'id': [0, 1, 2, 3, 4],\n",
    "    'x': [4, 50, 1, 3, 2.2],\n",
    "    'o': [4, 5, 1, 3, 2],\n",
    "})\n",
    "\n",
    "assert data_algebra.test_util.equivalent_frames(\n",
    "    pandas_res_2,\n",
    "    expect_2)"
   ],
   "metadata": {
    "collapsed": false,
    "pycharm": {
     "name": "#%%\n"
    }
   }
  },
  {
   "cell_type": "code",
   "execution_count": 12,
   "outputs": [
    {
     "name": "stdout",
     "output_type": "stream",
     "text": [
      "-- data_algebra SQL https://github.com/WinVector/data_algebra\n",
      "--  dialect: BigQueryModel\n",
      "--       string quote: \"\n",
      "--   identifier quote: `\n",
      "WITH\n",
      " `extend_0` AS (\n",
      "  SELECT  -- .extend({ 'o': '(1).cumsum()'}, partition_by=1, order_by=['x'])\n",
      "   `id` ,\n",
      "   `x` ,\n",
      "   SUM(1) OVER ( ORDER BY `x`  )  AS `o`\n",
      "  FROM\n",
      "   `data-algebra-test.test_1.d`\n",
      " )\n",
      "SELECT  -- .order_rows(['id'])\n",
      " *\n",
      "FROM\n",
      " `extend_0`\n",
      "ORDER BY\n",
      " `id`\n",
      "\n"
     ]
    }
   ],
   "source": [
    "bigquery_sql_2 = bigquery_handle.to_sql(ops_2)\n",
    "\n",
    "print(bigquery_sql_2)"
   ],
   "metadata": {
    "collapsed": false,
    "pycharm": {
     "name": "#%%\n"
    }
   }
  },
  {
   "cell_type": "code",
   "execution_count": 13,
   "outputs": [
    {
     "data": {
      "text/plain": "   id     x  o\n0   0   4.0  4\n1   1  50.0  5\n2   2   1.0  1\n3   3   3.0  3\n4   4   2.2  2",
      "text/html": "<div>\n<style scoped>\n    .dataframe tbody tr th:only-of-type {\n        vertical-align: middle;\n    }\n\n    .dataframe tbody tr th {\n        vertical-align: top;\n    }\n\n    .dataframe thead th {\n        text-align: right;\n    }\n</style>\n<table border=\"1\" class=\"dataframe\">\n  <thead>\n    <tr style=\"text-align: right;\">\n      <th></th>\n      <th>id</th>\n      <th>x</th>\n      <th>o</th>\n    </tr>\n  </thead>\n  <tbody>\n    <tr>\n      <th>0</th>\n      <td>0</td>\n      <td>4.0</td>\n      <td>4</td>\n    </tr>\n    <tr>\n      <th>1</th>\n      <td>1</td>\n      <td>50.0</td>\n      <td>5</td>\n    </tr>\n    <tr>\n      <th>2</th>\n      <td>2</td>\n      <td>1.0</td>\n      <td>1</td>\n    </tr>\n    <tr>\n      <th>3</th>\n      <td>3</td>\n      <td>3.0</td>\n      <td>3</td>\n    </tr>\n    <tr>\n      <th>4</th>\n      <td>4</td>\n      <td>2.2</td>\n      <td>2</td>\n    </tr>\n  </tbody>\n</table>\n</div>"
     },
     "execution_count": 13,
     "metadata": {},
     "output_type": "execute_result"
    }
   ],
   "source": [
    "bigquery_res_2 = bigquery_handle.read_query(bigquery_sql_2)\n",
    "\n",
    "bigquery_res_2"
   ],
   "metadata": {
    "collapsed": false,
    "pycharm": {
     "name": "#%%\n"
    }
   }
  },
  {
   "cell_type": "code",
   "execution_count": 14,
   "outputs": [],
   "source": [
    "assert data_algebra.test_util.equivalent_frames(\n",
    "    pandas_res_2,\n",
    "    bigquery_res_2)"
   ],
   "metadata": {
    "collapsed": false,
    "pycharm": {
     "name": "#%%\n"
    }
   }
  },
  {
   "cell_type": "code",
   "execution_count": 15,
   "outputs": [],
   "source": [
    "bigquery_handle.drop_table('d')\n",
    "bigquery_handle.close()"
   ],
   "metadata": {
    "collapsed": false,
    "pycharm": {
     "name": "#%%\n"
    }
   }
  }
 ],
 "metadata": {
  "kernelspec": {
   "display_name": "Python 3",
   "language": "python",
   "name": "python3"
  },
  "language_info": {
   "codemirror_mode": {
    "name": "ipython",
    "version": 2
   },
   "file_extension": ".py",
   "mimetype": "text/x-python",
   "name": "python",
   "nbconvert_exporter": "python",
   "pygments_lexer": "ipython2",
   "version": "2.7.6"
  }
 },
 "nbformat": 4,
 "nbformat_minor": 0
}