{
 "cells": [
  {
   "cell_type": "markdown",
   "source": [
    "## Introduction\n",
    "\n",
    "The [data algebra](https://github.com/WinVector/data_algebra) is a system for designing data transformations that can be used in Pandas or SQL. The 1.3.0 version introduces a lot of early checking and warnings to make designing data transforms more convenient and safer.\n",
    "\n",
    "## An Example\n",
    "\n",
    "I'd like to show demonstrate of the features with an example.\n",
    "\n",
    "Let's import our packages and some simple example data."
   ],
   "metadata": {
    "collapsed": false,
    "pycharm": {
     "name": "#%% md\n"
    }
   }
  },
  {
   "cell_type": "code",
   "execution_count": 1,
   "metadata": {
    "collapsed": true
   },
   "outputs": [],
   "source": [
    "import pandas as pd\n",
    "from data_algebra.data_ops import descr\n",
    "import data_algebra.test_util\n",
    "import data_algebra.BigQuery"
   ]
  },
  {
   "cell_type": "code",
   "execution_count": 2,
   "outputs": [
    {
     "data": {
      "text/plain": "   id     x  g\n0   0   4.0  a\n1   1  50.0  b\n2   2   1.0  a\n3   3   3.0  a\n4   4   2.2  b",
      "text/html": "<div>\n<style scoped>\n    .dataframe tbody tr th:only-of-type {\n        vertical-align: middle;\n    }\n\n    .dataframe tbody tr th {\n        vertical-align: top;\n    }\n\n    .dataframe thead th {\n        text-align: right;\n    }\n</style>\n<table border=\"1\" class=\"dataframe\">\n  <thead>\n    <tr style=\"text-align: right;\">\n      <th></th>\n      <th>id</th>\n      <th>x</th>\n      <th>g</th>\n    </tr>\n  </thead>\n  <tbody>\n    <tr>\n      <th>0</th>\n      <td>0</td>\n      <td>4.0</td>\n      <td>a</td>\n    </tr>\n    <tr>\n      <th>1</th>\n      <td>1</td>\n      <td>50.0</td>\n      <td>b</td>\n    </tr>\n    <tr>\n      <th>2</th>\n      <td>2</td>\n      <td>1.0</td>\n      <td>a</td>\n    </tr>\n    <tr>\n      <th>3</th>\n      <td>3</td>\n      <td>3.0</td>\n      <td>a</td>\n    </tr>\n    <tr>\n      <th>4</th>\n      <td>4</td>\n      <td>2.2</td>\n      <td>b</td>\n    </tr>\n  </tbody>\n</table>\n</div>"
     },
     "execution_count": 2,
     "metadata": {},
     "output_type": "execute_result"
    }
   ],
   "source": [
    "d = pd.DataFrame({\n",
    "    'id': [0, 1, 2, 3, 4],\n",
    "    'x': [4, 50, 1, 3, 2.2],\n",
    "    'g': ['a', 'b', 'a', 'a', 'b'],\n",
    "})\n",
    "\n",
    "d"
   ],
   "metadata": {
    "collapsed": false,
    "pycharm": {
     "name": "#%%\n"
    }
   }
  },
  {
   "cell_type": "markdown",
   "source": [
    "The data algebra is \"Python first\", in that we choose method names close to what Pandas and Numpy users expect.  We arrange methods that create new columns in a step in a transformation step, in this case an \"extend\" node.  Node documentation can be found [here](https://github.com/WinVector/data_algebra).\n",
    "\n",
    "Our example task is, computing the median of the \"x\" columns for each group of rows identified by the \"g\" column. The ability to work over an arbitrary number of values and disjoint groups (all in one column) is a hallmark of vectorized or relational calculation. This allows us to work efficiently at large data scales.\n",
    "\n",
    "### The Solution\n",
    "\n",
    "With some experience we can write the data algebra solution as follows."
   ],
   "metadata": {
    "collapsed": false,
    "pycharm": {
     "name": "#%% md\n"
    }
   }
  },
  {
   "cell_type": "code",
   "execution_count": 3,
   "outputs": [],
   "source": [
    "\n",
    "ops = (\n",
    "    descr(d=d)\n",
    "        .extend(\n",
    "            {'xm': 'x.median()'},\n",
    "            partition_by=['g'])\n",
    "        .order_rows(['id'])\n",
    ")\n"
   ],
   "metadata": {
    "collapsed": false,
    "pycharm": {
     "name": "#%%\n"
    }
   }
  },
  {
   "cell_type": "markdown",
   "source": [
    "The \"extend()\" and \"order_rows()\" are operators, which have an introduction [here](https://github.com/WinVector/data_algebra/blob/main/Examples/Introduction/data_algebra_Introduction.ipynb). What methods we can use in these nodes follows mostly Pandas and Numpy, and is in a table [here](https://github.com/WinVector/data_algebra/blob/main/Examples/Methods/op_catalog.csv)."
   ],
   "metadata": {
    "collapsed": false,
    "pycharm": {
     "name": "#%% md\n"
    }
   }
  },
  {
   "cell_type": "markdown",
   "source": [
    "Now let's apply our specified transform to our example data. The new column \"xm\" has the correct group medians assigned to each original row."
   ],
   "metadata": {
    "collapsed": false,
    "pycharm": {
     "name": "#%% md\n"
    }
   }
  },
  {
   "cell_type": "code",
   "execution_count": 4,
   "outputs": [
    {
     "data": {
      "text/plain": "   id     x  g    xm\n0   0   4.0  a   3.0\n1   1  50.0  b  26.1\n2   2   1.0  a   3.0\n3   3   3.0  a   3.0\n4   4   2.2  b  26.1",
      "text/html": "<div>\n<style scoped>\n    .dataframe tbody tr th:only-of-type {\n        vertical-align: middle;\n    }\n\n    .dataframe tbody tr th {\n        vertical-align: top;\n    }\n\n    .dataframe thead th {\n        text-align: right;\n    }\n</style>\n<table border=\"1\" class=\"dataframe\">\n  <thead>\n    <tr style=\"text-align: right;\">\n      <th></th>\n      <th>id</th>\n      <th>x</th>\n      <th>g</th>\n      <th>xm</th>\n    </tr>\n  </thead>\n  <tbody>\n    <tr>\n      <th>0</th>\n      <td>0</td>\n      <td>4.0</td>\n      <td>a</td>\n      <td>3.0</td>\n    </tr>\n    <tr>\n      <th>1</th>\n      <td>1</td>\n      <td>50.0</td>\n      <td>b</td>\n      <td>26.1</td>\n    </tr>\n    <tr>\n      <th>2</th>\n      <td>2</td>\n      <td>1.0</td>\n      <td>a</td>\n      <td>3.0</td>\n    </tr>\n    <tr>\n      <th>3</th>\n      <td>3</td>\n      <td>3.0</td>\n      <td>a</td>\n      <td>3.0</td>\n    </tr>\n    <tr>\n      <th>4</th>\n      <td>4</td>\n      <td>2.2</td>\n      <td>b</td>\n      <td>26.1</td>\n    </tr>\n  </tbody>\n</table>\n</div>"
     },
     "execution_count": 4,
     "metadata": {},
     "output_type": "execute_result"
    }
   ],
   "source": [
    "pandas_res = ops.transform(d)\n",
    "\n",
    "pandas_res"
   ],
   "metadata": {
    "collapsed": false,
    "pycharm": {
     "name": "#%%\n"
    }
   }
  },
  {
   "cell_type": "markdown",
   "source": [
    "## In Database\n",
    "\n",
    "Part of the power of the data algebra is: the transform can be translated into SQL for execution on different databases.  For example, we could try to execute this query on Google BigQuery as follows.\n",
    "\n",
    "We build a database connection and insert our example data. In real applications the data would likely be large, and already in the database."
   ],
   "metadata": {
    "collapsed": false,
    "pycharm": {
     "name": "#%% md\n"
    }
   }
  },
  {
   "cell_type": "code",
   "execution_count": 5,
   "outputs": [
    {
     "data": {
      "text/plain": "(TableDescription(table_name=\"d\", column_names=[\"id\", \"x\", \"g\"]))"
     },
     "execution_count": 5,
     "metadata": {},
     "output_type": "execute_result"
    }
   ],
   "source": [
    "bigquery_handle = data_algebra.BigQuery.example_handle()\n",
    "bigquery_handle.insert_table(d, table_name='d', allow_overwrite=True)"
   ],
   "metadata": {
    "collapsed": false,
    "pycharm": {
     "name": "#%%\n"
    }
   }
  },
  {
   "cell_type": "markdown",
   "source": [
    "We can now run the translated query. In a large scale application we would avoid the motion of data to or from Python by landing the result directly in the database using a `CREATE TABLE` statement.\n",
    "\n",
    "Let's try to translate this into SQL."
   ],
   "metadata": {
    "collapsed": false,
    "pycharm": {
     "name": "#%% md\n"
    }
   }
  },
  {
   "cell_type": "code",
   "execution_count": 6,
   "outputs": [],
   "source": [
    "bigquery_sql = bigquery_handle.to_sql(ops)\n"
   ],
   "metadata": {
    "collapsed": false,
    "pycharm": {
     "name": "#%%\n"
    }
   }
  },
  {
   "cell_type": "markdown",
   "source": [
    "And let's' see that work in BigQuery."
   ],
   "metadata": {
    "collapsed": false,
    "pycharm": {
     "name": "#%% md\n"
    }
   }
  },
  {
   "cell_type": "code",
   "execution_count": 7,
   "outputs": [
    {
     "data": {
      "text/plain": "   g     x  id    xm\n0  a   4.0   0   3.0\n1  b  50.0   1  26.1\n2  a   1.0   2   3.0\n3  a   3.0   3   3.0\n4  b   2.2   4  26.1",
      "text/html": "<div>\n<style scoped>\n    .dataframe tbody tr th:only-of-type {\n        vertical-align: middle;\n    }\n\n    .dataframe tbody tr th {\n        vertical-align: top;\n    }\n\n    .dataframe thead th {\n        text-align: right;\n    }\n</style>\n<table border=\"1\" class=\"dataframe\">\n  <thead>\n    <tr style=\"text-align: right;\">\n      <th></th>\n      <th>g</th>\n      <th>x</th>\n      <th>id</th>\n      <th>xm</th>\n    </tr>\n  </thead>\n  <tbody>\n    <tr>\n      <th>0</th>\n      <td>a</td>\n      <td>4.0</td>\n      <td>0</td>\n      <td>3.0</td>\n    </tr>\n    <tr>\n      <th>1</th>\n      <td>b</td>\n      <td>50.0</td>\n      <td>1</td>\n      <td>26.1</td>\n    </tr>\n    <tr>\n      <th>2</th>\n      <td>a</td>\n      <td>1.0</td>\n      <td>2</td>\n      <td>3.0</td>\n    </tr>\n    <tr>\n      <th>3</th>\n      <td>a</td>\n      <td>3.0</td>\n      <td>3</td>\n      <td>3.0</td>\n    </tr>\n    <tr>\n      <th>4</th>\n      <td>b</td>\n      <td>2.2</td>\n      <td>4</td>\n      <td>26.1</td>\n    </tr>\n  </tbody>\n</table>\n</div>"
     },
     "execution_count": 7,
     "metadata": {},
     "output_type": "execute_result"
    }
   ],
   "source": [
    "# works\n",
    "db_res = bigquery_handle.read_query(bigquery_sql)\n",
    "\n",
    "db_res"
   ],
   "metadata": {
    "collapsed": false,
    "pycharm": {
     "name": "#%%\n"
    }
   }
  },
  {
   "cell_type": "code",
   "execution_count": 8,
   "outputs": [],
   "source": [
    "assert data_algebra.test_util.equivalent_frames(pandas_res, db_res)"
   ],
   "metadata": {
    "collapsed": false,
    "pycharm": {
     "name": "#%%\n"
    }
   }
  },
  {
   "cell_type": "markdown",
   "source": [
    "## A Variation\n",
    "\n",
    "Now if we wanted only one row per group during our median calculation we would use the following pipeline, replacing the \"extend\" with a \"project\" (trying to stay close to Codd's relational terminology)."
   ],
   "metadata": {
    "collapsed": false,
    "pycharm": {
     "name": "#%% md\n"
    }
   }
  },
  {
   "cell_type": "code",
   "execution_count": 9,
   "outputs": [],
   "source": [
    "ops_p = (\n",
    "    descr(d=d)\n",
    "        .project(\n",
    "            {'xm': 'x.median()'},\n",
    "            group_by=['g'],\n",
    "        )\n",
    ")"
   ],
   "metadata": {
    "collapsed": false,
    "pycharm": {
     "name": "#%%\n"
    }
   }
  },
  {
   "cell_type": "markdown",
   "source": [
    "This pipeline works as follows."
   ],
   "metadata": {
    "collapsed": false,
    "pycharm": {
     "name": "#%% md\n"
    }
   }
  },
  {
   "cell_type": "code",
   "execution_count": 10,
   "outputs": [
    {
     "data": {
      "text/plain": "   g    xm\n0  a   3.0\n1  b  26.1",
      "text/html": "<div>\n<style scoped>\n    .dataframe tbody tr th:only-of-type {\n        vertical-align: middle;\n    }\n\n    .dataframe tbody tr th {\n        vertical-align: top;\n    }\n\n    .dataframe thead th {\n        text-align: right;\n    }\n</style>\n<table border=\"1\" class=\"dataframe\">\n  <thead>\n    <tr style=\"text-align: right;\">\n      <th></th>\n      <th>g</th>\n      <th>xm</th>\n    </tr>\n  </thead>\n  <tbody>\n    <tr>\n      <th>0</th>\n      <td>a</td>\n      <td>3.0</td>\n    </tr>\n    <tr>\n      <th>1</th>\n      <td>b</td>\n      <td>26.1</td>\n    </tr>\n  </tbody>\n</table>\n</div>"
     },
     "execution_count": 10,
     "metadata": {},
     "output_type": "execute_result"
    }
   ],
   "source": [
    "pandas_res_p = ops_p.transform(d)\n",
    "\n",
    "pandas_res_p"
   ],
   "metadata": {
    "collapsed": false,
    "pycharm": {
     "name": "#%%\n"
    }
   }
  },
  {
   "cell_type": "markdown",
   "source": [
    "But we get a warning if we attempt to convert this to BigQuery SQL."
   ],
   "metadata": {
    "collapsed": false,
    "pycharm": {
     "name": "#%% md\n"
    }
   }
  },
  {
   "cell_type": "code",
   "execution_count": 11,
   "outputs": [
    {
     "name": "stderr",
     "output_type": "stream",
     "text": [
      "/Users/johnmount/Documents/work/data_algebra/data_algebra/db_model.py:1692: UserWarning: BigQueryModel translation doesn't fully support method context: [MethodUse(op_name='median', is_project=True, is_windowed=False, is_ordered=False)]\n",
      "  warnings.warn(f\"{self} translation doesn't fully support method context: {non_rec}\", UserWarning)\n"
     ]
    }
   ],
   "source": [
    "# warns!\n",
    "sql_p = bigquery_handle.to_sql(ops_p)"
   ],
   "metadata": {
    "collapsed": false,
    "pycharm": {
     "name": "#%%\n"
    }
   }
  },
  {
   "cell_type": "markdown",
   "source": [
    "It turns out, we can't ignore the warning. Attempting to execute the SQL fails."
   ],
   "metadata": {
    "collapsed": false,
    "pycharm": {
     "name": "#%% md\n"
    }
   }
  },
  {
   "cell_type": "code",
   "execution_count": 12,
   "outputs": [
    {
     "name": "stdout",
     "output_type": "stream",
     "text": [
      "caught: 400 percentile_cont aggregate function is not supported.\n",
      "\n",
      "(job ID: d65e53c4-7338-4123-b4b1-e7ee11e4f626)\n",
      "\n",
      "                 -----Query Job SQL Follows-----                  \n",
      "\n",
      "    |    .    |    .    |    .    |    .    |    .    |    .    |\n",
      "   1:-- data_algebra SQL https://github.com/WinVector/data_algebra\n",
      "   2:--  dialect: BigQueryModel\n",
      "   3:--       string quote: \"\n",
      "   4:--   identifier quote: `\n",
      "   5:WITH\n",
      "   6: `table_reference_0` AS (\n",
      "   7:  SELECT\n",
      "   8:   `x` ,\n",
      "   9:   `g`\n",
      "  10:  FROM\n",
      "  11:   `data-algebra-test.test_1.d`\n",
      "  12: )\n",
      "  13:SELECT  -- .project({ 'xm': 'x.median()'}, group_by=['g'])\n",
      "  14: PERCENTILE_CONT(`x`, 0.5) AS `xm` ,\n",
      "  15: `g`\n",
      "  16:FROM\n",
      "  17: `table_reference_0`\n",
      "  18:GROUP BY\n",
      "  19: `g`\n",
      "    |    .    |    .    |    .    |    .    |    .    |    .    |\n"
     ]
    }
   ],
   "source": [
    "# indeed, fails\n",
    "# Notes: https://stackoverflow.com/a/57718190/6901725\n",
    "try:\n",
    "    bigquery_handle.read_query(sql_p)\n",
    "except Exception as ex:\n",
    "    print(f'caught: {ex}')"
   ],
   "metadata": {
    "collapsed": false,
    "pycharm": {
     "name": "#%%\n"
    }
   }
  },
  {
   "cell_type": "markdown",
   "source": [
    "One familiar with Google BigQuery will recognize the issue. The \"PERCENTILE_CONT\" function is only available in windowed contexts (the number of rows being returned being the same as the number in the input), and not in project (one row returned per group) contexts.\n",
    "\n",
    "The failing SQL is this:"
   ],
   "metadata": {
    "collapsed": false,
    "pycharm": {
     "name": "#%% md\n"
    }
   }
  },
  {
   "cell_type": "code",
   "execution_count": 13,
   "outputs": [
    {
     "name": "stdout",
     "output_type": "stream",
     "text": [
      "-- data_algebra SQL https://github.com/WinVector/data_algebra\n",
      "--  dialect: BigQueryModel\n",
      "--       string quote: \"\n",
      "--   identifier quote: `\n",
      "WITH\n",
      " `table_reference_0` AS (\n",
      "  SELECT\n",
      "   `x` ,\n",
      "   `g`\n",
      "  FROM\n",
      "   `data-algebra-test.test_1.d`\n",
      " )\n",
      "SELECT  -- .project({ 'xm': 'x.median()'}, group_by=['g'])\n",
      " PERCENTILE_CONT(`x`, 0.5) AS `xm` ,\n",
      " `g`\n",
      "FROM\n",
      " `table_reference_0`\n",
      "GROUP BY\n",
      " `g`\n",
      "\n"
     ]
    }
   ],
   "source": [
    "print(sql_p)\n"
   ],
   "metadata": {
    "collapsed": false,
    "pycharm": {
     "name": "#%%\n"
    }
   }
  },
  {
   "cell_type": "markdown",
   "source": [
    "And the working SQL is this"
   ],
   "metadata": {
    "collapsed": false,
    "pycharm": {
     "name": "#%% md\n"
    }
   }
  },
  {
   "cell_type": "code",
   "execution_count": 14,
   "outputs": [
    {
     "name": "stdout",
     "output_type": "stream",
     "text": [
      "-- data_algebra SQL https://github.com/WinVector/data_algebra\n",
      "--  dialect: BigQueryModel\n",
      "--       string quote: \"\n",
      "--   identifier quote: `\n",
      "WITH\n",
      " `extend_0` AS (\n",
      "  SELECT  -- .extend({ 'xm': 'x.median()'}, partition_by=['g'])\n",
      "   `g` ,\n",
      "   `x` ,\n",
      "   `id` ,\n",
      "   PERCENTILE_CONT(`x`, 0.5) OVER ( PARTITION BY `g`  )  AS `xm`\n",
      "  FROM\n",
      "   `data-algebra-test.test_1.d`\n",
      " )\n",
      "SELECT  -- .order_rows(['id'])\n",
      " *\n",
      "FROM\n",
      " `extend_0`\n",
      "ORDER BY\n",
      " `id`\n",
      "\n"
     ]
    }
   ],
   "source": [
    "print(bigquery_sql)\n"
   ],
   "metadata": {
    "collapsed": false,
    "pycharm": {
     "name": "#%%\n"
    }
   }
  },
  {
   "cell_type": "markdown",
   "source": [
    "The above failure can come as a surprise. But the new feature of the data algebra is: the \"translate to SQL\" step warned we had a potential problem. This doesn't even require a full database handle, it is data incorporated into the database model during package assembly.\n",
    "\n",
    "## Patching The Solution\n",
    "\n",
    "We can work around the BigQuery limitation by simulating the project-median by the execute-median, followed by a project-mean step. However, we feel automating such a conversion would hide too many details from the user."
   ],
   "metadata": {
    "collapsed": false,
    "pycharm": {
     "name": "#%% md\n"
    }
   }
  },
  {
   "cell_type": "code",
   "execution_count": 15,
   "outputs": [
    {
     "data": {
      "text/plain": "     xm  g\n0   3.0  a\n1  26.1  b",
      "text/html": "<div>\n<style scoped>\n    .dataframe tbody tr th:only-of-type {\n        vertical-align: middle;\n    }\n\n    .dataframe tbody tr th {\n        vertical-align: top;\n    }\n\n    .dataframe thead th {\n        text-align: right;\n    }\n</style>\n<table border=\"1\" class=\"dataframe\">\n  <thead>\n    <tr style=\"text-align: right;\">\n      <th></th>\n      <th>xm</th>\n      <th>g</th>\n    </tr>\n  </thead>\n  <tbody>\n    <tr>\n      <th>0</th>\n      <td>3.0</td>\n      <td>a</td>\n    </tr>\n    <tr>\n      <th>1</th>\n      <td>26.1</td>\n      <td>b</td>\n    </tr>\n  </tbody>\n</table>\n</div>"
     },
     "execution_count": 15,
     "metadata": {},
     "output_type": "execute_result"
    }
   ],
   "source": [
    "ops_p_2 = (\n",
    "    ops  # start with our extend median solution\n",
    "        .project(\n",
    "            {'xm': 'xm.mean()'},  # pseudo-aggregation, xm constant per group\n",
    "            group_by=['g'],\n",
    "        )\n",
    ")\n",
    "\n",
    "db_res_p = bigquery_handle.read_query(ops_p_2)\n",
    "\n",
    "db_res_p"
   ],
   "metadata": {
    "collapsed": false,
    "pycharm": {
     "name": "#%%\n"
    }
   }
  },
  {
   "cell_type": "code",
   "execution_count": 16,
   "outputs": [],
   "source": [
    "assert data_algebra.test_util.equivalent_frames(pandas_res_p, db_res_p)"
   ],
   "metadata": {
    "collapsed": false,
    "pycharm": {
     "name": "#%%\n"
    }
   }
  },
  {
   "cell_type": "markdown",
   "source": [
    "## Conclusion\n",
    "\n",
    "And that is the newest feature of the 1.3.0 data algebra: per-database SQL translation warnings. I feel the data algebra has about as much breadth or footprint of correct translations as other SQL generators. However, it now is a bit more forthright in saying if your project is in that correct region. This is a help in building complex statistical queries (such as our [t-test example](https://github.com/WinVector/data_algebra/blob/main/Examples/GettingStarted/solving_problems_using_data_algebra.ipynb) or our [xicor example](https://github.com/WinVector/data_algebra/blob/main/Examples/xicor/xicor_frame.ipynb)).\n",
    "\n",
    "\n",
    "## Appendix\n",
    "\n",
    "We built up ops_p_2 by adding a step to ops. The data algebra has minor optimizers both in the pipeline and SQL steps. For example, we can see in the combined pipeline the intermediate `order_rows()` node is eliminated."
   ],
   "metadata": {
    "collapsed": false,
    "pycharm": {
     "name": "#%% md\n"
    }
   }
  },
  {
   "cell_type": "code",
   "execution_count": 17,
   "outputs": [
    {
     "data": {
      "text/plain": "(\n    TableDescription(table_name=\"d\", column_names=[\"id\", \"x\", \"g\"])\n    .extend({\"xm\": \"x.median()\"}, partition_by=[\"g\"])\n    .project({\"xm\": \"xm.mean()\"}, group_by=[\"g\"])\n)"
     },
     "execution_count": 17,
     "metadata": {},
     "output_type": "execute_result"
    }
   ],
   "source": [
    "ops_p_2"
   ],
   "metadata": {
    "collapsed": false,
    "pycharm": {
     "name": "#%%\n"
    }
   }
  },
  {
   "cell_type": "markdown",
   "source": [
    "### Clean Up"
   ],
   "metadata": {
    "collapsed": false,
    "pycharm": {
     "name": "#%% md\n"
    }
   }
  },
  {
   "cell_type": "code",
   "execution_count": 18,
   "outputs": [],
   "source": [
    "# clean up\n",
    "bigquery_handle.drop_table('d')\n",
    "bigquery_handle.close()"
   ],
   "metadata": {
    "collapsed": false,
    "pycharm": {
     "name": "#%%\n"
    }
   }
  }
 ],
 "metadata": {
  "kernelspec": {
   "display_name": "Python 3",
   "language": "python",
   "name": "python3"
  },
  "language_info": {
   "codemirror_mode": {
    "name": "ipython",
    "version": 2
   },
   "file_extension": ".py",
   "mimetype": "text/x-python",
   "name": "python",
   "nbconvert_exporter": "python",
   "pygments_lexer": "ipython2",
   "version": "2.7.6"
  }
 },
 "nbformat": 4,
 "nbformat_minor": 0
}