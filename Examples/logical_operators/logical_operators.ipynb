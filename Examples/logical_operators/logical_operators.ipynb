{
 "cells": [
  {
   "cell_type": "markdown",
   "metadata": {
    "collapsed": true,
    "pycharm": {
     "name": "#%% md\n"
    }
   },
   "source": [
    "The data_algebra uses Python's parser, which short-circuits what it sees as logical operators. Because of\n",
    "this it is always wrong it use \"and\" or \"or\" in a data_algebra pipleline.\n",
    "\n",
    "Notice the second term is lost in the following expression."
   ]
  },
  {
   "cell_type": "code",
   "execution_count": 4,
   "outputs": [
    {
     "name": "stdout",
     "output_type": "stream",
     "text": [
      "TableDescription(\n",
      " table_name='d',\n",
      " column_names=[\n",
      "   'ID', 'OP']) .\\\n",
      "   select_rows('ID == 3')\n"
     ]
    }
   ],
   "source": [
    "\n",
    "import pandas\n",
    "\n",
    "from data_algebra.data_ops import *\n",
    "\n",
    "# some example data\n",
    "d = pandas.DataFrame({\n",
    "    'ID': [1, 1, 2, 3, 4, 4, 4, 4, 5, 5, 6],\n",
    "    'OP': ['A', 'B', 'A', 'D', 'C', 'A', 'D', 'B', 'A', 'B', 'B'],\n",
    "})\n",
    "\n",
    "# this get shortned to (ID == 3) as\n",
    "# or short-circuit keeps the first argument as it is \"truthy\"\n",
    "# can't override: https://stackoverflow.com/questions/471546/any-way-to-override-the-and-operator-in-python\n",
    "# and using falseness would just move the problem to and\n",
    "\n",
    "ops = describe_table(d, table_name='d'). \\\n",
    "    select_rows('(ID == 3) or (ID == 4)')\n",
    "\n",
    "print(ops)"
   ],
   "metadata": {
    "collapsed": false,
    "pycharm": {
     "name": "#%%\n"
    }
   }
  },
  {
   "cell_type": "markdown",
   "source": [
    "The supported way to combine logical operations\n",
    "in the data algebra is with the `|` for vectorized logical\n",
    "or or `&` for vectorized logical and as follows."
   ],
   "metadata": {
    "collapsed": false,
    "pycharm": {
     "name": "#%% md\n"
    }
   }
  },
  {
   "cell_type": "code",
   "execution_count": 5,
   "outputs": [
    {
     "data": {
      "text/plain": "TableDescription(\n table_name='d',\n column_names=[\n   'ID', 'OP']) .\\\n   select_rows('(ID == 3) | (ID == 4)')"
     },
     "execution_count": 5,
     "metadata": {},
     "output_type": "execute_result"
    }
   ],
   "source": [
    "ops = describe_table(d, table_name='d'). \\\n",
    "    select_rows('(ID == 3) | (ID == 4)')\n",
    "\n",
    "ops"
   ],
   "metadata": {
    "collapsed": false,
    "pycharm": {
     "name": "#%%\n"
    }
   }
  },
  {
   "cell_type": "code",
   "execution_count": 6,
   "outputs": [
    {
     "data": {
      "text/plain": "   ID OP\n0   3  D\n1   4  C\n2   4  A\n3   4  D\n4   4  B",
      "text/html": "<div>\n<style scoped>\n    .dataframe tbody tr th:only-of-type {\n        vertical-align: middle;\n    }\n\n    .dataframe tbody tr th {\n        vertical-align: top;\n    }\n\n    .dataframe thead th {\n        text-align: right;\n    }\n</style>\n<table border=\"1\" class=\"dataframe\">\n  <thead>\n    <tr style=\"text-align: right;\">\n      <th></th>\n      <th>ID</th>\n      <th>OP</th>\n    </tr>\n  </thead>\n  <tbody>\n    <tr>\n      <th>0</th>\n      <td>3</td>\n      <td>D</td>\n    </tr>\n    <tr>\n      <th>1</th>\n      <td>4</td>\n      <td>C</td>\n    </tr>\n    <tr>\n      <th>2</th>\n      <td>4</td>\n      <td>A</td>\n    </tr>\n    <tr>\n      <th>3</th>\n      <td>4</td>\n      <td>D</td>\n    </tr>\n    <tr>\n      <th>4</th>\n      <td>4</td>\n      <td>B</td>\n    </tr>\n  </tbody>\n</table>\n</div>"
     },
     "execution_count": 6,
     "metadata": {},
     "output_type": "execute_result"
    }
   ],
   "source": [
    "ops.transform(d)"
   ],
   "metadata": {
    "collapsed": false,
    "pycharm": {
     "name": "#%%\n"
    }
   }
  },
  {
   "cell_type": "markdown",
   "source": [
    "\"not\" has to be specified with `x == False`.\n",
    "\n",
    "TODO: show \"is in\" and also SQL paths.\n"
   ],
   "metadata": {
    "collapsed": false,
    "pycharm": {
     "name": "#%% md\n"
    }
   }
  }
 ],
 "metadata": {
  "kernelspec": {
   "display_name": "Python 3",
   "language": "python",
   "name": "python3"
  },
  "language_info": {
   "codemirror_mode": {
    "name": "ipython",
    "version": 2
   },
   "file_extension": ".py",
   "mimetype": "text/x-python",
   "name": "python",
   "nbconvert_exporter": "python",
   "pygments_lexer": "ipython2",
   "version": "2.7.6"
  }
 },
 "nbformat": 4,
 "nbformat_minor": 0
}