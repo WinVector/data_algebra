{
 "cells": [
  {
   "cell_type": "code",
   "execution_count": 1,
   "metadata": {
    "collapsed": true
   },
   "outputs": [
    {
     "data": {
      "text/plain": "  group  c1  c2\n0     A   1  -1\n1     B   2  -2\n2  None   3  -3\n3     A   4  -4\n4   NaN   5  -5\n5     C   6  -6",
      "text/html": "<div>\n<style scoped>\n    .dataframe tbody tr th:only-of-type {\n        vertical-align: middle;\n    }\n\n    .dataframe tbody tr th {\n        vertical-align: top;\n    }\n\n    .dataframe thead th {\n        text-align: right;\n    }\n</style>\n<table border=\"1\" class=\"dataframe\">\n  <thead>\n    <tr style=\"text-align: right;\">\n      <th></th>\n      <th>group</th>\n      <th>c1</th>\n      <th>c2</th>\n    </tr>\n  </thead>\n  <tbody>\n    <tr>\n      <th>0</th>\n      <td>A</td>\n      <td>1</td>\n      <td>-1</td>\n    </tr>\n    <tr>\n      <th>1</th>\n      <td>B</td>\n      <td>2</td>\n      <td>-2</td>\n    </tr>\n    <tr>\n      <th>2</th>\n      <td>None</td>\n      <td>3</td>\n      <td>-3</td>\n    </tr>\n    <tr>\n      <th>3</th>\n      <td>A</td>\n      <td>4</td>\n      <td>-4</td>\n    </tr>\n    <tr>\n      <th>4</th>\n      <td>NaN</td>\n      <td>5</td>\n      <td>-5</td>\n    </tr>\n    <tr>\n      <th>5</th>\n      <td>C</td>\n      <td>6</td>\n      <td>-6</td>\n    </tr>\n  </tbody>\n</table>\n</div>"
     },
     "execution_count": 1,
     "metadata": {},
     "output_type": "execute_result"
    }
   ],
   "source": [
    "\n",
    "import sqlite3\n",
    "\n",
    "import numpy\n",
    "import pandas\n",
    "\n",
    "from data_algebra.data_ops import *\n",
    "import data_algebra.SQLite\n",
    "\n",
    "db_model = data_algebra.SQLite.SQLiteModel()\n",
    "\n",
    "# some example data\n",
    "d = pandas.DataFrame({\n",
    "    'group': ['A', 'B', None, 'A', numpy.NAN, 'C'],\n",
    "    'c1': [1, 2, 3, 4, 5, 6],\n",
    "    'c2': [-1, -2, -3, -4, -5, -6],\n",
    "    })\n",
    "\n",
    "d"
   ]
  },
  {
   "cell_type": "code",
   "execution_count": 2,
   "outputs": [
    {
     "name": "stdout",
     "output_type": "stream",
     "text": [
      "TableDescription(\n",
      " table_name='d',\n",
      " column_names=[\n",
      "   'group', 'c1', 'c2']) .\\\n",
      "   extend({\n",
      "    'choice': \"group == 'A'\"}) .\\\n",
      "   extend({\n",
      "    'choice_fixed': 'choice.is_bad().if_else(0, choice)'}) .\\\n",
      "   extend({\n",
      "    'rc': 'choice_fixed.if_else(c1, c2)'})\n"
     ]
    }
   ],
   "source": [
    "ops = describe_table(d, table_name='d'). \\\n",
    "    extend({'choice': \"group=='A'\"}). \\\n",
    "    extend({'choice_fixed': 'choice.is_bad().if_else(0, choice)'}). \\\n",
    "    extend({'rc': 'choice_fixed.if_else(c1, c2)'})\n",
    "\n",
    "print(ops)"
   ],
   "metadata": {
    "collapsed": false,
    "pycharm": {
     "name": "#%%\n"
    }
   }
  },
  {
   "cell_type": "code",
   "execution_count": 3,
   "outputs": [
    {
     "data": {
      "text/plain": "  group  c1  c2  choice  choice_fixed  rc\n0     A   1  -1    True             1   1\n1     B   2  -2   False             0  -2\n2  None   3  -3   False             0  -3\n3     A   4  -4    True             1   4\n4   NaN   5  -5   False             0  -5\n5     C   6  -6   False             0  -6",
      "text/html": "<div>\n<style scoped>\n    .dataframe tbody tr th:only-of-type {\n        vertical-align: middle;\n    }\n\n    .dataframe tbody tr th {\n        vertical-align: top;\n    }\n\n    .dataframe thead th {\n        text-align: right;\n    }\n</style>\n<table border=\"1\" class=\"dataframe\">\n  <thead>\n    <tr style=\"text-align: right;\">\n      <th></th>\n      <th>group</th>\n      <th>c1</th>\n      <th>c2</th>\n      <th>choice</th>\n      <th>choice_fixed</th>\n      <th>rc</th>\n    </tr>\n  </thead>\n  <tbody>\n    <tr>\n      <th>0</th>\n      <td>A</td>\n      <td>1</td>\n      <td>-1</td>\n      <td>True</td>\n      <td>1</td>\n      <td>1</td>\n    </tr>\n    <tr>\n      <th>1</th>\n      <td>B</td>\n      <td>2</td>\n      <td>-2</td>\n      <td>False</td>\n      <td>0</td>\n      <td>-2</td>\n    </tr>\n    <tr>\n      <th>2</th>\n      <td>None</td>\n      <td>3</td>\n      <td>-3</td>\n      <td>False</td>\n      <td>0</td>\n      <td>-3</td>\n    </tr>\n    <tr>\n      <th>3</th>\n      <td>A</td>\n      <td>4</td>\n      <td>-4</td>\n      <td>True</td>\n      <td>1</td>\n      <td>4</td>\n    </tr>\n    <tr>\n      <th>4</th>\n      <td>NaN</td>\n      <td>5</td>\n      <td>-5</td>\n      <td>False</td>\n      <td>0</td>\n      <td>-5</td>\n    </tr>\n    <tr>\n      <th>5</th>\n      <td>C</td>\n      <td>6</td>\n      <td>-6</td>\n      <td>False</td>\n      <td>0</td>\n      <td>-6</td>\n    </tr>\n  </tbody>\n</table>\n</div>"
     },
     "execution_count": 3,
     "metadata": {},
     "output_type": "execute_result"
    }
   ],
   "source": [
    "ops.transform(d)"
   ],
   "metadata": {
    "collapsed": false,
    "pycharm": {
     "name": "#%%\n"
    }
   }
  },
  {
   "cell_type": "markdown",
   "source": [
    "We can do the same thing in sql, take care of the different\n",
    "compare to None semantics!"
   ],
   "metadata": {
    "collapsed": false,
    "pycharm": {
     "name": "#%% md\n"
    }
   }
  },
  {
   "cell_type": "code",
   "execution_count": 4,
   "outputs": [
    {
     "name": "stdout",
     "output_type": "stream",
     "text": [
      "SELECT CASE\n",
      "           WHEN \"choice_fixed\" THEN \"c1\"\n",
      "           WHEN NOT \"choice_fixed\" THEN \"c2\"\n",
      "           ELSE NULL\n",
      "       END AS \"rc\",\n",
      "       \"group\",\n",
      "       \"choice_fixed\",\n",
      "       \"c2\",\n",
      "       \"choice\",\n",
      "       \"c1\"\n",
      "FROM\n",
      "  (SELECT \"group\",\n",
      "          CASE\n",
      "              WHEN is_bad(\"choice\") THEN 0\n",
      "              WHEN NOT is_bad(\"choice\") THEN \"choice\"\n",
      "              ELSE NULL\n",
      "          END AS \"choice_fixed\",\n",
      "          \"c2\",\n",
      "          \"choice\",\n",
      "          \"c1\"\n",
      "   FROM\n",
      "     (SELECT \"group\",\n",
      "             \"c2\",\n",
      "             \"group\" = 'A' AS \"choice\",\n",
      "             \"c1\"\n",
      "      FROM \"d\") \"extend_1\") \"extend_2\"\n"
     ]
    }
   ],
   "source": [
    "db_model = data_algebra.SQLite.SQLiteModel()\n",
    "\n",
    "sql = ops.to_sql(db_model, pretty=True)\n",
    "\n",
    "print(sql)"
   ],
   "metadata": {
    "collapsed": false,
    "pycharm": {
     "name": "#%%\n"
    }
   }
  },
  {
   "cell_type": "code",
   "execution_count": 5,
   "outputs": [
    {
     "name": "stdout",
     "output_type": "stream",
     "text": [
      "   rc group  choice_fixed  c2  choice  c1\n",
      "0   1     A             1  -1     1.0   1\n",
      "1  -2     B             0  -2     0.0   2\n",
      "2  -3  None             0  -3     NaN   3\n",
      "3   4     A             1  -4     1.0   4\n",
      "4  -5  None             0  -5     NaN   5\n",
      "5  -6     C             0  -6     0.0   6\n"
     ]
    }
   ],
   "source": [
    "\n",
    "with sqlite3.connect(':memory:') as con:\n",
    "    db_model.prepare_connection(con)\n",
    "    d.to_sql(name='d', con=con)\n",
    "    print(pandas.read_sql(sql, con=con))\n",
    "\n"
   ],
   "metadata": {
    "collapsed": false,
    "pycharm": {
     "name": "#%%\n"
    }
   }
  }
 ],
 "metadata": {
  "kernelspec": {
   "display_name": "Python 3",
   "language": "python",
   "name": "python3"
  },
  "language_info": {
   "codemirror_mode": {
    "name": "ipython",
    "version": 2
   },
   "file_extension": ".py",
   "mimetype": "text/x-python",
   "name": "python",
   "nbconvert_exporter": "python",
   "pygments_lexer": "ipython2",
   "version": "2.7.6"
  }
 },
 "nbformat": 4,
 "nbformat_minor": 0
}