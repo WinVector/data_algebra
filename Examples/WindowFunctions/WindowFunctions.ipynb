{
 "cells": [
  {
   "cell_type": "markdown",
   "metadata": {},
   "source": [
    "The [data_algebra](https://github.com/WinVector/data_algebra) provides a simplified (though verbose) unified interface to Pandas and SQL windows functions.\n",
    "\n",
    "Let's work an example. First bring in our packages."
   ]
  },
  {
   "cell_type": "code",
   "execution_count": 1,
   "metadata": {
    "pycharm": {
     "is_executing": false
    }
   },
   "outputs": [],
   "source": [
    "import sqlite3\n",
    "import pandas\n",
    "\n",
    "from data_algebra.data_ops import *  # https://github.com/WinVector/data_algebra\n",
    "import data_algebra.util\n",
    "import data_algebra.SQLite"
   ]
  },
  {
   "cell_type": "markdown",
   "metadata": {},
   "source": [
    "Now some example data."
   ]
  },
  {
   "cell_type": "code",
   "execution_count": 2,
   "metadata": {
    "pycharm": {
     "is_executing": false
    }
   },
   "outputs": [],
   "source": [
    "d = pandas.DataFrame({\n",
    "    'g': [1, 2, 2, 3, 3, 3],\n",
    "    'x': [1, 4, 5, 7, 8, 9],\n",
    "    'v': [10, 40, 50, 70, 80, 90],\n",
    "})"
   ]
  },
  {
   "cell_type": "markdown",
   "metadata": {},
   "source": [
    "And we can run a number of ordered and un-ordered window functions (the distinction is given by if ther is an `order_by` argument present)."
   ]
  },
  {
   "cell_type": "code",
   "execution_count": 3,
   "metadata": {
    "pycharm": {
     "is_executing": false
    }
   },
   "outputs": [
    {
     "data": {
      "text/html": [
       "<div>\n",
       "<style scoped>\n",
       "    .dataframe tbody tr th:only-of-type {\n",
       "        vertical-align: middle;\n",
       "    }\n",
       "\n",
       "    .dataframe tbody tr th {\n",
       "        vertical-align: top;\n",
       "    }\n",
       "\n",
       "    .dataframe thead th {\n",
       "        text-align: right;\n",
       "    }\n",
       "</style>\n",
       "<table border=\"1\" class=\"dataframe\">\n",
       "  <thead>\n",
       "    <tr style=\"text-align: right;\">\n",
       "      <th></th>\n",
       "      <th>g</th>\n",
       "      <th>x</th>\n",
       "      <th>v</th>\n",
       "      <th>row_number</th>\n",
       "      <th>shift_v</th>\n",
       "      <th>ngroup</th>\n",
       "      <th>size</th>\n",
       "      <th>max_v</th>\n",
       "      <th>min_v</th>\n",
       "      <th>sum_v</th>\n",
       "      <th>mean_v</th>\n",
       "      <th>count_v</th>\n",
       "      <th>size_v</th>\n",
       "    </tr>\n",
       "  </thead>\n",
       "  <tbody>\n",
       "    <tr>\n",
       "      <th>0</th>\n",
       "      <td>1</td>\n",
       "      <td>1</td>\n",
       "      <td>10</td>\n",
       "      <td>1</td>\n",
       "      <td>NaN</td>\n",
       "      <td>0</td>\n",
       "      <td>1</td>\n",
       "      <td>10</td>\n",
       "      <td>10</td>\n",
       "      <td>10</td>\n",
       "      <td>10</td>\n",
       "      <td>1</td>\n",
       "      <td>1</td>\n",
       "    </tr>\n",
       "    <tr>\n",
       "      <th>1</th>\n",
       "      <td>2</td>\n",
       "      <td>4</td>\n",
       "      <td>40</td>\n",
       "      <td>1</td>\n",
       "      <td>NaN</td>\n",
       "      <td>1</td>\n",
       "      <td>2</td>\n",
       "      <td>50</td>\n",
       "      <td>40</td>\n",
       "      <td>90</td>\n",
       "      <td>45</td>\n",
       "      <td>2</td>\n",
       "      <td>2</td>\n",
       "    </tr>\n",
       "    <tr>\n",
       "      <th>2</th>\n",
       "      <td>2</td>\n",
       "      <td>5</td>\n",
       "      <td>50</td>\n",
       "      <td>2</td>\n",
       "      <td>40.0</td>\n",
       "      <td>1</td>\n",
       "      <td>2</td>\n",
       "      <td>50</td>\n",
       "      <td>40</td>\n",
       "      <td>90</td>\n",
       "      <td>45</td>\n",
       "      <td>2</td>\n",
       "      <td>2</td>\n",
       "    </tr>\n",
       "    <tr>\n",
       "      <th>3</th>\n",
       "      <td>3</td>\n",
       "      <td>7</td>\n",
       "      <td>70</td>\n",
       "      <td>1</td>\n",
       "      <td>NaN</td>\n",
       "      <td>2</td>\n",
       "      <td>3</td>\n",
       "      <td>90</td>\n",
       "      <td>70</td>\n",
       "      <td>240</td>\n",
       "      <td>80</td>\n",
       "      <td>3</td>\n",
       "      <td>3</td>\n",
       "    </tr>\n",
       "    <tr>\n",
       "      <th>4</th>\n",
       "      <td>3</td>\n",
       "      <td>8</td>\n",
       "      <td>80</td>\n",
       "      <td>2</td>\n",
       "      <td>70.0</td>\n",
       "      <td>2</td>\n",
       "      <td>3</td>\n",
       "      <td>90</td>\n",
       "      <td>70</td>\n",
       "      <td>240</td>\n",
       "      <td>80</td>\n",
       "      <td>3</td>\n",
       "      <td>3</td>\n",
       "    </tr>\n",
       "    <tr>\n",
       "      <th>5</th>\n",
       "      <td>3</td>\n",
       "      <td>9</td>\n",
       "      <td>90</td>\n",
       "      <td>3</td>\n",
       "      <td>80.0</td>\n",
       "      <td>2</td>\n",
       "      <td>3</td>\n",
       "      <td>90</td>\n",
       "      <td>70</td>\n",
       "      <td>240</td>\n",
       "      <td>80</td>\n",
       "      <td>3</td>\n",
       "      <td>3</td>\n",
       "    </tr>\n",
       "  </tbody>\n",
       "</table>\n",
       "</div>"
      ],
      "text/plain": [
       "   g  x   v  row_number  shift_v  ngroup  size  max_v  min_v  sum_v  mean_v  \\\n",
       "0  1  1  10           1      NaN       0     1     10     10     10      10   \n",
       "1  2  4  40           1      NaN       1     2     50     40     90      45   \n",
       "2  2  5  50           2     40.0       1     2     50     40     90      45   \n",
       "3  3  7  70           1      NaN       2     3     90     70    240      80   \n",
       "4  3  8  80           2     70.0       2     3     90     70    240      80   \n",
       "5  3  9  90           3     80.0       2     3     90     70    240      80   \n",
       "\n",
       "   count_v  size_v  \n",
       "0        1       1  \n",
       "1        2       2  \n",
       "2        2       2  \n",
       "3        3       3  \n",
       "4        3       3  \n",
       "5        3       3  "
      ]
     },
     "execution_count": 3,
     "metadata": {},
     "output_type": "execute_result"
    }
   ],
   "source": [
    "table_desciption = describe_table(d)\n",
    "\n",
    "ops = table_desciption. \\\n",
    "    extend({\n",
    "        'row_number': '_row_number()',\n",
    "        'shift_v': 'v.shift()',\n",
    "    },\n",
    "    order_by=['x'],\n",
    "    partition_by=['g']). \\\n",
    "    extend({\n",
    "        'ngroup': '_ngroup()',\n",
    "        'size': '_size()',\n",
    "        'max_v': 'v.max()',\n",
    "        'min_v': 'v.min()',\n",
    "        'sum_v': 'v.sum()',\n",
    "        'mean_v': 'v.mean()',\n",
    "        'count_v': 'v.count()',\n",
    "        'size_v': 'v.size()',\n",
    "    },\n",
    "    partition_by=['g'])\n",
    "\n",
    "res1 = ops.transform(d)\n",
    "\n",
    "res1"
   ]
  },
  {
   "cell_type": "markdown",
   "metadata": {},
   "source": [
    "One of the benefits of the data_algebra is the commands are saved in an object."
   ]
  },
  {
   "cell_type": "code",
   "execution_count": 4,
   "metadata": {
    "pycharm": {
     "is_executing": false
    }
   },
   "outputs": [
    {
     "name": "stdout",
     "output_type": "stream",
     "text": [
      "TableDescription(table_name=\"data_frame\", column_names=[\"g\", \"x\", \"v\"]\n",
      ").extend(\n",
      "    {\"row_number\": \"_row_number()\", \"shift_v\": \"v.shift()\"},\n",
      "    partition_by=[\"g\"],\n",
      "    order_by=[\"x\"],\n",
      ").extend(\n",
      "    {\n",
      "        \"ngroup\": \"_ngroup()\",\n",
      "        \"size\": \"_size()\",\n",
      "        \"max_v\": \"v.max()\",\n",
      "        \"min_v\": \"v.min()\",\n",
      "        \"sum_v\": \"v.sum()\",\n",
      "        \"mean_v\": \"v.mean()\",\n",
      "        \"count_v\": \"v.count()\",\n",
      "        \"size_v\": \"v.size()\",\n",
      "    },\n",
      "    partition_by=[\"g\"],\n",
      ")\n",
      "\n"
     ]
    }
   ],
   "source": [
    "print(ops.to_python(pretty=True))"
   ]
  },
  {
   "cell_type": "markdown",
   "metadata": {},
   "source": [
    "And thiese commands can be re-used and even exported to SQL (including large scale SQL such as PostgreSQL, Apache Spark, or Google Big Query).\n",
    "\n",
    "For a simple demonstration we will use small-scale SQL as realized in SQLite."
   ]
  },
  {
   "cell_type": "code",
   "execution_count": 5,
   "metadata": {
    "pycharm": {
     "is_executing": false
    }
   },
   "outputs": [
    {
     "name": "stdout",
     "output_type": "stream",
     "text": [
      "SELECT \"g\",\n",
      "       \"x\",\n",
      "       \"v\",\n",
      "       \"row_number\",\n",
      "       \"shift_v\",\n",
      "       SUM(1) OVER (PARTITION BY \"g\") AS \"size\",\n",
      "                   MAX(\"v\") OVER (PARTITION BY \"g\") AS \"max_v\",\n",
      "                                 MIN(\"v\") OVER (PARTITION BY \"g\") AS \"min_v\",\n",
      "                                               SUM(\"v\") OVER (PARTITION BY \"g\") AS \"sum_v\",\n",
      "                                                             avg(\"v\") OVER (PARTITION BY \"g\") AS \"mean_v\",\n",
      "                                                                           COUNT(\"v\") OVER (PARTITION BY \"g\") AS \"count_v\",\n",
      "                                                                                           SUM(1) OVER (PARTITION BY \"g\") AS \"size_v\"\n",
      "FROM\n",
      "  (SELECT \"g\",\n",
      "          \"x\",\n",
      "          \"v\",\n",
      "          ROW_NUMBER() OVER (PARTITION BY \"g\"\n",
      "                             ORDER BY \"x\") AS \"row_number\",\n",
      "                            LAG(\"v\") OVER (PARTITION BY \"g\"\n",
      "                                           ORDER BY \"x\") AS \"shift_v\"\n",
      "   FROM (\"data_frame\") \"SQ_0\") \"SQ_1\"\n"
     ]
    }
   ],
   "source": [
    "conn = sqlite3.connect(\":memory:\")\n",
    "db_model = data_algebra.SQLite.SQLiteModel()\n",
    "db_model.prepare_connection(conn)\n",
    "\n",
    "ops_db = table_desciption. \\\n",
    "    extend({\n",
    "        'row_number': '_row_number()',\n",
    "        'shift_v': 'v.shift()',\n",
    "    },\n",
    "    order_by=['x'],\n",
    "    partition_by=['g']). \\\n",
    "    extend({\n",
    "        # 'ngroup': '_ngroup()',\n",
    "        'size': '_size()',\n",
    "        'max_v': 'v.max()',\n",
    "        'min_v': 'v.min()',\n",
    "        'sum_v': 'v.sum()',\n",
    "        'mean_v': 'v.mean()',\n",
    "        'count_v': 'v.count()',\n",
    "        'size_v': 'v.size()',\n",
    "    },\n",
    "    partition_by=['g'])\n",
    "\n",
    "db_model.insert_table(conn, d, table_desciption.table_name)\n",
    "sql1 = ops_db.to_sql(db_model, pretty=True)\n",
    "\n",
    "print(sql1)"
   ]
  },
  {
   "cell_type": "markdown",
   "metadata": {},
   "source": [
    "And we can execute this SQL either to materialize a remote result (which involves no data motion, as we send the SQL commands to the database, not move the data to/from Python), or to bring a result back from the database to Python."
   ]
  },
  {
   "cell_type": "code",
   "execution_count": 6,
   "metadata": {
    "pycharm": {
     "is_executing": false
    }
   },
   "outputs": [
    {
     "data": {
      "text/html": [
       "<div>\n",
       "<style scoped>\n",
       "    .dataframe tbody tr th:only-of-type {\n",
       "        vertical-align: middle;\n",
       "    }\n",
       "\n",
       "    .dataframe tbody tr th {\n",
       "        vertical-align: top;\n",
       "    }\n",
       "\n",
       "    .dataframe thead th {\n",
       "        text-align: right;\n",
       "    }\n",
       "</style>\n",
       "<table border=\"1\" class=\"dataframe\">\n",
       "  <thead>\n",
       "    <tr style=\"text-align: right;\">\n",
       "      <th></th>\n",
       "      <th>g</th>\n",
       "      <th>x</th>\n",
       "      <th>v</th>\n",
       "      <th>row_number</th>\n",
       "      <th>shift_v</th>\n",
       "      <th>size</th>\n",
       "      <th>max_v</th>\n",
       "      <th>min_v</th>\n",
       "      <th>sum_v</th>\n",
       "      <th>mean_v</th>\n",
       "      <th>count_v</th>\n",
       "      <th>size_v</th>\n",
       "    </tr>\n",
       "  </thead>\n",
       "  <tbody>\n",
       "    <tr>\n",
       "      <th>0</th>\n",
       "      <td>1</td>\n",
       "      <td>1</td>\n",
       "      <td>10</td>\n",
       "      <td>1</td>\n",
       "      <td>NaN</td>\n",
       "      <td>1</td>\n",
       "      <td>10</td>\n",
       "      <td>10</td>\n",
       "      <td>10</td>\n",
       "      <td>10.0</td>\n",
       "      <td>1</td>\n",
       "      <td>1</td>\n",
       "    </tr>\n",
       "    <tr>\n",
       "      <th>1</th>\n",
       "      <td>2</td>\n",
       "      <td>4</td>\n",
       "      <td>40</td>\n",
       "      <td>1</td>\n",
       "      <td>NaN</td>\n",
       "      <td>2</td>\n",
       "      <td>50</td>\n",
       "      <td>40</td>\n",
       "      <td>90</td>\n",
       "      <td>45.0</td>\n",
       "      <td>2</td>\n",
       "      <td>2</td>\n",
       "    </tr>\n",
       "    <tr>\n",
       "      <th>2</th>\n",
       "      <td>2</td>\n",
       "      <td>5</td>\n",
       "      <td>50</td>\n",
       "      <td>2</td>\n",
       "      <td>40.0</td>\n",
       "      <td>2</td>\n",
       "      <td>50</td>\n",
       "      <td>40</td>\n",
       "      <td>90</td>\n",
       "      <td>45.0</td>\n",
       "      <td>2</td>\n",
       "      <td>2</td>\n",
       "    </tr>\n",
       "    <tr>\n",
       "      <th>3</th>\n",
       "      <td>3</td>\n",
       "      <td>7</td>\n",
       "      <td>70</td>\n",
       "      <td>1</td>\n",
       "      <td>NaN</td>\n",
       "      <td>3</td>\n",
       "      <td>90</td>\n",
       "      <td>70</td>\n",
       "      <td>240</td>\n",
       "      <td>80.0</td>\n",
       "      <td>3</td>\n",
       "      <td>3</td>\n",
       "    </tr>\n",
       "    <tr>\n",
       "      <th>4</th>\n",
       "      <td>3</td>\n",
       "      <td>8</td>\n",
       "      <td>80</td>\n",
       "      <td>2</td>\n",
       "      <td>70.0</td>\n",
       "      <td>3</td>\n",
       "      <td>90</td>\n",
       "      <td>70</td>\n",
       "      <td>240</td>\n",
       "      <td>80.0</td>\n",
       "      <td>3</td>\n",
       "      <td>3</td>\n",
       "    </tr>\n",
       "    <tr>\n",
       "      <th>5</th>\n",
       "      <td>3</td>\n",
       "      <td>9</td>\n",
       "      <td>90</td>\n",
       "      <td>3</td>\n",
       "      <td>80.0</td>\n",
       "      <td>3</td>\n",
       "      <td>90</td>\n",
       "      <td>70</td>\n",
       "      <td>240</td>\n",
       "      <td>80.0</td>\n",
       "      <td>3</td>\n",
       "      <td>3</td>\n",
       "    </tr>\n",
       "  </tbody>\n",
       "</table>\n",
       "</div>"
      ],
      "text/plain": [
       "   g  x   v  row_number  shift_v  size  max_v  min_v  sum_v  mean_v  count_v  \\\n",
       "0  1  1  10           1      NaN     1     10     10     10    10.0        1   \n",
       "1  2  4  40           1      NaN     2     50     40     90    45.0        2   \n",
       "2  2  5  50           2     40.0     2     50     40     90    45.0        2   \n",
       "3  3  7  70           1      NaN     3     90     70    240    80.0        3   \n",
       "4  3  8  80           2     70.0     3     90     70    240    80.0        3   \n",
       "5  3  9  90           3     80.0     3     90     70    240    80.0        3   \n",
       "\n",
       "   size_v  \n",
       "0       1  \n",
       "1       2  \n",
       "2       2  \n",
       "3       3  \n",
       "4       3  \n",
       "5       3  "
      ]
     },
     "execution_count": 6,
     "metadata": {},
     "output_type": "execute_result"
    }
   ],
   "source": [
    "res1_db = db_model.read_query(conn, sql1)\n",
    "\n",
    "res1_db"
   ]
  },
  {
   "cell_type": "markdown",
   "metadata": {},
   "source": [
    "Notice we didn't calculate the group-id `rgroup` in the `SQL` version.  This is because this is a much less common window function (and not often used in applications). This is also only interesting when we are using a composite key (else the single key column is already the per-group id). So not all data_algebra pipelines can run in all environments. However, we can compute (arbitrary) group IDs in a domain independent manner as follows."
   ]
  },
  {
   "cell_type": "code",
   "execution_count": 7,
   "metadata": {
    "pycharm": {
     "is_executing": false
    }
   },
   "outputs": [
    {
     "name": "stdout",
     "output_type": "stream",
     "text": [
      "TableDescription(table_name=\"data_frame\", column_names=[\"g\", \"x\", \"v\"]\n",
      ").natural_join(\n",
      "    b=TableDescription(table_name=\"data_frame\", column_names=[\"g\", \"x\", \"v\"])\n",
      "    .project({}, group_by=[\"g\"])\n",
      "    .extend({\"ngroup\": \"_row_number()\"}, order_by=[\"g\"]),\n",
      "    by=[\"g\"],\n",
      "    jointype=\"LEFT\",\n",
      ")\n",
      "\n"
     ]
    }
   ],
   "source": [
    "id_ops_a = table_desciption. \\\n",
    "    project(group_by=['g']). \\\n",
    "    extend({\n",
    "        'ngroup': '_row_number()',\n",
    "    },\n",
    "    order_by=['g'])\n",
    "\n",
    "id_ops_b = table_desciption. \\\n",
    "    natural_join(id_ops_a, by=['g'], jointype='LEFT')\n",
    "\n",
    "print(id_ops_b.to_python(pretty=True))"
   ]
  },
  {
   "cell_type": "code",
   "execution_count": 8,
   "metadata": {
    "pycharm": {
     "is_executing": false
    }
   },
   "outputs": [
    {
     "data": {
      "text/plain": [
       "<sqlite3.Cursor at 0x322308ea0>"
      ]
     },
     "execution_count": 8,
     "metadata": {},
     "output_type": "execute_result"
    }
   ],
   "source": [
    "sql2 = id_ops_b.to_sql(db_model)\n",
    "\n",
    "cur = conn.cursor()\n",
    "cur.execute('CREATE TABLE remote_result AS ' + sql2)"
   ]
  },
  {
   "cell_type": "code",
   "execution_count": 9,
   "metadata": {
    "pycharm": {
     "is_executing": false
    }
   },
   "outputs": [
    {
     "data": {
      "text/html": [
       "<div>\n",
       "<style scoped>\n",
       "    .dataframe tbody tr th:only-of-type {\n",
       "        vertical-align: middle;\n",
       "    }\n",
       "\n",
       "    .dataframe tbody tr th {\n",
       "        vertical-align: top;\n",
       "    }\n",
       "\n",
       "    .dataframe thead th {\n",
       "        text-align: right;\n",
       "    }\n",
       "</style>\n",
       "<table border=\"1\" class=\"dataframe\">\n",
       "  <thead>\n",
       "    <tr style=\"text-align: right;\">\n",
       "      <th></th>\n",
       "      <th>g</th>\n",
       "      <th>x</th>\n",
       "      <th>v</th>\n",
       "      <th>ngroup</th>\n",
       "    </tr>\n",
       "  </thead>\n",
       "  <tbody>\n",
       "    <tr>\n",
       "      <th>0</th>\n",
       "      <td>1</td>\n",
       "      <td>1</td>\n",
       "      <td>10</td>\n",
       "      <td>1</td>\n",
       "    </tr>\n",
       "    <tr>\n",
       "      <th>1</th>\n",
       "      <td>2</td>\n",
       "      <td>4</td>\n",
       "      <td>40</td>\n",
       "      <td>2</td>\n",
       "    </tr>\n",
       "    <tr>\n",
       "      <th>2</th>\n",
       "      <td>2</td>\n",
       "      <td>5</td>\n",
       "      <td>50</td>\n",
       "      <td>2</td>\n",
       "    </tr>\n",
       "    <tr>\n",
       "      <th>3</th>\n",
       "      <td>3</td>\n",
       "      <td>7</td>\n",
       "      <td>70</td>\n",
       "      <td>3</td>\n",
       "    </tr>\n",
       "    <tr>\n",
       "      <th>4</th>\n",
       "      <td>3</td>\n",
       "      <td>8</td>\n",
       "      <td>80</td>\n",
       "      <td>3</td>\n",
       "    </tr>\n",
       "    <tr>\n",
       "      <th>5</th>\n",
       "      <td>3</td>\n",
       "      <td>9</td>\n",
       "      <td>90</td>\n",
       "      <td>3</td>\n",
       "    </tr>\n",
       "  </tbody>\n",
       "</table>\n",
       "</div>"
      ],
      "text/plain": [
       "   g  x   v  ngroup\n",
       "0  1  1  10       1\n",
       "1  2  4  40       2\n",
       "2  2  5  50       2\n",
       "3  3  7  70       3\n",
       "4  3  8  80       3\n",
       "5  3  9  90       3"
      ]
     },
     "execution_count": 9,
     "metadata": {},
     "output_type": "execute_result"
    }
   ],
   "source": [
    "res2_db = db_model.read_table(conn, 'remote_result')\n",
    "\n",
    "res2_db"
   ]
  },
  {
   "cell_type": "code",
   "execution_count": 10,
   "metadata": {
    "pycharm": {
     "is_executing": false
    }
   },
   "outputs": [],
   "source": [
    "# clean up\n",
    "conn.close()"
   ]
  },
  {
   "cell_type": "markdown",
   "metadata": {
    "pycharm": {
     "name": "#%% md\n"
    }
   },
   "source": [
    "And we can execute the same pipeline in Pandas."
   ]
  },
  {
   "cell_type": "code",
   "execution_count": 11,
   "metadata": {
    "collapsed": false,
    "jupyter": {
     "outputs_hidden": false
    },
    "pycharm": {
     "is_executing": false,
     "name": "#%%\n"
    }
   },
   "outputs": [
    {
     "data": {
      "text/html": [
       "<div>\n",
       "<style scoped>\n",
       "    .dataframe tbody tr th:only-of-type {\n",
       "        vertical-align: middle;\n",
       "    }\n",
       "\n",
       "    .dataframe tbody tr th {\n",
       "        vertical-align: top;\n",
       "    }\n",
       "\n",
       "    .dataframe thead th {\n",
       "        text-align: right;\n",
       "    }\n",
       "</style>\n",
       "<table border=\"1\" class=\"dataframe\">\n",
       "  <thead>\n",
       "    <tr style=\"text-align: right;\">\n",
       "      <th></th>\n",
       "      <th>g</th>\n",
       "      <th>x</th>\n",
       "      <th>v</th>\n",
       "      <th>ngroup</th>\n",
       "    </tr>\n",
       "  </thead>\n",
       "  <tbody>\n",
       "    <tr>\n",
       "      <th>0</th>\n",
       "      <td>1</td>\n",
       "      <td>1</td>\n",
       "      <td>10</td>\n",
       "      <td>1</td>\n",
       "    </tr>\n",
       "    <tr>\n",
       "      <th>1</th>\n",
       "      <td>2</td>\n",
       "      <td>4</td>\n",
       "      <td>40</td>\n",
       "      <td>2</td>\n",
       "    </tr>\n",
       "    <tr>\n",
       "      <th>2</th>\n",
       "      <td>2</td>\n",
       "      <td>5</td>\n",
       "      <td>50</td>\n",
       "      <td>2</td>\n",
       "    </tr>\n",
       "    <tr>\n",
       "      <th>3</th>\n",
       "      <td>3</td>\n",
       "      <td>7</td>\n",
       "      <td>70</td>\n",
       "      <td>3</td>\n",
       "    </tr>\n",
       "    <tr>\n",
       "      <th>4</th>\n",
       "      <td>3</td>\n",
       "      <td>8</td>\n",
       "      <td>80</td>\n",
       "      <td>3</td>\n",
       "    </tr>\n",
       "    <tr>\n",
       "      <th>5</th>\n",
       "      <td>3</td>\n",
       "      <td>9</td>\n",
       "      <td>90</td>\n",
       "      <td>3</td>\n",
       "    </tr>\n",
       "  </tbody>\n",
       "</table>\n",
       "</div>"
      ],
      "text/plain": [
       "   g  x   v  ngroup\n",
       "0  1  1  10       1\n",
       "1  2  4  40       2\n",
       "2  2  5  50       2\n",
       "3  3  7  70       3\n",
       "4  3  8  80       3\n",
       "5  3  9  90       3"
      ]
     },
     "execution_count": 11,
     "metadata": {},
     "output_type": "execute_result"
    }
   ],
   "source": [
    "id_ops_b.transform(d)"
   ]
  },
  {
   "cell_type": "markdown",
   "metadata": {},
   "source": [
    "And we can diagram the group labeling operation."
   ]
  },
  {
   "cell_type": "code",
   "execution_count": 12,
   "metadata": {},
   "outputs": [
    {
     "data": {
      "image/svg+xml": [
       "<?xml version=\"1.0\" encoding=\"UTF-8\" standalone=\"no\"?>\n",
       "<!DOCTYPE svg PUBLIC \"-//W3C//DTD SVG 1.1//EN\"\n",
       " \"http://www.w3.org/Graphics/SVG/1.1/DTD/svg11.dtd\">\n",
       "<!-- Generated by graphviz version 2.40.1 (20161225.0304)\n",
       " -->\n",
       "<!-- Title: %3 Pages: 1 -->\n",
       "<svg width=\"494pt\" height=\"308pt\"\n",
       " viewBox=\"0.00 0.00 494.00 308.00\" xmlns=\"http://www.w3.org/2000/svg\" xmlns:xlink=\"http://www.w3.org/1999/xlink\">\n",
       "<g id=\"graph0\" class=\"graph\" transform=\"scale(1 1) rotate(0) translate(4 304)\">\n",
       "<title>%3</title>\n",
       "<polygon fill=\"#ffffff\" stroke=\"transparent\" points=\"-4,4 -4,-304 490,-304 490,4 -4,4\"/>\n",
       "<!-- 0 -->\n",
       "<g id=\"node1\" class=\"node\">\n",
       "<title>0</title>\n",
       "<polygon fill=\"none\" stroke=\"#0000ff\" points=\"486,-300 483,-304 462,-304 459,-300 130,-300 130,-247 486,-247 486,-300\"/>\n",
       "<text text-anchor=\"middle\" x=\"308\" y=\"-284.8\" font-family=\"Times,serif\" font-size=\"14.00\" fill=\"#000000\">TableDescription(</text>\n",
       "<text text-anchor=\"middle\" x=\"308\" y=\"-269.8\" font-family=\"Times,serif\" font-size=\"14.00\" fill=\"#000000\"> &#160;&#160;&#160;table_name=&quot;data_frame&quot;, column_names=[&quot;g&quot;, &quot;x&quot;, &quot;v&quot;]</text>\n",
       "<text text-anchor=\"middle\" x=\"308\" y=\"-254.8\" font-family=\"Times,serif\" font-size=\"14.00\" fill=\"#000000\">)</text>\n",
       "</g>\n",
       "<!-- 1 -->\n",
       "<g id=\"node2\" class=\"node\">\n",
       "<title>1</title>\n",
       "<polygon fill=\"none\" stroke=\"#006400\" points=\"303,-210 135,-210 135,-174 309,-174 309,-204 303,-210\"/>\n",
       "<polyline fill=\"none\" stroke=\"#006400\" points=\"303,-210 303,-204 \"/>\n",
       "<polyline fill=\"none\" stroke=\"#006400\" points=\"309,-204 303,-204 \"/>\n",
       "<text text-anchor=\"middle\" x=\"222\" y=\"-188.3\" font-family=\"Times,serif\" font-size=\"14.00\" fill=\"#000000\">project({}, group_by=[&quot;g&quot;])</text>\n",
       "</g>\n",
       "<!-- 0&#45;&gt;1 -->\n",
       "<g id=\"edge1\" class=\"edge\">\n",
       "<title>0&#45;&gt;1</title>\n",
       "<path fill=\"none\" stroke=\"#000000\" d=\"M279.8404,-246.8139C269.769,-237.2695 258.4596,-226.5519 248.5304,-217.1422\"/>\n",
       "<polygon fill=\"#000000\" stroke=\"#000000\" points=\"250.9159,-214.5808 241.2499,-210.2426 246.1008,-219.6617 250.9159,-214.5808\"/>\n",
       "</g>\n",
       "<!-- 3 -->\n",
       "<g id=\"node4\" class=\"node\">\n",
       "<title>3</title>\n",
       "<polygon fill=\"none\" stroke=\"#006400\" points=\"405,-36 109,-36 109,0 411,0 411,-30 405,-36\"/>\n",
       "<polyline fill=\"none\" stroke=\"#006400\" points=\"405,-36 405,-30 \"/>\n",
       "<polyline fill=\"none\" stroke=\"#006400\" points=\"411,-30 405,-30 \"/>\n",
       "<text text-anchor=\"middle\" x=\"260\" y=\"-14.3\" font-family=\"Times,serif\" font-size=\"14.00\" fill=\"#000000\">_0.natural_join(b=_1, by=[&quot;g&quot;], jointype=&quot;LEFT&quot;)</text>\n",
       "</g>\n",
       "<!-- 0&#45;&gt;3 -->\n",
       "<g id=\"edge3\" class=\"edge\">\n",
       "<title>0&#45;&gt;3</title>\n",
       "<path fill=\"none\" stroke=\"#000000\" d=\"M321.0608,-246.9414C337.4748,-209.6177 360.7868,-140.2554 337,-87 328.9704,-69.0228 313.6856,-53.7835 298.8371,-42.2364\"/>\n",
       "<polygon fill=\"#000000\" stroke=\"#000000\" points=\"300.8034,-39.3375 290.6816,-36.2072 296.6421,-44.9663 300.8034,-39.3375\"/>\n",
       "<text text-anchor=\"middle\" x=\"354.5\" y=\"-144.8\" font-family=\"Times,serif\" font-size=\"14.00\" fill=\"#000000\">_0</text>\n",
       "</g>\n",
       "<!-- 2 -->\n",
       "<g id=\"node3\" class=\"node\">\n",
       "<title>2</title>\n",
       "<polygon fill=\"none\" stroke=\"#006400\" points=\"322,-123 0,-123 0,-87 328,-87 328,-117 322,-123\"/>\n",
       "<polyline fill=\"none\" stroke=\"#006400\" points=\"322,-123 322,-117 \"/>\n",
       "<polyline fill=\"none\" stroke=\"#006400\" points=\"328,-117 322,-117 \"/>\n",
       "<text text-anchor=\"middle\" x=\"164\" y=\"-101.3\" font-family=\"Times,serif\" font-size=\"14.00\" fill=\"#000000\">extend({&quot;ngroup&quot;: &quot;_row_number()&quot;}, order_by=[&quot;g&quot;])</text>\n",
       "</g>\n",
       "<!-- 1&#45;&gt;2 -->\n",
       "<g id=\"edge2\" class=\"edge\">\n",
       "<title>1&#45;&gt;2</title>\n",
       "<path fill=\"none\" stroke=\"#000000\" d=\"M209.9824,-173.9735C201.8168,-161.7252 190.8777,-145.3165 181.7177,-131.5766\"/>\n",
       "<polygon fill=\"#000000\" stroke=\"#000000\" points=\"184.4615,-129.3824 176.0022,-123.0034 178.6371,-133.2653 184.4615,-129.3824\"/>\n",
       "</g>\n",
       "<!-- 2&#45;&gt;3 -->\n",
       "<g id=\"edge4\" class=\"edge\">\n",
       "<title>2&#45;&gt;3</title>\n",
       "<path fill=\"none\" stroke=\"#000000\" d=\"M183.8913,-86.9735C197.9216,-74.2586 216.899,-57.0603 232.3936,-43.0183\"/>\n",
       "<polygon fill=\"#000000\" stroke=\"#000000\" points=\"235.0747,-45.3121 240.1342,-36.0034 230.374,-40.1251 235.0747,-45.3121\"/>\n",
       "<text text-anchor=\"middle\" x=\"225.5\" y=\"-57.8\" font-family=\"Times,serif\" font-size=\"14.00\" fill=\"#000000\">_1</text>\n",
       "</g>\n",
       "</g>\n",
       "</svg>\n"
      ],
      "text/plain": [
       "<graphviz.dot.Digraph at 0x3223bc4e0>"
      ]
     },
     "execution_count": 12,
     "metadata": {},
     "output_type": "execute_result"
    }
   ],
   "source": [
    "import graphviz\n",
    "\n",
    "import data_algebra.diagram\n",
    "\n",
    "dot = data_algebra.diagram.to_digraph(id_ops_b)\n",
    "dot"
   ]
  },
  {
   "cell_type": "code",
   "execution_count": null,
   "metadata": {},
   "outputs": [],
   "source": []
  }
 ],
 "metadata": {
  "kernelspec": {
   "display_name": "Python 3",
   "language": "python",
   "name": "python3"
  },
  "language_info": {
   "codemirror_mode": {
    "name": "ipython",
    "version": 3
   },
   "file_extension": ".py",
   "mimetype": "text/x-python",
   "name": "python",
   "nbconvert_exporter": "python",
   "pygments_lexer": "ipython3",
   "version": "3.6.9"
  },
  "pycharm": {
   "stem_cell": {
    "cell_type": "raw",
    "metadata": {
     "collapsed": false
    },
    "source": []
   }
  }
 },
 "nbformat": 4,
 "nbformat_minor": 4
}
