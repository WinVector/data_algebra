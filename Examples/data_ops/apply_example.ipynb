{
 "cells": [
  {
   "cell_type": "code",
   "execution_count": 1,
   "metadata": {
    "collapsed": true,
    "pycharm": {
     "is_executing": false
    }
   },
   "outputs": [
    {
     "traceback": [
      "\u001b[0;31m---------------------------------------------------------------------------\u001b[0m",
      "\u001b[0;31mModuleNotFoundError\u001b[0m                       Traceback (most recent call last)",
      "\u001b[0;32m<ipython-input-1-438dc898fa2f>\u001b[0m in \u001b[0;36m<module>\u001b[0;34m\u001b[0m\n\u001b[1;32m      1\u001b[0m \u001b[0;32mfrom\u001b[0m \u001b[0mpprint\u001b[0m \u001b[0;32mimport\u001b[0m \u001b[0mpprint\u001b[0m\u001b[0;34m\u001b[0m\u001b[0m\n\u001b[0;32m----> 2\u001b[0;31m \u001b[0;32mimport\u001b[0m \u001b[0myaml\u001b[0m\u001b[0;34m\u001b[0m\u001b[0m\n\u001b[0m\u001b[1;32m      3\u001b[0m \u001b[0;34m\u001b[0m\u001b[0m\n\u001b[1;32m      4\u001b[0m \u001b[0;32mfrom\u001b[0m \u001b[0mdata_algebra\u001b[0m\u001b[0;34m.\u001b[0m\u001b[0mdata_ops\u001b[0m \u001b[0;32mimport\u001b[0m \u001b[0;34m*\u001b[0m\u001b[0;34m\u001b[0m\u001b[0m\n\u001b[1;32m      5\u001b[0m \u001b[0;32mimport\u001b[0m \u001b[0mdata_algebra\u001b[0m\u001b[0;34m.\u001b[0m\u001b[0menv\u001b[0m\u001b[0;34m\u001b[0m\u001b[0m\n",
      "\u001b[0;31mModuleNotFoundError\u001b[0m: No module named 'yaml'"
     ],
     "ename": "ModuleNotFoundError",
     "evalue": "No module named 'yaml'",
     "output_type": "error"
    }
   ],
   "source": [
    "from data_algebra.data_ops import *\n",
    "from data_algebra.data_pipe import Locum\n",
    "import data_algebra.yaml\n",
    "\n",
    "data_algebra.yaml.fix_ordered_dict_yaml_rep()\n",
    "data_algebra.env.push_onto_namespace_stack(locals())\n",
    "\n",
    "ops = TableDescription('t1', ['x', 'y']) .\\\n",
    "        extend({'z': 'x / y'})  .\\\n",
    "        select_rows('z >= 0')\n",
    "\n",
    "d = pandas.DataFrame({'x': [-1, 0, 1], 'y': [1, 2, 3]})\n",
    "\n",
    "ops.eval_pandas({'t1': d})\n",
    "\n",
    "ops.transform(d)\n",
    "\n",
    "## maybe:  d >> ops\n",
    "\n",
    "ops2 = Locum() .\\\n",
    "        extend({'z': 'x / y'})  .\\\n",
    "        select_rows('z >= 0')\n",
    "\n",
    "ops2.transform(d)\n",
    "\n",
    "\n",
    "ops3 = Locum('dtab') .\\\n",
    "        extend({'z': 'x / y'})  .\\\n",
    "        select_rows('z >= 0')\n",
    "\n",
    "ops3.transform(d)\n",
    "\n",
    "ops3.eval_pandas({'dtab': d})\n"
   ]
  }
 ],
 "metadata": {
  "language_info": {
   "codemirror_mode": {
    "name": "ipython",
    "version": 2
   },
   "file_extension": ".py",
   "mimetype": "text/x-python",
   "name": "python",
   "nbconvert_exporter": "python",
   "pygments_lexer": "ipython2",
   "version": "2.7.6"
  },
  "kernelspec": {
   "name": "python3",
   "language": "python",
   "display_name": "Python 3"
  },
  "pycharm": {
   "stem_cell": {
    "cell_type": "raw",
    "source": [],
    "metadata": {
     "collapsed": false
    }
   }
  }
 },
 "nbformat": 4,
 "nbformat_minor": 0
}