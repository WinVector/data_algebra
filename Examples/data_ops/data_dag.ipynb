{
 "cells": [
  {
   "cell_type": "code",
   "execution_count": 1,
   "metadata": {
    "collapsed": true,
    "pycharm": {
     "is_executing": false
    }
   },
   "outputs": [
    {
     "name": "stdout",
     "text": [
      "t1 >>\n    Extend({'x': (x + 1)}) >>\n    NaturalJoin(b=t2, by=x, jointype=INNER)\n[OrderedDict([('op', 'TableDescription'), ('table_name', 't1'), ('qualifiers', {}), ('column_names', ['x', 'y'])]), OrderedDict([('op', 'Extend'), ('ops', {'x': '(x + 1)'})]), OrderedDict([('op', 'NaturalJoin'), ('by', 'x'), ('jointype', 'INNER'), ('b', [OrderedDict([('op', 'TableDescription'), ('table_name', 't2'), ('qualifiers', {}), ('column_names', ['x', 'z'])])])])]\n- op: TableDescription\n  table_name: t1\n  qualifiers: {}\n  column_names:\n  - x\n  - y\n- op: Extend\n  ops:\n    x: (x + 1)\n- op: NaturalJoin\n  by: x\n  jointype: INNER\n  b:\n  - op: TableDescription\n    table_name: t2\n    qualifiers: {}\n    column_names:\n    - x\n    - z\n\nt1 >>\n    Extend({'x': (x + 1)}) >>\n    NaturalJoin(b=t2, by=x, jointype=INNER)\n"
     ],
     "output_type": "stream"
    }
   ],
   "source": [
    "from data_algebra.data_ops import *\n",
    "import data_algebra.env\n",
    "\n",
    "_, _1, _2, _get = [None, None, None, lambda x: x] # don't look unbound\n",
    "data_algebra.env.push_onto_namespace_stack(locals())\n",
    "\n",
    "\n",
    "\n",
    "t1 = TableDescription('t1', ['x', 'y'])\n",
    "t2 = TableDescription('t2', ['x', 'z'])\n",
    "\n",
    "ops = t1 >> Extend({'x':'x + 1'}) >> NaturalJoin(b=t2, by='x')\n",
    "print(ops)\n",
    "\n",
    "p = ops.collect_representation()\n",
    "print(p)\n",
    "import yaml\n",
    "dmp = yaml.dump(p)\n",
    "print(dmp)\n",
    "ops_back = data_algebra.data_ops.to_pipeline(yaml.safe_load(dmp))\n",
    "print(ops_back)\n"
   ]
  }
 ],
 "metadata": {
  "language_info": {
   "codemirror_mode": {
    "name": "ipython",
    "version": 2
   },
   "file_extension": ".py",
   "mimetype": "text/x-python",
   "name": "python",
   "nbconvert_exporter": "python",
   "pygments_lexer": "ipython2",
   "version": "2.7.6"
  },
  "kernelspec": {
   "name": "python3",
   "language": "python",
   "display_name": "Python 3"
  },
  "pycharm": {
   "stem_cell": {
    "cell_type": "raw",
    "source": [],
    "metadata": {
     "collapsed": false
    }
   }
  }
 },
 "nbformat": 4,
 "nbformat_minor": 0
}