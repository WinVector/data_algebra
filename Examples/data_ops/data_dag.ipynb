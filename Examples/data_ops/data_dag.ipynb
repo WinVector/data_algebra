{
 "cells": [
  {
   "cell_type": "code",
   "execution_count": 1,
   "metadata": {
    "collapsed": true,
    "pycharm": {
     "is_executing": false
    }
   },
   "outputs": [],
   "source": [
    "from pprint import pprint\n",
    "from data_algebra.data_ops import *\n",
    "import data_algebra.env\n",
    "import data_algebra.yaml\n",
    "import data_algebra.PostgreSQL\n",
    "\n",
    "db_model = data_algebra.PostgreSQL.PostgreSQLModel()\n",
    "\n",
    "_, _1, _2, _get = [None, None, None, lambda x: x] # don't look unbound\n",
    "data_algebra.env.push_onto_namespace_stack(locals())\n",
    "\n",
    "t1 = TableDescription('t1', ['x', 'y'])"
   ]
  },
  {
   "cell_type": "code",
   "execution_count": 2,
   "outputs": [
    {
     "name": "stdout",
     "text": [
      "Table(t1; x, y)\n"
     ],
     "output_type": "stream"
    }
   ],
   "source": [
    "print(t1)"
   ],
   "metadata": {
    "collapsed": false,
    "pycharm": {
     "name": "#%%\n",
     "is_executing": false
    }
   }
  },
  {
   "cell_type": "code",
   "execution_count": 3,
   "outputs": [
    {
     "name": "stdout",
     "text": [
      "SELECT \"x\",\n       \"y\"\nFROM \"t1\"\n"
     ],
     "output_type": "stream"
    }
   ],
   "source": [
    "print(t1.pretty_sql(db_model))\n"
   ],
   "metadata": {
    "collapsed": false,
    "pycharm": {
     "name": "#%%\n",
     "is_executing": false
    }
   }
  },
  {
   "cell_type": "code",
   "execution_count": 4,
   "outputs": [],
   "source": [
    "ops = t1 >> Extend({'v':'x + 1'})"
   ],
   "metadata": {
    "collapsed": false,
    "pycharm": {
     "name": "#%%\n",
     "is_executing": false
    }
   }
  },
  {
   "cell_type": "code",
   "execution_count": 5,
   "outputs": [
    {
     "name": "stdout",
     "text": [
      "Table(t1; x, y) >>\n   Extend({'v': (x + 1)})\n"
     ],
     "output_type": "stream"
    }
   ],
   "source": [
    "print(ops)"
   ],
   "metadata": {
    "collapsed": false,
    "pycharm": {
     "name": "#%%\n",
     "is_executing": false
    }
   }
  },
  {
   "cell_type": "code",
   "execution_count": 6,
   "outputs": [
    {
     "name": "stdout",
     "text": [
      "SELECT \"x\",\n       \"y\",\n       (x + 1) AS \"v\"\nFROM\n  (SELECT \"x\",\n          \"y\"\n   FROM \"t1\") \"SQ_0\"\n"
     ],
     "output_type": "stream"
    }
   ],
   "source": [
    "print(ops.pretty_sql(db_model))"
   ],
   "metadata": {
    "collapsed": false,
    "pycharm": {
     "name": "#%%\n",
     "is_executing": false
    }
   }
  },
  {
   "cell_type": "code",
   "execution_count": 7,
   "outputs": [
    {
     "name": "stdout",
     "text": [
      "Table(t1; x, y) >>\n   Extend({'x': (x + 1)}) >>\n   NaturalJoin(b=(\n      Table(t1; x, y)),\n      by=['x', 'y'], jointype=INNER) >>\n   NaturalJoin(b=(\n      Table(t2; x, z) >>\n         Extend({'f': (x + 1)})),\n      by=['x'], jointype=INNER)\n"
     ],
     "output_type": "stream"
    }
   ],
   "source": [
    "t1b = TableDescription('t1', ['x', 'y'])\n",
    "t2 = TableDescription('t2', ['x', 'z'])\n",
    "\n",
    "ops = ( \n",
    "        t1 >> \n",
    "            Extend({'x':'x + 1'}) >> \n",
    "            NaturalJoin(\n",
    "                b=t1b,\n",
    "                by=['x', 'y']) >> \n",
    "            NaturalJoin(\n",
    "                b=(t2 >> Extend({'f':'x + 1'})),\n",
    "                by='x') \n",
    ")\n",
    "print(ops)"
   ],
   "metadata": {
    "collapsed": false,
    "pycharm": {
     "name": "#%%\n",
     "is_executing": false
    }
   }
  },
  {
   "cell_type": "code",
   "execution_count": 8,
   "outputs": [
    {
     "name": "stdout",
     "text": [
      "SELECT COALESE(\"LQ_8\".\"x\", \"RQ_9\".\"x\") AS \"x\",\n       COALESE(\"LQ_8\".\"y\", \"RQ_9\".\"y\") AS \"y\"\nFROM\n  (SELECT COALESE(\"LQ_2\".\"x\", \"RQ_3\".\"x\") AS \"x\",\n          COALESE(\"LQ_2\".\"y\", \"RQ_3\".\"y\") AS \"y\"\n   FROM\n     (SELECT \"y\",\n             (x + 1) AS \"x\"\n      FROM\n        (SELECT \"x\",\n                \"y\"\n         FROM \"t1\") \"SQ_0\") \"LQ_2\"\n   INNER JOIN\n     (SELECT \"y\",\n             (x + 1) AS \"x\"\n      FROM\n        (SELECT \"x\",\n                \"y\"\n         FROM \"t1\") \"SQ_1\") \"RQ_3\") \"LQ_8\"\nINNER JOIN\n  (SELECT COALESE(\"LQ_6\".\"x\", \"RQ_7\".\"x\") AS \"x\",\n          COALESE(\"LQ_6\".\"y\", \"RQ_7\".\"y\") AS \"y\"\n   FROM\n     (SELECT \"y\",\n             (x + 1) AS \"x\"\n      FROM\n        (SELECT \"x\",\n                \"y\"\n         FROM \"t1\") \"SQ_4\") \"LQ_6\"\n   INNER JOIN\n     (SELECT \"y\",\n             (x + 1) AS \"x\"\n      FROM\n        (SELECT \"x\",\n                \"y\"\n         FROM \"t1\") \"SQ_5\") \"RQ_7\") \"RQ_9\"\n"
     ],
     "output_type": "stream"
    }
   ],
   "source": [
    "print(ops.pretty_sql(db_model))"
   ],
   "metadata": {
    "collapsed": false,
    "pycharm": {
     "name": "#%%\n",
     "is_executing": false
    }
   }
  },
  {
   "cell_type": "code",
   "execution_count": 9,
   "outputs": [
    {
     "name": "stdout",
     "text": [
      "[OrderedDict([('op', 'TableDescription'),\n              ('table_name', 't1'),\n              ('qualifiers', {}),\n              ('column_names', ['x', 'y']),\n              ('key', 't1')]),\n OrderedDict([('op', 'Extend'), ('ops', {'x': '(x + 1)'})]),\n OrderedDict([('op', 'NaturalJoin'),\n              ",
      "('by', ['x', 'y']),\n              ('jointype', 'INNER'),\n              ('b',\n               [OrderedDict([('op', 'TableDescription'),\n                             ('table_name', 't1'),\n                             ('qualifiers', {}),\n                             ('column_names', ['x', 'y']),\n                             ('key', 't1')])])]),\n OrderedDict([('op', 'NaturalJoin'),\n              ('by', ['x']),\n              ('jointype', 'INNER'),\n              ('b',\n               [OrderedDict([('op', 'TableDescription'),\n                             ('table_name', 't2'),\n                             ('qualifiers', {}),\n                             ('column_names', ['x', 'z']),\n                             ('key', 't2')]),\n                OrderedDict([('op', 'Extend'), ('ops', {'f': '(x + 1)'})])])])]\n"
     ],
     "output_type": "stream"
    }
   ],
   "source": [
    "p = ops.collect_representation()\n",
    "pprint(p)"
   ],
   "metadata": {
    "collapsed": false,
    "pycharm": {
     "name": "#%%\n",
     "is_executing": false
    }
   }
  },
  {
   "cell_type": "code",
   "execution_count": 10,
   "outputs": [
    {
     "name": "stdout",
     "text": [
      "- op: TableDescription\n  table_name: t1\n  qualifiers: {}\n  column_names:\n  - x\n  - y\n  key: t1\n- op: Extend\n  ops:\n    x: (x + 1)\n- op: NaturalJoin\n  by:\n  - x\n  - y\n  jointype: INNER\n  b:\n  - op: TableDescription\n    table_name: t1\n    qualifiers: {}\n    column_names:\n    - x\n    - y\n    key: t1\n- op: NaturalJoin\n  by:\n  - x\n  jointype: INNER\n  b:\n  - op: TableDescription\n    table_name: t2\n    qualifiers: {}\n    column_names:\n    - x\n    - z\n    key: t2\n  - op: Extend\n    ops:\n      f: (x + 1)\n\n"
     ],
     "output_type": "stream"
    }
   ],
   "source": [
    "import yaml\n",
    "dmp = yaml.dump(p)\n",
    "print(dmp)"
   ],
   "metadata": {
    "collapsed": false,
    "pycharm": {
     "name": "#%%\n",
     "is_executing": false
    }
   }
  },
  {
   "cell_type": "code",
   "execution_count": 11,
   "outputs": [
    {
     "name": "stdout",
     "text": [
      "Table(t1; x, y) >>\n   Extend({'x': (x + 1)}) >>\n   NaturalJoin(b=(\n      Table(t1; x, y)),\n      by=['x', 'y'], jointype=INNER) >>\n   NaturalJoin(b=(\n      Table(t2; x, z) >>\n         Extend({'f': (x + 1)})),\n      by=['x'], jointype=INNER)\n"
     ],
     "output_type": "stream"
    }
   ],
   "source": [
    "ops_back = data_algebra.yaml.to_pipeline(yaml.safe_load(dmp))\n",
    "print(ops_back)\n"
   ],
   "metadata": {
    "collapsed": false,
    "pycharm": {
     "name": "#%%\n",
     "is_executing": false
    }
   }
  }
 ],
 "metadata": {
  "language_info": {
   "codemirror_mode": {
    "name": "ipython",
    "version": 2
   },
   "file_extension": ".py",
   "mimetype": "text/x-python",
   "name": "python",
   "nbconvert_exporter": "python",
   "pygments_lexer": "ipython2",
   "version": "2.7.6"
  },
  "kernelspec": {
   "name": "python3",
   "language": "python",
   "display_name": "Python 3"
  },
  "pycharm": {
   "stem_cell": {
    "cell_type": "raw",
    "source": [],
    "metadata": {
     "collapsed": false
    }
   }
  }
 },
 "nbformat": 4,
 "nbformat_minor": 0
}