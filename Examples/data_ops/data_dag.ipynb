{
 "cells": [
  {
   "cell_type": "code",
   "execution_count": 17,
   "metadata": {
    "collapsed": true,
    "pycharm": {
     "is_executing": false
    }
   },
   "outputs": [],
   "source": [
    "from pprint import pprint\n",
    "\n",
    "import sqlparse\n",
    "\n",
    "from data_algebra.data_ops import *\n",
    "import data_algebra.env\n",
    "import data_algebra.yaml\n",
    "import data_algebra.PostgreSQL\n",
    "\n",
    "def pretty_sql(op, db_model):\n",
    "    sql = op.to_sql(db_model=db_model)\n",
    "    return sqlparse.format(sql, reindent=True, keyword_case=\"upper\")\n",
    "\n",
    "db_model = data_algebra.PostgreSQL.PostgreSQLModel()\n",
    "\n",
    "_, _1, _2, _get = [None, None, None, lambda x: x] # don't look unbound\n",
    "data_algebra.env.push_onto_namespace_stack(locals())\n",
    "\n",
    "t1 = TableDescription('t1', ['x', 'y'])"
   ]
  },
  {
   "cell_type": "code",
   "execution_count": 18,
   "outputs": [
    {
     "name": "stdout",
     "text": [
      "TableDescription(table_name='t1', column_names=['x', 'y'])\n"
     ],
     "output_type": "stream"
    }
   ],
   "source": [
    "print(t1)"
   ],
   "metadata": {
    "collapsed": false,
    "pycharm": {
     "name": "#%%\n",
     "is_executing": false
    }
   }
  },
  {
   "cell_type": "code",
   "execution_count": 19,
   "outputs": [
    {
     "name": "stdout",
     "text": [
      "SELECT \"x\",\n       \"y\"\nFROM \"t1\"\n"
     ],
     "output_type": "stream"
    }
   ],
   "source": [
    "print(pretty_sql(t1, db_model))\n"
   ],
   "metadata": {
    "collapsed": false,
    "pycharm": {
     "name": "#%%\n",
     "is_executing": false
    }
   }
  },
  {
   "cell_type": "code",
   "execution_count": 20,
   "outputs": [],
   "source": [
    "ops = t1 . extend({'v':'x + 1'})"
   ],
   "metadata": {
    "collapsed": false,
    "pycharm": {
     "name": "#%%\n",
     "is_executing": false
    }
   }
  },
  {
   "cell_type": "code",
   "execution_count": 21,
   "outputs": [
    {
     "name": "stdout",
     "text": [
      "TableDescription(table_name='t1', column_names=['x', 'y']) .\\\n   extend({'v': '(x + 1)'})\n"
     ],
     "output_type": "stream"
    }
   ],
   "source": [
    "print(ops)"
   ],
   "metadata": {
    "collapsed": false,
    "pycharm": {
     "name": "#%%\n",
     "is_executing": false
    }
   }
  },
  {
   "cell_type": "code",
   "execution_count": 22,
   "outputs": [
    {
     "name": "stdout",
     "text": [
      "SELECT \"x\",\n       \"y\",\n       (\"x\" + 1) AS \"v\"\nFROM\n  (SELECT \"x\",\n          \"y\"\n   FROM \"t1\") \"SQ_0\"\n"
     ],
     "output_type": "stream"
    }
   ],
   "source": [
    "print(pretty_sql(ops, db_model))"
   ],
   "metadata": {
    "collapsed": false,
    "pycharm": {
     "name": "#%%\n",
     "is_executing": false
    }
   }
  },
  {
   "cell_type": "code",
   "execution_count": 23,
   "outputs": [
    {
     "name": "stdout",
     "text": [
      "TableDescription(table_name='t1', column_names=['x', 'y']) .\\\n   extend({'y': 'y.max()'}, partition_by=['x'])\nSELECT \"x\",\n       MAX(\"y\") OVER (PARTITION BY \"x\") AS \"y\"\nFROM\n  (SELECT \"x\",\n          \"y\"\n   FROM \"t1\") \"SQ_0\"\n"
     ],
     "output_type": "stream"
    }
   ],
   "source": [
    "opse = t1 . extend({'y':'y.max()'}, partition_by = ['x'])\n",
    "print(opse)\n",
    "print(pretty_sql(opse, db_model))"
   ],
   "metadata": {
    "collapsed": false,
    "pycharm": {
     "name": "#%%\n",
     "is_executing": false
    }
   }
  },
  {
   "cell_type": "code",
   "execution_count": 24,
   "outputs": [
    {
     "name": "stdout",
     "text": [
      "Two tables with key t1 have different column sets.\n"
     ],
     "output_type": "stream"
    }
   ],
   "source": [
    "t1b = TableDescription('t1', ['x', 'y', 'one_more'])\n",
    "t2 = TableDescription('t2', ['x', 'z'])\n",
    "\n",
    "ops = ( \n",
    "        t1 . \n",
    "            extend({'x':'x + 1'}) . \n",
    "            natural_join(\n",
    "                b=t1b,\n",
    "                by=['x', 'y']) . \n",
    "            natural_join(\n",
    "                b=(t2 . extend({'f':'x + 1'})),\n",
    "                by='x') \n",
    ")\n",
    "\n",
    "try:\n",
    "    print(ops.get_tables())\n",
    "except Exception as ex:\n",
    "    print(ex)"
   ],
   "metadata": {
    "collapsed": false,
    "pycharm": {
     "name": "#%%\n",
     "is_executing": false
    }
   }
  },
  {
   "cell_type": "code",
   "execution_count": 25,
   "outputs": [
    {
     "name": "stdout",
     "text": [
      "TableDescription(table_name='t1', column_names=['x', 'y']) .\\\n   extend({'x': '(x + 1)'}) .\\\n   natural_join(b=(\n      TableDescription(table_name='t1', column_names=['x', 'y'])),\n      by=['x', 'y'], jointype='INNER') .\\\n   natural_join(b=(\n      TableDescription(table_name='t2', column_names=['x', 'z']) .\\\n         extend({'f': '(x + 1)'})),\n      by=['x'], jointype='INNER')\n"
     ],
     "output_type": "stream"
    }
   ],
   "source": [
    "t1b = TableDescription('t1', ['x', 'y'])\n",
    "t2 = TableDescription('t2', ['x', 'z'])\n",
    "\n",
    "ops = ( \n",
    "        t1 . \n",
    "            extend({'x':'x + 1'}) . \n",
    "            natural_join(\n",
    "                b=t1b,\n",
    "                by=['x', 'y']) . \n",
    "            natural_join(\n",
    "                b=(t2 . extend({'f':'x + 1'})),\n",
    "                by='x') \n",
    ")\n",
    "print(ops)"
   ],
   "metadata": {
    "collapsed": false,
    "pycharm": {
     "name": "#%%\n",
     "is_executing": false
    }
   }
  },
  {
   "cell_type": "code",
   "execution_count": 26,
   "outputs": [
    {
     "name": "stdout",
     "text": [
      "{'t1': TableDescription(table_name='t1', column_names=['x', 'y']), 't2': TableDescription(table_name='t2', column_names=['x', 'z'])}\n"
     ],
     "output_type": "stream"
    }
   ],
   "source": [
    "print(ops.get_tables())"
   ],
   "metadata": {
    "collapsed": false,
    "pycharm": {
     "name": "#%%\n",
     "is_executing": false
    }
   }
  },
  {
   "cell_type": "code",
   "execution_count": 27,
   "outputs": [
    {
     "name": "stdout",
     "text": [
      "{'t1': {'x', 'y'}, 't2': {'x', 'z'}}\n"
     ],
     "output_type": "stream"
    }
   ],
   "source": [
    "print(ops.columns_used())"
   ],
   "metadata": {
    "collapsed": false,
    "pycharm": {
     "name": "#%%\n",
     "is_executing": false
    }
   }
  },
  {
   "cell_type": "code",
   "execution_count": 28,
   "outputs": [
    {
     "name": "stdout",
     "text": [
      "SELECT COALESCE(\"LQ_4\".\"x\", \"RQ_5\".\"x\") AS \"x\",\n       \"y\",\n       \"z\",\n       \"f\"\nFROM\n  (SELECT COALESCE(\"LQ_1\".\"x\", \"RQ_2\".\"x\") AS \"x\",\n          COALESCE(\"LQ_1\".\"y\", \"RQ_2\".\"y\") AS \"y\"\n   FROM\n     (SELECT \"y\",\n             (\"x\" + 1) AS \"x\"\n      FROM\n        (SELECT \"x\",\n                \"y\"\n         FROM \"t1\") \"SQ_0\") \"LQ_1\"\n   INNER JOIN\n     (SELECT \"x\",\n             \"y\"\n      FROM \"t1\") \"RQ_2\") \"LQ_4\"\nINNER JOIN\n  (SELECT \"x\",\n          \"z\",\n          (\"x\" + 1) AS \"f\"\n   FROM\n     (SELECT \"x\",\n             \"z\"\n      FROM \"t2\") \"SQ_3\") \"RQ_5\"\n"
     ],
     "output_type": "stream"
    }
   ],
   "source": [
    "print(pretty_sql(ops, db_model))"
   ],
   "metadata": {
    "collapsed": false,
    "pycharm": {
     "name": "#%%\n",
     "is_executing": false
    }
   }
  },
  {
   "cell_type": "code",
   "execution_count": 29,
   "outputs": [
    {
     "name": "stdout",
     "text": [
      "[",
      "OrderedDict([('op', 'TableDescription'),\n              ('table_name', 't1'),\n              ('qualifiers', {}),\n              ('column_names', ['x', 'y']),\n              ('key', 't1')]),\n OrderedDict([('op', 'Extend'),\n              ('ops', {'x': '(x + 1)'}),\n              ('partition_by', []),\n              ('order_by', []),\n              ('reverse', [])]),\n OrderedDict([('op', 'NaturalJoin'),\n              ('by', ['x', 'y']),\n              ('jointype', 'INNER'),\n              ('b',\n               [OrderedDict([('op', 'TableDescription'),\n                             ('table_name', 't1'),\n                             ('qualifiers', {}),\n                             ('column_names', ['x', 'y']),\n                             ('key', 't1')])])]),\n OrderedDict([('op', 'NaturalJoin'),\n              ('by', ['x']),\n              ('jointype', 'INNER'),\n              ('b',\n               [OrderedDict([('op', 'TableDescription'),\n                             ('table_name', 't2'),\n                             ('qualifiers', {}),\n                             ('column_names', ['x', 'z']),\n                             ('key', 't2')]),\n                OrderedDict([('op', 'Extend'),\n                             ('ops', {'f': '(x + 1)'}),\n                             ('partition_by', []),\n                             ('order_by', []),\n                             ('reverse', [])])])])]\n"
     ],
     "output_type": "stream"
    }
   ],
   "source": [
    "p = ops.collect_representation()\n",
    "pprint(p)"
   ],
   "metadata": {
    "collapsed": false,
    "pycharm": {
     "name": "#%%\n",
     "is_executing": false
    }
   }
  },
  {
   "cell_type": "code",
   "execution_count": 30,
   "outputs": [
    {
     "name": "stdout",
     "text": [
      "- op: TableDescription\n  table_name: t1\n  qualifiers: {}\n  column_names:\n  - x\n  - y\n  key: t1\n- op: Extend\n  ops:\n    x: (x + 1)\n  partition_by: []\n  order_by: []\n  reverse: []\n- op: NaturalJoin\n  by:\n  - x\n  - y\n  jointype: INNER\n  b:\n  - op: TableDescription\n    table_name: t1\n    qualifiers: {}\n    column_names:\n    - x\n    - y\n    key: t1\n- op: NaturalJoin\n  by:\n  - x\n  jointype: INNER\n  b:\n  - op: TableDescription\n    table_name: t2\n    qualifiers: {}\n    column_names:\n    - x\n    - z\n    key: t2\n  - op: Extend\n    ops:\n      f: (x + 1)\n    partition_by: []\n    order_by: []\n    reverse: []\n\n"
     ],
     "output_type": "stream"
    }
   ],
   "source": [
    "import yaml\n",
    "dmp = yaml.dump(p)\n",
    "print(dmp)"
   ],
   "metadata": {
    "collapsed": false,
    "pycharm": {
     "name": "#%%\n",
     "is_executing": false
    }
   }
  },
  {
   "cell_type": "code",
   "execution_count": 31,
   "outputs": [
    {
     "name": "stdout",
     "text": [
      "TableDescription(table_name='t1', column_names=['x', 'y']) .\\\n   extend({'x': '(x + 1)'}) .\\\n   natural_join(b=(\n      TableDescription(table_name='t1', column_names=['x', 'y'])),\n      by=['x', 'y'], jointype='INNER') .\\\n   natural_join(b=(\n      TableDescription(table_name='t2', column_names=['x', 'z']) .\\\n         extend({'f': '(x + 1)'})),\n      by=['x'], jointype='INNER')\n"
     ],
     "output_type": "stream"
    }
   ],
   "source": [
    "ops_back = data_algebra.yaml.to_pipeline(yaml.safe_load(dmp))\n",
    "print(ops_back)"
   ],
   "metadata": {
    "collapsed": false,
    "pycharm": {
     "name": "#%%\n",
     "is_executing": false
    }
   }
  },
  {
   "cell_type": "code",
   "execution_count": 32,
   "outputs": [
    {
     "data": {
      "text/plain": "TableDescription(table_name='t1', column_names=['x', 'y']) .\\\n   extend({'x': '(x + 1)'}) .\\\n   natural_join(b=(\n      TableDescription(table_name='t1', column_names=['x', 'y'])),\n      by=['x', 'y'], jointype='INNER') .\\\n   natural_join(b=(\n      TableDescription(table_name='t2', column_names=['x', 'z']) .\\\n         extend({'f': '(x + 1)'})),\n      by=['x'], jointype='INNER')"
     },
     "metadata": {},
     "output_type": "execute_result",
     "execution_count": 32
    }
   ],
   "source": [
    "str = ops_back.format_ops()\n",
    "eval(str)"
   ],
   "metadata": {
    "collapsed": false,
    "pycharm": {
     "name": "#%%\n",
     "is_executing": false
    }
   }
  }
 ],
 "metadata": {
  "language_info": {
   "codemirror_mode": {
    "name": "ipython",
    "version": 2
   },
   "file_extension": ".py",
   "mimetype": "text/x-python",
   "name": "python",
   "nbconvert_exporter": "python",
   "pygments_lexer": "ipython2",
   "version": "2.7.6"
  },
  "kernelspec": {
   "name": "python3",
   "language": "python",
   "display_name": "Python 3"
  },
  "pycharm": {
   "stem_cell": {
    "cell_type": "raw",
    "source": [],
    "metadata": {
     "collapsed": false
    }
   }
  }
 },
 "nbformat": 4,
 "nbformat_minor": 0
}