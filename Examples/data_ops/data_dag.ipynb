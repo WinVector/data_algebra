{
 "cells": [
  {
   "cell_type": "code",
   "execution_count": 1,
   "metadata": {
    "pycharm": {
     "is_executing": false
    }
   },
   "outputs": [],
   "source": [
    "from pprint import pprint\n",
    "import yaml\n",
    "\n",
    "from data_algebra.data_ops import *\n",
    "import data_algebra.env\n",
    "import data_algebra.yaml\n",
    "import data_algebra.PostgreSQL\n",
    "\n",
    "\n",
    "db_model = data_algebra.PostgreSQL.PostgreSQLModel()\n",
    "\n",
    "data_algebra.yaml.fix_ordered_dict_yaml_rep()\n",
    "data_algebra.env.push_onto_namespace_stack(locals())\n",
    "\n",
    "t1 = TableDescription('t1', ['x', 'y'])"
   ]
  },
  {
   "cell_type": "code",
   "execution_count": 2,
   "metadata": {
    "collapsed": false,
    "jupyter": {
     "outputs_hidden": false
    },
    "pycharm": {
     "is_executing": false,
     "name": "#%%\n"
    }
   },
   "outputs": [
    {
     "name": "stdout",
     "output_type": "stream",
     "text": [
      "TableDescription(\n",
      " table_name='t1',\n",
      " column_names=[\n",
      "   'x', 'y'])\n"
     ]
    }
   ],
   "source": [
    "print(t1)"
   ]
  },
  {
   "cell_type": "code",
   "execution_count": 3,
   "metadata": {
    "collapsed": false,
    "jupyter": {
     "outputs_hidden": false
    },
    "pycharm": {
     "is_executing": false,
     "name": "#%%\n"
    }
   },
   "outputs": [
    {
     "name": "stdout",
     "output_type": "stream",
     "text": [
      "SELECT \"x\",\n",
      "       \"y\"\n",
      "FROM \"t1\"\n"
     ]
    }
   ],
   "source": [
    "print(t1.to_sql(db_model, pretty=True))\n"
   ]
  },
  {
   "cell_type": "code",
   "execution_count": 4,
   "metadata": {
    "collapsed": false,
    "jupyter": {
     "outputs_hidden": false
    },
    "pycharm": {
     "is_executing": false,
     "name": "#%%\n"
    }
   },
   "outputs": [],
   "source": [
    "ops = t1 . extend({'v':'x + 1'})"
   ]
  },
  {
   "cell_type": "code",
   "execution_count": 5,
   "metadata": {
    "collapsed": false,
    "jupyter": {
     "outputs_hidden": false
    },
    "pycharm": {
     "is_executing": false,
     "name": "#%%\n"
    }
   },
   "outputs": [
    {
     "name": "stdout",
     "output_type": "stream",
     "text": [
      "TableDescription(\n",
      " table_name='t1',\n",
      " column_names=[\n",
      "   'x', 'y']) .\\\n",
      "   extend({\n",
      "    'v': 'x + 1'})\n"
     ]
    }
   ],
   "source": [
    "print(ops)"
   ]
  },
  {
   "cell_type": "code",
   "execution_count": 6,
   "metadata": {
    "collapsed": false,
    "jupyter": {
     "outputs_hidden": false
    },
    "pycharm": {
     "is_executing": false,
     "name": "#%%\n"
    }
   },
   "outputs": [
    {
     "name": "stdout",
     "output_type": "stream",
     "text": [
      "SELECT \"x\" + 1 AS \"v\",\n",
      "       \"x\",\n",
      "       \"y\"\n",
      "FROM \"t1\"\n"
     ]
    }
   ],
   "source": [
    "print(ops.to_sql(db_model, pretty=True))"
   ]
  },
  {
   "cell_type": "code",
   "execution_count": 7,
   "metadata": {
    "collapsed": false,
    "jupyter": {
     "outputs_hidden": false
    },
    "pycharm": {
     "is_executing": false,
     "name": "#%%\n"
    }
   },
   "outputs": [
    {
     "name": "stdout",
     "output_type": "stream",
     "text": [
      "TableDescription(\n",
      " table_name='t1',\n",
      " column_names=[\n",
      "   'x', 'y']) .\\\n",
      "   extend({\n",
      "    'y': 'y.max()'},\n",
      "   partition_by=['x'])\n",
      "SELECT MAX(\"y\") OVER (PARTITION BY \"x\") AS \"y\",\n",
      "                     \"x\"\n",
      "FROM \"t1\"\n"
     ]
    }
   ],
   "source": [
    "opse = t1 . extend({'y':'y.max()'}, partition_by = ['x'])\n",
    "print(opse)\n",
    "print(opse.to_sql(db_model, pretty=True))"
   ]
  },
  {
   "cell_type": "code",
   "execution_count": 8,
   "metadata": {
    "collapsed": false,
    "jupyter": {
     "outputs_hidden": false
    },
    "pycharm": {
     "is_executing": false,
     "name": "#%%\n"
    }
   },
   "outputs": [
    {
     "name": "stdout",
     "output_type": "stream",
     "text": [
      "{'t1': TableDescription(\n",
      " table_name='t1',\n",
      " column_names=[\n",
      "   'x', 'y', 'one_more']), 't2': TableDescription(\n",
      " table_name='t2',\n",
      " column_names=[\n",
      "   'x', 'z'])}\n"
     ]
    }
   ],
   "source": [
    "t1b = TableDescription('t1', ['x', 'y', 'one_more'])\n",
    "t2 = TableDescription('t2', ['x', 'z'])\n",
    "\n",
    "ops = ( \n",
    "        t1b. \n",
    "            extend({'x':'x + 1'}) . \n",
    "            natural_join(\n",
    "                b=t1b,\n",
    "                by=['x', 'y']) . \n",
    "            natural_join(\n",
    "                b=(t2 . extend({'f':'x + 1'})),\n",
    "                by='x') \n",
    ")\n",
    "\n",
    "try:\n",
    "    print(ops.get_tables())\n",
    "except Exception as ex:\n",
    "    print(ex)"
   ]
  },
  {
   "cell_type": "code",
   "execution_count": 9,
   "metadata": {
    "collapsed": false,
    "jupyter": {
     "outputs_hidden": false
    },
    "pycharm": {
     "is_executing": false,
     "name": "#%%\n"
    }
   },
   "outputs": [
    {
     "name": "stdout",
     "output_type": "stream",
     "text": [
      "TableDescription(\n",
      " table_name='t1',\n",
      " column_names=[\n",
      "   'x', 'y']) .\\\n",
      "   extend({\n",
      "    'x': 'x + 1'}) .\\\n",
      "   natural_join(b=\n",
      "      TableDescription(\n",
      "       table_name='t1',\n",
      "       column_names=[\n",
      "         'x', 'y']),\n",
      "      by=['x', 'y'], jointype='INNER') .\\\n",
      "   natural_join(b=\n",
      "      TableDescription(\n",
      "       table_name='t2',\n",
      "       column_names=[\n",
      "         'x', 'z']) .\\\n",
      "         extend({\n",
      "          'f': 'x + 1'}),\n",
      "      by=['x'], jointype='INNER')\n"
     ]
    }
   ],
   "source": [
    "t1b = TableDescription('t1', ['x', 'y'])\n",
    "t2 = TableDescription('t2', ['x', 'z'])\n",
    "\n",
    "ops = ( \n",
    "        t1 . \n",
    "            extend({'x':'x + 1'}) . \n",
    "            natural_join(\n",
    "                b=t1b,\n",
    "                by=['x', 'y']) . \n",
    "            natural_join(\n",
    "                b=(t2 . extend({'f':'x + 1'})),\n",
    "                by='x') \n",
    ")\n",
    "print(ops)"
   ]
  },
  {
   "cell_type": "code",
   "execution_count": 10,
   "metadata": {
    "collapsed": false,
    "jupyter": {
     "outputs_hidden": false
    },
    "pycharm": {
     "is_executing": false,
     "name": "#%%\n"
    }
   },
   "outputs": [
    {
     "name": "stdout",
     "output_type": "stream",
     "text": [
      "{'t1': TableDescription(\n",
      " table_name='t1',\n",
      " column_names=[\n",
      "   'x', 'y']), 't2': TableDescription(\n",
      " table_name='t2',\n",
      " column_names=[\n",
      "   'x', 'z'])}\n"
     ]
    }
   ],
   "source": [
    "print(ops.get_tables())"
   ]
  },
  {
   "cell_type": "code",
   "execution_count": 11,
   "metadata": {
    "collapsed": false,
    "jupyter": {
     "outputs_hidden": false
    },
    "pycharm": {
     "is_executing": false,
     "name": "#%%\n"
    }
   },
   "outputs": [
    {
     "name": "stdout",
     "output_type": "stream",
     "text": [
      "{'t1': {'x', 'y'}, 't2': {'z', 'x'}}\n"
     ]
    }
   ],
   "source": [
    "print(ops.columns_used())"
   ]
  },
  {
   "cell_type": "code",
   "execution_count": 12,
   "metadata": {
    "collapsed": false,
    "jupyter": {
     "outputs_hidden": false
    },
    "pycharm": {
     "is_executing": false,
     "name": "#%%\n"
    }
   },
   "outputs": [
    {
     "name": "stdout",
     "output_type": "stream",
     "text": [
      "SELECT COALESCE(\"natural_join_3\".\"x\", \"extend_5\".\"x\") AS \"x\",\n",
      "       \"y\",\n",
      "       \"z\",\n",
      "       \"f\"\n",
      "FROM\n",
      "  (SELECT COALESCE(\"extend_1\".\"x\", \"table_reference_2\".\"x\") AS \"x\",\n",
      "          COALESCE(\"extend_1\".\"y\", \"table_reference_2\".\"y\") AS \"y\"\n",
      "   FROM\n",
      "     (SELECT \"x\" + 1 AS \"x\",\n",
      "             \"y\"\n",
      "      FROM \"t1\") \"extend_1\"\n",
      "   INNER JOIN \"t1\" \"table_reference_2\" ON \"extend_1\".\"x\" = \"table_reference_2\".\"x\",\n",
      "                                          \"extend_1\".\"y\" = \"table_reference_2\".\"y\") \"natural_join_3\"\n",
      "INNER JOIN\n",
      "  (SELECT \"z\",\n",
      "          \"x\",\n",
      "          \"x\" + 1 AS \"f\"\n",
      "   FROM \"t2\") \"extend_5\" ON \"natural_join_3\".\"x\" = \"extend_5\".\"x\"\n"
     ]
    }
   ],
   "source": [
    "print(ops.to_sql(db_model, pretty=True))"
   ]
  },
  {
   "cell_type": "code",
   "execution_count": 13,
   "metadata": {
    "collapsed": false,
    "jupyter": {
     "outputs_hidden": false
    },
    "pycharm": {
     "is_executing": false,
     "name": "#%%\n"
    }
   },
   "outputs": [
    {
     "name": "stdout",
     "output_type": "stream",
     "text": [
      "[OrderedDict([('op', 'TableDescription'),\n",
      "              ('table_name', 't1'),\n",
      "              ('qualifiers', {}),\n",
      "              ('column_names', ['x', 'y']),\n",
      "              ('key', 't1')]),\n",
      " OrderedDict([('op', 'Extend'),\n",
      "              ('ops', {'x': 'x + 1'}),\n",
      "              ('partition_by', []),\n",
      "              ('order_by', []),\n",
      "              ('reverse', [])]),\n",
      " OrderedDict([('op', 'NaturalJoin'),\n",
      "              ('by', ['x', 'y']),\n",
      "              ('jointype', 'INNER'),\n",
      "              ('b',\n",
      "               [OrderedDict([('op', 'TableDescription'),\n",
      "                             ('table_name', 't1'),\n",
      "                             ('qualifiers', {}),\n",
      "                             ('column_names', ['x', 'y']),\n",
      "                             ('key', 't1')])])]),\n",
      " OrderedDict([('op', 'NaturalJoin'),\n",
      "              ('by', ['x']),\n",
      "              ('jointype', 'INNER'),\n",
      "              ('b',\n",
      "               [OrderedDict([('op', 'TableDescription'),\n",
      "                             ('table_name', 't2'),\n",
      "                             ('qualifiers', {}),\n",
      "                             ('column_names', ['x', 'z']),\n",
      "                             ('key', 't2')]),\n",
      "                OrderedDict([('op', 'Extend'),\n",
      "                             ('ops', {'f': 'x + 1'}),\n",
      "                             ('partition_by', []),\n",
      "                             ('order_by', []),\n",
      "                             ('reverse', [])])])])]\n"
     ]
    }
   ],
   "source": [
    "p = ops.collect_representation()\n",
    "pprint(p)"
   ]
  },
  {
   "cell_type": "code",
   "execution_count": 14,
   "metadata": {
    "collapsed": false,
    "jupyter": {
     "outputs_hidden": false
    },
    "pycharm": {
     "is_executing": false,
     "name": "#%%\n"
    }
   },
   "outputs": [
    {
     "name": "stdout",
     "output_type": "stream",
     "text": [
      "- op: TableDescription\n",
      "  table_name: t1\n",
      "  qualifiers: {}\n",
      "  column_names:\n",
      "  - x\n",
      "  - y\n",
      "  key: t1\n",
      "- op: Extend\n",
      "  ops:\n",
      "    x: x + 1\n",
      "  partition_by: []\n",
      "  order_by: []\n",
      "  reverse: []\n",
      "- op: NaturalJoin\n",
      "  by:\n",
      "  - x\n",
      "  - y\n",
      "  jointype: INNER\n",
      "  b:\n",
      "  - op: TableDescription\n",
      "    table_name: t1\n",
      "    qualifiers: {}\n",
      "    column_names:\n",
      "    - x\n",
      "    - y\n",
      "    key: t1\n",
      "- op: NaturalJoin\n",
      "  by:\n",
      "  - x\n",
      "  jointype: INNER\n",
      "  b:\n",
      "  - op: TableDescription\n",
      "    table_name: t2\n",
      "    qualifiers: {}\n",
      "    column_names:\n",
      "    - x\n",
      "    - z\n",
      "    key: t2\n",
      "  - op: Extend\n",
      "    ops:\n",
      "      f: x + 1\n",
      "    partition_by: []\n",
      "    order_by: []\n",
      "    reverse: []\n",
      "\n"
     ]
    }
   ],
   "source": [
    "\n",
    "dmp = yaml.dump(p)\n",
    "print(dmp)"
   ]
  },
  {
   "cell_type": "code",
   "execution_count": 15,
   "metadata": {
    "collapsed": false,
    "jupyter": {
     "outputs_hidden": false
    },
    "pycharm": {
     "is_executing": false,
     "name": "#%%\n"
    }
   },
   "outputs": [
    {
     "name": "stdout",
     "output_type": "stream",
     "text": [
      "TableDescription(\n",
      " table_name='t1',\n",
      " column_names=[\n",
      "   'x', 'y']) .\\\n",
      "   extend({\n",
      "    'x': 'x + 1'}) .\\\n",
      "   natural_join(b=\n",
      "      TableDescription(\n",
      "       table_name='t1',\n",
      "       column_names=[\n",
      "         'x', 'y']),\n",
      "      by=['x', 'y'], jointype='INNER') .\\\n",
      "   natural_join(b=\n",
      "      TableDescription(\n",
      "       table_name='t2',\n",
      "       column_names=[\n",
      "         'x', 'z']) .\\\n",
      "         extend({\n",
      "          'f': 'x + 1'}),\n",
      "      by=['x'], jointype='INNER')\n"
     ]
    }
   ],
   "source": [
    "ops_back = data_algebra.yaml.to_pipeline(yaml.safe_load(dmp))\n",
    "print(ops_back)\n",
    "\n"
   ]
  },
  {
   "cell_type": "code",
   "execution_count": 16,
   "metadata": {
    "collapsed": false,
    "jupyter": {
     "outputs_hidden": false
    },
    "pycharm": {
     "is_executing": false,
     "name": "#%%\n"
    }
   },
   "outputs": [
    {
     "name": "stdout",
     "output_type": "stream",
     "text": [
      "TableDescription(table_name=\"t1\", column_names=[\"x\", \"y\"]).extend(\n",
      "    {\"x\": \"x + 1\"}\n",
      ").natural_join(\n",
      "    b=TableDescription(table_name=\"t1\", column_names=[\"x\", \"y\"]),\n",
      "    by=[\"x\", \"y\"],\n",
      "    jointype=\"INNER\",\n",
      ").natural_join(\n",
      "    b=TableDescription(table_name=\"t2\", column_names=[\"x\", \"z\"]).extend({\"f\": \"x + 1\"}),\n",
      "    by=[\"x\"],\n",
      "    jointype=\"INNER\",\n",
      ")\n",
      "\n"
     ]
    }
   ],
   "source": [
    "print(ops_back.to_python(pretty=True))\n"
   ]
  }
 ],
 "metadata": {
  "kernelspec": {
   "display_name": "Python 3",
   "language": "python",
   "name": "python3"
  },
  "language_info": {
   "codemirror_mode": {
    "name": "ipython",
    "version": 3
   },
   "file_extension": ".py",
   "mimetype": "text/x-python",
   "name": "python",
   "nbconvert_exporter": "python",
   "pygments_lexer": "ipython3",
   "version": "3.7.7"
  },
  "pycharm": {
   "stem_cell": {
    "cell_type": "raw",
    "metadata": {
     "collapsed": false
    },
    "source": []
   }
  }
 },
 "nbformat": 4,
 "nbformat_minor": 4
}
