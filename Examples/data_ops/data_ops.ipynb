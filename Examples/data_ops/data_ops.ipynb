{
 "cells": [
  {
   "cell_type": "code",
   "execution_count": 3,
   "metadata": {
    "pycharm": {
     "is_executing": false
    }
   },
   "outputs": [
    {
     "name": "stdout",
     "text": [
      "first example\nTableDescription(table_name='d', column_names=['x', 'y']) .\\\n   extend({'z': '((x + (y / 4)) + 2) + x'})\nex 2\nTableDescription(table_name='d', column_names=['x', 'y']) .\\\n   extend({'z': '0.25 + x'})\nex 3\nTableDescription(table_name='d', column_names=['x', 'y']) .\\\n   extend({'z': '0.25 + (x / y)', 'f': '1', 'g': \"'2'\", 'h': 'True'})\nex 4\nTableDescription(table_name='d', column_names=['x', 'y']) .\\\n   extend({'z': '(1 / y) + 0.25', 'x': 'x + 1'})\nex 5, columns take precedence over values\nTableDescription(table_name='d', column_names=['q', 'y']) .\\\n   extend({'z': '(1 / q) + y'})\nex 6, forcing values\nTableDescription(table_name='d', column_names=['q', 'y']) .\\\n   extend({'z': '((q / 4) + y) + q'})\n[OrderedDict([('op', 'TableDescription'),\n              ('table_name', 'd'),\n              ('qualifiers', {}),\n              ('column_names', ['x', 'y']),\n              ('key', 'd')]),\n OrderedDict([('op', 'Extend'),\n              ('ops',\n               {'f': '1', 'g': \"'2'\", 'h': 'True', 'z': '0.25 + (x / y)'}),\n              ('partition_by', []),\n              ('order_by', []),\n              ('reverse', [])])]\n- op: TableDescription\n  table_name: d\n  qualifiers: {}\n  column_names:\n  - x\n  - y\n  key: d\n- op: Extend\n  ops:\n    f: '1'\n    g: '''2'''\n    h: 'True'\n    z: 0.25 + (x / y)\n  partition_by: []\n  order_by: []\n  reverse: []\n\nTableDescription(table_name='d', column_names=['x', 'y']) .\\\n   extend({'f': '1', 'g': \"'2'\", 'h': 'True', 'z': '0.25 + (x / y)'})\n"
     ],
     "output_type": "stream"
    }
   ],
   "source": [
    "from pprint import pprint\n",
    "from data_algebra.data_ops import *\n",
    "from data_algebra.data_pipe import *\n",
    "\n",
    "def run_example():\n",
    "    import data_algebra.env\n",
    "    import data_algebra.yaml\n",
    "\n",
    "    _, _1, _2, _get = [None, None, None, lambda x: x] # don't look unbound\n",
    "    data_algebra.yaml.fix_ordered_dict_yaml_rep()\n",
    "    q = 4\n",
    "    x = 2\n",
    "    var_name = 'y'\n",
    "    \n",
    "    with data_algebra.env.Env(locals()) as env:\n",
    "        \n",
    "        print(\"first example\")\n",
    "        ops = (\n",
    "            TableDescription('d', ['x', 'y']) .\n",
    "               extend({'z':'_.x + _[var_name]/q + _get(\"x\") + x'})\n",
    "         )\n",
    "        print(ops)\n",
    "        \n",
    "        print(\"ex 2\")\n",
    "        ops2 = (\n",
    "             TableDescription('d', ['x', 'y']) .\n",
    "                 extend({'z':'1/q + x'})\n",
    "        )\n",
    "        print(ops2)\n",
    "        \n",
    "        print(\"ex 3\")\n",
    "        ops3 = (\n",
    "             TableDescription('d', ['x', 'y']) .\n",
    "                 extend({'z':'1/q + _.x/_[var_name]', 'f':1, 'g':'\"2\"', 'h':True})\n",
    "         )\n",
    "        print(ops3)\n",
    "        \n",
    "        print(\"ex 4\")\n",
    "        import data_algebra.pipe\n",
    "        \n",
    "        ops4 = data_algebra.pipe.build_pipeline(\n",
    "             TableDescription('d', ['x', 'y']),\n",
    "             Extend({'z':'1/_.y + 1/q', 'x':'x+1'})\n",
    "        )\n",
    "        print(ops4)\n",
    "        \n",
    "        print(\"ex 5, columns take precedence over values\")\n",
    "        ops5 = (\n",
    "             TableDescription('d', ['q', 'y']) .\n",
    "                 extend({'z':'1/q + y'})\n",
    "        )\n",
    "        print(ops5)\n",
    "        \n",
    "        print(\"ex 6, forcing values\")\n",
    "        ops6 = (\n",
    "             TableDescription('d', ['q', 'y']) .\n",
    "                 extend({'z':'q/_get(\"q\") + y + _.q'})\n",
    "        )\n",
    "        print(ops6)\n",
    "    \n",
    "    p = ops3.collect_representation()\n",
    "    pprint(p)\n",
    "    import yaml\n",
    "    dmp = yaml.dump(p)\n",
    "    print(dmp)\n",
    "    ops3b = data_algebra.yaml.to_pipeline(yaml.safe_load(dmp))\n",
    "    print(ops3b)\n",
    "\n",
    "run_example()\n",
    "\n"
   ]
  }
 ],
 "metadata": {
  "kernelspec": {
   "display_name": "Python 3",
   "language": "python",
   "name": "python3"
  },
  "language_info": {
   "codemirror_mode": {
    "name": "ipython",
    "version": 3
   },
   "file_extension": ".py",
   "mimetype": "text/x-python",
   "name": "python",
   "nbconvert_exporter": "python",
   "pygments_lexer": "ipython3",
   "version": "3.6.9"
  },
  "pycharm": {
   "stem_cell": {
    "cell_type": "raw",
    "source": [],
    "metadata": {
     "collapsed": false
    }
   }
  }
 },
 "nbformat": 4,
 "nbformat_minor": 4
}