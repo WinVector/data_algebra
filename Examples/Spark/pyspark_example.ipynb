{
 "cells": [
  {
   "cell_type": "code",
   "execution_count": 1,
   "metadata": {
    "collapsed": true,
    "pycharm": {
     "is_executing": false
    }
   },
   "outputs": [],
   "source": [
    "import pyspark\n",
    "import pyspark.sql\n",
    "\n",
    "import pandas\n",
    "\n",
    "from data_algebra.data_ops import *\n",
    "import data_algebra.PostgreSQL"
   ]
  },
  {
   "cell_type": "code",
   "execution_count": 2,
   "outputs": [
    {
     "data": {
      "text/plain": "   subjectID       surveyCategory  assessmentTotal irrelevantCol1  \\\n0          1  withdrawal behavior                5         irrel1   \n1          1  positive re-framing                2         irrel1   \n2          2  withdrawal behavior                3         irrel1   \n3          2  positive re-framing                4         irrel1   \n\n  irrelevantCol2  \n0         irrel2  \n1         irrel2  \n2         irrel2  \n3         irrel2  ",
      "text/html": "<div>\n<style scoped>\n    .dataframe tbody tr th:only-of-type {\n        vertical-align: middle;\n    }\n\n    .dataframe tbody tr th {\n        vertical-align: top;\n    }\n\n    .dataframe thead th {\n        text-align: right;\n    }\n</style>\n<table border=\"1\" class=\"dataframe\">\n  <thead>\n    <tr style=\"text-align: right;\">\n      <th></th>\n      <th>subjectID</th>\n      <th>surveyCategory</th>\n      <th>assessmentTotal</th>\n      <th>irrelevantCol1</th>\n      <th>irrelevantCol2</th>\n    </tr>\n  </thead>\n  <tbody>\n    <tr>\n      <th>0</th>\n      <td>1</td>\n      <td>withdrawal behavior</td>\n      <td>5</td>\n      <td>irrel1</td>\n      <td>irrel2</td>\n    </tr>\n    <tr>\n      <th>1</th>\n      <td>1</td>\n      <td>positive re-framing</td>\n      <td>2</td>\n      <td>irrel1</td>\n      <td>irrel2</td>\n    </tr>\n    <tr>\n      <th>2</th>\n      <td>2</td>\n      <td>withdrawal behavior</td>\n      <td>3</td>\n      <td>irrel1</td>\n      <td>irrel2</td>\n    </tr>\n    <tr>\n      <th>3</th>\n      <td>2</td>\n      <td>positive re-framing</td>\n      <td>4</td>\n      <td>irrel1</td>\n      <td>irrel2</td>\n    </tr>\n  </tbody>\n</table>\n</div>"
     },
     "metadata": {},
     "output_type": "execute_result",
     "execution_count": 2
    }
   ],
   "source": [
    "d_local = pandas.DataFrame({\n",
    "    'subjectID':[1, 1, 2, 2],\n",
    "    'surveyCategory': [ \"withdrawal behavior\", \"positive re-framing\", \"withdrawal behavior\", \"positive re-framing\"],\n",
    "    'assessmentTotal': [5, 2, 3, 4],\n",
    "    'irrelevantCol1': ['irrel1']*4,\n",
    "    'irrelevantCol2': ['irrel2']*4,\n",
    "})\n",
    "d_local"
   ],
   "metadata": {
    "collapsed": false,
    "pycharm": {
     "name": "#%%\n",
     "is_executing": false
    }
   }
  },
  {
   "cell_type": "code",
   "execution_count": 3,
   "outputs": [
    {
     "data": {
      "text/plain": "DataFrame[subjectID: bigint, surveyCategory: string, assessmentTotal: bigint, irrelevantCol1: string, irrelevantCol2: string]"
     },
     "metadata": {},
     "output_type": "execute_result",
     "execution_count": 3
    }
   ],
   "source": [
    "sc = pyspark.SparkContext()\n",
    "spark = pyspark.sql.SparkSession.builder.appName('pandasToSparkDF').getOrCreate()\n",
    "\n",
    "d_spark = spark.createDataFrame(d_local)\n",
    "d_spark"
   ],
   "metadata": {
    "collapsed": false,
    "pycharm": {
     "name": "#%%\n",
     "is_executing": false
    }
   }
  },
  {
   "cell_type": "code",
   "execution_count": 4,
   "outputs": [
    {
     "name": "stdout",
     "text": [
      "+---------+-------------------+---------------+--------------+--------------+\n|subjectID|     surveyCategory|assessmentTotal|irrelevantCol1|irrelevantCol2|\n+---------+-------------------+---------------+--------------+--------------+\n|        1|withdrawal behavior|              5|        irrel1|        irrel2|\n|        1|positive re-framing|              2|        irrel1|        irrel2|\n|        2|withdrawal behavior|              3|        irrel1|        irrel2|\n|        2|positive re-framing|              4|        irrel1|        irrel2|\n+---------+-------------------+---------------+--------------+--------------+\n\n"
     ],
     "output_type": "stream"
    }
   ],
   "source": [
    "d_spark.createOrReplaceTempView(\"d\")\n",
    "sql_df = spark.sql(\"SELECT * FROM d\")\n",
    "sql_df.show()"
   ],
   "metadata": {
    "collapsed": false,
    "pycharm": {
     "name": "#%%\n",
     "is_executing": false
    }
   }
  },
  {
   "cell_type": "code",
   "execution_count": 5,
   "outputs": [
    {
     "data": {
      "text/plain": "   0                    1  2       3       4\n0  1  withdrawal behavior  5  irrel1  irrel2\n1  1  positive re-framing  2  irrel1  irrel2\n2  2  withdrawal behavior  3  irrel1  irrel2\n3  2  positive re-framing  4  irrel1  irrel2",
      "text/html": "<div>\n<style scoped>\n    .dataframe tbody tr th:only-of-type {\n        vertical-align: middle;\n    }\n\n    .dataframe tbody tr th {\n        vertical-align: top;\n    }\n\n    .dataframe thead th {\n        text-align: right;\n    }\n</style>\n<table border=\"1\" class=\"dataframe\">\n  <thead>\n    <tr style=\"text-align: right;\">\n      <th></th>\n      <th>0</th>\n      <th>1</th>\n      <th>2</th>\n      <th>3</th>\n      <th>4</th>\n    </tr>\n  </thead>\n  <tbody>\n    <tr>\n      <th>0</th>\n      <td>1</td>\n      <td>withdrawal behavior</td>\n      <td>5</td>\n      <td>irrel1</td>\n      <td>irrel2</td>\n    </tr>\n    <tr>\n      <th>1</th>\n      <td>1</td>\n      <td>positive re-framing</td>\n      <td>2</td>\n      <td>irrel1</td>\n      <td>irrel2</td>\n    </tr>\n    <tr>\n      <th>2</th>\n      <td>2</td>\n      <td>withdrawal behavior</td>\n      <td>3</td>\n      <td>irrel1</td>\n      <td>irrel2</td>\n    </tr>\n    <tr>\n      <th>3</th>\n      <td>2</td>\n      <td>positive re-framing</td>\n      <td>4</td>\n      <td>irrel1</td>\n      <td>irrel2</td>\n    </tr>\n  </tbody>\n</table>\n</div>"
     },
     "metadata": {},
     "output_type": "execute_result",
     "execution_count": 5
    }
   ],
   "source": [
    "local_copy = pandas.DataFrame(sql_df.collect())\n",
    "local_copy"
   ],
   "metadata": {
    "collapsed": false,
    "pycharm": {
     "name": "#%%\n",
     "is_executing": false
    }
   }
  },
  {
   "cell_type": "code",
   "execution_count": 6,
   "outputs": [
    {
     "name": "stdout",
     "text": [
      "TableDescription(\n    table_name=\"d\",\n    column_names=[\n        \"subjectID\",\n        \"surveyCategory\",\n        \"assessmentTotal\",\n        \"irrelevantCol1\",\n        \"irrelevantCol2\",\n    ],\n).extend({\"probability\": \"(assessmentTotal * 0.237).exp()\"}).extend(\n    {\"total\": \"probability.sum()\"}, partition_by=[\"subjectID\"]\n).extend(\n    {\"probability\": \"probability / total\"}\n).extend(\n    {\"sort_key\": \"-probability\"}\n).extend(\n    {\"row_number\": \"_row_number()\"}, partition_by=[\"subjectID\"], order_by=[\"sort_key\"]\n).select_rows(\n    \"row_number == 1\"\n).select_columns(\n    [\"subjectID\", \"surveyCategory\", \"probability\"]\n).rename_columns(\n    {\"diagnosis\": \"surveyCategory\"}\n)\n\n"
     ],
     "output_type": "stream"
    }
   ],
   "source": [
    "scale = 0.237\n",
    "\n",
    "with data_algebra.env.Env(locals()) as env:\n",
    "    ops = data_algebra.data_ops.describe_table(d_local, 'd'). \\\n",
    "        extend({'probability': '(assessmentTotal * scale).exp()'}). \\\n",
    "        extend({'total': 'probability.sum()'},\n",
    "               partition_by='subjectID'). \\\n",
    "        extend({'probability': 'probability/total'}). \\\n",
    "        extend({'sort_key': '-probability'}). \\\n",
    "        extend({'row_number': '_row_number()'},\n",
    "               partition_by=['subjectID'],\n",
    "               order_by=['sort_key']). \\\n",
    "        select_rows('row_number == 1'). \\\n",
    "        select_columns(['subjectID', 'surveyCategory', 'probability']). \\\n",
    "        rename_columns({'diagnosis': 'surveyCategory'})\n",
    "    \n",
    "print(ops.to_python(pretty=True))"
   ],
   "metadata": {
    "collapsed": false,
    "pycharm": {
     "name": "#%%\n",
     "is_executing": false
    }
   }
  },
  {
   "cell_type": "code",
   "execution_count": 7,
   "outputs": [
    {
     "name": "stdout",
     "text": [
      "SELECT probability,\n       subjectid,\n       surveycategory AS diagnosis\nFROM\n  (SELECT surveycategory,\n          probability,\n          subjectid\n   FROM\n     (SELECT surveycategory,\n             probability,\n             subjectid\n      FROM\n        (SELECT surveycategory,\n                probability,\n                sort_key,\n                subjectid,\n                ROW_NUMBER() OVER (PARTITION BY subjectid\n                                   ORDER BY sort_key) AS row_number\n         FROM\n           (SELECT surveycategory,\n                   probability,\n                   subjectid,\n                   (-probability) AS sort_key\n            FROM\n              (SELECT surveycategory,\n                      subjectid,\n                      probability / total AS probability\n               FROM\n                 (SELECT surveycategory,\n                         probability,\n                         subjectid,\n                         SUM(probability) OVER (PARTITION BY subjectid) AS total\n                  FROM\n                    (SELECT surveycategory,\n                            subjectid,\n                            EXP((assessmenttotal * 0.237)) AS probability\n                     FROM\n                       (SELECT surveycategory,\n                               subjectid,\n                               assessmenttotal\n                        FROM d) sq_0) sq_1) sq_2) sq_3) sq_4) sq_5\n      WHERE row_number = 1 ) sq_6) sq_7\n"
     ],
     "output_type": "stream"
    }
   ],
   "source": [
    "# Use PostgreSQL SQL model as a stand-in for Spark SQL model \n",
    "db_model = data_algebra.PostgreSQL.PostgreSQLModel()\n",
    "sql = ops.to_sql(db_model, pretty=True)\n",
    "# need to finish Spark emitter\n",
    "sql = sql.replace('\"', '')\n",
    "print(sql)"
   ],
   "metadata": {
    "collapsed": false,
    "pycharm": {
     "name": "#%%\n",
     "is_executing": false
    }
   }
  },
  {
   "cell_type": "code",
   "execution_count": 8,
   "outputs": [],
   "source": [
    "sql_q = spark.sql(sql)\n"
   ],
   "metadata": {
    "collapsed": false,
    "pycharm": {
     "name": "#%%\n",
     "is_executing": false
    }
   }
  },
  {
   "cell_type": "code",
   "execution_count": 9,
   "outputs": [
    {
     "data": {
      "text/plain": "          0  1                    2\n0  0.670622  1  withdrawal behavior\n1  0.558974  2  positive re-framing",
      "text/html": "<div>\n<style scoped>\n    .dataframe tbody tr th:only-of-type {\n        vertical-align: middle;\n    }\n\n    .dataframe tbody tr th {\n        vertical-align: top;\n    }\n\n    .dataframe thead th {\n        text-align: right;\n    }\n</style>\n<table border=\"1\" class=\"dataframe\">\n  <thead>\n    <tr style=\"text-align: right;\">\n      <th></th>\n      <th>0</th>\n      <th>1</th>\n      <th>2</th>\n    </tr>\n  </thead>\n  <tbody>\n    <tr>\n      <th>0</th>\n      <td>0.670622</td>\n      <td>1</td>\n      <td>withdrawal behavior</td>\n    </tr>\n    <tr>\n      <th>1</th>\n      <td>0.558974</td>\n      <td>2</td>\n      <td>positive re-framing</td>\n    </tr>\n  </tbody>\n</table>\n</div>"
     },
     "metadata": {},
     "output_type": "execute_result",
     "execution_count": 9
    }
   ],
   "source": [
    "res = pandas.DataFrame(sql_q.collect())\n",
    "res"
   ],
   "metadata": {
    "collapsed": false,
    "pycharm": {
     "name": "#%%\n",
     "is_executing": false
    }
   }
  },
  {
   "cell_type": "code",
   "execution_count": 10,
   "outputs": [],
   "source": [
    "sc.stop()"
   ],
   "metadata": {
    "collapsed": false,
    "pycharm": {
     "name": "#%%\n",
     "is_executing": false
    }
   }
  }
 ],
 "metadata": {
  "kernelspec": {
   "display_name": "Python 3",
   "language": "python",
   "name": "python3"
  },
  "language_info": {
   "codemirror_mode": {
    "name": "ipython",
    "version": 2
   },
   "file_extension": ".py",
   "mimetype": "text/x-python",
   "name": "python",
   "nbconvert_exporter": "python",
   "pygments_lexer": "ipython2",
   "version": "2.7.6"
  },
  "pycharm": {
   "stem_cell": {
    "cell_type": "raw",
    "source": [],
    "metadata": {
     "collapsed": false
    }
   }
  }
 },
 "nbformat": 4,
 "nbformat_minor": 0
}