{
 "cells": [
  {
   "cell_type": "markdown",
   "metadata": {
    "pycharm": {
     "is_executing": false
    }
   },
   "source": [
    "This is an [Apache `Spark`](https://spark.apache.org) variation of the [logistic scoring example](https://github.com/WinVector/data_algebra/blob/master/Examples/LogisticExample/ScoringExample.ipynb).\n",
    "\n",
    "Not all of the Spark code path is currently implemented/tested, but this gives the idea.\n"
   ]
  },
  {
   "cell_type": "code",
   "execution_count": 1,
   "metadata": {},
   "outputs": [],
   "source": [
    "import pyspark\n",
    "import pyspark.sql\n",
    "\n",
    "import pandas\n",
    "\n",
    "from data_algebra.data_ops import *\n",
    "import data_algebra.SparkSQL"
   ]
  },
  {
   "cell_type": "code",
   "execution_count": 2,
   "metadata": {
    "collapsed": false,
    "jupyter": {
     "outputs_hidden": false
    },
    "pycharm": {
     "name": "#%%\n"
    }
   },
   "outputs": [
    {
     "data": {
      "text/plain": "   subjectID       surveyCategory  assessmentTotal irrelevantCol1  \\\n0          1  withdrawal behavior                5         irrel1   \n1          1  positive re-framing                2         irrel1   \n2          2  withdrawal behavior                3         irrel1   \n3          2  positive re-framing                4         irrel1   \n\n  irrelevantCol2  \n0         irrel2  \n1         irrel2  \n2         irrel2  \n3         irrel2  ",
      "text/html": "<div>\n<style scoped>\n    .dataframe tbody tr th:only-of-type {\n        vertical-align: middle;\n    }\n\n    .dataframe tbody tr th {\n        vertical-align: top;\n    }\n\n    .dataframe thead th {\n        text-align: right;\n    }\n</style>\n<table border=\"1\" class=\"dataframe\">\n  <thead>\n    <tr style=\"text-align: right;\">\n      <th></th>\n      <th>subjectID</th>\n      <th>surveyCategory</th>\n      <th>assessmentTotal</th>\n      <th>irrelevantCol1</th>\n      <th>irrelevantCol2</th>\n    </tr>\n  </thead>\n  <tbody>\n    <tr>\n      <th>0</th>\n      <td>1</td>\n      <td>withdrawal behavior</td>\n      <td>5</td>\n      <td>irrel1</td>\n      <td>irrel2</td>\n    </tr>\n    <tr>\n      <th>1</th>\n      <td>1</td>\n      <td>positive re-framing</td>\n      <td>2</td>\n      <td>irrel1</td>\n      <td>irrel2</td>\n    </tr>\n    <tr>\n      <th>2</th>\n      <td>2</td>\n      <td>withdrawal behavior</td>\n      <td>3</td>\n      <td>irrel1</td>\n      <td>irrel2</td>\n    </tr>\n    <tr>\n      <th>3</th>\n      <td>2</td>\n      <td>positive re-framing</td>\n      <td>4</td>\n      <td>irrel1</td>\n      <td>irrel2</td>\n    </tr>\n  </tbody>\n</table>\n</div>"
     },
     "execution_count": 2,
     "metadata": {},
     "output_type": "execute_result"
    }
   ],
   "source": [
    "d_local = pandas.DataFrame({\n",
    "    'subjectID':[1, 1, 2, 2],\n",
    "    'surveyCategory': [ \"withdrawal behavior\", \"positive re-framing\", \"withdrawal behavior\", \"positive re-framing\"],\n",
    "    'assessmentTotal': [5, 2, 3, 4],\n",
    "    'irrelevantCol1': ['irrel1']*4,\n",
    "    'irrelevantCol2': ['irrel2']*4,\n",
    "})\n",
    "\n",
    "d_local"
   ]
  },
  {
   "cell_type": "code",
   "execution_count": 3,
   "metadata": {
    "collapsed": false,
    "jupyter": {
     "outputs_hidden": false
    },
    "pycharm": {
     "name": "#%%\n"
    }
   },
   "outputs": [],
   "source": [
    "handle = data_algebra.SparkSQL.example_handle()\n"
   ]
  },
  {
   "cell_type": "code",
   "execution_count": 4,
   "metadata": {
    "collapsed": false,
    "jupyter": {
     "outputs_hidden": false
    },
    "pycharm": {
     "name": "#%%\n"
    }
   },
   "outputs": [
    {
     "data": {
      "text/plain": "TableDescription(\n table_name='d',\n column_names=[\n   'subjectID', 'surveyCategory', 'assessmentTotal', 'irrelevantCol1',  \n 'irrelevantCol2'])"
     },
     "execution_count": 4,
     "metadata": {},
     "output_type": "execute_result"
    }
   ],
   "source": [
    "handle.insert_table(d_local, table_name='d', allow_overwrite=True)"
   ]
  },
  {
   "cell_type": "code",
   "execution_count": 5,
   "metadata": {
    "collapsed": false,
    "jupyter": {
     "outputs_hidden": false
    },
    "pycharm": {
     "name": "#%%\n"
    }
   },
   "outputs": [
    {
     "data": {
      "text/plain": "   subjectID       surveyCategory  assessmentTotal irrelevantCol1  \\\n0          1  withdrawal behavior                5         irrel1   \n1          1  positive re-framing                2         irrel1   \n2          2  withdrawal behavior                3         irrel1   \n3          2  positive re-framing                4         irrel1   \n\n  irrelevantCol2  \n0         irrel2  \n1         irrel2  \n2         irrel2  \n3         irrel2  ",
      "text/html": "<div>\n<style scoped>\n    .dataframe tbody tr th:only-of-type {\n        vertical-align: middle;\n    }\n\n    .dataframe tbody tr th {\n        vertical-align: top;\n    }\n\n    .dataframe thead th {\n        text-align: right;\n    }\n</style>\n<table border=\"1\" class=\"dataframe\">\n  <thead>\n    <tr style=\"text-align: right;\">\n      <th></th>\n      <th>subjectID</th>\n      <th>surveyCategory</th>\n      <th>assessmentTotal</th>\n      <th>irrelevantCol1</th>\n      <th>irrelevantCol2</th>\n    </tr>\n  </thead>\n  <tbody>\n    <tr>\n      <th>0</th>\n      <td>1</td>\n      <td>withdrawal behavior</td>\n      <td>5</td>\n      <td>irrel1</td>\n      <td>irrel2</td>\n    </tr>\n    <tr>\n      <th>1</th>\n      <td>1</td>\n      <td>positive re-framing</td>\n      <td>2</td>\n      <td>irrel1</td>\n      <td>irrel2</td>\n    </tr>\n    <tr>\n      <th>2</th>\n      <td>2</td>\n      <td>withdrawal behavior</td>\n      <td>3</td>\n      <td>irrel1</td>\n      <td>irrel2</td>\n    </tr>\n    <tr>\n      <th>3</th>\n      <td>2</td>\n      <td>positive re-framing</td>\n      <td>4</td>\n      <td>irrel1</td>\n      <td>irrel2</td>\n    </tr>\n  </tbody>\n</table>\n</div>"
     },
     "execution_count": 5,
     "metadata": {},
     "output_type": "execute_result"
    }
   ],
   "source": [
    "local_copy = handle.read_query('SELECT * FROM d')\n",
    "\n",
    "local_copy"
   ]
  },
  {
   "cell_type": "code",
   "execution_count": 6,
   "metadata": {
    "collapsed": false,
    "jupyter": {
     "outputs_hidden": false
    },
    "pycharm": {
     "name": "#%%\n"
    }
   },
   "outputs": [
    {
     "name": "stdout",
     "output_type": "stream",
     "text": [
      "TableDescription(\n",
      "    table_name=\"d\",\n",
      "    column_names=[\n",
      "        \"subjectID\",\n",
      "        \"surveyCategory\",\n",
      "        \"assessmentTotal\",\n",
      "        \"irrelevantCol1\",\n",
      "        \"irrelevantCol2\",\n",
      "    ],\n",
      ").extend({\"probability\": \"((assessmentTotal * 0.237)).exp()\"}).extend(\n",
      "    {\"total\": \"probability.sum()\"}, partition_by=[\"subjectID\"]\n",
      ").extend(\n",
      "    {\"probability\": \"probability / total\"}\n",
      ").extend(\n",
      "    {\"row_number\": \"_row_number()\"},\n",
      "    partition_by=[\"subjectID\"],\n",
      "    order_by=[\"probability\"],\n",
      "    reverse=[\"probability\"],\n",
      ").select_rows(\n",
      "    \"row_number == 1\"\n",
      ").select_columns(\n",
      "    [\"subjectID\", \"surveyCategory\", \"probability\"]\n",
      ").rename_columns(\n",
      "    {\"diagnosis\": \"surveyCategory\"}\n",
      ")\n",
      "\n"
     ]
    }
   ],
   "source": [
    "scale = 0.237\n",
    "\n",
    "ops = data_algebra.data_ops.describe_table(d_local, 'd'). \\\n",
    "    extend({'probability': f'(assessmentTotal * {scale}).exp()'}). \\\n",
    "    extend({'total': 'probability.sum()'},\n",
    "           partition_by='subjectID'). \\\n",
    "    extend({'probability': 'probability/total'}). \\\n",
    "    extend({'row_number': '_row_number()'},\n",
    "           partition_by=['subjectID'],\n",
    "           order_by=['probability'], reverse=['probability']). \\\n",
    "    select_rows('row_number == 1'). \\\n",
    "    select_columns(['subjectID', 'surveyCategory', 'probability']). \\\n",
    "    rename_columns({'diagnosis': 'surveyCategory'})\n",
    "    \n",
    "print(ops.to_python(pretty=True))"
   ]
  },
  {
   "cell_type": "code",
   "execution_count": 7,
   "outputs": [
    {
     "data": {
      "text/plain": "   subjectID            diagnosis  probability\n0          1  withdrawal behavior     0.670622\n1          2  positive re-framing     0.558974",
      "text/html": "<div>\n<style scoped>\n    .dataframe tbody tr th:only-of-type {\n        vertical-align: middle;\n    }\n\n    .dataframe tbody tr th {\n        vertical-align: top;\n    }\n\n    .dataframe thead th {\n        text-align: right;\n    }\n</style>\n<table border=\"1\" class=\"dataframe\">\n  <thead>\n    <tr style=\"text-align: right;\">\n      <th></th>\n      <th>subjectID</th>\n      <th>diagnosis</th>\n      <th>probability</th>\n    </tr>\n  </thead>\n  <tbody>\n    <tr>\n      <th>0</th>\n      <td>1</td>\n      <td>withdrawal behavior</td>\n      <td>0.670622</td>\n    </tr>\n    <tr>\n      <th>1</th>\n      <td>2</td>\n      <td>positive re-framing</td>\n      <td>0.558974</td>\n    </tr>\n  </tbody>\n</table>\n</div>"
     },
     "execution_count": 7,
     "metadata": {},
     "output_type": "execute_result"
    }
   ],
   "source": [
    "ops.transform(d_local)\n"
   ],
   "metadata": {
    "collapsed": false,
    "pycharm": {
     "name": "#%%\n"
    }
   }
  },
  {
   "cell_type": "code",
   "execution_count": 8,
   "metadata": {
    "collapsed": false,
    "jupyter": {
     "outputs_hidden": false
    },
    "pycharm": {
     "name": "#%%\n"
    }
   },
   "outputs": [
    {
     "name": "stdout",
     "output_type": "stream",
     "text": [
      "-- data_algebra SQL https://github.com/WinVector/data_algebra\n",
      "--  dialect: SparkSQLModel\n",
      "--       string quote: \"\n",
      "--   identifier quote: `\n",
      "WITH `table_reference_0` AS\n",
      "  (SELECT `surveyCategory`,\n",
      "          `subjectID`,\n",
      "          `assessmentTotal`\n",
      "   FROM `d`),\n",
      "     `extend_1` AS\n",
      "  (SELECT -- extend({ 'probability': '((assessmentTotal * 0.237)).exp()'})\n",
      " `surveyCategory`,\n",
      " `subjectID`,\n",
      " EXP((`assessmentTotal` * 0.237)) AS `probability`\n",
      "   FROM `table_reference_0`),\n",
      "     `extend_2` AS\n",
      "  (SELECT -- extend({ 'total': 'probability.sum()'}, partition_by=['subjectID'])\n",
      " `surveyCategory`,\n",
      " `subjectID`,\n",
      " `probability`,\n",
      " SUM(`probability`) OVER (PARTITION BY `subjectID`) AS `total`\n",
      "   FROM `extend_1`),\n",
      "     `extend_3` AS\n",
      "  (SELECT -- extend({ 'probability': 'probability / total'})\n",
      " `surveyCategory`,\n",
      " `subjectID`,\n",
      " `probability` / `total` AS `probability`\n",
      "   FROM `extend_2`),\n",
      "     `extend_4` AS\n",
      "  (SELECT -- extend({ 'row_number': '_row_number()'}, partition_by=['subjectID'], order_by=['probability'], reverse=['probability'])\n",
      " `surveyCategory`,\n",
      " `subjectID`,\n",
      " `probability`,\n",
      " ROW_NUMBER() OVER (PARTITION BY `subjectID`\n",
      "                    ORDER BY `probability` DESC) AS `row_number`\n",
      "   FROM `extend_3`),\n",
      "     `select_rows_5` AS\n",
      "  (SELECT -- select_rows('row_number == 1')\n",
      " `surveyCategory`,\n",
      " `subjectID`,\n",
      " `probability`\n",
      "   FROM `extend_4`\n",
      "   WHERE `row_number` = 1 )\n",
      "SELECT -- rename_columns({'diagnosis': 'surveyCategory'})\n",
      " `surveyCategory` AS `diagnosis`,\n",
      " `subjectID`,\n",
      " `probability`\n",
      "FROM `select_rows_5`\n"
     ]
    }
   ],
   "source": [
    "sql = handle.to_sql(ops, pretty=True, use_with=True, annotate=True)\n",
    "\n",
    "print(sql)"
   ]
  },
  {
   "cell_type": "code",
   "execution_count": 9,
   "metadata": {
    "collapsed": false,
    "jupyter": {
     "outputs_hidden": false
    },
    "pycharm": {
     "name": "#%%\n"
    }
   },
   "outputs": [
    {
     "data": {
      "text/plain": "             diagnosis  subjectID  probability\n0  withdrawal behavior          1     0.670622\n1  positive re-framing          2     0.558974",
      "text/html": "<div>\n<style scoped>\n    .dataframe tbody tr th:only-of-type {\n        vertical-align: middle;\n    }\n\n    .dataframe tbody tr th {\n        vertical-align: top;\n    }\n\n    .dataframe thead th {\n        text-align: right;\n    }\n</style>\n<table border=\"1\" class=\"dataframe\">\n  <thead>\n    <tr style=\"text-align: right;\">\n      <th></th>\n      <th>diagnosis</th>\n      <th>subjectID</th>\n      <th>probability</th>\n    </tr>\n  </thead>\n  <tbody>\n    <tr>\n      <th>0</th>\n      <td>withdrawal behavior</td>\n      <td>1</td>\n      <td>0.670622</td>\n    </tr>\n    <tr>\n      <th>1</th>\n      <td>positive re-framing</td>\n      <td>2</td>\n      <td>0.558974</td>\n    </tr>\n  </tbody>\n</table>\n</div>"
     },
     "execution_count": 9,
     "metadata": {},
     "output_type": "execute_result"
    }
   ],
   "source": [
    "res = handle.read_query(sql)\n",
    "\n",
    "res"
   ]
  },
  {
   "cell_type": "code",
   "execution_count": 10,
   "metadata": {
    "collapsed": false,
    "jupyter": {
     "outputs_hidden": false
    },
    "pycharm": {
     "name": "#%%\n"
    }
   },
   "outputs": [],
   "source": [
    "handle.close()\n"
   ]
  }
 ],
 "metadata": {
  "kernelspec": {
   "display_name": "Python 3",
   "language": "python",
   "name": "python3"
  },
  "language_info": {
   "codemirror_mode": {
    "name": "ipython",
    "version": 3
   },
   "file_extension": ".py",
   "mimetype": "text/x-python",
   "name": "python",
   "nbconvert_exporter": "python",
   "pygments_lexer": "ipython3",
   "version": "3.6.9"
  }
 },
 "nbformat": 4,
 "nbformat_minor": 4
}