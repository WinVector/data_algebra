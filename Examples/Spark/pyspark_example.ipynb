{
 "cells": [
  {
   "cell_type": "markdown",
   "metadata": {
    "pycharm": {
     "is_executing": false
    }
   },
   "source": [
    "This is an [Apache `Spark`](https://spark.apache.org) variation of the [logistic scoring example](https://github.com/WinVector/data_algebra/blob/master/Examples/LogisticExample/ScoringExample.ipynb)."
   ]
  },
  {
   "cell_type": "code",
   "execution_count": 1,
   "metadata": {},
   "outputs": [],
   "source": [
    "import pyspark\n",
    "import pyspark.sql\n",
    "\n",
    "import pandas\n",
    "\n",
    "from data_algebra.data_ops import *\n",
    "import data_algebra.SparkSQL"
   ]
  },
  {
   "cell_type": "code",
   "execution_count": 2,
   "metadata": {
    "collapsed": false,
    "jupyter": {
     "outputs_hidden": false
    },
    "pycharm": {
     "is_executing": false,
     "name": "#%%\n"
    }
   },
   "outputs": [
    {
     "data": {
      "text/html": [
       "<div>\n",
       "<style scoped>\n",
       "    .dataframe tbody tr th:only-of-type {\n",
       "        vertical-align: middle;\n",
       "    }\n",
       "\n",
       "    .dataframe tbody tr th {\n",
       "        vertical-align: top;\n",
       "    }\n",
       "\n",
       "    .dataframe thead th {\n",
       "        text-align: right;\n",
       "    }\n",
       "</style>\n",
       "<table border=\"1\" class=\"dataframe\">\n",
       "  <thead>\n",
       "    <tr style=\"text-align: right;\">\n",
       "      <th></th>\n",
       "      <th>subjectID</th>\n",
       "      <th>surveyCategory</th>\n",
       "      <th>assessmentTotal</th>\n",
       "      <th>irrelevantCol1</th>\n",
       "      <th>irrelevantCol2</th>\n",
       "    </tr>\n",
       "  </thead>\n",
       "  <tbody>\n",
       "    <tr>\n",
       "      <th>0</th>\n",
       "      <td>1</td>\n",
       "      <td>withdrawal behavior</td>\n",
       "      <td>5</td>\n",
       "      <td>irrel1</td>\n",
       "      <td>irrel2</td>\n",
       "    </tr>\n",
       "    <tr>\n",
       "      <th>1</th>\n",
       "      <td>1</td>\n",
       "      <td>positive re-framing</td>\n",
       "      <td>2</td>\n",
       "      <td>irrel1</td>\n",
       "      <td>irrel2</td>\n",
       "    </tr>\n",
       "    <tr>\n",
       "      <th>2</th>\n",
       "      <td>2</td>\n",
       "      <td>withdrawal behavior</td>\n",
       "      <td>3</td>\n",
       "      <td>irrel1</td>\n",
       "      <td>irrel2</td>\n",
       "    </tr>\n",
       "    <tr>\n",
       "      <th>3</th>\n",
       "      <td>2</td>\n",
       "      <td>positive re-framing</td>\n",
       "      <td>4</td>\n",
       "      <td>irrel1</td>\n",
       "      <td>irrel2</td>\n",
       "    </tr>\n",
       "  </tbody>\n",
       "</table>\n",
       "</div>"
      ],
      "text/plain": [
       "   subjectID       surveyCategory  assessmentTotal irrelevantCol1  \\\n",
       "0          1  withdrawal behavior                5         irrel1   \n",
       "1          1  positive re-framing                2         irrel1   \n",
       "2          2  withdrawal behavior                3         irrel1   \n",
       "3          2  positive re-framing                4         irrel1   \n",
       "\n",
       "  irrelevantCol2  \n",
       "0         irrel2  \n",
       "1         irrel2  \n",
       "2         irrel2  \n",
       "3         irrel2  "
      ]
     },
     "execution_count": 2,
     "metadata": {},
     "output_type": "execute_result"
    }
   ],
   "source": [
    "d_local = pandas.DataFrame({\n",
    "    'subjectID':[1, 1, 2, 2],\n",
    "    'surveyCategory': [ \"withdrawal behavior\", \"positive re-framing\", \"withdrawal behavior\", \"positive re-framing\"],\n",
    "    'assessmentTotal': [5, 2, 3, 4],\n",
    "    'irrelevantCol1': ['irrel1']*4,\n",
    "    'irrelevantCol2': ['irrel2']*4,\n",
    "})\n",
    "d_local"
   ]
  },
  {
   "cell_type": "code",
   "execution_count": 3,
   "metadata": {
    "collapsed": false,
    "jupyter": {
     "outputs_hidden": false
    },
    "pycharm": {
     "is_executing": false,
     "name": "#%%\n"
    }
   },
   "outputs": [
    {
     "data": {
      "text/plain": [
       "DataFrame[subjectID: bigint, surveyCategory: string, assessmentTotal: bigint, irrelevantCol1: string, irrelevantCol2: string]"
      ]
     },
     "execution_count": 3,
     "metadata": {},
     "output_type": "execute_result"
    }
   ],
   "source": [
    "sc = pyspark.SparkContext()\n",
    "spark = pyspark.sql.SparkSession.builder.appName('pandasToSparkDF').getOrCreate()\n",
    "\n",
    "d_spark = spark.createDataFrame(d_local)\n",
    "d_spark"
   ]
  },
  {
   "cell_type": "code",
   "execution_count": 4,
   "metadata": {
    "collapsed": false,
    "jupyter": {
     "outputs_hidden": false
    },
    "pycharm": {
     "is_executing": false,
     "name": "#%%\n"
    }
   },
   "outputs": [
    {
     "name": "stdout",
     "output_type": "stream",
     "text": [
      "+---------+-------------------+---------------+--------------+--------------+\n",
      "|subjectID|     surveyCategory|assessmentTotal|irrelevantCol1|irrelevantCol2|\n",
      "+---------+-------------------+---------------+--------------+--------------+\n",
      "|        1|withdrawal behavior|              5|        irrel1|        irrel2|\n",
      "|        1|positive re-framing|              2|        irrel1|        irrel2|\n",
      "|        2|withdrawal behavior|              3|        irrel1|        irrel2|\n",
      "|        2|positive re-framing|              4|        irrel1|        irrel2|\n",
      "+---------+-------------------+---------------+--------------+--------------+\n",
      "\n"
     ]
    }
   ],
   "source": [
    "d_spark.createOrReplaceTempView(\"d\")\n",
    "sql_df = spark.sql(\"SELECT * FROM d\")\n",
    "sql_df.show()"
   ]
  },
  {
   "cell_type": "code",
   "execution_count": 5,
   "metadata": {
    "collapsed": false,
    "jupyter": {
     "outputs_hidden": false
    },
    "pycharm": {
     "is_executing": false,
     "name": "#%%\n"
    }
   },
   "outputs": [
    {
     "data": {
      "text/html": [
       "<div>\n",
       "<style scoped>\n",
       "    .dataframe tbody tr th:only-of-type {\n",
       "        vertical-align: middle;\n",
       "    }\n",
       "\n",
       "    .dataframe tbody tr th {\n",
       "        vertical-align: top;\n",
       "    }\n",
       "\n",
       "    .dataframe thead th {\n",
       "        text-align: right;\n",
       "    }\n",
       "</style>\n",
       "<table border=\"1\" class=\"dataframe\">\n",
       "  <thead>\n",
       "    <tr style=\"text-align: right;\">\n",
       "      <th></th>\n",
       "      <th>0</th>\n",
       "      <th>1</th>\n",
       "      <th>2</th>\n",
       "      <th>3</th>\n",
       "      <th>4</th>\n",
       "    </tr>\n",
       "  </thead>\n",
       "  <tbody>\n",
       "    <tr>\n",
       "      <th>0</th>\n",
       "      <td>1</td>\n",
       "      <td>withdrawal behavior</td>\n",
       "      <td>5</td>\n",
       "      <td>irrel1</td>\n",
       "      <td>irrel2</td>\n",
       "    </tr>\n",
       "    <tr>\n",
       "      <th>1</th>\n",
       "      <td>1</td>\n",
       "      <td>positive re-framing</td>\n",
       "      <td>2</td>\n",
       "      <td>irrel1</td>\n",
       "      <td>irrel2</td>\n",
       "    </tr>\n",
       "    <tr>\n",
       "      <th>2</th>\n",
       "      <td>2</td>\n",
       "      <td>withdrawal behavior</td>\n",
       "      <td>3</td>\n",
       "      <td>irrel1</td>\n",
       "      <td>irrel2</td>\n",
       "    </tr>\n",
       "    <tr>\n",
       "      <th>3</th>\n",
       "      <td>2</td>\n",
       "      <td>positive re-framing</td>\n",
       "      <td>4</td>\n",
       "      <td>irrel1</td>\n",
       "      <td>irrel2</td>\n",
       "    </tr>\n",
       "  </tbody>\n",
       "</table>\n",
       "</div>"
      ],
      "text/plain": [
       "   0                    1  2       3       4\n",
       "0  1  withdrawal behavior  5  irrel1  irrel2\n",
       "1  1  positive re-framing  2  irrel1  irrel2\n",
       "2  2  withdrawal behavior  3  irrel1  irrel2\n",
       "3  2  positive re-framing  4  irrel1  irrel2"
      ]
     },
     "execution_count": 5,
     "metadata": {},
     "output_type": "execute_result"
    }
   ],
   "source": [
    "local_copy = pandas.DataFrame(sql_df.collect())\n",
    "local_copy"
   ]
  },
  {
   "cell_type": "code",
   "execution_count": 6,
   "metadata": {
    "collapsed": false,
    "jupyter": {
     "outputs_hidden": false
    },
    "pycharm": {
     "is_executing": false,
     "name": "#%%\n"
    }
   },
   "outputs": [
    {
     "name": "stdout",
     "output_type": "stream",
     "text": [
      "TableDescription(\n",
      "    table_name=\"d\",\n",
      "    column_names=[\n",
      "        \"subjectID\",\n",
      "        \"surveyCategory\",\n",
      "        \"assessmentTotal\",\n",
      "        \"irrelevantCol1\",\n",
      "        \"irrelevantCol2\",\n",
      "    ],\n",
      ").extend({\"probability\": \"(assessmentTotal * 0.237).exp()\"}).extend(\n",
      "    {\"total\": \"probability.sum()\"}, partition_by=[\"subjectID\"]\n",
      ").extend(\n",
      "    {\"probability\": \"probability / total\"}\n",
      ").extend(\n",
      "    {\"sort_key\": \"-probability\"}\n",
      ").extend(\n",
      "    {\"row_number\": \"_row_number()\"}, partition_by=[\"subjectID\"], order_by=[\"sort_key\"]\n",
      ").select_rows(\n",
      "    \"row_number == 1\"\n",
      ").select_columns(\n",
      "    [\"subjectID\", \"surveyCategory\", \"probability\"]\n",
      ").rename_columns(\n",
      "    {\"diagnosis\": \"surveyCategory\"}\n",
      ")\n",
      "\n"
     ]
    }
   ],
   "source": [
    "scale = 0.237\n",
    "\n",
    "ops = data_algebra.data_ops.describe_table(d_local, 'd'). \\\n",
    "    extend({'probability': f'(assessmentTotal * {scale}).exp()'}). \\\n",
    "    extend({'total': 'probability.sum()'},\n",
    "           partition_by='subjectID'). \\\n",
    "    extend({'probability': 'probability/total'}). \\\n",
    "    extend({'sort_key': '-probability'}). \\\n",
    "    extend({'row_number': '_row_number()'},\n",
    "           partition_by=['subjectID'],\n",
    "           order_by=['sort_key']). \\\n",
    "    select_rows('row_number == 1'). \\\n",
    "    select_columns(['subjectID', 'surveyCategory', 'probability']). \\\n",
    "    rename_columns({'diagnosis': 'surveyCategory'})\n",
    "    \n",
    "print(ops.to_python(pretty=True))"
   ]
  },
  {
   "cell_type": "code",
   "execution_count": 7,
   "metadata": {
    "collapsed": false,
    "jupyter": {
     "outputs_hidden": false
    },
    "pycharm": {
     "is_executing": false,
     "name": "#%%\n"
    }
   },
   "outputs": [
    {
     "name": "stdout",
     "output_type": "stream",
     "text": [
      "SELECT `probability`,\n",
      "       `subjectid`,\n",
      "       `surveycategory` AS `diagnosis`\n",
      "FROM (\n",
      "SELECT `probability`,\n",
      "       `surveycategory`,\n",
      "       `subjectid`\n",
      "FROM (\n",
      "SELECT `probability`,\n",
      "       `surveycategory`,\n",
      "       `subjectid`\n",
      "FROM (\n",
      "SELECT `probability`,\n",
      "       `surveycategory`,\n",
      "       `sort_key`,\n",
      "       `subjectid`,\n",
      "       ROW_NUMBER() OVER (PARTITION BY `subjectid`\n",
      "                          ORDER BY `sort_key`) AS `row_number`\n",
      "FROM (\n",
      "SELECT `probability`,\n",
      "       `surveycategory`,\n",
      "       `subjectid`, ( -`probability` ) AS `sort_key` FROM ( SELECT `surveycategory`, `subjectid`, `probability` / `total` AS `probability` FROM ( SELECT `probability`, `surveycategory`, `subjectid`, SUM(`probability`) OVER ( PARTITION BY `subjectid`  )  AS `total` FROM ( SELECT `surveycategory`, `subjectid`, EXP((`assessmenttotal` * 0.237)) AS `probability` FROM ( SELECT `assessmenttotal`, `surveycategory`, `subjectid` FROM `d` ) `sq_0` ) `sq_1` ) `sq_2` ) `sq_3` ) `sq_4` ) `sq_5` WHERE `row_number` = 1 ) `sq_6` ) `sq_7`\n"
     ]
    }
   ],
   "source": [
    "db_model = data_algebra.SparkSQL.SparkSQLModel()\n",
    "sql = ops.to_sql(db_model, pretty=True)\n",
    "print(sql)"
   ]
  },
  {
   "cell_type": "code",
   "execution_count": 8,
   "metadata": {
    "collapsed": false,
    "jupyter": {
     "outputs_hidden": false
    },
    "pycharm": {
     "is_executing": false,
     "name": "#%%\n"
    }
   },
   "outputs": [],
   "source": [
    "sql_q = spark.sql(sql)\n"
   ]
  },
  {
   "cell_type": "code",
   "execution_count": 9,
   "metadata": {
    "collapsed": false,
    "jupyter": {
     "outputs_hidden": false
    },
    "pycharm": {
     "is_executing": false,
     "name": "#%%\n"
    }
   },
   "outputs": [
    {
     "data": {
      "text/html": [
       "<div>\n",
       "<style scoped>\n",
       "    .dataframe tbody tr th:only-of-type {\n",
       "        vertical-align: middle;\n",
       "    }\n",
       "\n",
       "    .dataframe tbody tr th {\n",
       "        vertical-align: top;\n",
       "    }\n",
       "\n",
       "    .dataframe thead th {\n",
       "        text-align: right;\n",
       "    }\n",
       "</style>\n",
       "<table border=\"1\" class=\"dataframe\">\n",
       "  <thead>\n",
       "    <tr style=\"text-align: right;\">\n",
       "      <th></th>\n",
       "      <th>0</th>\n",
       "      <th>1</th>\n",
       "      <th>2</th>\n",
       "    </tr>\n",
       "  </thead>\n",
       "  <tbody>\n",
       "    <tr>\n",
       "      <th>0</th>\n",
       "      <td>0.670622</td>\n",
       "      <td>1</td>\n",
       "      <td>withdrawal behavior</td>\n",
       "    </tr>\n",
       "    <tr>\n",
       "      <th>1</th>\n",
       "      <td>0.558974</td>\n",
       "      <td>2</td>\n",
       "      <td>positive re-framing</td>\n",
       "    </tr>\n",
       "  </tbody>\n",
       "</table>\n",
       "</div>"
      ],
      "text/plain": [
       "          0  1                    2\n",
       "0  0.670622  1  withdrawal behavior\n",
       "1  0.558974  2  positive re-framing"
      ]
     },
     "execution_count": 9,
     "metadata": {},
     "output_type": "execute_result"
    }
   ],
   "source": [
    "res = pandas.DataFrame(sql_q.collect())\n",
    "res"
   ]
  },
  {
   "cell_type": "code",
   "execution_count": 10,
   "metadata": {
    "collapsed": false,
    "jupyter": {
     "outputs_hidden": false
    },
    "pycharm": {
     "is_executing": false,
     "name": "#%%\n"
    }
   },
   "outputs": [],
   "source": [
    "sc.stop()"
   ]
  }
 ],
 "metadata": {
  "kernelspec": {
   "display_name": "Python 3",
   "language": "python",
   "name": "python3"
  },
  "language_info": {
   "codemirror_mode": {
    "name": "ipython",
    "version": 3
   },
   "file_extension": ".py",
   "mimetype": "text/x-python",
   "name": "python",
   "nbconvert_exporter": "python",
   "pygments_lexer": "ipython3",
   "version": "3.6.9"
  }
 },
 "nbformat": 4,
 "nbformat_minor": 4
}