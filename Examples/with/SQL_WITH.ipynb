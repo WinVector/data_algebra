{
 "cells": [
  {
   "cell_type": "markdown",
   "metadata": {
    "pycharm": {
     "name": "#%% md\n"
    }
   },
   "source": [
    "An example of using SQL WITH Common Table Expressions to produce more legible\n",
    "SQL.\n",
    "\n",
    "A major complaint with SQL is that it composes statements by right-ward nesting.\n",
    "That is: a sequence of operations `A -> B -> C` is represented as `SELECT C FROM SELECT B FROM SELECT A`.\n",
    "However, the SQL 99 standard introduced the `WITH` statement and common table\n",
    "expressions ([ref](https://en.wikipedia.org/wiki/Hierarchical_and_recursive_queries_in_SQL)).\n",
    "These statements allow forward composition.\n",
    "\n",
    "Let's take a look at asking the `data_algebra` ([ref](https://github.com/WinVector/data_algebra)) to emit SQL with and without common table expressions.\n",
    "\n",
    "First we set up some example data."
   ]
  },
  {
   "cell_type": "code",
   "execution_count": 1,
   "metadata": {
    "collapsed": false,
    "jupyter": {
     "outputs_hidden": false
    },
    "pycharm": {
     "name": "#%%\n"
    }
   },
   "outputs": [
    {
     "data": {
      "text/html": [
       "<div>\n",
       "<style scoped>\n",
       "    .dataframe tbody tr th:only-of-type {\n",
       "        vertical-align: middle;\n",
       "    }\n",
       "\n",
       "    .dataframe tbody tr th {\n",
       "        vertical-align: top;\n",
       "    }\n",
       "\n",
       "    .dataframe thead th {\n",
       "        text-align: right;\n",
       "    }\n",
       "</style>\n",
       "<table border=\"1\" class=\"dataframe\">\n",
       "  <thead>\n",
       "    <tr style=\"text-align: right;\">\n",
       "      <th></th>\n",
       "      <th>x</th>\n",
       "    </tr>\n",
       "  </thead>\n",
       "  <tbody>\n",
       "    <tr>\n",
       "      <th>0</th>\n",
       "      <td>1</td>\n",
       "    </tr>\n",
       "    <tr>\n",
       "      <th>1</th>\n",
       "      <td>2</td>\n",
       "    </tr>\n",
       "    <tr>\n",
       "      <th>2</th>\n",
       "      <td>3</td>\n",
       "    </tr>\n",
       "  </tbody>\n",
       "</table>\n",
       "</div>"
      ],
      "text/plain": [
       "   x\n",
       "0  1\n",
       "1  2\n",
       "2  3"
      ]
     },
     "execution_count": 1,
     "metadata": {},
     "output_type": "execute_result"
    }
   ],
   "source": [
    "import sqlite3\n",
    "\n",
    "from data_algebra.data_ops import *\n",
    "import data_algebra.test_util\n",
    "import data_algebra.SQLite\n",
    "\n",
    "d = data_algebra.default_data_model.pd.DataFrame({\n",
    "    'x': [1, 2, 3]\n",
    "})\n",
    "\n",
    "d"
   ]
  },
  {
   "cell_type": "markdown",
   "metadata": {
    "pycharm": {
     "name": "#%% md\n"
    }
   },
   "source": [
    "Next we set up our calculations. Please note the order they are performed."
   ]
  },
  {
   "cell_type": "code",
   "execution_count": 2,
   "metadata": {
    "collapsed": false,
    "jupyter": {
     "outputs_hidden": false
    },
    "pycharm": {
     "name": "#%%\n"
    }
   },
   "outputs": [
    {
     "data": {
      "text/plain": [
       "TableDescription(\n",
       " table_name='d',\n",
       " column_names=[\n",
       "   'x']) .\\\n",
       "   extend({\n",
       "    'z': 'x + 1'}) .\\\n",
       "   extend({\n",
       "    'q': 'z + 2'}) .\\\n",
       "   extend({\n",
       "    'h': 'q + 3'})"
      ]
     },
     "execution_count": 2,
     "metadata": {},
     "output_type": "execute_result"
    }
   ],
   "source": [
    "ops = describe_table(d, table_name='d') .\\\n",
    "    extend({'z': 'x + 1'}) .\\\n",
    "    extend({'q': 'z + 2'}) .\\\n",
    "    extend({'h': 'q + 3'})\n",
    "\n",
    "ops"
   ]
  },
  {
   "cell_type": "code",
   "execution_count": 3,
   "metadata": {
    "collapsed": false,
    "jupyter": {
     "outputs_hidden": false
    },
    "pycharm": {
     "name": "#%%\n"
    }
   },
   "outputs": [
    {
     "data": {
      "text/html": [
       "<div>\n",
       "<style scoped>\n",
       "    .dataframe tbody tr th:only-of-type {\n",
       "        vertical-align: middle;\n",
       "    }\n",
       "\n",
       "    .dataframe tbody tr th {\n",
       "        vertical-align: top;\n",
       "    }\n",
       "\n",
       "    .dataframe thead th {\n",
       "        text-align: right;\n",
       "    }\n",
       "</style>\n",
       "<table border=\"1\" class=\"dataframe\">\n",
       "  <thead>\n",
       "    <tr style=\"text-align: right;\">\n",
       "      <th></th>\n",
       "      <th>x</th>\n",
       "      <th>z</th>\n",
       "      <th>q</th>\n",
       "      <th>h</th>\n",
       "    </tr>\n",
       "  </thead>\n",
       "  <tbody>\n",
       "    <tr>\n",
       "      <th>0</th>\n",
       "      <td>1</td>\n",
       "      <td>2</td>\n",
       "      <td>4</td>\n",
       "      <td>7</td>\n",
       "    </tr>\n",
       "    <tr>\n",
       "      <th>1</th>\n",
       "      <td>2</td>\n",
       "      <td>3</td>\n",
       "      <td>5</td>\n",
       "      <td>8</td>\n",
       "    </tr>\n",
       "    <tr>\n",
       "      <th>2</th>\n",
       "      <td>3</td>\n",
       "      <td>4</td>\n",
       "      <td>6</td>\n",
       "      <td>9</td>\n",
       "    </tr>\n",
       "  </tbody>\n",
       "</table>\n",
       "</div>"
      ],
      "text/plain": [
       "   x  z  q  h\n",
       "0  1  2  4  7\n",
       "1  2  3  5  8\n",
       "2  3  4  6  9"
      ]
     },
     "execution_count": 3,
     "metadata": {},
     "output_type": "execute_result"
    }
   ],
   "source": [
    "res_pandas = ops.transform(d)\n",
    "\n",
    "res_pandas"
   ]
  },
  {
   "cell_type": "code",
   "execution_count": 4,
   "metadata": {
    "collapsed": false,
    "jupyter": {
     "outputs_hidden": false
    },
    "pycharm": {
     "name": "#%%\n"
    }
   },
   "outputs": [],
   "source": [
    "expect = data_algebra.default_data_model.pd.DataFrame({\n",
    "    'x': [1, 2, 3],\n",
    "    'z': [2, 3, 4],\n",
    "    'q': [4, 5, 6],\n",
    "    'h': [7, 8, 9]\n",
    "})\n",
    "\n",
    "assert data_algebra.test_util.equivalent_frames(res_pandas, expect)"
   ]
  },
  {
   "cell_type": "code",
   "execution_count": 5,
   "metadata": {
    "collapsed": false,
    "jupyter": {
     "outputs_hidden": false
    },
    "pycharm": {
     "name": "#%%\n"
    }
   },
   "outputs": [],
   "source": [
    "db_model = data_algebra.SQLite.SQLiteModel()\n",
    "with sqlite3.connect(\":memory:\") as conn:\n",
    "    db_model.prepare_connection(conn)\n",
    "    db_handle = db_model.db_handle(conn)\n",
    "    db_handle.insert_table(d, table_name='d')\n",
    "    sql_regular = db_handle.to_sql(ops, pretty=True, use_with=False, annotate=True)\n",
    "    res_regular = db_handle.read_query(sql_regular)\n",
    "    sql_with = db_handle.to_sql(ops, pretty=True, use_with=True, annotate=True)\n",
    "    res_with = db_handle.read_query(sql_with)\n",
    "\n",
    "assert data_algebra.test_util.equivalent_frames(res_regular, expect)\n",
    "assert data_algebra.test_util.equivalent_frames(res_with, expect)"
   ]
  },
  {
   "cell_type": "markdown",
   "metadata": {
    "pycharm": {
     "name": "#%% md\n"
    }
   },
   "source": [
    "The standard nested SQL for these operations looks like the following."
   ]
  },
  {
   "cell_type": "code",
   "execution_count": 6,
   "metadata": {
    "collapsed": false,
    "jupyter": {
     "outputs_hidden": false
    },
    "pycharm": {
     "name": "#%%\n"
    }
   },
   "outputs": [
    {
     "name": "stdout",
     "output_type": "stream",
     "text": [
      "SELECT -- extend({ 'h': 'q + 3'})\n",
      " \"x\",\n",
      " \"z\",\n",
      " \"q\",\n",
      " \"q\" + 3 AS \"h\"\n",
      "FROM\n",
      "  (SELECT -- extend({ 'q': 'z + 2'})\n",
      " \"x\",\n",
      " \"z\",\n",
      " \"z\" + 2 AS \"q\"\n",
      "   FROM\n",
      "     (SELECT -- extend({ 'z': 'x + 1'})\n",
      " \"x\",\n",
      " \"x\" + 1 AS \"z\"\n",
      "      FROM \"d\") \"extend_0\") \"extend_1\"\n"
     ]
    }
   ],
   "source": [
    "print(sql_regular)"
   ]
  },
  {
   "cell_type": "markdown",
   "metadata": {
    "pycharm": {
     "name": "#%% md\n"
    }
   },
   "source": [
    "The common table expression version looks like this, which involves less nesting and values move forward notation."
   ]
  },
  {
   "cell_type": "code",
   "execution_count": 7,
   "metadata": {
    "collapsed": false,
    "jupyter": {
     "outputs_hidden": false
    },
    "pycharm": {
     "name": "#%%\n"
    }
   },
   "outputs": [
    {
     "name": "stdout",
     "output_type": "stream",
     "text": [
      "WITH \"extend_0\" AS\n",
      "  (SELECT -- extend({ 'z': 'x + 1'})\n",
      " \"x\",\n",
      " \"x\" + 1 AS \"z\"\n",
      "   FROM \"d\"),\n",
      "     \"extend_1\" AS\n",
      "  (SELECT -- extend({ 'q': 'z + 2'})\n",
      " \"x\",\n",
      " \"z\",\n",
      " \"z\" + 2 AS \"q\"\n",
      "   FROM \"extend_0\")\n",
      "SELECT -- extend({ 'h': 'q + 3'})\n",
      " \"x\",\n",
      " \"z\",\n",
      " \"q\",\n",
      " \"q\" + 3 AS \"h\"\n",
      "FROM \"extend_1\"\n"
     ]
    }
   ],
   "source": [
    "print(sql_with)\n"
   ]
  },
  {
   "cell_type": "markdown",
   "metadata": {
    "pycharm": {
     "name": "#%% md\n"
    }
   },
   "source": [
    "It is interesting to note when `WITH` or common table expressions became widely available.\n",
    "The Wikipedia has the versions (and hence dates) ([ref](https://en.wikipedia.org/wiki/Hierarchical_and_recursive_queries_in_SQL))\n",
    "when common table expressions are supported in the following\n",
    "databases.\n",
    "\n",
    "  * Teradata (starting with version 14) ([2012](https://downloads.teradata.com/database/training/teradata-database-14-overview))\n",
    "  * Microsoft SQL Server (starting with version 2005)\n",
    "  * Oracle (with recursion since 11g release 2) ([2009](https://support.oracle.com/knowledge/Oracle%20Cloud/2068368_1.html))\n",
    "  * PostgreSQL (since 8.4) ([2009](https://www.postgresql.org/about/news/postgresql-84-released-now-easier-to-use-than-ever-1108/))\n",
    "  * MariaDB (since 10.2) ([2017](https://mariadb.com/kb/en/changes-improvements-in-mariadb-102/))\n",
    "  * MySQL (since 8.0) ([2016](https://dev.mysql.com/doc/relnotes/mysql/8.0/en/news-8-0-0.html))\n",
    "  * SQLite (since 3.8.3) ([2014](https://www.sqlite.org/releaselog/3_8_3.html))\n",
    "  * DB2 (starting with version 11.5 Mod Pack 2 ([ref](https://www.ibm.com/support/producthub/db2/docs/content/SSEPGG_11.5.0/com.ibm.db2.luw.sql.ref.doc/doc/r0059217.html)) ([2019](https://www-01.ibm.com/common/ssi/ShowDoc.wss?docURL=/common/ssi/rep_ca/9/897/ENUS219-219/index.html&request_locale=en))\n",
    "\n",
    "Some of the cost of implementing common table expressions, is they are where databases allow recursive or fixed-point\n",
    "semantic extensions. From the database point of view these are major semantic changes, not mere notational conveniences."
   ]
  }
 ],
 "metadata": {
  "kernelspec": {
   "display_name": "Python 3",
   "language": "python",
   "name": "python3"
  },
  "language_info": {
   "codemirror_mode": {
    "name": "ipython",
    "version": 3
   },
   "file_extension": ".py",
   "mimetype": "text/x-python",
   "name": "python",
   "nbconvert_exporter": "python",
   "pygments_lexer": "ipython3",
   "version": "3.9.4"
  }
 },
 "nbformat": 4,
 "nbformat_minor": 4
}
