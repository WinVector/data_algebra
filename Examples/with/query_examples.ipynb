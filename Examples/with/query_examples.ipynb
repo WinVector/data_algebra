{
 "cells": [
  {
   "cell_type": "code",
   "execution_count": 3,
   "metadata": {
    "collapsed": true
   },
   "outputs": [
    {
     "name": "stdout",
     "output_type": "stream",
     "text": [
      "TableDescription(\n",
      " table_name='d',\n",
      " column_names=[\n",
      "   'x', 'g']) .\\\n",
      "   extend({\n",
      "    'sx': 'x.sum()'},\n",
      "   partition_by=1) .\\\n",
      "   extend({\n",
      "    'og1': '(1).cumsum()'},\n",
      "   partition_by=['g'],\n",
      "   order_by=['x']) .\\\n",
      "   extend({\n",
      "    'og2': '(1).cumsum()'},\n",
      "   partition_by=['g'],\n",
      "   order_by=['x'],\n",
      "   reverse=['x']) .\\\n",
      "   extend({\n",
      "    'og1': '(5).cumsum()'},\n",
      "   partition_by=1,\n",
      "   order_by=['x'],\n",
      "   reverse=['x'])\n"
     ]
    }
   ],
   "source": [
    "from data_algebra.data_ops import *  # https://github.com/WinVector/data_algebra\n",
    "\n",
    "import data_algebra.MySQL\n",
    "\n",
    "\n",
    "d = data_algebra.default_data_model.pd.DataFrame({\n",
    "    'x': [1, 2, 3],\n",
    "    'g': ['a', 'a', 'b'],\n",
    "})\n",
    "\n",
    "\n",
    "ops = (\n",
    "    describe_table(d, table_name='d')\n",
    "        .extend({'sx': 'x.sum()'})\n",
    "        .extend({'og1': '(1).cumsum()'},\n",
    "                partition_by=['g'],\n",
    "                order_by=['x'])\n",
    "        .extend({'og2': '(1).cumsum()'},\n",
    "                partition_by=['g'],\n",
    "                order_by=['x'], reverse=['x'])\n",
    "        .extend({'og1': '(5).cumsum()'},\n",
    "            order_by=['x'], reverse=['x'])\n",
    ")\n",
    "\n",
    "print(ops)"
   ]
  },
  {
   "cell_type": "code",
   "execution_count": 4,
   "outputs": [
    {
     "name": "stdout",
     "output_type": "stream",
     "text": [
      "-- data_algebra SQL https://github.com/WinVector/data_algebra\n",
      "--  dialect: MySQLModel\n",
      "--       string quote: '\n",
      "--   identifier quote: `\n",
      "SELECT -- extend({ 'sx': 'x.sum()'}, partition_by=1).extend({ 'og2': '(1).cumsum()'}, partition_by=['g'], order_by=['x'], reverse=['x']).extend({ 'og1': '(5).cumsum()'}, partition_by=1, order_by=['x'], reverse=['x'])\n",
      " `x`,\n",
      " `g`,\n",
      " SUM(`x`) OVER () AS `sx`,\n",
      "               SUM(1) OVER (PARTITION BY `g`\n",
      "                            ORDER BY `x` DESC) AS `og2`,\n",
      "                           SUM(5) OVER (\n",
      "                                        ORDER BY `x` DESC) AS `og1`\n",
      "FROM `d`\n"
     ]
    }
   ],
   "source": [
    "# show the SQL is shortened\n",
    "db_handle = data_algebra.MySQL.MySQLModel().db_handle(conn=None)\n",
    "sql = db_handle.to_sql(ops, pretty=True, use_with=False, annotate=True)\n",
    "\n",
    "print(sql)"
   ],
   "metadata": {
    "collapsed": false,
    "pycharm": {
     "name": "#%%\n"
    }
   }
  }
 ],
 "metadata": {
  "kernelspec": {
   "display_name": "Python 3",
   "language": "python",
   "name": "python3"
  },
  "language_info": {
   "codemirror_mode": {
    "name": "ipython",
    "version": 2
   },
   "file_extension": ".py",
   "mimetype": "text/x-python",
   "name": "python",
   "nbconvert_exporter": "python",
   "pygments_lexer": "ipython2",
   "version": "2.7.6"
  }
 },
 "nbformat": 4,
 "nbformat_minor": 0
}