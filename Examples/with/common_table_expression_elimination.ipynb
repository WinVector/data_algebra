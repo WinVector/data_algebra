{
 "cells": [
  {
   "cell_type": "markdown",
   "metadata": {
    "collapsed": true,
    "pycharm": {
     "name": "#%% md\n"
    }
   },
   "source": [
    "I'd like to demonstrate a neat new feature in the [data algebra](https://github.com/WinVector/data_algebra)'s [SQL](https://en.wikipedia.org/wiki/SQL) query generator: common expression elimination.\n",
    "\n",
    "To begin, let's import our packages."
   ]
  },
  {
   "cell_type": "code",
   "execution_count": 1,
   "outputs": [],
   "source": [
    "import pandas as pd\n",
    "\n",
    "import data_algebra\n",
    "from data_algebra.sql_format_options import SQLFormatOptions\n",
    "from data_algebra.data_ops import descr\n",
    "import data_algebra.BigQuery"
   ],
   "metadata": {
    "collapsed": false,
    "pycharm": {
     "name": "#%%\n"
    }
   }
  },
  {
   "cell_type": "markdown",
   "source": [
    "We set up our example data."
   ],
   "metadata": {
    "collapsed": false,
    "pycharm": {
     "name": "#%% md\n"
    }
   }
  },
  {
   "cell_type": "code",
   "execution_count": 2,
   "outputs": [
    {
     "data": {
      "text/plain": "   x\n0  1\n1  2\n2  3",
      "text/html": "<div>\n<style scoped>\n    .dataframe tbody tr th:only-of-type {\n        vertical-align: middle;\n    }\n\n    .dataframe tbody tr th {\n        vertical-align: top;\n    }\n\n    .dataframe thead th {\n        text-align: right;\n    }\n</style>\n<table border=\"1\" class=\"dataframe\">\n  <thead>\n    <tr style=\"text-align: right;\">\n      <th></th>\n      <th>x</th>\n    </tr>\n  </thead>\n  <tbody>\n    <tr>\n      <th>0</th>\n      <td>1</td>\n    </tr>\n    <tr>\n      <th>1</th>\n      <td>2</td>\n    </tr>\n    <tr>\n      <th>2</th>\n      <td>3</td>\n    </tr>\n  </tbody>\n</table>\n</div>"
     },
     "execution_count": 2,
     "metadata": {},
     "output_type": "execute_result"
    }
   ],
   "source": [
    "d = pd.DataFrame({\n",
    "    'x': [1, 2, 3],\n",
    "})\n",
    "\n",
    "d"
   ],
   "metadata": {
    "collapsed": false,
    "pycharm": {
     "name": "#%%\n"
    }
   }
  },
  {
   "cell_type": "markdown",
   "source": [
    "We define a simple operator pipeline in the data algebra.  What we are demonstrating is joining a result against itself. There is no reason we would use such a simple self-join, but it is much easier to see the effects in an example this simple.\n",
    "\n",
    "This set of operations is actually a directed acyclic graph (or DAG), as the two table descriptions are the same data.\n"
   ],
   "metadata": {
    "collapsed": false,
    "pycharm": {
     "name": "#%% md\n"
    }
   }
  },
  {
   "cell_type": "code",
   "execution_count": 3,
   "outputs": [
    {
     "data": {
      "text/plain": "(\n    TableDescription(table_name=\"d\", column_names=[\"x\"])\n    .extend({\"y\": \"x + 1\"})\n    .natural_join(\n        b=TableDescription(table_name=\"d\", column_names=[\"x\"])\n        .extend({\"y\": \"x + 1\"})\n        .extend({\"z\": \"-(y)\"}),\n        by=[\"x\"],\n        jointype=\"LEFT\",\n    )\n)"
     },
     "execution_count": 3,
     "metadata": {},
     "output_type": "execute_result"
    }
   ],
   "source": [
    "ops = (\n",
    "    descr(d=d)\n",
    "        .extend({'y': 'x + 1'})\n",
    "        .natural_join(\n",
    "            b=(\n",
    "                descr(d=d)\n",
    "                    .extend({'y': 'x + 1'})\n",
    "                    .extend({'z': '-y'})\n",
    "            ),\n",
    "            by=['x'],\n",
    "            jointype='left',\n",
    "        )\n",
    ")\n",
    "\n",
    "ops"
   ],
   "metadata": {
    "collapsed": false,
    "pycharm": {
     "name": "#%%\n"
    }
   }
  },
  {
   "cell_type": "markdown",
   "source": [
    "The effect of the transform on a [Pandas data frame](https://pandas.pydata.org) can be seen as follows."
   ],
   "metadata": {
    "collapsed": false,
    "pycharm": {
     "name": "#%% md\n"
    }
   }
  },
  {
   "cell_type": "code",
   "execution_count": 4,
   "outputs": [
    {
     "data": {
      "text/plain": "   x  y  z\n0  1  2 -2\n1  2  3 -3\n2  3  4 -4",
      "text/html": "<div>\n<style scoped>\n    .dataframe tbody tr th:only-of-type {\n        vertical-align: middle;\n    }\n\n    .dataframe tbody tr th {\n        vertical-align: top;\n    }\n\n    .dataframe thead th {\n        text-align: right;\n    }\n</style>\n<table border=\"1\" class=\"dataframe\">\n  <thead>\n    <tr style=\"text-align: right;\">\n      <th></th>\n      <th>x</th>\n      <th>y</th>\n      <th>z</th>\n    </tr>\n  </thead>\n  <tbody>\n    <tr>\n      <th>0</th>\n      <td>1</td>\n      <td>2</td>\n      <td>-2</td>\n    </tr>\n    <tr>\n      <th>1</th>\n      <td>2</td>\n      <td>3</td>\n      <td>-3</td>\n    </tr>\n    <tr>\n      <th>2</th>\n      <td>3</td>\n      <td>4</td>\n      <td>-4</td>\n    </tr>\n  </tbody>\n</table>\n</div>"
     },
     "execution_count": 4,
     "metadata": {},
     "output_type": "execute_result"
    }
   ],
   "source": [
    "ops.transform(d)"
   ],
   "metadata": {
    "collapsed": false,
    "pycharm": {
     "name": "#%%\n"
    }
   }
  },
  {
   "cell_type": "markdown",
   "source": [
    "The purpose of the data algebra is to have a convenient query language that translates well into Pandas operations and also into SQL.\n",
    "\n",
    "So let's translate this operator pipeline into SQL, with the `use_cte_elim` option set to `True`. This option directed the data algebra SQL translator to eliminate common table expressions. That lets us represent our data processing DAG as a DAG in SQL, and avoids expression explosion or generation of redundant sub-expressions."
   ],
   "metadata": {
    "collapsed": false,
    "pycharm": {
     "name": "#%% md\n"
    }
   }
  },
  {
   "cell_type": "code",
   "execution_count": 5,
   "outputs": [
    {
     "name": "stdout",
     "output_type": "stream",
     "text": [
      "-- data_algebra SQL https://github.com/WinVector/data_algebra\n",
      "--  dialect: BigQueryModel 1.3.4\n",
      "--       string quote: \"\n",
      "--   identifier quote: `\n",
      "WITH\n",
      " `extend_1` AS (\n",
      "  SELECT  -- .extend({ 'y': 'x + 1'})\n",
      "   `x` ,\n",
      "   `x` + 1 AS `y`\n",
      "  FROM\n",
      "   `d`\n",
      " ) ,\n",
      " `extend_3` AS (\n",
      "  SELECT  -- .extend({ 'z': '-(y)'})\n",
      "   `x` ,\n",
      "   `y` ,\n",
      "   -(`y`) AS `z`\n",
      "  FROM\n",
      "   `extend_1`\n",
      " )\n",
      "SELECT  -- _0..natural_join(b= _1, by=['x'], jointype='LEFT')\n",
      " COALESCE(`join_source_left_0`.`x`, `join_source_right_0`.`x`) AS `x` ,\n",
      " COALESCE(`join_source_left_0`.`y`, `join_source_right_0`.`y`) AS `y` ,\n",
      " `z`\n",
      "FROM\n",
      "(\n",
      " `extend_1` `join_source_left_0`\n",
      "LEFT JOIN\n",
      " `extend_3` `join_source_right_0`\n",
      "ON (\n",
      " `join_source_left_0`.`x` = `join_source_right_0`.`x`\n",
      ")\n",
      ")\n",
      "\n"
     ]
    }
   ],
   "source": [
    "db_model = data_algebra.BigQuery.BigQueryModel()\n",
    "sql = db_model.to_sql(\n",
    "    ops,\n",
    "    sql_format_options=SQLFormatOptions(\n",
    "        use_with=True,\n",
    "        annotate=True,\n",
    "        use_cte_elim=True,\n",
    "    )\n",
    ")\n",
    "\n",
    "print(sql)"
   ],
   "metadata": {
    "collapsed": false,
    "pycharm": {
     "name": "#%%\n"
    }
   }
  },
  {
   "cell_type": "markdown",
   "source": [
    "Notice, not only the table was specified only once, but the initial calculation \"`.extend({\"y\": \"x + 1\"})`\" on it was performed only once. This is what we mean by common expression elimination.\n",
    "\n",
    "Data algebra queries are machine generated, and only target a subset of SQL. However, in our opinion, the query quality is getting to be quite good.\n"
   ],
   "metadata": {
    "collapsed": false,
    "pycharm": {
     "name": "#%% md\n"
    }
   }
  }
 ],
 "metadata": {
  "kernelspec": {
   "display_name": "Python 3",
   "language": "python",
   "name": "python3"
  },
  "language_info": {
   "codemirror_mode": {
    "name": "ipython",
    "version": 2
   },
   "file_extension": ".py",
   "mimetype": "text/x-python",
   "name": "python",
   "nbconvert_exporter": "python",
   "pygments_lexer": "ipython2",
   "version": "2.7.6"
  }
 },
 "nbformat": 4,
 "nbformat_minor": 0
}