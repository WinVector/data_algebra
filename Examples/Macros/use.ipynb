{
 "cells": [
  {
   "cell_type": "code",
   "execution_count": 1,
   "metadata": {
    "collapsed": true
   },
   "outputs": [
    {
     "name": "stdout",
     "output_type": "stream",
     "text": [
      "(\n",
      "    TableDescription(table_name=\"d1\", column_names=[\"ID\", \"OP\"])\n",
      "    .project({\"count_d1\": \"(1).sum()\"}, group_by=[\"ID\"])\n",
      "    .natural_join(\n",
      "        b=TableDescription(table_name=\"d2\", column_names=[\"ID\", \"OP\"]).project(\n",
      "            {\"count_d2\": \"(1).sum()\"}, group_by=[\"ID\"]\n",
      "        ),\n",
      "        by=[\"ID\"],\n",
      "        jointype=\"FULL\",\n",
      "    )\n",
      "    .extend({\"count_d1\": \"count_d1.coalesce(0)\", \"count_d2\": \"count_d2.coalesce(0)\"})\n",
      ")\n",
      "\n"
     ]
    }
   ],
   "source": [
    "\n",
    "import pandas\n",
    "from data_algebra.data_ops import *\n",
    "\n",
    "\n",
    "# some example data\n",
    "d1 = pandas.DataFrame({\n",
    "    'ID': [2, 3, 7, 7],\n",
    "    'OP': ['A', 'B', 'B', 'D'],\n",
    "})\n",
    "\n",
    "d2 = pandas.DataFrame({\n",
    "    'ID': [1, 1, 2, 3, 4, 2, 4, 4, 5, 5, 6],\n",
    "    'OP': ['A', 'B', 'A', 'D', 'C', 'A', 'D', 'B', 'A', 'B', 'B'],\n",
    "})\n",
    "\n",
    "\n",
    "def merge_in_counts(pipeline, id_cols, new_table_descr):\n",
    "    new_count_col = f'count_{new_table_descr.table_name}'\n",
    "    count_cols = [c for c in pipeline.column_names if c.startswith('count_')] + [new_count_col]\n",
    "    return (\n",
    "        pipeline.natural_join(\n",
    "            b=new_table_descr\n",
    "                .project({new_count_col: '(1).sum()'}, group_by=id_cols),\n",
    "            by=id_cols,\n",
    "            jointype='full',\n",
    "            )\n",
    "        .extend({f'{c}': f'{c}.coalesce_0()' for c in count_cols})\n",
    "    )\n",
    "\n",
    "\n",
    "ops = (\n",
    "    data(d1=d1)\n",
    "        .project({'count_d1': '(1).sum()'}, group_by=['ID'])\n",
    "        .use(merge_in_counts, ['ID'], data(d2=d2))\n",
    ")\n",
    "\n",
    "print(ops)"
   ]
  },
  {
   "cell_type": "code",
   "execution_count": 2,
   "outputs": [
    {
     "data": {
      "text/plain": "   ID  count_d1  count_d2\n0   2       1.0       2.0\n1   3       1.0       1.0\n2   7       2.0       0.0\n3   1       0.0       2.0\n4   4       0.0       3.0\n5   5       0.0       2.0\n6   6       0.0       1.0",
      "text/html": "<div>\n<style scoped>\n    .dataframe tbody tr th:only-of-type {\n        vertical-align: middle;\n    }\n\n    .dataframe tbody tr th {\n        vertical-align: top;\n    }\n\n    .dataframe thead th {\n        text-align: right;\n    }\n</style>\n<table border=\"1\" class=\"dataframe\">\n  <thead>\n    <tr style=\"text-align: right;\">\n      <th></th>\n      <th>ID</th>\n      <th>count_d1</th>\n      <th>count_d2</th>\n    </tr>\n  </thead>\n  <tbody>\n    <tr>\n      <th>0</th>\n      <td>2</td>\n      <td>1.0</td>\n      <td>2.0</td>\n    </tr>\n    <tr>\n      <th>1</th>\n      <td>3</td>\n      <td>1.0</td>\n      <td>1.0</td>\n    </tr>\n    <tr>\n      <th>2</th>\n      <td>7</td>\n      <td>2.0</td>\n      <td>0.0</td>\n    </tr>\n    <tr>\n      <th>3</th>\n      <td>1</td>\n      <td>0.0</td>\n      <td>2.0</td>\n    </tr>\n    <tr>\n      <th>4</th>\n      <td>4</td>\n      <td>0.0</td>\n      <td>3.0</td>\n    </tr>\n    <tr>\n      <th>5</th>\n      <td>5</td>\n      <td>0.0</td>\n      <td>2.0</td>\n    </tr>\n    <tr>\n      <th>6</th>\n      <td>6</td>\n      <td>0.0</td>\n      <td>1.0</td>\n    </tr>\n  </tbody>\n</table>\n</div>"
     },
     "execution_count": 2,
     "metadata": {},
     "output_type": "execute_result"
    }
   ],
   "source": [
    "ops.ex()\n"
   ],
   "metadata": {
    "collapsed": false,
    "pycharm": {
     "name": "#%%\n"
    }
   }
  }
 ],
 "metadata": {
  "kernelspec": {
   "display_name": "Python 3",
   "language": "python",
   "name": "python3"
  },
  "language_info": {
   "codemirror_mode": {
    "name": "ipython",
    "version": 2
   },
   "file_extension": ".py",
   "mimetype": "text/x-python",
   "name": "python",
   "nbconvert_exporter": "python",
   "pygments_lexer": "ipython2",
   "version": "2.7.6"
  }
 },
 "nbformat": 4,
 "nbformat_minor": 0
}