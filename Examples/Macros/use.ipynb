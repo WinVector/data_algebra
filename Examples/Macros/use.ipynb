{
 "cells": [
  {
   "cell_type": "code",
   "execution_count": 1,
   "metadata": {
    "collapsed": true
   },
   "outputs": [
    {
     "name": "stdout",
     "output_type": "stream",
     "text": [
      "(TableDescription(table_name=\"d\", column_names=[\"ID\", \"OP\"]).extend({\"ID\": \"ID + 5\"}))\n",
      "\n"
     ]
    }
   ],
   "source": [
    "\n",
    "import pandas\n",
    "from data_algebra.data_ops import *\n",
    "\n",
    "\n",
    "# some example data\n",
    "d = pandas.DataFrame({\n",
    "    'ID': [1, 1, 2, 3, 4, 4, 4, 4, 5, 5, 6],\n",
    "    'OP': ['A', 'B', 'A', 'D', 'C', 'A', 'D', 'B', 'A', 'B', 'B'],\n",
    "})\n",
    "\n",
    "\n",
    "def add_to_column(pipeline, colname, delta):\n",
    "    return pipeline.extend({colname: f'{colname} + {delta}'})\n",
    "\n",
    "\n",
    "ops = data(d=d).use(add_to_column, 'ID', 5)\n",
    "\n",
    "print(ops)"
   ]
  },
  {
   "cell_type": "code",
   "execution_count": 2,
   "outputs": [
    {
     "data": {
      "text/plain": "    ID OP\n0    6  A\n1    6  B\n2    7  A\n3    8  D\n4    9  C\n5    9  A\n6    9  D\n7    9  B\n8   10  A\n9   10  B\n10  11  B",
      "text/html": "<div>\n<style scoped>\n    .dataframe tbody tr th:only-of-type {\n        vertical-align: middle;\n    }\n\n    .dataframe tbody tr th {\n        vertical-align: top;\n    }\n\n    .dataframe thead th {\n        text-align: right;\n    }\n</style>\n<table border=\"1\" class=\"dataframe\">\n  <thead>\n    <tr style=\"text-align: right;\">\n      <th></th>\n      <th>ID</th>\n      <th>OP</th>\n    </tr>\n  </thead>\n  <tbody>\n    <tr>\n      <th>0</th>\n      <td>6</td>\n      <td>A</td>\n    </tr>\n    <tr>\n      <th>1</th>\n      <td>6</td>\n      <td>B</td>\n    </tr>\n    <tr>\n      <th>2</th>\n      <td>7</td>\n      <td>A</td>\n    </tr>\n    <tr>\n      <th>3</th>\n      <td>8</td>\n      <td>D</td>\n    </tr>\n    <tr>\n      <th>4</th>\n      <td>9</td>\n      <td>C</td>\n    </tr>\n    <tr>\n      <th>5</th>\n      <td>9</td>\n      <td>A</td>\n    </tr>\n    <tr>\n      <th>6</th>\n      <td>9</td>\n      <td>D</td>\n    </tr>\n    <tr>\n      <th>7</th>\n      <td>9</td>\n      <td>B</td>\n    </tr>\n    <tr>\n      <th>8</th>\n      <td>10</td>\n      <td>A</td>\n    </tr>\n    <tr>\n      <th>9</th>\n      <td>10</td>\n      <td>B</td>\n    </tr>\n    <tr>\n      <th>10</th>\n      <td>11</td>\n      <td>B</td>\n    </tr>\n  </tbody>\n</table>\n</div>"
     },
     "execution_count": 2,
     "metadata": {},
     "output_type": "execute_result"
    }
   ],
   "source": [
    "ops.ex()"
   ],
   "metadata": {
    "collapsed": false,
    "pycharm": {
     "name": "#%%\n"
    }
   }
  }
 ],
 "metadata": {
  "kernelspec": {
   "display_name": "Python 3",
   "language": "python",
   "name": "python3"
  },
  "language_info": {
   "codemirror_mode": {
    "name": "ipython",
    "version": 2
   },
   "file_extension": ".py",
   "mimetype": "text/x-python",
   "name": "python",
   "nbconvert_exporter": "python",
   "pygments_lexer": "ipython2",
   "version": "2.7.6"
  }
 },
 "nbformat": 4,
 "nbformat_minor": 0
}