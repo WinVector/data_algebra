{
 "cells": [
  {
   "cell_type": "markdown",
   "metadata": {},
   "source": [
    "Example of data transforms as categorical arrows ([`R` version](https://github.com/WinVector/rquery/blob/master/Examples/Arrow/Arrow.md) [`Python` version](https://github.com/WinVector/data_algebra/blob/master/Examples/Arrow/Arrow.ipynb))."
   ]
  },
  {
   "cell_type": "code",
   "execution_count": 1,
   "metadata": {
    "pycharm": {
     "is_executing": false
    }
   },
   "outputs": [
    {
     "data": {
      "text/plain": "DataOpArrow(TableDescription(table_name='data_frame', column_names=['g', 'x', 'v']) .\\\n   natural_join(b=\n      TableDescription(table_name='data_frame', column_names=['g', 'x', 'v']) .\\\n         project({}, group_by=['g']) .\\\n         extend({'ngroup': '_row_number()'}, order_by=['g']) .\\\n         extend({'irrelevant_col': '1'}),\n      by=['g'], jointype='LEFT'))"
     },
     "metadata": {},
     "output_type": "execute_result",
     "execution_count": 1
    }
   ],
   "source": [
    "import pandas\n",
    "import graphviz\n",
    "\n",
    "import data_algebra.diagram\n",
    "from data_algebra.data_ops import *  # https://github.com/WinVector/data_algebra\n",
    "import data_algebra.util\n",
    "import data_algebra.arrow\n",
    "\n",
    "d = pandas.DataFrame({\n",
    "    'g': [1, 2, 2, 3, 3, 3],\n",
    "    'x': [1, 4, 5, 7, 8, 9],\n",
    "    'v': [10, 40, 50, 70, 80, 90],\n",
    "})\n",
    "\n",
    "table_description = describe_table(d)\n",
    "\n",
    "\n",
    "id_ops_a = table_description. \\\n",
    "    project(group_by=['g']). \\\n",
    "    extend({\n",
    "        'ngroup': '_row_number()',\n",
    "    },\n",
    "    order_by=['g']). \\\n",
    "    extend({'irrelevant_col': 1})\n",
    "\n",
    "id_ops_b = table_description. \\\n",
    "    natural_join(id_ops_a, by=['g'], jointype='LEFT')\n",
    "a1 = data_algebra.arrow.DataOpArrow(id_ops_b)\n",
    "a1"
   ]
  },
  {
   "cell_type": "code",
   "execution_count": 2,
   "metadata": {
    "collapsed": false,
    "jupyter": {
     "outputs_hidden": false
    },
    "pycharm": {
     "is_executing": false,
     "name": "#%%\n"
    }
   },
   "outputs": [
    {
     "name": "stdout",
     "text": [
      "[{'x', 'g', 'v'} -> ['g', 'x', 'v', 'ngroup', 'irrelevant_col']]\n"
     ],
     "output_type": "stream"
    }
   ],
   "source": [
    "print(a1)"
   ]
  },
  {
   "cell_type": "code",
   "execution_count": 3,
   "metadata": {
    "collapsed": false,
    "jupyter": {
     "outputs_hidden": false
    },
    "pycharm": {
     "is_executing": false,
     "name": "#%%\n"
    }
   },
   "outputs": [
    {
     "data": {
      "text/plain": "DataOpArrow(TableDescription(table_name='d2', column_names=['x', 'g', 'ngroup', 'v']) .\\\n   extend({'row_number': '_row_number()', 'shift_v': 'v.shift()'}, partition_by=['g'], order_by=['x']))"
     },
     "metadata": {},
     "output_type": "execute_result",
     "execution_count": 3
    }
   ],
   "source": [
    "cols2 = [c for c in (set(id_ops_b.column_names) - set(['irrelevant_col']))]\n",
    "ordered_ops = TableDescription('d2', cols2). \\\n",
    "    extend({\n",
    "        'row_number': '_row_number()',\n",
    "        'shift_v': 'v.shift()',\n",
    "    },\n",
    "    order_by=['x'],\n",
    "    partition_by=['g'])\n",
    "a2 = data_algebra.arrow.DataOpArrow(ordered_ops)\n",
    "a2"
   ]
  },
  {
   "cell_type": "code",
   "execution_count": 4,
   "metadata": {
    "collapsed": false,
    "jupyter": {
     "outputs_hidden": false
    },
    "pycharm": {
     "is_executing": false,
     "name": "#%%\n"
    }
   },
   "outputs": [
    {
     "name": "stdout",
     "text": [
      "[{'x', 'g', 'v', 'ngroup'} -> ['x', 'g', 'ngroup', 'v', 'row_number', 'shift_v']]\n"
     ],
     "output_type": "stream"
    }
   ],
   "source": [
    "print(a2)"
   ]
  },
  {
   "cell_type": "code",
   "execution_count": 5,
   "metadata": {
    "pycharm": {
     "is_executing": false
    }
   },
   "outputs": [
    {
     "name": "stdout",
     "text": [
      "extra incoming columns: {'irrelevant_col'}\n"
     ],
     "output_type": "stream"
    }
   ],
   "source": [
    "try:\n",
    "    a1 >> a2\n",
    "except ValueError as e:\n",
    "    print(str(e))\n",
    "    "
   ]
  },
  {
   "cell_type": "code",
   "execution_count": 6,
   "outputs": [
    {
     "name": "stdout",
     "text": [
      "[{'x', 'g', 'v'} -> ['x', 'g', 'ngroup', 'v', 'row_number', 'shift_v']]\n"
     ],
     "output_type": "stream"
    }
   ],
   "source": [
    "print(a2.transform(a1, strict=False))"
   ],
   "metadata": {
    "collapsed": false,
    "pycharm": {
     "name": "#%%\n",
     "is_executing": false
    }
   }
  },
  {
   "cell_type": "code",
   "execution_count": 7,
   "outputs": [
    {
     "data": {
      "text/plain": "DataOpArrow(TableDescription(table_name='d2', column_names=['g', 'x', 'v', 'ngroup', 'irrelevant_col']) .\\\n   extend({'row_number': '_row_number()', 'shift_v': 'v.shift()'}, partition_by=['g'], order_by=['x']))"
     },
     "metadata": {},
     "output_type": "execute_result",
     "execution_count": 7
    }
   ],
   "source": [
    "ordered_ops = TableDescription('d2', id_ops_b.column_names). \\\n",
    "    extend({\n",
    "        'row_number': '_row_number()',\n",
    "        'shift_v': 'v.shift()',\n",
    "    },\n",
    "    order_by=['x'],\n",
    "    partition_by=['g'])\n",
    "a2 = data_algebra.arrow.DataOpArrow(ordered_ops)\n",
    "a2"
   ],
   "metadata": {
    "collapsed": false,
    "pycharm": {
     "name": "#%%\n",
     "is_executing": false
    }
   }
  },
  {
   "cell_type": "code",
   "execution_count": 8,
   "outputs": [
    {
     "name": "stdout",
     "text": [
      "[{'x', 'g', 'v'} -> ['g', 'x', 'v', 'ngroup', 'irrelevant_col', 'row_number', 'shift_v']]\n"
     ],
     "output_type": "stream"
    }
   ],
   "source": [
    "print(a1 >> a2)"
   ],
   "metadata": {
    "collapsed": false,
    "pycharm": {
     "name": "#%%\n",
     "is_executing": false
    }
   }
  },
  {
   "cell_type": "code",
   "execution_count": 9,
   "metadata": {
    "pycharm": {
     "is_executing": false
    }
   },
   "outputs": [
    {
     "data": {
      "text/plain": "TableDescription(table_name='data_frame', column_names=['g', 'x', 'v']) .\\\n   natural_join(b=\n      TableDescription(table_name='data_frame', column_names=['g', 'x', 'v']) .\\\n         project({}, group_by=['g']) .\\\n         extend({'ngroup': '_row_number()'}, order_by=['g']) .\\\n         extend({'irrelevant_col': '1'}),\n      by=['g'], jointype='LEFT') .\\\n   extend({'row_number': '_row_number()', 'shift_v': 'v.shift()'}, partition_by=['g'], order_by=['x'])"
     },
     "metadata": {},
     "output_type": "execute_result",
     "execution_count": 9
    }
   ],
   "source": [
    "(a1 >> a2).pipeline"
   ]
  },
  {
   "cell_type": "code",
   "execution_count": 10,
   "metadata": {
    "collapsed": false,
    "jupyter": {
     "outputs_hidden": false
    },
    "pycharm": {
     "is_executing": false,
     "name": "#%%\n"
    }
   },
   "outputs": [
    {
     "data": {
      "text/plain": "DataOpArrow(TableDescription(table_name='d3', column_names=['g', 'x', 'v', 'ngroup', 'irrelevant_col', 'row_number', 'shift_v']) .\\\n   extend({'size': '_size()', 'max_v': 'v.max()', 'min_v': 'v.min()', 'sum_v': 'v.sum()', 'mean_v': 'v.mean()', 'count_v': 'v.count()', 'size_v': 'v.size()'}, partition_by=['g']))"
     },
     "metadata": {},
     "output_type": "execute_result",
     "execution_count": 10
    }
   ],
   "source": [
    "unordered_ops = TableDescription('d3', ordered_ops.column_names). \\\n",
    "    extend({\n",
    "        'size': '_size()',\n",
    "        'max_v': 'v.max()',\n",
    "        'min_v': 'v.min()',\n",
    "        'sum_v': 'v.sum()',\n",
    "        'mean_v': 'v.mean()',\n",
    "        'count_v': 'v.count()',\n",
    "        'size_v': 'v.size()',\n",
    "    },\n",
    "    partition_by=['g'])\n",
    "a3 = data_algebra.arrow.DataOpArrow(unordered_ops)\n",
    "a3"
   ]
  },
  {
   "cell_type": "code",
   "execution_count": 11,
   "metadata": {
    "collapsed": false,
    "jupyter": {
     "outputs_hidden": false
    },
    "pycharm": {
     "is_executing": false,
     "name": "#%%\n"
    }
   },
   "outputs": [
    {
     "name": "stdout",
     "text": [
      "[{'x', 'row_number', 'ngroup', 'shift_v', 'irrelevant_col', 'g', 'v'} -> ['g', 'x', 'v', 'ngroup', 'irrelevant_col', 'row_number', 'shift_v', 'size', 'max_v', 'min_v', 'sum_v', 'mean_v', 'count_v', 'size_v']]\n"
     ],
     "output_type": "stream"
    }
   ],
   "source": [
    "print(a3)"
   ]
  },
  {
   "cell_type": "code",
   "execution_count": 12,
   "metadata": {
    "collapsed": false,
    "jupyter": {
     "outputs_hidden": false
    },
    "pycharm": {
     "is_executing": false,
     "name": "#%%\n"
    }
   },
   "outputs": [
    {
     "data": {
      "text/plain": "DataOpArrow(TableDescription(table_name='data_frame', column_names=['g', 'x', 'v']) .\\\n   natural_join(b=\n      TableDescription(table_name='data_frame', column_names=['g', 'x', 'v']) .\\\n         project({}, group_by=['g']) .\\\n         extend({'ngroup': '_row_number()'}, order_by=['g']) .\\\n         extend({'irrelevant_col': '1'}),\n      by=['g'], jointype='LEFT') .\\\n   extend({'row_number': '_row_number()', 'shift_v': 'v.shift()'}, partition_by=['g'], order_by=['x']) .\\\n   extend({'size': '_size()', 'max_v': 'v.max()', 'min_v': 'v.min()', 'sum_v': 'v.sum()', 'mean_v': 'v.mean()', 'count_v': 'v.count()', 'size_v': 'v.size()'}, partition_by=['g']))"
     },
     "metadata": {},
     "output_type": "execute_result",
     "execution_count": 12
    }
   ],
   "source": [
    "a3.transform(a2.transform(a1))"
   ]
  },
  {
   "cell_type": "code",
   "execution_count": 13,
   "metadata": {
    "collapsed": false,
    "jupyter": {
     "outputs_hidden": false
    },
    "pycharm": {
     "is_executing": false,
     "name": "#%%\n"
    }
   },
   "outputs": [
    {
     "data": {
      "text/plain": "DataOpArrow(TableDescription(table_name='data_frame', column_names=['g', 'x', 'v']) .\\\n   natural_join(b=\n      TableDescription(table_name='data_frame', column_names=['g', 'x', 'v']) .\\\n         project({}, group_by=['g']) .\\\n         extend({'ngroup': '_row_number()'}, order_by=['g']) .\\\n         extend({'irrelevant_col': '1'}),\n      by=['g'], jointype='LEFT') .\\\n   extend({'row_number': '_row_number()', 'shift_v': 'v.shift()'}, partition_by=['g'], order_by=['x']) .\\\n   extend({'size': '_size()', 'max_v': 'v.max()', 'min_v': 'v.min()', 'sum_v': 'v.sum()', 'mean_v': 'v.mean()', 'count_v': 'v.count()', 'size_v': 'v.size()'}, partition_by=['g']))"
     },
     "metadata": {},
     "output_type": "execute_result",
     "execution_count": 13
    }
   ],
   "source": [
    "a1 >> a2 >> a3"
   ]
  },
  {
   "cell_type": "code",
   "execution_count": 14,
   "metadata": {
    "collapsed": false,
    "jupyter": {
     "outputs_hidden": false
    },
    "pycharm": {
     "is_executing": false,
     "name": "#%%\n"
    }
   },
   "outputs": [
    {
     "data": {
      "text/plain": "DataOpArrow(TableDescription(table_name='data_frame', column_names=['g', 'x', 'v']) .\\\n   natural_join(b=\n      TableDescription(table_name='data_frame', column_names=['g', 'x', 'v']) .\\\n         project({}, group_by=['g']) .\\\n         extend({'ngroup': '_row_number()'}, order_by=['g']) .\\\n         extend({'irrelevant_col': '1'}),\n      by=['g'], jointype='LEFT') .\\\n   extend({'row_number': '_row_number()', 'shift_v': 'v.shift()'}, partition_by=['g'], order_by=['x']) .\\\n   extend({'size': '_size()', 'max_v': 'v.max()', 'min_v': 'v.min()', 'sum_v': 'v.sum()', 'mean_v': 'v.mean()', 'count_v': 'v.count()', 'size_v': 'v.size()'}, partition_by=['g']))"
     },
     "metadata": {},
     "output_type": "execute_result",
     "execution_count": 14
    }
   ],
   "source": [
    "(a1 >> a2) >> a3"
   ]
  },
  {
   "cell_type": "code",
   "execution_count": 15,
   "metadata": {
    "collapsed": false,
    "jupyter": {
     "outputs_hidden": false
    },
    "pycharm": {
     "is_executing": false,
     "name": "#%%\n"
    }
   },
   "outputs": [
    {
     "data": {
      "text/plain": "DataOpArrow(TableDescription(table_name='data_frame', column_names=['g', 'x', 'v']) .\\\n   natural_join(b=\n      TableDescription(table_name='data_frame', column_names=['g', 'x', 'v']) .\\\n         project({}, group_by=['g']) .\\\n         extend({'ngroup': '_row_number()'}, order_by=['g']) .\\\n         extend({'irrelevant_col': '1'}),\n      by=['g'], jointype='LEFT') .\\\n   extend({'row_number': '_row_number()', 'shift_v': 'v.shift()'}, partition_by=['g'], order_by=['x']) .\\\n   extend({'size': '_size()', 'max_v': 'v.max()', 'min_v': 'v.min()', 'sum_v': 'v.sum()', 'mean_v': 'v.mean()', 'count_v': 'v.count()', 'size_v': 'v.size()'}, partition_by=['g']))"
     },
     "metadata": {},
     "output_type": "execute_result",
     "execution_count": 15
    }
   ],
   "source": [
    "a1 >> (a2 >> a3)"
   ]
  },
  {
   "cell_type": "code",
   "execution_count": 16,
   "metadata": {
    "collapsed": false,
    "jupyter": {
     "outputs_hidden": false
    },
    "pycharm": {
     "is_executing": false,
     "name": "#%%\n"
    }
   },
   "outputs": [
    {
     "data": {
      "text/plain": "   g  x   v  ngroup  irrelevant_col  row_number  shift_v  size  max_v  min_v  \\\n0  1  1  10       1               1           1      NaN     1     10     10   \n1  2  4  40       2               1           1      NaN     2     50     40   \n2  2  5  50       2               1           2     40.0     2     50     40   \n3  3  7  70       3               1           1      NaN     3     90     70   \n4  3  8  80       3               1           2     70.0     3     90     70   \n5  3  9  90       3               1           3     80.0     3     90     70   \n\n   sum_v  mean_v  count_v  size_v  \n0     10      10        1       1  \n1     90      45        2       2  \n2     90      45        2       2  \n3    240      80        3       3  \n4    240      80        3       3  \n5    240      80        3       3  ",
      "text/html": "<div>\n<style scoped>\n    .dataframe tbody tr th:only-of-type {\n        vertical-align: middle;\n    }\n\n    .dataframe tbody tr th {\n        vertical-align: top;\n    }\n\n    .dataframe thead th {\n        text-align: right;\n    }\n</style>\n<table border=\"1\" class=\"dataframe\">\n  <thead>\n    <tr style=\"text-align: right;\">\n      <th></th>\n      <th>g</th>\n      <th>x</th>\n      <th>v</th>\n      <th>ngroup</th>\n      <th>irrelevant_col</th>\n      <th>row_number</th>\n      <th>shift_v</th>\n      <th>size</th>\n      <th>max_v</th>\n      <th>min_v</th>\n      <th>sum_v</th>\n      <th>mean_v</th>\n      <th>count_v</th>\n      <th>size_v</th>\n    </tr>\n  </thead>\n  <tbody>\n    <tr>\n      <th>0</th>\n      <td>1</td>\n      <td>1</td>\n      <td>10</td>\n      <td>1</td>\n      <td>1</td>\n      <td>1</td>\n      <td>NaN</td>\n      <td>1</td>\n      <td>10</td>\n      <td>10</td>\n      <td>10</td>\n      <td>10</td>\n      <td>1</td>\n      <td>1</td>\n    </tr>\n    <tr>\n      <th>1</th>\n      <td>2</td>\n      <td>4</td>\n      <td>40</td>\n      <td>2</td>\n      <td>1</td>\n      <td>1</td>\n      <td>NaN</td>\n      <td>2</td>\n      <td>50</td>\n      <td>40</td>\n      <td>90</td>\n      <td>45</td>\n      <td>2</td>\n      <td>2</td>\n    </tr>\n    <tr>\n      <th>2</th>\n      <td>2</td>\n      <td>5</td>\n      <td>50</td>\n      <td>2</td>\n      <td>1</td>\n      <td>2</td>\n      <td>40.0</td>\n      <td>2</td>\n      <td>50</td>\n      <td>40</td>\n      <td>90</td>\n      <td>45</td>\n      <td>2</td>\n      <td>2</td>\n    </tr>\n    <tr>\n      <th>3</th>\n      <td>3</td>\n      <td>7</td>\n      <td>70</td>\n      <td>3</td>\n      <td>1</td>\n      <td>1</td>\n      <td>NaN</td>\n      <td>3</td>\n      <td>90</td>\n      <td>70</td>\n      <td>240</td>\n      <td>80</td>\n      <td>3</td>\n      <td>3</td>\n    </tr>\n    <tr>\n      <th>4</th>\n      <td>3</td>\n      <td>8</td>\n      <td>80</td>\n      <td>3</td>\n      <td>1</td>\n      <td>2</td>\n      <td>70.0</td>\n      <td>3</td>\n      <td>90</td>\n      <td>70</td>\n      <td>240</td>\n      <td>80</td>\n      <td>3</td>\n      <td>3</td>\n    </tr>\n    <tr>\n      <th>5</th>\n      <td>3</td>\n      <td>9</td>\n      <td>90</td>\n      <td>3</td>\n      <td>1</td>\n      <td>3</td>\n      <td>80.0</td>\n      <td>3</td>\n      <td>90</td>\n      <td>70</td>\n      <td>240</td>\n      <td>80</td>\n      <td>3</td>\n      <td>3</td>\n    </tr>\n  </tbody>\n</table>\n</div>"
     },
     "metadata": {},
     "output_type": "execute_result",
     "execution_count": 16
    }
   ],
   "source": [
    "ops = (a1 >> a2 >> a3).pipeline\n",
    "\n",
    "ops.transform(d)"
   ]
  },
  {
   "cell_type": "code",
   "execution_count": 17,
   "metadata": {
    "collapsed": false,
    "jupyter": {
     "outputs_hidden": false
    },
    "pycharm": {
     "is_executing": false,
     "name": "#%%\n"
    }
   },
   "outputs": [
    {
     "data": {
      "text/plain": "   g  x   v  ngroup  irrelevant_col  row_number  shift_v  size  max_v  min_v  \\\n0  1  1  10       1               1           1      NaN     1     10     10   \n1  2  4  40       2               1           1      NaN     2     50     40   \n2  2  5  50       2               1           2     40.0     2     50     40   \n3  3  7  70       3               1           1      NaN     3     90     70   \n4  3  8  80       3               1           2     70.0     3     90     70   \n5  3  9  90       3               1           3     80.0     3     90     70   \n\n   sum_v  mean_v  count_v  size_v  \n0     10      10        1       1  \n1     90      45        2       2  \n2     90      45        2       2  \n3    240      80        3       3  \n4    240      80        3       3  \n5    240      80        3       3  ",
      "text/html": "<div>\n<style scoped>\n    .dataframe tbody tr th:only-of-type {\n        vertical-align: middle;\n    }\n\n    .dataframe tbody tr th {\n        vertical-align: top;\n    }\n\n    .dataframe thead th {\n        text-align: right;\n    }\n</style>\n<table border=\"1\" class=\"dataframe\">\n  <thead>\n    <tr style=\"text-align: right;\">\n      <th></th>\n      <th>g</th>\n      <th>x</th>\n      <th>v</th>\n      <th>ngroup</th>\n      <th>irrelevant_col</th>\n      <th>row_number</th>\n      <th>shift_v</th>\n      <th>size</th>\n      <th>max_v</th>\n      <th>min_v</th>\n      <th>sum_v</th>\n      <th>mean_v</th>\n      <th>count_v</th>\n      <th>size_v</th>\n    </tr>\n  </thead>\n  <tbody>\n    <tr>\n      <th>0</th>\n      <td>1</td>\n      <td>1</td>\n      <td>10</td>\n      <td>1</td>\n      <td>1</td>\n      <td>1</td>\n      <td>NaN</td>\n      <td>1</td>\n      <td>10</td>\n      <td>10</td>\n      <td>10</td>\n      <td>10</td>\n      <td>1</td>\n      <td>1</td>\n    </tr>\n    <tr>\n      <th>1</th>\n      <td>2</td>\n      <td>4</td>\n      <td>40</td>\n      <td>2</td>\n      <td>1</td>\n      <td>1</td>\n      <td>NaN</td>\n      <td>2</td>\n      <td>50</td>\n      <td>40</td>\n      <td>90</td>\n      <td>45</td>\n      <td>2</td>\n      <td>2</td>\n    </tr>\n    <tr>\n      <th>2</th>\n      <td>2</td>\n      <td>5</td>\n      <td>50</td>\n      <td>2</td>\n      <td>1</td>\n      <td>2</td>\n      <td>40.0</td>\n      <td>2</td>\n      <td>50</td>\n      <td>40</td>\n      <td>90</td>\n      <td>45</td>\n      <td>2</td>\n      <td>2</td>\n    </tr>\n    <tr>\n      <th>3</th>\n      <td>3</td>\n      <td>7</td>\n      <td>70</td>\n      <td>3</td>\n      <td>1</td>\n      <td>1</td>\n      <td>NaN</td>\n      <td>3</td>\n      <td>90</td>\n      <td>70</td>\n      <td>240</td>\n      <td>80</td>\n      <td>3</td>\n      <td>3</td>\n    </tr>\n    <tr>\n      <th>4</th>\n      <td>3</td>\n      <td>8</td>\n      <td>80</td>\n      <td>3</td>\n      <td>1</td>\n      <td>2</td>\n      <td>70.0</td>\n      <td>3</td>\n      <td>90</td>\n      <td>70</td>\n      <td>240</td>\n      <td>80</td>\n      <td>3</td>\n      <td>3</td>\n    </tr>\n    <tr>\n      <th>5</th>\n      <td>3</td>\n      <td>9</td>\n      <td>90</td>\n      <td>3</td>\n      <td>1</td>\n      <td>3</td>\n      <td>80.0</td>\n      <td>3</td>\n      <td>90</td>\n      <td>70</td>\n      <td>240</td>\n      <td>80</td>\n      <td>3</td>\n      <td>3</td>\n    </tr>\n  </tbody>\n</table>\n</div>"
     },
     "metadata": {},
     "output_type": "execute_result",
     "execution_count": 17
    }
   ],
   "source": [
    "(a1 >> a2 >> a3).transform(d)"
   ]
  },
  {
   "cell_type": "code",
   "execution_count": 18,
   "metadata": {
    "collapsed": false,
    "jupyter": {
     "outputs_hidden": false
    },
    "pycharm": {
     "is_executing": false,
     "name": "#%%\n"
    }
   },
   "outputs": [
    {
     "data": {
      "text/plain": "   g  x   v  ngroup  irrelevant_col  row_number  shift_v  size  max_v  min_v  \\\n0  1  1  10       1               1           1      NaN     1     10     10   \n1  2  4  40       2               1           1      NaN     2     50     40   \n2  2  5  50       2               1           2     40.0     2     50     40   \n3  3  7  70       3               1           1      NaN     3     90     70   \n4  3  8  80       3               1           2     70.0     3     90     70   \n5  3  9  90       3               1           3     80.0     3     90     70   \n\n   sum_v  mean_v  count_v  size_v  \n0     10      10        1       1  \n1     90      45        2       2  \n2     90      45        2       2  \n3    240      80        3       3  \n4    240      80        3       3  \n5    240      80        3       3  ",
      "text/html": "<div>\n<style scoped>\n    .dataframe tbody tr th:only-of-type {\n        vertical-align: middle;\n    }\n\n    .dataframe tbody tr th {\n        vertical-align: top;\n    }\n\n    .dataframe thead th {\n        text-align: right;\n    }\n</style>\n<table border=\"1\" class=\"dataframe\">\n  <thead>\n    <tr style=\"text-align: right;\">\n      <th></th>\n      <th>g</th>\n      <th>x</th>\n      <th>v</th>\n      <th>ngroup</th>\n      <th>irrelevant_col</th>\n      <th>row_number</th>\n      <th>shift_v</th>\n      <th>size</th>\n      <th>max_v</th>\n      <th>min_v</th>\n      <th>sum_v</th>\n      <th>mean_v</th>\n      <th>count_v</th>\n      <th>size_v</th>\n    </tr>\n  </thead>\n  <tbody>\n    <tr>\n      <th>0</th>\n      <td>1</td>\n      <td>1</td>\n      <td>10</td>\n      <td>1</td>\n      <td>1</td>\n      <td>1</td>\n      <td>NaN</td>\n      <td>1</td>\n      <td>10</td>\n      <td>10</td>\n      <td>10</td>\n      <td>10</td>\n      <td>1</td>\n      <td>1</td>\n    </tr>\n    <tr>\n      <th>1</th>\n      <td>2</td>\n      <td>4</td>\n      <td>40</td>\n      <td>2</td>\n      <td>1</td>\n      <td>1</td>\n      <td>NaN</td>\n      <td>2</td>\n      <td>50</td>\n      <td>40</td>\n      <td>90</td>\n      <td>45</td>\n      <td>2</td>\n      <td>2</td>\n    </tr>\n    <tr>\n      <th>2</th>\n      <td>2</td>\n      <td>5</td>\n      <td>50</td>\n      <td>2</td>\n      <td>1</td>\n      <td>2</td>\n      <td>40.0</td>\n      <td>2</td>\n      <td>50</td>\n      <td>40</td>\n      <td>90</td>\n      <td>45</td>\n      <td>2</td>\n      <td>2</td>\n    </tr>\n    <tr>\n      <th>3</th>\n      <td>3</td>\n      <td>7</td>\n      <td>70</td>\n      <td>3</td>\n      <td>1</td>\n      <td>1</td>\n      <td>NaN</td>\n      <td>3</td>\n      <td>90</td>\n      <td>70</td>\n      <td>240</td>\n      <td>80</td>\n      <td>3</td>\n      <td>3</td>\n    </tr>\n    <tr>\n      <th>4</th>\n      <td>3</td>\n      <td>8</td>\n      <td>80</td>\n      <td>3</td>\n      <td>1</td>\n      <td>2</td>\n      <td>70.0</td>\n      <td>3</td>\n      <td>90</td>\n      <td>70</td>\n      <td>240</td>\n      <td>80</td>\n      <td>3</td>\n      <td>3</td>\n    </tr>\n    <tr>\n      <th>5</th>\n      <td>3</td>\n      <td>9</td>\n      <td>90</td>\n      <td>3</td>\n      <td>1</td>\n      <td>3</td>\n      <td>80.0</td>\n      <td>3</td>\n      <td>90</td>\n      <td>70</td>\n      <td>240</td>\n      <td>80</td>\n      <td>3</td>\n      <td>3</td>\n    </tr>\n  </tbody>\n</table>\n</div>"
     },
     "metadata": {},
     "output_type": "execute_result",
     "execution_count": 18
    }
   ],
   "source": [
    "d >> a1 >> a2 >> a3"
   ]
  },
  {
   "cell_type": "code",
   "execution_count": 19,
   "metadata": {
    "collapsed": false,
    "jupyter": {
     "outputs_hidden": false
    },
    "pycharm": {
     "is_executing": false,
     "name": "#%%\n"
    }
   },
   "outputs": [
    {
     "data": {
      "text/plain": "   g  x   v  ngroup  irrelevant_col  row_number  shift_v  size  max_v  min_v  \\\n0  1  1  10       1               1           1      NaN     1     10     10   \n1  2  4  40       2               1           1      NaN     2     50     40   \n2  2  5  50       2               1           2     40.0     2     50     40   \n3  3  7  70       3               1           1      NaN     3     90     70   \n4  3  8  80       3               1           2     70.0     3     90     70   \n5  3  9  90       3               1           3     80.0     3     90     70   \n\n   sum_v  mean_v  count_v  size_v  \n0     10      10        1       1  \n1     90      45        2       2  \n2     90      45        2       2  \n3    240      80        3       3  \n4    240      80        3       3  \n5    240      80        3       3  ",
      "text/html": "<div>\n<style scoped>\n    .dataframe tbody tr th:only-of-type {\n        vertical-align: middle;\n    }\n\n    .dataframe tbody tr th {\n        vertical-align: top;\n    }\n\n    .dataframe thead th {\n        text-align: right;\n    }\n</style>\n<table border=\"1\" class=\"dataframe\">\n  <thead>\n    <tr style=\"text-align: right;\">\n      <th></th>\n      <th>g</th>\n      <th>x</th>\n      <th>v</th>\n      <th>ngroup</th>\n      <th>irrelevant_col</th>\n      <th>row_number</th>\n      <th>shift_v</th>\n      <th>size</th>\n      <th>max_v</th>\n      <th>min_v</th>\n      <th>sum_v</th>\n      <th>mean_v</th>\n      <th>count_v</th>\n      <th>size_v</th>\n    </tr>\n  </thead>\n  <tbody>\n    <tr>\n      <th>0</th>\n      <td>1</td>\n      <td>1</td>\n      <td>10</td>\n      <td>1</td>\n      <td>1</td>\n      <td>1</td>\n      <td>NaN</td>\n      <td>1</td>\n      <td>10</td>\n      <td>10</td>\n      <td>10</td>\n      <td>10</td>\n      <td>1</td>\n      <td>1</td>\n    </tr>\n    <tr>\n      <th>1</th>\n      <td>2</td>\n      <td>4</td>\n      <td>40</td>\n      <td>2</td>\n      <td>1</td>\n      <td>1</td>\n      <td>NaN</td>\n      <td>2</td>\n      <td>50</td>\n      <td>40</td>\n      <td>90</td>\n      <td>45</td>\n      <td>2</td>\n      <td>2</td>\n    </tr>\n    <tr>\n      <th>2</th>\n      <td>2</td>\n      <td>5</td>\n      <td>50</td>\n      <td>2</td>\n      <td>1</td>\n      <td>2</td>\n      <td>40.0</td>\n      <td>2</td>\n      <td>50</td>\n      <td>40</td>\n      <td>90</td>\n      <td>45</td>\n      <td>2</td>\n      <td>2</td>\n    </tr>\n    <tr>\n      <th>3</th>\n      <td>3</td>\n      <td>7</td>\n      <td>70</td>\n      <td>3</td>\n      <td>1</td>\n      <td>1</td>\n      <td>NaN</td>\n      <td>3</td>\n      <td>90</td>\n      <td>70</td>\n      <td>240</td>\n      <td>80</td>\n      <td>3</td>\n      <td>3</td>\n    </tr>\n    <tr>\n      <th>4</th>\n      <td>3</td>\n      <td>8</td>\n      <td>80</td>\n      <td>3</td>\n      <td>1</td>\n      <td>2</td>\n      <td>70.0</td>\n      <td>3</td>\n      <td>90</td>\n      <td>70</td>\n      <td>240</td>\n      <td>80</td>\n      <td>3</td>\n      <td>3</td>\n    </tr>\n    <tr>\n      <th>5</th>\n      <td>3</td>\n      <td>9</td>\n      <td>90</td>\n      <td>3</td>\n      <td>1</td>\n      <td>3</td>\n      <td>80.0</td>\n      <td>3</td>\n      <td>90</td>\n      <td>70</td>\n      <td>240</td>\n      <td>80</td>\n      <td>3</td>\n      <td>3</td>\n    </tr>\n  </tbody>\n</table>\n</div>"
     },
     "metadata": {},
     "output_type": "execute_result",
     "execution_count": 19
    }
   ],
   "source": [
    "d >> (a1 >> a2) >> a3"
   ]
  }
 ],
 "metadata": {
  "kernelspec": {
   "display_name": "Python 3",
   "language": "python",
   "name": "python3"
  },
  "language_info": {
   "codemirror_mode": {
    "name": "ipython",
    "version": 3
   },
   "file_extension": ".py",
   "mimetype": "text/x-python",
   "name": "python",
   "nbconvert_exporter": "python",
   "pygments_lexer": "ipython3",
   "version": "3.6.9"
  },
  "pycharm": {
   "stem_cell": {
    "cell_type": "raw",
    "source": [],
    "metadata": {
     "collapsed": false
    }
   }
  }
 },
 "nbformat": 4,
 "nbformat_minor": 4
}