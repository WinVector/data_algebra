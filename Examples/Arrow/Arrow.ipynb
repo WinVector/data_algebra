{
 "cells": [
  {
   "cell_type": "markdown",
   "metadata": {},
   "source": [
    "Example of data transforms as categorical arrows ([`R` version](https://github.com/WinVector/rquery/blob/master/Examples/Arrow/Arrow.md) [`Python` version](https://github.com/WinVector/data_algebra/blob/master/Examples/Arrow/Arrow.ipynb))."
   ]
  },
  {
   "cell_type": "code",
   "execution_count": 1,
   "metadata": {
    "pycharm": {
     "is_executing": false
    }
   },
   "outputs": [
    {
     "data": {
      "text/plain": "DataOpArrow(TableDescription(\n table_name='data_frame',\n column_names=[\n   'g', 'x', 'v', 'i']) .\\\n   natural_join(b=\n      TableDescription(\n       table_name='data_frame',\n       column_names=[\n         'g', 'x', 'v', 'i']) .\\\n         project({\n          },\n         group_by=['g']) .\\\n         extend({\n          'ngroup': '_row_number()'},\n         order_by=['g']),\n      by=['g'], jointype='LEFT'))"
     },
     "metadata": {},
     "output_type": "execute_result",
     "execution_count": 1
    }
   ],
   "source": [
    "import pandas\n",
    "import graphviz\n",
    "\n",
    "import data_algebra.diagram\n",
    "from data_algebra.data_ops import *  # https://github.com/WinVector/data_algebra\n",
    "import data_algebra.util\n",
    "import data_algebra.arrow\n",
    "\n",
    "d = pandas.DataFrame({\n",
    "    'g': ['a', 'b', 'b', 'c', 'c', 'c'],\n",
    "    'x': [1, 4, 5, 7, 8, 9],\n",
    "    'v': [10.0, 40.0, 50.0, 70.0, 80.0, 90.0],\n",
    "    'i': [True, True, False, False, False, False],\n",
    "})\n",
    "\n",
    "table_description = describe_table(d)\n",
    "\n",
    "\n",
    "id_ops_a = table_description. \\\n",
    "    project(group_by=['g']). \\\n",
    "    extend({\n",
    "        'ngroup': '_row_number()',\n",
    "    },\n",
    "    order_by=['g'])\n",
    "\n",
    "id_ops_b = table_description. \\\n",
    "    natural_join(id_ops_a, by=['g'], jointype='LEFT')\n",
    "a1 = data_algebra.arrow.DataOpArrow(id_ops_b)\n",
    "a1"
   ]
  },
  {
   "cell_type": "code",
   "execution_count": 2,
   "metadata": {
    "collapsed": false,
    "jupyter": {
     "outputs_hidden": false
    },
    "pycharm": {
     "is_executing": false,
     "name": "#%%\n"
    }
   },
   "outputs": [
    {
     "name": "stdout",
     "text": [
      "[\n  [ g: <class 'str'>, x: <class 'numpy.int64'>, v: <class 'numpy.float64'>,\n    i: <class 'numpy.bool_'> ]\n   ->\n  [ g, x, v, i, ngroup ]\n]\n\n"
     ],
     "output_type": "stream"
    }
   ],
   "source": [
    "print(a1)"
   ]
  },
  {
   "cell_type": "code",
   "execution_count": 3,
   "outputs": [
    {
     "data": {
      "text/plain": "DataOpArrow(TableDescription(\n table_name='data_frame',\n column_names=[\n   'g', 'x', 'v', 'i']) .\\\n   natural_join(b=\n      TableDescription(\n       table_name='data_frame',\n       column_names=[\n         'g', 'x', 'v', 'i']) .\\\n         project({\n          },\n         group_by=['g']) .\\\n         extend({\n          'ngroup': '_row_number()'},\n         order_by=['g']),\n      by=['g'], jointype='LEFT'))"
     },
     "metadata": {},
     "output_type": "execute_result",
     "execution_count": 3
    }
   ],
   "source": [
    "a1.fit(d)"
   ],
   "metadata": {
    "collapsed": false,
    "pycharm": {
     "name": "#%%\n",
     "is_executing": false
    }
   }
  },
  {
   "cell_type": "code",
   "execution_count": 4,
   "outputs": [
    {
     "name": "stdout",
     "text": [
      "[\n  [ x: <class 'numpy.int64'>, i: <class 'numpy.bool_'>,\n    v: <class 'numpy.float64'>, g: <class 'str'> ]\n   ->\n  [ g: <class 'str'>, x: <class 'numpy.int64'>, v: <class 'numpy.float64'>,\n    i: <class 'numpy.bool_'>, ngroup: <class 'numpy.int64'> ]\n]\n\n"
     ],
     "output_type": "stream"
    }
   ],
   "source": [
    "print(a1)"
   ],
   "metadata": {
    "collapsed": false,
    "pycharm": {
     "name": "#%%\n",
     "is_executing": false
    }
   }
  },
  {
   "cell_type": "code",
   "execution_count": 5,
   "metadata": {
    "collapsed": false,
    "jupyter": {
     "outputs_hidden": false
    },
    "pycharm": {
     "is_executing": false,
     "name": "#%%\n"
    }
   },
   "outputs": [
    {
     "name": "stdout",
     "text": [
      "[\n  [ ngroup, x, v, g ]\n   ->\n  [ ngroup, x, v, g, row_number, shift_v ]\n]\n\n"
     ],
     "output_type": "stream"
    }
   ],
   "source": [
    "cols2_too_small = [c for c in (set(id_ops_b.column_names) - set(['i']))]\n",
    "ordered_ops = TableDescription('d2', cols2_too_small). \\\n",
    "    extend({\n",
    "        'row_number': '_row_number()',\n",
    "        'shift_v': 'v.shift()',\n",
    "    },\n",
    "    order_by=['x'],\n",
    "    partition_by=['g'])\n",
    "a2 = data_algebra.arrow.DataOpArrow(ordered_ops)\n",
    "print(a2)\n"
   ]
  },
  {
   "cell_type": "code",
   "execution_count": 6,
   "metadata": {
    "pycharm": {
     "is_executing": false
    }
   },
   "outputs": [
    {
     "name": "stdout",
     "text": [
      "extra incoming columns: {'i'}\n"
     ],
     "output_type": "stream"
    }
   ],
   "source": [
    "try:\n",
    "    a1 >> a2\n",
    "except ValueError as e:\n",
    "    print(str(e))\n",
    "    "
   ]
  },
  {
   "cell_type": "code",
   "execution_count": 7,
   "outputs": [
    {
     "name": "stdout",
     "text": [
      "[\n  [ i, v, g, ngroup, x, q ]\n   ->\n  [ g, x, v, i, ngroup, q, row_number, shift_v ]\n]\n\n"
     ],
     "output_type": "stream"
    }
   ],
   "source": [
    "cols2_too_large = id_ops_b.column_names + ['q']\n",
    "ordered_ops = TableDescription('d2', cols2_too_large). \\\n",
    "    extend({\n",
    "        'row_number': '_row_number()',\n",
    "        'shift_v': 'v.shift()',\n",
    "    },\n",
    "    order_by=['x'],\n",
    "    partition_by=['g'])\n",
    "a2 = data_algebra.arrow.DataOpArrow(ordered_ops)\n",
    "print(a2)"
   ],
   "metadata": {
    "collapsed": false,
    "pycharm": {
     "name": "#%%\n",
     "is_executing": false
    }
   }
  },
  {
   "cell_type": "code",
   "execution_count": 8,
   "outputs": [
    {
     "name": "stdout",
     "text": [
      "missing required columns: {'q'}\n"
     ],
     "output_type": "stream"
    }
   ],
   "source": [
    "try:\n",
    "    a1 >> a2\n",
    "except ValueError as e:\n",
    "    print(str(e))\n"
   ],
   "metadata": {
    "collapsed": false,
    "pycharm": {
     "name": "#%%\n",
     "is_executing": false
    }
   }
  },
  {
   "cell_type": "code",
   "execution_count": 9,
   "outputs": [
    {
     "data": {
      "text/plain": "DataOpArrow(TableDescription(\n table_name='d2',\n column_names=[\n   'g', 'x', 'v', 'i', 'ngroup']) .\\\n   extend({\n    'row_number': '_row_number()',\n    'shift_v': 'v.shift()'},\n   partition_by=['g'],\n   order_by=['x']))"
     },
     "metadata": {},
     "output_type": "execute_result",
     "execution_count": 9
    }
   ],
   "source": [
    "ordered_ops = TableDescription('d2', id_ops_b.column_names). \\\n",
    "    extend({\n",
    "        'row_number': '_row_number()',\n",
    "        'shift_v': 'v.shift()',\n",
    "    },\n",
    "    order_by=['x'],\n",
    "    partition_by=['g'])\n",
    "a2 = data_algebra.arrow.DataOpArrow(ordered_ops)\n",
    "a2"
   ],
   "metadata": {
    "collapsed": false,
    "pycharm": {
     "name": "#%%\n",
     "is_executing": false
    }
   }
  },
  {
   "cell_type": "code",
   "execution_count": 10,
   "outputs": [
    {
     "name": "stdout",
     "text": [
      "[\n  [ i, v, g, ngroup, x ]\n   ->\n  [ g, x, v, i, ngroup, row_number, shift_v ]\n]\n\n"
     ],
     "output_type": "stream"
    }
   ],
   "source": [
    "print(a2)"
   ],
   "metadata": {
    "collapsed": false,
    "pycharm": {
     "name": "#%%\n",
     "is_executing": false
    }
   }
  },
  {
   "cell_type": "code",
   "execution_count": 11,
   "outputs": [
    {
     "name": "stdout",
     "text": [
      "[\n  [ i: <class 'numpy.bool_'>, v: <class 'numpy.float64'>, g: <class 'str'>,\n    ngroup: <class 'numpy.int64'>, x: <class 'numpy.int64'> ]\n   ->\n  [ g: <class 'str'>, x: <class 'numpy.int64'>, v: <class 'numpy.float64'>,\n    i: <class 'numpy.bool_'>, ngroup: <class 'numpy.int64'>,\n    row_number: <class 'numpy.int64'>, shift_v: <class 'numpy.float64'> ]\n]\n\n"
     ],
     "output_type": "stream"
    }
   ],
   "source": [
    "a2.fit(a1.transform(d))\n",
    "print(a2)"
   ],
   "metadata": {
    "collapsed": false,
    "pycharm": {
     "name": "#%%\n",
     "is_executing": false
    }
   }
  },
  {
   "cell_type": "code",
   "execution_count": 12,
   "outputs": [
    {
     "name": "stdout",
     "text": [
      "[\n  [ x: <class 'numpy.int64'>, i: <class 'numpy.bool_'>,\n    v: <class 'numpy.float64'>, g: <class 'str'> ]\n   ->\n  [ g: <class 'str'>, x: <class 'numpy.int64'>, v: <class 'numpy.float64'>,\n    i: <class 'numpy.bool_'>, ngroup: <class 'numpy.int64'>,\n    row_number: <class 'numpy.int64'>, shift_v: <class 'numpy.float64'> ]\n]\n\n"
     ],
     "output_type": "stream"
    }
   ],
   "source": [
    "print(a1 >> a2)"
   ],
   "metadata": {
    "collapsed": false,
    "pycharm": {
     "name": "#%%\n",
     "is_executing": false
    }
   }
  },
  {
   "cell_type": "code",
   "execution_count": 13,
   "metadata": {
    "pycharm": {
     "is_executing": false
    }
   },
   "outputs": [
    {
     "data": {
      "text/plain": "TableDescription(\n table_name='data_frame',\n column_names=[\n   'g', 'x', 'v', 'i']) .\\\n   natural_join(b=\n      TableDescription(\n       table_name='data_frame',\n       column_names=[\n         'g', 'x', 'v', 'i']) .\\\n         project({\n          },\n         group_by=['g']) .\\\n         extend({\n          'ngroup': '_row_number()'},\n         order_by=['g']),\n      by=['g'], jointype='LEFT') .\\\n   extend({\n    'row_number': '_row_number()',\n    'shift_v': 'v.shift()'},\n   partition_by=['g'],\n   order_by=['x'])"
     },
     "metadata": {},
     "output_type": "execute_result",
     "execution_count": 13
    }
   ],
   "source": [
    "(a1 >> a2).pipeline"
   ]
  },
  {
   "cell_type": "code",
   "execution_count": 14,
   "metadata": {
    "collapsed": false,
    "jupyter": {
     "outputs_hidden": false
    },
    "pycharm": {
     "is_executing": false,
     "name": "#%%\n"
    }
   },
   "outputs": [
    {
     "data": {
      "text/plain": "DataOpArrow(TableDescription(\n table_name='d3',\n column_names=[\n   'g', 'x', 'v', 'i', 'ngroup', 'row_number', 'shift_v']) .\\\n   extend({\n    'size': '_size()',\n    'max_v': 'v.max()',\n    'min_v': 'v.min()',\n    'sum_v': 'v.sum()',\n    'mean_v': 'v.mean()',\n    'count_v': 'v.count()',\n    'size_v': 'v.size()'},\n   partition_by=['g']))"
     },
     "metadata": {},
     "output_type": "execute_result",
     "execution_count": 14
    }
   ],
   "source": [
    "unordered_ops = TableDescription('d3', ordered_ops.column_names). \\\n",
    "    extend({\n",
    "        'size': '_size()',\n",
    "        'max_v': 'v.max()',\n",
    "        'min_v': 'v.min()',\n",
    "        'sum_v': 'v.sum()',\n",
    "        'mean_v': 'v.mean()',\n",
    "        'count_v': 'v.count()',\n",
    "        'size_v': 'v.size()',\n",
    "    },\n",
    "    partition_by=['g'])\n",
    "a3 = data_algebra.arrow.DataOpArrow(unordered_ops)\n",
    "a3"
   ]
  },
  {
   "cell_type": "code",
   "execution_count": 15,
   "metadata": {
    "collapsed": false,
    "jupyter": {
     "outputs_hidden": false
    },
    "pycharm": {
     "is_executing": false,
     "name": "#%%\n"
    }
   },
   "outputs": [
    {
     "name": "stdout",
     "text": [
      "[\n  [ shift_v, i, v, g, ngroup, x, row_number ]\n   ->\n  [ g, x, v, i, ngroup, row_number, shift_v, size, max_v, min_v, sum_v,\n    mean_v, count_v, size_v ]\n]\n\n"
     ],
     "output_type": "stream"
    }
   ],
   "source": [
    "print(a3)"
   ]
  },
  {
   "cell_type": "code",
   "execution_count": 16,
   "metadata": {
    "collapsed": false,
    "jupyter": {
     "outputs_hidden": false
    },
    "pycharm": {
     "is_executing": false,
     "name": "#%%\n"
    }
   },
   "outputs": [
    {
     "data": {
      "text/plain": "DataOpArrow(TableDescription(\n table_name='data_frame',\n column_names=[\n   'g', 'x', 'v', 'i']) .\\\n   natural_join(b=\n      TableDescription(\n       table_name='data_frame',\n       column_names=[\n         'g', 'x', 'v', 'i']) .\\\n         project({\n          },\n         group_by=['g']) .\\\n         extend({\n          'ngroup': '_row_number()'},\n         order_by=['g']),\n      by=['g'], jointype='LEFT') .\\\n   extend({\n    'row_number': '_row_number()',\n    'shift_v': 'v.shift()'},\n   partition_by=['g'],\n   order_by=['x']) .\\\n   extend({\n    'size': '_size()',\n    'max_v': 'v.max()',\n    'min_v': 'v.min()',\n    'sum_v': 'v.sum()',\n    'mean_v': 'v.mean()',\n    'count_v': 'v.count()',\n    'size_v': 'v.size()'},\n   partition_by=['g']))"
     },
     "metadata": {},
     "output_type": "execute_result",
     "execution_count": 16
    }
   ],
   "source": [
    "a3.transform(a2.transform(a1))"
   ]
  },
  {
   "cell_type": "code",
   "execution_count": 17,
   "metadata": {
    "collapsed": false,
    "jupyter": {
     "outputs_hidden": false
    },
    "pycharm": {
     "is_executing": false,
     "name": "#%%\n"
    }
   },
   "outputs": [
    {
     "data": {
      "text/plain": "DataOpArrow(TableDescription(\n table_name='data_frame',\n column_names=[\n   'g', 'x', 'v', 'i']) .\\\n   natural_join(b=\n      TableDescription(\n       table_name='data_frame',\n       column_names=[\n         'g', 'x', 'v', 'i']) .\\\n         project({\n          },\n         group_by=['g']) .\\\n         extend({\n          'ngroup': '_row_number()'},\n         order_by=['g']),\n      by=['g'], jointype='LEFT') .\\\n   extend({\n    'row_number': '_row_number()',\n    'shift_v': 'v.shift()'},\n   partition_by=['g'],\n   order_by=['x']) .\\\n   extend({\n    'size': '_size()',\n    'max_v': 'v.max()',\n    'min_v': 'v.min()',\n    'sum_v': 'v.sum()',\n    'mean_v': 'v.mean()',\n    'count_v': 'v.count()',\n    'size_v': 'v.size()'},\n   partition_by=['g']))"
     },
     "metadata": {},
     "output_type": "execute_result",
     "execution_count": 17
    }
   ],
   "source": [
    "a1 >> a2 >> a3"
   ]
  },
  {
   "cell_type": "code",
   "execution_count": 18,
   "metadata": {
    "collapsed": false,
    "jupyter": {
     "outputs_hidden": false
    },
    "pycharm": {
     "is_executing": false,
     "name": "#%%\n"
    }
   },
   "outputs": [
    {
     "data": {
      "text/plain": "DataOpArrow(TableDescription(\n table_name='data_frame',\n column_names=[\n   'g', 'x', 'v', 'i']) .\\\n   natural_join(b=\n      TableDescription(\n       table_name='data_frame',\n       column_names=[\n         'g', 'x', 'v', 'i']) .\\\n         project({\n          },\n         group_by=['g']) .\\\n         extend({\n          'ngroup': '_row_number()'},\n         order_by=['g']),\n      by=['g'], jointype='LEFT') .\\\n   extend({\n    'row_number': '_row_number()',\n    'shift_v': 'v.shift()'},\n   partition_by=['g'],\n   order_by=['x']) .\\\n   extend({\n    'size': '_size()',\n    'max_v': 'v.max()',\n    'min_v': 'v.min()',\n    'sum_v': 'v.sum()',\n    'mean_v': 'v.mean()',\n    'count_v': 'v.count()',\n    'size_v': 'v.size()'},\n   partition_by=['g']))"
     },
     "metadata": {},
     "output_type": "execute_result",
     "execution_count": 18
    }
   ],
   "source": [
    "(a1 >> a2) >> a3"
   ]
  },
  {
   "cell_type": "code",
   "execution_count": 19,
   "metadata": {
    "collapsed": false,
    "jupyter": {
     "outputs_hidden": false
    },
    "pycharm": {
     "is_executing": false,
     "name": "#%%\n"
    }
   },
   "outputs": [
    {
     "data": {
      "text/plain": "DataOpArrow(TableDescription(\n table_name='data_frame',\n column_names=[\n   'g', 'x', 'v', 'i']) .\\\n   natural_join(b=\n      TableDescription(\n       table_name='data_frame',\n       column_names=[\n         'g', 'x', 'v', 'i']) .\\\n         project({\n          },\n         group_by=['g']) .\\\n         extend({\n          'ngroup': '_row_number()'},\n         order_by=['g']),\n      by=['g'], jointype='LEFT') .\\\n   extend({\n    'row_number': '_row_number()',\n    'shift_v': 'v.shift()'},\n   partition_by=['g'],\n   order_by=['x']) .\\\n   extend({\n    'size': '_size()',\n    'max_v': 'v.max()',\n    'min_v': 'v.min()',\n    'sum_v': 'v.sum()',\n    'mean_v': 'v.mean()',\n    'count_v': 'v.count()',\n    'size_v': 'v.size()'},\n   partition_by=['g']))"
     },
     "metadata": {},
     "output_type": "execute_result",
     "execution_count": 19
    }
   ],
   "source": [
    "a1 >> (a2 >> a3)"
   ]
  },
  {
   "cell_type": "code",
   "execution_count": 20,
   "metadata": {
    "collapsed": false,
    "jupyter": {
     "outputs_hidden": false
    },
    "pycharm": {
     "is_executing": false,
     "name": "#%%\n"
    }
   },
   "outputs": [
    {
     "data": {
      "text/plain": "   g  x     v      i  ngroup  row_number  shift_v  size  max_v  min_v  sum_v  \\\n0  a  1  10.0   True       1           1      NaN     1   10.0   10.0   10.0   \n1  b  4  40.0   True       2           1      NaN     2   50.0   40.0   90.0   \n2  b  5  50.0  False       2           2     40.0     2   50.0   40.0   90.0   \n3  c  7  70.0  False       3           1      NaN     3   90.0   70.0  240.0   \n4  c  8  80.0  False       3           2     70.0     3   90.0   70.0  240.0   \n5  c  9  90.0  False       3           3     80.0     3   90.0   70.0  240.0   \n\n   mean_v  count_v  size_v  \n0    10.0        1       1  \n1    45.0        2       2  \n2    45.0        2       2  \n3    80.0        3       3  \n4    80.0        3       3  \n5    80.0        3       3  ",
      "text/html": "<div>\n<style scoped>\n    .dataframe tbody tr th:only-of-type {\n        vertical-align: middle;\n    }\n\n    .dataframe tbody tr th {\n        vertical-align: top;\n    }\n\n    .dataframe thead th {\n        text-align: right;\n    }\n</style>\n<table border=\"1\" class=\"dataframe\">\n  <thead>\n    <tr style=\"text-align: right;\">\n      <th></th>\n      <th>g</th>\n      <th>x</th>\n      <th>v</th>\n      <th>i</th>\n      <th>ngroup</th>\n      <th>row_number</th>\n      <th>shift_v</th>\n      <th>size</th>\n      <th>max_v</th>\n      <th>min_v</th>\n      <th>sum_v</th>\n      <th>mean_v</th>\n      <th>count_v</th>\n      <th>size_v</th>\n    </tr>\n  </thead>\n  <tbody>\n    <tr>\n      <th>0</th>\n      <td>a</td>\n      <td>1</td>\n      <td>10.0</td>\n      <td>True</td>\n      <td>1</td>\n      <td>1</td>\n      <td>NaN</td>\n      <td>1</td>\n      <td>10.0</td>\n      <td>10.0</td>\n      <td>10.0</td>\n      <td>10.0</td>\n      <td>1</td>\n      <td>1</td>\n    </tr>\n    <tr>\n      <th>1</th>\n      <td>b</td>\n      <td>4</td>\n      <td>40.0</td>\n      <td>True</td>\n      <td>2</td>\n      <td>1</td>\n      <td>NaN</td>\n      <td>2</td>\n      <td>50.0</td>\n      <td>40.0</td>\n      <td>90.0</td>\n      <td>45.0</td>\n      <td>2</td>\n      <td>2</td>\n    </tr>\n    <tr>\n      <th>2</th>\n      <td>b</td>\n      <td>5</td>\n      <td>50.0</td>\n      <td>False</td>\n      <td>2</td>\n      <td>2</td>\n      <td>40.0</td>\n      <td>2</td>\n      <td>50.0</td>\n      <td>40.0</td>\n      <td>90.0</td>\n      <td>45.0</td>\n      <td>2</td>\n      <td>2</td>\n    </tr>\n    <tr>\n      <th>3</th>\n      <td>c</td>\n      <td>7</td>\n      <td>70.0</td>\n      <td>False</td>\n      <td>3</td>\n      <td>1</td>\n      <td>NaN</td>\n      <td>3</td>\n      <td>90.0</td>\n      <td>70.0</td>\n      <td>240.0</td>\n      <td>80.0</td>\n      <td>3</td>\n      <td>3</td>\n    </tr>\n    <tr>\n      <th>4</th>\n      <td>c</td>\n      <td>8</td>\n      <td>80.0</td>\n      <td>False</td>\n      <td>3</td>\n      <td>2</td>\n      <td>70.0</td>\n      <td>3</td>\n      <td>90.0</td>\n      <td>70.0</td>\n      <td>240.0</td>\n      <td>80.0</td>\n      <td>3</td>\n      <td>3</td>\n    </tr>\n    <tr>\n      <th>5</th>\n      <td>c</td>\n      <td>9</td>\n      <td>90.0</td>\n      <td>False</td>\n      <td>3</td>\n      <td>3</td>\n      <td>80.0</td>\n      <td>3</td>\n      <td>90.0</td>\n      <td>70.0</td>\n      <td>240.0</td>\n      <td>80.0</td>\n      <td>3</td>\n      <td>3</td>\n    </tr>\n  </tbody>\n</table>\n</div>"
     },
     "metadata": {},
     "output_type": "execute_result",
     "execution_count": 20
    }
   ],
   "source": [
    "ops = (a1 >> a2 >> a3).pipeline\n",
    "\n",
    "ops.transform(d)"
   ]
  },
  {
   "cell_type": "code",
   "execution_count": 21,
   "metadata": {
    "collapsed": false,
    "jupyter": {
     "outputs_hidden": false
    },
    "pycharm": {
     "is_executing": false,
     "name": "#%%\n"
    }
   },
   "outputs": [
    {
     "data": {
      "text/plain": "   g  x     v      i  ngroup  row_number  shift_v  size  max_v  min_v  sum_v  \\\n0  a  1  10.0   True       1           1      NaN     1   10.0   10.0   10.0   \n1  b  4  40.0   True       2           1      NaN     2   50.0   40.0   90.0   \n2  b  5  50.0  False       2           2     40.0     2   50.0   40.0   90.0   \n3  c  7  70.0  False       3           1      NaN     3   90.0   70.0  240.0   \n4  c  8  80.0  False       3           2     70.0     3   90.0   70.0  240.0   \n5  c  9  90.0  False       3           3     80.0     3   90.0   70.0  240.0   \n\n   mean_v  count_v  size_v  \n0    10.0        1       1  \n1    45.0        2       2  \n2    45.0        2       2  \n3    80.0        3       3  \n4    80.0        3       3  \n5    80.0        3       3  ",
      "text/html": "<div>\n<style scoped>\n    .dataframe tbody tr th:only-of-type {\n        vertical-align: middle;\n    }\n\n    .dataframe tbody tr th {\n        vertical-align: top;\n    }\n\n    .dataframe thead th {\n        text-align: right;\n    }\n</style>\n<table border=\"1\" class=\"dataframe\">\n  <thead>\n    <tr style=\"text-align: right;\">\n      <th></th>\n      <th>g</th>\n      <th>x</th>\n      <th>v</th>\n      <th>i</th>\n      <th>ngroup</th>\n      <th>row_number</th>\n      <th>shift_v</th>\n      <th>size</th>\n      <th>max_v</th>\n      <th>min_v</th>\n      <th>sum_v</th>\n      <th>mean_v</th>\n      <th>count_v</th>\n      <th>size_v</th>\n    </tr>\n  </thead>\n  <tbody>\n    <tr>\n      <th>0</th>\n      <td>a</td>\n      <td>1</td>\n      <td>10.0</td>\n      <td>True</td>\n      <td>1</td>\n      <td>1</td>\n      <td>NaN</td>\n      <td>1</td>\n      <td>10.0</td>\n      <td>10.0</td>\n      <td>10.0</td>\n      <td>10.0</td>\n      <td>1</td>\n      <td>1</td>\n    </tr>\n    <tr>\n      <th>1</th>\n      <td>b</td>\n      <td>4</td>\n      <td>40.0</td>\n      <td>True</td>\n      <td>2</td>\n      <td>1</td>\n      <td>NaN</td>\n      <td>2</td>\n      <td>50.0</td>\n      <td>40.0</td>\n      <td>90.0</td>\n      <td>45.0</td>\n      <td>2</td>\n      <td>2</td>\n    </tr>\n    <tr>\n      <th>2</th>\n      <td>b</td>\n      <td>5</td>\n      <td>50.0</td>\n      <td>False</td>\n      <td>2</td>\n      <td>2</td>\n      <td>40.0</td>\n      <td>2</td>\n      <td>50.0</td>\n      <td>40.0</td>\n      <td>90.0</td>\n      <td>45.0</td>\n      <td>2</td>\n      <td>2</td>\n    </tr>\n    <tr>\n      <th>3</th>\n      <td>c</td>\n      <td>7</td>\n      <td>70.0</td>\n      <td>False</td>\n      <td>3</td>\n      <td>1</td>\n      <td>NaN</td>\n      <td>3</td>\n      <td>90.0</td>\n      <td>70.0</td>\n      <td>240.0</td>\n      <td>80.0</td>\n      <td>3</td>\n      <td>3</td>\n    </tr>\n    <tr>\n      <th>4</th>\n      <td>c</td>\n      <td>8</td>\n      <td>80.0</td>\n      <td>False</td>\n      <td>3</td>\n      <td>2</td>\n      <td>70.0</td>\n      <td>3</td>\n      <td>90.0</td>\n      <td>70.0</td>\n      <td>240.0</td>\n      <td>80.0</td>\n      <td>3</td>\n      <td>3</td>\n    </tr>\n    <tr>\n      <th>5</th>\n      <td>c</td>\n      <td>9</td>\n      <td>90.0</td>\n      <td>False</td>\n      <td>3</td>\n      <td>3</td>\n      <td>80.0</td>\n      <td>3</td>\n      <td>90.0</td>\n      <td>70.0</td>\n      <td>240.0</td>\n      <td>80.0</td>\n      <td>3</td>\n      <td>3</td>\n    </tr>\n  </tbody>\n</table>\n</div>"
     },
     "metadata": {},
     "output_type": "execute_result",
     "execution_count": 21
    }
   ],
   "source": [
    "(a1 >> a2 >> a3).transform(d)"
   ]
  },
  {
   "cell_type": "code",
   "execution_count": 22,
   "metadata": {
    "collapsed": false,
    "jupyter": {
     "outputs_hidden": false
    },
    "pycharm": {
     "is_executing": false,
     "name": "#%%\n"
    }
   },
   "outputs": [
    {
     "data": {
      "text/plain": "   g  x     v      i  ngroup  row_number  shift_v  size  max_v  min_v  sum_v  \\\n0  a  1  10.0   True       1           1      NaN     1   10.0   10.0   10.0   \n1  b  4  40.0   True       2           1      NaN     2   50.0   40.0   90.0   \n2  b  5  50.0  False       2           2     40.0     2   50.0   40.0   90.0   \n3  c  7  70.0  False       3           1      NaN     3   90.0   70.0  240.0   \n4  c  8  80.0  False       3           2     70.0     3   90.0   70.0  240.0   \n5  c  9  90.0  False       3           3     80.0     3   90.0   70.0  240.0   \n\n   mean_v  count_v  size_v  \n0    10.0        1       1  \n1    45.0        2       2  \n2    45.0        2       2  \n3    80.0        3       3  \n4    80.0        3       3  \n5    80.0        3       3  ",
      "text/html": "<div>\n<style scoped>\n    .dataframe tbody tr th:only-of-type {\n        vertical-align: middle;\n    }\n\n    .dataframe tbody tr th {\n        vertical-align: top;\n    }\n\n    .dataframe thead th {\n        text-align: right;\n    }\n</style>\n<table border=\"1\" class=\"dataframe\">\n  <thead>\n    <tr style=\"text-align: right;\">\n      <th></th>\n      <th>g</th>\n      <th>x</th>\n      <th>v</th>\n      <th>i</th>\n      <th>ngroup</th>\n      <th>row_number</th>\n      <th>shift_v</th>\n      <th>size</th>\n      <th>max_v</th>\n      <th>min_v</th>\n      <th>sum_v</th>\n      <th>mean_v</th>\n      <th>count_v</th>\n      <th>size_v</th>\n    </tr>\n  </thead>\n  <tbody>\n    <tr>\n      <th>0</th>\n      <td>a</td>\n      <td>1</td>\n      <td>10.0</td>\n      <td>True</td>\n      <td>1</td>\n      <td>1</td>\n      <td>NaN</td>\n      <td>1</td>\n      <td>10.0</td>\n      <td>10.0</td>\n      <td>10.0</td>\n      <td>10.0</td>\n      <td>1</td>\n      <td>1</td>\n    </tr>\n    <tr>\n      <th>1</th>\n      <td>b</td>\n      <td>4</td>\n      <td>40.0</td>\n      <td>True</td>\n      <td>2</td>\n      <td>1</td>\n      <td>NaN</td>\n      <td>2</td>\n      <td>50.0</td>\n      <td>40.0</td>\n      <td>90.0</td>\n      <td>45.0</td>\n      <td>2</td>\n      <td>2</td>\n    </tr>\n    <tr>\n      <th>2</th>\n      <td>b</td>\n      <td>5</td>\n      <td>50.0</td>\n      <td>False</td>\n      <td>2</td>\n      <td>2</td>\n      <td>40.0</td>\n      <td>2</td>\n      <td>50.0</td>\n      <td>40.0</td>\n      <td>90.0</td>\n      <td>45.0</td>\n      <td>2</td>\n      <td>2</td>\n    </tr>\n    <tr>\n      <th>3</th>\n      <td>c</td>\n      <td>7</td>\n      <td>70.0</td>\n      <td>False</td>\n      <td>3</td>\n      <td>1</td>\n      <td>NaN</td>\n      <td>3</td>\n      <td>90.0</td>\n      <td>70.0</td>\n      <td>240.0</td>\n      <td>80.0</td>\n      <td>3</td>\n      <td>3</td>\n    </tr>\n    <tr>\n      <th>4</th>\n      <td>c</td>\n      <td>8</td>\n      <td>80.0</td>\n      <td>False</td>\n      <td>3</td>\n      <td>2</td>\n      <td>70.0</td>\n      <td>3</td>\n      <td>90.0</td>\n      <td>70.0</td>\n      <td>240.0</td>\n      <td>80.0</td>\n      <td>3</td>\n      <td>3</td>\n    </tr>\n    <tr>\n      <th>5</th>\n      <td>c</td>\n      <td>9</td>\n      <td>90.0</td>\n      <td>False</td>\n      <td>3</td>\n      <td>3</td>\n      <td>80.0</td>\n      <td>3</td>\n      <td>90.0</td>\n      <td>70.0</td>\n      <td>240.0</td>\n      <td>80.0</td>\n      <td>3</td>\n      <td>3</td>\n    </tr>\n  </tbody>\n</table>\n</div>"
     },
     "metadata": {},
     "output_type": "execute_result",
     "execution_count": 22
    }
   ],
   "source": [
    "d >> a1 >> a2 >> a3"
   ]
  },
  {
   "cell_type": "code",
   "execution_count": 23,
   "metadata": {
    "collapsed": false,
    "jupyter": {
     "outputs_hidden": false
    },
    "pycharm": {
     "is_executing": false,
     "name": "#%%\n"
    }
   },
   "outputs": [
    {
     "data": {
      "text/plain": "   g  x     v      i  ngroup  row_number  shift_v  size  max_v  min_v  sum_v  \\\n0  a  1  10.0   True       1           1      NaN     1   10.0   10.0   10.0   \n1  b  4  40.0   True       2           1      NaN     2   50.0   40.0   90.0   \n2  b  5  50.0  False       2           2     40.0     2   50.0   40.0   90.0   \n3  c  7  70.0  False       3           1      NaN     3   90.0   70.0  240.0   \n4  c  8  80.0  False       3           2     70.0     3   90.0   70.0  240.0   \n5  c  9  90.0  False       3           3     80.0     3   90.0   70.0  240.0   \n\n   mean_v  count_v  size_v  \n0    10.0        1       1  \n1    45.0        2       2  \n2    45.0        2       2  \n3    80.0        3       3  \n4    80.0        3       3  \n5    80.0        3       3  ",
      "text/html": "<div>\n<style scoped>\n    .dataframe tbody tr th:only-of-type {\n        vertical-align: middle;\n    }\n\n    .dataframe tbody tr th {\n        vertical-align: top;\n    }\n\n    .dataframe thead th {\n        text-align: right;\n    }\n</style>\n<table border=\"1\" class=\"dataframe\">\n  <thead>\n    <tr style=\"text-align: right;\">\n      <th></th>\n      <th>g</th>\n      <th>x</th>\n      <th>v</th>\n      <th>i</th>\n      <th>ngroup</th>\n      <th>row_number</th>\n      <th>shift_v</th>\n      <th>size</th>\n      <th>max_v</th>\n      <th>min_v</th>\n      <th>sum_v</th>\n      <th>mean_v</th>\n      <th>count_v</th>\n      <th>size_v</th>\n    </tr>\n  </thead>\n  <tbody>\n    <tr>\n      <th>0</th>\n      <td>a</td>\n      <td>1</td>\n      <td>10.0</td>\n      <td>True</td>\n      <td>1</td>\n      <td>1</td>\n      <td>NaN</td>\n      <td>1</td>\n      <td>10.0</td>\n      <td>10.0</td>\n      <td>10.0</td>\n      <td>10.0</td>\n      <td>1</td>\n      <td>1</td>\n    </tr>\n    <tr>\n      <th>1</th>\n      <td>b</td>\n      <td>4</td>\n      <td>40.0</td>\n      <td>True</td>\n      <td>2</td>\n      <td>1</td>\n      <td>NaN</td>\n      <td>2</td>\n      <td>50.0</td>\n      <td>40.0</td>\n      <td>90.0</td>\n      <td>45.0</td>\n      <td>2</td>\n      <td>2</td>\n    </tr>\n    <tr>\n      <th>2</th>\n      <td>b</td>\n      <td>5</td>\n      <td>50.0</td>\n      <td>False</td>\n      <td>2</td>\n      <td>2</td>\n      <td>40.0</td>\n      <td>2</td>\n      <td>50.0</td>\n      <td>40.0</td>\n      <td>90.0</td>\n      <td>45.0</td>\n      <td>2</td>\n      <td>2</td>\n    </tr>\n    <tr>\n      <th>3</th>\n      <td>c</td>\n      <td>7</td>\n      <td>70.0</td>\n      <td>False</td>\n      <td>3</td>\n      <td>1</td>\n      <td>NaN</td>\n      <td>3</td>\n      <td>90.0</td>\n      <td>70.0</td>\n      <td>240.0</td>\n      <td>80.0</td>\n      <td>3</td>\n      <td>3</td>\n    </tr>\n    <tr>\n      <th>4</th>\n      <td>c</td>\n      <td>8</td>\n      <td>80.0</td>\n      <td>False</td>\n      <td>3</td>\n      <td>2</td>\n      <td>70.0</td>\n      <td>3</td>\n      <td>90.0</td>\n      <td>70.0</td>\n      <td>240.0</td>\n      <td>80.0</td>\n      <td>3</td>\n      <td>3</td>\n    </tr>\n    <tr>\n      <th>5</th>\n      <td>c</td>\n      <td>9</td>\n      <td>90.0</td>\n      <td>False</td>\n      <td>3</td>\n      <td>3</td>\n      <td>80.0</td>\n      <td>3</td>\n      <td>90.0</td>\n      <td>70.0</td>\n      <td>240.0</td>\n      <td>80.0</td>\n      <td>3</td>\n      <td>3</td>\n    </tr>\n  </tbody>\n</table>\n</div>"
     },
     "metadata": {},
     "output_type": "execute_result",
     "execution_count": 23
    }
   ],
   "source": [
    "d >> (a1 >> a2 >> a3)\n"
   ]
  }
 ],
 "metadata": {
  "kernelspec": {
   "display_name": "Python 3",
   "language": "python",
   "name": "python3"
  },
  "language_info": {
   "codemirror_mode": {
    "name": "ipython",
    "version": 3
   },
   "file_extension": ".py",
   "mimetype": "text/x-python",
   "name": "python",
   "nbconvert_exporter": "python",
   "pygments_lexer": "ipython3",
   "version": "3.6.9"
  },
  "pycharm": {
   "stem_cell": {
    "cell_type": "raw",
    "source": [],
    "metadata": {
     "collapsed": false
    }
   }
  }
 },
 "nbformat": 4,
 "nbformat_minor": 4
}