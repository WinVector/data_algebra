{
 "cells": [
  {
   "cell_type": "markdown",
   "metadata": {},
   "source": [
    "Example of data transforms as categorical arrows ([`R` version](https://github.com/WinVector/rquery/blob/master/Examples/Arrow/Arrow.md) [`Python` version](https://github.com/WinVector/data_algebra/blob/master/Examples/Arrow/Arrow.md)).\n",
    "\n",
    "(For ideas on applying category theory to science and data, please see David I Spivak, *Category Theory for the Sciences*, MIT Press, 2014.)\n",
    "\n",
    "The [Python `data_algebra` package](https://github.com/WinVector/data_algebra) supplies a number of operators for working with tabular data.  The operators are picked in reference to [Codd's relational algebra](https://en.wikipedia.org/wiki/Relational_algebra), though (as with [`SQL`](https://en.wikipedia.org/wiki/SQL)) we do not insist on table rows being unique. Many of the operations are simple: selecting rows, selecting columns, joining tables.  Two of the operations stand out: projecting or aggregating rows, and extending tables with new derived columns.\n",
    "\n",
    "An interesting point is: while the `data_algebra` operators are fairly generic: the operator pipelines that map a single table to a single table form the arrows of a category over a nice set of objects.\n",
    "\n",
    "The objects of this category can be either of:\n",
    "\n",
    " * Sets of column names.\n",
    " * Maps of column names to column types (schema-like objects).\n",
    " \n",
    "I will take a liberty and call these objects (with or without types) \"single table schemas.\"\n",
    "\n",
    "Our setup is easiest to explain with an example.  Let's work an example in `Python`.\n",
    "\n",
    "First we import our packages and instantiate an example data frame."
   ]
  },
  {
   "cell_type": "code",
   "execution_count": 1,
   "metadata": {
    "collapsed": false,
    "jupyter": {
     "outputs_hidden": false
    },
    "pycharm": {
     "name": "#%%\n",
     "is_executing": false
    }
   },
   "outputs": [
    {
     "data": {
      "text/plain": "   g  x     v      i\n0  a  1  10.0   True\n1  b  4  40.0   True\n2  b  5  50.0  False\n3  c  7  70.0  False\n4  c  8  80.0  False\n5  c  9  90.0  False",
      "text/html": "<div>\n<style scoped>\n    .dataframe tbody tr th:only-of-type {\n        vertical-align: middle;\n    }\n\n    .dataframe tbody tr th {\n        vertical-align: top;\n    }\n\n    .dataframe thead th {\n        text-align: right;\n    }\n</style>\n<table border=\"1\" class=\"dataframe\">\n  <thead>\n    <tr style=\"text-align: right;\">\n      <th></th>\n      <th>g</th>\n      <th>x</th>\n      <th>v</th>\n      <th>i</th>\n    </tr>\n  </thead>\n  <tbody>\n    <tr>\n      <th>0</th>\n      <td>a</td>\n      <td>1</td>\n      <td>10.0</td>\n      <td>True</td>\n    </tr>\n    <tr>\n      <th>1</th>\n      <td>b</td>\n      <td>4</td>\n      <td>40.0</td>\n      <td>True</td>\n    </tr>\n    <tr>\n      <th>2</th>\n      <td>b</td>\n      <td>5</td>\n      <td>50.0</td>\n      <td>False</td>\n    </tr>\n    <tr>\n      <th>3</th>\n      <td>c</td>\n      <td>7</td>\n      <td>70.0</td>\n      <td>False</td>\n    </tr>\n    <tr>\n      <th>4</th>\n      <td>c</td>\n      <td>8</td>\n      <td>80.0</td>\n      <td>False</td>\n    </tr>\n    <tr>\n      <th>5</th>\n      <td>c</td>\n      <td>9</td>\n      <td>90.0</td>\n      <td>False</td>\n    </tr>\n  </tbody>\n</table>\n</div>"
     },
     "metadata": {},
     "output_type": "execute_result",
     "execution_count": 1
    }
   ],
   "source": [
    "import pandas\n",
    "\n",
    "from data_algebra.data_ops import *\n",
    "from data_algebra.arrow import *\n",
    "\n",
    "d = pandas.DataFrame({\n",
    "    'g': ['a', 'b', 'b', 'c', 'c', 'c'],\n",
    "    'x': [1, 4, 5, 7, 8, 9],\n",
    "    'v': [10.0, 40.0, 50.0, 70.0, 80.0, 90.0],\n",
    "    'i': [True, True, False, False, False, False],\n",
    "})\n",
    "\n",
    "d"
   ]
  },
  {
   "cell_type": "markdown",
   "metadata": {},
   "source": [
    "`data_algebra` operator pipelines are designed to transform data.  For example we can define the following operator pipeline which is designed count how many different values there are for `g`, and assign a unique integer id to each group."
   ]
  },
  {
   "cell_type": "code",
   "execution_count": 2,
   "metadata": {
    "collapsed": false,
    "jupyter": {
     "outputs_hidden": false
    },
    "pycharm": {
     "name": "#%%\n",
     "is_executing": false
    }
   },
   "outputs": [],
   "source": [
    "table_description = TableDescription('d', ['g', 'x', 'v', 'i'])\n",
    "\n",
    "id_ops_a = table_description. \\\n",
    "    project(group_by=['g']). \\\n",
    "    extend({\n",
    "        'ngroup': '_row_number()',\n",
    "    },\n",
    "    order_by=['g'])"
   ]
  },
  {
   "cell_type": "markdown",
   "metadata": {},
   "source": [
    "The pipeline is saved in the variable `id_ops_a` which can then be applied to our data as follows."
   ]
  },
  {
   "cell_type": "code",
   "execution_count": 3,
   "metadata": {
    "collapsed": false,
    "jupyter": {
     "outputs_hidden": false
    },
    "pycharm": {
     "name": "#%%\n",
     "is_executing": false
    }
   },
   "outputs": [
    {
     "data": {
      "text/plain": "   g  ngroup\n0  a       1\n1  b       2\n2  c       3",
      "text/html": "<div>\n<style scoped>\n    .dataframe tbody tr th:only-of-type {\n        vertical-align: middle;\n    }\n\n    .dataframe tbody tr th {\n        vertical-align: top;\n    }\n\n    .dataframe thead th {\n        text-align: right;\n    }\n</style>\n<table border=\"1\" class=\"dataframe\">\n  <thead>\n    <tr style=\"text-align: right;\">\n      <th></th>\n      <th>g</th>\n      <th>ngroup</th>\n    </tr>\n  </thead>\n  <tbody>\n    <tr>\n      <th>0</th>\n      <td>a</td>\n      <td>1</td>\n    </tr>\n    <tr>\n      <th>1</th>\n      <td>b</td>\n      <td>2</td>\n    </tr>\n    <tr>\n      <th>2</th>\n      <td>c</td>\n      <td>3</td>\n    </tr>\n  </tbody>\n</table>\n</div>"
     },
     "metadata": {},
     "output_type": "execute_result",
     "execution_count": 3
    }
   ],
   "source": [
    "id_ops_a.transform(d)"
   ]
  },
  {
   "cell_type": "markdown",
   "metadata": {},
   "source": [
    "The pipelines are designed for composition in addition to application to data.  For example we can use the `id_ops_a` pipeline as part of a larger pipeline as follows."
   ]
  },
  {
   "cell_type": "code",
   "execution_count": 4,
   "metadata": {
    "collapsed": false,
    "jupyter": {
     "outputs_hidden": false
    },
    "pycharm": {
     "name": "#%%\n",
     "is_executing": false
    }
   },
   "outputs": [],
   "source": [
    "id_ops_b = table_description. \\\n",
    "    natural_join(id_ops_a, by=['g'], jointype='LEFT')"
   ]
  },
  {
   "cell_type": "markdown",
   "metadata": {},
   "source": [
    "This pipeline specifies joining the integer group ids back into the original table as follows."
   ]
  },
  {
   "cell_type": "code",
   "execution_count": 5,
   "metadata": {
    "collapsed": false,
    "jupyter": {
     "outputs_hidden": false
    },
    "pycharm": {
     "name": "#%%\n",
     "is_executing": false
    }
   },
   "outputs": [
    {
     "data": {
      "text/plain": "   g  x     v      i  ngroup\n0  a  1  10.0   True       1\n1  b  4  40.0   True       2\n2  b  5  50.0  False       2\n3  c  7  70.0  False       3\n4  c  8  80.0  False       3\n5  c  9  90.0  False       3",
      "text/html": "<div>\n<style scoped>\n    .dataframe tbody tr th:only-of-type {\n        vertical-align: middle;\n    }\n\n    .dataframe tbody tr th {\n        vertical-align: top;\n    }\n\n    .dataframe thead th {\n        text-align: right;\n    }\n</style>\n<table border=\"1\" class=\"dataframe\">\n  <thead>\n    <tr style=\"text-align: right;\">\n      <th></th>\n      <th>g</th>\n      <th>x</th>\n      <th>v</th>\n      <th>i</th>\n      <th>ngroup</th>\n    </tr>\n  </thead>\n  <tbody>\n    <tr>\n      <th>0</th>\n      <td>a</td>\n      <td>1</td>\n      <td>10.0</td>\n      <td>True</td>\n      <td>1</td>\n    </tr>\n    <tr>\n      <th>1</th>\n      <td>b</td>\n      <td>4</td>\n      <td>40.0</td>\n      <td>True</td>\n      <td>2</td>\n    </tr>\n    <tr>\n      <th>2</th>\n      <td>b</td>\n      <td>5</td>\n      <td>50.0</td>\n      <td>False</td>\n      <td>2</td>\n    </tr>\n    <tr>\n      <th>3</th>\n      <td>c</td>\n      <td>7</td>\n      <td>70.0</td>\n      <td>False</td>\n      <td>3</td>\n    </tr>\n    <tr>\n      <th>4</th>\n      <td>c</td>\n      <td>8</td>\n      <td>80.0</td>\n      <td>False</td>\n      <td>3</td>\n    </tr>\n    <tr>\n      <th>5</th>\n      <td>c</td>\n      <td>9</td>\n      <td>90.0</td>\n      <td>False</td>\n      <td>3</td>\n    </tr>\n  </tbody>\n</table>\n</div>"
     },
     "metadata": {},
     "output_type": "execute_result",
     "execution_count": 5
    }
   ],
   "source": [
    "id_ops_b.transform(d)"
   ]
  },
  {
   "cell_type": "markdown",
   "metadata": {},
   "source": [
    "Notice the `ngroup` column is a function of the `g` column in this result.\n",
    "\n",
    "I am now ready to state my big point.  These pipelines have documented pre and post conditions: what set of columns (and optionally types) they expect on their input, and what set of columns (optionally types) the pipeline produces."
   ]
  },
  {
   "cell_type": "code",
   "execution_count": 6,
   "metadata": {
    "collapsed": false,
    "jupyter": {
     "outputs_hidden": false
    },
    "pycharm": {
     "name": "#%%\n",
     "is_executing": false
    }
   },
   "outputs": [
    {
     "data": {
      "text/plain": "{'d': {'g', 'i', 'v', 'x'}}"
     },
     "metadata": {},
     "output_type": "execute_result",
     "execution_count": 6
    }
   ],
   "source": [
    "# needs\n",
    "id_ops_b.columns_used()"
   ]
  },
  {
   "cell_type": "code",
   "execution_count": 7,
   "metadata": {
    "collapsed": false,
    "jupyter": {
     "outputs_hidden": false
    },
    "pycharm": {
     "name": "#%%\n",
     "is_executing": false
    }
   },
   "outputs": [
    {
     "data": {
      "text/plain": "['g', 'x', 'v', 'i', 'ngroup']"
     },
     "metadata": {},
     "output_type": "execute_result",
     "execution_count": 7
    }
   ],
   "source": [
    "# produced\n",
    "id_ops_b.column_names"
   ]
  },
  {
   "cell_type": "markdown",
   "metadata": {},
   "source": [
    "This is where we seem to have nice opportunity to use category theory to manage our pre-and post conditions.  Let's wrap this pipeline into a convenience class to make the categorical connection easier to see."
   ]
  },
  {
   "cell_type": "code",
   "execution_count": 8,
   "metadata": {
    "collapsed": false,
    "jupyter": {
     "outputs_hidden": false
    },
    "pycharm": {
     "name": "#%%\n",
     "is_executing": false
    }
   },
   "outputs": [],
   "source": [
    "a1 = DataOpArrow(id_ops_b)"
   ]
  },
  {
   "cell_type": "markdown",
   "metadata": {},
   "source": [
    "`a1` is a categorical theory arrow, it has the usual domain (arrow base, or incoming object), and co-domain (arrow head, or outgoing object) in a category of single-table schemas."
   ]
  },
  {
   "cell_type": "code",
   "execution_count": 9,
   "metadata": {
    "collapsed": false,
    "jupyter": {
     "outputs_hidden": false
    },
    "pycharm": {
     "name": "#%%\n",
     "is_executing": false
    }
   },
   "outputs": [
    {
     "data": {
      "text/plain": "{'g', 'i', 'v', 'x'}"
     },
     "metadata": {},
     "output_type": "execute_result",
     "execution_count": 9
    }
   ],
   "source": [
    "a1.dom()"
   ]
  },
  {
   "cell_type": "code",
   "execution_count": 10,
   "metadata": {
    "collapsed": false,
    "jupyter": {
     "outputs_hidden": false
    },
    "pycharm": {
     "name": "#%%\n",
     "is_executing": false
    }
   },
   "outputs": [
    {
     "data": {
      "text/plain": "['g', 'x', 'v', 'i', 'ngroup']"
     },
     "metadata": {},
     "output_type": "execute_result",
     "execution_count": 10
    }
   ],
   "source": [
    "a1.cod()"
   ]
  },
  {
   "cell_type": "markdown",
   "metadata": {},
   "source": [
    "These are what are presented in the succinct presentation of the arrow."
   ]
  },
  {
   "cell_type": "code",
   "execution_count": 11,
   "metadata": {
    "collapsed": false,
    "jupyter": {
     "outputs_hidden": false
    },
    "pycharm": {
     "name": "#%%\n",
     "is_executing": false
    }
   },
   "outputs": [
    {
     "name": "stdout",
     "text": [
      "[\n 'd':\n  [ v, g, i, x ]\n   ->\n  [ g, x, v, i, ngroup ]\n]\n\n"
     ],
     "output_type": "stream"
    }
   ],
   "source": [
    "print(a1)"
   ]
  },
  {
   "cell_type": "markdown",
   "metadata": {},
   "source": [
    "The arrow has a more detailed presentation, which is the realization of the operator pipeline as code."
   ]
  },
  {
   "cell_type": "code",
   "execution_count": 12,
   "metadata": {
    "collapsed": false,
    "jupyter": {
     "outputs_hidden": false
    },
    "pycharm": {
     "name": "#%%\n",
     "is_executing": false
    }
   },
   "outputs": [
    {
     "name": "stdout",
     "text": [
      "DataOpArrow(\n TableDescription(\n table_name='d',\n column_names=[\n   'g', 'x', 'v', 'i']) .\\\n   natural_join(b=\n      TableDescription(\n       table_name='d',\n       column_names=[\n         'g', 'x', 'v', 'i']) .\\\n         project({\n          },\n         group_by=['g']) .\\\n         extend({\n          'ngroup': '_row_number()'},\n         order_by=['g']),\n      by=['g'], jointype='LEFT'),\n free_table_key='d')\n"
     ],
     "output_type": "stream"
    }
   ],
   "source": [
    "print(a1.__repr__())"
   ]
  },
  {
   "cell_type": "markdown",
   "metadata": {},
   "source": [
    "We can think of our arrows (or obvious mappings of them) as being able to be applied to:\n",
    "  * More arrows of the same type (composition).\n",
    "  * Data (action or application).\n",
    "  * Single table schemas (managing pre and post conditions).\n",
    "  \n",
    "The arrow can be converted to a more detailed arrow that records both incoming and outgoing column types in the domain and co-domain by the `.fit()` function."
   ]
  },
  {
   "cell_type": "code",
   "execution_count": 13,
   "metadata": {
    "collapsed": false,
    "jupyter": {
     "outputs_hidden": false
    },
    "pycharm": {
     "name": "#%%\n",
     "is_executing": false
    }
   },
   "outputs": [
    {
     "name": "stdout",
     "text": [
      "[\n 'd':\n  [ v: <class 'numpy.float64'>, g: <class 'str'>, i: <class 'numpy.bool_'>,\n    x: <class 'numpy.int64'> ]\n   ->\n  [ g: <class 'str'>, x: <class 'numpy.int64'>, v: <class 'numpy.float64'>,\n    i: <class 'numpy.bool_'>, ngroup: <class 'numpy.int64'> ]\n]\n\n"
     ],
     "output_type": "stream"
    }
   ],
   "source": [
    "a1.fit(d)\n",
    "\n",
    "print(a1)"
   ]
  },
  {
   "cell_type": "code",
   "execution_count": 14,
   "metadata": {
    "collapsed": false,
    "jupyter": {
     "outputs_hidden": false
    },
    "pycharm": {
     "name": "#%%\n",
     "is_executing": false
    }
   },
   "outputs": [
    {
     "name": "stdout",
     "text": [
      "[\n 'obj':\n  [ v: <class 'numpy.float64'>, g: <class 'str'>, i: <class 'numpy.bool_'>,\n    x: <class 'numpy.int64'> ]\n   ->\n  [ v: <class 'numpy.float64'>, g: <class 'str'>, i: <class 'numpy.bool_'>,\n    x: <class 'numpy.int64'> ]\n]\n\n"
     ],
     "output_type": "stream"
    }
   ],
   "source": [
    "identity_left = a1.identity_arrow(a1.dom())\n",
    "print(identity_left)"
   ]
  },
  {
   "cell_type": "code",
   "execution_count": 15,
   "metadata": {
    "collapsed": false,
    "jupyter": {
     "outputs_hidden": false
    },
    "pycharm": {
     "name": "#%%\n",
     "is_executing": false
    }
   },
   "outputs": [
    {
     "name": "stdout",
     "text": [
      "[\n 'obj':\n  [ g: <class 'str'>, x: <class 'numpy.int64'>, v: <class 'numpy.float64'>,\n    i: <class 'numpy.bool_'>, ngroup: <class 'numpy.int64'> ]\n   ->\n  [ g: <class 'str'>, x: <class 'numpy.int64'>, v: <class 'numpy.float64'>,\n    i: <class 'numpy.bool_'>, ngroup: <class 'numpy.int64'> ]\n]\n\n"
     ],
     "output_type": "stream"
    }
   ],
   "source": [
    "identity_right = a1.identity_arrow(a1.cod())\n",
    "print(identity_right)"
   ]
  },
  {
   "cell_type": "markdown",
   "metadata": {},
   "source": [
    "Arrows can be composed or applied by using the notation `a1.transform(d)` or the equivalent notation `d >> a1`. Note: we are not thinking of `>>` itself as an arrow, but as a symbol for composition of arrows (we used `>>` as it is one of the few operators not used by `Pandas`, which means using this operator makes it easier for our notation to work with `Pandas`)."
   ]
  },
  {
   "cell_type": "code",
   "execution_count": 16,
   "metadata": {
    "collapsed": false,
    "jupyter": {
     "outputs_hidden": false
    },
    "pycharm": {
     "name": "#%%\n",
     "is_executing": false
    }
   },
   "outputs": [
    {
     "data": {
      "text/plain": "   g  x     v      i  ngroup\n0  a  1  10.0   True       1\n1  b  4  40.0   True       2\n2  b  5  50.0  False       2\n3  c  7  70.0  False       3\n4  c  8  80.0  False       3\n5  c  9  90.0  False       3",
      "text/html": "<div>\n<style scoped>\n    .dataframe tbody tr th:only-of-type {\n        vertical-align: middle;\n    }\n\n    .dataframe tbody tr th {\n        vertical-align: top;\n    }\n\n    .dataframe thead th {\n        text-align: right;\n    }\n</style>\n<table border=\"1\" class=\"dataframe\">\n  <thead>\n    <tr style=\"text-align: right;\">\n      <th></th>\n      <th>g</th>\n      <th>x</th>\n      <th>v</th>\n      <th>i</th>\n      <th>ngroup</th>\n    </tr>\n  </thead>\n  <tbody>\n    <tr>\n      <th>0</th>\n      <td>a</td>\n      <td>1</td>\n      <td>10.0</td>\n      <td>True</td>\n      <td>1</td>\n    </tr>\n    <tr>\n      <th>1</th>\n      <td>b</td>\n      <td>4</td>\n      <td>40.0</td>\n      <td>True</td>\n      <td>2</td>\n    </tr>\n    <tr>\n      <th>2</th>\n      <td>b</td>\n      <td>5</td>\n      <td>50.0</td>\n      <td>False</td>\n      <td>2</td>\n    </tr>\n    <tr>\n      <th>3</th>\n      <td>c</td>\n      <td>7</td>\n      <td>70.0</td>\n      <td>False</td>\n      <td>3</td>\n    </tr>\n    <tr>\n      <th>4</th>\n      <td>c</td>\n      <td>8</td>\n      <td>80.0</td>\n      <td>False</td>\n      <td>3</td>\n    </tr>\n    <tr>\n      <th>5</th>\n      <td>c</td>\n      <td>9</td>\n      <td>90.0</td>\n      <td>False</td>\n      <td>3</td>\n    </tr>\n  </tbody>\n</table>\n</div>"
     },
     "metadata": {},
     "output_type": "execute_result",
     "execution_count": 16
    }
   ],
   "source": [
    "a1.transform(d)"
   ]
  },
  {
   "cell_type": "code",
   "execution_count": 17,
   "metadata": {
    "collapsed": false,
    "jupyter": {
     "outputs_hidden": false
    },
    "pycharm": {
     "name": "#%%\n",
     "is_executing": false
    }
   },
   "outputs": [
    {
     "data": {
      "text/plain": "   g  x     v      i  ngroup\n0  a  1  10.0   True       1\n1  b  4  40.0   True       2\n2  b  5  50.0  False       2\n3  c  7  70.0  False       3\n4  c  8  80.0  False       3\n5  c  9  90.0  False       3",
      "text/html": "<div>\n<style scoped>\n    .dataframe tbody tr th:only-of-type {\n        vertical-align: middle;\n    }\n\n    .dataframe tbody tr th {\n        vertical-align: top;\n    }\n\n    .dataframe thead th {\n        text-align: right;\n    }\n</style>\n<table border=\"1\" class=\"dataframe\">\n  <thead>\n    <tr style=\"text-align: right;\">\n      <th></th>\n      <th>g</th>\n      <th>x</th>\n      <th>v</th>\n      <th>i</th>\n      <th>ngroup</th>\n    </tr>\n  </thead>\n  <tbody>\n    <tr>\n      <th>0</th>\n      <td>a</td>\n      <td>1</td>\n      <td>10.0</td>\n      <td>True</td>\n      <td>1</td>\n    </tr>\n    <tr>\n      <th>1</th>\n      <td>b</td>\n      <td>4</td>\n      <td>40.0</td>\n      <td>True</td>\n      <td>2</td>\n    </tr>\n    <tr>\n      <th>2</th>\n      <td>b</td>\n      <td>5</td>\n      <td>50.0</td>\n      <td>False</td>\n      <td>2</td>\n    </tr>\n    <tr>\n      <th>3</th>\n      <td>c</td>\n      <td>7</td>\n      <td>70.0</td>\n      <td>False</td>\n      <td>3</td>\n    </tr>\n    <tr>\n      <th>4</th>\n      <td>c</td>\n      <td>8</td>\n      <td>80.0</td>\n      <td>False</td>\n      <td>3</td>\n    </tr>\n    <tr>\n      <th>5</th>\n      <td>c</td>\n      <td>9</td>\n      <td>90.0</td>\n      <td>False</td>\n      <td>3</td>\n    </tr>\n  </tbody>\n</table>\n</div>"
     },
     "metadata": {},
     "output_type": "execute_result",
     "execution_count": 17
    }
   ],
   "source": [
    "d >> a1"
   ]
  },
  {
   "cell_type": "markdown",
   "metadata": {},
   "source": [
    "Up until now we have been showing how we work to obey the category theory axioms.  From here on we look at what does category theory do for us.  What it does is check correct composition and ensure full associativity of operations.\n",
    "\n",
    "As is typical in category theory, there can be more than one arrow from a given object to given object.  For example the following is a different arrow with the same start and end."
   ]
  },
  {
   "cell_type": "code",
   "execution_count": 18,
   "metadata": {
    "collapsed": false,
    "jupyter": {
     "outputs_hidden": false
    },
    "pycharm": {
     "name": "#%%\n",
     "is_executing": false
    }
   },
   "outputs": [
    {
     "name": "stdout",
     "text": [
      "[\n 'd':\n  [ x: <class 'numpy.int64'>, g: <class 'str'>, i: <class 'numpy.bool_'>,\n    v: <class 'numpy.float64'> ]\n   ->\n  [ g: <class 'str'>, x: <class 'numpy.int64'>, v: <class 'numpy.float64'>,\n    i: <class 'numpy.bool_'>, ngroup: <class 'numpy.int64'> ]\n]\n\n"
     ],
     "output_type": "stream"
    }
   ],
   "source": [
    "a1b = DataOpArrow(\n",
    "    table_description. \\\n",
    "        extend({\n",
    "            'ngroup': 0\n",
    "        }))\n",
    "a1b.fit(d)\n",
    "print(a1b)"
   ]
  },
  {
   "cell_type": "markdown",
   "metadata": {},
   "source": [
    "However, the `a1b` arrow represents a different operation than `a1`:"
   ]
  },
  {
   "cell_type": "code",
   "execution_count": 19,
   "metadata": {
    "collapsed": false,
    "jupyter": {
     "outputs_hidden": false
    },
    "pycharm": {
     "name": "#%%\n",
     "is_executing": false
    }
   },
   "outputs": [
    {
     "data": {
      "text/plain": "   g  x     v      i  ngroup\n0  a  1  10.0   True       0\n1  b  4  40.0   True       0\n2  b  5  50.0  False       0\n3  c  7  70.0  False       0\n4  c  8  80.0  False       0\n5  c  9  90.0  False       0",
      "text/html": "<div>\n<style scoped>\n    .dataframe tbody tr th:only-of-type {\n        vertical-align: middle;\n    }\n\n    .dataframe tbody tr th {\n        vertical-align: top;\n    }\n\n    .dataframe thead th {\n        text-align: right;\n    }\n</style>\n<table border=\"1\" class=\"dataframe\">\n  <thead>\n    <tr style=\"text-align: right;\">\n      <th></th>\n      <th>g</th>\n      <th>x</th>\n      <th>v</th>\n      <th>i</th>\n      <th>ngroup</th>\n    </tr>\n  </thead>\n  <tbody>\n    <tr>\n      <th>0</th>\n      <td>a</td>\n      <td>1</td>\n      <td>10.0</td>\n      <td>True</td>\n      <td>0</td>\n    </tr>\n    <tr>\n      <th>1</th>\n      <td>b</td>\n      <td>4</td>\n      <td>40.0</td>\n      <td>True</td>\n      <td>0</td>\n    </tr>\n    <tr>\n      <th>2</th>\n      <td>b</td>\n      <td>5</td>\n      <td>50.0</td>\n      <td>False</td>\n      <td>0</td>\n    </tr>\n    <tr>\n      <th>3</th>\n      <td>c</td>\n      <td>7</td>\n      <td>70.0</td>\n      <td>False</td>\n      <td>0</td>\n    </tr>\n    <tr>\n      <th>4</th>\n      <td>c</td>\n      <td>8</td>\n      <td>80.0</td>\n      <td>False</td>\n      <td>0</td>\n    </tr>\n    <tr>\n      <th>5</th>\n      <td>c</td>\n      <td>9</td>\n      <td>90.0</td>\n      <td>False</td>\n      <td>0</td>\n    </tr>\n  </tbody>\n</table>\n</div>"
     },
     "metadata": {},
     "output_type": "execute_result",
     "execution_count": 19
    }
   ],
   "source": [
    "a1b.transform(d)"
   ]
  },
  {
   "cell_type": "markdown",
   "metadata": {},
   "source": [
    "The arrows can be composed exactly when the pre-conditions meet the post conditions.  \n",
    "\n",
    "Here are two examples of violating the pre and post conditions.  The point is, the categorical conditions enforce the checking for us.  We can't compose arrows that don't match domain and range.  Up until now we have been setting things up to make the categorical machinery work, now this machinery will work for us and make the job of managing complex data transformations easier."
   ]
  },
  {
   "cell_type": "code",
   "execution_count": 20,
   "metadata": {
    "collapsed": false,
    "jupyter": {
     "outputs_hidden": false
    },
    "pycharm": {
     "name": "#%%\n",
     "is_executing": false
    }
   },
   "outputs": [
    {
     "name": "stdout",
     "text": [
      "[\n 'd2':\n  [ ngroup, g, x, v ]\n   ->\n  [ ngroup, g, x, v, row_number, shift_v ]\n]\n\n"
     ],
     "output_type": "stream"
    }
   ],
   "source": [
    "cols2_too_small = [c for c in (set(id_ops_b.column_names) - set(['i']))]\n",
    "ordered_ops = TableDescription('d2', cols2_too_small). \\\n",
    "    extend({\n",
    "        'row_number': '_row_number()',\n",
    "        'shift_v': 'v.shift()',\n",
    "    },\n",
    "    order_by=['x'],\n",
    "    partition_by=['g'])\n",
    "a2 = DataOpArrow(ordered_ops)\n",
    "print(a2)"
   ]
  },
  {
   "cell_type": "code",
   "execution_count": 21,
   "metadata": {
    "collapsed": false,
    "jupyter": {
     "outputs_hidden": false
    },
    "pycharm": {
     "name": "#%%\n",
     "is_executing": false
    }
   },
   "outputs": [
    {
     "name": "stdout",
     "text": [
      "extra incoming columns: {'i'}\n"
     ],
     "output_type": "stream"
    }
   ],
   "source": [
    "try:\n",
    "    a1 >> a2\n",
    "except ValueError as e:\n",
    "    print(str(e))"
   ]
  },
  {
   "cell_type": "code",
   "execution_count": 22,
   "metadata": {
    "collapsed": false,
    "jupyter": {
     "outputs_hidden": false
    },
    "pycharm": {
     "name": "#%%\n",
     "is_executing": false
    }
   },
   "outputs": [
    {
     "name": "stdout",
     "text": [
      "[\n 'd2':\n  [ ngroup, g, v, i, q, x ]\n   ->\n  [ g, x, v, i, ngroup, q, row_number, shift_v ]\n]\n\n"
     ],
     "output_type": "stream"
    }
   ],
   "source": [
    "cols2_too_large = id_ops_b.column_names + ['q']\n",
    "ordered_ops = TableDescription('d2', cols2_too_large). \\\n",
    "    extend({\n",
    "        'row_number': '_row_number()',\n",
    "        'shift_v': 'v.shift()',\n",
    "    },\n",
    "    order_by=['x'],\n",
    "    partition_by=['g'])\n",
    "a2 = DataOpArrow(ordered_ops)\n",
    "print(a2)"
   ]
  },
  {
   "cell_type": "code",
   "execution_count": 23,
   "metadata": {
    "collapsed": false,
    "jupyter": {
     "outputs_hidden": false
    },
    "pycharm": {
     "name": "#%%\n",
     "is_executing": false
    }
   },
   "outputs": [
    {
     "name": "stdout",
     "text": [
      "missing required columns: {'q'}\n"
     ],
     "output_type": "stream"
    }
   ],
   "source": [
    "try:\n",
    "    a1 >> a2\n",
    "except ValueError as e:\n",
    "    print(str(e))\n"
   ]
  },
  {
   "cell_type": "markdown",
   "metadata": {},
   "source": [
    "The point is: we will never see the above exceptions when we compose arrows that match on pre and post conditions (which in category theory are the only arrows you are allowed to compose).\n",
    "\n",
    "When the pre and post conditions are met the arrows compose in a fully associative manner."
   ]
  },
  {
   "cell_type": "code",
   "execution_count": 24,
   "metadata": {
    "collapsed": false,
    "jupyter": {
     "outputs_hidden": false
    },
    "pycharm": {
     "name": "#%%\n",
     "is_executing": false
    }
   },
   "outputs": [
    {
     "name": "stdout",
     "text": [
      "[\n 'd2':\n  [ ngroup, g, v, i, x ]\n   ->\n  [ g, x, v, i, ngroup, row_number, shift_v ]\n]\n\n"
     ],
     "output_type": "stream"
    }
   ],
   "source": [
    "ordered_ops = TableDescription('d2', id_ops_b.column_names). \\\n",
    "    extend({\n",
    "        'row_number': '_row_number()',\n",
    "        'shift_v': 'v.shift()',\n",
    "    },\n",
    "    order_by=['x'],\n",
    "    partition_by=['g'])\n",
    "a2 = DataOpArrow(ordered_ops)\n",
    "print(a2)"
   ]
  },
  {
   "cell_type": "code",
   "execution_count": 25,
   "metadata": {
    "collapsed": false,
    "jupyter": {
     "outputs_hidden": false
    },
    "pycharm": {
     "name": "#%%\n",
     "is_executing": false
    }
   },
   "outputs": [
    {
     "name": "stdout",
     "text": [
      "[\n 'd':\n  [ v: <class 'numpy.float64'>, g: <class 'str'>, i: <class 'numpy.bool_'>,\n    x: <class 'numpy.int64'> ]\n   ->\n  [ g, x, v, i, ngroup, row_number, shift_v ]\n]\n\n"
     ],
     "output_type": "stream"
    }
   ],
   "source": [
    "print(a1 >> a2)"
   ]
  },
  {
   "cell_type": "markdown",
   "metadata": {},
   "source": [
    "We can also enforce type invariants."
   ]
  },
  {
   "cell_type": "code",
   "execution_count": 26,
   "metadata": {
    "collapsed": false,
    "jupyter": {
     "outputs_hidden": false
    },
    "pycharm": {
     "name": "#%%\n",
     "is_executing": false
    }
   },
   "outputs": [
    {
     "name": "stdout",
     "text": [
      "[\n 'd2':\n  [ ngroup: <class 'numpy.int64'>, g: <class 'str'>,\n    v: <class 'numpy.float64'>, i: <class 'numpy.bool_'>, x: <class 'str'> ]\n   ->\n  [ g: <class 'str'>, x: <class 'str'>, v: <class 'numpy.float64'>,\n    i: <class 'numpy.bool_'>, ngroup: <class 'numpy.int64'>,\n    row_number: <class 'numpy.int64'>, shift_v: <class 'numpy.float64'> ]\n]\n\n"
     ],
     "output_type": "stream"
    }
   ],
   "source": [
    "wrong_example = pandas.DataFrame({\n",
    "    'g': ['a'],\n",
    "    'v': [1.0],\n",
    "    'x': ['b'],\n",
    "    'i': [True],\n",
    "    'ngroup': [1]\n",
    "})\n",
    "\n",
    "a2.fit(wrong_example)\n",
    "print(a2)"
   ]
  },
  {
   "cell_type": "code",
   "execution_count": 27,
   "metadata": {
    "collapsed": false,
    "jupyter": {
     "outputs_hidden": false
    },
    "pycharm": {
     "name": "#%%\n",
     "is_executing": false
    }
   },
   "outputs": [
    {
     "name": "stdout",
     "text": [
      "column x self incoming type is <class 'str'>, while X outgoing type is <class 'numpy.int64'>\n"
     ],
     "output_type": "stream"
    }
   ],
   "source": [
    "try:\n",
    "    a1 >> a2\n",
    "except Exception as ex:\n",
    "    print(str(ex))"
   ]
  },
  {
   "cell_type": "code",
   "execution_count": 28,
   "metadata": {
    "collapsed": false,
    "jupyter": {
     "outputs_hidden": false
    },
    "pycharm": {
     "name": "#%%\n",
     "is_executing": false
    }
   },
   "outputs": [
    {
     "name": "stdout",
     "text": [
      "[\n 'd2':\n  [ ngroup: <class 'numpy.int64'>, g: <class 'str'>,\n    v: <class 'numpy.float64'>, i: <class 'numpy.bool_'>,\n    x: <class 'numpy.int64'> ]\n   ->\n  [ g: <class 'str'>, x: <class 'numpy.int64'>, v: <class 'numpy.float64'>,\n    i: <class 'numpy.bool_'>, ngroup: <class 'numpy.int64'>,\n    row_number: <class 'numpy.int64'>, shift_v: <class 'numpy.float64'> ]\n]\n\n"
     ],
     "output_type": "stream"
    }
   ],
   "source": [
    "a2.fit(a1.transform(d))\n",
    "print(a2)"
   ]
  },
  {
   "cell_type": "markdown",
   "metadata": {},
   "source": [
    "We can add yet another set of operations to our pipeline: computing a per-group variable `mean`."
   ]
  },
  {
   "cell_type": "code",
   "execution_count": 29,
   "metadata": {
    "collapsed": false,
    "jupyter": {
     "outputs_hidden": false
    },
    "pycharm": {
     "name": "#%%\n",
     "is_executing": false
    }
   },
   "outputs": [
    {
     "name": "stdout",
     "text": [
      "[\n 'd3':\n  [ ngroup, g, v, i, row_number, x, shift_v ]\n   ->\n  [ g, x, v, i, ngroup, row_number, shift_v, mean_v ]\n]\n\n"
     ],
     "output_type": "stream"
    }
   ],
   "source": [
    "unordered_ops = TableDescription('d3', ordered_ops.column_names). \\\n",
    "    extend({\n",
    "        'mean_v': 'v.mean()',\n",
    "    },\n",
    "    partition_by=['g'])\n",
    "a3 = DataOpArrow(unordered_ops)\n",
    "print(a3)"
   ]
  },
  {
   "cell_type": "code",
   "execution_count": 30,
   "metadata": {
    "collapsed": false,
    "jupyter": {
     "outputs_hidden": false
    },
    "pycharm": {
     "name": "#%%\n",
     "is_executing": false
    }
   },
   "outputs": [
    {
     "name": "stdout",
     "text": [
      "[\n 'd3':\n  [ ngroup: <class 'numpy.int64'>, g: <class 'str'>,\n    v: <class 'numpy.float64'>, i: <class 'numpy.bool_'>,\n    row_number: <class 'numpy.int64'>, x: <class 'numpy.int64'>,\n    shift_v: <class 'numpy.float64'> ]\n   ->\n  [ g: <class 'str'>, x: <class 'numpy.int64'>, v: <class 'numpy.float64'>,\n    i: <class 'numpy.bool_'>, ngroup: <class 'numpy.int64'>,\n    row_number: <class 'numpy.int64'>, shift_v: <class 'numpy.float64'>,\n    mean_v: <class 'numpy.float64'> ]\n]\n\n"
     ],
     "output_type": "stream"
    }
   ],
   "source": [
    "a3.fit(a2.transform(a1.transform(d)))\n",
    "print(a3)"
   ]
  },
  {
   "cell_type": "markdown",
   "metadata": {},
   "source": [
    "The three arrows can form a composite pipeline that computes a number of interesting per-group statistics all at once."
   ]
  },
  {
   "cell_type": "code",
   "execution_count": 31,
   "metadata": {
    "collapsed": false,
    "jupyter": {
     "outputs_hidden": false
    },
    "pycharm": {
     "name": "#%%\n",
     "is_executing": false
    }
   },
   "outputs": [
    {
     "name": "stdout",
     "text": [
      "[\n 'd':\n  [ v: <class 'numpy.float64'>, g: <class 'str'>, i: <class 'numpy.bool_'>,\n    x: <class 'numpy.int64'> ]\n   ->\n  [ g: <class 'str'>, x: <class 'numpy.int64'>, v: <class 'numpy.float64'>,\n    i: <class 'numpy.bool_'>, ngroup: <class 'numpy.int64'>,\n    row_number: <class 'numpy.int64'>, shift_v: <class 'numpy.float64'>,\n    mean_v: <class 'numpy.float64'> ]\n]\n\n"
     ],
     "output_type": "stream"
    }
   ],
   "source": [
    "print(a1 >> a2 >> a3)"
   ]
  },
  {
   "cell_type": "markdown",
   "metadata": {},
   "source": [
    "And, we the methods are fully associative (can be grouped in any sequence that is still in the original order)."
   ]
  },
  {
   "cell_type": "code",
   "execution_count": 32,
   "metadata": {
    "collapsed": false,
    "jupyter": {
     "outputs_hidden": false
    },
    "pycharm": {
     "name": "#%%\n",
     "is_executing": false
    }
   },
   "outputs": [
    {
     "name": "stdout",
     "text": [
      "[\n 'd':\n  [ v: <class 'numpy.float64'>, g: <class 'str'>, i: <class 'numpy.bool_'>,\n    x: <class 'numpy.int64'> ]\n   ->\n  [ g: <class 'str'>, x: <class 'numpy.int64'>, v: <class 'numpy.float64'>,\n    i: <class 'numpy.bool_'>, ngroup: <class 'numpy.int64'>,\n    row_number: <class 'numpy.int64'>, shift_v: <class 'numpy.float64'>,\n    mean_v: <class 'numpy.float64'> ]\n]\n\n"
     ],
     "output_type": "stream"
    }
   ],
   "source": [
    "print((a1 >> a2) >> a3)"
   ]
  },
  {
   "cell_type": "code",
   "execution_count": 33,
   "metadata": {
    "collapsed": false,
    "jupyter": {
     "outputs_hidden": false
    },
    "pycharm": {
     "name": "#%%\n",
     "is_executing": false
    }
   },
   "outputs": [
    {
     "name": "stdout",
     "text": [
      "[\n 'd':\n  [ v: <class 'numpy.float64'>, g: <class 'str'>, i: <class 'numpy.bool_'>,\n    x: <class 'numpy.int64'> ]\n   ->\n  [ g: <class 'str'>, x: <class 'numpy.int64'>, v: <class 'numpy.float64'>,\n    i: <class 'numpy.bool_'>, ngroup: <class 'numpy.int64'>,\n    row_number: <class 'numpy.int64'>, shift_v: <class 'numpy.float64'>,\n    mean_v: <class 'numpy.float64'> ]\n]\n\n"
     ],
     "output_type": "stream"
    }
   ],
   "source": [
    "print(a1 >> (a2 >> a3))"
   ]
  },
  {
   "cell_type": "markdown",
   "metadata": {},
   "source": [
    "All the compositions are in fact the same arrow, aswe can see by using it on data."
   ]
  },
  {
   "cell_type": "code",
   "execution_count": 34,
   "metadata": {
    "collapsed": false,
    "jupyter": {
     "outputs_hidden": false
    },
    "pycharm": {
     "name": "#%%\n",
     "is_executing": false
    }
   },
   "outputs": [
    {
     "data": {
      "text/plain": "   g  x     v      i  ngroup  row_number  shift_v  mean_v\n0  a  1  10.0   True       1           1      NaN    10.0\n1  b  4  40.0   True       2           1      NaN    45.0\n2  b  5  50.0  False       2           2     40.0    45.0\n3  c  7  70.0  False       3           1      NaN    80.0\n4  c  8  80.0  False       3           2     70.0    80.0\n5  c  9  90.0  False       3           3     80.0    80.0",
      "text/html": "<div>\n<style scoped>\n    .dataframe tbody tr th:only-of-type {\n        vertical-align: middle;\n    }\n\n    .dataframe tbody tr th {\n        vertical-align: top;\n    }\n\n    .dataframe thead th {\n        text-align: right;\n    }\n</style>\n<table border=\"1\" class=\"dataframe\">\n  <thead>\n    <tr style=\"text-align: right;\">\n      <th></th>\n      <th>g</th>\n      <th>x</th>\n      <th>v</th>\n      <th>i</th>\n      <th>ngroup</th>\n      <th>row_number</th>\n      <th>shift_v</th>\n      <th>mean_v</th>\n    </tr>\n  </thead>\n  <tbody>\n    <tr>\n      <th>0</th>\n      <td>a</td>\n      <td>1</td>\n      <td>10.0</td>\n      <td>True</td>\n      <td>1</td>\n      <td>1</td>\n      <td>NaN</td>\n      <td>10.0</td>\n    </tr>\n    <tr>\n      <th>1</th>\n      <td>b</td>\n      <td>4</td>\n      <td>40.0</td>\n      <td>True</td>\n      <td>2</td>\n      <td>1</td>\n      <td>NaN</td>\n      <td>45.0</td>\n    </tr>\n    <tr>\n      <th>2</th>\n      <td>b</td>\n      <td>5</td>\n      <td>50.0</td>\n      <td>False</td>\n      <td>2</td>\n      <td>2</td>\n      <td>40.0</td>\n      <td>45.0</td>\n    </tr>\n    <tr>\n      <th>3</th>\n      <td>c</td>\n      <td>7</td>\n      <td>70.0</td>\n      <td>False</td>\n      <td>3</td>\n      <td>1</td>\n      <td>NaN</td>\n      <td>80.0</td>\n    </tr>\n    <tr>\n      <th>4</th>\n      <td>c</td>\n      <td>8</td>\n      <td>80.0</td>\n      <td>False</td>\n      <td>3</td>\n      <td>2</td>\n      <td>70.0</td>\n      <td>80.0</td>\n    </tr>\n    <tr>\n      <th>5</th>\n      <td>c</td>\n      <td>9</td>\n      <td>90.0</td>\n      <td>False</td>\n      <td>3</td>\n      <td>3</td>\n      <td>80.0</td>\n      <td>80.0</td>\n    </tr>\n  </tbody>\n</table>\n</div>"
     },
     "metadata": {},
     "output_type": "execute_result",
     "execution_count": 34
    }
   ],
   "source": [
    "((a1 >> a2) >> a3).transform(d)"
   ]
  },
  {
   "cell_type": "code",
   "execution_count": 35,
   "metadata": {
    "collapsed": false,
    "jupyter": {
     "outputs_hidden": false
    },
    "pycharm": {
     "name": "#%%\n",
     "is_executing": false
    }
   },
   "outputs": [
    {
     "data": {
      "text/plain": "   g  x     v      i  ngroup  row_number  shift_v  mean_v\n0  a  1  10.0   True       1           1      NaN    10.0\n1  b  4  40.0   True       2           1      NaN    45.0\n2  b  5  50.0  False       2           2     40.0    45.0\n3  c  7  70.0  False       3           1      NaN    80.0\n4  c  8  80.0  False       3           2     70.0    80.0\n5  c  9  90.0  False       3           3     80.0    80.0",
      "text/html": "<div>\n<style scoped>\n    .dataframe tbody tr th:only-of-type {\n        vertical-align: middle;\n    }\n\n    .dataframe tbody tr th {\n        vertical-align: top;\n    }\n\n    .dataframe thead th {\n        text-align: right;\n    }\n</style>\n<table border=\"1\" class=\"dataframe\">\n  <thead>\n    <tr style=\"text-align: right;\">\n      <th></th>\n      <th>g</th>\n      <th>x</th>\n      <th>v</th>\n      <th>i</th>\n      <th>ngroup</th>\n      <th>row_number</th>\n      <th>shift_v</th>\n      <th>mean_v</th>\n    </tr>\n  </thead>\n  <tbody>\n    <tr>\n      <th>0</th>\n      <td>a</td>\n      <td>1</td>\n      <td>10.0</td>\n      <td>True</td>\n      <td>1</td>\n      <td>1</td>\n      <td>NaN</td>\n      <td>10.0</td>\n    </tr>\n    <tr>\n      <th>1</th>\n      <td>b</td>\n      <td>4</td>\n      <td>40.0</td>\n      <td>True</td>\n      <td>2</td>\n      <td>1</td>\n      <td>NaN</td>\n      <td>45.0</td>\n    </tr>\n    <tr>\n      <th>2</th>\n      <td>b</td>\n      <td>5</td>\n      <td>50.0</td>\n      <td>False</td>\n      <td>2</td>\n      <td>2</td>\n      <td>40.0</td>\n      <td>45.0</td>\n    </tr>\n    <tr>\n      <th>3</th>\n      <td>c</td>\n      <td>7</td>\n      <td>70.0</td>\n      <td>False</td>\n      <td>3</td>\n      <td>1</td>\n      <td>NaN</td>\n      <td>80.0</td>\n    </tr>\n    <tr>\n      <th>4</th>\n      <td>c</td>\n      <td>8</td>\n      <td>80.0</td>\n      <td>False</td>\n      <td>3</td>\n      <td>2</td>\n      <td>70.0</td>\n      <td>80.0</td>\n    </tr>\n    <tr>\n      <th>5</th>\n      <td>c</td>\n      <td>9</td>\n      <td>90.0</td>\n      <td>False</td>\n      <td>3</td>\n      <td>3</td>\n      <td>80.0</td>\n      <td>80.0</td>\n    </tr>\n  </tbody>\n</table>\n</div>"
     },
     "metadata": {},
     "output_type": "execute_result",
     "execution_count": 35
    }
   ],
   "source": [
    "(a1 >> (a2 >> a3)).transform(d)"
   ]
  },
  {
   "cell_type": "markdown",
   "metadata": {
    "pycharm": {
     "name": "#%% md\n"
    }
   },
   "source": [
    "The combination operator `>>` is fully associative over the combination of data and arrows.\n",
    "\n",
    "The underlying `data_algebra` steps compute and check very similar pre and post conditions, the arrow class is just making this look more explicitly like arrows moving through objects in category.\n",
    "\n",
    "The data arrows operate over three different value domains:\n",
    "\n",
    " * single table schemas (transforming single table schemas)\n",
    " * their own arrow space (i.e. composition)\n",
    " * data frames (transforming data as an action)"
   ]
  }
 ],
 "metadata": {
  "kernelspec": {
   "display_name": "Python 3",
   "language": "python",
   "name": "python3"
  },
  "language_info": {
   "codemirror_mode": {
    "name": "ipython",
    "version": 3
   },
   "file_extension": ".py",
   "mimetype": "text/x-python",
   "name": "python",
   "nbconvert_exporter": "python",
   "pygments_lexer": "ipython3",
   "version": "3.6.9"
  },
  "pycharm": {
   "stem_cell": {
    "cell_type": "raw",
    "source": [],
    "metadata": {
     "collapsed": false
    }
   }
  }
 },
 "nbformat": 4,
 "nbformat_minor": 4
}