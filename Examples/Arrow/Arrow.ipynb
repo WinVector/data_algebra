{
 "cells": [
  {
   "cell_type": "markdown",
   "metadata": {},
   "source": [
    "Example of data transforms as categorical arrows ([`R` version](https://github.com/WinVector/rquery/blob/master/Examples/Arrow/Arrow.md) [`Python` version](https://github.com/WinVector/data_algebra/blob/master/Examples/Arrow/Arrow.md)).\n",
    "\n",
    "(For ideas on applying category theory to science and data, please see David I Spivak, *Category Theory for the Sciences*, MIT Press, 2014.)\n",
    "\n",
    "The [Python `data_algebra` package](https://github.com/WinVector/data_algebra) supplies a number of operators for working with tabular data.  The operators are picked in reference to [Codd's relational algebra](https://en.wikipedia.org/wiki/Relational_algebra), though (as with [`SQL`](https://en.wikipedia.org/wiki/SQL)) we do not insist on table rows being unique. Many of the operations are simple: selecting rows, selecting columns, joining tables.  Two of the operations stand out: projecting or aggregating rows, and extending tables with new derived columns.\n",
    "\n",
    "An interesting point is: while the `data_algebra` operators are fairly generic: the operator pipelines that map a single table to a single table form a category over a nice set of objects.\n",
    "\n",
    "The objects of this category can be either of:\n",
    "\n",
    " * Sets of column names.\n",
    " * Maps of column names to column types (schema-like objects).\n",
    " \n",
    "I will take a liberty and call these objects (with or without types) \"schemas.\"\n",
    "\n",
    "Our setup is easiest to explain with an example.  Let's work an example in `Python`.\n",
    "\n",
    "First we import our packages and instantiate an example data frame."
   ]
  },
  {
   "cell_type": "code",
   "execution_count": 1,
   "metadata": {
    "pycharm": {
     "is_executing": false
    }
   },
   "outputs": [
    {
     "data": {
      "text/plain": "   g  x     v      i\n0  a  1  10.0   True\n1  b  4  40.0   True\n2  b  5  50.0  False\n3  c  7  70.0  False\n4  c  8  80.0  False\n5  c  9  90.0  False",
      "text/html": "<div>\n<style scoped>\n    .dataframe tbody tr th:only-of-type {\n        vertical-align: middle;\n    }\n\n    .dataframe tbody tr th {\n        vertical-align: top;\n    }\n\n    .dataframe thead th {\n        text-align: right;\n    }\n</style>\n<table border=\"1\" class=\"dataframe\">\n  <thead>\n    <tr style=\"text-align: right;\">\n      <th></th>\n      <th>g</th>\n      <th>x</th>\n      <th>v</th>\n      <th>i</th>\n    </tr>\n  </thead>\n  <tbody>\n    <tr>\n      <th>0</th>\n      <td>a</td>\n      <td>1</td>\n      <td>10.0</td>\n      <td>True</td>\n    </tr>\n    <tr>\n      <th>1</th>\n      <td>b</td>\n      <td>4</td>\n      <td>40.0</td>\n      <td>True</td>\n    </tr>\n    <tr>\n      <th>2</th>\n      <td>b</td>\n      <td>5</td>\n      <td>50.0</td>\n      <td>False</td>\n    </tr>\n    <tr>\n      <th>3</th>\n      <td>c</td>\n      <td>7</td>\n      <td>70.0</td>\n      <td>False</td>\n    </tr>\n    <tr>\n      <th>4</th>\n      <td>c</td>\n      <td>8</td>\n      <td>80.0</td>\n      <td>False</td>\n    </tr>\n    <tr>\n      <th>5</th>\n      <td>c</td>\n      <td>9</td>\n      <td>90.0</td>\n      <td>False</td>\n    </tr>\n  </tbody>\n</table>\n</div>"
     },
     "metadata": {},
     "output_type": "execute_result",
     "execution_count": 1
    }
   ],
   "source": [
    "import pandas\n",
    "import graphviz\n",
    "\n",
    "import data_algebra.diagram\n",
    "from data_algebra.data_ops import *  # https://github.com/WinVector/data_algebra\n",
    "import data_algebra.util\n",
    "import data_algebra.arrow\n",
    "\n",
    "d = pandas.DataFrame({\n",
    "    'g': ['a', 'b', 'b', 'c', 'c', 'c'],\n",
    "    'x': [1, 4, 5, 7, 8, 9],\n",
    "    'v': [10.0, 40.0, 50.0, 70.0, 80.0, 90.0],\n",
    "    'i': [True, True, False, False, False, False],\n",
    "})\n",
    "\n",
    "d"
   ]
  },
  {
   "cell_type": "markdown",
   "metadata": {},
   "source": [
    "`data_algebra` operator pipelines are designed to transform data.  For example we can define the following operator pipeline which is designed count how many different values there are for `g`, and assign a unique integer id to each group."
   ]
  },
  {
   "cell_type": "code",
   "execution_count": 2,
   "metadata": {
    "pycharm": {
     "is_executing": false
    }
   },
   "outputs": [],
   "source": [
    "table_description = TableDescription('d', ['g', 'x', 'v', 'i'])\n",
    "\n",
    "id_ops_a = table_description. \\\n",
    "    project(group_by=['g']). \\\n",
    "    extend({\n",
    "        'ngroup': '_row_number()',\n",
    "    },\n",
    "    order_by=['g'])"
   ]
  },
  {
   "cell_type": "markdown",
   "metadata": {},
   "source": [
    "The pipeline is saved in the variable `id_ops_a` which can then be applied to our data as follows."
   ]
  },
  {
   "cell_type": "code",
   "execution_count": 3,
   "metadata": {
    "pycharm": {
     "is_executing": false
    }
   },
   "outputs": [
    {
     "data": {
      "text/plain": "   g  ngroup\n0  a       1\n1  b       2\n2  c       3",
      "text/html": "<div>\n<style scoped>\n    .dataframe tbody tr th:only-of-type {\n        vertical-align: middle;\n    }\n\n    .dataframe tbody tr th {\n        vertical-align: top;\n    }\n\n    .dataframe thead th {\n        text-align: right;\n    }\n</style>\n<table border=\"1\" class=\"dataframe\">\n  <thead>\n    <tr style=\"text-align: right;\">\n      <th></th>\n      <th>g</th>\n      <th>ngroup</th>\n    </tr>\n  </thead>\n  <tbody>\n    <tr>\n      <th>0</th>\n      <td>a</td>\n      <td>1</td>\n    </tr>\n    <tr>\n      <th>1</th>\n      <td>b</td>\n      <td>2</td>\n    </tr>\n    <tr>\n      <th>2</th>\n      <td>c</td>\n      <td>3</td>\n    </tr>\n  </tbody>\n</table>\n</div>"
     },
     "metadata": {},
     "output_type": "execute_result",
     "execution_count": 3
    }
   ],
   "source": [
    "id_ops_a.transform(d)"
   ]
  },
  {
   "cell_type": "markdown",
   "metadata": {},
   "source": [
    "The pipelines are designed for composition in addition to application to data.  For example we can use the `id_ops_a` pipeline as part of a larger pipeline as follows."
   ]
  },
  {
   "cell_type": "code",
   "execution_count": 4,
   "metadata": {
    "pycharm": {
     "is_executing": false
    }
   },
   "outputs": [],
   "source": [
    "id_ops_b = table_description. \\\n",
    "    natural_join(id_ops_a, by=['g'], jointype='LEFT')"
   ]
  },
  {
   "cell_type": "markdown",
   "metadata": {},
   "source": [
    "This pipeline specifies joining the integer group ids back into the original table as follows."
   ]
  },
  {
   "cell_type": "code",
   "execution_count": 5,
   "metadata": {
    "pycharm": {
     "is_executing": false
    }
   },
   "outputs": [
    {
     "data": {
      "text/plain": "   g  x     v      i  ngroup\n0  a  1  10.0   True       1\n1  b  4  40.0   True       2\n2  b  5  50.0  False       2\n3  c  7  70.0  False       3\n4  c  8  80.0  False       3\n5  c  9  90.0  False       3",
      "text/html": "<div>\n<style scoped>\n    .dataframe tbody tr th:only-of-type {\n        vertical-align: middle;\n    }\n\n    .dataframe tbody tr th {\n        vertical-align: top;\n    }\n\n    .dataframe thead th {\n        text-align: right;\n    }\n</style>\n<table border=\"1\" class=\"dataframe\">\n  <thead>\n    <tr style=\"text-align: right;\">\n      <th></th>\n      <th>g</th>\n      <th>x</th>\n      <th>v</th>\n      <th>i</th>\n      <th>ngroup</th>\n    </tr>\n  </thead>\n  <tbody>\n    <tr>\n      <th>0</th>\n      <td>a</td>\n      <td>1</td>\n      <td>10.0</td>\n      <td>True</td>\n      <td>1</td>\n    </tr>\n    <tr>\n      <th>1</th>\n      <td>b</td>\n      <td>4</td>\n      <td>40.0</td>\n      <td>True</td>\n      <td>2</td>\n    </tr>\n    <tr>\n      <th>2</th>\n      <td>b</td>\n      <td>5</td>\n      <td>50.0</td>\n      <td>False</td>\n      <td>2</td>\n    </tr>\n    <tr>\n      <th>3</th>\n      <td>c</td>\n      <td>7</td>\n      <td>70.0</td>\n      <td>False</td>\n      <td>3</td>\n    </tr>\n    <tr>\n      <th>4</th>\n      <td>c</td>\n      <td>8</td>\n      <td>80.0</td>\n      <td>False</td>\n      <td>3</td>\n    </tr>\n    <tr>\n      <th>5</th>\n      <td>c</td>\n      <td>9</td>\n      <td>90.0</td>\n      <td>False</td>\n      <td>3</td>\n    </tr>\n  </tbody>\n</table>\n</div>"
     },
     "metadata": {},
     "output_type": "execute_result",
     "execution_count": 5
    }
   ],
   "source": [
    "id_ops_b.transform(d)"
   ]
  },
  {
   "cell_type": "markdown",
   "metadata": {},
   "source": [
    "Notice the `ngroup` column is a function of the `g` column in this result.\n",
    "\n",
    "I am now ready to state my big point.  These pipelines have documented pre and post conditions: what set of columns (and optionally types) they expect on their input, and what set of columns (optionally types) the pipeline produces."
   ]
  },
  {
   "cell_type": "code",
   "execution_count": 6,
   "metadata": {
    "pycharm": {
     "is_executing": false
    }
   },
   "outputs": [
    {
     "data": {
      "text/plain": "{'d': {'g', 'i', 'v', 'x'}}"
     },
     "metadata": {},
     "output_type": "execute_result",
     "execution_count": 6
    }
   ],
   "source": [
    "# needs\n",
    "id_ops_b.columns_used()"
   ]
  },
  {
   "cell_type": "code",
   "execution_count": 7,
   "metadata": {
    "pycharm": {
     "is_executing": false
    }
   },
   "outputs": [
    {
     "data": {
      "text/plain": "['g', 'x', 'v', 'i', 'ngroup']"
     },
     "metadata": {},
     "output_type": "execute_result",
     "execution_count": 7
    }
   ],
   "source": [
    "# produced\n",
    "id_ops_b.column_names"
   ]
  },
  {
   "cell_type": "markdown",
   "metadata": {},
   "source": [
    "This is where we seem to have nice opportunity to use category theory to manage our pre-and post conditions.  Let's wrap this pipeline into a convenience class to make the categorical connection easier to see."
   ]
  },
  {
   "cell_type": "code",
   "execution_count": 8,
   "metadata": {
    "pycharm": {
     "is_executing": false
    }
   },
   "outputs": [
    {
     "name": "stdout",
     "text": [
      "[\n  [ g, x, i, v ]\n   ->\n  [ g, x, v, i, ngroup ]\n]\n\n"
     ],
     "output_type": "stream"
    }
   ],
   "source": [
    "a1 = data_algebra.arrow.DataOpArrow(id_ops_b)\n",
    "\n",
    "print(a1)"
   ]
  },
  {
   "cell_type": "markdown",
   "metadata": {},
   "source": [
    "`a1` is an arrow in a category whose objects are sets of column names (or alternately in a category whose objects are maps from column names to column types)."
   ]
  },
  {
   "cell_type": "code",
   "execution_count": 9,
   "metadata": {
    "collapsed": false,
    "jupyter": {
     "outputs_hidden": false
    },
    "pycharm": {
     "is_executing": false,
     "name": "#%%\n"
    }
   },
   "outputs": [
    {
     "name": "stdout",
     "text": [
      "[\n  [ g: <class 'str'>, x: <class 'numpy.int64'>, i: <class 'numpy.bool_'>,\n    v: <class 'numpy.float64'> ]\n   ->\n  [ g: <class 'str'>, x: <class 'numpy.int64'>, v: <class 'numpy.float64'>,\n    i: <class 'numpy.bool_'>, ngroup: <class 'numpy.int64'> ]\n]\n\n"
     ],
     "output_type": "stream"
    }
   ],
   "source": [
    "a1.fit(d)\n",
    "\n",
    "print(a1)"
   ]
  },
  {
   "cell_type": "markdown",
   "metadata": {},
   "source": [
    "As is typical in category theory, there can be more than one arrow from a given object to given object.  Our particular arrow is more fully described as follows."
   ]
  },
  {
   "cell_type": "code",
   "execution_count": 10,
   "metadata": {
    "collapsed": false,
    "jupyter": {
     "outputs_hidden": false
    },
    "pycharm": {
     "is_executing": false,
     "name": "#%%\n"
    }
   },
   "outputs": [
    {
     "name": "stdout",
     "text": [
      "DataOpArrow(TableDescription(\n table_name='d',\n column_names=[\n   'g', 'x', 'v', 'i']) .\\\n   natural_join(b=\n      TableDescription(\n       table_name='d',\n       column_names=[\n         'g', 'x', 'v', 'i']) .\\\n         project({\n          },\n         group_by=['g']) .\\\n         extend({\n          'ngroup': '_row_number()'},\n         order_by=['g']),\n      by=['g'], jointype='LEFT'))\n"
     ],
     "output_type": "stream"
    }
   ],
   "source": [
    "print(a1.__repr__())"
   ]
  },
  {
   "cell_type": "markdown",
   "metadata": {},
   "source": [
    "So our arrows are arrows in a category whose objects are sets of column names (or alternately maps from column names to column types).  These arrows also act on data frames that meet the required column pre conditions."
   ]
  },
  {
   "cell_type": "code",
   "execution_count": 11,
   "metadata": {
    "pycharm": {
     "is_executing": false
    }
   },
   "outputs": [
    {
     "data": {
      "text/plain": "   g  x     v      i  ngroup\n0  a  1  10.0   True       1\n1  b  4  40.0   True       2\n2  b  5  50.0  False       2\n3  c  7  70.0  False       3\n4  c  8  80.0  False       3\n5  c  9  90.0  False       3",
      "text/html": "<div>\n<style scoped>\n    .dataframe tbody tr th:only-of-type {\n        vertical-align: middle;\n    }\n\n    .dataframe tbody tr th {\n        vertical-align: top;\n    }\n\n    .dataframe thead th {\n        text-align: right;\n    }\n</style>\n<table border=\"1\" class=\"dataframe\">\n  <thead>\n    <tr style=\"text-align: right;\">\n      <th></th>\n      <th>g</th>\n      <th>x</th>\n      <th>v</th>\n      <th>i</th>\n      <th>ngroup</th>\n    </tr>\n  </thead>\n  <tbody>\n    <tr>\n      <th>0</th>\n      <td>a</td>\n      <td>1</td>\n      <td>10.0</td>\n      <td>True</td>\n      <td>1</td>\n    </tr>\n    <tr>\n      <th>1</th>\n      <td>b</td>\n      <td>4</td>\n      <td>40.0</td>\n      <td>True</td>\n      <td>2</td>\n    </tr>\n    <tr>\n      <th>2</th>\n      <td>b</td>\n      <td>5</td>\n      <td>50.0</td>\n      <td>False</td>\n      <td>2</td>\n    </tr>\n    <tr>\n      <th>3</th>\n      <td>c</td>\n      <td>7</td>\n      <td>70.0</td>\n      <td>False</td>\n      <td>3</td>\n    </tr>\n    <tr>\n      <th>4</th>\n      <td>c</td>\n      <td>8</td>\n      <td>80.0</td>\n      <td>False</td>\n      <td>3</td>\n    </tr>\n    <tr>\n      <th>5</th>\n      <td>c</td>\n      <td>9</td>\n      <td>90.0</td>\n      <td>False</td>\n      <td>3</td>\n    </tr>\n  </tbody>\n</table>\n</div>"
     },
     "metadata": {},
     "output_type": "execute_result",
     "execution_count": 11
    }
   ],
   "source": [
    "a1.transform(d)"
   ]
  },
  {
   "cell_type": "markdown",
   "metadata": {},
   "source": [
    "The arrows compose exactly when the pre-conditions meet the post conditions.  \n",
    "\n",
    "Here are two examples of violating the pre and post conditions."
   ]
  },
  {
   "cell_type": "code",
   "execution_count": 12,
   "metadata": {
    "collapsed": false,
    "jupyter": {
     "outputs_hidden": false
    },
    "pycharm": {
     "is_executing": false,
     "name": "#%%\n"
    }
   },
   "outputs": [
    {
     "name": "stdout",
     "text": [
      "[\n  [ g, ngroup, x, v ]\n   ->\n  [ g, ngroup, x, v, row_number, shift_v ]\n]\n\n"
     ],
     "output_type": "stream"
    }
   ],
   "source": [
    "cols2_too_small = [c for c in (set(id_ops_b.column_names) - set(['i']))]\n",
    "ordered_ops = TableDescription('d2', cols2_too_small). \\\n",
    "    extend({\n",
    "        'row_number': '_row_number()',\n",
    "        'shift_v': 'v.shift()',\n",
    "    },\n",
    "    order_by=['x'],\n",
    "    partition_by=['g'])\n",
    "a2 = data_algebra.arrow.DataOpArrow(ordered_ops)\n",
    "print(a2)\n"
   ]
  },
  {
   "cell_type": "code",
   "execution_count": 13,
   "metadata": {
    "pycharm": {
     "is_executing": false
    }
   },
   "outputs": [
    {
     "name": "stdout",
     "text": [
      "extra incoming columns: {'i'}\n"
     ],
     "output_type": "stream"
    }
   ],
   "source": [
    "try:\n",
    "    a1 >> a2\n",
    "except ValueError as e:\n",
    "    print(str(e))\n",
    "    "
   ]
  },
  {
   "cell_type": "code",
   "execution_count": 14,
   "metadata": {
    "collapsed": false,
    "jupyter": {
     "outputs_hidden": false
    },
    "pycharm": {
     "is_executing": false,
     "name": "#%%\n"
    }
   },
   "outputs": [
    {
     "name": "stdout",
     "text": [
      "[\n  [ q, i, v, g, ngroup, x ]\n   ->\n  [ g, x, v, i, ngroup, q, row_number, shift_v ]\n]\n\n"
     ],
     "output_type": "stream"
    }
   ],
   "source": [
    "cols2_too_large = id_ops_b.column_names + ['q']\n",
    "ordered_ops = TableDescription('d2', cols2_too_large). \\\n",
    "    extend({\n",
    "        'row_number': '_row_number()',\n",
    "        'shift_v': 'v.shift()',\n",
    "    },\n",
    "    order_by=['x'],\n",
    "    partition_by=['g'])\n",
    "a2 = data_algebra.arrow.DataOpArrow(ordered_ops)\n",
    "print(a2)"
   ]
  },
  {
   "cell_type": "code",
   "execution_count": 15,
   "metadata": {
    "collapsed": false,
    "jupyter": {
     "outputs_hidden": false
    },
    "pycharm": {
     "is_executing": false,
     "name": "#%%\n"
    }
   },
   "outputs": [
    {
     "name": "stdout",
     "text": [
      "missing required columns: {'q'}\n"
     ],
     "output_type": "stream"
    }
   ],
   "source": [
    "try:\n",
    "    a1 >> a2\n",
    "except ValueError as e:\n",
    "    print(str(e))\n"
   ]
  },
  {
   "cell_type": "markdown",
   "metadata": {},
   "source": [
    "The point is: we will never see the above exceptions when we compose arrows that match on pre and post conditions (which in category theory are the only arrows you are allowed to compose)."
   ]
  },
  {
   "cell_type": "markdown",
   "metadata": {},
   "source": [
    "When the pre and post conditions are met the arrows compose in a fully associative manner."
   ]
  },
  {
   "cell_type": "code",
   "execution_count": 16,
   "metadata": {
    "collapsed": false,
    "jupyter": {
     "outputs_hidden": false
    },
    "pycharm": {
     "is_executing": false,
     "name": "#%%\n"
    }
   },
   "outputs": [
    {
     "name": "stdout",
     "text": [
      "[\n  [ i, v, g, ngroup, x ]\n   ->\n  [ g, x, v, i, ngroup, row_number, shift_v ]\n]\n\n"
     ],
     "output_type": "stream"
    }
   ],
   "source": [
    "ordered_ops = TableDescription('d2', id_ops_b.column_names). \\\n",
    "    extend({\n",
    "        'row_number': '_row_number()',\n",
    "        'shift_v': 'v.shift()',\n",
    "    },\n",
    "    order_by=['x'],\n",
    "    partition_by=['g'])\n",
    "a2 = data_algebra.arrow.DataOpArrow(ordered_ops)\n",
    "print(a2)"
   ]
  },
  {
   "cell_type": "code",
   "execution_count": 17,
   "metadata": {
    "collapsed": false,
    "jupyter": {
     "outputs_hidden": false
    },
    "pycharm": {
     "is_executing": false,
     "name": "#%%\n"
    }
   },
   "outputs": [
    {
     "name": "stdout",
     "text": [
      "[\n  [ i, v, g, ngroup, x ]\n   ->\n  [ g, x, v, i, ngroup, row_number, shift_v ]\n]\n\n"
     ],
     "output_type": "stream"
    }
   ],
   "source": [
    "print(a2)"
   ]
  },
  {
   "cell_type": "code",
   "execution_count": 18,
   "metadata": {
    "pycharm": {
     "is_executing": false
    }
   },
   "outputs": [
    {
     "name": "stdout",
     "text": [
      "[\n  [ g: <class 'str'>, x: <class 'numpy.int64'>, i: <class 'numpy.bool_'>,\n    v: <class 'numpy.float64'> ]\n   ->\n  [ g, x, v, i, ngroup, row_number, shift_v ]\n]\n\n"
     ],
     "output_type": "stream"
    }
   ],
   "source": [
    "print(a1 >> a2)"
   ]
  },
  {
   "cell_type": "markdown",
   "metadata": {},
   "source": [
    "We can also enforce type invarients."
   ]
  },
  {
   "cell_type": "code",
   "execution_count": 19,
   "metadata": {
    "pycharm": {
     "is_executing": false
    }
   },
   "outputs": [
    {
     "name": "stdout",
     "text": [
      "[\n  [ i: <class 'numpy.bool_'>, v: <class 'numpy.float64'>, g: <class 'str'>,\n    ngroup: <class 'numpy.int64'>, x: <class 'str'> ]\n   ->\n  [ g: <class 'str'>, x: <class 'str'>, v: <class 'numpy.float64'>,\n    i: <class 'numpy.bool_'>, ngroup: <class 'numpy.int64'>,\n    row_number: <class 'numpy.int64'>, shift_v: <class 'numpy.float64'> ]\n]\n\n"
     ],
     "output_type": "stream"
    }
   ],
   "source": [
    "wrong_example = pandas.DataFrame({\n",
    "    'g': ['a'],\n",
    "    'v': [1.0],\n",
    "    'x': ['b'],\n",
    "    'i': [True],\n",
    "    'ngroup': [1]\n",
    "})\n",
    "\n",
    "a2.fit(wrong_example)\n",
    "print(a2)"
   ]
  },
  {
   "cell_type": "code",
   "execution_count": 20,
   "metadata": {
    "pycharm": {
     "is_executing": false
    }
   },
   "outputs": [
    {
     "name": "stdout",
     "text": [
      "column x self incoming type is <class 'str'>, while X outgoing type is <class 'numpy.int64'>\n"
     ],
     "output_type": "stream"
    }
   ],
   "source": [
    "try:\n",
    "    a1 >> a2\n",
    "except Exception as ex:\n",
    "    print(str(ex))"
   ]
  },
  {
   "cell_type": "code",
   "execution_count": 21,
   "metadata": {
    "pycharm": {
     "is_executing": false
    }
   },
   "outputs": [
    {
     "name": "stdout",
     "text": [
      "[\n  [ i: <class 'numpy.bool_'>, v: <class 'numpy.float64'>, g: <class 'str'>,\n    ngroup: <class 'numpy.int64'>, x: <class 'numpy.int64'> ]\n   ->\n  [ g: <class 'str'>, x: <class 'numpy.int64'>, v: <class 'numpy.float64'>,\n    i: <class 'numpy.bool_'>, ngroup: <class 'numpy.int64'>,\n    row_number: <class 'numpy.int64'>, shift_v: <class 'numpy.float64'> ]\n]\n\n"
     ],
     "output_type": "stream"
    }
   ],
   "source": [
    "print(a2.fit(a1.transform(d)))"
   ]
  },
  {
   "cell_type": "code",
   "execution_count": 22,
   "metadata": {
    "collapsed": false,
    "jupyter": {
     "outputs_hidden": false
    },
    "pycharm": {
     "is_executing": false,
     "name": "#%%\n"
    }
   },
   "outputs": [
    {
     "name": "stdout",
     "text": [
      "[\n  [ row_number, shift_v, i, v, g, ngroup, x ]\n   ->\n  [ g, x, v, i, ngroup, row_number, shift_v, size, max_v, min_v, sum_v,\n    mean_v, count_v, size_v ]\n]\n\n"
     ],
     "output_type": "stream"
    }
   ],
   "source": [
    "unordered_ops = TableDescription('d3', ordered_ops.column_names). \\\n",
    "    extend({\n",
    "        'size': '_size()',\n",
    "        'max_v': 'v.max()',\n",
    "        'min_v': 'v.min()',\n",
    "        'sum_v': 'v.sum()',\n",
    "        'mean_v': 'v.mean()',\n",
    "        'count_v': 'v.count()',\n",
    "        'size_v': 'v.size()',\n",
    "    },\n",
    "    partition_by=['g'])\n",
    "a3 = data_algebra.arrow.DataOpArrow(unordered_ops)\n",
    "print(a3)"
   ]
  },
  {
   "cell_type": "code",
   "execution_count": 23,
   "metadata": {
    "pycharm": {
     "is_executing": false
    }
   },
   "outputs": [
    {
     "name": "stdout",
     "text": [
      "[\n  [ row_number: <class 'numpy.int64'>, shift_v: <class 'numpy.float64'>,\n    i: <class 'numpy.bool_'>, v: <class 'numpy.float64'>, g: <class 'str'>,\n    ngroup: <class 'numpy.int64'>, x: <class 'numpy.int64'> ]\n   ->\n  [ g: <class 'str'>, x: <class 'numpy.int64'>, v: <class 'numpy.float64'>,\n    i: <class 'numpy.bool_'>, ngroup: <class 'numpy.int64'>,\n    row_number: <class 'numpy.int64'>, shift_v: <class 'numpy.float64'>,\n    size: <class 'numpy.int64'>, max_v: <class 'numpy.float64'>,\n    min_v: <class 'numpy.float64'>, sum_v: <class 'numpy.float64'>,\n    mean_v: <class 'numpy.float64'>, count_v: <class 'numpy.int64'>,\n    size_v: <class 'numpy.int64'> ]\n]\n\n"
     ],
     "output_type": "stream"
    }
   ],
   "source": [
    "print(a3.fit(a2.transform(a1.transform(d))))"
   ]
  },
  {
   "cell_type": "code",
   "execution_count": 24,
   "metadata": {
    "collapsed": false,
    "jupyter": {
     "outputs_hidden": false
    },
    "pycharm": {
     "is_executing": false,
     "name": "#%%\n"
    }
   },
   "outputs": [
    {
     "name": "stdout",
     "text": [
      "[\n  [ g: <class 'str'>, x: <class 'numpy.int64'>, i: <class 'numpy.bool_'>,\n    v: <class 'numpy.float64'> ]\n   ->\n  [ g: <class 'str'>, x: <class 'numpy.int64'>, v: <class 'numpy.float64'>,\n    i: <class 'numpy.bool_'>, ngroup: <class 'numpy.int64'>,\n    row_number: <class 'numpy.int64'>, shift_v: <class 'numpy.float64'>,\n    size: <class 'numpy.int64'>, max_v: <class 'numpy.float64'>,\n    min_v: <class 'numpy.float64'>, sum_v: <class 'numpy.float64'>,\n    mean_v: <class 'numpy.float64'>, count_v: <class 'numpy.int64'>,\n    size_v: <class 'numpy.int64'> ]\n]\n\n"
     ],
     "output_type": "stream"
    }
   ],
   "source": [
    "print(a1 >> a2 >> a3)"
   ]
  },
  {
   "cell_type": "code",
   "execution_count": 25,
   "metadata": {
    "pycharm": {
     "is_executing": false
    }
   },
   "outputs": [
    {
     "name": "stdout",
     "text": [
      "[\n  [ g: <class 'str'>, x: <class 'numpy.int64'>, i: <class 'numpy.bool_'>,\n    v: <class 'numpy.float64'> ]\n   ->\n  [ g: <class 'str'>, x: <class 'numpy.int64'>, v: <class 'numpy.float64'>,\n    i: <class 'numpy.bool_'>, ngroup: <class 'numpy.int64'>,\n    row_number: <class 'numpy.int64'>, shift_v: <class 'numpy.float64'>,\n    size: <class 'numpy.int64'>, max_v: <class 'numpy.float64'>,\n    min_v: <class 'numpy.float64'>, sum_v: <class 'numpy.float64'>,\n    mean_v: <class 'numpy.float64'>, count_v: <class 'numpy.int64'>,\n    size_v: <class 'numpy.int64'> ]\n]\n\n"
     ],
     "output_type": "stream"
    }
   ],
   "source": [
    "print((a1 >> a2) >> a3)"
   ]
  },
  {
   "cell_type": "code",
   "execution_count": 26,
   "metadata": {
    "pycharm": {
     "is_executing": false
    }
   },
   "outputs": [
    {
     "name": "stdout",
     "text": [
      "[\n  [ g: <class 'str'>, x: <class 'numpy.int64'>, i: <class 'numpy.bool_'>,\n    v: <class 'numpy.float64'> ]\n   ->\n  [ g: <class 'str'>, x: <class 'numpy.int64'>, v: <class 'numpy.float64'>,\n    i: <class 'numpy.bool_'>, ngroup: <class 'numpy.int64'>,\n    row_number: <class 'numpy.int64'>, shift_v: <class 'numpy.float64'>,\n    size: <class 'numpy.int64'>, max_v: <class 'numpy.float64'>,\n    min_v: <class 'numpy.float64'>, sum_v: <class 'numpy.float64'>,\n    mean_v: <class 'numpy.float64'>, count_v: <class 'numpy.int64'>,\n    size_v: <class 'numpy.int64'> ]\n]\n\n"
     ],
     "output_type": "stream"
    }
   ],
   "source": [
    "print(a1 >> (a2 >> a3))"
   ]
  },
  {
   "cell_type": "markdown",
   "metadata": {},
   "source": [
    "All three compositions are in fact the same arrow."
   ]
  },
  {
   "cell_type": "code",
   "execution_count": 27,
   "metadata": {
    "pycharm": {
     "is_executing": false
    }
   },
   "outputs": [
    {
     "data": {
      "text/plain": "DataOpArrow(TableDescription(\n table_name='d',\n column_names=[\n   'g', 'x', 'v', 'i']) .\\\n   natural_join(b=\n      TableDescription(\n       table_name='d',\n       column_names=[\n         'g', 'x', 'v', 'i']) .\\\n         project({\n          },\n         group_by=['g']) .\\\n         extend({\n          'ngroup': '_row_number()'},\n         order_by=['g']),\n      by=['g'], jointype='LEFT') .\\\n   extend({\n    'row_number': '_row_number()',\n    'shift_v': 'v.shift()'},\n   partition_by=['g'],\n   order_by=['x']) .\\\n   extend({\n    'size': '_size()',\n    'max_v': 'v.max()',\n    'min_v': 'v.min()',\n    'sum_v': 'v.sum()',\n    'mean_v': 'v.mean()',\n    'count_v': 'v.count()',\n    'size_v': 'v.size()'},\n   partition_by=['g']))"
     },
     "metadata": {},
     "output_type": "execute_result",
     "execution_count": 27
    }
   ],
   "source": [
    "(a1 >> a2) >> a3"
   ]
  },
  {
   "cell_type": "code",
   "execution_count": 28,
   "metadata": {
    "pycharm": {
     "is_executing": false
    }
   },
   "outputs": [
    {
     "data": {
      "text/plain": "DataOpArrow(TableDescription(\n table_name='d',\n column_names=[\n   'g', 'x', 'v', 'i']) .\\\n   natural_join(b=\n      TableDescription(\n       table_name='d',\n       column_names=[\n         'g', 'x', 'v', 'i']) .\\\n         project({\n          },\n         group_by=['g']) .\\\n         extend({\n          'ngroup': '_row_number()'},\n         order_by=['g']),\n      by=['g'], jointype='LEFT') .\\\n   extend({\n    'row_number': '_row_number()',\n    'shift_v': 'v.shift()'},\n   partition_by=['g'],\n   order_by=['x']) .\\\n   extend({\n    'size': '_size()',\n    'max_v': 'v.max()',\n    'min_v': 'v.min()',\n    'sum_v': 'v.sum()',\n    'mean_v': 'v.mean()',\n    'count_v': 'v.count()',\n    'size_v': 'v.size()'},\n   partition_by=['g']))"
     },
     "metadata": {},
     "output_type": "execute_result",
     "execution_count": 28
    }
   ],
   "source": [
    "a1 >> (a2 >> a3)"
   ]
  },
  {
   "cell_type": "markdown",
   "metadata": {},
   "source": [
    "The payoff is: we can use this composite arrow on data."
   ]
  },
  {
   "cell_type": "code",
   "execution_count": 29,
   "metadata": {
    "pycharm": {
     "is_executing": false
    }
   },
   "outputs": [
    {
     "data": {
      "text/plain": "   g  x     v      i  ngroup  row_number  shift_v  size  max_v  min_v  sum_v  \\\n0  a  1  10.0   True       1           1      NaN     1   10.0   10.0   10.0   \n1  b  4  40.0   True       2           1      NaN     2   50.0   40.0   90.0   \n2  b  5  50.0  False       2           2     40.0     2   50.0   40.0   90.0   \n3  c  7  70.0  False       3           1      NaN     3   90.0   70.0  240.0   \n4  c  8  80.0  False       3           2     70.0     3   90.0   70.0  240.0   \n5  c  9  90.0  False       3           3     80.0     3   90.0   70.0  240.0   \n\n   mean_v  count_v  size_v  \n0    10.0        1       1  \n1    45.0        2       2  \n2    45.0        2       2  \n3    80.0        3       3  \n4    80.0        3       3  \n5    80.0        3       3  ",
      "text/html": "<div>\n<style scoped>\n    .dataframe tbody tr th:only-of-type {\n        vertical-align: middle;\n    }\n\n    .dataframe tbody tr th {\n        vertical-align: top;\n    }\n\n    .dataframe thead th {\n        text-align: right;\n    }\n</style>\n<table border=\"1\" class=\"dataframe\">\n  <thead>\n    <tr style=\"text-align: right;\">\n      <th></th>\n      <th>g</th>\n      <th>x</th>\n      <th>v</th>\n      <th>i</th>\n      <th>ngroup</th>\n      <th>row_number</th>\n      <th>shift_v</th>\n      <th>size</th>\n      <th>max_v</th>\n      <th>min_v</th>\n      <th>sum_v</th>\n      <th>mean_v</th>\n      <th>count_v</th>\n      <th>size_v</th>\n    </tr>\n  </thead>\n  <tbody>\n    <tr>\n      <th>0</th>\n      <td>a</td>\n      <td>1</td>\n      <td>10.0</td>\n      <td>True</td>\n      <td>1</td>\n      <td>1</td>\n      <td>NaN</td>\n      <td>1</td>\n      <td>10.0</td>\n      <td>10.0</td>\n      <td>10.0</td>\n      <td>10.0</td>\n      <td>1</td>\n      <td>1</td>\n    </tr>\n    <tr>\n      <th>1</th>\n      <td>b</td>\n      <td>4</td>\n      <td>40.0</td>\n      <td>True</td>\n      <td>2</td>\n      <td>1</td>\n      <td>NaN</td>\n      <td>2</td>\n      <td>50.0</td>\n      <td>40.0</td>\n      <td>90.0</td>\n      <td>45.0</td>\n      <td>2</td>\n      <td>2</td>\n    </tr>\n    <tr>\n      <th>2</th>\n      <td>b</td>\n      <td>5</td>\n      <td>50.0</td>\n      <td>False</td>\n      <td>2</td>\n      <td>2</td>\n      <td>40.0</td>\n      <td>2</td>\n      <td>50.0</td>\n      <td>40.0</td>\n      <td>90.0</td>\n      <td>45.0</td>\n      <td>2</td>\n      <td>2</td>\n    </tr>\n    <tr>\n      <th>3</th>\n      <td>c</td>\n      <td>7</td>\n      <td>70.0</td>\n      <td>False</td>\n      <td>3</td>\n      <td>1</td>\n      <td>NaN</td>\n      <td>3</td>\n      <td>90.0</td>\n      <td>70.0</td>\n      <td>240.0</td>\n      <td>80.0</td>\n      <td>3</td>\n      <td>3</td>\n    </tr>\n    <tr>\n      <th>4</th>\n      <td>c</td>\n      <td>8</td>\n      <td>80.0</td>\n      <td>False</td>\n      <td>3</td>\n      <td>2</td>\n      <td>70.0</td>\n      <td>3</td>\n      <td>90.0</td>\n      <td>70.0</td>\n      <td>240.0</td>\n      <td>80.0</td>\n      <td>3</td>\n      <td>3</td>\n    </tr>\n    <tr>\n      <th>5</th>\n      <td>c</td>\n      <td>9</td>\n      <td>90.0</td>\n      <td>False</td>\n      <td>3</td>\n      <td>3</td>\n      <td>80.0</td>\n      <td>3</td>\n      <td>90.0</td>\n      <td>70.0</td>\n      <td>240.0</td>\n      <td>80.0</td>\n      <td>3</td>\n      <td>3</td>\n    </tr>\n  </tbody>\n</table>\n</div>"
     },
     "metadata": {},
     "output_type": "execute_result",
     "execution_count": 29
    }
   ],
   "source": [
    "(a1 >> a2 >> a3).transform(d)"
   ]
  },
  {
   "cell_type": "markdown",
   "metadata": {
    "jupyter": {
     "outputs_hidden": false
    },
    "pycharm": {
     "is_executing": false,
     "name": "#%% md\n"
    }
   },
   "source": [
    "The combination operator `>>` is fully associative over the combination of data and arrows."
   ]
  },
  {
   "cell_type": "code",
   "execution_count": 30,
   "metadata": {
    "collapsed": false,
    "jupyter": {
     "outputs_hidden": false
    },
    "pycharm": {
     "is_executing": false,
     "name": "#%%\n"
    }
   },
   "outputs": [
    {
     "data": {
      "text/plain": "   g  x     v      i  ngroup  row_number  shift_v  size  max_v  min_v  sum_v  \\\n0  a  1  10.0   True       1           1      NaN     1   10.0   10.0   10.0   \n1  b  4  40.0   True       2           1      NaN     2   50.0   40.0   90.0   \n2  b  5  50.0  False       2           2     40.0     2   50.0   40.0   90.0   \n3  c  7  70.0  False       3           1      NaN     3   90.0   70.0  240.0   \n4  c  8  80.0  False       3           2     70.0     3   90.0   70.0  240.0   \n5  c  9  90.0  False       3           3     80.0     3   90.0   70.0  240.0   \n\n   mean_v  count_v  size_v  \n0    10.0        1       1  \n1    45.0        2       2  \n2    45.0        2       2  \n3    80.0        3       3  \n4    80.0        3       3  \n5    80.0        3       3  ",
      "text/html": "<div>\n<style scoped>\n    .dataframe tbody tr th:only-of-type {\n        vertical-align: middle;\n    }\n\n    .dataframe tbody tr th {\n        vertical-align: top;\n    }\n\n    .dataframe thead th {\n        text-align: right;\n    }\n</style>\n<table border=\"1\" class=\"dataframe\">\n  <thead>\n    <tr style=\"text-align: right;\">\n      <th></th>\n      <th>g</th>\n      <th>x</th>\n      <th>v</th>\n      <th>i</th>\n      <th>ngroup</th>\n      <th>row_number</th>\n      <th>shift_v</th>\n      <th>size</th>\n      <th>max_v</th>\n      <th>min_v</th>\n      <th>sum_v</th>\n      <th>mean_v</th>\n      <th>count_v</th>\n      <th>size_v</th>\n    </tr>\n  </thead>\n  <tbody>\n    <tr>\n      <th>0</th>\n      <td>a</td>\n      <td>1</td>\n      <td>10.0</td>\n      <td>True</td>\n      <td>1</td>\n      <td>1</td>\n      <td>NaN</td>\n      <td>1</td>\n      <td>10.0</td>\n      <td>10.0</td>\n      <td>10.0</td>\n      <td>10.0</td>\n      <td>1</td>\n      <td>1</td>\n    </tr>\n    <tr>\n      <th>1</th>\n      <td>b</td>\n      <td>4</td>\n      <td>40.0</td>\n      <td>True</td>\n      <td>2</td>\n      <td>1</td>\n      <td>NaN</td>\n      <td>2</td>\n      <td>50.0</td>\n      <td>40.0</td>\n      <td>90.0</td>\n      <td>45.0</td>\n      <td>2</td>\n      <td>2</td>\n    </tr>\n    <tr>\n      <th>2</th>\n      <td>b</td>\n      <td>5</td>\n      <td>50.0</td>\n      <td>False</td>\n      <td>2</td>\n      <td>2</td>\n      <td>40.0</td>\n      <td>2</td>\n      <td>50.0</td>\n      <td>40.0</td>\n      <td>90.0</td>\n      <td>45.0</td>\n      <td>2</td>\n      <td>2</td>\n    </tr>\n    <tr>\n      <th>3</th>\n      <td>c</td>\n      <td>7</td>\n      <td>70.0</td>\n      <td>False</td>\n      <td>3</td>\n      <td>1</td>\n      <td>NaN</td>\n      <td>3</td>\n      <td>90.0</td>\n      <td>70.0</td>\n      <td>240.0</td>\n      <td>80.0</td>\n      <td>3</td>\n      <td>3</td>\n    </tr>\n    <tr>\n      <th>4</th>\n      <td>c</td>\n      <td>8</td>\n      <td>80.0</td>\n      <td>False</td>\n      <td>3</td>\n      <td>2</td>\n      <td>70.0</td>\n      <td>3</td>\n      <td>90.0</td>\n      <td>70.0</td>\n      <td>240.0</td>\n      <td>80.0</td>\n      <td>3</td>\n      <td>3</td>\n    </tr>\n    <tr>\n      <th>5</th>\n      <td>c</td>\n      <td>9</td>\n      <td>90.0</td>\n      <td>False</td>\n      <td>3</td>\n      <td>3</td>\n      <td>80.0</td>\n      <td>3</td>\n      <td>90.0</td>\n      <td>70.0</td>\n      <td>240.0</td>\n      <td>80.0</td>\n      <td>3</td>\n      <td>3</td>\n    </tr>\n  </tbody>\n</table>\n</div>"
     },
     "metadata": {},
     "output_type": "execute_result",
     "execution_count": 30
    }
   ],
   "source": [
    "# Python default associates left to right so this is:\n",
    "# ((d >> a1) >> a2) >> a3\n",
    "d >> a1 >> a2 >> a3"
   ]
  },
  {
   "cell_type": "code",
   "execution_count": 31,
   "metadata": {
    "collapsed": false,
    "jupyter": {
     "outputs_hidden": false
    },
    "pycharm": {
     "is_executing": false,
     "name": "#%%\n"
    }
   },
   "outputs": [
    {
     "data": {
      "text/plain": "   g  x     v      i  ngroup  row_number  shift_v  size  max_v  min_v  sum_v  \\\n0  a  1  10.0   True       1           1      NaN     1   10.0   10.0   10.0   \n1  b  4  40.0   True       2           1      NaN     2   50.0   40.0   90.0   \n2  b  5  50.0  False       2           2     40.0     2   50.0   40.0   90.0   \n3  c  7  70.0  False       3           1      NaN     3   90.0   70.0  240.0   \n4  c  8  80.0  False       3           2     70.0     3   90.0   70.0  240.0   \n5  c  9  90.0  False       3           3     80.0     3   90.0   70.0  240.0   \n\n   mean_v  count_v  size_v  \n0    10.0        1       1  \n1    45.0        2       2  \n2    45.0        2       2  \n3    80.0        3       3  \n4    80.0        3       3  \n5    80.0        3       3  ",
      "text/html": "<div>\n<style scoped>\n    .dataframe tbody tr th:only-of-type {\n        vertical-align: middle;\n    }\n\n    .dataframe tbody tr th {\n        vertical-align: top;\n    }\n\n    .dataframe thead th {\n        text-align: right;\n    }\n</style>\n<table border=\"1\" class=\"dataframe\">\n  <thead>\n    <tr style=\"text-align: right;\">\n      <th></th>\n      <th>g</th>\n      <th>x</th>\n      <th>v</th>\n      <th>i</th>\n      <th>ngroup</th>\n      <th>row_number</th>\n      <th>shift_v</th>\n      <th>size</th>\n      <th>max_v</th>\n      <th>min_v</th>\n      <th>sum_v</th>\n      <th>mean_v</th>\n      <th>count_v</th>\n      <th>size_v</th>\n    </tr>\n  </thead>\n  <tbody>\n    <tr>\n      <th>0</th>\n      <td>a</td>\n      <td>1</td>\n      <td>10.0</td>\n      <td>True</td>\n      <td>1</td>\n      <td>1</td>\n      <td>NaN</td>\n      <td>1</td>\n      <td>10.0</td>\n      <td>10.0</td>\n      <td>10.0</td>\n      <td>10.0</td>\n      <td>1</td>\n      <td>1</td>\n    </tr>\n    <tr>\n      <th>1</th>\n      <td>b</td>\n      <td>4</td>\n      <td>40.0</td>\n      <td>True</td>\n      <td>2</td>\n      <td>1</td>\n      <td>NaN</td>\n      <td>2</td>\n      <td>50.0</td>\n      <td>40.0</td>\n      <td>90.0</td>\n      <td>45.0</td>\n      <td>2</td>\n      <td>2</td>\n    </tr>\n    <tr>\n      <th>2</th>\n      <td>b</td>\n      <td>5</td>\n      <td>50.0</td>\n      <td>False</td>\n      <td>2</td>\n      <td>2</td>\n      <td>40.0</td>\n      <td>2</td>\n      <td>50.0</td>\n      <td>40.0</td>\n      <td>90.0</td>\n      <td>45.0</td>\n      <td>2</td>\n      <td>2</td>\n    </tr>\n    <tr>\n      <th>3</th>\n      <td>c</td>\n      <td>7</td>\n      <td>70.0</td>\n      <td>False</td>\n      <td>3</td>\n      <td>1</td>\n      <td>NaN</td>\n      <td>3</td>\n      <td>90.0</td>\n      <td>70.0</td>\n      <td>240.0</td>\n      <td>80.0</td>\n      <td>3</td>\n      <td>3</td>\n    </tr>\n    <tr>\n      <th>4</th>\n      <td>c</td>\n      <td>8</td>\n      <td>80.0</td>\n      <td>False</td>\n      <td>3</td>\n      <td>2</td>\n      <td>70.0</td>\n      <td>3</td>\n      <td>90.0</td>\n      <td>70.0</td>\n      <td>240.0</td>\n      <td>80.0</td>\n      <td>3</td>\n      <td>3</td>\n    </tr>\n    <tr>\n      <th>5</th>\n      <td>c</td>\n      <td>9</td>\n      <td>90.0</td>\n      <td>False</td>\n      <td>3</td>\n      <td>3</td>\n      <td>80.0</td>\n      <td>3</td>\n      <td>90.0</td>\n      <td>70.0</td>\n      <td>240.0</td>\n      <td>80.0</td>\n      <td>3</td>\n      <td>3</td>\n    </tr>\n  </tbody>\n</table>\n</div>"
     },
     "metadata": {},
     "output_type": "execute_result",
     "execution_count": 31
    }
   ],
   "source": [
    "# the preferred notation, work in operator space\n",
    "d >> (a1 >> a2 >> a3)"
   ]
  },
  {
   "cell_type": "markdown",
   "metadata": {},
   "source": [
    "The underlying `data_algebra` steps compute and check very similar pre and post conditions, the arrow class is just making this look more explicitly like arrows moving through objects in category.\n",
    "\n",
    "There is more to be gotten from how the data relates to the schema descriptions.  I think we have that if we consider the arrows operating on data and the arrows operating on schemas we have a faithfull embedding (in the sense of Saunders Mac Lane *Categories for the Working Mathematician, 2nd Edition*, Springer, 1997, page 15) from data to schemas."
   ]
  },
  {
   "cell_type": "code",
   "execution_count": 32,
   "metadata": {
    "collapsed": false,
    "jupyter": {
     "outputs_hidden": false
    },
    "pycharm": {
     "is_executing": false,
     "name": "#%%\n"
    }
   },
   "outputs": [
    {
     "data": {
      "text/plain": "TableDescription(\n table_name='d',\n column_names=[\n   'g', 'x', 'v', 'i']) .\\\n   natural_join(b=\n      TableDescription(\n       table_name='d',\n       column_names=[\n         'g', 'x', 'v', 'i']) .\\\n         project({\n          },\n         group_by=['g']) .\\\n         extend({\n          'ngroup': '_row_number()'},\n         order_by=['g']),\n      by=['g'], jointype='LEFT') .\\\n   extend({\n    'row_number': '_row_number()',\n    'shift_v': 'v.shift()'},\n   partition_by=['g'],\n   order_by=['x'])"
     },
     "metadata": {},
     "output_type": "execute_result",
     "execution_count": 32
    }
   ],
   "source": [
    "# check pipelines compose\n",
    "a2.pipeline.transform(a1.pipeline)"
   ]
  },
  {
   "cell_type": "code",
   "execution_count": null,
   "outputs": [],
   "source": [
    "a1 >> a2"
   ],
   "metadata": {
    "collapsed": false,
    "pycharm": {
     "name": "#%%\n"
    }
   }
  }
 ],
 "metadata": {
  "kernelspec": {
   "display_name": "Python 3",
   "language": "python",
   "name": "python3"
  },
  "language_info": {
   "codemirror_mode": {
    "name": "ipython",
    "version": 3
   },
   "file_extension": ".py",
   "mimetype": "text/x-python",
   "name": "python",
   "nbconvert_exporter": "python",
   "pygments_lexer": "ipython3",
   "version": "3.6.9"
  },
  "pycharm": {
   "stem_cell": {
    "cell_type": "raw",
    "source": [],
    "metadata": {
     "collapsed": false
    }
   }
  }
 },
 "nbformat": 4,
 "nbformat_minor": 4
}