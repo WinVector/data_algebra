{
 "cells": [
  {
   "cell_type": "code",
   "execution_count": 1,
   "metadata": {
    "collapsed": true,
    "pycharm": {
     "is_executing": false
    }
   },
   "outputs": [],
   "source": [
    "\n",
    "import pandas\n",
    "\n",
    "from data_algebra.data_ops import *\n",
    "from data_algebra.arrow import *\n",
    "\n",
    "d1 = pandas.DataFrame({\n",
    "    'key': ['a', 'b'],\n",
    "    'x': [1, 2],\n",
    "})\n",
    "\n",
    "\n",
    "table_1_description = describe_table(d1, table_name='d1')\n",
    "\n",
    "d2 = pandas.DataFrame({\n",
    "    'key': ['b', 'c'],\n",
    "    'y': [3, 4],\n",
    "})\n",
    "\n",
    "table_2_description = describe_table(d2, table_name='d2')\n",
    "\n",
    "ops =  table_1_description.\\\n",
    "    natural_join(\n",
    "        b=table_2_description, \n",
    "        by=['key'])"
   ]
  },
  {
   "cell_type": "code",
   "execution_count": 2,
   "outputs": [
    {
     "name": "stdout",
     "text": [
      "[\n  [ key: <class 'str'>, x: <class 'numpy.int64'> ]\n   ->\n  [ key, x, y ]\n]\n\n"
     ],
     "output_type": "stream"
    }
   ],
   "source": [
    "arrow_1 = DataOpArrow(ops, free_table_key=table_1_description.key)\n",
    "#arrow_1.fit(d1)\n",
    "\n",
    "print(arrow_1)"
   ],
   "metadata": {
    "collapsed": false,
    "pycharm": {
     "name": "#%%\n",
     "is_executing": false
    }
   }
  },
  {
   "cell_type": "code",
   "execution_count": 3,
   "outputs": [
    {
     "name": "stdout",
     "text": [
      "[\n  [ key: <class 'str'>, y: <class 'numpy.int64'> ]\n   ->\n  [ key, x, y ]\n]\n\n"
     ],
     "output_type": "stream"
    }
   ],
   "source": [
    "arrow_2 = DataOpArrow(ops, free_table_key=table_2_description.key)\n",
    "\n",
    "print(arrow_2)"
   ],
   "metadata": {
    "collapsed": false,
    "pycharm": {
     "name": "#%%\n",
     "is_executing": false
    }
   }
  }
 ],
 "metadata": {
  "kernelspec": {
   "display_name": "Python 3",
   "language": "python",
   "name": "python3"
  },
  "language_info": {
   "codemirror_mode": {
    "name": "ipython",
    "version": 2
   },
   "file_extension": ".py",
   "mimetype": "text/x-python",
   "name": "python",
   "nbconvert_exporter": "python",
   "pygments_lexer": "ipython2",
   "version": "2.7.6"
  },
  "pycharm": {
   "stem_cell": {
    "cell_type": "raw",
    "source": [],
    "metadata": {
     "collapsed": false
    }
   }
  }
 },
 "nbformat": 4,
 "nbformat_minor": 0
}