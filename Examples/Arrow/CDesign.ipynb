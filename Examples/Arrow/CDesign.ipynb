{
 "cells": [
  {
   "cell_type": "markdown",
   "metadata": {},
   "source": [
    "\n",
    "<h2>Introduction</h2>\n",
    "\n",
    "I would like to talk about some of the design principles underlying the <a href=\"https://github.com/WinVector/data_algebra\"><code>data_algebra</code> package</a> (and also in its sibling <a href=\"https://github.com/WinVector/rquery\"><code>rquery</code> package</a>).\n",
    "\n",
    "The <a href=\"https://github.com/WinVector/data_algebra\"><code>data_algebra</code> package</a> is a query generator that can act on either <a href=\"https://pandas.pydata.org\"><code>Pandas</code></a> data frames or on <a href=\"https://en.wikipedia.org/wiki/SQL\"><code>SQL</code></a> tables. This is discussed on the <a href=\"https://github.com/WinVector/data_algebra\">project</a> site and the <a href=\"https://github.com/WinVector/data_algebra/tree/master/Examples\">examples directory</a>.  In this note we will set up some technical terminology that will allow us to discuss some of the underlying design decisions.  These are things that when they are done well, the user doesn't have to think much about. Discussing such design decisions at length can obscure some of their charm, but we would like to point out some features here.\n",
    "\n",
    "<!--more--><p/>\n",
    "\n",
    "<h2>Background</h2>\n",
    "\n",
    "We will introduce a few ideas before trying to synthesize our thesis.\n",
    "\n",
    "<h3>The <code>data_algebra</code></h3>\n",
    "    \n",
    "An introduction to the <code>data_algebra</code> package can be found [here](https://github.com/WinVector/data_algebra/blob/master/Examples/Introduction/data_algebra_Introduction.md).  In this note we will discuss some of the inspirations for the package: Codd's relational algebra, experience working with [<code>dplyr</code>](https://CRAN.R-project.org/package=dplyr) at scale, sklearn Pipeline, and category theory.\n",
    "\n",
    "<h3>sklearn Pipeline</h3>\n",
    "\n",
    "A major influence on the <code>data_algebra</code> design is <a href=\"https://scikit-learn.org/stable/modules/generated/sklearn.pipeline.Pipeline.html#sklearn.pipeline.Pipeline\"><code>sklearn.pipeline.Pipeline</code></a>. <code>sklearn.pipeline.Pipeline</code> itself presumably become public with <a href=\"https://github.com/scikit-learn/scikit-learn/commit/b99c76550e3cbe8b57b1ea27b6eb88817a36cb53\">Edouard Duchesnay's Jul 27, 2010 commit: \"add pipeline\"</a>.\n",
    "\n",
    "<code>sklearn.pipeline.Pipeline</code> maintains a list of steps to be applied to data.  What is interesting is the steps are <em>not</em> functions. Steps are instead objects that implement both a <code>.transform()</code> and a <code>.fit()</code> method.\n",
    "\n",
    "<code>.transform()</code> typically accepts a data-frame type structure and returns a modified version.  Typical operations include adding a new derived column, selecting columns, selecting rows, and so on.\n",
    "\n",
    "From a transform-alone point of view the steps compose like functions.  For list <code>[s, t]</code> <code>transform(x)</code> is defined to as:\n",
    "\n",
    "<pre><code>   transform([s, t], x) := \n",
    "      t.transform(s.transform(x))</pre></code>\n",
    "      \n",
    "(the glyph \"<code>:=</code>\" denoting \"defined as\").\n",
    "\n",
    "The fit-perspective is where things get interesting.  <code>obj.fit(x)</code> changes the internal state of obj based on the value <code>x</code> and returns a reference to <code>obj</code>.  I.e. it learns from the data and stores this result as a side-effect in the object itself.  In <code>sklearn</code> it is common to assume a composite method called <code>.fit_transform()</code> often defined as: \n",
    "<code><pre>   obj.fit_transform(x) := obj.fit(x).transform(x)</pre></code>\n",
    "(though for our own <a href=\"https://github.com/WinVector/pyvtreat\"><code>vtreat</code></a> package, this is deliberately not the case).\n",
    "\n",
    "Using <code>.fit_transform()</code> we can explain that in a <code>sklearn Pipeline</code> <code>.fit()</code> is naturally thought of as:\n",
    "<code><pre>   fit([s, t], x]) := \n",
    "      t.fit(s.fit_transform(x))</pre></code>\n",
    "\n",
    "My point is: <code>sklearn.pipeline.Pipeline</code> generalizes function composition to something more powerful: the ability to both fit and to transform. <code>sklearn.pipeline.Pipeline</code> is a natural way to store a sequence of parameterized or data-dependent data transform steps (such as centering, scaling, missing value imputation, and much more).\n",
    "\n",
    "This gives as a concrete example of where rigid mindset where \"function composition is the only form of composition\" would not miss design opportunities.\n",
    "\n",
    "<h3>Fist class citizens</h3>\n",
    "\n",
    "We are going to try to design our tools to be \"<a href=\"https://en.wikipedia.org/wiki/First-class_citizen\">first class citizens</a>\" in the sense of Strachey:\n",
    "\n",
    "<blockquote>\n",
    "<strong>First and second class objects.</strong> In <code>ALGOL</code>, a real number may appear in an expression or be assigned to a variable, and either of them may appear as an actual parameter in a procedure call. A procedure, on the other hand, may only appear in another procedure call either as the operator (the most common case) or as one of the actual parameters. There are no other expressions involving procedures or whose results are procedures. Thus in a sense procedures in <code>ALGOL</code> are second class citizens—they always have to appear in person and can never be represented by a variable or expression (except in the case of a formal parameter)...\n",
    "<p/>\n",
    "<a href=\"https://en.wikipedia.org/wiki/First-class_citizen\">Quoted in Wikipedia.\n",
    "Christopher Strachey, \"Fundamental Concepts in Programming Languages\" in Higher-Order and Symbolic Computation 13:11 (2000); though published in 2000, these are notes from lectures Strachey delivered in August, 1967</a>\n",
    "</blockquote>\n",
    "\n",
    "What we will draw out: is if our data transform steps are \"first class citizens\" we should expect to be able to store them in variables, compose them, examine them, and many other steps.  A function that we can only use or even re-use is not giving us as much as we expect from other types.  Or alternately, if functions don't give us everything we want, we may not want to use them as our only type or abstraction of data processing steps.\n",
    "  \n",
    "\n",
    "<h3>Composability</h3>\n",
    "\n",
    "Most people first encounter the mathematical concept of \"composability\" in terms of functions.  This can give the false impression that to work with composable design principles, one must shoe-horn the object of interest to be functions or some sort of augmented functions.\n",
    "\n",
    "This Procrustean view loses a lot of design opportunities.\n",
    "\n",
    "In mathematics composability is directly studied by the field called \"<a href=\"https://en.wikipedia.org/wiki/Category_theory\">Category Theory</a>.\" So it makes sense to see if category theory may have ideas, notations, tools, and results that may be of use.\n",
    "\n",
    "<h2>Category Theory</h2>\n",
    "\n",
    "A lot of the benefit of <a href=\"https://en.wikipedia.org/wiki/Category_theory\">category theory</a> is lost if every time we try to apply category theory (or even just use some of the notation conventions) we attempt to explain <em>all</em> of category theory as a first step.  So I will try to resist that urge here.  I will introduce the bits I am going to use here.\n",
    "\n",
    "Category theory routinely studies what are called \"arrows.\"  When treated abstractly an arrow has two associated objects called the \"domain\" and \"co-domain.\" The names are meant to be evocative of the \"domain\" (space of inputs) and \"co-domains\" (space of outputs) from the theory of functions.\n",
    "\n",
    "Functions are commonly defined as having:\n",
    "\n",
    "<ul>\n",
    "    <li>A domain, which is a set of values the function can be applied to.</li>\n",
    "    <li>A co-domain, which is a set of values the function evaluations are contained in (or range).</li>\n",
    "    <li>A <em>fixed</em> composition rule that if <code>domain(g)</code> is contained in <code>co-domain(f)</code> then:\n",
    "        <code>g . f</code> is defined as the function such that <code>(g . f)(x) = g(f(x))</code> for all values in \n",
    "        the domain of f. Mathematical functions are usually thought of as a specialization of <a href=\"https://en.wikipedia.org/wiki/Binary_relation\">binary relation</a>, and considered to be uniquely determined by their\n",
    "    evaluations (by the <a href=\"https://en.wikipedia.org/wiki/Axiom_of_extensionality\">axiom of extensionality</a>).</li>\n",
    "</ul>\n",
    "\n",
    "Packages that use function composition typically collect functions in lists and define operator composition either through lambda-abstraction or through list concatenation.\n",
    "\n",
    "Category theory differs from function theory in that category theory talks about arrows instead of functions. The theory is careful to keep separate the following two concepts: what arrows are and how arrows are composed.\n",
    "\n",
    "When using arrows to model a system we expect to be able to specify, with some extra degrees of freedom in specifying:\n",
    "\n",
    "<ul>\n",
    "    <li>How to choose domains and co-domains, for categories these do not have to be sets.</li>\n",
    "    <li>How arrows compose.  For arrows <code>a</code> and <code>b</code> with <code>co-domain(b) = domain(a)</code> then: <code>a . b</code> denotes the composition in the category, and is itself a new arrow in the same category.  Composition is not allowed (or defined) when <code>co-domain(b) != domain(a)</code>.</li>\n",
    "    <li>How arrows <a href=\"https://ncatlab.org/nlab/show/action\"><em>act</em></a> on items. Arrows can have multiple actions, and arrows can act on items that are not elements of their domains.</li> \n",
    "</ul>\n",
    "\n",
    "An action is a mapping from arrows and items to items.  I.e. <code>action(arrow, item) = new_item</code>. For categories the items may or may not be related to the domain and co-domain. Not all categories have actions, but when they do have actions the action must be compatible with arrow composition.\n",
    "\n",
    "Good general references on category theory, include:\n",
    "\n",
    "<ul>\n",
    "    <li>Steve Awodey, <em>Category Theory, 2nd Edition</em>, Oxford University Press; 2010.</li>\n",
    "    <li>Emily Riehl, <em>Category Theory in Context</em>, Dover, 2016.</li>\n",
    "    <li>Saunders Mac Lane, <em>Categories for the Working Mathematician, 2nd Edition</em>, Springer, 1978.</li>\n",
    "</ul>\n",
    "\n",
    "\n",
    "Functions have a very ready category theory interpretation as arrows.  Given a function <code>f</code> with domain <code>A</code> and co-domain <code>B</code>, we can think of any triple <code>(f, A', B')</code> as an arrow in a category of functions if <code>A' contained in A</code> and <code>B contained in B'</code>. In this formulation we define the arrow composition of <code><code>(f, A', B')</code></code> and <code>(g, C', D')</code> as <code>(f . g, C', B')</code> where <code>f . g</code>is defined to be the function such that for all <code>x</code> in domain <code>x</code> we have:\n",
    "<code><pre>   (f . g)(x) := f(g(x)) </pre></code>\n",
    "\n",
    "We will call the application of a function to a value as an example of an \"<a href=\"https://ncatlab.org/nlab/show/action\">action</a>.\" A function <code>f()</code> \"acts on its domain\" and <code>f(x)</code> is the action of <code>f</code> on <code>x</code>.  For functions we can define the action \"<code>apply</code>\" as:\n",
    "<code><pre>   apply(f, x) := f(x)</pre></code>\n",
    "\n",
    "The extra generalization power we get from moving away from functions to arbitrary arrows (that might not correspond to functions) comes from the following:\n",
    "\n",
    "<ul>\n",
    "<li>Arrow composition does <em>not</em> have to be function composition.</li>\n",
    "<li>Arrows can have multiple actions, and <a href=\"https://ncatlab.org/nlab/show/action\">act</a> on items that are <em>not</em> elements of their domain.</li>\n",
    "<li>Arrows have a notion of equality, but this notion <em>can differ</em> from having identical actions.</li>\n",
    "</ul>\n",
    "\n",
    "To be a category a few conditions must be met, including: the composition must be associative and we must have some identity arrows. By \"associative composition\" we mean, it must be the case that for arrows <code>a</code>,\n",
    "<code>b</code>, and <code>c</code> (with appropriate domains and co-domains):\n",
    "<code><pre>   (a . b) . c = a . (b . c) </pre></code>\n",
    "\n",
    "Our action must also associate with arrow composition.  That is we must have for values <code>x</code> we must have for co-variant actions:\n",
    "<code><pre>   apply(a . b, x) = apply(a, apply(b, x))</pre></code>\n",
    "\n",
    "Or for contra-variant actions:\n",
    "<code><pre>   apply(a . b, x) = apply(b, apply(a, x))</pre></code>\n",
    "\n",
    "\n",
    "The idea is: the arrow <code>a . b</code> must have an action equal to the actions of a and b composed as functions. That is: arrow composition and actions can differ from function composition and function application, but they must be at least somewhat similar in that they remain <a href=\"https://en.wikipedia.org/wiki/Associative_property\">associative</a>.\n",
    "\n",
    "We now have the background to see that category theory arrows differ from functions in that arrows are more general (we can pick more of their properties) and require a bit more explicit bookkeeping.\n",
    "\n",
    "<h2>Back to <code>sklearn.pipeline.Pipeline</code></h2>\n",
    "\n",
    "We now have enough notation to attempt a crude category theory description of <code>sklearn.pipeline.Pipeline</code>.\n",
    "\n",
    "Define our <code>sklearn.pipeline.Pipeline</code> category <code>P</code> as follows:\n",
    "\n",
    "<ul>\n",
    "<li>We have only one object called <code>0</code>. All arrows will have domain and co-domain equal to <code>0</code>, i.e.: we are not doing any interesting pre-condition checking in this category. This sort of category is called a \"<a href=\"https://ncatlab.org/nlab/show/monoid#inamonoidalcategory\">monoid</a>.\"</li>\n",
    "<li>The arrows of our category are lists of steps.  \n",
    "Steps are again <code>Python</code> objects\n",
    "that define <code>.transform()</code>, <code>.fit()</code>, and <code>.fit_transform()</code> methods.</li>\n",
    "<li>Composition <code>a1 . a2</code> is defined as the list concatenation: <code>a2 + a1</code>.  \"<code>+</code>\" being <code>Python</code>'s list concatenate in this case, and the order set to match <code>sklearn.pipeline.Pipeline</code> list order convention.</li>\n",
    "<li>We define an action called \"<code>transform_action</code>\" defined as:\n",
    "\n",
    "<code><pre>   transform_action([step1, step2, ..., stepk], x) := \n",
    "      stepk.transform(... step2.transform(step1.transform(x)) )</pre></code>\n",
    "</li>\n",
    "</ul>\n",
    "\n",
    "To see this is a category (and a category compatible action) we must check associativity of the composition (which in this case is list concatenation) and associativity of the action with respect to list concatenation.  \n",
    "\n",
    "We can also try to model the <code>.fit_transform()</code> methods.  We will not try to model the side-effect that <code>.fit_transform()</code> changes state of the arrows (to have the fit information in each step).  But we can at least define an action (with side effects) as follows:\n",
    "\n",
    "<ul>\n",
    "<li>We define an action called \"<code>fit_transform</code>\" defined as:\n",
    "<code><pre>   fit_transform_action([step1, step2, ..., stepk], x) := \n",
    "      stepk.fit_transform(... step2.fit_transform(step1.fit_transform(x)) )</pre></code>\n",
    "</li>\n",
    "</ul>\n",
    "\n",
    "To confirm this is an action (ignoring the side-effects), we would want check is if the following equality holds or not:\n",
    "<code><pre>  fit_transform_action(a . b, x) =\n",
    "      fit_transform_action(b, fit_transform_action(a, x))\n",
    "   </pre></code>\n",
    "\n",
    "The above should follow by brute pushing notation around (assuming we have defined <code>fit_transform_action</code> correctly, and sufficiently characterized <code>.fit_transform()</code>).\n",
    "\n",
    "Notice we didn't directly define a \"<code>fit_action</code>\" action, as it isn't obvious that has a not obvious that has a nice associative realization. This an opportunity for theory to drive design; notation considerations hint that <code>fit_transform()</code> may be more fundamental than, and thus preferred over, <code>fit()</code>.\n",
    "\n",
    "The category theory concepts didn't so-much design <code>sklearn.pipeline.Pipeline</code>, but give us a set of criteria to evaluate <code>sklearn.pipeline.Pipeline</code> design.  We trust the category theory point of view is useful as it emphasizes associativity (which is a great propriety to have), and is routinely found to be a set of choices that work in complicated systems.  The feeling being: the design points category theory seems to suggest, turn out to be the ones you want down the round.\n",
    "\n",
    "<h2>The <code>data_algebra</code></h2>\n",
    "\n",
    "Now that we have some terminology, lets get back to the <code>data_algebra</code>\n",
    "\n",
    "<h3>What is the <code>data_algebra</code>?</h3>\n",
    "\n",
    "<ul>\n",
    "<li>\n",
    "    <a href=\"https://github.com/WinVector/data_algebra\"><code>data_algebra</code></a> is a package for building up complex data manipulation queries\n",
    " <code>data_algebra</code> queries are first class citizens in the Strachey sense (can be: passed as an argument, returned from a function, modified, assigned to a variable, printed, inspected, and traversed as a data structure).\n",
    "</li>\n",
    "<li>\n",
    " The operators are essentially those of the Codd relational algebra (select rows/columns, join, union-all, extend, project, and window functions).\n",
    "</li>\n",
    "<li>\n",
    "    Composition is left to right using <a href=\"https://en.wikipedia.org/wiki/Method_chaining\">method chaining</a>.\n",
    "</li>\n",
    "<li>\n",
    "    Queries can be realized by transforming to <code>SQL</code> (targeting <code>PostgeSQL</code>, <code>Spark</code>, and other implementations), or as acting on <code>Pandas</code> data (we are hoping to extend this to <code>modin</code>, <code>RAPIDS</code>, and others).\n",
    "    </li>\n",
    "    <li>The <code>data_algebra</code> has an <a href=\"https://www.r-project.org\"><code>R</code></a> sibling package group\n",
    "        (<a href=\"https://github.com/WinVector/rquery\"><code>rquery</code></a>/<a href=\"https://github.com/WinVector/rqdatatable\"><code>rqdatatable</code></a>) similar to <a href=\"https://CRAN.R-project.org/package=dplyr\"><code>dplyr</code></a>.</li>\n",
    "</ul>\n",
    "\n",
    "An introduction to the <code>data_algebra</code> can be found <a href=\"https://github.com/WinVector/data_algebra\">here</a>.\n",
    "\n",
    "We now have the terminology to concisely state a <code>data_algebra</code> design principle: use general concepts (such as category theory notation) to try and ensure <code>data_algebra</code> transforms are first class citizens (i.e. we can do a lot with them and to them).\n",
    "\n",
    "<h3>The naive functional view</h3>\n",
    "\n",
    "If we were to again take a mere functional view of the <a href=\"https://github.com/WinVector/data_algebra\"><code>data_algebra</code></a> we would say the <code>data_algebra</code> is a set of functions that operate on data.  They translate data frames to new data frames using <a href=\"https://en.wikipedia.org/wiki/Relational_algebra\">Codd</a>-inspired operations. We could think of the <code>data_algebra</code> as acting on data on the right, and acting on <code>data_algebra</code> operators on the left.\n",
    "\n",
    "However, this is not the right abstraction.  <code>data_algebra</code> methods primarily map data transforms to data transforms. However even this is a \"too functional view\". It makes sense to think of <code>data_algebra</code> operators as arrows, and the whole point of arrows is composition.\n",
    "\n",
    "<h3>The categorical view</h3>\n",
    "\n",
    "The <code>data_algebra</code> can be mapped to a nice category.  The idea being something that can be easily mapped to an orderly system, is it self likely an somewhat orderly system.\n",
    "\n",
    "Good references on the application of category theory to concrete systems (including databases) include:\n",
    "\n",
    "<ul>\n",
    "    <li>David I. Spivak, <em>Category Theory for the Sciences</em>; The MIT Press, 2014.</li>\n",
    "    <li>Brendan Fong, David I. Spivak, <em>An Invitation to Applied Category Theory: Seven Sketches in Compositionality</em>; Cambridge University Press, 2019.</li>\n",
    "</ul>\n",
    "\n",
    "\n",
    "Our <code>data_algebra</code> category <code>D</code> is defined as follows.\n",
    "\n",
    "<ul>\n",
    "    <li>The objects of our category are single table <a href=\"https://en.wikipedia.org/wiki/Database_schema\">schemas</a>.  By \"single table schema\" mean mean only the list of column names (and optionally column types) for a set of named tables.  We are not modeling invariants, or cross-table relations.</li>\n",
    "    <li>The arrows of our category are <code>data_algebra</code> operator chains.</li>\n",
    "    <li>Composition of arrows in our category is a very general query composition.  We will demonstrate query composition in a bit, but as a hint it is not function composition or list concatination.</li>\n",
    "</ul>\n",
    "\n",
    "Some notes on the category theory interpretation of the <code>data_algebra</code> package can be found <a href=\"https://github.com/WinVector/data_algebra/blob/master/Examples/Arrow/Arrow.md\">here</a>.\n",
    "\n",
    "Let's demonstrate the above with <code>Python</code> code.  The <code>data_algebra</code> allows for the specification of data transforms as first class objects.\n",
    "\n",
    "First we import some modules and create some example data."
   ]
  },
  {
   "cell_type": "code",
   "execution_count": 1,
   "metadata": {
    "collapsed": false,
    "jupyter": {
     "outputs_hidden": false
    },
    "pycharm": {
     "name": "#%%\n"
    }
   },
   "outputs": [
    {
     "data": {
      "text/html": [
       "<div>\n",
       "<style scoped>\n",
       "    .dataframe tbody tr th:only-of-type {\n",
       "        vertical-align: middle;\n",
       "    }\n",
       "\n",
       "    .dataframe tbody tr th {\n",
       "        vertical-align: top;\n",
       "    }\n",
       "\n",
       "    .dataframe thead th {\n",
       "        text-align: right;\n",
       "    }\n",
       "</style>\n",
       "<table border=\"1\" class=\"dataframe\">\n",
       "  <thead>\n",
       "    <tr style=\"text-align: right;\">\n",
       "      <th></th>\n",
       "      <th>x</th>\n",
       "      <th>y</th>\n",
       "    </tr>\n",
       "  </thead>\n",
       "  <tbody>\n",
       "    <tr>\n",
       "      <th>0</th>\n",
       "      <td>1</td>\n",
       "      <td>3</td>\n",
       "    </tr>\n",
       "    <tr>\n",
       "      <th>1</th>\n",
       "      <td>2</td>\n",
       "      <td>4</td>\n",
       "    </tr>\n",
       "    <tr>\n",
       "      <th>2</th>\n",
       "      <td>3</td>\n",
       "      <td>4</td>\n",
       "    </tr>\n",
       "  </tbody>\n",
       "</table>\n",
       "</div>"
      ],
      "text/plain": [
       "   x  y\n",
       "0  1  3\n",
       "1  2  4\n",
       "2  3  4"
      ]
     },
     "execution_count": 1,
     "metadata": {},
     "output_type": "execute_result"
    }
   ],
   "source": [
    "from data_algebra.data_ops import *\n",
    "import pandas\n",
    "\n",
    "d = pandas.DataFrame({\n",
    "    'x': [1, 2, 3],\n",
    "    'y': [3, 4, 4],\n",
    "})\n",
    "\n",
    "d"
   ]
  },
  {
   "cell_type": "markdown",
   "metadata": {},
   "source": [
    "To specify adding a new derived column <code>z</code> we would write code such as the following."
   ]
  },
  {
   "cell_type": "code",
   "execution_count": 2,
   "metadata": {
    "collapsed": false,
    "jupyter": {
     "outputs_hidden": false
    },
    "pycharm": {
     "name": "#%%\n"
    }
   },
   "outputs": [
    {
     "data": {
      "text/plain": [
       "(\n",
       "    TableDescription(table_name=\"data_frame\", column_names=[\"x\", \"y\"]).extend(\n",
       "        {\"z\": \"x.mean()\"}, partition_by=[\"y\"]\n",
       "    )\n",
       ")"
      ]
     },
     "execution_count": 2,
     "metadata": {},
     "output_type": "execute_result"
    }
   ],
   "source": [
    "td = describe_table(d)\n",
    "\n",
    "a = td.extend(\n",
    "    { 'z': 'x.mean()' },\n",
    "    partition_by=['y']\n",
    ")\n",
    "\n",
    "a"
   ]
  },
  {
   "cell_type": "markdown",
   "metadata": {},
   "source": [
    "We can let this transform act on data."
   ]
  },
  {
   "cell_type": "code",
   "execution_count": 3,
   "metadata": {
    "collapsed": false,
    "jupyter": {
     "outputs_hidden": false
    },
    "pycharm": {
     "name": "#%%\n"
    }
   },
   "outputs": [
    {
     "data": {
      "text/html": [
       "<div>\n",
       "<style scoped>\n",
       "    .dataframe tbody tr th:only-of-type {\n",
       "        vertical-align: middle;\n",
       "    }\n",
       "\n",
       "    .dataframe tbody tr th {\n",
       "        vertical-align: top;\n",
       "    }\n",
       "\n",
       "    .dataframe thead th {\n",
       "        text-align: right;\n",
       "    }\n",
       "</style>\n",
       "<table border=\"1\" class=\"dataframe\">\n",
       "  <thead>\n",
       "    <tr style=\"text-align: right;\">\n",
       "      <th></th>\n",
       "      <th>x</th>\n",
       "      <th>y</th>\n",
       "      <th>z</th>\n",
       "    </tr>\n",
       "  </thead>\n",
       "  <tbody>\n",
       "    <tr>\n",
       "      <th>0</th>\n",
       "      <td>1</td>\n",
       "      <td>3</td>\n",
       "      <td>1.0</td>\n",
       "    </tr>\n",
       "    <tr>\n",
       "      <th>1</th>\n",
       "      <td>2</td>\n",
       "      <td>4</td>\n",
       "      <td>2.5</td>\n",
       "    </tr>\n",
       "    <tr>\n",
       "      <th>2</th>\n",
       "      <td>3</td>\n",
       "      <td>4</td>\n",
       "      <td>2.5</td>\n",
       "    </tr>\n",
       "  </tbody>\n",
       "</table>\n",
       "</div>"
      ],
      "text/plain": [
       "   x  y    z\n",
       "0  1  3  1.0\n",
       "1  2  4  2.5\n",
       "2  3  4  2.5"
      ]
     },
     "execution_count": 3,
     "metadata": {},
     "output_type": "execute_result"
    }
   ],
   "source": [
    "a.transform(d)"
   ]
  },
  {
   "cell_type": "markdown",
   "metadata": {},
   "source": [
    "We can compose this transform with more operations to create a composite transform."
   ]
  },
  {
   "cell_type": "code",
   "execution_count": 4,
   "metadata": {
    "collapsed": false,
    "jupyter": {
     "outputs_hidden": false
    },
    "pycharm": {
     "name": "#%%\n"
    }
   },
   "outputs": [
    {
     "data": {
      "text/plain": [
       "(\n",
       "    TableDescription(table_name=\"data_frame\", column_names=[\"x\", \"y\"])\n",
       "    .extend({\"z\": \"x.mean()\"}, partition_by=[\"y\"])\n",
       "    .extend({\"ratio\": \"y / x\"})\n",
       ")"
      ]
     },
     "execution_count": 4,
     "metadata": {},
     "output_type": "execute_result"
    }
   ],
   "source": [
    "b = a.extend({\n",
    "    'ratio': 'y / x'\n",
    "})\n",
    "\n",
    "b"
   ]
  },
  {
   "cell_type": "markdown",
   "metadata": {},
   "source": [
    "As a bonus we can also map the above transform to a <a href=\"https://en.wikipedia.org/wiki/SQL\"><code>SQL</code></a> query representing the same action in databases."
   ]
  },
  {
   "cell_type": "code",
   "execution_count": 5,
   "metadata": {
    "collapsed": false,
    "jupyter": {
     "outputs_hidden": false
    },
    "pycharm": {
     "name": "#%%\n"
    }
   },
   "outputs": [
    {
     "name": "stdout",
     "output_type": "stream",
     "text": [
      "-- data_algebra SQL https://github.com/WinVector/data_algebra\n",
      "--  dialect: SQLiteModel 1.6.4\n",
      "--       string quote: '\n",
      "--   identifier quote: \"\n",
      "SELECT  -- .extend({ 'z': 'x.mean()'}, partition_by=['y'])..extend({ 'ratio': 'y / x'})\n",
      " \"x\" ,\n",
      " \"y\" ,\n",
      " AVG(\"x\") OVER ( PARTITION BY \"y\"  )  AS \"z\" ,\n",
      " \"y\" / \"x\" AS \"ratio\"\n",
      "FROM\n",
      " \"data_frame\"\n",
      "\n"
     ]
    }
   ],
   "source": [
    "from data_algebra.SQLite import SQLiteModel\n",
    "\n",
    "print(\n",
    "    b.to_sql(db_model=SQLiteModel())\n",
    ")"
   ]
  },
  {
   "cell_type": "markdown",
   "metadata": {},
   "source": [
    "All of this is the convenient interface we expect users will want.  However, if we asked that all operators specified their expected input schema (or their domain) we have the category <code>D</code>.  We don't expect users to do such, but we have code supporting this style of notation to show that the <code>data_algebra</code> is in fact related to a nice category over schemas.\n",
    "\n",
    "Lets re-write the above queries as formal category arrows."
   ]
  },
  {
   "cell_type": "code",
   "execution_count": 6,
   "metadata": {
    "collapsed": false,
    "jupyter": {
     "outputs_hidden": false
    },
    "pycharm": {
     "name": "#%%\n"
    }
   },
   "outputs": [
    {
     "name": "stdout",
     "output_type": "stream",
     "text": [
      "[\n",
      " 'data_frame':\n",
      "  [ x, y ]\n",
      "   ->\n",
      "  [ x, y, z ]\n",
      "]\n",
      "\n"
     ]
    }
   ],
   "source": [
    "from data_algebra.arrow import *\n",
    "\n",
    "a1 = DataOpArrow(a)\n",
    "\n",
    "print(str(a1))"
   ]
  },
  {
   "cell_type": "markdown",
   "metadata": {},
   "source": [
    "The above is rendering the arrow as just its domain and co-domain. The domain and co-domains are just single-table schemas: lists of column names (possibly with column types).\n",
    "\n",
    "We can get a more detailed representation of the arrow as follows."
   ]
  },
  {
   "cell_type": "code",
   "execution_count": 7,
   "metadata": {
    "collapsed": false,
    "jupyter": {
     "outputs_hidden": false
    },
    "pycharm": {
     "name": "#%%\n"
    }
   },
   "outputs": [
    {
     "name": "stdout",
     "output_type": "stream",
     "text": [
      "DataOpArrow(\n",
      " (\n",
      "    TableDescription(table_name=\"data_frame\", column_names=[\"x\", \"y\"]).extend(\n",
      "        {\"z\": \"x.mean()\"}, partition_by=[\"y\"]\n",
      "    )\n",
      ")\n",
      ",\n",
      " free_table_key='data_frame')\n"
     ]
    }
   ],
   "source": [
    "print(a1.__repr__())"
   ]
  },
  {
   "cell_type": "markdown",
   "metadata": {},
   "source": [
    "Or we can examine the domain and co-domain directly.  Here we are using a common category theory trick: associating the object with the identity arrow of the object.  So what we are showing as domain and co-domains are actually identity arrows instead of objects."
   ]
  },
  {
   "cell_type": "code",
   "execution_count": 8,
   "metadata": {
    "collapsed": false,
    "jupyter": {
     "outputs_hidden": false
    },
    "pycharm": {
     "name": "#%%\n"
    }
   },
   "outputs": [
    {
     "data": {
      "text/plain": [
       "DataOpArrow(\n",
       " (TableDescription(table_name=\"data_frame\", column_names=[\"x\", \"y\"]))\n",
       ",\n",
       " free_table_key='data_frame')"
      ]
     },
     "execution_count": 8,
     "metadata": {},
     "output_type": "execute_result"
    }
   ],
   "source": [
    "a1.dom()"
   ]
  },
  {
   "cell_type": "code",
   "execution_count": 9,
   "metadata": {
    "collapsed": false,
    "jupyter": {
     "outputs_hidden": false
    },
    "pycharm": {
     "name": "#%%\n"
    }
   },
   "outputs": [
    {
     "data": {
      "text/plain": [
       "DataOpArrow(\n",
       " (TableDescription(table_name=\"data_frame\", column_names=[\"x\", \"y\", \"z\"]))\n",
       ",\n",
       " free_table_key='data_frame')"
      ]
     },
     "execution_count": 9,
     "metadata": {},
     "output_type": "execute_result"
    }
   ],
   "source": [
    "a1.cod()"
   ]
  },
  {
   "cell_type": "markdown",
   "metadata": {},
   "source": [
    "Now we can write our second transform step as an arrow as follows."
   ]
  },
  {
   "cell_type": "code",
   "execution_count": 10,
   "metadata": {
    "collapsed": false,
    "jupyter": {
     "outputs_hidden": false
    },
    "pycharm": {
     "name": "#%%\n"
    }
   },
   "outputs": [
    {
     "data": {
      "text/plain": [
       "DataOpArrow(\n",
       " (\n",
       "    TableDescription(table_name=\"data_frame\", column_names=[\"x\", \"y\", \"z\"]).extend(\n",
       "        {\"ratio\": \"y / x\"}\n",
       "    )\n",
       ")\n",
       ",\n",
       " free_table_key='data_frame')"
      ]
     },
     "execution_count": 10,
     "metadata": {},
     "output_type": "execute_result"
    }
   ],
   "source": [
    "a2 = DataOpArrow(a1.cod_as_table().extend({\n",
    "    'ratio': 'y / x'\n",
    "}))\n",
    "\n",
    "a2"
   ]
  },
  {
   "cell_type": "markdown",
   "metadata": {},
   "source": [
    "We took extra steps, that most users will not want to take, to wrap the second-stage (<code>a2</code>) operations as an arrow.  Being an arrow means that we have a domain and co-domain that can be used to check if operations are composable.\n",
    "\n",
    "A typical user would not work with arrow, but instead work with the data algebra which itself is a shorthand for the arrows. That is: the users may want the power of a category, but they don't want to be the one handling the extra bookkeeping. To add an extra operation a user would work directly with <code>a</code> and just write the following."
   ]
  },
  {
   "cell_type": "code",
   "execution_count": 11,
   "metadata": {
    "collapsed": false,
    "jupyter": {
     "outputs_hidden": false
    },
    "pycharm": {
     "name": "#%%\n"
    }
   },
   "outputs": [
    {
     "data": {
      "text/plain": [
       "(\n",
       "    TableDescription(table_name=\"data_frame\", column_names=[\"x\", \"y\"])\n",
       "    .extend({\"z\": \"x.mean()\"}, partition_by=[\"y\"])\n",
       "    .extend({\"ratio\": \"y / x\"})\n",
       ")"
      ]
     },
     "execution_count": 11,
     "metadata": {},
     "output_type": "execute_result"
    }
   ],
   "source": [
    "a.extend({\n",
    "    'ratio': 'y / x'\n",
    "})"
   ]
  },
  {
   "cell_type": "markdown",
   "metadata": {},
   "source": [
    "The above has substantial pre-condition checking and optimizations (as it is merely user facing shorthand for the arrows).\n",
    "\n",
    "The more cumbersome arrow notation (that requires the specification of pre-conditions) has a payoff: managed arrow composition. That is: complex operator pipelines can be directly combined.  We are not limited to extending one operation at a time.\n",
    "\n",
    "If the co-domain of arrow matches the domain of another arrow we can compose them left to right as follows."
   ]
  },
  {
   "cell_type": "code",
   "execution_count": 12,
   "metadata": {
    "collapsed": false,
    "jupyter": {
     "outputs_hidden": false
    },
    "pycharm": {
     "name": "#%%\n"
    }
   },
   "outputs": [
    {
     "data": {
      "text/plain": [
       "True"
      ]
     },
     "execution_count": 12,
     "metadata": {},
     "output_type": "execute_result"
    }
   ],
   "source": [
    "a1.cod() == a2.dom()"
   ]
  },
  {
   "cell_type": "code",
   "execution_count": 13,
   "metadata": {
    "collapsed": false,
    "jupyter": {
     "outputs_hidden": false
    },
    "pycharm": {
     "name": "#%%\n"
    }
   },
   "outputs": [
    {
     "data": {
      "text/plain": [
       "DataOpArrow(\n",
       " (\n",
       "    TableDescription(table_name=\"data_frame\", column_names=[\"x\", \"y\"])\n",
       "    .extend({\"z\": \"x.mean()\"}, partition_by=[\"y\"])\n",
       "    .extend({\"ratio\": \"y / x\"})\n",
       ")\n",
       ",\n",
       " free_table_key='data_frame')"
      ]
     },
     "execution_count": 13,
     "metadata": {},
     "output_type": "execute_result"
    }
   ],
   "source": [
    "composite = a1 >> a2\n",
    "\n",
    "composite"
   ]
  },
  {
   "cell_type": "markdown",
   "metadata": {},
   "source": [
    "And when this isn't the case, composition is not allowed.  This is exactly what we want as this means the preconditions (exactly which columns are present) for the second arrow are not supplied by the first arrow."
   ]
  },
  {
   "cell_type": "code",
   "execution_count": 14,
   "metadata": {
    "collapsed": false,
    "jupyter": {
     "outputs_hidden": false
    },
    "pycharm": {
     "name": "#%%\n"
    }
   },
   "outputs": [
    {
     "data": {
      "text/plain": [
       "False"
      ]
     },
     "execution_count": 14,
     "metadata": {},
     "output_type": "execute_result"
    }
   ],
   "source": [
    "a2.cod() == a1.dom()"
   ]
  },
  {
   "cell_type": "code",
   "execution_count": 15,
   "metadata": {
    "collapsed": false,
    "jupyter": {
     "outputs_hidden": false
    },
    "pycharm": {
     "name": "#%%\n"
    }
   },
   "outputs": [
    {
     "name": "stdout",
     "output_type": "stream",
     "text": [
      "Caught: extra incoming columns: {'z', 'ratio'}\n"
     ]
    }
   ],
   "source": [
    "try:\n",
    "    a2 >> a1\n",
    "except ValueError as e:\n",
    "    print(\"Caught: \" + str(e))"
   ]
  },
  {
   "cell_type": "markdown",
   "metadata": {},
   "source": [
    "An important point is: for this arrow notation composition is not mere list concatenation or function composition.  Here is an example that makes this clear."
   ]
  },
  {
   "cell_type": "code",
   "execution_count": 16,
   "metadata": {
    "collapsed": false,
    "jupyter": {
     "outputs_hidden": false
    },
    "pycharm": {
     "name": "#%%\n"
    }
   },
   "outputs": [
    {
     "data": {
      "text/plain": [
       "DataOpArrow(\n",
       " (\n",
       "    TableDescription(table_name=\"data_frame\", column_names=[\"x\", \"y\"]).extend(\n",
       "        {\"x\": \"x + 1\", \"y\": \"7\"}\n",
       "    )\n",
       ")\n",
       ",\n",
       " free_table_key='data_frame')"
      ]
     },
     "execution_count": 16,
     "metadata": {},
     "output_type": "execute_result"
    }
   ],
   "source": [
    "b1 = DataOpArrow(TableDescription(column_names=['x', 'y'], table_name=None). \\\n",
    "   extend({\n",
    "    'x': 'x + 1',\n",
    "    'y': 7\n",
    "}))\n",
    "\n",
    "b1"
   ]
  },
  {
   "cell_type": "code",
   "execution_count": 17,
   "metadata": {
    "collapsed": false,
    "jupyter": {
     "outputs_hidden": false
    },
    "pycharm": {
     "name": "#%%\n"
    }
   },
   "outputs": [],
   "source": [
    "b2 = DataOpArrow(TableDescription(column_names=['x', 'y'], table_name=None). \\\n",
    "   extend({\n",
    "    'y': 9\n",
    "}))"
   ]
  },
  {
   "cell_type": "markdown",
   "metadata": {},
   "source": [
    "Now watch what happens when we use \"<code>>></code>\" to compose the arrow <code>b1</code> and <code>b2</code>."
   ]
  },
  {
   "cell_type": "code",
   "execution_count": 18,
   "metadata": {
    "collapsed": false,
    "jupyter": {
     "outputs_hidden": false
    },
    "pycharm": {
     "name": "#%%\n"
    }
   },
   "outputs": [
    {
     "data": {
      "text/plain": [
       "DataOpArrow(\n",
       " (\n",
       "    TableDescription(table_name=\"data_frame\", column_names=[\"x\", \"y\"]).extend(\n",
       "        {\"x\": \"x + 1\", \"y\": \"9\"}\n",
       "    )\n",
       ")\n",
       ",\n",
       " free_table_key='data_frame')"
      ]
     },
     "execution_count": 18,
     "metadata": {},
     "output_type": "execute_result"
    }
   ],
   "source": [
    "b1 >> b2"
   ]
  },
  {
   "cell_type": "markdown",
   "metadata": {},
   "source": [
    "Notice in this special case the composition of <code>b1</code> and <code>b2</code> is a single extend node combining the operations and eliminating the dead-value <code>7</code>.  The idea is: the package has some freedom to define composition as long as it is associative.  In this case we have an optimization at the compose step so the composition is not list concatenation or function composition.\n",
    "\n",
    "As we have said, a typical user will not take the time to establish pre-conditions on steps.  So they are not so much working with arrows but with operators that can be specialized to arrows.  An actual user might build up the above pipeline as follows."
   ]
  },
  {
   "cell_type": "code",
   "execution_count": 19,
   "metadata": {
    "collapsed": false,
    "jupyter": {
     "outputs_hidden": false
    },
    "pycharm": {
     "name": "#%%\n"
    }
   },
   "outputs": [
    {
     "data": {
      "text/plain": [
       "(\n",
       "    TableDescription(table_name=\"data_frame\", column_names=[\"x\", \"y\"]).extend(\n",
       "        {\"x\": \"x + 1\", \"y\": \"9\"}\n",
       "    )\n",
       ")"
      ]
     },
     "execution_count": 19,
     "metadata": {},
     "output_type": "execute_result"
    }
   ],
   "source": [
    "\n",
    "TableDescription(column_names=['x', 'y'], table_name=None). \\\n",
    "   extend({\n",
    "    'x': 'x + 1',\n",
    "    'y': 7\n",
    "    }). \\\n",
    "   extend({\n",
    "    'y': 9\n",
    "    })\n",
    "    "
   ]
  },
  {
   "cell_type": "markdown",
   "metadata": {},
   "source": [
    "We <a href=\"http://www.win-vector.com/blog/2019/12/what-is-new-for-rquery-december-2019/\">recently</a> demonstrated this sort of optimization in the <code>R</code> <code>rquery</code> package.\n",
    "\n",
    "In the above example the user still benefits from the category theory design. As they composed left to right the system was able to add in the pre-conditions for them.  The user only needs to set pre-conditions for non-trivial right-hand side pipelines.\n",
    "\n",
    "<h2>Conclusion</h2>\n",
    "\n",
    "The advantage the <code>data_algebra</code> package gets from category theory is: it lets us design the package action (how the package works on data) somewhat independently from operator composition. This gives us a lot more design room and power than a strict function composition or list concatenation theory would give us.\n"
   ]
  }
 ],
 "metadata": {
  "kernelspec": {
   "display_name": "data_algebra_dev_env",
   "language": "python",
   "name": "python3"
  },
  "language_info": {
   "codemirror_mode": {
    "name": "ipython",
    "version": 3
   },
   "file_extension": ".py",
   "mimetype": "text/x-python",
   "name": "python",
   "nbconvert_exporter": "python",
   "pygments_lexer": "ipython3",
   "version": "3.10.8"
  },
  "pycharm": {
   "stem_cell": {
    "cell_type": "raw",
    "metadata": {
     "collapsed": false
    },
    "source": []
   }
  },
  "vscode": {
   "interpreter": {
    "hash": "78f2e370b2228f20769c50722e4fc1c000bb9a3ed5301a20de3a1aec2b74b543"
   }
  }
 },
 "nbformat": 4,
 "nbformat_minor": 4
}
