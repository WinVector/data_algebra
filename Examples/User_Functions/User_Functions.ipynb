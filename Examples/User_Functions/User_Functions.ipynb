{
 "cells": [
  {
   "cell_type": "code",
   "execution_count": 1,
   "metadata": {
    "collapsed": true
   },
   "outputs": [],
   "source": [
    "\n",
    "import sqlite3\n",
    "\n",
    "import numpy\n",
    "import pandas\n",
    "\n",
    "from data_algebra.data_ops import *\n",
    "import data_algebra.SQLite\n",
    "\n",
    "db_model = data_algebra.SQLite.SQLiteModel()\n",
    "\n",
    "# some example data\n",
    "d = pandas.DataFrame({\n",
    "    'ID': [1, 1, 2, 3, 4, 4, 4, 4, 5, 5, 6],\n",
    "    'OP': ['A', 'B', 'A', 'D', 'C', 'A', 'D', 'B', 'A', 'B', 'B'],\n",
    "    'DATE': ['2001-01-02 00:00:00', '2015-04-25 00:00:00', '2000-04-01 00:00:00',\n",
    "             '2014-04-07 00:00:00', '2012-12-01 00:00:00', '2005-06-16 00:00:00',\n",
    "             '2009-01-20 00:00:00', '2009-01-20 00:00:00', '2010-10-10 00:00:00',\n",
    "             '2003-11-09 00:00:00', '2004-01-09 00:00:00'],\n",
    "    })\n",
    "\n",
    "d\n",
    "\n",
    "\n",
    "def trim_date_f(x):\n",
    "   return x.str.slice(start=0, stop=10)\n",
    "\n",
    "trim_date = user_fn(trim_date_f,\n",
    "                   'DATE',\n",
    "                  sql_name='SUBSTR', sql_suffix=', 1, 10')\n"
   ]
  },
  {
   "cell_type": "code",
   "execution_count": 2,
   "outputs": [
    {
     "name": "stdout",
     "output_type": "stream",
     "text": [
      "TableDescription(\n",
      " table_name='d',\n",
      " column_names=[\n",
      "   'ID', 'OP', 'DATE']) .\\\n",
      "   extend({\n",
      "    'date_trimmed': trim_date_f(DATE)})\n"
     ]
    }
   ],
   "source": [
    "ops = describe_table(d, table_name='d'). \\\n",
    "    extend({'date_trimmed': trim_date})\n",
    "\n",
    "print(ops)"
   ],
   "metadata": {
    "collapsed": false,
    "pycharm": {
     "name": "#%%\n"
    }
   }
  },
  {
   "cell_type": "code",
   "execution_count": 3,
   "outputs": [
    {
     "data": {
      "text/plain": "    ID OP                 DATE date_trimmed\n0    1  A  2001-01-02 00:00:00   2001-01-02\n1    1  B  2015-04-25 00:00:00   2015-04-25\n2    2  A  2000-04-01 00:00:00   2000-04-01\n3    3  D  2014-04-07 00:00:00   2014-04-07\n4    4  C  2012-12-01 00:00:00   2012-12-01\n5    4  A  2005-06-16 00:00:00   2005-06-16\n6    4  D  2009-01-20 00:00:00   2009-01-20\n7    4  B  2009-01-20 00:00:00   2009-01-20\n8    5  A  2010-10-10 00:00:00   2010-10-10\n9    5  B  2003-11-09 00:00:00   2003-11-09\n10   6  B  2004-01-09 00:00:00   2004-01-09",
      "text/html": "<div>\n<style scoped>\n    .dataframe tbody tr th:only-of-type {\n        vertical-align: middle;\n    }\n\n    .dataframe tbody tr th {\n        vertical-align: top;\n    }\n\n    .dataframe thead th {\n        text-align: right;\n    }\n</style>\n<table border=\"1\" class=\"dataframe\">\n  <thead>\n    <tr style=\"text-align: right;\">\n      <th></th>\n      <th>ID</th>\n      <th>OP</th>\n      <th>DATE</th>\n      <th>date_trimmed</th>\n    </tr>\n  </thead>\n  <tbody>\n    <tr>\n      <th>0</th>\n      <td>1</td>\n      <td>A</td>\n      <td>2001-01-02 00:00:00</td>\n      <td>2001-01-02</td>\n    </tr>\n    <tr>\n      <th>1</th>\n      <td>1</td>\n      <td>B</td>\n      <td>2015-04-25 00:00:00</td>\n      <td>2015-04-25</td>\n    </tr>\n    <tr>\n      <th>2</th>\n      <td>2</td>\n      <td>A</td>\n      <td>2000-04-01 00:00:00</td>\n      <td>2000-04-01</td>\n    </tr>\n    <tr>\n      <th>3</th>\n      <td>3</td>\n      <td>D</td>\n      <td>2014-04-07 00:00:00</td>\n      <td>2014-04-07</td>\n    </tr>\n    <tr>\n      <th>4</th>\n      <td>4</td>\n      <td>C</td>\n      <td>2012-12-01 00:00:00</td>\n      <td>2012-12-01</td>\n    </tr>\n    <tr>\n      <th>5</th>\n      <td>4</td>\n      <td>A</td>\n      <td>2005-06-16 00:00:00</td>\n      <td>2005-06-16</td>\n    </tr>\n    <tr>\n      <th>6</th>\n      <td>4</td>\n      <td>D</td>\n      <td>2009-01-20 00:00:00</td>\n      <td>2009-01-20</td>\n    </tr>\n    <tr>\n      <th>7</th>\n      <td>4</td>\n      <td>B</td>\n      <td>2009-01-20 00:00:00</td>\n      <td>2009-01-20</td>\n    </tr>\n    <tr>\n      <th>8</th>\n      <td>5</td>\n      <td>A</td>\n      <td>2010-10-10 00:00:00</td>\n      <td>2010-10-10</td>\n    </tr>\n    <tr>\n      <th>9</th>\n      <td>5</td>\n      <td>B</td>\n      <td>2003-11-09 00:00:00</td>\n      <td>2003-11-09</td>\n    </tr>\n    <tr>\n      <th>10</th>\n      <td>6</td>\n      <td>B</td>\n      <td>2004-01-09 00:00:00</td>\n      <td>2004-01-09</td>\n    </tr>\n  </tbody>\n</table>\n</div>"
     },
     "execution_count": 3,
     "metadata": {},
     "output_type": "execute_result"
    }
   ],
   "source": [
    "ops.transform(d)"
   ],
   "metadata": {
    "collapsed": false,
    "pycharm": {
     "name": "#%%\n"
    }
   }
  },
  {
   "cell_type": "code",
   "execution_count": 4,
   "outputs": [
    {
     "data": {
      "text/plain": "'SELECT SUBSTR(\"DATE\", 1, 10) AS \"date_trimmed\", \"DATE\", \"ID\", \"OP\" FROM \"d\"'"
     },
     "execution_count": 4,
     "metadata": {},
     "output_type": "execute_result"
    }
   ],
   "source": [
    "q = ops.to_sql(db_model)\n",
    "q"
   ],
   "metadata": {
    "collapsed": false,
    "pycharm": {
     "name": "#%%\n"
    }
   }
  },
  {
   "cell_type": "code",
   "execution_count": 5,
   "outputs": [],
   "source": [
    "con = sqlite3.connect(':memory:')"
   ],
   "metadata": {
    "collapsed": false,
    "pycharm": {
     "name": "#%%\n"
    }
   }
  },
  {
   "cell_type": "code",
   "execution_count": 6,
   "outputs": [],
   "source": [
    "d.to_sql(name='d', con=con)"
   ],
   "metadata": {
    "collapsed": false,
    "pycharm": {
     "name": "#%%\n"
    }
   }
  },
  {
   "cell_type": "code",
   "execution_count": 7,
   "outputs": [
    {
     "data": {
      "text/plain": "   date_trimmed                 DATE  ID OP\n0    2001-01-02  2001-01-02 00:00:00   1  A\n1    2015-04-25  2015-04-25 00:00:00   1  B\n2    2000-04-01  2000-04-01 00:00:00   2  A\n3    2014-04-07  2014-04-07 00:00:00   3  D\n4    2012-12-01  2012-12-01 00:00:00   4  C\n5    2005-06-16  2005-06-16 00:00:00   4  A\n6    2009-01-20  2009-01-20 00:00:00   4  D\n7    2009-01-20  2009-01-20 00:00:00   4  B\n8    2010-10-10  2010-10-10 00:00:00   5  A\n9    2003-11-09  2003-11-09 00:00:00   5  B\n10   2004-01-09  2004-01-09 00:00:00   6  B",
      "text/html": "<div>\n<style scoped>\n    .dataframe tbody tr th:only-of-type {\n        vertical-align: middle;\n    }\n\n    .dataframe tbody tr th {\n        vertical-align: top;\n    }\n\n    .dataframe thead th {\n        text-align: right;\n    }\n</style>\n<table border=\"1\" class=\"dataframe\">\n  <thead>\n    <tr style=\"text-align: right;\">\n      <th></th>\n      <th>date_trimmed</th>\n      <th>DATE</th>\n      <th>ID</th>\n      <th>OP</th>\n    </tr>\n  </thead>\n  <tbody>\n    <tr>\n      <th>0</th>\n      <td>2001-01-02</td>\n      <td>2001-01-02 00:00:00</td>\n      <td>1</td>\n      <td>A</td>\n    </tr>\n    <tr>\n      <th>1</th>\n      <td>2015-04-25</td>\n      <td>2015-04-25 00:00:00</td>\n      <td>1</td>\n      <td>B</td>\n    </tr>\n    <tr>\n      <th>2</th>\n      <td>2000-04-01</td>\n      <td>2000-04-01 00:00:00</td>\n      <td>2</td>\n      <td>A</td>\n    </tr>\n    <tr>\n      <th>3</th>\n      <td>2014-04-07</td>\n      <td>2014-04-07 00:00:00</td>\n      <td>3</td>\n      <td>D</td>\n    </tr>\n    <tr>\n      <th>4</th>\n      <td>2012-12-01</td>\n      <td>2012-12-01 00:00:00</td>\n      <td>4</td>\n      <td>C</td>\n    </tr>\n    <tr>\n      <th>5</th>\n      <td>2005-06-16</td>\n      <td>2005-06-16 00:00:00</td>\n      <td>4</td>\n      <td>A</td>\n    </tr>\n    <tr>\n      <th>6</th>\n      <td>2009-01-20</td>\n      <td>2009-01-20 00:00:00</td>\n      <td>4</td>\n      <td>D</td>\n    </tr>\n    <tr>\n      <th>7</th>\n      <td>2009-01-20</td>\n      <td>2009-01-20 00:00:00</td>\n      <td>4</td>\n      <td>B</td>\n    </tr>\n    <tr>\n      <th>8</th>\n      <td>2010-10-10</td>\n      <td>2010-10-10 00:00:00</td>\n      <td>5</td>\n      <td>A</td>\n    </tr>\n    <tr>\n      <th>9</th>\n      <td>2003-11-09</td>\n      <td>2003-11-09 00:00:00</td>\n      <td>5</td>\n      <td>B</td>\n    </tr>\n    <tr>\n      <th>10</th>\n      <td>2004-01-09</td>\n      <td>2004-01-09 00:00:00</td>\n      <td>6</td>\n      <td>B</td>\n    </tr>\n  </tbody>\n</table>\n</div>"
     },
     "execution_count": 7,
     "metadata": {},
     "output_type": "execute_result"
    }
   ],
   "source": [
    "res_db = pandas.read_sql(q, con=con)\n",
    "res_db"
   ],
   "metadata": {
    "collapsed": false,
    "pycharm": {
     "name": "#%%\n"
    }
   }
  },
  {
   "cell_type": "code",
   "execution_count": 8,
   "outputs": [],
   "source": [
    "con.close()\n"
   ],
   "metadata": {
    "collapsed": false,
    "pycharm": {
     "name": "#%%\n"
    }
   }
  }
 ],
 "metadata": {
  "kernelspec": {
   "display_name": "Python 3",
   "language": "python",
   "name": "python3"
  },
  "language_info": {
   "codemirror_mode": {
    "name": "ipython",
    "version": 2
   },
   "file_extension": ".py",
   "mimetype": "text/x-python",
   "name": "python",
   "nbconvert_exporter": "python",
   "pygments_lexer": "ipython2",
   "version": "2.7.6"
  }
 },
 "nbformat": 4,
 "nbformat_minor": 0
}