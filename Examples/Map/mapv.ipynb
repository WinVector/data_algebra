{
 "cells": [
  {
   "cell_type": "markdown",
   "source": [
    "Mapping values is a central task in data processing. The most natural way to do this in SQL is with a join. However, one can also use a SQL CASE WHEN statement when there are not too many values.  [Data algebra](https://github.com/WinVector/data_algebra) version 1.0.1 is introducing a new `.mapv()` operator for this purpose.\n",
    "\n",
    "Let's set up an example."
   ],
   "metadata": {
    "collapsed": false,
    "pycharm": {
     "name": "#%% md\n"
    }
   }
  },
  {
   "cell_type": "code",
   "execution_count": 6,
   "metadata": {
    "collapsed": true
   },
   "outputs": [
    {
     "data": {
      "text/plain": "      x\n0     a\n1     b\n2     c\n3  None\n4   NaN\n5     b",
      "text/html": "<div>\n<style scoped>\n    .dataframe tbody tr th:only-of-type {\n        vertical-align: middle;\n    }\n\n    .dataframe tbody tr th {\n        vertical-align: top;\n    }\n\n    .dataframe thead th {\n        text-align: right;\n    }\n</style>\n<table border=\"1\" class=\"dataframe\">\n  <thead>\n    <tr style=\"text-align: right;\">\n      <th></th>\n      <th>x</th>\n    </tr>\n  </thead>\n  <tbody>\n    <tr>\n      <th>0</th>\n      <td>a</td>\n    </tr>\n    <tr>\n      <th>1</th>\n      <td>b</td>\n    </tr>\n    <tr>\n      <th>2</th>\n      <td>c</td>\n    </tr>\n    <tr>\n      <th>3</th>\n      <td>None</td>\n    </tr>\n    <tr>\n      <th>4</th>\n      <td>NaN</td>\n    </tr>\n    <tr>\n      <th>5</th>\n      <td>b</td>\n    </tr>\n  </tbody>\n</table>\n</div>"
     },
     "execution_count": 6,
     "metadata": {},
     "output_type": "execute_result"
    }
   ],
   "source": [
    "import numpy as np\n",
    "import pandas as pd\n",
    "\n",
    "from data_algebra.data_ops import *\n",
    "import data_algebra.SQLite\n",
    "import data_algebra.test_util\n",
    "\n",
    "d = pd.DataFrame({\n",
    "        'x': ['a', 'b', 'c', None, np.nan, 'b'],\n",
    "    })\n",
    "\n",
    "d"
   ]
  },
  {
   "cell_type": "markdown",
   "source": [
    "The task is re-map the string-levels of `x` to values through a Python dictionary.\n",
    "Let's say our desired mapping is as follows."
   ],
   "metadata": {
    "collapsed": false,
    "pycharm": {
     "name": "#%% md\n"
    }
   }
  },
  {
   "cell_type": "code",
   "execution_count": 7,
   "outputs": [],
   "source": [
    "map_dict = {\"a\": 1.0, \"b\": 2.0, \"q\": -3}\n",
    "default_value = 0.5"
   ],
   "metadata": {
    "collapsed": false,
    "pycharm": {
     "name": "#%%\n"
    }
   }
  },
  {
   "cell_type": "markdown",
   "source": [
    "We can use these values with the `.mapv()` method, which expects the mapping dictionary as its first argument, and a default value for unmatched items as the second."
   ],
   "metadata": {
    "collapsed": false,
    "pycharm": {
     "name": "#%% md\n"
    }
   }
  },
  {
   "cell_type": "code",
   "execution_count": 8,
   "outputs": [
    {
     "data": {
      "text/plain": "(\n    TableDescription(table_name=\"d\", column_names=[\"x\"]).extend(\n        {\"x_mapped\": \"x.mapv({'a': 1.0, 'b': 2.0, 'q': -3}, 0.5)\"}\n    )\n)"
     },
     "execution_count": 8,
     "metadata": {},
     "output_type": "execute_result"
    }
   ],
   "source": [
    "ops = (\n",
    "    data(d=d)\n",
    "        .extend({\n",
    "            'x_mapped': f'x.mapv({map_dict.__repr__()}, {default_value})'\n",
    "            })\n",
    "    )\n",
    "\n",
    "ops"
   ],
   "metadata": {
    "collapsed": false,
    "pycharm": {
     "name": "#%%\n"
    }
   }
  },
  {
   "cell_type": "markdown",
   "source": [
    "This transformation can be be applied to Pandas data frames."
   ],
   "metadata": {
    "collapsed": false,
    "pycharm": {
     "name": "#%% md\n"
    }
   }
  },
  {
   "cell_type": "code",
   "execution_count": 9,
   "outputs": [
    {
     "data": {
      "text/plain": "      x  x_mapped\n0     a       1.0\n1     b       2.0\n2     c       0.5\n3  None       0.5\n4   NaN       0.5\n5     b       2.0",
      "text/html": "<div>\n<style scoped>\n    .dataframe tbody tr th:only-of-type {\n        vertical-align: middle;\n    }\n\n    .dataframe tbody tr th {\n        vertical-align: top;\n    }\n\n    .dataframe thead th {\n        text-align: right;\n    }\n</style>\n<table border=\"1\" class=\"dataframe\">\n  <thead>\n    <tr style=\"text-align: right;\">\n      <th></th>\n      <th>x</th>\n      <th>x_mapped</th>\n    </tr>\n  </thead>\n  <tbody>\n    <tr>\n      <th>0</th>\n      <td>a</td>\n      <td>1.0</td>\n    </tr>\n    <tr>\n      <th>1</th>\n      <td>b</td>\n      <td>2.0</td>\n    </tr>\n    <tr>\n      <th>2</th>\n      <td>c</td>\n      <td>0.5</td>\n    </tr>\n    <tr>\n      <th>3</th>\n      <td>None</td>\n      <td>0.5</td>\n    </tr>\n    <tr>\n      <th>4</th>\n      <td>NaN</td>\n      <td>0.5</td>\n    </tr>\n    <tr>\n      <th>5</th>\n      <td>b</td>\n      <td>2.0</td>\n    </tr>\n  </tbody>\n</table>\n</div>"
     },
     "execution_count": 9,
     "metadata": {},
     "output_type": "execute_result"
    }
   ],
   "source": [
    "transformed = ops.transform(d)\n",
    "\n",
    "transformed"
   ],
   "metadata": {
    "collapsed": false,
    "pycharm": {
     "name": "#%%\n"
    }
   }
  },
  {
   "cell_type": "code",
   "execution_count": 10,
   "outputs": [],
   "source": [
    "expect = pd.DataFrame({\n",
    "    'x': ['a', 'b', 'c', None, None, 'b'],\n",
    "    'x_mapped': [1.0, 2.0, 0.5, 0.5, 0.5, 2.0],\n",
    "    })\n",
    "assert data_algebra.test_util.equivalent_frames(transformed, expect)"
   ],
   "metadata": {
    "collapsed": false,
    "pycharm": {
     "name": "#%%\n"
    }
   }
  },
  {
   "cell_type": "markdown",
   "source": [
    "Or, as always, we can convert the transformation to SQL for use in databases.\n"
   ],
   "metadata": {
    "collapsed": false,
    "pycharm": {
     "name": "#%% md\n"
    }
   }
  },
  {
   "cell_type": "code",
   "execution_count": 11,
   "outputs": [
    {
     "name": "stdout",
     "output_type": "stream",
     "text": [
      "-- data_algebra SQL https://github.com/WinVector/data_algebra\n",
      "--  dialect: SQLiteModel\n",
      "--       string quote: '\n",
      "--   identifier quote: \"\n",
      "SELECT  -- .extend({ 'x_mapped': \"x.mapv({'a': 1.0, 'b': 2.0, 'q': -3}, 0.5)\"})\n",
      " \"x\" ,\n",
      " CASE \"x\" WHEN 'a' THEN 1.0 WHEN 'b' THEN 2.0 WHEN 'q' THEN -3 ELSE 0.5 END AS \"x_mapped\"\n",
      "FROM\n",
      " \"d\"\n",
      "\n"
     ]
    }
   ],
   "source": [
    "db_model = data_algebra.SQLite.SQLiteModel()\n",
    "sql_str = db_model.to_sql(ops)\n",
    "\n",
    "print(sql_str)\n"
   ],
   "metadata": {
    "collapsed": false,
    "pycharm": {
     "name": "#%%\n"
    }
   }
  },
  {
   "cell_type": "markdown",
   "source": [
    "This function is now an option for [Python vtreat](https://github.com/WinVector/pyvtreat)'s [transform export](https://github.com/WinVector/pyvtreat/blob/main/Examples/Database/vtreat_db_adapter.ipynb)."
   ],
   "metadata": {
    "collapsed": false,
    "pycharm": {
     "name": "#%% md\n"
    }
   }
  }
 ],
 "metadata": {
  "kernelspec": {
   "display_name": "Python 3",
   "language": "python",
   "name": "python3"
  },
  "language_info": {
   "codemirror_mode": {
    "name": "ipython",
    "version": 2
   },
   "file_extension": ".py",
   "mimetype": "text/x-python",
   "name": "python",
   "nbconvert_exporter": "python",
   "pygments_lexer": "ipython2",
   "version": "2.7.6"
  }
 },
 "nbformat": 4,
 "nbformat_minor": 0
}