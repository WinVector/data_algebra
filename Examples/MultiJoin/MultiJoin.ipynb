{
 "cells": [
  {
   "cell_type": "code",
   "execution_count": 1,
   "metadata": {
    "collapsed": true
   },
   "outputs": [],
   "source": [
    "import pandas as pd\n",
    "import numpy as np\n",
    "from data_algebra.data_ops import descr\n",
    "from data_algebra.solutions import def_multi_column_map\n",
    "import data_algebra.test_util\n",
    "import data_algebra.BigQuery"
   ]
  },
  {
   "cell_type": "code",
   "execution_count": 1,
   "outputs": [],
   "source": [],
   "metadata": {
    "collapsed": false,
    "pycharm": {
     "name": "#%%\n"
    }
   }
  },
  {
   "cell_type": "code",
   "execution_count": 2,
   "outputs": [
    {
     "data": {
      "text/plain": "   id   va   vb\n0   1  1.0  3.0\n1   2  2.0  3.0\n2   3  1.0  NaN\n3   4  NaN  4.0",
      "text/html": "<div>\n<style scoped>\n    .dataframe tbody tr th:only-of-type {\n        vertical-align: middle;\n    }\n\n    .dataframe tbody tr th {\n        vertical-align: top;\n    }\n\n    .dataframe thead th {\n        text-align: right;\n    }\n</style>\n<table border=\"1\" class=\"dataframe\">\n  <thead>\n    <tr style=\"text-align: right;\">\n      <th></th>\n      <th>id</th>\n      <th>va</th>\n      <th>vb</th>\n    </tr>\n  </thead>\n  <tbody>\n    <tr>\n      <th>0</th>\n      <td>1</td>\n      <td>1.0</td>\n      <td>3.0</td>\n    </tr>\n    <tr>\n      <th>1</th>\n      <td>2</td>\n      <td>2.0</td>\n      <td>3.0</td>\n    </tr>\n    <tr>\n      <th>2</th>\n      <td>3</td>\n      <td>1.0</td>\n      <td>NaN</td>\n    </tr>\n    <tr>\n      <th>3</th>\n      <td>4</td>\n      <td>NaN</td>\n      <td>4.0</td>\n    </tr>\n  </tbody>\n</table>\n</div>"
     },
     "execution_count": 2,
     "metadata": {},
     "output_type": "execute_result"
    }
   ],
   "source": [
    "d = pd.DataFrame({\n",
    "    'id': [1, 2, 3, 4],\n",
    "    'va': ['a', 'b', 'a', 'c'],\n",
    "    'vb': ['e', 'e', 'g', 'f'],\n",
    "})\n",
    "\n",
    "m = pd.DataFrame({\n",
    "    'column_name': ['va', 'va', 'vb', 'vb'],\n",
    "    'column_value': ['a', 'b', 'e', 'f'],\n",
    "    'mapped_value': [1., 2., 3., 4.],\n",
    "})\n",
    "\n",
    "row_keys = ['id']\n",
    "cols_to_map = ['va', 'vb']\n",
    "ops = def_multi_column_map(\n",
    "    descr(d=d),\n",
    "    mapping_table=descr(m=m),\n",
    "    row_keys=row_keys,\n",
    "    cols_to_map=cols_to_map,\n",
    ")\n",
    "res = ops.eval({'d': d, 'm': m})\n",
    "\n",
    "res"
   ],
   "metadata": {
    "collapsed": false,
    "pycharm": {
     "name": "#%%\n"
    }
   }
  },
  {
   "cell_type": "code",
   "execution_count": 3,
   "outputs": [],
   "source": [
    "expect = pd.DataFrame({\n",
    "    'id': [1, 2, 3, 4],\n",
    "    'va': [1.0, 2.0, 1.0, np.nan],\n",
    "    'vb': [3.0, 3.0, np.nan, 4.0],\n",
    "})\n",
    "\n",
    "assert data_algebra.test_util.equivalent_frames(res, expect)"
   ],
   "metadata": {
    "collapsed": false,
    "pycharm": {
     "name": "#%%\n"
    }
   }
  },
  {
   "cell_type": "code",
   "execution_count": 4,
   "outputs": [
    {
     "name": "stdout",
     "output_type": "stream",
     "text": [
      "-- data_algebra SQL https://github.com/WinVector/data_algebra\n",
      "--  dialect: BigQueryModel\n",
      "--       string quote: \"\n",
      "--   identifier quote: `\n",
      "WITH\n",
      " `convert_records_blocks_out_0` AS (\n",
      "  -- convert records blocks out\n",
      "  SELECT\n",
      "     a.`id` AS `id`,\n",
      "     b.`column_name` AS `column_name`,\n",
      "     CASE   WHEN CAST(b.`column_value` AS STRING) = \"va\" THEN a.`va`   WHEN CAST(b.`column_value` AS STRING) = \"vb\" THEN a.`vb`  ELSE NULL END AS `column_value`\n",
      "   FROM ( SELECT * FROM\n",
      "   `d`\n",
      "    ) a\n",
      "   CROSS JOIN (\n",
      "    SELECT\n",
      "     *\n",
      "    FROM (\n",
      "        (SELECT \"va\" AS `column_name`, \"va\" AS `column_value`)\n",
      "        UNION ALL (SELECT \"vb\" AS `column_name`, \"vb\" AS `column_value`)\n",
      "    ) `table_values`\n",
      "    ) b\n",
      "    ORDER BY\n",
      "    a.`id`,\n",
      "    b.`column_name`\n",
      " ) ,\n",
      " `natural_join_1` AS (\n",
      "  SELECT  -- _0..natural_join(b= _1, by=['column_name', 'column_value'], jointype='LEFT')\n",
      "   COALESCE(`convert_records_blocks_out_0`.`column_name`, `m`.`column_name`) AS `column_name` ,\n",
      "   COALESCE(`convert_records_blocks_out_0`.`column_value`, `m`.`column_value`) AS `column_value` ,\n",
      "   `id` ,\n",
      "   `mapped_value`\n",
      "  FROM\n",
      "  (\n",
      "   `convert_records_blocks_out_0`\n",
      "  LEFT JOIN\n",
      "   `m`\n",
      "  ON (\n",
      "   `convert_records_blocks_out_0`.`column_name` = `m`.`column_name`  AND\n",
      "   `convert_records_blocks_out_0`.`column_value` = `m`.`column_value`\n",
      "  )\n",
      "  )\n",
      " )\n",
      "-- convert records blocks in\n",
      "SELECT\n",
      "   `id` AS `id`,\n",
      "   MAX(CASE WHEN  ( CAST(`column_name` AS STRING) = \"va\" )  THEN `mapped_value` ELSE NULL END) AS `va`,\n",
      "   MAX(CASE WHEN  ( CAST(`column_name` AS STRING) = \"vb\" )  THEN `mapped_value` ELSE NULL END) AS `vb`\n",
      " FROM ( SELECT * FROM\n",
      " `natural_join_1`\n",
      "  ) a\n",
      " GROUP BY\n",
      "  `id`\n",
      " ORDER BY\n",
      "  `id`\n",
      "\n"
     ]
    }
   ],
   "source": [
    "db_model = data_algebra.BigQuery.BigQueryModel()\n",
    "print(db_model.to_sql(ops))"
   ],
   "metadata": {
    "collapsed": false,
    "pycharm": {
     "name": "#%%\n"
    }
   }
  }
 ],
 "metadata": {
  "kernelspec": {
   "display_name": "Python 3",
   "language": "python",
   "name": "python3"
  },
  "language_info": {
   "codemirror_mode": {
    "name": "ipython",
    "version": 2
   },
   "file_extension": ".py",
   "mimetype": "text/x-python",
   "name": "python",
   "nbconvert_exporter": "python",
   "pygments_lexer": "ipython2",
   "version": "2.7.6"
  }
 },
 "nbformat": 4,
 "nbformat_minor": 0
}