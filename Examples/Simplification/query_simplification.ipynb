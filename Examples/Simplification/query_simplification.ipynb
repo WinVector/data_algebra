{
 "cells": [
  {
   "cell_type": "markdown",
   "metadata": {
    "collapsed": true,
    "pycharm": {
     "name": "#%% md\n"
    }
   },
   "source": [
    "[`data_algebra`](https://github.com/WinVector/data_algebra) version of this [`rquery` example](http://www.win-vector.com/blog/2019/12/what-is-new-for-rquery-december-2019/).\n",
    "\n",
    "First lets import our modules and set up our operator pipeline."
   ]
  },
  {
   "cell_type": "code",
   "execution_count": 15,
   "outputs": [
    {
     "name": "stdout",
     "text": [
      "TableDescription(\n",
      " table_name='d',\n",
      " column_names=[\n",
      "   'col1', 'col2', 'col3']) .\\\n",
      "   extend({\n",
      "    'sum23': 'col2 + col3',\n",
      "    'x': '5'}) .\\\n",
      "   select_columns(['x', 'sum23'])\n"
     ],
     "output_type": "stream"
    }
   ],
   "source": [
    "import sqlite3\n",
    "\n",
    "import pandas\n",
    "\n",
    "from data_algebra.data_ops import *\n",
    "import data_algebra.PostgreSQL\n",
    "import data_algebra.SQLite\n",
    "\n",
    "ops = TableDescription(\n",
    "    table_name='d', \n",
    "    column_names=['col1', 'col2', 'col3']). \\\n",
    "    extend({\n",
    "        'sum23': 'col2 + col3'\n",
    "    }). \\\n",
    "    extend({\n",
    "        'x': 1\n",
    "    }). \\\n",
    "        extend({\n",
    "        'x': 2\n",
    "    }). \\\n",
    "        extend({\n",
    "        'x': 3\n",
    "    }). \\\n",
    "        extend({\n",
    "        'x': 4\n",
    "    }). \\\n",
    "        extend({\n",
    "        'x': 5\n",
    "    }). \\\n",
    "    select_columns(['x', 'sum23'])\n",
    "\n",
    "\n",
    "print(ops)\n"
   ],
   "metadata": {
    "collapsed": false,
    "pycharm": {
     "name": "#%%\n",
     "is_executing": false
    }
   }
  },
  {
   "cell_type": "markdown",
   "source": [
    "Notice even setting up the pipeline involves some optimizations.  This is simple feature of the `data_algebra`, \n",
    "made safe and easy to manage by the [category-theoretical design](http://www.win-vector.com/blog/2019/12/data_algebra-rquery-as-a-category-over-table-descriptions/).\n",
    "\n",
    "These operations can be applied to data."
   ],
   "metadata": {
    "collapsed": false,
    "pycharm": {
     "name": "#%% md\n"
    }
   }
  },
  {
   "cell_type": "code",
   "execution_count": 16,
   "outputs": [
    {
     "data": {
      "text/plain": "   x  sum23\n0  5      7\n1  5      9",
      "text/html": "<div>\n<style scoped>\n    .dataframe tbody tr th:only-of-type {\n        vertical-align: middle;\n    }\n\n    .dataframe tbody tr th {\n        vertical-align: top;\n    }\n\n    .dataframe thead th {\n        text-align: right;\n    }\n</style>\n<table border=\"1\" class=\"dataframe\">\n  <thead>\n    <tr style=\"text-align: right;\">\n      <th></th>\n      <th>x</th>\n      <th>sum23</th>\n    </tr>\n  </thead>\n  <tbody>\n    <tr>\n      <th>0</th>\n      <td>5</td>\n      <td>7</td>\n    </tr>\n    <tr>\n      <th>1</th>\n      <td>5</td>\n      <td>9</td>\n    </tr>\n  </tbody>\n</table>\n</div>"
     },
     "metadata": {},
     "output_type": "execute_result",
     "execution_count": 16
    }
   ],
   "source": [
    "d = pandas.DataFrame({\n",
    "    'col1': [1, 2],\n",
    "    'col2': [3, 4],\n",
    "    'col3': [4, 5]\n",
    "})\n",
    "\n",
    "ops.transform(d)"
   ],
   "metadata": {
    "collapsed": false,
    "pycharm": {
     "name": "#%%\n",
     "is_executing": false
    }
   }
  },
  {
   "cell_type": "markdown",
   "source": [
    "We are working on adaptors for near-`Pandas` systems such as `modin` and others.\n",
    "\n",
    "We can also convert the query into `SQL` query."
   ],
   "metadata": {
    "collapsed": false
   }
  },
  {
   "cell_type": "code",
   "execution_count": 17,
   "outputs": [
    {
     "name": "stdout",
     "text": [
      "SELECT \"sum23\",\n",
      "       \"x\"\n",
      "FROM\n",
      "  (SELECT \"col2\" + \"col3\" AS \"sum23\",\n",
      "          5 AS \"x\"\n",
      "   FROM\n",
      "     (SELECT \"col2\",\n",
      "             \"col3\"\n",
      "      FROM \"d\") \"sq_0\") \"sq_1\"\n"
     ],
     "output_type": "stream"
    }
   ],
   "source": [
    "pg_model = data_algebra.PostgreSQL.PostgreSQLModel()\n",
    "\n",
    "print(ops.to_sql(db_model=pg_model, pretty=True))"
   ],
   "metadata": {
    "collapsed": false,
    "pycharm": {
     "name": "#%%\n",
     "is_executing": false
    }
   }
  },
  {
   "cell_type": "markdown",
   "source": [
    "The excess inner query is working around the issue that the `PostgresSQL` `SQL` dialect does not accept table names in parenthesis in some situations.\n",
    "\n",
    "When we do not have such a constraint (such as with `SQLite`) we can generate a shorter query. \n"
   ],
   "metadata": {
    "collapsed": false,
    "pycharm": {
     "name": "#%% md\n"
    }
   }
  },
  {
   "cell_type": "code",
   "execution_count": 18,
   "outputs": [
    {
     "name": "stdout",
     "text": [
      "SELECT \"sum23\",\n",
      "       \"x\"\n",
      "FROM\n",
      "  (SELECT \"col2\" + \"col3\" AS \"sum23\",\n",
      "          5 AS \"x\"\n",
      "   FROM (\"d\") \"SQ_0\") \"SQ_1\"\n"
     ],
     "output_type": "stream"
    }
   ],
   "source": [
    "sql_model = data_algebra.SQLite.SQLiteModel()\n",
    "\n",
    "print(ops.to_sql(db_model=sql_model, pretty=True))\n"
   ],
   "metadata": {
    "collapsed": false,
    "pycharm": {
     "name": "#%%\n",
     "is_executing": false
    }
   }
  },
  {
   "cell_type": "markdown",
   "source": [
    "One per-`SQL` dialect translations and affordances is one of the intents of the `data_algebra`.\n",
    "\n",
    "And we can easily demonstrate the query in action."
   ],
   "metadata": {
    "collapsed": false,
    "pycharm": {
     "name": "#%% md\n"
    }
   }
  },
  {
   "cell_type": "code",
   "execution_count": 19,
   "outputs": [
    {
     "data": {
      "text/plain": "   sum23  x\n0      7  5\n1      9  5",
      "text/html": "<div>\n<style scoped>\n    .dataframe tbody tr th:only-of-type {\n        vertical-align: middle;\n    }\n\n    .dataframe tbody tr th {\n        vertical-align: top;\n    }\n\n    .dataframe thead th {\n        text-align: right;\n    }\n</style>\n<table border=\"1\" class=\"dataframe\">\n  <thead>\n    <tr style=\"text-align: right;\">\n      <th></th>\n      <th>sum23</th>\n      <th>x</th>\n    </tr>\n  </thead>\n  <tbody>\n    <tr>\n      <th>0</th>\n      <td>7</td>\n      <td>5</td>\n    </tr>\n    <tr>\n      <th>1</th>\n      <td>9</td>\n      <td>5</td>\n    </tr>\n  </tbody>\n</table>\n</div>"
     },
     "metadata": {},
     "output_type": "execute_result",
     "execution_count": 19
    }
   ],
   "source": [
    "conn = sqlite3.connect(':memory:')\n",
    "sql_model.insert_table(conn, d, table_name='d')\n",
    "\n",
    "conn.execute('CREATE TABLE res AS ' + ops.to_sql(db_model=sql_model))\n",
    "sql_model.read_table(conn, 'res')"
   ],
   "metadata": {
    "collapsed": false,
    "pycharm": {
     "name": "#%%\n",
     "is_executing": false
    }
   }
  },
  {
   "cell_type": "code",
   "execution_count": 20,
   "outputs": [],
   "source": [
    "conn.close()\n"
   ],
   "metadata": {
    "collapsed": false,
    "pycharm": {
     "name": "#%%\n",
     "is_executing": false
    }
   }
  }
 ],
 "metadata": {
  "kernelspec": {
   "display_name": "Python 3",
   "language": "python",
   "name": "python3"
  },
  "language_info": {
   "codemirror_mode": {
    "name": "ipython",
    "version": 2
   },
   "file_extension": ".py",
   "mimetype": "text/x-python",
   "name": "python",
   "nbconvert_exporter": "python",
   "pygments_lexer": "ipython2",
   "version": "2.7.6"
  },
  "pycharm": {
   "stem_cell": {
    "cell_type": "raw",
    "source": [],
    "metadata": {
     "collapsed": false
    }
   }
  }
 },
 "nbformat": 4,
 "nbformat_minor": 0
}