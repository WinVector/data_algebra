{
 "cells": [
  {
   "cell_type": "markdown",
   "metadata": {
    "collapsed": true,
    "pycharm": {
     "name": "#%% md\n"
    }
   },
   "source": [
    "One of the reasons we added [common table expression elimination](https://github.com/WinVector/data_algebra/blob/main/Examples/with/common_table_expression_elimination.ipynb) to the [data algebra](https://github.com/WinVector/data_algebra) SQL query generator is: we have been building larger and larger queries use the composability/[macro](https://github.com/WinVector/data_algebra/blob/main/Examples/Macros/use.ipynb) features. In particular, we have started collecting solutions to complex data processing problems [here](https://github.com/WinVector/data_algebra/blob/main/data_algebra/solutions.py).\n",
    "\n",
    "For instance: the \"last observed carried forward\" solution re-uses calculations in a manner that benefits from common calculation elimination.\n"
   ]
  },
  {
   "cell_type": "code",
   "execution_count": 1,
   "outputs": [],
   "source": [
    "\n",
    "import pandas as pd\n",
    "import data_algebra\n",
    "from data_algebra.data_ops import *\n",
    "from data_algebra.sql_format_options import SQLFormatOptions\n",
    "import data_algebra.test_util\n",
    "import data_algebra.BigQuery\n",
    "import data_algebra.solutions"
   ],
   "metadata": {
    "collapsed": false,
    "pycharm": {
     "name": "#%%\n"
    }
   }
  },
  {
   "cell_type": "code",
   "execution_count": 2,
   "outputs": [
    {
     "data": {
      "text/plain": "     v  g  o\n0  1.0  a  1\n1  NaN  a  2\n2  3.0  a  3\n3  NaN  b  4\n4  2.0  b  5\n5  NaN  b  6",
      "text/html": "<div>\n<style scoped>\n    .dataframe tbody tr th:only-of-type {\n        vertical-align: middle;\n    }\n\n    .dataframe tbody tr th {\n        vertical-align: top;\n    }\n\n    .dataframe thead th {\n        text-align: right;\n    }\n</style>\n<table border=\"1\" class=\"dataframe\">\n  <thead>\n    <tr style=\"text-align: right;\">\n      <th></th>\n      <th>v</th>\n      <th>g</th>\n      <th>o</th>\n    </tr>\n  </thead>\n  <tbody>\n    <tr>\n      <th>0</th>\n      <td>1.0</td>\n      <td>a</td>\n      <td>1</td>\n    </tr>\n    <tr>\n      <th>1</th>\n      <td>NaN</td>\n      <td>a</td>\n      <td>2</td>\n    </tr>\n    <tr>\n      <th>2</th>\n      <td>3.0</td>\n      <td>a</td>\n      <td>3</td>\n    </tr>\n    <tr>\n      <th>3</th>\n      <td>NaN</td>\n      <td>b</td>\n      <td>4</td>\n    </tr>\n    <tr>\n      <th>4</th>\n      <td>2.0</td>\n      <td>b</td>\n      <td>5</td>\n    </tr>\n    <tr>\n      <th>5</th>\n      <td>NaN</td>\n      <td>b</td>\n      <td>6</td>\n    </tr>\n  </tbody>\n</table>\n</div>"
     },
     "execution_count": 2,
     "metadata": {},
     "output_type": "execute_result"
    }
   ],
   "source": [
    "d = pd.DataFrame({\n",
    "    'v': [1., numpy.nan, 3., numpy.nan, 2., numpy.nan],\n",
    "    'g': ['a', 'a', 'a', 'b', 'b', 'b'],\n",
    "    'o': [1, 2, 3, 4, 5, 6],\n",
    "})\n",
    "\n",
    "d"
   ],
   "metadata": {
    "collapsed": false,
    "pycharm": {
     "name": "#%%\n"
    }
   }
  },
  {
   "cell_type": "code",
   "execution_count": 3,
   "outputs": [],
   "source": [
    "ops = data_algebra.solutions.last_observed_carried_forward(\n",
    "    descr(d=d),\n",
    "    order_by=['o'],\n",
    "    partition_by=['g'],\n",
    "    value_column_name='v',\n",
    "    selection_predicate='is_bad()',\n",
    ")"
   ],
   "metadata": {
    "collapsed": false,
    "pycharm": {
     "name": "#%%\n"
    }
   }
  },
  {
   "cell_type": "code",
   "execution_count": 4,
   "outputs": [
    {
     "data": {
      "text/plain": "     v  g  o\n0  1.0  a  1\n1  1.0  a  2\n2  3.0  a  3\n3  NaN  b  4\n4  2.0  b  5\n5  2.0  b  6",
      "text/html": "<div>\n<style scoped>\n    .dataframe tbody tr th:only-of-type {\n        vertical-align: middle;\n    }\n\n    .dataframe tbody tr th {\n        vertical-align: top;\n    }\n\n    .dataframe thead th {\n        text-align: right;\n    }\n</style>\n<table border=\"1\" class=\"dataframe\">\n  <thead>\n    <tr style=\"text-align: right;\">\n      <th></th>\n      <th>v</th>\n      <th>g</th>\n      <th>o</th>\n    </tr>\n  </thead>\n  <tbody>\n    <tr>\n      <th>0</th>\n      <td>1.0</td>\n      <td>a</td>\n      <td>1</td>\n    </tr>\n    <tr>\n      <th>1</th>\n      <td>1.0</td>\n      <td>a</td>\n      <td>2</td>\n    </tr>\n    <tr>\n      <th>2</th>\n      <td>3.0</td>\n      <td>a</td>\n      <td>3</td>\n    </tr>\n    <tr>\n      <th>3</th>\n      <td>NaN</td>\n      <td>b</td>\n      <td>4</td>\n    </tr>\n    <tr>\n      <th>4</th>\n      <td>2.0</td>\n      <td>b</td>\n      <td>5</td>\n    </tr>\n    <tr>\n      <th>5</th>\n      <td>2.0</td>\n      <td>b</td>\n      <td>6</td>\n    </tr>\n  </tbody>\n</table>\n</div>"
     },
     "execution_count": 4,
     "metadata": {},
     "output_type": "execute_result"
    }
   ],
   "source": [
    "res = ops.transform(d)\n",
    "\n",
    "res"
   ],
   "metadata": {
    "collapsed": false,
    "pycharm": {
     "name": "#%%\n"
    }
   }
  },
  {
   "cell_type": "code",
   "execution_count": 5,
   "outputs": [],
   "source": [
    "expect = pd.DataFrame({\n",
    "    'v': [1.0, 1.0, 3.0, None, 2.0, 2.0],\n",
    "    'g': ['a', 'a', 'a', 'b', 'b', 'b'],\n",
    "    'o': [1, 2, 3, 4, 5, 6],\n",
    "})\n",
    "assert data_algebra.test_util.equivalent_frames(\n",
    "    res,\n",
    "    expect)"
   ],
   "metadata": {
    "collapsed": false,
    "pycharm": {
     "name": "#%%\n"
    }
   }
  },
  {
   "cell_type": "code",
   "execution_count": 6,
   "outputs": [
    {
     "name": "stdout",
     "output_type": "stream",
     "text": [
      "-- data_algebra SQL https://github.com/WinVector/data_algebra\n",
      "--  dialect: BigQueryModel 1.3.4\n",
      "--       string quote: \"\n",
      "--   identifier quote: `\n",
      "WITH\n",
      " `extend_1` AS (\n",
      "  SELECT  -- .extend({ 'locf_to_use': '(v.is_bad()).where(0, 1)'})..extend({ 'locf_tiebreaker': '_row_number()'}, partition_by=1, order_by=['g', 'o'])\n",
      "   `v` ,\n",
      "   `g` ,\n",
      "   `o` ,\n",
      "   CASE WHEN (`v` IS NULL OR IS_INF(`v`) OR (`v` != 0 AND `v` = -`v`)) THEN 0 ELSE 1 END AS `locf_to_use` ,\n",
      "   ROW_NUMBER() OVER ( ORDER BY `g`, `o`  )  AS `locf_tiebreaker`\n",
      "  FROM\n",
      "   `d`\n",
      " ) ,\n",
      " `extend_2` AS (\n",
      "  SELECT  -- .extend({ 'locf_non_null_rank': 'locf_to_use.cumsum()'}, partition_by=['g'], order_by=['o', 'locf_tiebreaker'])\n",
      "   `v` ,\n",
      "   `g` ,\n",
      "   `o` ,\n",
      "   SUM(`locf_to_use`) OVER ( PARTITION BY `g` ORDER BY `o`, `locf_tiebreaker`  )  AS `locf_non_null_rank`\n",
      "  FROM\n",
      "   `extend_1`\n",
      " ) ,\n",
      " `extend_4` AS (\n",
      "  SELECT  -- .extend({ 'locf_non_null_rank': 'locf_to_use.cumsum()'}, partition_by=['g'], order_by=['o', 'locf_tiebreaker'])\n",
      "   `v` ,\n",
      "   `g` ,\n",
      "   SUM(`locf_to_use`) OVER ( PARTITION BY `g` ORDER BY `o`, `locf_tiebreaker`  )  AS `locf_non_null_rank` ,\n",
      "   `locf_to_use`\n",
      "  FROM\n",
      "   `extend_1`\n",
      " ) ,\n",
      " `select_rows_5` AS (\n",
      "  SELECT  -- .select_rows('locf_to_use == 1')\n",
      "   `g` ,\n",
      "   `locf_non_null_rank` ,\n",
      "   `v`\n",
      "  FROM\n",
      "   `extend_4`\n",
      "  WHERE\n",
      "   `locf_to_use` = 1\n",
      " )\n",
      "SELECT  -- _0..natural_join(b= _1, by=['g', 'locf_non_null_rank'], jointype='LEFT')\n",
      " COALESCE(`join_source_left_0`.`g`, `join_source_right_0`.`g`) AS `g` ,\n",
      " COALESCE(`join_source_left_0`.`v`, `join_source_right_0`.`v`) AS `v` ,\n",
      " `o`\n",
      "FROM\n",
      "(\n",
      " `extend_2` `join_source_left_0`\n",
      "LEFT JOIN\n",
      " `select_rows_5` `join_source_right_0`\n",
      "ON (\n",
      " `join_source_left_0`.`g` = `join_source_right_0`.`g`  AND\n",
      " `join_source_left_0`.`locf_non_null_rank` = `join_source_right_0`.`locf_non_null_rank`\n",
      ")\n",
      ")\n",
      "\n"
     ]
    }
   ],
   "source": [
    "sql = data_algebra.BigQuery.BigQueryModel().to_sql(\n",
    "    ops,\n",
    "    sql_format_options=SQLFormatOptions(\n",
    "        use_with=True,\n",
    "        use_cte_elim=True)\n",
    ")\n",
    "\n",
    "print(sql)\n"
   ],
   "metadata": {
    "collapsed": false,
    "pycharm": {
     "name": "#%%\n"
    }
   }
  }
 ],
 "metadata": {
  "kernelspec": {
   "display_name": "Python 3",
   "language": "python",
   "name": "python3"
  },
  "language_info": {
   "codemirror_mode": {
    "name": "ipython",
    "version": 2
   },
   "file_extension": ".py",
   "mimetype": "text/x-python",
   "name": "python",
   "nbconvert_exporter": "python",
   "pygments_lexer": "ipython2",
   "version": "2.7.6"
  }
 },
 "nbformat": 4,
 "nbformat_minor": 0
}