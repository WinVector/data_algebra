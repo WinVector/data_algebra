{
 "cells": [
  {
   "cell_type": "code",
   "execution_count": 1,
   "metadata": {
    "collapsed": true
   },
   "outputs": [
    {
     "data": {
      "text/plain": "     x\n0  1.0\n1  2.0\n2  inf\n3 -inf\n4  2.0\n5  0.0",
      "text/html": "<div>\n<style scoped>\n    .dataframe tbody tr th:only-of-type {\n        vertical-align: middle;\n    }\n\n    .dataframe tbody tr th {\n        vertical-align: top;\n    }\n\n    .dataframe thead th {\n        text-align: right;\n    }\n</style>\n<table border=\"1\" class=\"dataframe\">\n  <thead>\n    <tr style=\"text-align: right;\">\n      <th></th>\n      <th>x</th>\n    </tr>\n  </thead>\n  <tbody>\n    <tr>\n      <th>0</th>\n      <td>1.0</td>\n    </tr>\n    <tr>\n      <th>1</th>\n      <td>2.0</td>\n    </tr>\n    <tr>\n      <th>2</th>\n      <td>inf</td>\n    </tr>\n    <tr>\n      <th>3</th>\n      <td>-inf</td>\n    </tr>\n    <tr>\n      <th>4</th>\n      <td>2.0</td>\n    </tr>\n    <tr>\n      <th>5</th>\n      <td>0.0</td>\n    </tr>\n  </tbody>\n</table>\n</div>"
     },
     "execution_count": 1,
     "metadata": {},
     "output_type": "execute_result"
    }
   ],
   "source": [
    "import math\n",
    "\n",
    "import pandas\n",
    "\n",
    "import psycopg2\n",
    "\n",
    "from data_algebra.data_ops import *\n",
    "import data_algebra.PostgreSQL\n",
    "\n",
    "d = pandas.DataFrame({\n",
    "    'x': [1, 2, math.inf, -math.inf, 2, 0]\n",
    "})\n",
    "\n",
    "d"
   ]
  },
  {
   "cell_type": "code",
   "execution_count": 2,
   "outputs": [
    {
     "data": {
      "text/plain": "TableDescription(\n table_name='d',\n column_names=[\n   'x']) .\\\n   extend({\n    'x_is_null': 'x.is_null()',\n    'x_is_bad': 'x.is_bad()'})"
     },
     "execution_count": 2,
     "metadata": {},
     "output_type": "execute_result"
    }
   ],
   "source": [
    "ops = TableDescription(\"d\", [\"x\"]) .\\\n",
    "    extend({\n",
    "        \"x_is_null\": \"x.is_null()\",\n",
    "        \"x_is_bad\": \"x.is_bad()\"\n",
    "    })\n",
    "ops"
   ],
   "metadata": {
    "collapsed": false,
    "pycharm": {
     "name": "#%%\n"
    }
   }
  },
  {
   "cell_type": "code",
   "execution_count": 3,
   "outputs": [
    {
     "name": "stdout",
     "output_type": "stream",
     "text": [
      "SELECT \"x\",\n",
      "       (\"x\" IS NULL) AS \"x_is_null\",\n",
      "       (\"x\" IS NULL\n",
      "        OR \"x\" >= '+infinity'\n",
      "        OR \"x\" <= '-infinity'\n",
      "        OR (\"x\" != 0\n",
      "            AND \"x\" = -\"x\")) AS \"x_is_bad\"\n",
      "FROM \"d\"\n"
     ]
    }
   ],
   "source": [
    "db_model_p = data_algebra.PostgreSQL.PostgreSQLModel()\n",
    "sql_p = ops.to_sql(db_model_p, pretty=True)\n",
    "\n",
    "print(sql_p)"
   ],
   "metadata": {
    "collapsed": false,
    "pycharm": {
     "name": "#%%\n"
    }
   }
  },
  {
   "cell_type": "code",
   "execution_count": 4,
   "outputs": [
    {
     "data": {
      "text/plain": "     x  x_is_null  x_is_bad\n0  1.0      False     False\n1  2.0      False     False\n2  inf      False      True\n3 -inf      False      True\n4  2.0      False     False\n5  0.0      False     False",
      "text/html": "<div>\n<style scoped>\n    .dataframe tbody tr th:only-of-type {\n        vertical-align: middle;\n    }\n\n    .dataframe tbody tr th {\n        vertical-align: top;\n    }\n\n    .dataframe thead th {\n        text-align: right;\n    }\n</style>\n<table border=\"1\" class=\"dataframe\">\n  <thead>\n    <tr style=\"text-align: right;\">\n      <th></th>\n      <th>x</th>\n      <th>x_is_null</th>\n      <th>x_is_bad</th>\n    </tr>\n  </thead>\n  <tbody>\n    <tr>\n      <th>0</th>\n      <td>1.0</td>\n      <td>False</td>\n      <td>False</td>\n    </tr>\n    <tr>\n      <th>1</th>\n      <td>2.0</td>\n      <td>False</td>\n      <td>False</td>\n    </tr>\n    <tr>\n      <th>2</th>\n      <td>inf</td>\n      <td>False</td>\n      <td>True</td>\n    </tr>\n    <tr>\n      <th>3</th>\n      <td>-inf</td>\n      <td>False</td>\n      <td>True</td>\n    </tr>\n    <tr>\n      <th>4</th>\n      <td>2.0</td>\n      <td>False</td>\n      <td>False</td>\n    </tr>\n    <tr>\n      <th>5</th>\n      <td>0.0</td>\n      <td>False</td>\n      <td>False</td>\n    </tr>\n  </tbody>\n</table>\n</div>"
     },
     "execution_count": 4,
     "metadata": {},
     "output_type": "execute_result"
    }
   ],
   "source": [
    "conn_p = psycopg2.connect(\n",
    "    database=\"johnmount\",\n",
    "    user=\"johnmount\",\n",
    "    host=\"localhost\",\n",
    "    password=\"\"\n",
    ")\n",
    "conn_p.autocommit=True\n",
    "\n",
    "db_handle_p = db_model_p.db_handle(conn_p)\n",
    "\n",
    "db_handle_p.insert_table(\n",
    "    d,\n",
    "    table_name='d',\n",
    "    allow_overwrite=True)\n",
    "\n",
    "\n",
    "res_p = db_handle_p.read_query(sql_p)\n",
    "\n",
    "res_p"
   ],
   "metadata": {
    "collapsed": false,
    "pycharm": {
     "name": "#%%\n"
    }
   }
  },
  {
   "cell_type": "code",
   "execution_count": 5,
   "outputs": [],
   "source": [
    "db_handle_p.drop_table('d')\n",
    "db_handle_p.close()\n"
   ],
   "metadata": {
    "collapsed": false,
    "pycharm": {
     "name": "#%%\n"
    }
   }
  }
 ],
 "metadata": {
  "language_info": {
   "codemirror_mode": {
    "name": "ipython",
    "version": 2
   },
   "file_extension": ".py",
   "mimetype": "text/x-python",
   "name": "python",
   "nbconvert_exporter": "python",
   "pygments_lexer": "ipython2",
   "version": "2.7.6"
  },
  "kernelspec": {
   "name": "python3",
   "language": "python",
   "display_name": "Python 3"
  }
 },
 "nbformat": 4,
 "nbformat_minor": 0
}