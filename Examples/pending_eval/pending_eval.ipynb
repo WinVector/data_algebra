{
 "cells": [
  {
   "cell_type": "code",
   "execution_count": 8,
   "metadata": {
    "collapsed": true,
    "pycharm": {
     "is_executing": false
    }
   },
   "outputs": [
    {
     "name": "stdout",
     "text": [
      "maximum recursion depth exceeded in comparison\n"
     ],
     "output_type": "stream"
    }
   ],
   "source": [
    "def recursive_example(n, d=1):\n",
    "    if n <= 1:\n",
    "        return d\n",
    "    else:\n",
    "        return recursive_example(n-1, d+1)\n",
    "\n",
    "try:\n",
    "    recursive_example(10000)\n",
    "except Exception as ex:\n",
    "    print(ex)"
   ]
  },
  {
   "cell_type": "code",
   "execution_count": 9,
   "outputs": [
    {
     "data": {
      "text/plain": "100000"
     },
     "metadata": {},
     "output_type": "execute_result",
     "execution_count": 9
    }
   ],
   "source": [
    "import data_algebra.pending_eval\n",
    "\n",
    "def recursive_example_ex(n, d=1):\n",
    "    if n <= 1:\n",
    "        return d\n",
    "    else:\n",
    "        # eliminate tail-call by using exception\n",
    "        # instead of return recursive_example_ex(n-1, d+1)\n",
    "        raise data_algebra.pending_eval.PendingFunctionEvaluation(recursive_example_ex, n-1, d+1)\n",
    "\n",
    "data_algebra.pending_eval.eval_using_exceptions(recursive_example_ex, 100000)"
   ],
   "metadata": {
    "collapsed": false,
    "pycharm": {
     "name": "#%%\n",
     "is_executing": false
    }
   }
  },
  {
   "cell_type": "code",
   "execution_count": 10,
   "outputs": [
    {
     "data": {
      "text/plain": "100000"
     },
     "metadata": {},
     "output_type": "execute_result",
     "execution_count": 10
    }
   ],
   "source": [
    "class C:\n",
    "\n",
    "    def f_(self, n, d=1):\n",
    "        if n <= 1:\n",
    "            return d\n",
    "        else:\n",
    "            # eliminate tail-call by using exception\n",
    "            # instead of return recursive_example_ex(n-1, d+1)\n",
    "            raise data_algebra.pending_eval.PendingFunctionEvaluation(self.f_, n - 1, d + 1)\n",
    "\n",
    "    def f(self, n, d=1):\n",
    "        return data_algebra.pending_eval.eval_using_exceptions(self.f_, n=n, d=d)\n",
    "\n",
    "o = C()\n",
    "o.f(100000)\n",
    "\n"
   ],
   "metadata": {
    "collapsed": false,
    "pycharm": {
     "name": "#%%\n",
     "is_executing": false
    }
   }
  }
 ],
 "metadata": {
  "language_info": {
   "codemirror_mode": {
    "name": "ipython",
    "version": 2
   },
   "file_extension": ".py",
   "mimetype": "text/x-python",
   "name": "python",
   "nbconvert_exporter": "python",
   "pygments_lexer": "ipython2",
   "version": "2.7.6"
  },
  "kernelspec": {
   "name": "python3",
   "language": "python",
   "display_name": "Python 3"
  },
  "pycharm": {
   "stem_cell": {
    "cell_type": "raw",
    "source": [],
    "metadata": {
     "collapsed": false
    }
   }
  }
 },
 "nbformat": 4,
 "nbformat_minor": 0
}