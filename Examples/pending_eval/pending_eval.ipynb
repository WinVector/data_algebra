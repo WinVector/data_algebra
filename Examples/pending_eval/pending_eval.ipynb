{
 "cells": [
  {
   "cell_type": "code",
   "execution_count": 1,
   "metadata": {
    "pycharm": {
     "is_executing": false
    }
   },
   "outputs": [
    {
     "name": "stdout",
     "output_type": "stream",
     "text": [
      "maximum recursion depth exceeded in comparison\n"
     ]
    }
   ],
   "source": [
    "def recursive_example(n, d=1):\n",
    "    if n <= 1:\n",
    "        return d\n",
    "    else:\n",
    "        return recursive_example(n - 1, d + 1)\n",
    "\n",
    "try:\n",
    "    recursive_example(10000)\n",
    "except Exception as ex:\n",
    "    print(ex)\n",
    "    "
   ]
  },
  {
   "cell_type": "markdown",
   "metadata": {
    "pycharm": {
     "name": "#%% md\n"
    }
   },
   "source": [
    "Note: this throw-pattern can *only* be used in the case where tail-calls are only called by tail-calls, as the raise will throw-through intermediate code."
   ]
  },
  {
   "cell_type": "code",
   "execution_count": 2,
   "metadata": {
    "collapsed": false,
    "jupyter": {
     "outputs_hidden": false
    },
    "pycharm": {
     "is_executing": false,
     "name": "#%%\n"
    }
   },
   "outputs": [
    {
     "data": {
      "text/plain": [
       "100000"
      ]
     },
     "execution_count": 2,
     "metadata": {},
     "output_type": "execute_result"
    }
   ],
   "source": [
    "import data_algebra.pending_eval as pe\n",
    "\n",
    "def recursive_example_ex(n, d=1):\n",
    "    if n <= 1:\n",
    "        return d\n",
    "    else:\n",
    "        # eliminate tail-call by using exception\n",
    "        # instead of return recursive_example_ex(n-1, d+1)\n",
    "        raise pe.PendingFunctionEvaluation(\n",
    "            recursive_example_ex, n - 1, d + 1)\n",
    "\n",
    "pe.eval_using_exceptions(recursive_example_ex, 100000)"
   ]
  },
  {
   "cell_type": "code",
   "execution_count": 3,
   "metadata": {
    "collapsed": false,
    "jupyter": {
     "outputs_hidden": false
    },
    "pycharm": {
     "is_executing": false,
     "name": "#%%\n"
    }
   },
   "outputs": [
    {
     "data": {
      "text/plain": [
       "100000"
      ]
     },
     "execution_count": 3,
     "metadata": {},
     "output_type": "execute_result"
    }
   ],
   "source": [
    "class C:\n",
    "\n",
    "    def f_(self, n, d=1):\n",
    "        if n <= 1:\n",
    "            return d\n",
    "        else:\n",
    "            # Eliminate tail-call by using an exception.\n",
    "            # instead of: return self.f_(n-1, d+1), use:\n",
    "            raise pe.PendingFunctionEvaluation(\n",
    "                self.f_, n - 1, d + 1)\n",
    "\n",
    "    def f(self, n, d=1):\n",
    "        return pe.eval_using_exceptions(self.f_, n=n, d=d)\n",
    "\n",
    "o = C()\n",
    "o.f(100000)"
   ]
  },
  {
   "cell_type": "markdown",
   "metadata": {
    "pycharm": {
     "name": "#%% md\n"
    }
   },
   "source": [
    "Or something closer to the original [return-based system](https://www.kylem.net/programming/tailcall.html)."
   ]
  },
  {
   "cell_type": "code",
   "execution_count": 4,
   "metadata": {
    "collapsed": false,
    "jupyter": {
     "outputs_hidden": false
    },
    "pycharm": {
     "is_executing": false,
     "name": "#%%\n"
    }
   },
   "outputs": [
    {
     "data": {
      "text/plain": [
       "100000"
      ]
     },
     "execution_count": 4,
     "metadata": {},
     "output_type": "execute_result"
    }
   ],
   "source": [
    "def recursive_example_rt(n, d=1):\n",
    "    if n <= 1:\n",
    "        return d\n",
    "    else:\n",
    "        return pe.PendingFunctionEvaluation(\n",
    "            recursive_example_rt, n - 1, d + 1)\n",
    "\n",
    "\n",
    "pe.eval_using_exceptions(recursive_example_rt, 100000)"
   ]
  },
  {
   "cell_type": "code",
   "execution_count": 5,
   "metadata": {
    "collapsed": false,
    "jupyter": {
     "outputs_hidden": false
    },
    "pycharm": {
     "is_executing": false,
     "name": "#%%\n"
    }
   },
   "outputs": [
    {
     "data": {
      "text/plain": [
       "100000"
      ]
     },
     "execution_count": 5,
     "metadata": {},
     "output_type": "execute_result"
    }
   ],
   "source": [
    "class Cr:\n",
    "\n",
    "    def f_(self, n, d=1):\n",
    "        if n <= 1:\n",
    "            return d\n",
    "        else:\n",
    "            return pe.PendingFunctionEvaluation(\n",
    "                self.f_, n - 1, d + 1)\n",
    "\n",
    "    def f(self, n, d=1):\n",
    "        return pe.eval_using_exceptions(self.f_, n=n, d=d)\n",
    "\n",
    "o2 = Cr()\n",
    "o2.f(100000)"
   ]
  }
 ],
 "metadata": {
  "kernelspec": {
   "display_name": "Python 3",
   "language": "python",
   "name": "python3"
  },
  "language_info": {
   "codemirror_mode": {
    "name": "ipython",
    "version": 3
   },
   "file_extension": ".py",
   "mimetype": "text/x-python",
   "name": "python",
   "nbconvert_exporter": "python",
   "pygments_lexer": "ipython3",
   "version": "3.6.9"
  },
  "pycharm": {
   "stem_cell": {
    "cell_type": "raw",
    "metadata": {
     "collapsed": false
    },
    "source": []
   }
  }
 },
 "nbformat": 4,
 "nbformat_minor": 4
}
