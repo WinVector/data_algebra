{
 "cells": [
  {
   "cell_type": "markdown",
   "metadata": {
    "collapsed": false,
    "pycharm": {
     "name": "#%% md\n"
    }
   },
   "source": [
    "A quick demonstration of how we specify operator pipelines.\n",
    "\n",
    "This example is taken from the [README](https://github.com/WinVector/data_algebra/blob/main/README.ipynb)\n",
    "of the [data_algebra](https://github.com/WinVector/data_algebra) package.\n",
    "\n",
    "We import our packages."
   ]
  },
  {
   "cell_type": "code",
   "execution_count": 1,
   "metadata": {
    "collapsed": true
   },
   "outputs": [],
   "source": [
    "\n",
    "import pandas as pd\n",
    "\n",
    "from data_algebra import descr, d_, one\n",
    "import data_algebra.BigQuery\n"
   ]
  },
  {
   "cell_type": "markdown",
   "metadata": {
    "collapsed": false
   },
   "source": [
    "We set up some example data."
   ]
  },
  {
   "cell_type": "code",
   "execution_count": 2,
   "metadata": {
    "collapsed": false,
    "pycharm": {
     "name": "#%%\n"
    }
   },
   "outputs": [
    {
     "data": {
      "text/html": [
       "<div>\n",
       "<style scoped>\n",
       "    .dataframe tbody tr th:only-of-type {\n",
       "        vertical-align: middle;\n",
       "    }\n",
       "\n",
       "    .dataframe tbody tr th {\n",
       "        vertical-align: top;\n",
       "    }\n",
       "\n",
       "    .dataframe thead th {\n",
       "        text-align: right;\n",
       "    }\n",
       "</style>\n",
       "<table border=\"1\" class=\"dataframe\">\n",
       "  <thead>\n",
       "    <tr style=\"text-align: right;\">\n",
       "      <th></th>\n",
       "      <th>subjectID</th>\n",
       "      <th>surveyCategory</th>\n",
       "      <th>assessmentTotal</th>\n",
       "      <th>irrelevantCol1</th>\n",
       "      <th>irrelevantCol2</th>\n",
       "    </tr>\n",
       "  </thead>\n",
       "  <tbody>\n",
       "    <tr>\n",
       "      <th>0</th>\n",
       "      <td>1</td>\n",
       "      <td>withdrawal behavior</td>\n",
       "      <td>5.0</td>\n",
       "      <td>irrel1</td>\n",
       "      <td>irrel2</td>\n",
       "    </tr>\n",
       "    <tr>\n",
       "      <th>1</th>\n",
       "      <td>1</td>\n",
       "      <td>positive re-framing</td>\n",
       "      <td>2.0</td>\n",
       "      <td>irrel1</td>\n",
       "      <td>irrel2</td>\n",
       "    </tr>\n",
       "    <tr>\n",
       "      <th>2</th>\n",
       "      <td>2</td>\n",
       "      <td>withdrawal behavior</td>\n",
       "      <td>3.0</td>\n",
       "      <td>irrel1</td>\n",
       "      <td>irrel2</td>\n",
       "    </tr>\n",
       "    <tr>\n",
       "      <th>3</th>\n",
       "      <td>2</td>\n",
       "      <td>positive re-framing</td>\n",
       "      <td>4.0</td>\n",
       "      <td>irrel1</td>\n",
       "      <td>irrel2</td>\n",
       "    </tr>\n",
       "  </tbody>\n",
       "</table>\n",
       "</div>"
      ],
      "text/plain": [
       "   subjectID       surveyCategory  assessmentTotal irrelevantCol1  \\\n",
       "0          1  withdrawal behavior              5.0         irrel1   \n",
       "1          1  positive re-framing              2.0         irrel1   \n",
       "2          2  withdrawal behavior              3.0         irrel1   \n",
       "3          2  positive re-framing              4.0         irrel1   \n",
       "\n",
       "  irrelevantCol2  \n",
       "0         irrel2  \n",
       "1         irrel2  \n",
       "2         irrel2  \n",
       "3         irrel2  "
      ]
     },
     "execution_count": 2,
     "metadata": {},
     "output_type": "execute_result"
    }
   ],
   "source": [
    "d = pd.DataFrame({\n",
    "    'subjectID':[1, 1, 2, 2],\n",
    "    'surveyCategory': [ \"withdrawal behavior\", \"positive re-framing\", \"withdrawal behavior\", \"positive re-framing\"],\n",
    "    'assessmentTotal': [5., 2., 3., 4.],\n",
    "    'irrelevantCol1': ['irrel1']*4,\n",
    "    'irrelevantCol2': ['irrel2']*4,\n",
    "})\n",
    "\n",
    "d"
   ]
  },
  {
   "cell_type": "markdown",
   "metadata": {
    "collapsed": false,
    "pycharm": {
     "name": "#%% md\n"
    }
   },
   "source": [
    "We specify our operations in our common manner, using quoted expressions which are then parsed."
   ]
  },
  {
   "cell_type": "code",
   "execution_count": 3,
   "metadata": {
    "collapsed": false,
    "pycharm": {
     "name": "#%%\n"
    }
   },
   "outputs": [],
   "source": [
    "scale = 0.237\n",
    "\n",
    "ops = data_algebra.data_ops.describe_table(d, 'd'). \\\n",
    "    extend({'probability': f'(assessmentTotal * {scale}).exp()'}). \\\n",
    "    extend({'total': 'probability.sum()'},\n",
    "           partition_by=['subjectID']). \\\n",
    "    extend({'probability': 'probability/total'}). \\\n",
    "    extend({'row_number': '(1).cumsum()'},\n",
    "           partition_by=['subjectID'],\n",
    "           order_by=['probability'], reverse=['probability']). \\\n",
    "    select_rows('row_number == 1'). \\\n",
    "    select_columns(['subjectID', 'surveyCategory', 'probability']). \\\n",
    "    rename_columns({'diagnosis': 'surveyCategory'})"
   ]
  },
  {
   "cell_type": "markdown",
   "metadata": {
    "collapsed": false,
    "pycharm": {
     "name": "#%% md\n"
    }
   },
   "source": [
    "This produces an operator pipeline that can be used on Pandas data frames."
   ]
  },
  {
   "cell_type": "code",
   "execution_count": 4,
   "metadata": {
    "collapsed": false,
    "pycharm": {
     "name": "#%%\n"
    }
   },
   "outputs": [
    {
     "data": {
      "text/html": [
       "<div>\n",
       "<style scoped>\n",
       "    .dataframe tbody tr th:only-of-type {\n",
       "        vertical-align: middle;\n",
       "    }\n",
       "\n",
       "    .dataframe tbody tr th {\n",
       "        vertical-align: top;\n",
       "    }\n",
       "\n",
       "    .dataframe thead th {\n",
       "        text-align: right;\n",
       "    }\n",
       "</style>\n",
       "<table border=\"1\" class=\"dataframe\">\n",
       "  <thead>\n",
       "    <tr style=\"text-align: right;\">\n",
       "      <th></th>\n",
       "      <th>subjectID</th>\n",
       "      <th>diagnosis</th>\n",
       "      <th>probability</th>\n",
       "    </tr>\n",
       "  </thead>\n",
       "  <tbody>\n",
       "    <tr>\n",
       "      <th>0</th>\n",
       "      <td>1</td>\n",
       "      <td>withdrawal behavior</td>\n",
       "      <td>0.670622</td>\n",
       "    </tr>\n",
       "    <tr>\n",
       "      <th>1</th>\n",
       "      <td>2</td>\n",
       "      <td>positive re-framing</td>\n",
       "      <td>0.558974</td>\n",
       "    </tr>\n",
       "  </tbody>\n",
       "</table>\n",
       "</div>"
      ],
      "text/plain": [
       "   subjectID            diagnosis  probability\n",
       "0          1  withdrawal behavior     0.670622\n",
       "1          2  positive re-framing     0.558974"
      ]
     },
     "execution_count": 4,
     "metadata": {},
     "output_type": "execute_result"
    }
   ],
   "source": [
    "ops.transform(d)"
   ]
  },
  {
   "cell_type": "markdown",
   "metadata": {
    "collapsed": false,
    "pycharm": {
     "name": "#%% md\n"
    }
   },
   "source": [
    "The operators can also be translated into SQL for use in large data stores."
   ]
  },
  {
   "cell_type": "code",
   "execution_count": 5,
   "metadata": {
    "collapsed": false,
    "pycharm": {
     "name": "#%%\n"
    }
   },
   "outputs": [
    {
     "name": "stdout",
     "output_type": "stream",
     "text": [
      "-- data_algebra SQL https://github.com/WinVector/data_algebra\n",
      "--  dialect: BigQueryModel 1.6.5\n",
      "--       string quote: \"\n",
      "--   identifier quote: `\n",
      "WITH\n",
      " `table_reference_0` AS (\n",
      "  SELECT\n",
      "   `subjectID` ,\n",
      "   `surveyCategory` ,\n",
      "   `assessmentTotal`\n",
      "  FROM\n",
      "   `d`\n",
      " ) ,\n",
      " `extend_1` AS (\n",
      "  SELECT  -- .extend({ 'probability': '(assessmentTotal * 0.237).exp()'})\n",
      "   `subjectID` ,\n",
      "   `surveyCategory` ,\n",
      "   EXP(`assessmentTotal` * 0.237) AS `probability`\n",
      "  FROM\n",
      "   `table_reference_0`\n",
      " ) ,\n",
      " `extend_2` AS (\n",
      "  SELECT  -- .extend({ 'total': 'probability.sum()'}, partition_by=['subjectID'])\n",
      "   `subjectID` ,\n",
      "   `surveyCategory` ,\n",
      "   `probability` ,\n",
      "   SUM(`probability`) OVER ( PARTITION BY `subjectID`  )  AS `total`\n",
      "  FROM\n",
      "   `extend_1`\n",
      " ) ,\n",
      " `extend_3` AS (\n",
      "  SELECT  -- .extend({ 'probability': 'probability / total'})\n",
      "   `subjectID` ,\n",
      "   `surveyCategory` ,\n",
      "   `probability` / `total` AS `probability`\n",
      "  FROM\n",
      "   `extend_2`\n",
      " ) ,\n",
      " `extend_4` AS (\n",
      "  SELECT  -- .extend({ 'row_number': '(1).cumsum()'}, partition_by=['subjectID'], order_by=['probability'], reverse=['probability'])\n",
      "   `subjectID` ,\n",
      "   `surveyCategory` ,\n",
      "   `probability` ,\n",
      "   SUM(1) OVER ( PARTITION BY `subjectID` ORDER BY `probability` DESC  )  AS `row_number`\n",
      "  FROM\n",
      "   `extend_3`\n",
      " ) ,\n",
      " `select_rows_5` AS (\n",
      "  SELECT  -- .select_rows('row_number == 1')\n",
      "   `subjectID` ,\n",
      "   `surveyCategory` ,\n",
      "   `probability`\n",
      "  FROM\n",
      "   `extend_4`\n",
      "  WHERE\n",
      "   `row_number` = 1\n",
      " )\n",
      "SELECT  -- .rename_columns({'diagnosis': 'surveyCategory'})\n",
      " `surveyCategory` AS `diagnosis` ,\n",
      " `subjectID` ,\n",
      " `probability`\n",
      "FROM\n",
      " `select_rows_5`\n",
      "\n"
     ]
    }
   ],
   "source": [
    "handle = data_algebra.BigQuery.BigQueryModel().db_handle(conn=None)\n",
    "\n",
    "sql = handle.to_sql(ops)\n",
    "\n",
    "print(sql)"
   ]
  },
  {
   "attachments": {},
   "cell_type": "markdown",
   "metadata": {
    "collapsed": false,
    "pycharm": {
     "name": "#%% md\n"
    }
   },
   "source": [
    "We can also build up operation pipelines without using quoted expressions.\n",
    "This is by using the `d_.c` \"column\" notation to access column definitions, and the `val()` \"value\" notation to\n",
    "inject values (only needed when we are not interacting values with columns, otherwise\n",
    "we can use values directly).\n",
    "\n",
    "The above pipeline can be specified in that manner as follows."
   ]
  },
  {
   "cell_type": "code",
   "execution_count": 6,
   "metadata": {
    "collapsed": false,
    "pycharm": {
     "name": "#%%\n"
    }
   },
   "outputs": [],
   "source": [
    "scale = 0.237\n",
    "\n",
    "ops2 = (\n",
    "    descr(d=d)\n",
    "        .extend({\"probability\": (d_.assessmentTotal * scale).exp()})\n",
    "        .extend({\"total\": d_.probability.sum()}, partition_by=[\"subjectID\"])\n",
    "        .extend({\"probability\": d_.probability / d_.total})\n",
    "        .extend(\n",
    "            {\"row_number\": one.cumsum()},\n",
    "            partition_by=[\"subjectID\"],\n",
    "            order_by=[\"probability\"],\n",
    "            reverse=[\"probability\"],\n",
    "        )\n",
    "        .select_rows(d_.row_number == 1)\n",
    "        .select_columns(\n",
    "            [\"subjectID\", \"surveyCategory\", \"probability\"])\n",
    "        .rename_columns({\"diagnosis\": \"surveyCategory\"})\n",
    ")"
   ]
  },
  {
   "cell_type": "code",
   "execution_count": 7,
   "metadata": {},
   "outputs": [
    {
     "data": {
      "text/plain": [
       "(\n",
       "    TableDescription(\n",
       "        table_name=\"d\",\n",
       "        column_names=[\n",
       "            \"subjectID\",\n",
       "            \"surveyCategory\",\n",
       "            \"assessmentTotal\",\n",
       "            \"irrelevantCol1\",\n",
       "            \"irrelevantCol2\",\n",
       "        ],\n",
       "    )\n",
       "    .extend({\"probability\": \"(assessmentTotal * 0.237).exp()\"})\n",
       "    .extend({\"total\": \"probability.sum()\"}, partition_by=[\"subjectID\"])\n",
       "    .extend({\"probability\": \"probability / total\"})\n",
       "    .extend(\n",
       "        {\"row_number\": \"(1).cumsum()\"},\n",
       "        partition_by=[\"subjectID\"],\n",
       "        order_by=[\"probability\"],\n",
       "        reverse=[\"probability\"],\n",
       "    )\n",
       "    .select_rows(\"row_number == 1\")\n",
       "    .select_columns([\"subjectID\", \"surveyCategory\", \"probability\"])\n",
       "    .rename_columns({\"diagnosis\": \"surveyCategory\"})\n",
       ")\n"
      ]
     },
     "execution_count": 7,
     "metadata": {},
     "output_type": "execute_result"
    }
   ],
   "source": [
    "ops2"
   ]
  },
  {
   "cell_type": "code",
   "execution_count": 8,
   "metadata": {
    "collapsed": false,
    "pycharm": {
     "name": "#%%\n"
    }
   },
   "outputs": [
    {
     "data": {
      "text/html": [
       "<div>\n",
       "<style scoped>\n",
       "    .dataframe tbody tr th:only-of-type {\n",
       "        vertical-align: middle;\n",
       "    }\n",
       "\n",
       "    .dataframe tbody tr th {\n",
       "        vertical-align: top;\n",
       "    }\n",
       "\n",
       "    .dataframe thead th {\n",
       "        text-align: right;\n",
       "    }\n",
       "</style>\n",
       "<table border=\"1\" class=\"dataframe\">\n",
       "  <thead>\n",
       "    <tr style=\"text-align: right;\">\n",
       "      <th></th>\n",
       "      <th>subjectID</th>\n",
       "      <th>diagnosis</th>\n",
       "      <th>probability</th>\n",
       "    </tr>\n",
       "  </thead>\n",
       "  <tbody>\n",
       "    <tr>\n",
       "      <th>0</th>\n",
       "      <td>1</td>\n",
       "      <td>withdrawal behavior</td>\n",
       "      <td>0.670622</td>\n",
       "    </tr>\n",
       "    <tr>\n",
       "      <th>1</th>\n",
       "      <td>2</td>\n",
       "      <td>positive re-framing</td>\n",
       "      <td>0.558974</td>\n",
       "    </tr>\n",
       "  </tbody>\n",
       "</table>\n",
       "</div>"
      ],
      "text/plain": [
       "   subjectID            diagnosis  probability\n",
       "0          1  withdrawal behavior     0.670622\n",
       "1          2  positive re-framing     0.558974"
      ]
     },
     "execution_count": 8,
     "metadata": {},
     "output_type": "execute_result"
    }
   ],
   "source": [
    "ops2.transform(d)\n"
   ]
  },
  {
   "attachments": {},
   "cell_type": "markdown",
   "metadata": {
    "collapsed": false
   },
   "source": [
    "The idea is, in this mode expressions are specified without the need for quotes around column names.\n"
   ]
  }
 ],
 "metadata": {
  "kernelspec": {
   "display_name": "data_algebra_dev_env",
   "language": "python",
   "name": "python3"
  },
  "language_info": {
   "codemirror_mode": {
    "name": "ipython",
    "version": 3
   },
   "file_extension": ".py",
   "mimetype": "text/x-python",
   "name": "python",
   "nbconvert_exporter": "python",
   "pygments_lexer": "ipython3",
   "version": "3.10.8"
  },
  "vscode": {
   "interpreter": {
    "hash": "78f2e370b2228f20769c50722e4fc1c000bb9a3ed5301a20de3a1aec2b74b543"
   }
  }
 },
 "nbformat": 4,
 "nbformat_minor": 0
}
