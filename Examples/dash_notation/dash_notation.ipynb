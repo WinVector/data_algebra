{
 "cells": [
  {
   "cell_type": "markdown",
   "source": [
    "A quick demonstration of how we specify operator pipelines.\n",
    "\n",
    "This example is taken from the [README](https://github.com/WinVector/data_algebra/blob/main/README.ipynb)\n",
    "of the [data_algebra](https://github.com/WinVector/data_algebra) package.\n",
    "\n",
    "We import our packages."
   ],
   "metadata": {
    "collapsed": false,
    "pycharm": {
     "name": "#%% md\n"
    }
   }
  },
  {
   "cell_type": "code",
   "execution_count": 1,
   "metadata": {
    "collapsed": true
   },
   "outputs": [],
   "source": [
    "\n",
    "import pandas\n",
    "\n",
    "from data_algebra.data_ops import *  # https://github.com/WinVector/data_algebra\n",
    "from data_algebra.op_container import Pipeline, one\n",
    "import data_algebra.BigQuery\n"
   ]
  },
  {
   "cell_type": "markdown",
   "source": [
    "We set up some example data."
   ],
   "metadata": {
    "collapsed": false
   }
  },
  {
   "cell_type": "code",
   "execution_count": 2,
   "outputs": [
    {
     "data": {
      "text/plain": "   subjectID       surveyCategory  assessmentTotal irrelevantCol1  \\\n0          1  withdrawal behavior              5.0         irrel1   \n1          1  positive re-framing              2.0         irrel1   \n2          2  withdrawal behavior              3.0         irrel1   \n3          2  positive re-framing              4.0         irrel1   \n\n  irrelevantCol2  \n0         irrel2  \n1         irrel2  \n2         irrel2  \n3         irrel2  ",
      "text/html": "<div>\n<style scoped>\n    .dataframe tbody tr th:only-of-type {\n        vertical-align: middle;\n    }\n\n    .dataframe tbody tr th {\n        vertical-align: top;\n    }\n\n    .dataframe thead th {\n        text-align: right;\n    }\n</style>\n<table border=\"1\" class=\"dataframe\">\n  <thead>\n    <tr style=\"text-align: right;\">\n      <th></th>\n      <th>subjectID</th>\n      <th>surveyCategory</th>\n      <th>assessmentTotal</th>\n      <th>irrelevantCol1</th>\n      <th>irrelevantCol2</th>\n    </tr>\n  </thead>\n  <tbody>\n    <tr>\n      <th>0</th>\n      <td>1</td>\n      <td>withdrawal behavior</td>\n      <td>5.0</td>\n      <td>irrel1</td>\n      <td>irrel2</td>\n    </tr>\n    <tr>\n      <th>1</th>\n      <td>1</td>\n      <td>positive re-framing</td>\n      <td>2.0</td>\n      <td>irrel1</td>\n      <td>irrel2</td>\n    </tr>\n    <tr>\n      <th>2</th>\n      <td>2</td>\n      <td>withdrawal behavior</td>\n      <td>3.0</td>\n      <td>irrel1</td>\n      <td>irrel2</td>\n    </tr>\n    <tr>\n      <th>3</th>\n      <td>2</td>\n      <td>positive re-framing</td>\n      <td>4.0</td>\n      <td>irrel1</td>\n      <td>irrel2</td>\n    </tr>\n  </tbody>\n</table>\n</div>"
     },
     "execution_count": 2,
     "metadata": {},
     "output_type": "execute_result"
    }
   ],
   "source": [
    "d = pandas.DataFrame({\n",
    "    'subjectID':[1, 1, 2, 2],\n",
    "    'surveyCategory': [ \"withdrawal behavior\", \"positive re-framing\", \"withdrawal behavior\", \"positive re-framing\"],\n",
    "    'assessmentTotal': [5., 2., 3., 4.],\n",
    "    'irrelevantCol1': ['irrel1']*4,\n",
    "    'irrelevantCol2': ['irrel2']*4,\n",
    "})\n",
    "\n",
    "d"
   ],
   "metadata": {
    "collapsed": false,
    "pycharm": {
     "name": "#%%\n"
    }
   }
  },
  {
   "cell_type": "markdown",
   "source": [
    "We specify our operations in our common manner, using quoted expressions which are then parsed."
   ],
   "metadata": {
    "collapsed": false,
    "pycharm": {
     "name": "#%% md\n"
    }
   }
  },
  {
   "cell_type": "code",
   "execution_count": 3,
   "outputs": [],
   "source": [
    "scale = 0.237\n",
    "\n",
    "ops = data_algebra.data_ops.describe_table(d, 'd'). \\\n",
    "    extend({'probability': f'(assessmentTotal * {scale}).exp()'}). \\\n",
    "    extend({'total': 'probability.sum()'},\n",
    "           partition_by='subjectID'). \\\n",
    "    extend({'probability': 'probability/total'}). \\\n",
    "    extend({'row_number': '(1).cumsum()'},\n",
    "           partition_by=['subjectID'],\n",
    "           order_by=['probability'], reverse=['probability']). \\\n",
    "    select_rows('row_number == 1'). \\\n",
    "    select_columns(['subjectID', 'surveyCategory', 'probability']). \\\n",
    "    rename_columns({'diagnosis': 'surveyCategory'})"
   ],
   "metadata": {
    "collapsed": false,
    "pycharm": {
     "name": "#%%\n"
    }
   }
  },
  {
   "cell_type": "markdown",
   "source": [
    "This produces an operator pipeline that can be used on Pandas data frames."
   ],
   "metadata": {
    "collapsed": false,
    "pycharm": {
     "name": "#%% md\n"
    }
   }
  },
  {
   "cell_type": "code",
   "execution_count": 4,
   "outputs": [
    {
     "data": {
      "text/plain": "   subjectID            diagnosis  probability\n0          1  withdrawal behavior     0.670622\n1          2  positive re-framing     0.558974",
      "text/html": "<div>\n<style scoped>\n    .dataframe tbody tr th:only-of-type {\n        vertical-align: middle;\n    }\n\n    .dataframe tbody tr th {\n        vertical-align: top;\n    }\n\n    .dataframe thead th {\n        text-align: right;\n    }\n</style>\n<table border=\"1\" class=\"dataframe\">\n  <thead>\n    <tr style=\"text-align: right;\">\n      <th></th>\n      <th>subjectID</th>\n      <th>diagnosis</th>\n      <th>probability</th>\n    </tr>\n  </thead>\n  <tbody>\n    <tr>\n      <th>0</th>\n      <td>1</td>\n      <td>withdrawal behavior</td>\n      <td>0.670622</td>\n    </tr>\n    <tr>\n      <th>1</th>\n      <td>2</td>\n      <td>positive re-framing</td>\n      <td>0.558974</td>\n    </tr>\n  </tbody>\n</table>\n</div>"
     },
     "execution_count": 4,
     "metadata": {},
     "output_type": "execute_result"
    }
   ],
   "source": [
    "ops.transform(d)"
   ],
   "metadata": {
    "collapsed": false,
    "pycharm": {
     "name": "#%%\n"
    }
   }
  },
  {
   "cell_type": "markdown",
   "source": [
    "The operators can also be translated into SQL for use in large data stores."
   ],
   "metadata": {
    "collapsed": false,
    "pycharm": {
     "name": "#%% md\n"
    }
   }
  },
  {
   "cell_type": "code",
   "execution_count": 5,
   "outputs": [
    {
     "name": "stdout",
     "output_type": "stream",
     "text": [
      "-- data_algebra SQL https://github.com/WinVector/data_algebra\n",
      "--  dialect: BigQueryModel\n",
      "--       string quote: \"\n",
      "--   identifier quote: `\n",
      "WITH\n",
      " `table_reference_0` AS (\n",
      "  SELECT\n",
      "   `subjectID` ,\n",
      "   `surveyCategory` ,\n",
      "   `assessmentTotal`\n",
      "  FROM\n",
      "   `d`\n",
      " ) ,\n",
      " `extend_1` AS (\n",
      "  SELECT  -- .extend({ 'probability': '(assessmentTotal * 0.237).exp()'})\n",
      "   `subjectID` ,\n",
      "   `surveyCategory` ,\n",
      "   EXP(`assessmentTotal` * 0.237) AS `probability`\n",
      "  FROM\n",
      "   `table_reference_0`\n",
      " ) ,\n",
      " `extend_2` AS (\n",
      "  SELECT  -- .extend({ 'total': 'probability.sum()'}, partition_by=['subjectID'])\n",
      "   `subjectID` ,\n",
      "   `surveyCategory` ,\n",
      "   `probability` ,\n",
      "   SUM(`probability`) OVER ( PARTITION BY `subjectID`  )  AS `total`\n",
      "  FROM\n",
      "   `extend_1`\n",
      " ) ,\n",
      " `extend_3` AS (\n",
      "  SELECT  -- .extend({ 'probability': 'probability / total'})\n",
      "   `subjectID` ,\n",
      "   `surveyCategory` ,\n",
      "   `probability` / `total` AS `probability`\n",
      "  FROM\n",
      "   `extend_2`\n",
      " ) ,\n",
      " `extend_4` AS (\n",
      "  SELECT  -- .extend({ 'row_number': '(1).cumsum()'}, partition_by=['subjectID'], order_by=['probability'], reverse=['probability'])\n",
      "   `subjectID` ,\n",
      "   `surveyCategory` ,\n",
      "   `probability` ,\n",
      "   SUM(1) OVER ( PARTITION BY `subjectID` ORDER BY `probability` DESC  )  AS `row_number`\n",
      "  FROM\n",
      "   `extend_3`\n",
      " ) ,\n",
      " `select_rows_5` AS (\n",
      "  SELECT  -- .select_rows('row_number == 1')\n",
      "   `subjectID` ,\n",
      "   `surveyCategory` ,\n",
      "   `probability`\n",
      "  FROM\n",
      "   `extend_4`\n",
      "  WHERE\n",
      "   `row_number` = 1\n",
      " )\n",
      "SELECT  -- .rename_columns({'diagnosis': 'surveyCategory'})\n",
      " `surveyCategory` AS `diagnosis` ,\n",
      " `probability` ,\n",
      " `subjectID`\n",
      "FROM\n",
      " `select_rows_5`\n",
      "\n"
     ]
    }
   ],
   "source": [
    "handle = data_algebra.BigQuery.BigQueryModel().db_handle(conn=None)\n",
    "\n",
    "sql = handle.to_sql(ops)\n",
    "\n",
    "print(sql)"
   ],
   "metadata": {
    "collapsed": false,
    "pycharm": {
     "name": "#%%\n"
    }
   }
  },
  {
   "cell_type": "markdown",
   "source": [
    "We can also build up operation pipelines without using quoted expressions.\n",
    "This is by using the `_.c` \"column\" notation to access column definitions, and the `_.v()` \"value\" notation to\n",
    "inject values (only needed when we are not interacting values with columns, otherwise\n",
    "we can use values directly).\n",
    "\n",
    "We can use an valid Python variable to work, we are demonstrating `_` as it is short.\n",
    "\n",
    "The above pipeline can be specified in that manner as follows."
   ],
   "metadata": {
    "collapsed": false,
    "pycharm": {
     "name": "#%% md\n"
    }
   }
  },
  {
   "cell_type": "code",
   "execution_count": 6,
   "outputs": [],
   "source": [
    "scale = 0.237\n",
    "\n",
    "with Pipeline(describe_table(d, \"d\")) as (pipeline, _):\n",
    "    ops2 = (\n",
    "        pipeline\n",
    "            .extend({\"probability\": (_.assessmentTotal * scale).exp()})\n",
    "            .extend({\"total\": _.probability.sum()}, partition_by=\"subjectID\")\n",
    "            .extend({\"probability\": _.probability / _.total})\n",
    "            .extend(\n",
    "                {\"row_number\": one.cumsum()},\n",
    "                partition_by=[\"subjectID\"],\n",
    "                order_by=[\"probability\"],\n",
    "                reverse=[\"probability\"],\n",
    "            )\n",
    "            .select_rows(_.row_number == 1)\n",
    "            .select_columns(\n",
    "                [\"subjectID\", \"surveyCategory\", \"probability\"])\n",
    "            .rename_columns({\"diagnosis\": \"surveyCategory\"})\n",
    "            .get_ops()\n",
    "    )"
   ],
   "metadata": {
    "collapsed": false,
    "pycharm": {
     "name": "#%%\n"
    }
   }
  },
  {
   "cell_type": "code",
   "execution_count": 7,
   "outputs": [
    {
     "data": {
      "text/plain": "   subjectID            diagnosis  probability\n0          1  withdrawal behavior     0.670622\n1          2  positive re-framing     0.558974",
      "text/html": "<div>\n<style scoped>\n    .dataframe tbody tr th:only-of-type {\n        vertical-align: middle;\n    }\n\n    .dataframe tbody tr th {\n        vertical-align: top;\n    }\n\n    .dataframe thead th {\n        text-align: right;\n    }\n</style>\n<table border=\"1\" class=\"dataframe\">\n  <thead>\n    <tr style=\"text-align: right;\">\n      <th></th>\n      <th>subjectID</th>\n      <th>diagnosis</th>\n      <th>probability</th>\n    </tr>\n  </thead>\n  <tbody>\n    <tr>\n      <th>0</th>\n      <td>1</td>\n      <td>withdrawal behavior</td>\n      <td>0.670622</td>\n    </tr>\n    <tr>\n      <th>1</th>\n      <td>2</td>\n      <td>positive re-framing</td>\n      <td>0.558974</td>\n    </tr>\n  </tbody>\n</table>\n</div>"
     },
     "execution_count": 7,
     "metadata": {},
     "output_type": "execute_result"
    }
   ],
   "source": [
    "ops2.transform(d)\n"
   ],
   "metadata": {
    "collapsed": false,
    "pycharm": {
     "name": "#%%\n"
    }
   }
  },
  {
   "cell_type": "markdown",
   "source": [
    "The idea is, in this mode expressions are specified without the need for quotes.\n"
   ],
   "metadata": {
    "collapsed": false
   }
  }
 ],
 "metadata": {
  "kernelspec": {
   "display_name": "Python 3",
   "language": "python",
   "name": "python3"
  },
  "language_info": {
   "codemirror_mode": {
    "name": "ipython",
    "version": 2
   },
   "file_extension": ".py",
   "mimetype": "text/x-python",
   "name": "python",
   "nbconvert_exporter": "python",
   "pygments_lexer": "ipython2",
   "version": "2.7.6"
  }
 },
 "nbformat": 4,
 "nbformat_minor": 0
}