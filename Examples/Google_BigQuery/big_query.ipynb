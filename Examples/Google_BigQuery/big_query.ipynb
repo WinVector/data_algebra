{
 "cells": [
  {
   "cell_type": "code",
   "execution_count": 1,
   "metadata": {
    "collapsed": true
   },
   "outputs": [],
   "source": [
    "import os\n",
    "\n",
    "import pandas\n",
    "\n",
    "from google.cloud import bigquery\n",
    "\n",
    "# connect to Google cloud\n",
    "os.environ[\"GOOGLE_APPLICATION_CREDENTIALS\"] = \"/Users/johnmount/big_query/big_query_jm.json\"\n",
    "client = bigquery.Client()"
   ]
  },
  {
   "cell_type": "code",
   "execution_count": 2,
   "outputs": [],
   "source": [
    "from data_algebra.data_ops import *\n",
    "import data_algebra.BigQuery\n",
    "import datetime\n",
    "import numpy\n",
    "\n",
    "db_handle = data_algebra.BigQuery.BigQueryModel().db_handle(client)"
   ],
   "metadata": {
    "collapsed": false,
    "pycharm": {
     "name": "#%%\n"
    }
   }
  },
  {
   "cell_type": "code",
   "execution_count": 3,
   "outputs": [],
   "source": [
    "# define table locations\n",
    "data_catalog = 'data-algebra-test'\n",
    "data_schema = 'test_1'"
   ],
   "metadata": {
    "collapsed": false,
    "pycharm": {
     "name": "#%%\n"
    }
   }
  },
  {
   "cell_type": "code",
   "execution_count": 4,
   "outputs": [
    {
     "data": {
      "text/plain": "TableDescription(\n table_name='data-algebra-test.test_1.d2',\n column_names=[\n   'x', 'y'])"
     },
     "execution_count": 4,
     "metadata": {},
     "output_type": "execute_result"
    }
   ],
   "source": [
    "d2 = pandas.DataFrame({\n",
    "    'x': [1, 2],\n",
    "    'y': ['a', 'b'],\n",
    "})\n",
    "db_handle.insert_table(\n",
    "    d2,\n",
    "    table_name=f'{data_catalog}.{data_schema}.d2')"
   ],
   "metadata": {
    "collapsed": false,
    "pycharm": {
     "name": "#%%\n"
    }
   }
  },
  {
   "cell_type": "code",
   "execution_count": 5,
   "outputs": [
    {
     "data": {
      "text/plain": "TableDescription(\n table_name='data-algebra-test.test_1.d2',\n column_names=[\n   'x', 'y'],\n qualifiers={'table_catalog': 'data-algebra-test', 'table_schema': 'test_1', 'table_name': 'd2', 'full_name': 'data-algebra-test.test_1.d2'})"
     },
     "execution_count": 5,
     "metadata": {},
     "output_type": "execute_result"
    }
   ],
   "source": [
    "descr = db_handle.describe_bq_table(\n",
    "    table_catalog=data_catalog,\n",
    "    table_schema=data_schema,\n",
    "    table_name='d2')\n",
    "descr"
   ],
   "metadata": {
    "collapsed": false,
    "pycharm": {
     "name": "#%%\n"
    }
   }
  },
  {
   "cell_type": "code",
   "execution_count": 6,
   "outputs": [
    {
     "data": {
      "text/plain": "   x  y\n0  1  a\n1  2  b",
      "text/html": "<div>\n<style scoped>\n    .dataframe tbody tr th:only-of-type {\n        vertical-align: middle;\n    }\n\n    .dataframe tbody tr th {\n        vertical-align: top;\n    }\n\n    .dataframe thead th {\n        text-align: right;\n    }\n</style>\n<table border=\"1\" class=\"dataframe\">\n  <thead>\n    <tr style=\"text-align: right;\">\n      <th></th>\n      <th>x</th>\n      <th>y</th>\n    </tr>\n  </thead>\n  <tbody>\n    <tr>\n      <th>0</th>\n      <td>1</td>\n      <td>a</td>\n    </tr>\n    <tr>\n      <th>1</th>\n      <td>2</td>\n      <td>b</td>\n    </tr>\n  </tbody>\n</table>\n</div>"
     },
     "execution_count": 6,
     "metadata": {},
     "output_type": "execute_result"
    }
   ],
   "source": [
    "descr.head"
   ],
   "metadata": {
    "collapsed": false,
    "pycharm": {
     "name": "#%%\n"
    }
   }
  },
  {
   "cell_type": "code",
   "execution_count": 7,
   "outputs": [
    {
     "data": {
      "text/plain": "       table_catalog table_schema table_name column_name  ordinal_position  \\\n0  data-algebra-test       test_1         d2           x                 1   \n1  data-algebra-test       test_1         d2           y                 2   \n\n  is_nullable data_type is_generated generation_expression is_stored  \\\n0         YES     INT64        NEVER                  None      None   \n1         YES    STRING        NEVER                  None      None   \n\n  is_hidden is_updatable is_system_defined is_partitioning_column  \\\n0        NO         None                NO                     NO   \n1        NO         None                NO                     NO   \n\n   clustering_ordinal_position  \n0                          NaN  \n1                          NaN  ",
      "text/html": "<div>\n<style scoped>\n    .dataframe tbody tr th:only-of-type {\n        vertical-align: middle;\n    }\n\n    .dataframe tbody tr th {\n        vertical-align: top;\n    }\n\n    .dataframe thead th {\n        text-align: right;\n    }\n</style>\n<table border=\"1\" class=\"dataframe\">\n  <thead>\n    <tr style=\"text-align: right;\">\n      <th></th>\n      <th>table_catalog</th>\n      <th>table_schema</th>\n      <th>table_name</th>\n      <th>column_name</th>\n      <th>ordinal_position</th>\n      <th>is_nullable</th>\n      <th>data_type</th>\n      <th>is_generated</th>\n      <th>generation_expression</th>\n      <th>is_stored</th>\n      <th>is_hidden</th>\n      <th>is_updatable</th>\n      <th>is_system_defined</th>\n      <th>is_partitioning_column</th>\n      <th>clustering_ordinal_position</th>\n    </tr>\n  </thead>\n  <tbody>\n    <tr>\n      <th>0</th>\n      <td>data-algebra-test</td>\n      <td>test_1</td>\n      <td>d2</td>\n      <td>x</td>\n      <td>1</td>\n      <td>YES</td>\n      <td>INT64</td>\n      <td>NEVER</td>\n      <td>None</td>\n      <td>None</td>\n      <td>NO</td>\n      <td>None</td>\n      <td>NO</td>\n      <td>NO</td>\n      <td>NaN</td>\n    </tr>\n    <tr>\n      <th>1</th>\n      <td>data-algebra-test</td>\n      <td>test_1</td>\n      <td>d2</td>\n      <td>y</td>\n      <td>2</td>\n      <td>YES</td>\n      <td>STRING</td>\n      <td>NEVER</td>\n      <td>None</td>\n      <td>None</td>\n      <td>NO</td>\n      <td>None</td>\n      <td>NO</td>\n      <td>NO</td>\n      <td>NaN</td>\n    </tr>\n  </tbody>\n</table>\n</div>"
     },
     "execution_count": 7,
     "metadata": {},
     "output_type": "execute_result"
    }
   ],
   "source": [
    "descr.sql_meta\n"
   ],
   "metadata": {
    "collapsed": false,
    "pycharm": {
     "name": "#%%\n"
    }
   }
  },
  {
   "cell_type": "code",
   "execution_count": 8,
   "outputs": [],
   "source": [
    "client.close()"
   ],
   "metadata": {
    "collapsed": false,
    "pycharm": {
     "name": "#%%\n"
    }
   }
  }
 ],
 "metadata": {
  "kernelspec": {
   "display_name": "Python 3",
   "language": "python",
   "name": "python3"
  },
  "language_info": {
   "codemirror_mode": {
    "name": "ipython",
    "version": 2
   },
   "file_extension": ".py",
   "mimetype": "text/x-python",
   "name": "python",
   "nbconvert_exporter": "python",
   "pygments_lexer": "ipython2",
   "version": "2.7.6"
  }
 },
 "nbformat": 4,
 "nbformat_minor": 0
}