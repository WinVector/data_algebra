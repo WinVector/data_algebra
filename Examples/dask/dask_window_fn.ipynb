{
 "cells": [
  {
   "cell_type": "code",
   "execution_count": 1,
   "metadata": {
    "collapsed": true,
    "pycharm": {
     "is_executing": false
    }
   },
   "outputs": [
    {
     "data": {
      "text/plain": "  group  order  other_info  grouped_seq\n0     a      1           1            0\n1     a      3           2            2\n2     a      2           3            1\n3     b      6           4            1\n4     b      9           5            2\n5     b      5           6            0",
      "text/html": "<div>\n<style scoped>\n    .dataframe tbody tr th:only-of-type {\n        vertical-align: middle;\n    }\n\n    .dataframe tbody tr th {\n        vertical-align: top;\n    }\n\n    .dataframe thead th {\n        text-align: right;\n    }\n</style>\n<table border=\"1\" class=\"dataframe\">\n  <thead>\n    <tr style=\"text-align: right;\">\n      <th></th>\n      <th>group</th>\n      <th>order</th>\n      <th>other_info</th>\n      <th>grouped_seq</th>\n    </tr>\n  </thead>\n  <tbody>\n    <tr>\n      <th>0</th>\n      <td>a</td>\n      <td>1</td>\n      <td>1</td>\n      <td>0</td>\n    </tr>\n    <tr>\n      <th>1</th>\n      <td>a</td>\n      <td>3</td>\n      <td>2</td>\n      <td>2</td>\n    </tr>\n    <tr>\n      <th>2</th>\n      <td>a</td>\n      <td>2</td>\n      <td>3</td>\n      <td>1</td>\n    </tr>\n    <tr>\n      <th>3</th>\n      <td>b</td>\n      <td>6</td>\n      <td>4</td>\n      <td>1</td>\n    </tr>\n    <tr>\n      <th>4</th>\n      <td>b</td>\n      <td>9</td>\n      <td>5</td>\n      <td>2</td>\n    </tr>\n    <tr>\n      <th>5</th>\n      <td>b</td>\n      <td>5</td>\n      <td>6</td>\n      <td>0</td>\n    </tr>\n  </tbody>\n</table>\n</div>"
     },
     "metadata": {},
     "output_type": "execute_result",
     "execution_count": 1
    }
   ],
   "source": [
    "import dask\n",
    "import dask.dataframe\n",
    "import pandas\n",
    "\n",
    "# See: \n",
    "#  https://docs.dask.org/en/latest/dataframe-api.html\n",
    "#  cumcount()\n",
    "\n",
    "df = pandas.DataFrame({'group': ['a', 'a', 'a', 'b', 'b', 'b'],\n",
    "                       'order': [  1,    3,  2,   6,   9,   5],\n",
    "                       'other_info': [  1,    2,  3,   4,   5,   6]})\n",
    "dd = dask.dataframe.from_pandas(df, npartitions=2)\n",
    "\n",
    "# dd = dd.set_index(dd['order'])\n",
    "# dd['grouped_seq'] = dd.groupby('group').cumcount()\n",
    "# dd.compute()\n",
    "\n",
    "dsub = dd.loc[:, ['group', 'order']]\n",
    "dsub[\"_orig_index_column\"] = dsub.index\n",
    "dsub = dsub.set_index(dsub['order'])\n",
    "dsub['grouped_seq'] = dsub.groupby('group').cumcount()\n",
    "dsub = dsub.set_index(dsub[\"_orig_index_column\"])\n",
    "dd['grouped_seq'] = dsub['grouped_seq']\n",
    "dd.compute()"
   ]
  }
 ],
 "metadata": {
  "language_info": {
   "codemirror_mode": {
    "name": "ipython",
    "version": 2
   },
   "file_extension": ".py",
   "mimetype": "text/x-python",
   "name": "python",
   "nbconvert_exporter": "python",
   "pygments_lexer": "ipython2",
   "version": "2.7.6"
  },
  "kernelspec": {
   "name": "python3",
   "language": "python",
   "display_name": "Python 3"
  },
  "pycharm": {
   "stem_cell": {
    "cell_type": "raw",
    "source": [],
    "metadata": {
     "collapsed": false
    }
   }
  }
 },
 "nbformat": 4,
 "nbformat_minor": 0
}