{
 "cells": [
  {
   "cell_type": "code",
   "execution_count": 1,
   "metadata": {
    "collapsed": true,
    "pycharm": {
     "is_executing": false
    }
   },
   "outputs": [],
   "source": [
    "import pandas\n",
    "import dask.dataframe\n",
    "\n",
    "# See: \n",
    "#  https://docs.dask.org/en/latest/dataframe-api.html\n",
    "\n",
    "df = pandas.DataFrame({\n",
    "    'group': ['a', 'a', 'a', 'b', 'b', 'b'],\n",
    "    'order': [  1,    3,  2,   6,   9,   5],\n",
    "    'other_info': [  1,    2,  3,   4,   5,   6]})\n",
    "dd_orig = dask.dataframe.from_pandas(df, npartitions=2)\n"
   ]
  },
  {
   "cell_type": "code",
   "execution_count": 2,
   "outputs": [
    {
     "data": {
      "text/plain": "  group  order  other_info  _orig_index_column  per_group_seq\n0     a      1           1                   0              0\n1     b      6           4                   0              1\n0     a      3           2                   1              2\n1     b      9           5                   1              2\n2     a      2           3                   2              1\n3     b      5           6                   2              0",
      "text/html": "<div>\n<style scoped>\n    .dataframe tbody tr th:only-of-type {\n        vertical-align: middle;\n    }\n\n    .dataframe tbody tr th {\n        vertical-align: top;\n    }\n\n    .dataframe thead th {\n        text-align: right;\n    }\n</style>\n<table border=\"1\" class=\"dataframe\">\n  <thead>\n    <tr style=\"text-align: right;\">\n      <th></th>\n      <th>group</th>\n      <th>order</th>\n      <th>other_info</th>\n      <th>_orig_index_column</th>\n      <th>per_group_seq</th>\n    </tr>\n  </thead>\n  <tbody>\n    <tr>\n      <th>0</th>\n      <td>a</td>\n      <td>1</td>\n      <td>1</td>\n      <td>0</td>\n      <td>0</td>\n    </tr>\n    <tr>\n      <th>1</th>\n      <td>b</td>\n      <td>6</td>\n      <td>4</td>\n      <td>0</td>\n      <td>1</td>\n    </tr>\n    <tr>\n      <th>0</th>\n      <td>a</td>\n      <td>3</td>\n      <td>2</td>\n      <td>1</td>\n      <td>2</td>\n    </tr>\n    <tr>\n      <th>1</th>\n      <td>b</td>\n      <td>9</td>\n      <td>5</td>\n      <td>1</td>\n      <td>2</td>\n    </tr>\n    <tr>\n      <th>2</th>\n      <td>a</td>\n      <td>2</td>\n      <td>3</td>\n      <td>2</td>\n      <td>1</td>\n    </tr>\n    <tr>\n      <th>3</th>\n      <td>b</td>\n      <td>5</td>\n      <td>6</td>\n      <td>2</td>\n      <td>0</td>\n    </tr>\n  </tbody>\n</table>\n</div>"
     },
     "metadata": {},
     "output_type": "execute_result",
     "execution_count": 2
    }
   ],
   "source": [
    "# grouped function such as count or row order\n",
    "\n",
    "group_col = 'group'\n",
    "order_col = 'order'\n",
    "temp_col = '_orig_index_column'\n",
    "result_col = 'per_group_seq'\n",
    "\n",
    "dd = dd_orig.copy()\n",
    "\n",
    "dd = dd.reset_index(drop=True)\n",
    "dd[temp_col] = dd.index\n",
    "dd = dd.set_index(dd[temp_col])\n",
    "\n",
    "dsub = dd.loc[:, [group_col, order_col, temp_col]]\n",
    "dsub = dsub.set_index(dsub[order_col])\n",
    "dsub[result_col] = dsub.groupby(group_col).cumcount()\n",
    "dsub = dsub.set_index(dsub[temp_col])\n",
    "dd[result_col] = dsub[result_col]\n",
    "dd = dd.reset_index(drop=True)\n",
    "\n",
    "dd.compute()\n"
   ],
   "metadata": {
    "collapsed": false,
    "pycharm": {
     "name": "#%%\n",
     "is_executing": false
    }
   }
  },
  {
   "cell_type": "code",
   "execution_count": 3,
   "outputs": [
    {
     "data": {
      "text/plain": "  group  order  other_info  _orig_index_column  per_group_sum\n0     b      6           4                   0              6\n1     a      1           1                   0             20\n0     b      9           5                   1              6\n1     a      3           2                   1             20\n2     b      5           6                   2              6\n3     a      2           3                   2             20",
      "text/html": "<div>\n<style scoped>\n    .dataframe tbody tr th:only-of-type {\n        vertical-align: middle;\n    }\n\n    .dataframe tbody tr th {\n        vertical-align: top;\n    }\n\n    .dataframe thead th {\n        text-align: right;\n    }\n</style>\n<table border=\"1\" class=\"dataframe\">\n  <thead>\n    <tr style=\"text-align: right;\">\n      <th></th>\n      <th>group</th>\n      <th>order</th>\n      <th>other_info</th>\n      <th>_orig_index_column</th>\n      <th>per_group_sum</th>\n    </tr>\n  </thead>\n  <tbody>\n    <tr>\n      <th>0</th>\n      <td>b</td>\n      <td>6</td>\n      <td>4</td>\n      <td>0</td>\n      <td>6</td>\n    </tr>\n    <tr>\n      <th>1</th>\n      <td>a</td>\n      <td>1</td>\n      <td>1</td>\n      <td>0</td>\n      <td>20</td>\n    </tr>\n    <tr>\n      <th>0</th>\n      <td>b</td>\n      <td>9</td>\n      <td>5</td>\n      <td>1</td>\n      <td>6</td>\n    </tr>\n    <tr>\n      <th>1</th>\n      <td>a</td>\n      <td>3</td>\n      <td>2</td>\n      <td>1</td>\n      <td>20</td>\n    </tr>\n    <tr>\n      <th>2</th>\n      <td>b</td>\n      <td>5</td>\n      <td>6</td>\n      <td>2</td>\n      <td>6</td>\n    </tr>\n    <tr>\n      <th>3</th>\n      <td>a</td>\n      <td>2</td>\n      <td>3</td>\n      <td>2</td>\n      <td>20</td>\n    </tr>\n  </tbody>\n</table>\n</div>"
     },
     "metadata": {},
     "output_type": "execute_result",
     "execution_count": 3
    }
   ],
   "source": [
    "# grouped aggregation, merged back into original frame\n",
    "\n",
    "group_col = 'group'\n",
    "value_col = 'order'\n",
    "temp_col = '_orig_index_column'\n",
    "result_col = 'per_group_sum'\n",
    "\n",
    "dd = dd_orig.copy()\n",
    "\n",
    "dd = dd.reset_index(drop=True)\n",
    "dd[temp_col] = dd.index\n",
    "dd = dd.set_index(dd[temp_col])\n",
    "\n",
    "dsub = dd.loc[:, [group_col, value_col, temp_col]]\n",
    "dagg = dsub.groupby(dsub[group_col]).sum()\n",
    "dagg = dagg.reset_index(drop = False)\n",
    "dagg = dagg.set_index(dagg[group_col])\n",
    "dsub = dsub.set_index(dsub[group_col])\n",
    "dsub[result_col] = dagg[value_col]\n",
    "dsub = dsub.set_index(dsub[temp_col])\n",
    "dd[result_col] = dsub[result_col]\n",
    "dd = dd.reset_index(drop=True)\n",
    "\n",
    "dd.compute()"
   ],
   "metadata": {
    "collapsed": false,
    "pycharm": {
     "name": "#%%\n",
     "is_executing": false
    }
   }
  }
 ],
 "metadata": {
  "language_info": {
   "codemirror_mode": {
    "name": "ipython",
    "version": 2
   },
   "file_extension": ".py",
   "mimetype": "text/x-python",
   "name": "python",
   "nbconvert_exporter": "python",
   "pygments_lexer": "ipython2",
   "version": "2.7.6"
  },
  "kernelspec": {
   "name": "python3",
   "language": "python",
   "display_name": "Python 3"
  },
  "pycharm": {
   "stem_cell": {
    "cell_type": "raw",
    "source": [],
    "metadata": {
     "collapsed": false
    }
   }
  }
 },
 "nbformat": 4,
 "nbformat_minor": 0
}