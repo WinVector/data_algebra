{
 "cells": [
  {
   "cell_type": "code",
   "execution_count": 1,
   "metadata": {},
   "outputs": [],
   "source": [
    "import pandas\n",
    "\n",
    "from data_algebra.data_ops import *\n",
    "from data_algebra.arrow import *\n",
    "import data_algebra.SQLite"
   ]
  },
  {
   "cell_type": "code",
   "execution_count": 2,
   "metadata": {},
   "outputs": [],
   "source": [
    "td = TableDescription(\n",
    "  \"d\", \n",
    "  [\"col1\", \"col2\", \"col3\"])"
   ]
  },
  {
   "cell_type": "code",
   "execution_count": 3,
   "metadata": {},
   "outputs": [],
   "source": [
    "ops = td. \\\n",
    "    extend({'sum23': 'col2 + col3'}). \\\n",
    "    select_columns(['sum23'])"
   ]
  },
  {
   "cell_type": "code",
   "execution_count": 4,
   "metadata": {},
   "outputs": [
    {
     "data": {
      "text/plain": [
       "TableDescription(\n",
       " table_name='d',\n",
       " column_names=[\n",
       "   'col1', 'col2', 'col3']) .\\\n",
       "   extend({\n",
       "    'sum23': 'col2 + col3'}) .\\\n",
       "   select_columns(['sum23'])"
      ]
     },
     "execution_count": 4,
     "metadata": {},
     "output_type": "execute_result"
    }
   ],
   "source": [
    "ops"
   ]
  },
  {
   "cell_type": "code",
   "execution_count": 5,
   "metadata": {},
   "outputs": [
    {
     "data": {
      "text/plain": [
       "{'d': {'col2', 'col3'}}"
      ]
     },
     "execution_count": 5,
     "metadata": {},
     "output_type": "execute_result"
    }
   ],
   "source": [
    "ops.columns_used()"
   ]
  },
  {
   "cell_type": "code",
   "execution_count": 6,
   "metadata": {},
   "outputs": [
    {
     "name": "stdout",
     "output_type": "stream",
     "text": [
      "SELECT \"sum23\"\n",
      "FROM\n",
      "  (SELECT \"col2\" + \"col3\" AS \"sum23\"\n",
      "   FROM (\"d\") \"SQ_0\") \"SQ_1\"\n"
     ]
    }
   ],
   "source": [
    "db_model = data_algebra.SQLite.SQLiteModel()\n",
    "\n",
    "print(ops.to_sql(db_model=db_model, pretty=True))"
   ]
  },
  {
   "cell_type": "code",
   "execution_count": 7,
   "metadata": {},
   "outputs": [],
   "source": [
    "d = pandas.DataFrame({\n",
    "    'col1': [1], \n",
    "    'col2': [2], \n",
    "    'col3': [3]\n",
    "})"
   ]
  },
  {
   "cell_type": "code",
   "execution_count": 8,
   "metadata": {},
   "outputs": [
    {
     "data": {
      "text/html": [
       "<div>\n",
       "<style scoped>\n",
       "    .dataframe tbody tr th:only-of-type {\n",
       "        vertical-align: middle;\n",
       "    }\n",
       "\n",
       "    .dataframe tbody tr th {\n",
       "        vertical-align: top;\n",
       "    }\n",
       "\n",
       "    .dataframe thead th {\n",
       "        text-align: right;\n",
       "    }\n",
       "</style>\n",
       "<table border=\"1\" class=\"dataframe\">\n",
       "  <thead>\n",
       "    <tr style=\"text-align: right;\">\n",
       "      <th></th>\n",
       "      <th>col1</th>\n",
       "      <th>col2</th>\n",
       "      <th>col3</th>\n",
       "    </tr>\n",
       "  </thead>\n",
       "  <tbody>\n",
       "    <tr>\n",
       "      <th>0</th>\n",
       "      <td>1</td>\n",
       "      <td>2</td>\n",
       "      <td>3</td>\n",
       "    </tr>\n",
       "  </tbody>\n",
       "</table>\n",
       "</div>"
      ],
      "text/plain": [
       "   col1  col2  col3\n",
       "0     1     2     3"
      ]
     },
     "execution_count": 8,
     "metadata": {},
     "output_type": "execute_result"
    }
   ],
   "source": [
    "d"
   ]
  },
  {
   "cell_type": "code",
   "execution_count": 9,
   "metadata": {},
   "outputs": [
    {
     "data": {
      "text/html": [
       "<div>\n",
       "<style scoped>\n",
       "    .dataframe tbody tr th:only-of-type {\n",
       "        vertical-align: middle;\n",
       "    }\n",
       "\n",
       "    .dataframe tbody tr th {\n",
       "        vertical-align: top;\n",
       "    }\n",
       "\n",
       "    .dataframe thead th {\n",
       "        text-align: right;\n",
       "    }\n",
       "</style>\n",
       "<table border=\"1\" class=\"dataframe\">\n",
       "  <thead>\n",
       "    <tr style=\"text-align: right;\">\n",
       "      <th></th>\n",
       "      <th>sum23</th>\n",
       "    </tr>\n",
       "  </thead>\n",
       "  <tbody>\n",
       "    <tr>\n",
       "      <th>0</th>\n",
       "      <td>5</td>\n",
       "    </tr>\n",
       "  </tbody>\n",
       "</table>\n",
       "</div>"
      ],
      "text/plain": [
       "   sum23\n",
       "0      5"
      ]
     },
     "execution_count": 9,
     "metadata": {},
     "output_type": "execute_result"
    }
   ],
   "source": [
    "ops.transform(d)"
   ]
  },
  {
   "cell_type": "code",
   "execution_count": 10,
   "metadata": {},
   "outputs": [
    {
     "data": {
      "text/plain": [
       "TableDescription(\n",
       " table_name='d',\n",
       " column_names=[\n",
       "   'col1', 'col2', 'col3']) .\\\n",
       "   extend({\n",
       "    'sum23': 'col2 + col3'}) .\\\n",
       "   select_columns(['sum23']) .\\\n",
       "   extend({\n",
       "    'x': '5'}) .\\\n",
       "   select_columns(['sum23'])"
      ]
     },
     "execution_count": 10,
     "metadata": {},
     "output_type": "execute_result"
    }
   ],
   "source": [
    "ops = td. \\\n",
    "    extend({'sum23': 'col2 + col3'}). \\\n",
    "    select_columns(['sum23']). \\\n",
    "    extend({'x': 1}). \\\n",
    "    extend({'x': 2}). \\\n",
    "    extend({'x': 3}). \\\n",
    "    extend({'x': 4}). \\\n",
    "    extend({'x': 5}). \\\n",
    "    select_columns(['sum23'])\n",
    "\n",
    "ops"
   ]
  },
  {
   "cell_type": "code",
   "execution_count": 11,
   "metadata": {},
   "outputs": [
    {
     "name": "stdout",
     "output_type": "stream",
     "text": [
      "caught exception: name 'col2_MISSPELLED' is not defined\n"
     ]
    }
   ],
   "source": [
    "try:\n",
    "    ops_bad = td. \\\n",
    "      extend({'sum23': 'col2_MISSPELLED + col3'})\n",
    "except NameError as ne:\n",
    "    print('caught exception: ' + str(ne))"
   ]
  },
  {
   "cell_type": "code",
   "execution_count": 12,
   "metadata": {},
   "outputs": [
    {
     "name": "stdout",
     "output_type": "stream",
     "text": [
      "SELECT \"sum23\"\n",
      "FROM\n",
      "  (SELECT \"sum23\"\n",
      "   FROM\n",
      "     (SELECT \"col2\" + \"col3\" AS \"sum23\"\n",
      "      FROM (\"d\") \"SQ_0\") \"SQ_1\") \"SQ_2\"\n"
     ]
    }
   ],
   "source": [
    "print(ops.to_sql(db_model=db_model, pretty=True))"
   ]
  },
  {
   "cell_type": "code",
   "execution_count": null,
   "metadata": {},
   "outputs": [],
   "source": []
  }
 ],
 "metadata": {
  "kernelspec": {
   "display_name": "Python 3",
   "language": "python",
   "name": "python3"
  },
  "language_info": {
   "codemirror_mode": {
    "name": "ipython",
    "version": 3
   },
   "file_extension": ".py",
   "mimetype": "text/x-python",
   "name": "python",
   "nbconvert_exporter": "python",
   "pygments_lexer": "ipython3",
   "version": "3.7.5"
  }
 },
 "nbformat": 4,
 "nbformat_minor": 4
}
