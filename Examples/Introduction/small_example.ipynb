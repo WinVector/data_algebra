{
 "cells": [
  {
   "cell_type": "markdown",
   "source": [],
   "metadata": {
    "collapsed": false,
    "pycharm": {
     "name": "#%% md\n"
    }
   }
  },
  {
   "cell_type": "code",
   "execution_count": 1,
   "metadata": {
    "collapsed": true
   },
   "outputs": [
    {
     "data": {
      "text/plain": "   c  v\n0  c  1\n1  c  2\n2  b  3\n3  a  4",
      "text/html": "<div>\n<style scoped>\n    .dataframe tbody tr th:only-of-type {\n        vertical-align: middle;\n    }\n\n    .dataframe tbody tr th {\n        vertical-align: top;\n    }\n\n    .dataframe thead th {\n        text-align: right;\n    }\n</style>\n<table border=\"1\" class=\"dataframe\">\n  <thead>\n    <tr style=\"text-align: right;\">\n      <th></th>\n      <th>c</th>\n      <th>v</th>\n    </tr>\n  </thead>\n  <tbody>\n    <tr>\n      <th>0</th>\n      <td>c</td>\n      <td>1</td>\n    </tr>\n    <tr>\n      <th>1</th>\n      <td>c</td>\n      <td>2</td>\n    </tr>\n    <tr>\n      <th>2</th>\n      <td>b</td>\n      <td>3</td>\n    </tr>\n    <tr>\n      <th>3</th>\n      <td>a</td>\n      <td>4</td>\n    </tr>\n  </tbody>\n</table>\n</div>"
     },
     "execution_count": 1,
     "metadata": {},
     "output_type": "execute_result"
    }
   ],
   "source": [
    "\n",
    "import pandas\n",
    "from data_algebra.data_ops import *\n",
    "\n",
    "\n",
    "d = pandas.DataFrame({\n",
    "    'c': ['c', 'c', 'b', 'a'],\n",
    "    'v': [1, 2, 3, 4],\n",
    "})\n",
    "\n",
    "d"
   ]
  },
  {
   "cell_type": "code",
   "execution_count": 2,
   "outputs": [],
   "source": [
    "table_name = 'data-algebra-test.test_1.d'\n",
    "\n",
    "operations = describe_table(d, table_name=table_name) .\\\n",
    "    extend({\n",
    "        'g': '\"prefix_\" %+% c'\n",
    "         }) .\\\n",
    "    project({\n",
    "        'group_total': 'v.sum()'\n",
    "        },\n",
    "        group_by=['g']\n",
    "        ) .\\\n",
    "    order_rows(['g'])\n"
   ],
   "metadata": {
    "collapsed": false,
    "pycharm": {
     "name": "#%%\n"
    }
   }
  },
  {
   "cell_type": "code",
   "execution_count": 3,
   "outputs": [
    {
     "data": {
      "text/plain": "          g  group_total\n0  prefix_a            4\n1  prefix_b            3\n2  prefix_c            3",
      "text/html": "<div>\n<style scoped>\n    .dataframe tbody tr th:only-of-type {\n        vertical-align: middle;\n    }\n\n    .dataframe tbody tr th {\n        vertical-align: top;\n    }\n\n    .dataframe thead th {\n        text-align: right;\n    }\n</style>\n<table border=\"1\" class=\"dataframe\">\n  <thead>\n    <tr style=\"text-align: right;\">\n      <th></th>\n      <th>g</th>\n      <th>group_total</th>\n    </tr>\n  </thead>\n  <tbody>\n    <tr>\n      <th>0</th>\n      <td>prefix_a</td>\n      <td>4</td>\n    </tr>\n    <tr>\n      <th>1</th>\n      <td>prefix_b</td>\n      <td>3</td>\n    </tr>\n    <tr>\n      <th>2</th>\n      <td>prefix_c</td>\n      <td>3</td>\n    </tr>\n  </tbody>\n</table>\n</div>"
     },
     "execution_count": 3,
     "metadata": {},
     "output_type": "execute_result"
    }
   ],
   "source": [
    "res_pandas = operations.transform(d)\n",
    "\n",
    "res_pandas"
   ],
   "metadata": {
    "collapsed": false,
    "pycharm": {
     "name": "#%%\n"
    }
   }
  },
  {
   "cell_type": "code",
   "execution_count": 4,
   "outputs": [
    {
     "name": "stdout",
     "output_type": "stream",
     "text": [
      "SELECT `g`,\n",
      "       `group_total`\n",
      "FROM\n",
      "  (SELECT `g`,\n",
      "          SUM(`v`) AS `group_total`\n",
      "   FROM\n",
      "     (SELECT (\"prefix_\"|| `c`) AS `g`,\n",
      "             `v`\n",
      "      FROM `data-algebra-test.test_1.d`) `extend_1`\n",
      "   GROUP BY `g`) `project_2`\n",
      "ORDER BY `g`\n"
     ]
    }
   ],
   "source": [
    "import os\n",
    "from google.cloud import bigquery\n",
    "import data_algebra.BigQuery\n",
    "\n",
    "os.environ[\"GOOGLE_APPLICATION_CREDENTIALS\"] = \"/Users/johnmount/big_query/big_query_jm.json\"\n",
    "biqquery_handle = data_algebra.BigQuery.BigQueryModel().db_handle(bigquery.Client())\n",
    "\n",
    "bigquery_sql = biqquery_handle.to_sql(operations, pretty=True)\n",
    "\n",
    "print(bigquery_sql)"
   ],
   "metadata": {
    "collapsed": false,
    "pycharm": {
     "name": "#%%\n"
    }
   }
  },
  {
   "cell_type": "code",
   "execution_count": 5,
   "outputs": [
    {
     "data": {
      "text/plain": "          g  group_total\n0  prefix_a            4\n1  prefix_b            3\n2  prefix_c            3",
      "text/html": "<div>\n<style scoped>\n    .dataframe tbody tr th:only-of-type {\n        vertical-align: middle;\n    }\n\n    .dataframe tbody tr th {\n        vertical-align: top;\n    }\n\n    .dataframe thead th {\n        text-align: right;\n    }\n</style>\n<table border=\"1\" class=\"dataframe\">\n  <thead>\n    <tr style=\"text-align: right;\">\n      <th></th>\n      <th>g</th>\n      <th>group_total</th>\n    </tr>\n  </thead>\n  <tbody>\n    <tr>\n      <th>0</th>\n      <td>prefix_a</td>\n      <td>4</td>\n    </tr>\n    <tr>\n      <th>1</th>\n      <td>prefix_b</td>\n      <td>3</td>\n    </tr>\n    <tr>\n      <th>2</th>\n      <td>prefix_c</td>\n      <td>3</td>\n    </tr>\n  </tbody>\n</table>\n</div>"
     },
     "execution_count": 5,
     "metadata": {},
     "output_type": "execute_result"
    }
   ],
   "source": [
    "biqquery_handle.insert_table(d, table_name=table_name, allow_overwrite=True)\n",
    "\n",
    "res_bigquery = biqquery_handle.read_query(operations)\n",
    "\n",
    "res_bigquery"
   ],
   "metadata": {
    "collapsed": false,
    "pycharm": {
     "name": "#%%\n"
    }
   }
  },
  {
   "cell_type": "code",
   "execution_count": 6,
   "outputs": [],
   "source": [
    "assert res_pandas.equals(res_bigquery)"
   ],
   "metadata": {
    "collapsed": false,
    "pycharm": {
     "name": "#%%\n"
    }
   }
  },
  {
   "cell_type": "code",
   "execution_count": 7,
   "outputs": [],
   "source": [
    "biqquery_handle.close()"
   ],
   "metadata": {
    "collapsed": false,
    "pycharm": {
     "name": "#%%\n"
    }
   }
  },
  {
   "cell_type": "code",
   "execution_count": 8,
   "outputs": [
    {
     "name": "stdout",
     "output_type": "stream",
     "text": [
      "SELECT \"g\",\n",
      "       \"group_total\"\n",
      "FROM\n",
      "  (SELECT \"g\",\n",
      "          SUM(\"v\") AS \"group_total\"\n",
      "   FROM\n",
      "     (SELECT ('prefix_'|| \"c\") AS \"g\",\n",
      "             \"v\"\n",
      "      FROM \"data-algebra-test.test_1.d\") \"extend_1\"\n",
      "   GROUP BY \"g\") \"project_2\"\n",
      "ORDER BY \"g\"\n"
     ]
    }
   ],
   "source": [
    "import sqlite3\n",
    "import data_algebra.SQLite\n",
    "\n",
    "sqlite_handle = data_algebra.SQLite.SQLiteModel().db_handle(sqlite3.connect(\":memory:\"))\n",
    "\n",
    "sqlite_sql = sqlite_handle.to_sql(operations, pretty=True)\n",
    "\n",
    "print(sqlite_sql)"
   ],
   "metadata": {
    "collapsed": false,
    "pycharm": {
     "name": "#%%\n"
    }
   }
  },
  {
   "cell_type": "code",
   "execution_count": 9,
   "outputs": [
    {
     "data": {
      "text/plain": "          g  group_total\n0  prefix_a            4\n1  prefix_b            3\n2  prefix_c            3",
      "text/html": "<div>\n<style scoped>\n    .dataframe tbody tr th:only-of-type {\n        vertical-align: middle;\n    }\n\n    .dataframe tbody tr th {\n        vertical-align: top;\n    }\n\n    .dataframe thead th {\n        text-align: right;\n    }\n</style>\n<table border=\"1\" class=\"dataframe\">\n  <thead>\n    <tr style=\"text-align: right;\">\n      <th></th>\n      <th>g</th>\n      <th>group_total</th>\n    </tr>\n  </thead>\n  <tbody>\n    <tr>\n      <th>0</th>\n      <td>prefix_a</td>\n      <td>4</td>\n    </tr>\n    <tr>\n      <th>1</th>\n      <td>prefix_b</td>\n      <td>3</td>\n    </tr>\n    <tr>\n      <th>2</th>\n      <td>prefix_c</td>\n      <td>3</td>\n    </tr>\n  </tbody>\n</table>\n</div>"
     },
     "execution_count": 9,
     "metadata": {},
     "output_type": "execute_result"
    }
   ],
   "source": [
    "sqlite_handle.insert_table(d, table_name=table_name, allow_overwrite=True)\n",
    "res_sqlite = sqlite_handle.read_query(operations)\n",
    "\n",
    "res_sqlite"
   ],
   "metadata": {
    "collapsed": false,
    "pycharm": {
     "name": "#%%\n"
    }
   }
  },
  {
   "cell_type": "code",
   "execution_count": 10,
   "outputs": [],
   "source": [
    "assert res_sqlite.equals(res_bigquery)"
   ],
   "metadata": {
    "collapsed": false,
    "pycharm": {
     "name": "#%%\n"
    }
   }
  },
  {
   "cell_type": "code",
   "execution_count": 11,
   "outputs": [
    {
     "data": {
      "text/plain": "TableDescription(\n table_name='data-algebra-test.test_1.d',\n column_names=[\n   'c', 'v']) .\\\n   extend({\n    'g': \"'prefix_'.concat(c)\"}) .\\\n   project({\n    'group_total': 'v.sum()'},\n   group_by=['g']) .\\\n   order_rows(['g'])"
     },
     "execution_count": 11,
     "metadata": {},
     "output_type": "execute_result"
    }
   ],
   "source": [
    "operations"
   ],
   "metadata": {
    "collapsed": false,
    "pycharm": {
     "name": "#%%\n"
    }
   }
  }
 ],
 "metadata": {
  "kernelspec": {
   "display_name": "Python 3",
   "language": "python",
   "name": "python3"
  },
  "language_info": {
   "codemirror_mode": {
    "name": "ipython",
    "version": 2
   },
   "file_extension": ".py",
   "mimetype": "text/x-python",
   "name": "python",
   "nbconvert_exporter": "python",
   "pygments_lexer": "ipython2",
   "version": "2.7.6"
  }
 },
 "nbformat": 4,
 "nbformat_minor": 0
}