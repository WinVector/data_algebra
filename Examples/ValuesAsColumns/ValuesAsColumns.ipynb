{
 "cells": [
  {
   "cell_type": "code",
   "execution_count": null,
   "metadata": {
    "collapsed": true
   },
   "outputs": [],
   "source": [
    "import pandas as pd\n",
    "from data_algebra.data_ops import data, descr, ex\n",
    "from data_algebra.BigQuery import BigQueryModel, BigQuery_DBHandle\n",
    "\n",
    "\n",
    "d = pd.DataFrame({\n",
    "    'group': ['a', 'a', 'b', 'b', 'b'],\n",
    "    'one': [1, 1, 1, 1, 1],\n",
    "})\n",
    "\n",
    "ops = (\n",
    "    descr(d=d)\n",
    "        .project(\n",
    "            {\n",
    "                'sum_one': 'one.sum()',\n",
    "                'sum_1': '(1).sum()',\n",
    "            },\n",
    "            group_by=['group']\n",
    "        )\n",
    ")\n",
    "\n",
    "ops.transform(d)"
   ]
  },
  {
   "cell_type": "code",
   "execution_count": null,
   "outputs": [],
   "source": [
    "db_model = BigQueryModel()\n",
    "\n",
    "print(db_model.to_sql(ops))\n"
   ],
   "metadata": {
    "collapsed": false,
    "pycharm": {
     "name": "#%%\n"
    }
   }
  }
 ],
 "metadata": {
  "kernelspec": {
   "display_name": "Python 3",
   "language": "python",
   "name": "python3"
  },
  "language_info": {
   "codemirror_mode": {
    "name": "ipython",
    "version": 2
   },
   "file_extension": ".py",
   "mimetype": "text/x-python",
   "name": "python",
   "nbconvert_exporter": "python",
   "pygments_lexer": "ipython2",
   "version": "2.7.6"
  }
 },
 "nbformat": 4,
 "nbformat_minor": 0
}