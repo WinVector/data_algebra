{
 "cells": [
  {
   "cell_type": "markdown",
   "source": [
    "In [our last note](https://github.com/WinVector/data_algebra/blob/main/Examples/GettingStarted/comparing_two_dataframes.ipynb)\n",
    "we mentioned that SQLite doesn't currently support full joins.\n",
    "\n",
    "Let's take a look at that.\n",
    "\n",
    "First we import our libraries."
   ],
   "metadata": {
    "collapsed": false,
    "pycharm": {
     "name": "#%% md\n"
    }
   }
  },
  {
   "cell_type": "code",
   "execution_count": 1,
   "metadata": {
    "collapsed": true
   },
   "outputs": [],
   "source": [
    "import pandas\n",
    "\n",
    "from data_algebra.data_ops import *\n",
    "import data_algebra.SQLite\n",
    "import data_algebra.test_util"
   ]
  },
  {
   "cell_type": "markdown",
   "source": [
    "We set up our example."
   ],
   "metadata": {
    "collapsed": false,
    "pycharm": {
     "name": "#%% md\n"
    }
   }
  },
  {
   "cell_type": "code",
   "execution_count": 2,
   "outputs": [
    {
     "data": {
      "text/plain": "(TableDescription(table_name=\"d2\", column_names=[\"g\", \"v1\", \"v2\"]))"
     },
     "execution_count": 2,
     "metadata": {},
     "output_type": "execute_result"
    }
   ],
   "source": [
    "d1 = pandas.DataFrame({\n",
    "    'g': ['a', 'a', 'b', 'b', 'b'],\n",
    "    'v1': [1, None, 3, 4, None],\n",
    "    'v2': [None, 1, None, 7, 8],\n",
    "})\n",
    "\n",
    "d2 = pandas.DataFrame({\n",
    "    'g': ['c', 'b', 'b'],\n",
    "    'v1': [None, 1, None],\n",
    "    'v2': [1, None, 2],\n",
    "})\n",
    "\n",
    "sqlite_handle = data_algebra.SQLite.example_handle()\n",
    "sqlite_handle.insert_table(d1, table_name='d1')\n",
    "sqlite_handle.insert_table(d2, table_name='d2')"
   ],
   "metadata": {
    "collapsed": false,
    "pycharm": {
     "name": "#%%\n"
    }
   }
  },
  {
   "cell_type": "markdown",
   "source": [
    "When we try for a full join, we get generate an exception."
   ],
   "metadata": {
    "collapsed": false,
    "pycharm": {
     "name": "#%% md\n"
    }
   }
  },
  {
   "cell_type": "code",
   "execution_count": 3,
   "outputs": [
    {
     "name": "stdout",
     "output_type": "stream",
     "text": [
      "Caught: Execution failed on sql 'SELECT * FROM d1 FULL JOIN d2 ON d1.g = d2.g': RIGHT and FULL OUTER JOINs are not currently supported\n"
     ]
    }
   ],
   "source": [
    "try:\n",
    "    sqlite_handle.read_query(\n",
    "        'SELECT * FROM d1 FULL JOIN d2 ON d1.g = d2.g')\n",
    "except Exception as e:\n",
    "    print('Caught: ' + str(e))"
   ],
   "metadata": {
    "collapsed": false,
    "pycharm": {
     "name": "#%%\n"
    }
   }
  },
  {
   "cell_type": "markdown",
   "source": [
    "In the [data algebra](https://github.com/WinVector/data_algebra)\n",
    "we would write the query a bit more like the following."
   ],
   "metadata": {
    "collapsed": false,
    "pycharm": {
     "name": "#%% md\n"
    }
   }
  },
  {
   "cell_type": "code",
   "execution_count": 4,
   "outputs": [],
   "source": [
    "join_columns = ['g']\n",
    "\n",
    "ops = (\n",
    "    descr(d1=d1)\n",
    "        .natural_join(\n",
    "            b=descr(d2=d2),\n",
    "            by=join_columns,\n",
    "            jointype='full')\n",
    ")"
   ],
   "metadata": {
    "collapsed": false,
    "pycharm": {
     "name": "#%%\n"
    }
   }
  },
  {
   "cell_type": "markdown",
   "source": [
    "And we have no trouble executing this query in Pandas"
   ],
   "metadata": {
    "collapsed": false,
    "pycharm": {
     "name": "#%% md\n"
    }
   }
  },
  {
   "cell_type": "code",
   "execution_count": 5,
   "outputs": [
    {
     "data": {
      "text/plain": "   g   v1   v2\n0  a  1.0  NaN\n1  a  NaN  1.0\n2  b  3.0  NaN\n3  b  3.0  2.0\n4  b  4.0  7.0\n5  b  4.0  7.0\n6  b  1.0  8.0\n7  b  NaN  8.0\n8  c  NaN  1.0",
      "text/html": "<div>\n<style scoped>\n    .dataframe tbody tr th:only-of-type {\n        vertical-align: middle;\n    }\n\n    .dataframe tbody tr th {\n        vertical-align: top;\n    }\n\n    .dataframe thead th {\n        text-align: right;\n    }\n</style>\n<table border=\"1\" class=\"dataframe\">\n  <thead>\n    <tr style=\"text-align: right;\">\n      <th></th>\n      <th>g</th>\n      <th>v1</th>\n      <th>v2</th>\n    </tr>\n  </thead>\n  <tbody>\n    <tr>\n      <th>0</th>\n      <td>a</td>\n      <td>1.0</td>\n      <td>NaN</td>\n    </tr>\n    <tr>\n      <th>1</th>\n      <td>a</td>\n      <td>NaN</td>\n      <td>1.0</td>\n    </tr>\n    <tr>\n      <th>2</th>\n      <td>b</td>\n      <td>3.0</td>\n      <td>NaN</td>\n    </tr>\n    <tr>\n      <th>3</th>\n      <td>b</td>\n      <td>3.0</td>\n      <td>2.0</td>\n    </tr>\n    <tr>\n      <th>4</th>\n      <td>b</td>\n      <td>4.0</td>\n      <td>7.0</td>\n    </tr>\n    <tr>\n      <th>5</th>\n      <td>b</td>\n      <td>4.0</td>\n      <td>7.0</td>\n    </tr>\n    <tr>\n      <th>6</th>\n      <td>b</td>\n      <td>1.0</td>\n      <td>8.0</td>\n    </tr>\n    <tr>\n      <th>7</th>\n      <td>b</td>\n      <td>NaN</td>\n      <td>8.0</td>\n    </tr>\n    <tr>\n      <th>8</th>\n      <td>c</td>\n      <td>NaN</td>\n      <td>1.0</td>\n    </tr>\n  </tbody>\n</table>\n</div>"
     },
     "execution_count": 5,
     "metadata": {},
     "output_type": "execute_result"
    }
   ],
   "source": [
    "res_pandas = ops.eval({'d1': d1, 'd2': d2})\n",
    "\n",
    "res_pandas\n"
   ],
   "metadata": {
    "collapsed": false,
    "pycharm": {
     "name": "#%%\n"
    }
   }
  },
  {
   "cell_type": "markdown",
   "source": [
    "We *can* simulate a full join using concatenate (or \"UNION ALL\") and left joins.\n",
    "\n",
    "This has two disadvantages:\n",
    "\n",
    "  * The adapting query is a bit long.\n",
    "  * It refers to each incoming data frame twice, breaking pipeline nature of such a query\n",
    "    (the execution pattern being a DAG or directed acyclic graph instead of a tree).\n",
    "\n",
    "Let's ignore these issues and write down the query that simulates the full join. Our strategy is:\n",
    "\n",
    "  * Build up a table with each key from *either* table in exactly one row.\n",
    "  * Left join the key table into the `d1` and then into `d2`.\n",
    "\n",
    "The query looks like this."
   ],
   "metadata": {
    "collapsed": false,
    "pycharm": {
     "name": "#%% md\n"
    }
   }
  },
  {
   "cell_type": "code",
   "execution_count": 6,
   "outputs": [],
   "source": [
    "ops_simulate = (\n",
    "    # get shared key set\n",
    "    descr(d1=d1)\n",
    "        .project({}, group_by=join_columns)\n",
    "        .concat_rows(\n",
    "            b=descr(d2=d2)\n",
    "                .project({}, group_by=join_columns),\n",
    "            id_column=None,\n",
    "            )\n",
    "        .project({}, group_by=join_columns)\n",
    "        # simulate full join with left joins\n",
    "        .natural_join(\n",
    "            b=descr(d1=d1),\n",
    "            by=join_columns,\n",
    "            jointype='left')\n",
    "        .natural_join(\n",
    "            b=descr(d2=d2),\n",
    "            by=join_columns,\n",
    "            jointype='left')\n",
    ")"
   ],
   "metadata": {
    "collapsed": false,
    "pycharm": {
     "name": "#%%\n"
    }
   }
  },
  {
   "cell_type": "markdown",
   "source": [
    "And the result in Pandas is as follows."
   ],
   "metadata": {
    "collapsed": false,
    "pycharm": {
     "name": "#%% md\n"
    }
   }
  },
  {
   "cell_type": "code",
   "execution_count": 7,
   "outputs": [],
   "source": [
    "res_pandas_2 = ops_simulate.eval({'d1': d1, 'd2': d2})\n",
    "\n",
    "assert data_algebra.test_util.equivalent_frames(res_pandas_2, res_pandas)"
   ],
   "metadata": {
    "collapsed": false,
    "pycharm": {
     "name": "#%%\n"
    }
   }
  },
  {
   "cell_type": "markdown",
   "source": [
    "The sole advantage is the longer `ops_simulate` pipeline can be run in SQLite."
   ],
   "metadata": {
    "collapsed": false,
    "pycharm": {
     "name": "#%% md\n"
    }
   }
  },
  {
   "cell_type": "code",
   "execution_count": 8,
   "outputs": [],
   "source": [
    "res_sqlite = sqlite_handle.read_query(ops_simulate)\n",
    "\n",
    "assert data_algebra.test_util.equivalent_frames(res_sqlite, res_pandas)"
   ],
   "metadata": {
    "collapsed": false,
    "pycharm": {
     "name": "#%%\n"
    }
   }
  },
  {
   "cell_type": "markdown",
   "source": [
    "Some exciting news is, the next upcoming version of the data algebra\n",
    "(version `0.8.3` and above) incorporate this simulation into its SQLite\n",
    "adapter. It performs and operator tree to dag re-write and can execute\n",
    "the original operations directly in the database."
   ],
   "metadata": {
    "collapsed": false,
    "pycharm": {
     "name": "#%% md\n"
    }
   }
  },
  {
   "cell_type": "code",
   "execution_count": 9,
   "outputs": [],
   "source": [
    "res_sqlite_2 = sqlite_handle.read_query(ops)\n",
    "\n",
    "assert data_algebra.test_util.equivalent_frames(res_sqlite_2, res_pandas)"
   ],
   "metadata": {
    "collapsed": false,
    "pycharm": {
     "name": "#%%\n"
    }
   }
  },
  {
   "cell_type": "markdown",
   "source": [
    "The generated query isn't too illegible. And due to power of SQL-with can in fact be used on\n",
    "non-table sources."
   ],
   "metadata": {
    "collapsed": false,
    "pycharm": {
     "name": "#%% md\n"
    }
   }
  },
  {
   "cell_type": "code",
   "execution_count": 10,
   "outputs": [
    {
     "name": "stdout",
     "output_type": "stream",
     "text": [
      "-- data_algebra SQL https://github.com/WinVector/data_algebra\n",
      "--  dialect: SQLiteModel\n",
      "--       string quote: '\n",
      "--   identifier quote: \"\n",
      "WITH\n",
      " \"table_reference_0\" AS (\n",
      "  SELECT\n",
      "   \"g\"\n",
      "  FROM\n",
      "   \"d1\"\n",
      " ) ,\n",
      " \"project_1\" AS (\n",
      "  SELECT  -- .project({ }, group_by=['g'])\n",
      "   \"g\"\n",
      "  FROM\n",
      "   \"table_reference_0\"\n",
      "  GROUP BY\n",
      "   \"g\"\n",
      " ) ,\n",
      " \"table_reference_2\" AS (\n",
      "  SELECT\n",
      "   \"g\"\n",
      "  FROM\n",
      "   \"d2\"\n",
      " ) ,\n",
      " \"project_3\" AS (\n",
      "  SELECT  -- .project({ }, group_by=['g'])\n",
      "   \"g\"\n",
      "  FROM\n",
      "   \"table_reference_2\"\n",
      "  GROUP BY\n",
      "   \"g\"\n",
      " ) ,\n",
      " \"concat_rows_4\" AS (\n",
      "  SELECT  -- _0..concat_rows(b= _1, id_column=None, a_name='a', b_name='b')\n",
      "   \"g\"\n",
      "  FROM\n",
      "  (\n",
      "   SELECT\n",
      "    *\n",
      "   FROM\n",
      "    \"project_1\"\n",
      "  UNION ALL\n",
      "   SELECT\n",
      "    *\n",
      "   FROM\n",
      "    \"project_3\"\n",
      "  ) \"concat_rows_4\"\n",
      " ) ,\n",
      " \"project_5\" AS (\n",
      "  SELECT  -- .project({ }, group_by=['g'])\n",
      "   \"g\"\n",
      "  FROM\n",
      "   \"concat_rows_4\"\n",
      "  GROUP BY\n",
      "   \"g\"\n",
      " ) ,\n",
      " \"natural_join_6\" AS (\n",
      "  SELECT  -- _0..natural_join(b= _1, by=['g'], jointype='LEFT')\n",
      "   COALESCE(\"project_5\".\"g\", \"d1\".\"g\") AS \"g\" ,\n",
      "   \"v1\" ,\n",
      "   \"v2\"\n",
      "  FROM\n",
      "  (\n",
      "   \"project_5\"\n",
      "  LEFT JOIN\n",
      "   \"d1\"\n",
      "  ON\n",
      "   \"project_5\".\"g\" = \"d1\".\"g\"\n",
      "  )\n",
      " )\n",
      "SELECT  -- _0..natural_join(b= _1, by=['g'], jointype='LEFT')\n",
      " COALESCE(\"natural_join_6\".\"g\", \"d2\".\"g\") AS \"g\" ,\n",
      " COALESCE(\"natural_join_6\".\"v1\", \"d2\".\"v1\") AS \"v1\" ,\n",
      " COALESCE(\"natural_join_6\".\"v2\", \"d2\".\"v2\") AS \"v2\"\n",
      "FROM\n",
      "(\n",
      " \"natural_join_6\"\n",
      "LEFT JOIN\n",
      " \"d2\"\n",
      "ON\n",
      " \"natural_join_6\".\"g\" = \"d2\".\"g\"\n",
      ")\n",
      "\n"
     ]
    }
   ],
   "source": [
    "print(sqlite_handle.to_sql(ops))"
   ],
   "metadata": {
    "collapsed": false,
    "pycharm": {
     "name": "#%%\n"
    }
   }
  },
  {
   "cell_type": "markdown",
   "source": [
    "And that is how to simulate a full join using concatenate and left-join."
   ],
   "metadata": {
    "collapsed": false,
    "pycharm": {
     "name": "#%% md\n"
    }
   }
  },
  {
   "cell_type": "code",
   "execution_count": 11,
   "outputs": [],
   "source": [
    "# clean up\n",
    "sqlite_handle.close()"
   ],
   "metadata": {
    "collapsed": false,
    "pycharm": {
     "name": "#%%\n"
    }
   }
  }
 ],
 "metadata": {
  "kernelspec": {
   "display_name": "Python 3",
   "language": "python",
   "name": "python3"
  },
  "language_info": {
   "codemirror_mode": {
    "name": "ipython",
    "version": 2
   },
   "file_extension": ".py",
   "mimetype": "text/x-python",
   "name": "python",
   "nbconvert_exporter": "python",
   "pygments_lexer": "ipython2",
   "version": "2.7.6"
  }
 },
 "nbformat": 4,
 "nbformat_minor": 0
}