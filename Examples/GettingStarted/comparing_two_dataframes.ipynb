{
 "cells": [
  {
   "cell_type": "markdown",
   "metadata": {
    "collapsed": true,
    "pycharm": {
     "name": "#%% md\n"
    }
   },
   "source": [
    "This is a quick note showing how to compare two data frames using\n",
    "the [data algebra](https://github.com/WinVector/data_algebra).  The question is: which rows\n",
    "are in one data frame and not the other\n",
    "\n",
    "First let's set up our example"
   ]
  },
  {
   "cell_type": "code",
   "execution_count": 1,
   "outputs": [],
   "source": [
    "\n",
    "# import packages\n",
    "import string\n",
    "import numpy\n",
    "import numpy.random\n",
    "import pandas\n",
    "\n",
    "from data_algebra.data_ops import *\n",
    "from data_algebra.cdata import *\n",
    "import data_algebra.BigQuery\n",
    "import data_algebra.SQLite\n",
    "\n"
   ],
   "metadata": {
    "collapsed": false,
    "pycharm": {
     "name": "#%%\n"
    }
   }
  },
  {
   "cell_type": "code",
   "execution_count": 2,
   "outputs": [],
   "source": [
    "# build synthetic example data\n",
    "\n",
    "# seed the pseudo-random generator for repeatability\n",
    "numpy.random.seed(1999)\n",
    "\n",
    "# choose our simulated number of observations\n",
    "n_obs = 100\n",
    "symbols = list(string.ascii_lowercase)\n",
    "\n",
    "d1 = pandas.DataFrame({\n",
    "    'group': numpy.random.choice(symbols, size=n_obs, replace=True),\n",
    "})\n",
    "\n",
    "d2 = pandas.DataFrame({\n",
    "    'group': numpy.random.choice(symbols, size=n_obs, replace=True),\n",
    "})"
   ],
   "metadata": {
    "collapsed": false,
    "pycharm": {
     "name": "#%%\n"
    }
   }
  },
  {
   "cell_type": "markdown",
   "source": [
    "Our example question is: which rows are unique to `d1` and which are unique to `d2`.\n",
    "\n",
    "Let's define our grouping columns and proceed."
   ],
   "metadata": {
    "collapsed": false,
    "pycharm": {
     "name": "#%% md\n"
    }
   }
  },
  {
   "cell_type": "code",
   "execution_count": 3,
   "outputs": [],
   "source": [
    "# which columns we consider to be row keys\n",
    "# can be more than one column\n",
    "grouping_columns = ['group']"
   ],
   "metadata": {
    "collapsed": false,
    "pycharm": {
     "name": "#%%\n"
    }
   }
  },
  {
   "cell_type": "markdown",
   "source": [
    "Our plan is simple, we count how many rows each table has\n",
    "for a given key and then join the results together for comparison.\n",
    "\n",
    "The data algebra notations we will use include:\n",
    "\n",
    "  * `descr()`. `descr(name=value)` is a notation that builds a description\n",
    "     of a the Pandas data frame \"`value`\" and refers to this table by the name \"`name`\".\n",
    "  * `.project()`. The project an aggregation that produces one row per distinct combination\n",
    "     of values in the grouping columns. The grouping columns are copied into the result,\n",
    "     and we can calculate additional columns, such as the row count `(1).sum()`.\n",
    "  * `.natural_join()` joins two tables on the keys specified by \"`by`\".\n",
    "  * `.extend()` allows us to calculate new columns. In this case we are using `coalece()`\n",
    "    to replace missing values produced by the join with zeros. The missing values are\n",
    "    exactly the key combinations where one table has rows and the other does not."
   ],
   "metadata": {
    "collapsed": false,
    "pycharm": {
     "name": "#%% md\n"
    }
   }
  },
  {
   "cell_type": "code",
   "execution_count": 4,
   "outputs": [],
   "source": [
    "\n",
    "summary_ops = (\n",
    "    descr(d1=d1)\n",
    "        .project(\n",
    "            {'d1_count': '(1).sum()'},\n",
    "            group_by=grouping_columns)\n",
    "        .natural_join(\n",
    "            b=descr(d2=d2)\n",
    "                .project(\n",
    "                    {'d2_count': '(1).sum()'},\n",
    "                    group_by=grouping_columns),\n",
    "            by=grouping_columns,\n",
    "            jointype='full')\n",
    "        .extend({\n",
    "            'd1_count': 'd1_count.coalesce(0)',\n",
    "            'd2_count': 'd2_count.coalesce(0)',\n",
    "            })\n",
    ")"
   ],
   "metadata": {
    "collapsed": false,
    "pycharm": {
     "name": "#%%\n"
    }
   }
  },
  {
   "cell_type": "markdown",
   "source": [
    "Once we have our intended set of operations we can execute them against our tables by\n",
    "supplying data for each named table using the `.eval()` method."
   ],
   "metadata": {
    "collapsed": false,
    "pycharm": {
     "name": "#%% md\n"
    }
   }
  },
  {
   "cell_type": "code",
   "execution_count": 5,
   "outputs": [
    {
     "data": {
      "text/plain": "   group  d1_count  d2_count\n0      a       4.0       4.0\n1      b       2.0       2.0\n2      c       2.0       4.0\n3      d       3.0       4.0\n4      e       8.0       1.0\n5      f       1.0       2.0\n6      g       5.0       5.0\n7      h       5.0       4.0\n8      i       4.0       3.0\n9      j       3.0       7.0\n10     k       5.0       2.0\n11     l       6.0       6.0\n12     m       5.0       7.0\n13     n       4.0       6.0\n14     o       4.0       3.0\n15     p       3.0       1.0\n16     q       1.0       1.0\n17     r       5.0       4.0\n18     s      11.0       3.0\n19     t       3.0       9.0\n20     v       2.0       2.0\n21     w       4.0       0.0\n22     x       5.0       6.0\n23     y       3.0       6.0\n24     z       2.0       5.0\n25     u       0.0       3.0",
      "text/html": "<div>\n<style scoped>\n    .dataframe tbody tr th:only-of-type {\n        vertical-align: middle;\n    }\n\n    .dataframe tbody tr th {\n        vertical-align: top;\n    }\n\n    .dataframe thead th {\n        text-align: right;\n    }\n</style>\n<table border=\"1\" class=\"dataframe\">\n  <thead>\n    <tr style=\"text-align: right;\">\n      <th></th>\n      <th>group</th>\n      <th>d1_count</th>\n      <th>d2_count</th>\n    </tr>\n  </thead>\n  <tbody>\n    <tr>\n      <th>0</th>\n      <td>a</td>\n      <td>4.0</td>\n      <td>4.0</td>\n    </tr>\n    <tr>\n      <th>1</th>\n      <td>b</td>\n      <td>2.0</td>\n      <td>2.0</td>\n    </tr>\n    <tr>\n      <th>2</th>\n      <td>c</td>\n      <td>2.0</td>\n      <td>4.0</td>\n    </tr>\n    <tr>\n      <th>3</th>\n      <td>d</td>\n      <td>3.0</td>\n      <td>4.0</td>\n    </tr>\n    <tr>\n      <th>4</th>\n      <td>e</td>\n      <td>8.0</td>\n      <td>1.0</td>\n    </tr>\n    <tr>\n      <th>5</th>\n      <td>f</td>\n      <td>1.0</td>\n      <td>2.0</td>\n    </tr>\n    <tr>\n      <th>6</th>\n      <td>g</td>\n      <td>5.0</td>\n      <td>5.0</td>\n    </tr>\n    <tr>\n      <th>7</th>\n      <td>h</td>\n      <td>5.0</td>\n      <td>4.0</td>\n    </tr>\n    <tr>\n      <th>8</th>\n      <td>i</td>\n      <td>4.0</td>\n      <td>3.0</td>\n    </tr>\n    <tr>\n      <th>9</th>\n      <td>j</td>\n      <td>3.0</td>\n      <td>7.0</td>\n    </tr>\n    <tr>\n      <th>10</th>\n      <td>k</td>\n      <td>5.0</td>\n      <td>2.0</td>\n    </tr>\n    <tr>\n      <th>11</th>\n      <td>l</td>\n      <td>6.0</td>\n      <td>6.0</td>\n    </tr>\n    <tr>\n      <th>12</th>\n      <td>m</td>\n      <td>5.0</td>\n      <td>7.0</td>\n    </tr>\n    <tr>\n      <th>13</th>\n      <td>n</td>\n      <td>4.0</td>\n      <td>6.0</td>\n    </tr>\n    <tr>\n      <th>14</th>\n      <td>o</td>\n      <td>4.0</td>\n      <td>3.0</td>\n    </tr>\n    <tr>\n      <th>15</th>\n      <td>p</td>\n      <td>3.0</td>\n      <td>1.0</td>\n    </tr>\n    <tr>\n      <th>16</th>\n      <td>q</td>\n      <td>1.0</td>\n      <td>1.0</td>\n    </tr>\n    <tr>\n      <th>17</th>\n      <td>r</td>\n      <td>5.0</td>\n      <td>4.0</td>\n    </tr>\n    <tr>\n      <th>18</th>\n      <td>s</td>\n      <td>11.0</td>\n      <td>3.0</td>\n    </tr>\n    <tr>\n      <th>19</th>\n      <td>t</td>\n      <td>3.0</td>\n      <td>9.0</td>\n    </tr>\n    <tr>\n      <th>20</th>\n      <td>v</td>\n      <td>2.0</td>\n      <td>2.0</td>\n    </tr>\n    <tr>\n      <th>21</th>\n      <td>w</td>\n      <td>4.0</td>\n      <td>0.0</td>\n    </tr>\n    <tr>\n      <th>22</th>\n      <td>x</td>\n      <td>5.0</td>\n      <td>6.0</td>\n    </tr>\n    <tr>\n      <th>23</th>\n      <td>y</td>\n      <td>3.0</td>\n      <td>6.0</td>\n    </tr>\n    <tr>\n      <th>24</th>\n      <td>z</td>\n      <td>2.0</td>\n      <td>5.0</td>\n    </tr>\n    <tr>\n      <th>25</th>\n      <td>u</td>\n      <td>0.0</td>\n      <td>3.0</td>\n    </tr>\n  </tbody>\n</table>\n</div>"
     },
     "execution_count": 5,
     "metadata": {},
     "output_type": "execute_result"
    }
   ],
   "source": [
    "summary_table = summary_ops.eval({'d1': d1, 'd2': d2})\n",
    "\n",
    "summary_table"
   ],
   "metadata": {
    "collapsed": false,
    "pycharm": {
     "name": "#%%\n"
    }
   }
  },
  {
   "cell_type": "markdown",
   "source": [
    "(Note: data algebra can run the exact same command in many databases by automatic translation to SQL\n",
    "by the `.to_sql()` method.)"
   ],
   "metadata": {
    "collapsed": false,
    "pycharm": {
     "name": "#%% md\n"
    }
   }
  },
  {
   "cell_type": "markdown",
   "source": [
    "From the resulting summary it is easy to see which columns are unique to one table or another.\n",
    "We can zero in on these columns by selecting the rows where one of the counts is zero. New\n",
    "commands we use in this example include:\n",
    "\n",
    "  * `data()`. `data()` is a notation that captures a description of a Pandas data frame *and*\n",
    "    a copy of the data. Notice data described in this way doesn't need a name. This\n",
    "    is because as we have the data, we don't need a name to later look up data with.\n",
    "  * `ex()`. `ex()` is a wrapper that takes a data algebra pipeline and executes it with the\n",
    "    captured data.\n",
    "  * `.select_rows()` picks rows matching the logical conditions we specify on the columns.\n",
    "  * `.order_rows()` sorts the Pandas data frame by the values in the named columns."
   ],
   "metadata": {
    "collapsed": false,
    "pycharm": {
     "name": "#%% md\n"
    }
   }
  },
  {
   "cell_type": "code",
   "execution_count": 6,
   "outputs": [
    {
     "data": {
      "text/plain": "  group  d1_count  d2_count\n0     u       0.0       3.0\n1     w       4.0       0.0",
      "text/html": "<div>\n<style scoped>\n    .dataframe tbody tr th:only-of-type {\n        vertical-align: middle;\n    }\n\n    .dataframe tbody tr th {\n        vertical-align: top;\n    }\n\n    .dataframe thead th {\n        text-align: right;\n    }\n</style>\n<table border=\"1\" class=\"dataframe\">\n  <thead>\n    <tr style=\"text-align: right;\">\n      <th></th>\n      <th>group</th>\n      <th>d1_count</th>\n      <th>d2_count</th>\n    </tr>\n  </thead>\n  <tbody>\n    <tr>\n      <th>0</th>\n      <td>u</td>\n      <td>0.0</td>\n      <td>3.0</td>\n    </tr>\n    <tr>\n      <th>1</th>\n      <td>w</td>\n      <td>4.0</td>\n      <td>0.0</td>\n    </tr>\n  </tbody>\n</table>\n</div>"
     },
     "execution_count": 6,
     "metadata": {},
     "output_type": "execute_result"
    }
   ],
   "source": [
    "ex(\n",
    "    data(summary_table)\n",
    "        .select_rows('(d1_count <= 0) | (d2_count <= 0)')\n",
    "        .order_rows(grouping_columns)\n",
    ")"
   ],
   "metadata": {
    "collapsed": false,
    "pycharm": {
     "name": "#%%\n"
    }
   }
  },
  {
   "cell_type": "markdown",
   "source": [
    "Notice throughout we used the variable `grouping_columns` instead of explicitly naming the\n",
    "columns. That means this code is re-usable and could easily be converted into a utility function.\n",
    "\n",
    "And that is it. We have worked through how to easily compare two Pandas data frames using the data algebra."
   ],
   "metadata": {
    "collapsed": false,
    "pycharm": {
     "name": "#%% md\n"
    }
   }
  },
  {
   "cell_type": "markdown",
   "source": [
    "## Appendix, the same query work in BigQuery\n",
    "\n",
    "For this demo we show the same operations operating\n",
    "in the Google BigQuery database. Note: we didn't use\n",
    "SQLite (as in\n",
    "our [previous example](https://win-vector.com/2021/10/03/how-to-compare-two-tables-using-the-data-algebra/))\n",
    "both for variety of examples and because SQLite doesn't currently support full\n",
    "joins ([ref](https://www.sqlitetutorial.net/sqlite-full-outer-join/), we have an example of\n",
    "how to simulate a full join [here](https://github.com/WinVector/data_algebra/blob/main/Examples/GettingStarted/simulating_full_join.ipynb)).\n"
   ],
   "metadata": {
    "collapsed": false,
    "pycharm": {
     "name": "#%% md\n"
    }
   }
  },
  {
   "cell_type": "code",
   "execution_count": 7,
   "outputs": [
    {
     "data": {
      "text/plain": "  group  d1_count  d2_count\n0     u         0         3\n1     w         4         0",
      "text/html": "<div>\n<style scoped>\n    .dataframe tbody tr th:only-of-type {\n        vertical-align: middle;\n    }\n\n    .dataframe tbody tr th {\n        vertical-align: top;\n    }\n\n    .dataframe thead th {\n        text-align: right;\n    }\n</style>\n<table border=\"1\" class=\"dataframe\">\n  <thead>\n    <tr style=\"text-align: right;\">\n      <th></th>\n      <th>group</th>\n      <th>d1_count</th>\n      <th>d2_count</th>\n    </tr>\n  </thead>\n  <tbody>\n    <tr>\n      <th>0</th>\n      <td>u</td>\n      <td>0</td>\n      <td>3</td>\n    </tr>\n    <tr>\n      <th>1</th>\n      <td>w</td>\n      <td>4</td>\n      <td>0</td>\n    </tr>\n  </tbody>\n</table>\n</div>"
     },
     "execution_count": 7,
     "metadata": {},
     "output_type": "execute_result"
    }
   ],
   "source": [
    "db_handle = data_algebra.BigQuery.example_handle()\n",
    "\n",
    "# inserting just for the example, usually for databases the\n",
    "# data is already in the database\n",
    "db_handle.insert_table(d1, table_name='d1', allow_overwrite=True)\n",
    "db_handle.insert_table(d2, table_name='d2', allow_overwrite=True)\n",
    "\n",
    "all_ops = (\n",
    "    summary_ops\n",
    "        .select_rows('(d1_count <= 0) | (d2_count <= 0)')\n",
    "        # move order to read-back request, as it isn't needed here\n",
    ")\n",
    "\n",
    "db_handle.drop_table('compare_result')\n",
    "db_handle.execute(\n",
    "    f'CREATE TABLE {db_handle.db_model.table_prefix}.compare_result AS {db_handle.to_sql(all_ops)}')\n",
    "\n",
    "read_ops = (\n",
    "    db_handle.describe_table(f'compare_result')\n",
    "        .order_rows(grouping_columns)\n",
    ")\n",
    "db_handle.read_query(read_ops)"
   ],
   "metadata": {
    "collapsed": false,
    "pycharm": {
     "name": "#%%\n"
    }
   }
  },
  {
   "cell_type": "code",
   "execution_count": 8,
   "outputs": [],
   "source": [
    "# clean up\n",
    "db_handle.close()"
   ],
   "metadata": {
    "collapsed": false,
    "pycharm": {
     "name": "#%%\n"
    }
   }
  },
  {
   "cell_type": "markdown",
   "source": [
    "SQLite example"
   ],
   "metadata": {
    "collapsed": false,
    "pycharm": {
     "name": "#%% md\n"
    }
   }
  },
  {
   "cell_type": "code",
   "execution_count": null,
   "outputs": [],
   "source": [
    "sqlite_handle = data_algebra.SQLite.example_handle()\n",
    "\n",
    "print(sqlite_handle.to_sql(summary_ops))"
   ],
   "metadata": {
    "collapsed": false,
    "pycharm": {
     "name": "#%%\n"
    }
   }
  },
  {
   "cell_type": "code",
   "execution_count": null,
   "outputs": [],
   "source": [
    "# clean up\n",
    "sqlite_handle.close()"
   ],
   "metadata": {
    "collapsed": false,
    "pycharm": {
     "name": "#%%\n"
    }
   }
  }
 ],
 "metadata": {
  "kernelspec": {
   "display_name": "Python 3",
   "language": "python",
   "name": "python3"
  },
  "language_info": {
   "codemirror_mode": {
    "name": "ipython",
    "version": 2
   },
   "file_extension": ".py",
   "mimetype": "text/x-python",
   "name": "python",
   "nbconvert_exporter": "python",
   "pygments_lexer": "ipython2",
   "version": "2.7.6"
  }
 },
 "nbformat": 4,
 "nbformat_minor": 0
}