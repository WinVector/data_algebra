{
 "cells": [
  {
   "cell_type": "markdown",
   "metadata": {
    "collapsed": true,
    "pycharm": {
     "name": "#%% md\n"
    }
   },
   "source": [
    "This is a note how to start a [data algebra](https://github.com/WinVector/data_algebra) pipeline with user supplied SQL."
   ]
  },
  {
   "cell_type": "code",
   "execution_count": 1,
   "outputs": [],
   "source": [
    "import pandas\n",
    "\n",
    "from data_algebra.data_ops import *\n",
    "import data_algebra.SQLite\n",
    "import data_algebra.test_util"
   ],
   "metadata": {
    "collapsed": false,
    "pycharm": {
     "name": "#%%\n"
    }
   }
  },
  {
   "cell_type": "code",
   "execution_count": 2,
   "outputs": [],
   "source": [
    "d1 = pandas.DataFrame({\n",
    "    'g': ['a', 'a', 'b', 'b'],\n",
    "    'v1': [1, 2, 3, 4],\n",
    "    'v2': [5, 6, 7, 8],\n",
    "})"
   ],
   "metadata": {
    "collapsed": false,
    "pycharm": {
     "name": "#%%\n"
    }
   }
  },
  {
   "cell_type": "code",
   "execution_count": 3,
   "outputs": [
    {
     "data": {
      "text/plain": "(TableDescription(table_name=\"d1\", column_names=[\"g\", \"v1\", \"v2\"]))"
     },
     "execution_count": 3,
     "metadata": {},
     "output_type": "execute_result"
    }
   ],
   "source": [
    "sqlite_handle = data_algebra.SQLite.example_handle()\n",
    "sqlite_handle.insert_table(d1, table_name='d1')"
   ],
   "metadata": {
    "collapsed": false,
    "pycharm": {
     "name": "#%%\n"
    }
   }
  },
  {
   "cell_type": "code",
   "execution_count": 4,
   "outputs": [],
   "source": [
    "ops = (\n",
    "    SQLNode(\n",
    "        sql=\"\"\"\n",
    "          SELECT\n",
    "            *,\n",
    "            v1 * v2 AS v3\n",
    "          FROM\n",
    "            d1\n",
    "        \"\"\",\n",
    "        column_names=['g', 'v1', 'v2', 'v3'],\n",
    "        view_name='derived_results'\n",
    "        )\n",
    "        .extend({'v4': 'v3 + v1'})\n",
    ")"
   ],
   "metadata": {
    "collapsed": false,
    "pycharm": {
     "name": "#%%\n"
    }
   }
  },
  {
   "cell_type": "code",
   "execution_count": 5,
   "outputs": [
    {
     "name": "stdout",
     "output_type": "stream",
     "text": [
      "-- data_algebra SQL https://github.com/WinVector/data_algebra\n",
      "--  dialect: SQLiteModel\n",
      "--       string quote: '\n",
      "--   identifier quote: \"\n",
      "WITH\n",
      " \"derived_results\" AS (\n",
      "  -- user supplied SQL\n",
      "             SELECT\n",
      "               *,\n",
      "               v1 * v2 AS v3\n",
      "             FROM\n",
      "               d1\n",
      " )\n",
      "SELECT  -- .extend({ 'v4': 'v3 + v1'})\n",
      " \"g\" ,\n",
      " \"v1\" ,\n",
      " \"v2\" ,\n",
      " \"v3\" ,\n",
      " \"v3\" + \"v1\" AS \"v4\"\n",
      "FROM\n",
      " \"derived_results\"\n",
      "\n"
     ]
    }
   ],
   "source": [
    "print(sqlite_handle.to_sql(ops))"
   ],
   "metadata": {
    "collapsed": false,
    "pycharm": {
     "name": "#%%\n"
    }
   }
  },
  {
   "cell_type": "code",
   "execution_count": 6,
   "outputs": [],
   "source": [
    "expect = d1.copy()\n",
    "expect['v3'] = expect['v1'] * expect['v2']\n",
    "expect['v4'] = expect['v3'] + expect['v1']"
   ],
   "metadata": {
    "collapsed": false,
    "pycharm": {
     "name": "#%%\n"
    }
   }
  },
  {
   "cell_type": "code",
   "execution_count": 7,
   "outputs": [
    {
     "data": {
      "text/plain": "   g  v1  v2  v3  v4\n0  a   1   5   5   6\n1  a   2   6  12  14\n2  b   3   7  21  24\n3  b   4   8  32  36",
      "text/html": "<div>\n<style scoped>\n    .dataframe tbody tr th:only-of-type {\n        vertical-align: middle;\n    }\n\n    .dataframe tbody tr th {\n        vertical-align: top;\n    }\n\n    .dataframe thead th {\n        text-align: right;\n    }\n</style>\n<table border=\"1\" class=\"dataframe\">\n  <thead>\n    <tr style=\"text-align: right;\">\n      <th></th>\n      <th>g</th>\n      <th>v1</th>\n      <th>v2</th>\n      <th>v3</th>\n      <th>v4</th>\n    </tr>\n  </thead>\n  <tbody>\n    <tr>\n      <th>0</th>\n      <td>a</td>\n      <td>1</td>\n      <td>5</td>\n      <td>5</td>\n      <td>6</td>\n    </tr>\n    <tr>\n      <th>1</th>\n      <td>a</td>\n      <td>2</td>\n      <td>6</td>\n      <td>12</td>\n      <td>14</td>\n    </tr>\n    <tr>\n      <th>2</th>\n      <td>b</td>\n      <td>3</td>\n      <td>7</td>\n      <td>21</td>\n      <td>24</td>\n    </tr>\n    <tr>\n      <th>3</th>\n      <td>b</td>\n      <td>4</td>\n      <td>8</td>\n      <td>32</td>\n      <td>36</td>\n    </tr>\n  </tbody>\n</table>\n</div>"
     },
     "execution_count": 7,
     "metadata": {},
     "output_type": "execute_result"
    }
   ],
   "source": [
    "res_sqllite = sqlite_handle.read_query(ops)\n",
    "\n",
    "res_sqllite"
   ],
   "metadata": {
    "collapsed": false,
    "pycharm": {
     "name": "#%%\n"
    }
   }
  },
  {
   "cell_type": "code",
   "execution_count": 8,
   "outputs": [],
   "source": [
    "assert data_algebra.test_util.equivalent_frames(res_sqllite, expect)"
   ],
   "metadata": {
    "collapsed": false,
    "pycharm": {
     "name": "#%%\n"
    }
   }
  },
  {
   "cell_type": "code",
   "execution_count": 9,
   "outputs": [
    {
     "data": {
      "text/plain": "   g  v1  v2  v3  v4\n0  a   1   5   5   6\n1  a   2   6  12  14\n2  b   3   7  21  24\n3  b   4   8  32  36",
      "text/html": "<div>\n<style scoped>\n    .dataframe tbody tr th:only-of-type {\n        vertical-align: middle;\n    }\n\n    .dataframe tbody tr th {\n        vertical-align: top;\n    }\n\n    .dataframe thead th {\n        text-align: right;\n    }\n</style>\n<table border=\"1\" class=\"dataframe\">\n  <thead>\n    <tr style=\"text-align: right;\">\n      <th></th>\n      <th>g</th>\n      <th>v1</th>\n      <th>v2</th>\n      <th>v3</th>\n      <th>v4</th>\n    </tr>\n  </thead>\n  <tbody>\n    <tr>\n      <th>0</th>\n      <td>a</td>\n      <td>1</td>\n      <td>5</td>\n      <td>5</td>\n      <td>6</td>\n    </tr>\n    <tr>\n      <th>1</th>\n      <td>a</td>\n      <td>2</td>\n      <td>6</td>\n      <td>12</td>\n      <td>14</td>\n    </tr>\n    <tr>\n      <th>2</th>\n      <td>b</td>\n      <td>3</td>\n      <td>7</td>\n      <td>21</td>\n      <td>24</td>\n    </tr>\n    <tr>\n      <th>3</th>\n      <td>b</td>\n      <td>4</td>\n      <td>8</td>\n      <td>32</td>\n      <td>36</td>\n    </tr>\n  </tbody>\n</table>\n</div>"
     },
     "execution_count": 9,
     "metadata": {},
     "output_type": "execute_result"
    }
   ],
   "source": [
    "dr = d1.copy()\n",
    "dr['v3'] = dr['v1'] * dr['v2']\n",
    "\n",
    "res_pandas = ops.eval({'derived_results': dr})\n",
    "\n",
    "res_pandas"
   ],
   "metadata": {
    "collapsed": false,
    "pycharm": {
     "name": "#%%\n"
    }
   }
  },
  {
   "cell_type": "code",
   "execution_count": 10,
   "outputs": [],
   "source": [
    "assert data_algebra.test_util.equivalent_frames(res_pandas, expect)"
   ],
   "metadata": {
    "collapsed": false,
    "pycharm": {
     "name": "#%%\n"
    }
   }
  },
  {
   "cell_type": "code",
   "execution_count": 11,
   "outputs": [],
   "source": [
    "sqlite_handle.close()\n"
   ],
   "metadata": {
    "collapsed": false,
    "pycharm": {
     "name": "#%%\n"
    }
   }
  }
 ],
 "metadata": {
  "kernelspec": {
   "display_name": "Python 3",
   "language": "python",
   "name": "python3"
  },
  "language_info": {
   "codemirror_mode": {
    "name": "ipython",
    "version": 2
   },
   "file_extension": ".py",
   "mimetype": "text/x-python",
   "name": "python",
   "nbconvert_exporter": "python",
   "pygments_lexer": "ipython2",
   "version": "2.7.6"
  }
 },
 "nbformat": 4,
 "nbformat_minor": 0
}