{
 "cells": [
  {
   "cell_type": "code",
   "execution_count": 1,
   "metadata": {
    "collapsed": true,
    "pycharm": {
     "is_executing": false,
     "name": "#%%\n"
    }
   },
   "outputs": [
    {
     "name": "stdout",
     "text": [
      "   subjectID       surveyCategory  assessmentTotal irrelevantCol1 irrelevantCol2\n0  1          withdrawal behavior  5                irrel1         irrel2       \n1  1          positive re-framing  2                irrel1         irrel2       \n2  2          withdrawal behavior  3                irrel1         irrel2       \n3  2          positive re-framing  4                irrel1         irrel2       \n"
     ],
     "output_type": "stream"
    }
   ],
   "source": [
    "import io\n",
    "import psycopg2\n",
    "import pandas\n",
    "\n",
    "pandas.set_option('display.max_columns', None)  \n",
    "pandas.set_option('display.expand_frame_repr', False)\n",
    "pandas.set_option('max_colwidth', -1)\n",
    "\n",
    "d = pandas.DataFrame({\n",
    "    'subjectID':[1, 1, 2, 2],\n",
    "    'surveyCategory': [ \"withdrawal behavior\", \"positive re-framing\", \"withdrawal behavior\", \"positive re-framing\"],\n",
    "    'assessmentTotal': [5, 2, 3, 4],\n",
    "    'irrelevantCol1': ['irrel1']*4,\n",
    "    'irrelevantCol2': ['irrel2']*4,\n",
    "})\n",
    "\n",
    "print(d)\n",
    "\n",
    "\n"
   ]
  },
  {
   "cell_type": "code",
   "execution_count": 2,
   "outputs": [],
   "source": [
    "conn = psycopg2.connect(\n",
    "    database=\"johnmount\",\n",
    "    user=\"johnmount\",\n",
    "    host=\"localhost\",\n",
    "    password=\"\"\n",
    ")\n",
    "conn.autocommit=True\n",
    "\n",
    "cur = conn.cursor()"
   ],
   "metadata": {
    "collapsed": false,
    "pycharm": {
     "name": "#%%\n",
     "is_executing": false
    }
   }
  },
  {
   "cell_type": "code",
   "execution_count": 3,
   "outputs": [
    {
     "data": {
      "text/plain": "   subjectid       surveycategory  assessmenttotal irrelevantcol1 irrelevantcol2\n0  1.0        withdrawal behavior  5.0              irrel1         irrel2       \n1  1.0        positive re-framing  2.0              irrel1         irrel2       \n2  2.0        withdrawal behavior  3.0              irrel1         irrel2       \n3  2.0        positive re-framing  4.0              irrel1         irrel2       ",
      "text/html": "<div>\n<style scoped>\n    .dataframe tbody tr th:only-of-type {\n        vertical-align: middle;\n    }\n\n    .dataframe tbody tr th {\n        vertical-align: top;\n    }\n\n    .dataframe thead th {\n        text-align: right;\n    }\n</style>\n<table border=\"1\" class=\"dataframe\">\n  <thead>\n    <tr style=\"text-align: right;\">\n      <th></th>\n      <th>subjectid</th>\n      <th>surveycategory</th>\n      <th>assessmenttotal</th>\n      <th>irrelevantcol1</th>\n      <th>irrelevantcol2</th>\n    </tr>\n  </thead>\n  <tbody>\n    <tr>\n      <th>0</th>\n      <td>1.0</td>\n      <td>withdrawal behavior</td>\n      <td>5.0</td>\n      <td>irrel1</td>\n      <td>irrel2</td>\n    </tr>\n    <tr>\n      <th>1</th>\n      <td>1.0</td>\n      <td>positive re-framing</td>\n      <td>2.0</td>\n      <td>irrel1</td>\n      <td>irrel2</td>\n    </tr>\n    <tr>\n      <th>2</th>\n      <td>2.0</td>\n      <td>withdrawal behavior</td>\n      <td>3.0</td>\n      <td>irrel1</td>\n      <td>irrel2</td>\n    </tr>\n    <tr>\n      <th>3</th>\n      <td>2.0</td>\n      <td>positive re-framing</td>\n      <td>4.0</td>\n      <td>irrel1</td>\n      <td>irrel2</td>\n    </tr>\n  </tbody>\n</table>\n</div>"
     },
     "metadata": {},
     "output_type": "execute_result",
     "execution_count": 3
    }
   ],
   "source": [
    "def is_numeric(col):\n",
    "    try:\n",
    "        0.0 + col\n",
    "        return True\n",
    "    except Exception as ex:\n",
    "        return False\n",
    "\n",
    "\n",
    "def insert_table(conn, d, table_name):\n",
    "    cr = [d.columns[i].lower() + \" \" + (\"double precision\" if is_numeric(d[d.columns[i]]) else \"VARCHAR\") for \n",
    "            i in range(d.shape[1])]\n",
    "    table_name = 'd'\n",
    "    create_stmt = \"CREATE TABLE \" + table_name + \" ( \" + ', '.join(cr) + \" )\"\n",
    "    cur = conn.cursor()\n",
    "    cur.execute(\"DROP TABLE IF EXISTS \" + table_name)\n",
    "    conn.commit()\n",
    "    cur.execute(create_stmt)\n",
    "    conn.commit()\n",
    "    buf = io.StringIO(d.to_csv(index=False, header=False, sep='\\t'))\n",
    "    cur.copy_from(buf, 'd', columns=[c for c in d.columns])\n",
    "    conn.commit()\n",
    "\n",
    "\n",
    "def read_query(conn, q):\n",
    "    cur.execute(q)\n",
    "    r = cur.fetchall()\n",
    "    colnames = [desc[0] for desc in cur.description]\n",
    "    return pandas.DataFrame(columns = colnames, data = r)\n",
    "\n",
    "\n",
    "def read_table(conn, table_name):\n",
    "    return read_query(conn, \"SELECT * FROM \" + table_name)\n",
    "    \n",
    "\n",
    "insert_table(conn, d, 'd')\n",
    "\n",
    "\n",
    "read_table(conn, 'd')"
   ],
   "metadata": {
    "collapsed": false,
    "pycharm": {
     "name": "#%%\n",
     "is_executing": false
    }
   }
  },
  {
   "cell_type": "markdown",
   "source": [
    "Note: case in columns is a bit of nightmare.  It is best to lower-case them in all cases."
   ],
   "metadata": {
    "collapsed": false,
    "pycharm": {
     "name": "#%% md\n"
    }
   }
  },
  {
   "cell_type": "code",
   "execution_count": 4,
   "outputs": [
    {
     "name": "stdout",
     "text": [
      "TableDescription(\n    table_name=\"d\",\n    column_names=[\n        \"subjectID\",\n        \"surveyCategory\",\n        \"assessmentTotal\",\n        \"irrelevantCol1\",\n        \"irrelevantCol2\",\n    ],\n).extend({\"probability\": \"(assessmentTotal * 0.237).exp()\"}).extend(\n    {\"probability\": \"probability / probability.sum()\"}, partition_by=[\"subjectID\"]\n).extend(\n    {\"row_number\": \"_row_number()\"},\n    partition_by=[\"subjectID\"],\n    order_by=[\"probability\", \"surveyCategory\"],\n    reverse=[\"probability\"],\n).select_rows(\n    \"row_number == 1\"\n).select_columns(\n    [\"subjectID\", \"surveyCategory\", \"probability\"]\n)\n\n"
     ],
     "output_type": "stream"
    }
   ],
   "source": [
    "from data_algebra.data_ops import *\n",
    "import data_algebra.env\n",
    "import data_algebra.yaml\n",
    "import data_algebra.PostgreSQL\n",
    "\n",
    "\n",
    "\n",
    "\n",
    "_, _1, _2, _get = [None, None, None, lambda x: x] # don't look unbound\n",
    "data_algebra.yaml.fix_ordered_dict_yaml_rep()\n",
    "data_algebra.env.push_onto_namespace_stack(locals())\n",
    "\n",
    "db_model = data_algebra.PostgreSQL.PostgreSQLModel()\n",
    "\n",
    "scale = 0.237\n",
    "\n",
    "ops = TableDescription('d', \n",
    "                 ['subjectID',\n",
    "                  'surveyCategory',\n",
    "                  'assessmentTotal',\n",
    "                  'irrelevantCol1',\n",
    "                  'irrelevantCol2']) .\\\n",
    "    extend({'probability': '(assessmentTotal * scale).exp()'}) .\\\n",
    "    extend({'probability': 'probability/probability.sum()'},\n",
    "           partition_by='subjectID') .\\\n",
    "    extend({'row_number':'_row_number()'},\n",
    "           partition_by=['subjectID'],\n",
    "           order_by=['probability', 'surveyCategory'],\n",
    "           reverse=['probability']) .\\\n",
    "    select_rows('row_number==1') .\\\n",
    "    select_columns(['subjectID', 'surveyCategory', 'probability'])\n",
    "\n",
    "print(ops.to_python(pretty=True))\n"
   ],
   "metadata": {
    "collapsed": false,
    "pycharm": {
     "name": "#%%\n",
     "is_executing": false
    }
   }
  },
  {
   "cell_type": "code",
   "execution_count": 5,
   "outputs": [
    {
     "name": "stdout",
     "text": [
      "SELECT \"surveycategory\",\n       \"subjectid\",\n       \"probability\"\nFROM\n  (SELECT \"surveycategory\",\n          \"subjectid\",\n          \"probability\"\n   FROM\n     (SELECT \"surveycategory\",\n             \"subjectid\",\n             \"probability\",\n             ROW_NUMBER() OVER (PARTITION BY \"subjectid\"\n                                ORDER BY \"probability\" DESC, \"surveycategory\") AS \"row_number\"\n      FROM\n        (SELECT \"surveycategory\",\n                \"subjectid\",\n                \"probability\" / SUM(\"probability\") OVER (PARTITION BY \"subjectid\") AS \"probability\"\n         FROM\n           (SELECT \"surveycategory\",\n                   \"subjectid\",\n                   EXP((\"assessmenttotal\" * 0.237)) AS \"probability\"\n            FROM\n              (SELECT \"assessmenttotal\",\n                      \"surveycategory\",\n                      \"subjectid\"\n               FROM \"d\") \"sq_0\") \"sq_1\") \"sq_2\") \"sq_3\"\n   WHERE \"row_number\" = 1 ) \"sq_4\"\n"
     ],
     "output_type": "stream"
    }
   ],
   "source": [
    "sql = ops.to_sql(db_model, pretty=True)\n",
    "print(sql)"
   ],
   "metadata": {
    "collapsed": false,
    "pycharm": {
     "name": "#%%\n",
     "is_executing": false
    }
   }
  },
  {
   "cell_type": "code",
   "execution_count": 6,
   "outputs": [
    {
     "data": {
      "text/plain": "        surveycategory  subjectid  probability\n0  withdrawal behavior  1.0        0.670622   \n1  positive re-framing  2.0        0.558974   ",
      "text/html": "<div>\n<style scoped>\n    .dataframe tbody tr th:only-of-type {\n        vertical-align: middle;\n    }\n\n    .dataframe tbody tr th {\n        vertical-align: top;\n    }\n\n    .dataframe thead th {\n        text-align: right;\n    }\n</style>\n<table border=\"1\" class=\"dataframe\">\n  <thead>\n    <tr style=\"text-align: right;\">\n      <th></th>\n      <th>surveycategory</th>\n      <th>subjectid</th>\n      <th>probability</th>\n    </tr>\n  </thead>\n  <tbody>\n    <tr>\n      <th>0</th>\n      <td>withdrawal behavior</td>\n      <td>1.0</td>\n      <td>0.670622</td>\n    </tr>\n    <tr>\n      <th>1</th>\n      <td>positive re-framing</td>\n      <td>2.0</td>\n      <td>0.558974</td>\n    </tr>\n  </tbody>\n</table>\n</div>"
     },
     "metadata": {},
     "output_type": "execute_result",
     "execution_count": 6
    }
   ],
   "source": [
    "\n",
    "\n",
    "read_query(conn, sql)"
   ],
   "metadata": {
    "collapsed": false,
    "pycharm": {
     "name": "#%%\n",
     "is_executing": false
    }
   }
  },
  {
   "cell_type": "code",
   "execution_count": 7,
   "outputs": [],
   "source": [
    "conn.close()"
   ],
   "metadata": {
    "collapsed": false,
    "pycharm": {
     "name": "#%%\n",
     "is_executing": false
    }
   }
  }
 ],
 "metadata": {
  "language_info": {
   "codemirror_mode": {
    "name": "ipython",
    "version": 2
   },
   "file_extension": ".py",
   "mimetype": "text/x-python",
   "name": "python",
   "nbconvert_exporter": "python",
   "pygments_lexer": "ipython2",
   "version": "2.7.6"
  },
  "kernelspec": {
   "name": "python3",
   "language": "python",
   "display_name": "Python 3"
  },
  "pycharm": {
   "stem_cell": {
    "cell_type": "raw",
    "source": [],
    "metadata": {
     "collapsed": false
    }
   }
  }
 },
 "nbformat": 4,
 "nbformat_minor": 0
}