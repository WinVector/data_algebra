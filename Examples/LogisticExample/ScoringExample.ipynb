{
 "cells": [
  {
   "cell_type": "code",
   "execution_count": 1,
   "metadata": {
    "collapsed": true,
    "pycharm": {
     "is_executing": false,
     "name": "#%%\n"
    }
   },
   "outputs": [
    {
     "name": "stdout",
     "text": [
      "   subjectID       surveyCategory  assessmentTotal irrelevantCol1  \\\n0          1  withdrawal behavior                5         irrel1   \n1          1  positive re-framing                2         irrel1   \n2          2  withdrawal behavior                3         irrel1   \n3          2  positive re-framing                4         irrel1   \n\n  irrelevantCol2  \n0         irrel3  \n1         irrel3  \n2         irrel3  \n3         irrel3  \n"
     ],
     "output_type": "stream"
    }
   ],
   "source": [
    "import io\n",
    "import psycopg2\n",
    "import pandas\n",
    "\n",
    "pandas.set_option('display.max_columns', None)  \n",
    "pandas.set_option('display.expand_frame_repr', False)\n",
    "pandas.set_option('max_colwidth', -1)\n",
    "\n",
    "d = pandas.DataFrame({\n",
    "    'subjectID':[1, 1, 2, 2],\n",
    "    'surveyCategory': [ \"withdrawal behavior\", \"positive re-framing\", \"withdrawal behavior\", \"positive re-framing\"],\n",
    "    'assessmentTotal': [5, 2, 3, 4],\n",
    "    'irrelevantCol1': ['irrel1']*4,\n",
    "    'irrelevantCol2': ['irrel2']*4,\n",
    "})\n",
    "\n",
    "print(d)\n",
    "\n",
    "\n"
   ]
  },
  {
   "cell_type": "code",
   "execution_count": null,
   "outputs": [],
   "source": [
    "conn = psycopg2.connect(\n",
    "    database=\"johnmount\",\n",
    "    user=\"johnmount\",\n",
    "    host=\"localhost\",\n",
    "    password=\"\"\n",
    ")\n",
    "conn.autocommit=True\n",
    "\n",
    "cur = conn.cursor()"
   ],
   "metadata": {
    "collapsed": false,
    "pycharm": {
     "name": "#%%\n"
    }
   }
  },
  {
   "cell_type": "code",
   "execution_count": null,
   "outputs": [],
   "source": [
    "def is_numeric(col):\n",
    "    try:\n",
    "        0.0 + col\n",
    "        return True\n",
    "    except Exception as ex:\n",
    "        return False\n",
    "\n",
    "\n",
    "def insert_table(conn, d, table_name):\n",
    "    cr = [d.columns[i] + \" \" + (\"double precision\" if is_numeric(d[d.columns[i]]) else \"VARCHAR\") for \n",
    "            i in range(d.shape[1])]\n",
    "    table_name = 'd'\n",
    "    create_stmt = \"CREATE TABLE \" + table_name + \" ( \" + ', '.join(cr) + \" )\"\n",
    "    cur = conn.cursor()\n",
    "    cur.execute(\"DROP TABLE IF EXISTS \" + table_name)\n",
    "    conn.commit()\n",
    "    cur.execute(create_stmt)\n",
    "    conn.commit()\n",
    "    buf = io.StringIO(d.to_csv(index=False, header=False, sep='\\t'))\n",
    "    cur.copy_from(buf, 'd', columns=[c for c in d.columns])\n",
    "    conn.commit()\n",
    "\n",
    "\n",
    "def read_query(conn, q):\n",
    "    cur.execute(q)\n",
    "    r = cur.fetchall()\n",
    "    colnames = [desc[0] for desc in cur.description]\n",
    "    return pandas.DataFrame(columns = colnames, data = r)\n",
    "\n",
    "\n",
    "def read_table(conn, table_name):\n",
    "    return read_query(conn, \"SELECT * FROM \" + table_name)\n",
    "    \n",
    "\n",
    "insert_table(conn, d, 'd')\n",
    "\n",
    "\n",
    "read_table(conn, 'd')"
   ],
   "metadata": {
    "collapsed": false,
    "pycharm": {
     "name": "#%%\n"
    }
   }
  },
  {
   "cell_type": "code",
   "execution_count": 2,
   "outputs": [
    {
     "name": "stdout",
     "text": [
      "TableDescription(\n    table_name=\"d\",\n    column_names=[\n        \"subjectID\",\n        \"surveyCategory\",\n        \"assessmentTotal\",\n        \"irrelevantCol1\",\n        \"irrelevantCol2\",\n    ],\n).extend({\"probability\": \"(assessmentTotal * 0.237).exp()\"}).extend(\n    {\"probability\": \"(probability / probability.sum())\"}, partition_by=[\"subjectID\"]\n).extend(\n    {\"row_number\": \"_.row_number()\"},\n    partition_by=[\"subjectID\"],\n    order_by=[\"probability\", \"surveyCategory\"],\n    reverse=[\"probability\"],\n)\n\n"
     ],
     "output_type": "stream"
    }
   ],
   "source": [
    "from data_algebra.data_ops import *\n",
    "import data_algebra.env\n",
    "import data_algebra.yaml\n",
    "import data_algebra.PostgreSQL\n",
    "\n",
    "\n",
    "\n",
    "\n",
    "_, _1, _2, _get = [None, None, None, lambda x: x] # don't look unbound\n",
    "data_algebra.yaml.fix_ordered_dict_yaml_rep()\n",
    "data_algebra.env.push_onto_namespace_stack(locals())\n",
    "\n",
    "db_model = data_algebra.PostgreSQL.PostgreSQLModel()\n",
    "\n",
    "scale = 0.237\n",
    "\n",
    "ops = TableDescription('d', \n",
    "                 ['subjectID',\n",
    "                  'surveyCategory',\n",
    "                  'assessmentTotal',\n",
    "                  'irrelevantCol1',\n",
    "                  'irrelevantCol2']) .\\\n",
    "    extend({'probability': '(assessmentTotal * scale).exp()'}) .\\\n",
    "    extend({'probability': 'probability/probability.sum()'},\n",
    "           partition_by='subjectID') .\\\n",
    "    extend({'row_number':'_.row_number()'},\n",
    "           partition_by=['subjectID'],\n",
    "           order_by=['probability', 'surveyCategory'],\n",
    "           reverse=['probability'])\n",
    "\n",
    "print(ops.to_python(pretty=True))\n"
   ],
   "metadata": {
    "collapsed": false,
    "pycharm": {
     "name": "#%%\n",
     "is_executing": false
    }
   }
  },
  {
   "cell_type": "code",
   "execution_count": 2,
   "outputs": [
    {
     "name": "stdout",
     "text": [
      "SELECT \"probability\",\n       \"surveyCategory\",\n       \"irrelevantCol2\",\n       \"subjectID\",\n       \"irrelevantCol1\",\n       \"assessmentTotal\",\n       ROW_NUMBER() OVER (PARTITION BY \"subjectID\"\n                          ORDER BY \"subjectID\") AS \"row_number\"\nFROM\n  (SELECT \"surveyCategory\",\n          \"irrelevantCol2\",\n          \"subjectID\",\n          \"irrelevantCol1\",\n          \"assessmentTotal\", (\"probability\" / SUM(\"probability\")) OVER (PARTITION BY \"subjectID\") AS \"probability\"\n   FROM\n     (SELECT \"surveyCategory\",\n             \"irrelevantCol2\",\n             \"subjectID\",\n             \"irrelevantCol1\",\n             \"assessmentTotal\",\n             EXP((\"assessmentTotal\" * 0.237)) AS \"probability\"\n      FROM\n        (SELECT \"surveyCategory\",\n                \"irrelevantCol1\",\n                \"assessmentTotal\",\n                \"irrelevantCol2\",\n                \"subjectID\"\n         FROM \"d\") \"SQ_0\") \"SQ_1\") \"SQ_2\"\n"
     ],
     "output_type": "stream"
    }
   ],
   "source": [
    "sql = ops.to_sql(db_model, pretty=True)\n",
    "print(sql)"
   ],
   "metadata": {
    "collapsed": false,
    "pycharm": {
     "name": "#%%\n",
     "is_executing": false
    }
   }
  },
  {
   "cell_type": "code",
   "execution_count": null,
   "outputs": [],
   "source": [
    "\n",
    "\n",
    "read_query(conn, sql)"
   ],
   "metadata": {
    "collapsed": false,
    "pycharm": {
     "name": "#%%\n"
    }
   }
  },
  {
   "cell_type": "code",
   "execution_count": null,
   "outputs": [],
   "source": [
    "conn.close()"
   ],
   "metadata": {
    "collapsed": false,
    "pycharm": {
     "name": "#%%\n"
    }
   }
  }
 ],
 "metadata": {
  "language_info": {
   "codemirror_mode": {
    "name": "ipython",
    "version": 2
   },
   "file_extension": ".py",
   "mimetype": "text/x-python",
   "name": "python",
   "nbconvert_exporter": "python",
   "pygments_lexer": "ipython2",
   "version": "2.7.6"
  },
  "kernelspec": {
   "name": "python3",
   "language": "python",
   "display_name": "Python 3"
  },
  "pycharm": {
   "stem_cell": {
    "cell_type": "raw",
    "source": [],
    "metadata": {
     "collapsed": false
    }
   }
  }
 },
 "nbformat": 4,
 "nbformat_minor": 0
}