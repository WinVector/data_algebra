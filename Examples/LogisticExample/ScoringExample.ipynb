{
 "cells": [
  {
   "cell_type": "code",
   "execution_count": 1,
   "metadata": {
    "collapsed": true,
    "pycharm": {
     "is_executing": false,
     "name": "#%%\n"
    }
   },
   "outputs": [
    {
     "name": "stdout",
     "text": [
      "TableDescription(\n    table_name=\"d\",\n    column_names=[\n        \"subjectID\",\n        \"surveyCategory\",\n        \"assessmentTotal\",\n        \"irrelevantCol1\",\n        \"irrelevantCol2\",\n    ],\n).extend({\"probability\": \"(assessmentTotal * 0.237).exp()\"}).extend(\n    {\"probability\": \"(probability / probability.sum())\"}, partition_by=[\"subjectID\"]\n).extend(\n    {\"row_number\": \"_.row_number()\"},\n    partition_by=[\"subjectID\"],\n    order_by=[\"probability\", \"surveyCategory\"],\n    reverse=[\"probability\"],\n)\n\n"
     ],
     "output_type": "stream"
    }
   ],
   "source": [
    "from data_algebra.data_ops import *\n",
    "import data_algebra.env\n",
    "import data_algebra.yaml\n",
    "import data_algebra.PostgreSQL\n",
    "\n",
    "\n",
    "\n",
    "\n",
    "_, _1, _2, _get = [None, None, None, lambda x: x] # don't look unbound\n",
    "data_algebra.yaml.fix_ordered_dict_yaml_rep()\n",
    "data_algebra.env.push_onto_namespace_stack(locals())\n",
    "\n",
    "db_model = data_algebra.PostgreSQL.PostgreSQLModel()\n",
    "\n",
    "scale = 0.237\n",
    "\n",
    "ops = TableDescription('d', \n",
    "                 ['subjectID',\n",
    "                  'surveyCategory',\n",
    "                  'assessmentTotal',\n",
    "                  'irrelevantCol1',\n",
    "                  'irrelevantCol2']) .\\\n",
    "    extend({'probability': '(assessmentTotal * scale).exp()'}) .\\\n",
    "    extend({'probability': 'probability/probability.sum()'},\n",
    "           partition_by='subjectID') .\\\n",
    "    extend({'row_number':'_.row_number()'},\n",
    "           partition_by=['subjectID'],\n",
    "           order_by=['probability', 'surveyCategory'],\n",
    "           reverse=['probability'])\n",
    "\n",
    "print(ops.to_python(pretty=True))\n"
   ]
  },
  {
   "cell_type": "code",
   "execution_count": 2,
   "outputs": [
    {
     "name": "stdout",
     "text": [
      "SELECT \"probability\",\n       \"surveyCategory\",\n       \"irrelevantCol2\",\n       \"subjectID\",\n       \"irrelevantCol1\",\n       \"assessmentTotal\",\n       ROW_NUMBER() OVER (PARTITION BY \"subjectID\"\n                          ORDER BY \"subjectID\") AS \"row_number\"\nFROM\n  (SELECT \"surveyCategory\",\n          \"irrelevantCol2\",\n          \"subjectID\",\n          \"irrelevantCol1\",\n          \"assessmentTotal\", (\"probability\" / SUM(\"probability\")) OVER (PARTITION BY \"subjectID\") AS \"probability\"\n   FROM\n     (SELECT \"surveyCategory\",\n             \"irrelevantCol2\",\n             \"subjectID\",\n             \"irrelevantCol1\",\n             \"assessmentTotal\",\n             EXP((\"assessmentTotal\" * 0.237)) AS \"probability\"\n      FROM\n        (SELECT \"surveyCategory\",\n                \"irrelevantCol1\",\n                \"assessmentTotal\",\n                \"irrelevantCol2\",\n                \"subjectID\"\n         FROM \"d\") \"SQ_0\") \"SQ_1\") \"SQ_2\"\n"
     ],
     "output_type": "stream"
    }
   ],
   "source": [
    "sql = ops.to_sql(db_model, pretty=True)\n",
    "print(sql)"
   ],
   "metadata": {
    "collapsed": false,
    "pycharm": {
     "name": "#%%\n",
     "is_executing": false
    }
   }
  }
 ],
 "metadata": {
  "language_info": {
   "codemirror_mode": {
    "name": "ipython",
    "version": 2
   },
   "file_extension": ".py",
   "mimetype": "text/x-python",
   "name": "python",
   "nbconvert_exporter": "python",
   "pygments_lexer": "ipython2",
   "version": "2.7.6"
  },
  "kernelspec": {
   "name": "python3",
   "language": "python",
   "display_name": "Python 3"
  },
  "pycharm": {
   "stem_cell": {
    "cell_type": "raw",
    "source": [],
    "metadata": {
     "collapsed": false
    }
   }
  }
 },
 "nbformat": 4,
 "nbformat_minor": 0
}