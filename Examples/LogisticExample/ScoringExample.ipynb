{
 "cells": [
  {
   "cell_type": "markdown",
   "metadata": {
    "pycharm": {
     "name": "#%% md\n"
    }
   },
   "source": [
    "This article introduces the [`data_algebra`](https://github.com/WinVector/data_algebra) project: a data processing tool family available in `R` and `Python`.  These tools are designed to transform data either in-memory or on remote databases.  \n",
    "\n",
    "In particular we will discuss the `Python` implementation (also called `data_algebra`) and its relation to the mature `R` implementations (`rquery` and `rqdatatable`).\n",
    "\n",
    "## Introduction\n",
    "\n",
    "Parts of the project are in early development (and not yet ready for production use), and other parts are mature and have been used in production.\n",
    "\n",
    "The project intent is to realize a modern data processing language based on [Codd's relational operators](https://en.wikipedia.org/wiki/Relational_model) that is easy to maintain, has helpful tooling, and has very similar realizations (or dialects) for:\n",
    "\n",
    "  * [`SQL`](https://en.wikipedia.org/wiki/SQL) databases accessed from [`Python`](https://www.python.org) (in development [here](https://github.com/WinVector/data_algebra), not yet ready for production use).\n",
    "  * `Pandas` `Data.Frame` objects in `Python` (in development [here](https://github.com/WinVector/data_algebra), not yet ready for production use).\n",
    "  * `SQL` databases access from [`R`](https://www.r-project.org) (implementation is [here](https://github.com/WinVector/rquery), and is mature and ready for production use).\n",
    "  * [`data.table`](http://r-datatable.com) objects in `R` (implementation is [here](https://github.com/WinVector/rqdatatable), and is mature and ready for production use).\n",
    "  \n",
    "The idea is the notation should look idiomatic in each language.  Working in `Python` should feel like working in `Python`, and working in `R` should feel like working in `R`.  The data semantics, however, are designed to be close to the `SQL` realizations (given the close connection of `SQL` to the relational algebra; in particular row numbering starts at `1` and row and column order is not preserved except at row-order steps or select-columns steps respectively). The intent is: it should be very easy to use the system in either `Python` or `R` (a boon to multi-language data science projects) and it is easy to port either code or experience from one system to another (a boon for porting projects, or for data scientists working with more than one code base or computer language).\n",
    "\n",
    "Related work includes:\n",
    "\n",
    "  * [Codd's relational algebra](https://en.wikipedia.org/wiki/Relational_algebra)\n",
    "  * [`SQL`](https://en.wikipedia.org/wiki/SQL)\n",
    "  * [`data.table`](https://CRAN.R-project.org/package=data.table)\n",
    "  * [`LINQ`](https://en.wikipedia.org/wiki/Language_Integrated_Query)\n",
    "  * [`dplyr`](https://CRAN.R-project.org/package=dplyr)\n",
    "  * [`dtplyr`](https://CRAN.R-project.org/package=dtplyr)\n",
    "  * [`table.express`](https://github.com/asardaes/table.express)\n",
    "  * [`Pandas`](https://pandas.pydata.org)\n",
    "  * [`SQLAlchemy`](https://www.sqlalchemy.org)\n",
    "  \n",
    "The `data_algebra` principles include:\n",
    "\n",
    "  * Writing data transforms as a pipeline or method-chain of many simple transform steps.\n",
    "  * Treating data transform pipelines or directed acyclic graphs (DAGs) as themselves being sharable data.\n",
    "  * Being able to use the same transform specification many places (in memory, on databases, in `R`, in `Python`).\n",
    "  \n",
    "## Example\n",
    "\n",
    "Let's start with an example in `Python`.\n",
    "\n",
    "For our example we will assume we have a data set of how many points different subjects score in a psychological survey.  The goal is transform the data so that we see what fraction of the subjects answers are in each category (subject to an exponential transform, as often used in [logistic regression](https://en.wikipedia.org/wiki/Logistic_regression)).  We then treat the per-subject renormalized data as a probabilty or diagnosis.\n",
    "\n",
    "The exact meaning of such a scoring method are not the topic of this note.  It is a notional example to show a non-trivial data transformation need.  In particular: having to normalize per-subject (divide some set of scores per-subject by a per-subject total) is a classic pain point in data-processing.  In classic `SQL` this can only be done by joining against a summary table, or in more modern `SQL` with a \"[window function](https://en.wikipedia.org/wiki/SQL_window_function).\" We want to show by working in small enough steps this can be done simply.\n",
    "\n",
    "### Set up\n",
    "\n",
    "Let's start our `Python` example.  First we import the packages we are going to use, and set a few options."
   ]
  },
  {
   "cell_type": "code",
   "execution_count": 1,
   "metadata": {
    "pycharm": {
     "is_executing": false,
     "name": "#%%\n"
    }
   },
   "outputs": [],
   "source": [
    "import math\n",
    "import io\n",
    "import sqlite3\n",
    "from pprint import pprint\n",
    "import psycopg2       # http://initd.org/psycopg/\n",
    "import pandas         # https://pandas.pydata.org\n",
    "import yaml           # https://pyyaml.org\n",
    "from data_algebra.data_ops import *  # https://github.com/WinVector/data_algebra\n",
    "import data_algebra.env\n",
    "import data_algebra.yaml\n",
    "import data_algebra.PostgreSQL\n",
    "import data_algebra.SQLite\n",
    "\n",
    "# ask YAML to write simpler structures\n",
    "data_algebra.yaml.fix_ordered_dict_yaml_rep()\n",
    "\n",
    "pandas.set_option('display.max_columns', None)  \n",
    "pandas.set_option('display.expand_frame_repr', False)\n",
    "pandas.set_option('max_colwidth', -1)"
   ]
  },
  {
   "cell_type": "markdown",
   "metadata": {},
   "source": [
    "Now let's type in our example data.  Notice this is an in-memory `Pandas` `Data.Frame`."
   ]
  },
  {
   "cell_type": "code",
   "execution_count": 2,
   "metadata": {
    "pycharm": {
     "is_executing": false
    }
   },
   "outputs": [
    {
     "data": {
      "text/plain": "   subjectID       surveyCategory  assessmentTotal irrelevantCol1 irrelevantCol2\n0  1          withdrawal behavior  5                irrel1         irrel2       \n1  1          positive re-framing  2                irrel1         irrel2       \n2  2          withdrawal behavior  3                irrel1         irrel2       \n3  2          positive re-framing  4                irrel1         irrel2       ",
      "text/html": "<div>\n<style scoped>\n    .dataframe tbody tr th:only-of-type {\n        vertical-align: middle;\n    }\n\n    .dataframe tbody tr th {\n        vertical-align: top;\n    }\n\n    .dataframe thead th {\n        text-align: right;\n    }\n</style>\n<table border=\"1\" class=\"dataframe\">\n  <thead>\n    <tr style=\"text-align: right;\">\n      <th></th>\n      <th>subjectID</th>\n      <th>surveyCategory</th>\n      <th>assessmentTotal</th>\n      <th>irrelevantCol1</th>\n      <th>irrelevantCol2</th>\n    </tr>\n  </thead>\n  <tbody>\n    <tr>\n      <th>0</th>\n      <td>1</td>\n      <td>withdrawal behavior</td>\n      <td>5</td>\n      <td>irrel1</td>\n      <td>irrel2</td>\n    </tr>\n    <tr>\n      <th>1</th>\n      <td>1</td>\n      <td>positive re-framing</td>\n      <td>2</td>\n      <td>irrel1</td>\n      <td>irrel2</td>\n    </tr>\n    <tr>\n      <th>2</th>\n      <td>2</td>\n      <td>withdrawal behavior</td>\n      <td>3</td>\n      <td>irrel1</td>\n      <td>irrel2</td>\n    </tr>\n    <tr>\n      <th>3</th>\n      <td>2</td>\n      <td>positive re-framing</td>\n      <td>4</td>\n      <td>irrel1</td>\n      <td>irrel2</td>\n    </tr>\n  </tbody>\n</table>\n</div>"
     },
     "metadata": {},
     "output_type": "execute_result",
     "execution_count": 2
    }
   ],
   "source": [
    "d_local = pandas.DataFrame({\n",
    "    'subjectID':[1, 1, 2, 2],\n",
    "    'surveyCategory': [ \"withdrawal behavior\", \"positive re-framing\", \"withdrawal behavior\", \"positive re-framing\"],\n",
    "    'assessmentTotal': [5, 2, 3, 4],\n",
    "    'irrelevantCol1': ['irrel1']*4,\n",
    "    'irrelevantCol2': ['irrel2']*4,\n",
    "})\n",
    "d_local"
   ]
  },
  {
   "cell_type": "markdown",
   "metadata": {},
   "source": [
    "Let's also copy this data to a [`PostgreSQL`](https://www.postgresql.org) database.  Normally big data is already in the system one wants to work with, so the copying over is just to simulate the data already being there."
   ]
  },
  {
   "cell_type": "code",
   "execution_count": 3,
   "metadata": {
    "collapsed": false,
    "jupyter": {
     "outputs_hidden": false
    },
    "pycharm": {
     "is_executing": false,
     "name": "#%%\n"
    }
   },
   "outputs": [],
   "source": [
    "use_postgresql = False\n",
    "\n",
    "if use_postgresql:\n",
    "    conn = psycopg2.connect(\n",
    "        database=\"johnmount\",\n",
    "        user=\"johnmount\",\n",
    "        host=\"localhost\",\n",
    "        password=\"\"\n",
    "    )\n",
    "    conn.autocommit=True\n",
    "    db_model = data_algebra.PostgreSQL.PostgreSQLModel()\n",
    "else:\n",
    "    conn = sqlite3.connect(':memory:')\n",
    "    db_model = data_algebra.SQLite.SQLiteModel()\n",
    "    # https://docs.python.org/3/library/sqlite3.html#sqlite3.Connection.create_function\n",
    "    conn.create_function(\"exp\", 1, math.exp)"
   ]
  },
  {
   "cell_type": "code",
   "execution_count": 4,
   "metadata": {
    "collapsed": false,
    "jupyter": {
     "outputs_hidden": false
    },
    "pycharm": {
     "is_executing": false,
     "name": "#%%\n"
    }
   },
   "outputs": [
    {
     "data": {
      "text/plain": "   index  subjectID       surveyCategory  assessmentTotal irrelevantCol1 irrelevantCol2\n0  0      1          withdrawal behavior  5                irrel1         irrel2       \n1  1      1          positive re-framing  2                irrel1         irrel2       \n2  2      2          withdrawal behavior  3                irrel1         irrel2       \n3  3      2          positive re-framing  4                irrel1         irrel2       ",
      "text/html": "<div>\n<style scoped>\n    .dataframe tbody tr th:only-of-type {\n        vertical-align: middle;\n    }\n\n    .dataframe tbody tr th {\n        vertical-align: top;\n    }\n\n    .dataframe thead th {\n        text-align: right;\n    }\n</style>\n<table border=\"1\" class=\"dataframe\">\n  <thead>\n    <tr style=\"text-align: right;\">\n      <th></th>\n      <th>index</th>\n      <th>subjectID</th>\n      <th>surveyCategory</th>\n      <th>assessmentTotal</th>\n      <th>irrelevantCol1</th>\n      <th>irrelevantCol2</th>\n    </tr>\n  </thead>\n  <tbody>\n    <tr>\n      <th>0</th>\n      <td>0</td>\n      <td>1</td>\n      <td>withdrawal behavior</td>\n      <td>5</td>\n      <td>irrel1</td>\n      <td>irrel2</td>\n    </tr>\n    <tr>\n      <th>1</th>\n      <td>1</td>\n      <td>1</td>\n      <td>positive re-framing</td>\n      <td>2</td>\n      <td>irrel1</td>\n      <td>irrel2</td>\n    </tr>\n    <tr>\n      <th>2</th>\n      <td>2</td>\n      <td>2</td>\n      <td>withdrawal behavior</td>\n      <td>3</td>\n      <td>irrel1</td>\n      <td>irrel2</td>\n    </tr>\n    <tr>\n      <th>3</th>\n      <td>3</td>\n      <td>2</td>\n      <td>positive re-framing</td>\n      <td>4</td>\n      <td>irrel1</td>\n      <td>irrel2</td>\n    </tr>\n  </tbody>\n</table>\n</div>"
     },
     "metadata": {},
     "output_type": "execute_result",
     "execution_count": 4
    }
   ],
   "source": [
    "\n",
    "\n",
    "db_model.insert_table(conn, d_local, 'd')\n",
    "\n",
    "db_model.read_table(conn, 'd')"
   ]
  },
  {
   "cell_type": "markdown",
   "metadata": {
    "pycharm": {
     "name": "#%% md\n"
    }
   },
   "source": [
    "Normally one does not read data back from a database, but instead materializes results in the database with `SQL` commands such as `CREATE TABLE tablename AS SELECT ...`.\n",
    "Also note: case in columns is a bit of nightmare.  It is often best to lower-case them all.\n",
    "\n",
    "### Back to the `data_algebra`\n",
    "\n",
    "Now we continue our example by importing the `data_algebra` components we need.\n",
    "\n",
    "Now we use the `data_algebra` to define our processing pipeline: `ops`.  We are writing this pipeline using a [method chaining](https://en.wikipedia.org/wiki/Method_chaining) notation where we have placed `Python` method-dot at the end of lines using the `.\\` notation.  This notation will look *very* much like a [pipe](https://en.wikipedia.org/wiki/Pipeline_(Unix)) to `R`/[`magrittr`](https://CRAN.R-project.org/package=magrittr) users."
   ]
  },
  {
   "cell_type": "code",
   "execution_count": 5,
   "metadata": {
    "pycharm": {
     "is_executing": false
    }
   },
   "outputs": [],
   "source": [
    "scale = 0.237\n",
    "\n",
    "with data_algebra.env.Env(locals()) as env:\n",
    "    ops = TableDescription('d', \n",
    "                     ['subjectID',\n",
    "                      'surveyCategory',\n",
    "                      'assessmentTotal',\n",
    "                      'irrelevantCol1',\n",
    "                      'irrelevantCol2']) .\\\n",
    "        extend({'probability': '(assessmentTotal * scale).exp()'}) .\\\n",
    "        extend({'total': 'probability.sum()'},\n",
    "               partition_by='subjectID')  .\\\n",
    "        extend({'probability': 'probability/total'})  .\\\n",
    "        extend({'row_number':'_row_number()'},\n",
    "                partition_by=['subjectID'],\n",
    "                order_by=['probability', 'surveyCategory'],\n",
    "                reverse=['probability'])  .\\\n",
    "        select_rows('row_number==1')   .\\\n",
    "        select_columns(['subjectID', 'surveyCategory', 'probability']) .\\\n",
    "        rename_columns({'diagnosis': 'surveyCategory'})  .\\\n",
    "        order_rows(['subjectID'])"
   ]
  },
  {
   "cell_type": "markdown",
   "metadata": {},
   "source": [
    "For a more pythonic way of writing the same pipeline we can show how the code would have been formatted by [`black`](https://github.com/psf/black)."
   ]
  },
  {
   "cell_type": "code",
   "execution_count": 6,
   "metadata": {
    "pycharm": {
     "is_executing": false
    }
   },
   "outputs": [
    {
     "name": "stdout",
     "text": [
      "TableDescription(\n    table_name=\"d\",\n    column_names=[\n        \"subjectID\",\n        \"surveyCategory\",\n        \"assessmentTotal\",\n        \"irrelevantCol1\",\n        \"irrelevantCol2\",\n    ],\n).extend({\"probability\": \"(assessmentTotal * 0.237).exp()\"}).extend(\n    {\"total\": \"probability.sum()\"}, partition_by=[\"subjectID\"]\n).extend(\n    {\"probability\": \"probability / total\"}\n).extend(\n    {\"row_number\": \"_row_number()\"},\n    partition_by=[\"subjectID\"],\n    order_by=[\"probability\", \"surveyCategory\"],\n    reverse=[\"probability\"],\n).select_rows(\n    \"row_number == 1\"\n).select_columns(\n    [\"subjectID\", \"surveyCategory\", \"probability\"]\n).rename_columns(\n    {\"diagnosis\": \"surveyCategory\"}\n).order_rows(\n    [\"subjectID\"]\n)\n\n"
     ],
     "output_type": "stream"
    }
   ],
   "source": [
    "py_source = ops.to_python(pretty=True)\n",
    "print(py_source)"
   ]
  },
  {
   "cell_type": "markdown",
   "metadata": {},
   "source": [
    "In either case, the pipeline is read as a sequence of operations (top to bottom, and left to right).  What it is saying is:\n",
    "\n",
    "  * We start with a table named \"d\" that is known to have columns \"subjectID\", \"surveyCategory\", \"assessmentTotal\", \"irrelevantCol1\", and \"irrelevantCol2\".\n",
    "  * We produce a new table by transforming this table through a sequence of \"extend\" operations which add new columns.\n",
    "  \n",
    "    * The first `extend` computes `probability = exp(scale*assessmentTotal)`, this is similar to the inverse-link step of a logistic regression. We assume when writing this pipeline we were given this math as a requirement.\n",
    "    * The next few `extend` steps total the `probabilty` per-subject (this is controlled by the `partition_by` argument) and then rank the normalized probabilities per-subject (grouping again specified by the `partition_by` argument, and order contolled by the `order_by` clause).\n",
    "    \n",
    "  * We then select the per-subject top-ranked rows by the `select_rows` step.\n",
    "  \n",
    "  * And finally we clean up the results for presentation with the `select_columns`, `rename_columns`, and `order_rows` steps.  The names of these methods are intedned to evoke what they do.\n",
    "  \n",
    "The point is: each step is deliberately so trivial one can reason about it. However the many steps in sequence do quite a lot.\n",
    "\n",
    "### `SQL`\n",
    "\n",
    "Once we have the `ops` object we can do quite a lot with it. We have already exhibited the pretty-printing of the pipeline. Next we demonstrate translating the operator pipeline into `SQL`."
   ]
  },
  {
   "cell_type": "code",
   "execution_count": 7,
   "metadata": {
    "collapsed": false,
    "jupyter": {
     "outputs_hidden": false
    },
    "pycharm": {
     "is_executing": false,
     "name": "#%%\n"
    }
   },
   "outputs": [
    {
     "name": "stdout",
     "text": [
      "SELECT \"subjectID\",\n       \"diagnosis\",\n       \"probability\"\nFROM\n  (SELECT \"subjectID\",\n          \"probability\",\n          \"surveyCategory\" AS \"diagnosis\"\n   FROM\n     (SELECT \"probability\",\n             \"subjectID\",\n             \"surveyCategory\"\n      FROM\n        (SELECT \"probability\",\n                \"subjectID\",\n                \"surveyCategory\"\n         FROM\n           (SELECT \"probability\",\n                   \"subjectID\",\n                   \"surveyCategory\",\n                   ROW_NUMBER() OVER (PARTITION BY \"subjectID\"\n                                      ORDER BY \"probability\" DESC, \"surveyCategory\") AS \"row_number\"\n            FROM\n              (SELECT \"surveyCategory\",\n                      \"subjectID\",\n                      \"probability\" / \"total\" AS \"probability\"\n               FROM\n                 (SELECT \"surveyCategory\",\n                         \"subjectID\",\n                         \"probability\",\n                         SUM(\"probability\") OVER (PARTITION BY \"subjectID\") AS \"total\"\n                  FROM\n                    (SELECT \"subjectID\",\n                            \"surveyCategory\",\n                            EXP((\"assessmentTotal\" * 0.237)) AS \"probability\"\n                     FROM\n                       (SELECT \"surveyCategory\",\n                               \"assessmentTotal\",\n                               \"subjectID\"\n                        FROM \"d\") \"SQ_0\") \"SQ_1\") \"SQ_2\") \"SQ_3\") \"SQ_4\"\n         WHERE \"row_number\" = 1 ) \"SQ_5\") \"SQ_6\") \"SQ_7\"\nORDER BY \"subjectID\"\n"
     ],
     "output_type": "stream"
    }
   ],
   "source": [
    "sql = ops.to_sql(db_model, pretty=True)\n",
    "print(sql)"
   ]
  },
  {
   "cell_type": "markdown",
   "metadata": {},
   "source": [
    "The `SQL` can be hard to read, as `SQL` expresses composition by inner-nesting (inside `SELECT` statements happen first).  The operator pipeline expresses composition by sequencing or method-chaining, which can be a lot more legible.  However the huge advantage of the `SQL` is: we can send it to the database for execution, as we do now.\n",
    "\n",
    "Also notice the generate `SQL` has applied query narrowing: columns not used in the outer queries are removed from the inner queries. The \"irrelevant\" columns are not carried into the calculation as they would be with a `SELECT *`.  This early optimization comes in quite handy."
   ]
  },
  {
   "cell_type": "code",
   "execution_count": 8,
   "metadata": {
    "collapsed": false,
    "jupyter": {
     "outputs_hidden": false
    },
    "pycharm": {
     "is_executing": false,
     "name": "#%%\n"
    }
   },
   "outputs": [
    {
     "data": {
      "text/plain": "   subjectID            diagnosis  probability\n0  1          withdrawal behavior  0.670622   \n1  2          positive re-framing  0.558974   ",
      "text/html": "<div>\n<style scoped>\n    .dataframe tbody tr th:only-of-type {\n        vertical-align: middle;\n    }\n\n    .dataframe tbody tr th {\n        vertical-align: top;\n    }\n\n    .dataframe thead th {\n        text-align: right;\n    }\n</style>\n<table border=\"1\" class=\"dataframe\">\n  <thead>\n    <tr style=\"text-align: right;\">\n      <th></th>\n      <th>subjectID</th>\n      <th>diagnosis</th>\n      <th>probability</th>\n    </tr>\n  </thead>\n  <tbody>\n    <tr>\n      <th>0</th>\n      <td>1</td>\n      <td>withdrawal behavior</td>\n      <td>0.670622</td>\n    </tr>\n    <tr>\n      <th>1</th>\n      <td>2</td>\n      <td>positive re-framing</td>\n      <td>0.558974</td>\n    </tr>\n  </tbody>\n</table>\n</div>"
     },
     "metadata": {},
     "output_type": "execute_result",
     "execution_count": 8
    }
   ],
   "source": [
    "db_model.read_query(conn, sql)"
   ]
  },
  {
   "cell_type": "markdown",
   "metadata": {},
   "source": [
    "What comes back is: one row per subject, with the highest per-subject diagnosis and the estimated probabilty. Again, the math of this is outside the scope of this note (think of that as something coming from a specification)- the ability to write such a pipeline is our actual topic.\n",
    "\n",
    "The hope is that the `data_algebra` pipeline is easier to read, write, and maintain than the `SQL` query. If we wanted to change the calculation we would just add a stage to the `data_algebra` pipeline and then regenerate the `SQL` query.\n",
    "\n",
    "### `Pandas`\n",
    "\n",
    "An advantage of the pipeline is it can also be directly used on `Pandas` `DataFrame`s. Let's see how that is achieved."
   ]
  },
  {
   "cell_type": "code",
   "execution_count": 9,
   "metadata": {
    "pycharm": {
     "is_executing": false
    }
   },
   "outputs": [
    {
     "data": {
      "text/plain": "   subjectID            diagnosis  probability\n0  1          withdrawal behavior  0.670622   \n1  2          positive re-framing  0.558974   ",
      "text/html": "<div>\n<style scoped>\n    .dataframe tbody tr th:only-of-type {\n        vertical-align: middle;\n    }\n\n    .dataframe tbody tr th {\n        vertical-align: top;\n    }\n\n    .dataframe thead th {\n        text-align: right;\n    }\n</style>\n<table border=\"1\" class=\"dataframe\">\n  <thead>\n    <tr style=\"text-align: right;\">\n      <th></th>\n      <th>subjectID</th>\n      <th>diagnosis</th>\n      <th>probability</th>\n    </tr>\n  </thead>\n  <tbody>\n    <tr>\n      <th>0</th>\n      <td>1</td>\n      <td>withdrawal behavior</td>\n      <td>0.670622</td>\n    </tr>\n    <tr>\n      <th>1</th>\n      <td>2</td>\n      <td>positive re-framing</td>\n      <td>0.558974</td>\n    </tr>\n  </tbody>\n</table>\n</div>"
     },
     "metadata": {},
     "output_type": "execute_result",
     "execution_count": 9
    }
   ],
   "source": [
    "ops.eval_pandas({'d': d_local})"
   ]
  },
  {
   "cell_type": "markdown",
   "metadata": {
    "pycharm": {
     "name": "#%% md\n"
    }
   },
   "source": [
    "There is also a shorthand notation for single table source pipelines:"
   ]
  },
  {
   "cell_type": "code",
   "execution_count": 10,
   "metadata": {
    "collapsed": false,
    "jupyter": {
     "outputs_hidden": false
    },
    "pycharm": {
     "is_executing": false,
     "name": "#%%\n"
    }
   },
   "outputs": [
    {
     "data": {
      "text/plain": "   subjectID            diagnosis  probability\n0  1          withdrawal behavior  0.670622   \n1  2          positive re-framing  0.558974   ",
      "text/html": "<div>\n<style scoped>\n    .dataframe tbody tr th:only-of-type {\n        vertical-align: middle;\n    }\n\n    .dataframe tbody tr th {\n        vertical-align: top;\n    }\n\n    .dataframe thead th {\n        text-align: right;\n    }\n</style>\n<table border=\"1\" class=\"dataframe\">\n  <thead>\n    <tr style=\"text-align: right;\">\n      <th></th>\n      <th>subjectID</th>\n      <th>diagnosis</th>\n      <th>probability</th>\n    </tr>\n  </thead>\n  <tbody>\n    <tr>\n      <th>0</th>\n      <td>1</td>\n      <td>withdrawal behavior</td>\n      <td>0.670622</td>\n    </tr>\n    <tr>\n      <th>1</th>\n      <td>2</td>\n      <td>positive re-framing</td>\n      <td>0.558974</td>\n    </tr>\n  </tbody>\n</table>\n</div>"
     },
     "metadata": {},
     "output_type": "execute_result",
     "execution_count": 10
    }
   ],
   "source": [
    "ops.transform(d_local)\n"
   ]
  },
  {
   "cell_type": "markdown",
   "metadata": {},
   "source": [
    "`eval_pandas` takes a dictionary of `Pandas` `DataFrame`s (names matching names specified in the pipeline) and returns the result of applying the pipeline to the data using `Pandas` commands.  Currently our `Pandas` implementation only allows very simple window functions.  This is why we didn't write `probability = probability/sum(probability)`, but instead broken the calculation into multiple steps by introducing the `total` column (the `SQL` realizaition does in fact support more complex window functions).  This is a small issue with the grammar: but our feeling encourange simple steps is in fact a good thing (improves debuggability), and in `SQL` the query optimizers likely optimize the different query styles into very similar realizations anyway.\n",
    "\n",
    "## Export/Import"
   ]
  },
  {
   "cell_type": "markdown",
   "metadata": {
    "pycharm": {
     "name": "#%% md\n"
    }
   },
   "source": [
    "Because our operator pipeline is a `Python` object with no references to external objects (such as the database connection), it can be saved through standard methods such as \"[pickling](https://docs.python.org/3/library/pickle.html).\"\n",
    "\n",
    "However, `data_algebra` also supports exporting a pipeline to and from simple structures that are in turn optimized for conversion  to [`YAML`](https://yaml.org).  The simple structure format is particularly useful for writing more `data_algebra` tools (such as pipeline analysis and presentation tools).  And the `YAML` tooling makes moving a processing pipeline to another a language (such as `R`) quite easy.\n",
    "\n",
    "We will demonstrate this next."
   ]
  },
  {
   "cell_type": "code",
   "execution_count": 11,
   "metadata": {
    "collapsed": false,
    "jupyter": {
     "outputs_hidden": false
    },
    "pycharm": {
     "is_executing": false,
     "name": "#%%\n"
    }
   },
   "outputs": [
    {
     "name": "stdout",
     "text": [
      "[OrderedDict([('op', 'TableDescription'),\n              ('table_name', 'd'),\n              ('qualifiers', {}),\n              ('column_names',\n               ['subjectID',\n                'surveyCategory',\n                'assessmentTotal',\n                'irrelevantCol1',\n                'irrelevantCol2']),\n              ('key', 'd')]),\n OrderedDict([('op', 'Extend'),\n              ('ops', {'probability': 'exp(assessmentTotal * 0.237)'}),\n              ('partition_by', []),\n              ('order_by', []),\n              ('reverse', [])]),\n OrderedDict([('op', 'Extend'),\n              ('ops', {'total': 'sum(probability)'}),\n              ('partition_by', ['subjectID']),\n              ('order_by', []),\n              ('reverse', [])]),\n OrderedDict([('op', 'Extend'),\n              ('ops', {'probability': 'probability / total'}),\n              ('partition_by', []),\n              ('order_by', []),\n              ('reverse', [])]),\n OrderedDict([('op', 'Extend'),\n              ('ops', {'row_number': 'row_number()'}),\n              ('partition_by', ['subjectID']),\n              ('order_by', ['probability', 'surveyCategory']),\n              ('reverse', ['probability'])]),\n OrderedDict([('op', 'SelectRows'), ('expr', 'row_number == 1')]),\n OrderedDict([('op', 'SelectColumns'),\n              ('columns', ['subjectID', 'surveyCategory', 'probability'])]),\n OrderedDict([('op', 'Rename'),\n              ('column_remapping', {'diagnosis': 'surveyCategory'})]),\n OrderedDict([('op', 'Order'),\n              ('order_columns', ['subjectID']),\n              ('reverse', []),\n              ('limit', None)])]\n"
     ],
     "output_type": "stream"
    }
   ],
   "source": [
    "# convert pipeline to simple objects\n",
    "objs_R = ops.collect_representation(dialect='R')\n",
    "# print these objects\n",
    "pprint(objs_R)"
   ]
  },
  {
   "cell_type": "markdown",
   "metadata": {},
   "source": [
    "In the above data structure the recursive operator steps have been linearized into a list, and simplified to just ordered dictionaries of a few defining and derived fields. In particular, the `key` field of the `TableDescription` nodes is the unique identifier for the tables, two `TableDescription` with the same key are referring to the same table.\n",
    "\n",
    "We can then write this representation to `YAML` format."
   ]
  },
  {
   "cell_type": "code",
   "execution_count": 12,
   "metadata": {
    "pycharm": {
     "is_executing": false
    }
   },
   "outputs": [],
   "source": [
    "# convert objects to a YAML string\n",
    "dmp_R = yaml.dump(objs_R)\n",
    "# write to file\n",
    "with open(\"pipeline_yaml.txt\", \"wt\") as f:\n",
    "    print(dmp_R, file=f)"
   ]
  },
  {
   "cell_type": "markdown",
   "metadata": {},
   "source": [
    "### `R`\n",
    "\n",
    "This pipeline can be loaded into `R` and used as follows."
   ]
  },
  {
   "cell_type": "code",
   "execution_count": 13,
   "metadata": {
    "pycharm": {
     "is_executing": false
    }
   },
   "outputs": [],
   "source": [
    "%load_ext rpy2.ipython"
   ]
  },
  {
   "cell_type": "code",
   "execution_count": 14,
   "metadata": {
    "pycharm": {
     "is_executing": false
    }
   },
   "outputs": [
    {
     "name": "stdout",
     "text": [
      "table(d; \n  subjectID,\n  surveyCategory,\n  assessmentTotal,\n  irrelevantCol1,\n  irrelevantCol2) %.>%\n extend(.,\n  probability := exp(assessmentTotal * 0.237)) %.>%\n extend(.,\n  total := sum(probability),\n  p= subjectID) %.>%\n extend(.,\n  probability := probability / total) %.>%\n extend(.,\n  row_number := row_number(),\n  p= subjectID,\n  o= \"probability\" DESC, \"surveyCategory\") %.>%\n select_rows(.,\n   row_number == 1) %.>%\n select_columns(.,\n   subjectID, surveyCategory, probability) %.>%\n rename(.,\n  c('diagnosis' = 'surveyCategory')) %.>%\n orderby(., subjectID)\n"
     ],
     "output_type": "stream"
    }
   ],
   "source": [
    "%%R \n",
    "\n",
    "library(yaml)\n",
    "library(wrapr)\n",
    "library(rquery)\n",
    "library(rqdatatable)\n",
    "source('R_fns.R')  # https://github.com/WinVector/data_algebra/blob/master/Examples/LogisticExample/R_fns.R\n",
    "\n",
    "r_yaml <- yaml.load_file(\"pipeline_yaml.txt\")\n",
    "r_ops <- convert_yaml_to_pipeline(r_yaml)\n",
    "cat(format(r_ops))"
   ]
  },
  {
   "cell_type": "markdown",
   "metadata": {},
   "source": [
    "The above representation is nearly \"`R` code\" (it is not actually executable, unlike the `Python` representation, but very similar to the actual `rquery` steps) written using [`wrapr` dot pipe](https://journal.r-project.org/archive/2018/RJ-2018-042/index.html) notation. However, it can be executed in `R`."
   ]
  },
  {
   "cell_type": "code",
   "execution_count": 15,
   "metadata": {
    "pycharm": {
     "is_executing": false
    }
   },
   "outputs": [
    {
     "name": "stdout",
     "text": [
      " ",
      " subjectID",
      "      surveyCategory",
      " assessmentTotal",
      " irrelevantCol1",
      " irrelevantCol2",
      "\n1",
      "         1",
      " withdrawal behavior",
      "               5",
      "         irrel1",
      "         irrel2",
      "\n2",
      "         1",
      " positive re-framing",
      "               2",
      "         irrel1",
      "         irrel2",
      "\n3",
      "         2",
      " withdrawal behavior",
      "               3",
      "         irrel1",
      "         irrel2",
      "\n4",
      "         2",
      " positive re-framing",
      "               4",
      "         irrel1",
      "         irrel2",
      "\n"
     ],
     "output_type": "stream"
    }
   ],
   "source": [
    "%%R \n",
    "\n",
    "d_local <- build_frame(\n",
    "   \"subjectID\", \"surveyCategory\"     , \"assessmentTotal\", \"irrelevantCol1\", \"irrelevantCol2\" |\n",
    "   1L         , \"withdrawal behavior\", 5                , \"irrel1\"        , \"irrel2\"         |\n",
    "   1L         , \"positive re-framing\", 2                , \"irrel1\"        , \"irrel2\"         |\n",
    "   2L         , \"withdrawal behavior\", 3                , \"irrel1\"        , \"irrel2\"         |\n",
    "   2L         , \"positive re-framing\", 4                , \"irrel1\"        , \"irrel2\"         )\n",
    "\n",
    "print(d_local)"
   ]
  },
  {
   "cell_type": "markdown",
   "metadata": {},
   "source": [
    "We can use the `R` pipeline by piping data into the `r_ops` object."
   ]
  },
  {
   "cell_type": "code",
   "execution_count": 16,
   "metadata": {
    "pycharm": {
     "is_executing": false
    }
   },
   "outputs": [
    {
     "name": "stdout",
     "text": [
      "  ",
      " subjectID",
      "           diagnosis",
      " probability",
      "\n1:",
      "         1",
      " withdrawal behavior",
      "   0.6706221",
      "\n2:",
      "         2",
      " positive re-framing",
      "   0.5589742",
      "\n"
     ],
     "output_type": "stream"
    }
   ],
   "source": [
    "%%R \n",
    "\n",
    "d_local %.>% \n",
    "  r_ops %.>% \n",
    "  print(.)"
   ]
  },
  {
   "cell_type": "markdown",
   "metadata": {},
   "source": [
    "And the `R` `rquery` package can also perform its own `SQL` translation (and even execution management)."
   ]
  },
  {
   "cell_type": "code",
   "execution_count": 17,
   "metadata": {
    "pycharm": {
     "is_executing": false
    }
   },
   "outputs": [
    {
     "name": "stdout",
     "text": [
      "SELECT * FROM (\n SELECT\n  \"subjectID\" AS \"subjectID\",\n  \"surveyCategory\" AS \"diagnosis\",\n  \"probability\" AS \"probability\"\n FROM (\n  SELECT\n   \"subjectID\",\n   \"surveyCategory\",\n   \"probability\"\n  FROM (\n   SELECT * FROM (\n    SELECT\n     \"subjectID\",\n     \"surveyCategory\",\n     \"probability\",\n     row_number ( ) OVER (  PARTITION BY \"subjectID\" ORDER BY \"probability\" DESC, \"surveyCategory\" ) AS \"row_number\"\n    FROM (\n     SELECT\n      \"subjectID\",\n      \"surveyCategory\",\n      \"probability\" / \"total\"  AS \"probability\"\n     FROM (\n      SELECT\n       \"subjectID\",\n       \"surveyCategory\",\n       \"probability\",\n       sum ( \"probability\" ) OVER (  PARTITION BY \"subjectID\" ) AS \"total\"\n      FROM (\n       SELECT\n        \"subjectID\",\n        \"surveyCategory\",\n        exp ( \"assessmentTotal\" * 0.237 )  AS \"probability\"\n       FROM (\n        SELECT\n         \"subjectID\",\n         \"surveyCategory\",\n         \"assessmentTotal\"\n        FROM\n         \"d\"\n        ) tsql_11401114753510260337_0000000000\n       ) tsql_11401114753510260337_0000000001\n      ) tsql_11401114753510260337_0000000002\n     ) tsql_11401114753510260337_0000000003\n   ) tsql_11401114753510260337_0000000004\n   WHERE \"row_number\" = 1\n  ) tsql_11401114753510260337_0000000005\n ) tsql_11401114753510260337_0000000006\n) tsql_11401114753510260337_0000000007 ORDER BY \"subjectID\"\n"
     ],
     "output_type": "stream"
    }
   ],
   "source": [
    "%%R\n",
    "\n",
    "sql <- to_sql(r_ops, rquery_default_db_info())\n",
    "cat(sql)"
   ]
  },
  {
   "cell_type": "markdown",
   "metadata": {},
   "source": [
    "The `R` implementation is mature, and appropriate to use in production.  The [`rquery`](https://github.com/WinVector/rquery) grammar is designed to have minimal state and minimal annotations (no grouping or ordering annotations!).  This makes the grammar, in my opinion, a good design choice. `rquery` has very good performance, often much faster than `dplyr` or base-`R` due to its query generation ideas and use of [`data.table`](https://CRAN.R-project.org/package=data.table) via [`rqdatatable`](https://CRAN.R-project.org/package=rqdatatable).  `rquery` is a mature pure `R` package; [here](https://github.com/WinVector/rquery/blob/master/README.md) is the same example being worked directly in `R`, with no translation from `Python`. \n",
    "\n",
    "The `R` implementation supports additional features such as converting a pipeline into a diagram (though that would also be easy to implement in `Python` on top of the `collect_representation()` objects).  "
   ]
  },
  {
   "cell_type": "markdown",
   "metadata": {},
   "source": [
    "![](https://github.com/WinVector/rquery/raw/master/Examples/yaml/yaml_files/figure-gfm/diagram-1.png)"
   ]
  },
  {
   "cell_type": "markdown",
   "metadata": {},
   "source": [
    "More of the `R` example (including how the diagram was produced) can be found [here](https://github.com/WinVector/rquery/blob/master/Examples/yaml/yaml.md).\n",
    "\n",
    "## Advantages of `data_algebra`\n",
    "\n",
    "Multi-language data science is an important trend, so a cross-language query system that supports at least `R` and `Python` is going to be a useful tool or capability going forward. Obviously `SQL` itself is fairly cross-language, but `data_algebra` adds a few features we hope are real advantages.\n",
    "\n",
    "In addition to the features shown above, a `data_algebra` operator pipeline carries around usable knowledge of the data transform.  For example:"
   ]
  },
  {
   "cell_type": "code",
   "execution_count": 18,
   "metadata": {
    "pycharm": {
     "is_executing": false
    }
   },
   "outputs": [
    {
     "data": {
      "text/plain": "{'d': TableDescription(table_name='d', column_names=['subjectID', 'surveyCategory', 'assessmentTotal', 'irrelevantCol1', 'irrelevantCol2'])}"
     },
     "metadata": {},
     "output_type": "execute_result",
     "execution_count": 18
    }
   ],
   "source": [
    "# report all tables used by the query, by name\n",
    "ops.get_tables()"
   ]
  },
  {
   "cell_type": "code",
   "execution_count": 19,
   "metadata": {
    "pycharm": {
     "is_executing": false
    }
   },
   "outputs": [
    {
     "data": {
      "text/plain": "{'d': {'assessmentTotal', 'subjectID', 'surveyCategory'}}"
     },
     "metadata": {},
     "output_type": "execute_result",
     "execution_count": 19
    }
   ],
   "source": [
    "# report all source table columns used by the query\n",
    "ops.columns_used()"
   ]
  },
  {
   "cell_type": "code",
   "execution_count": 20,
   "metadata": {
    "pycharm": {
     "is_executing": false
    }
   },
   "outputs": [
    {
     "data": {
      "text/plain": "['subjectID', 'diagnosis', 'probability']"
     },
     "metadata": {},
     "output_type": "execute_result",
     "execution_count": 20
    }
   ],
   "source": [
    "# what columns does this operation produce?\n",
    "ops.column_names"
   ]
  },
  {
   "cell_type": "markdown",
   "metadata": {},
   "source": [
    "## Conclusion\n",
    "\n",
    "The `data_algebra` is part of a powerful cross-language and mutli-implementaiton family data manipulation tools. These tools can greatly reduce the development and maintenance cost of data science projects, while improving the documentation of project intent.\n",
    "\n",
    "[Win Vector LLC](http://www.win-vector.com/) is looking for sponsors and partners to further the package.  In particular if your group is using both `R` and `Python` in big-data projects (where `SQL` is a need, including [`Apache Spark`](https://spark.apache.org)), or are porting a project from one of these languages to another- please get in touch."
   ]
  },
  {
   "cell_type": "markdown",
   "metadata": {},
   "source": [
    "## Appendix:\n",
    "\n",
    "Demonstrate we can round-trip a `data_algebra` through `YAML` and recover the code."
   ]
  },
  {
   "cell_type": "code",
   "execution_count": 21,
   "metadata": {
    "collapsed": false,
    "jupyter": {
     "outputs_hidden": false
    },
    "pycharm": {
     "is_executing": false,
     "name": "#%%\n"
    }
   },
   "outputs": [],
   "source": [
    "# land the pipeline as a file\n",
    "objs_Python = ops.collect_representation()\n",
    "dmp_Python = yaml.dump(objs_Python)\n",
    "with open(\"pipeline_Python.txt\", \"wt\") as f:\n",
    "    print(dmp_Python, file=f)"
   ]
  },
  {
   "cell_type": "code",
   "execution_count": 22,
   "metadata": {
    "pycharm": {
     "is_executing": false
    }
   },
   "outputs": [
    {
     "name": "stdout",
     "text": [
      "TableDescription(\n    table_name=\"d\",\n    column_names=[\n        \"subjectID\",\n        \"surveyCategory\",\n        \"assessmentTotal\",\n        \"irrelevantCol1\",\n        \"irrelevantCol2\",\n    ],\n).extend({\"probability\": \"(assessmentTotal * 0.237).exp()\"}).extend(\n    {\"total\": \"probability.sum()\"}, partition_by=[\"subjectID\"]\n).extend(\n    {\"probability\": \"probability / total\"}\n).extend(\n    {\"row_number\": \"_row_number()\"},\n    partition_by=[\"subjectID\"],\n    order_by=[\"probability\", \"surveyCategory\"],\n    reverse=[\"probability\"],\n).select_rows(\n    \"row_number == 1\"\n).select_columns(\n    [\"subjectID\", \"surveyCategory\", \"probability\"]\n).rename_columns(\n    {\"diagnosis\": \"surveyCategory\"}\n).order_rows(\n    [\"subjectID\"]\n)\n\n"
     ],
     "output_type": "stream"
    }
   ],
   "source": [
    "# read back\n",
    "with open(\"pipeline_Python.txt\", \"rt\") as f:\n",
    "    ops_text = f.read()\n",
    "ops_back = data_algebra.yaml.to_pipeline(yaml.safe_load(ops_text))\n",
    "print(ops_back.to_python(pretty=True))"
   ]
  },
  {
   "cell_type": "code",
   "execution_count": 23,
   "metadata": {
    "pycharm": {
     "is_executing": false
    }
   },
   "outputs": [
    {
     "data": {
      "text/plain": "True"
     },
     "metadata": {},
     "output_type": "execute_result",
     "execution_count": 23
    }
   ],
   "source": [
    "# confirm we have a data_algebra.data_ops.ViewRepresentation\n",
    "# which is the class the data_algebra pipelines are derived from\n",
    "isinstance(ops_back, data_algebra.data_ops.ViewRepresentation)"
   ]
  },
  {
   "cell_type": "code",
   "execution_count": 24,
   "metadata": {
    "collapsed": false,
    "jupyter": {
     "outputs_hidden": false
    },
    "pycharm": {
     "is_executing": false,
     "name": "#%%\n"
    }
   },
   "outputs": [],
   "source": [
    "# be neat\n",
    "conn.close()"
   ]
  }
 ],
 "metadata": {
  "kernelspec": {
   "display_name": "Python 3",
   "language": "python",
   "name": "python3"
  },
  "language_info": {
   "codemirror_mode": {
    "name": "ipython",
    "version": 3
   },
   "file_extension": ".py",
   "mimetype": "text/x-python",
   "name": "python",
   "nbconvert_exporter": "python",
   "pygments_lexer": "ipython3",
   "version": "3.6.9"
  },
  "pycharm": {
   "stem_cell": {
    "cell_type": "raw",
    "metadata": {
     "collapsed": false
    },
    "source": []
   }
  }
 },
 "nbformat": 4,
 "nbformat_minor": 4
}