{
 "cells": [
  {
   "cell_type": "markdown",
   "source": [
    "Note: some special functions, such as `is_in` can not be used in\n",
    "`select_row`, but instead must be landed as values."
   ],
   "metadata": {
    "collapsed": false,
    "pycharm": {
     "name": "#%% md\n"
    }
   }
  },
  {
   "cell_type": "code",
   "execution_count": 1,
   "metadata": {
    "collapsed": true
   },
   "outputs": [
    {
     "data": {
      "text/plain": "    ID OP\n0    1  A\n1    1  B\n2    2  A\n3    3  D\n4    4  C\n5    4  A\n6    4  D\n7    4  B\n8    5  A\n9    5  B\n10   6  B",
      "text/html": "<div>\n<style scoped>\n    .dataframe tbody tr th:only-of-type {\n        vertical-align: middle;\n    }\n\n    .dataframe tbody tr th {\n        vertical-align: top;\n    }\n\n    .dataframe thead th {\n        text-align: right;\n    }\n</style>\n<table border=\"1\" class=\"dataframe\">\n  <thead>\n    <tr style=\"text-align: right;\">\n      <th></th>\n      <th>ID</th>\n      <th>OP</th>\n    </tr>\n  </thead>\n  <tbody>\n    <tr>\n      <th>0</th>\n      <td>1</td>\n      <td>A</td>\n    </tr>\n    <tr>\n      <th>1</th>\n      <td>1</td>\n      <td>B</td>\n    </tr>\n    <tr>\n      <th>2</th>\n      <td>2</td>\n      <td>A</td>\n    </tr>\n    <tr>\n      <th>3</th>\n      <td>3</td>\n      <td>D</td>\n    </tr>\n    <tr>\n      <th>4</th>\n      <td>4</td>\n      <td>C</td>\n    </tr>\n    <tr>\n      <th>5</th>\n      <td>4</td>\n      <td>A</td>\n    </tr>\n    <tr>\n      <th>6</th>\n      <td>4</td>\n      <td>D</td>\n    </tr>\n    <tr>\n      <th>7</th>\n      <td>4</td>\n      <td>B</td>\n    </tr>\n    <tr>\n      <th>8</th>\n      <td>5</td>\n      <td>A</td>\n    </tr>\n    <tr>\n      <th>9</th>\n      <td>5</td>\n      <td>B</td>\n    </tr>\n    <tr>\n      <th>10</th>\n      <td>6</td>\n      <td>B</td>\n    </tr>\n  </tbody>\n</table>\n</div>"
     },
     "execution_count": 1,
     "metadata": {},
     "output_type": "execute_result"
    }
   ],
   "source": [
    "import sqlite3\n",
    "\n",
    "import numpy\n",
    "import pandas\n",
    "\n",
    "from data_algebra.data_ops import *\n",
    "import data_algebra.util\n",
    "import data_algebra.test_util\n",
    "import data_algebra.SQLite\n",
    "\n",
    "import pytest\n",
    "\n",
    "# some example data\n",
    "d = pandas.DataFrame({\n",
    "    'ID': [1, 1, 2, 3, 4, 4, 4, 4, 5, 5, 6],\n",
    "    'OP': ['A', 'B', 'A', 'D', 'C', 'A', 'D', 'B', 'A', 'B', 'B'],\n",
    "})\n",
    "\n",
    "d"
   ]
  },
  {
   "cell_type": "code",
   "execution_count": 2,
   "outputs": [
    {
     "data": {
      "text/plain": "    ID OP      v\n0    1  A  False\n1    1  B  False\n2    2  A  False\n3    3  D   True\n4    4  C   True\n5    4  A   True\n6    4  D   True\n7    4  B   True\n8    5  A  False\n9    5  B  False\n10   6  B  False",
      "text/html": "<div>\n<style scoped>\n    .dataframe tbody tr th:only-of-type {\n        vertical-align: middle;\n    }\n\n    .dataframe tbody tr th {\n        vertical-align: top;\n    }\n\n    .dataframe thead th {\n        text-align: right;\n    }\n</style>\n<table border=\"1\" class=\"dataframe\">\n  <thead>\n    <tr style=\"text-align: right;\">\n      <th></th>\n      <th>ID</th>\n      <th>OP</th>\n      <th>v</th>\n    </tr>\n  </thead>\n  <tbody>\n    <tr>\n      <th>0</th>\n      <td>1</td>\n      <td>A</td>\n      <td>False</td>\n    </tr>\n    <tr>\n      <th>1</th>\n      <td>1</td>\n      <td>B</td>\n      <td>False</td>\n    </tr>\n    <tr>\n      <th>2</th>\n      <td>2</td>\n      <td>A</td>\n      <td>False</td>\n    </tr>\n    <tr>\n      <th>3</th>\n      <td>3</td>\n      <td>D</td>\n      <td>True</td>\n    </tr>\n    <tr>\n      <th>4</th>\n      <td>4</td>\n      <td>C</td>\n      <td>True</td>\n    </tr>\n    <tr>\n      <th>5</th>\n      <td>4</td>\n      <td>A</td>\n      <td>True</td>\n    </tr>\n    <tr>\n      <th>6</th>\n      <td>4</td>\n      <td>D</td>\n      <td>True</td>\n    </tr>\n    <tr>\n      <th>7</th>\n      <td>4</td>\n      <td>B</td>\n      <td>True</td>\n    </tr>\n    <tr>\n      <th>8</th>\n      <td>5</td>\n      <td>A</td>\n      <td>False</td>\n    </tr>\n    <tr>\n      <th>9</th>\n      <td>5</td>\n      <td>B</td>\n      <td>False</td>\n    </tr>\n    <tr>\n      <th>10</th>\n      <td>6</td>\n      <td>B</td>\n      <td>False</td>\n    </tr>\n  </tbody>\n</table>\n</div>"
     },
     "execution_count": 2,
     "metadata": {},
     "output_type": "execute_result"
    }
   ],
   "source": [
    "ops = describe_table(d, table_name='d'). \\\n",
    "    extend({'v': 'ID.is_in([3, 4])'})\n",
    "ops_str = str(ops)  # see if this throws\n",
    "d2 = ops.transform(d)\n",
    "\n",
    "d2"
   ],
   "metadata": {
    "collapsed": false,
    "pycharm": {
     "name": "#%%\n"
    }
   }
  },
  {
   "cell_type": "code",
   "execution_count": 3,
   "outputs": [],
   "source": [
    "expect = pandas.DataFrame({\n",
    "    'ID': [1, 1, 2, 3, 4, 4, 4, 4, 5, 5, 6],\n",
    "    'OP': ['A', 'B', 'A', 'D', 'C', 'A', 'D', 'B', 'A', 'B', 'B'],\n",
    "    'v': [False]*3 + [True]*5 + [False]*3,\n",
    "})\n",
    "\n",
    "assert data_algebra.test_util.equivalent_frames(expect, d2)"
   ],
   "metadata": {
    "collapsed": false,
    "pycharm": {
     "name": "#%%\n"
    }
   }
  },
  {
   "cell_type": "code",
   "execution_count": 7,
   "outputs": [
    {
     "name": "stdout",
     "output_type": "stream",
     "text": [
      "SELECT \"ID\" IN ('[',\n",
      "                '3',\n",
      "                ',',\n",
      "                ' ',\n",
      "                '4',\n",
      "                ']') AS \"v\",\n",
      "       \"OP\",\n",
      "       \"ID\"\n",
      "FROM \"d\"\n"
     ]
    }
   ],
   "source": [
    "db_model = data_algebra.SQLite.SQLiteModel()\n",
    "sql = ops.to_sql(db_model, pretty=True)\n",
    "\n",
    "print(sql)"
   ],
   "metadata": {
    "collapsed": false,
    "pycharm": {
     "name": "#%%\n"
    }
   }
  },
  {
   "cell_type": "code",
   "execution_count": 5,
   "outputs": [
    {
     "data": {
      "text/plain": "    v OP  ID\n0   0  A   1\n1   0  B   1\n2   0  A   2\n3   1  D   3\n4   1  C   4\n5   1  A   4\n6   1  D   4\n7   1  B   4\n8   0  A   5\n9   0  B   5\n10  0  B   6",
      "text/html": "<div>\n<style scoped>\n    .dataframe tbody tr th:only-of-type {\n        vertical-align: middle;\n    }\n\n    .dataframe tbody tr th {\n        vertical-align: top;\n    }\n\n    .dataframe thead th {\n        text-align: right;\n    }\n</style>\n<table border=\"1\" class=\"dataframe\">\n  <thead>\n    <tr style=\"text-align: right;\">\n      <th></th>\n      <th>v</th>\n      <th>OP</th>\n      <th>ID</th>\n    </tr>\n  </thead>\n  <tbody>\n    <tr>\n      <th>0</th>\n      <td>0</td>\n      <td>A</td>\n      <td>1</td>\n    </tr>\n    <tr>\n      <th>1</th>\n      <td>0</td>\n      <td>B</td>\n      <td>1</td>\n    </tr>\n    <tr>\n      <th>2</th>\n      <td>0</td>\n      <td>A</td>\n      <td>2</td>\n    </tr>\n    <tr>\n      <th>3</th>\n      <td>1</td>\n      <td>D</td>\n      <td>3</td>\n    </tr>\n    <tr>\n      <th>4</th>\n      <td>1</td>\n      <td>C</td>\n      <td>4</td>\n    </tr>\n    <tr>\n      <th>5</th>\n      <td>1</td>\n      <td>A</td>\n      <td>4</td>\n    </tr>\n    <tr>\n      <th>6</th>\n      <td>1</td>\n      <td>D</td>\n      <td>4</td>\n    </tr>\n    <tr>\n      <th>7</th>\n      <td>1</td>\n      <td>B</td>\n      <td>4</td>\n    </tr>\n    <tr>\n      <th>8</th>\n      <td>0</td>\n      <td>A</td>\n      <td>5</td>\n    </tr>\n    <tr>\n      <th>9</th>\n      <td>0</td>\n      <td>B</td>\n      <td>5</td>\n    </tr>\n    <tr>\n      <th>10</th>\n      <td>0</td>\n      <td>B</td>\n      <td>6</td>\n    </tr>\n  </tbody>\n</table>\n</div>"
     },
     "execution_count": 5,
     "metadata": {},
     "output_type": "execute_result"
    }
   ],
   "source": [
    "with sqlite3.connect(':memory:') as con:\n",
    "    db_model.prepare_connection(con)\n",
    "    d.to_sql(name='d', con=con)\n",
    "    res_db = pandas.read_sql(sql, con=con)\n",
    "\n",
    "res_db\n"
   ],
   "metadata": {
    "collapsed": false,
    "pycharm": {
     "name": "#%%\n"
    }
   }
  },
  {
   "cell_type": "code",
   "execution_count": 6,
   "outputs": [],
   "source": [
    "assert data_algebra.test_util.equivalent_frames(expect, res_db)\n"
   ],
   "metadata": {
    "collapsed": false,
    "pycharm": {
     "name": "#%%\n"
    }
   }
  }
 ],
 "metadata": {
  "kernelspec": {
   "display_name": "Python 3",
   "language": "python",
   "name": "python3"
  },
  "language_info": {
   "codemirror_mode": {
    "name": "ipython",
    "version": 2
   },
   "file_extension": ".py",
   "mimetype": "text/x-python",
   "name": "python",
   "nbconvert_exporter": "python",
   "pygments_lexer": "ipython2",
   "version": "2.7.6"
  }
 },
 "nbformat": 4,
 "nbformat_minor": 0
}