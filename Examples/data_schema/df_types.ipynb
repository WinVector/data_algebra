{
 "cells": [
  {
   "cell_type": "markdown",
   "metadata": {},
   "source": [
    "The Pandas data frame package has a number of interesting features including complex indices (that allow implicit joins), and time oriented features.\n",
    "\n",
    "However, a number of Pandas design decisions pose problems for classic (non-finance) data science. Some undesirable sharp edges include:\n",
    "\n",
    "\n",
    "  * Separate types for atomic columns (such as `int`, `bool`, and `float`) and columns of objects (such as `str`).\n",
    "  * No out-of-band representation of missing values. Instead, missingness must be signaled by the insertion of a value representing missingness. This causes problems for types that don't have such a representation such as `int` and `bool`.\n",
    "\n",
    "To work around the above the Pandas data frame have a number of non-avoidable column type promotion rules and cell type promotion rules. These promotion rules can introduce their own complexity.\n",
    "\n",
    "Let's take a look at a Pandas data frame."
   ]
  },
  {
   "cell_type": "code",
   "execution_count": 1,
   "metadata": {},
   "outputs": [],
   "source": [
    "# import modules\n",
    "from pprint import pprint\n",
    "import numpy as np\n",
    "import pandas as pd\n",
    "from typing import Dict, Optional, Set, Type\n"
   ]
  },
  {
   "cell_type": "code",
   "execution_count": 2,
   "metadata": {},
   "outputs": [
    {
     "data": {
      "text/html": [
       "<div>\n",
       "<style scoped>\n",
       "    .dataframe tbody tr th:only-of-type {\n",
       "        vertical-align: middle;\n",
       "    }\n",
       "\n",
       "    .dataframe tbody tr th {\n",
       "        vertical-align: top;\n",
       "    }\n",
       "\n",
       "    .dataframe thead th {\n",
       "        text-align: right;\n",
       "    }\n",
       "</style>\n",
       "<table border=\"1\" class=\"dataframe\">\n",
       "  <thead>\n",
       "    <tr style=\"text-align: right;\">\n",
       "      <th></th>\n",
       "      <th>b</th>\n",
       "      <th>q</th>\n",
       "      <th>r</th>\n",
       "      <th>s</th>\n",
       "      <th>x</th>\n",
       "      <th>y</th>\n",
       "      <th>z</th>\n",
       "    </tr>\n",
       "  </thead>\n",
       "  <tbody>\n",
       "    <tr>\n",
       "      <th>0</th>\n",
       "      <td>1</td>\n",
       "      <td>NaN</td>\n",
       "      <td>1.0</td>\n",
       "      <td>NaN</td>\n",
       "      <td>1.0</td>\n",
       "      <td>a</td>\n",
       "      <td>1</td>\n",
       "    </tr>\n",
       "    <tr>\n",
       "      <th>1</th>\n",
       "      <td>3</td>\n",
       "      <td>NaN</td>\n",
       "      <td>NaN</td>\n",
       "      <td>2.0</td>\n",
       "      <td>7.0</td>\n",
       "      <td>None</td>\n",
       "      <td>1.0</td>\n",
       "    </tr>\n",
       "    <tr>\n",
       "      <th>2</th>\n",
       "      <td>4</td>\n",
       "      <td>NaN</td>\n",
       "      <td>3.0</td>\n",
       "      <td>3.0</td>\n",
       "      <td>2.0</td>\n",
       "      <td>NaN</td>\n",
       "      <td>False</td>\n",
       "    </tr>\n",
       "  </tbody>\n",
       "</table>\n",
       "</div>"
      ],
      "text/plain": [
       "   b   q    r    s    x     y      z\n",
       "0  1 NaN  1.0  NaN  1.0     a      1\n",
       "1  3 NaN  NaN  2.0  7.0  None    1.0\n",
       "2  4 NaN  3.0  3.0  2.0   NaN  False"
      ]
     },
     "execution_count": 2,
     "metadata": {},
     "output_type": "execute_result"
    }
   ],
   "source": [
    "# show an example data frame\n",
    "# notice types in the frame are often types from the input data\n",
    "d =  pd.DataFrame({\n",
    "        'b': [1, 3, 4],\n",
    "        'q': np.nan,\n",
    "        'r': [1, None, 3],\n",
    "        's': [np.nan, 2.0, 3.0],\n",
    "        'x': [1, 7.0, 2],\n",
    "        'y': [\"a\", None, np.nan],\n",
    "        'z': [1, 1.0, False],\n",
    "    })\n",
    "\n",
    "d"
   ]
  },
  {
   "cell_type": "markdown",
   "metadata": {},
   "source": [
    "Notice that `None` has been converted to `NaN` in column `r`, but not in column `y`. The declared column types tell part of the story."
   ]
  },
  {
   "cell_type": "code",
   "execution_count": 3,
   "metadata": {},
   "outputs": [
    {
     "data": {
      "text/plain": [
       "b      int64\n",
       "q    float64\n",
       "r    float64\n",
       "s    float64\n",
       "x    float64\n",
       "y     object\n",
       "z     object\n",
       "dtype: object"
      ]
     },
     "execution_count": 3,
     "metadata": {},
     "output_type": "execute_result"
    }
   ],
   "source": [
    "# column types, not same as cell value types\n",
    "d.dtypes"
   ]
  },
  {
   "cell_type": "markdown",
   "metadata": {},
   "source": [
    "To deal with mixed types Pandas must promote the column declarations to something that can contain both the original intended non-null values and the missingness indicators. For integers the column is promoted to floating point, as that allows the of floating point `nan` and use of a non-object column. The floating point promotion causes cell types to be changed from integer to floating point For more complicated cases the column must be promoted to object (a more expensive proposition). The object promotion is used to allow both object cell types and heterogeneous cell types (such as both `float` and `bool`). Without full knowledge of the cell values, the user can not anticipate the chosen conversions and resulting types.\n",
    "\n",
    "Directly inspecting the types found in the data frame cells shows a bit more detail."
   ]
  },
  {
   "cell_type": "code",
   "execution_count": 4,
   "metadata": {},
   "outputs": [],
   "source": [
    "def non_null_types_in_frame(d) -> Dict[str, Optional[Set[Type]]]:\n",
    "    \"\"\"\n",
    "    Return dictionary of non-null types seen in dataframe columns.\n",
    "\n",
    "    :param d: Pandas or Polars data frame.\n",
    "    \"\"\"\n",
    "    result = dict()\n",
    "    for col_name in d.columns:\n",
    "        types_seen = {type(vi) for vi in d[col_name] if not pd.isnull(vi)}\n",
    "        if len(types_seen) < 1:\n",
    "            result[col_name] = None\n",
    "        else:\n",
    "            result[col_name] = types_seen\n",
    "    return result"
   ]
  },
  {
   "cell_type": "code",
   "execution_count": 5,
   "metadata": {},
   "outputs": [
    {
     "name": "stdout",
     "output_type": "stream",
     "text": [
      "{'b': {<class 'int'>},\n",
      " 'q': None,\n",
      " 'r': {<class 'float'>},\n",
      " 's': {<class 'float'>},\n",
      " 'x': {<class 'float'>},\n",
      " 'y': {<class 'str'>},\n",
      " 'z': {<class 'bool'>, <class 'float'>, <class 'int'>}}\n"
     ]
    }
   ],
   "source": [
    "# report non-null (not None, NaN, or NaT) found in cells\n",
    "pprint(non_null_types_in_frame(d))"
   ]
  },
  {
   "cell_type": "markdown",
   "metadata": {},
   "source": [
    "There is a risk of \"nearly compatible types\" such as `float` v.s. `numpy.float64` and `int` v.s. `numpy.int64`. In fact, notice the types found by inspecting the entries do not match what is found in the column declarations.\n",
    "\n",
    "This could be related to the following. Values taken through the `.values` attribute can have different types than those taken through the column interface!"
   ]
  },
  {
   "cell_type": "code",
   "execution_count": 6,
   "metadata": {},
   "outputs": [
    {
     "data": {
      "text/plain": [
       "numpy.float64"
      ]
     },
     "execution_count": 6,
     "metadata": {},
     "output_type": "execute_result"
    }
   ],
   "source": [
    "x0_type_from_values_access = type(list(d[\"x\"].values)[0])\n",
    "\n",
    "x0_type_from_values_access"
   ]
  },
  {
   "cell_type": "code",
   "execution_count": 7,
   "metadata": {},
   "outputs": [
    {
     "data": {
      "text/plain": [
       "float"
      ]
     },
     "execution_count": 7,
     "metadata": {},
     "output_type": "execute_result"
    }
   ],
   "source": [
    "x0_type_from_column_access = type(list(d[\"x\"])[0])\n",
    "\n",
    "x0_type_from_column_access"
   ]
  },
  {
   "cell_type": "code",
   "execution_count": 8,
   "metadata": {},
   "outputs": [
    {
     "data": {
      "text/plain": [
       "False"
      ]
     },
     "execution_count": 8,
     "metadata": {},
     "output_type": "execute_result"
    }
   ],
   "source": [
    "x0_type_from_values_access == x0_type_from_column_access"
   ]
  },
  {
   "cell_type": "markdown",
   "metadata": {},
   "source": [
    "If you are not sure all of your code base (and its dependencies) are consistently only using columns or only using the values attribute, you may experience incompatible mixed types even on uniform data. We know one is not supposed to use \"`.values`\" [from the Pandas documention](https://pandas.pydata.org/docs/reference/api/pandas.DataFrame.values.html):\n",
    "\n",
    "\n",
    "<dd>\n",
    "pandas.DataFrame.values\n",
    "property DataFrame.values\n",
    "<dd><p>Return a Numpy representation of the DataFrame.</p>\n",
    "<div class=\"admonition warning\">\n",
    "<p class=\"admonition-title\">Warning</p>\n",
    "<p>We recommend using <a class=\"reference internal\" href=\"pandas.DataFrame.to_numpy.html#pandas.DataFrame.to_numpy\" title=\"pandas.DataFrame.to_numpy\"><code class=\"xref py py-meth docutils literal notranslate\"><span class=\"pre\">DataFrame.to_numpy()</span></code></a> instead.</p>\n",
    "</div>\n",
    "<p>Only the values in the DataFrame will be returned, the axes labels\n",
    "will be removed.</p>\n",
    "<dl class=\"field-list simple\">\n",
    "<dt class=\"field-odd\">Returns<span class=\"colon\">:</span></dt>\n",
    "<dd class=\"field-odd\"><dl class=\"simple\">\n",
    "<dt>numpy.ndarray</dt><dd><p>The values of the DataFrame.</p>\n",
    "</dd></dd></dd></dd>\n",
    "\n",
    "So, presumably, Pandas `.values` is not in fact the attribute it syntactically presents as, but in fact a method interface.\n",
    "\n",
    "The type the recommended method `.to_numpy()` seems to return the same `numpy.float64`, which presumably is *not* what is inside the Pandas data frame columns or Series representations. In any case, what types you see in a cell is dependent on what types are in related cells, and what path you use to access the value."
   ]
  },
  {
   "cell_type": "code",
   "execution_count": 9,
   "metadata": {},
   "outputs": [
    {
     "data": {
      "text/plain": [
       "numpy.float64"
      ]
     },
     "execution_count": 9,
     "metadata": {},
     "output_type": "execute_result"
    }
   ],
   "source": [
    "type(list(d[\"x\"].to_numpy())[0])"
   ]
  },
  {
   "cell_type": "markdown",
   "metadata": {},
   "source": [
    "Any and all of the above inconsistencies can be fairly hazardous to any insufficiently careful system that tries to export Pandas to other type sensitive systems (such as databases, JSON, arrow and so on)."
   ]
  },
  {
   "cell_type": "code",
   "execution_count": 10,
   "metadata": {},
   "outputs": [
    {
     "name": "stdout",
     "output_type": "stream",
     "text": [
      "{'np': '1.25.2', 'pd': '2.0.3'}\n"
     ]
    }
   ],
   "source": [
    "pprint({'np': np.__version__, 'pd': pd.__version__})"
   ]
  }
 ],
 "metadata": {
  "kernelspec": {
   "display_name": "research_env",
   "language": "python",
   "name": "python3"
  },
  "language_info": {
   "codemirror_mode": {
    "name": "ipython",
    "version": 3
   },
   "file_extension": ".py",
   "mimetype": "text/x-python",
   "name": "python",
   "nbconvert_exporter": "python",
   "pygments_lexer": "ipython3",
   "version": "3.11.4"
  },
  "orig_nbformat": 4
 },
 "nbformat": 4,
 "nbformat_minor": 2
}
