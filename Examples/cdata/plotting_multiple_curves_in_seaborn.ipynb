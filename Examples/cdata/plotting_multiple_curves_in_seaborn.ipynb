{
 "cells": [
  {
   "cell_type": "markdown",
   "id": "functional-column",
   "metadata": {},
   "source": [
    "# Plotting Multiple Curves in Python\n",
    "\n",
    "A common challenge in data analytics is: easily plotting multiple curves\n",
    "on the same graph.\n",
    "\n",
    "In `Python` the `seaborn` `lineplot` function supplies an excellent way to do\n",
    "this, but the data often has to be transformed prior to plotting. In this note\n",
    "we will show how to do this in a way that is easy to document.\n",
    "\n",
    "First let's import our packages and set up our example data.\n",
    "\n"
   ]
  },
  {
   "cell_type": "code",
   "execution_count": 1,
   "id": "variable-offering",
   "metadata": {
    "collapsed": false,
    "jupyter": {
     "outputs_hidden": false
    },
    "pycharm": {
     "name": "#%%\n"
    }
   },
   "outputs": [],
   "source": [
    "import pandas\n",
    "import seaborn\n",
    "import data_algebra.cdata"
   ]
  },
  {
   "cell_type": "code",
   "execution_count": 2,
   "id": "related-afghanistan",
   "metadata": {
    "collapsed": false,
    "jupyter": {
     "outputs_hidden": false
    },
    "pycharm": {
     "name": "#%%\n"
    }
   },
   "outputs": [
    {
     "data": {
      "text/html": [
       "<div>\n",
       "<style scoped>\n",
       "    .dataframe tbody tr th:only-of-type {\n",
       "        vertical-align: middle;\n",
       "    }\n",
       "\n",
       "    .dataframe tbody tr th {\n",
       "        vertical-align: top;\n",
       "    }\n",
       "\n",
       "    .dataframe thead th {\n",
       "        text-align: right;\n",
       "    }\n",
       "</style>\n",
       "<table border=\"1\" class=\"dataframe\">\n",
       "  <thead>\n",
       "    <tr style=\"text-align: right;\">\n",
       "      <th></th>\n",
       "      <th>n</th>\n",
       "      <th>n_A</th>\n",
       "      <th>n_B</th>\n",
       "      <th>T</th>\n",
       "      <th>E</th>\n",
       "      <th>T+E</th>\n",
       "    </tr>\n",
       "  </thead>\n",
       "  <tbody>\n",
       "    <tr>\n",
       "      <th>0</th>\n",
       "      <td>10000</td>\n",
       "      <td>9000.0</td>\n",
       "      <td>1000.0</td>\n",
       "      <td>0.005455</td>\n",
       "      <td>0.002913</td>\n",
       "      <td>0.008368</td>\n",
       "    </tr>\n",
       "    <tr>\n",
       "      <th>1</th>\n",
       "      <td>23778</td>\n",
       "      <td>21400.2</td>\n",
       "      <td>2377.8</td>\n",
       "      <td>0.003538</td>\n",
       "      <td>0.001889</td>\n",
       "      <td>0.005427</td>\n",
       "    </tr>\n",
       "    <tr>\n",
       "      <th>2</th>\n",
       "      <td>37556</td>\n",
       "      <td>33800.4</td>\n",
       "      <td>3755.6</td>\n",
       "      <td>0.002815</td>\n",
       "      <td>0.001503</td>\n",
       "      <td>0.004318</td>\n",
       "    </tr>\n",
       "    <tr>\n",
       "      <th>3</th>\n",
       "      <td>51335</td>\n",
       "      <td>46201.5</td>\n",
       "      <td>5133.5</td>\n",
       "      <td>0.002408</td>\n",
       "      <td>0.001286</td>\n",
       "      <td>0.003693</td>\n",
       "    </tr>\n",
       "    <tr>\n",
       "      <th>4</th>\n",
       "      <td>65113</td>\n",
       "      <td>58601.7</td>\n",
       "      <td>6511.3</td>\n",
       "      <td>0.002138</td>\n",
       "      <td>0.001142</td>\n",
       "      <td>0.003279</td>\n",
       "    </tr>\n",
       "    <tr>\n",
       "      <th>...</th>\n",
       "      <td>...</td>\n",
       "      <td>...</td>\n",
       "      <td>...</td>\n",
       "      <td>...</td>\n",
       "      <td>...</td>\n",
       "      <td>...</td>\n",
       "    </tr>\n",
       "    <tr>\n",
       "      <th>99</th>\n",
       "      <td>1346504</td>\n",
       "      <td>1211853.6</td>\n",
       "      <td>134650.4</td>\n",
       "      <td>0.000470</td>\n",
       "      <td>0.000251</td>\n",
       "      <td>0.000721</td>\n",
       "    </tr>\n",
       "    <tr>\n",
       "      <th>100</th>\n",
       "      <td>1360282</td>\n",
       "      <td>1224253.8</td>\n",
       "      <td>136028.2</td>\n",
       "      <td>0.000468</td>\n",
       "      <td>0.000250</td>\n",
       "      <td>0.000717</td>\n",
       "    </tr>\n",
       "    <tr>\n",
       "      <th>101</th>\n",
       "      <td>1374059</td>\n",
       "      <td>1236653.1</td>\n",
       "      <td>137405.9</td>\n",
       "      <td>0.000465</td>\n",
       "      <td>0.000248</td>\n",
       "      <td>0.000714</td>\n",
       "    </tr>\n",
       "    <tr>\n",
       "      <th>102</th>\n",
       "      <td>1374060</td>\n",
       "      <td>1236654.0</td>\n",
       "      <td>137406.0</td>\n",
       "      <td>0.000465</td>\n",
       "      <td>0.000248</td>\n",
       "      <td>0.000714</td>\n",
       "    </tr>\n",
       "    <tr>\n",
       "      <th>103</th>\n",
       "      <td>1374061</td>\n",
       "      <td>1236654.9</td>\n",
       "      <td>137406.1</td>\n",
       "      <td>0.000465</td>\n",
       "      <td>0.000248</td>\n",
       "      <td>0.000714</td>\n",
       "    </tr>\n",
       "  </tbody>\n",
       "</table>\n",
       "<p>104 rows × 6 columns</p>\n",
       "</div>"
      ],
      "text/plain": [
       "           n        n_A       n_B         T         E       T+E\n",
       "0      10000     9000.0    1000.0  0.005455  0.002913  0.008368\n",
       "1      23778    21400.2    2377.8  0.003538  0.001889  0.005427\n",
       "2      37556    33800.4    3755.6  0.002815  0.001503  0.004318\n",
       "3      51335    46201.5    5133.5  0.002408  0.001286  0.003693\n",
       "4      65113    58601.7    6511.3  0.002138  0.001142  0.003279\n",
       "..       ...        ...       ...       ...       ...       ...\n",
       "99   1346504  1211853.6  134650.4  0.000470  0.000251  0.000721\n",
       "100  1360282  1224253.8  136028.2  0.000468  0.000250  0.000717\n",
       "101  1374059  1236653.1  137405.9  0.000465  0.000248  0.000714\n",
       "102  1374060  1236654.0  137406.0  0.000465  0.000248  0.000714\n",
       "103  1374061  1236654.9  137406.1  0.000465  0.000248  0.000714\n",
       "\n",
       "[104 rows x 6 columns]"
      ]
     },
     "execution_count": 2,
     "metadata": {},
     "output_type": "execute_result"
    }
   ],
   "source": [
    "effect_curve = pandas.read_csv('effect_curve.csv')\n",
    "effect_curve"
   ]
  },
  {
   "cell_type": "markdown",
   "id": "alien-improvement",
   "metadata": {},
   "source": [
    "The above is a data frame of an A/B test plan as a function of the test size `n`.\n",
    "\n",
    "The exact meaning of the columns is in the domain of A/B tests, something we skip over here.\n",
    "\n",
    "However, to name the columns we have: each row contains the target number\n",
    "of examples to send to `A` and `B`: `n_a` and `n_b` respectively (can be fractional). Also present are `T` the decision threshold as a difference of conversion rates at the desired significance, and `E` how far above the decision threshold the test is achieving the desired test power.\n",
    "\n",
    "What our in-domain task is: plot `T` and `T+E` as functions of `n` on a nice looking graph with a legend.\n",
    "\n",
    "An easy way to do this is with `seaborn`. However, for this task `seaborn` does not want each fact that\n",
    "is a function of `n` in a single row, it wants each fact in a separate row. That is it wants the table in\n",
    "a somewhat different format.\n",
    "\n",
    "Now there a are *lots* of ways to switch formats (`pandas.melt` being the most relevant). However I want\n",
    "to show a simple way that well documents intent and is part of a larger system that supports arbitrary record\n",
    "transformations both in `Pandas` and in `SQL`. In such a system you never run out of steam.\n",
    "\n",
    "The key to this system is taking the time to write down one example record you have and one example record you want.\n",
    "\n",
    "The example record we have is:"
   ]
  },
  {
   "cell_type": "code",
   "execution_count": 3,
   "id": "digital-farmer",
   "metadata": {
    "collapsed": false,
    "jupyter": {
     "outputs_hidden": false
    },
    "pycharm": {
     "name": "#%%\n"
    }
   },
   "outputs": [
    {
     "data": {
      "text/html": [
       "<div>\n",
       "<style scoped>\n",
       "    .dataframe tbody tr th:only-of-type {\n",
       "        vertical-align: middle;\n",
       "    }\n",
       "\n",
       "    .dataframe tbody tr th {\n",
       "        vertical-align: top;\n",
       "    }\n",
       "\n",
       "    .dataframe thead th {\n",
       "        text-align: right;\n",
       "    }\n",
       "</style>\n",
       "<table border=\"1\" class=\"dataframe\">\n",
       "  <thead>\n",
       "    <tr style=\"text-align: right;\">\n",
       "      <th></th>\n",
       "      <th>n</th>\n",
       "      <th>n_A</th>\n",
       "      <th>n_B</th>\n",
       "      <th>T</th>\n",
       "      <th>E</th>\n",
       "      <th>T+E</th>\n",
       "    </tr>\n",
       "  </thead>\n",
       "  <tbody>\n",
       "    <tr>\n",
       "      <th>0</th>\n",
       "      <td>10000</td>\n",
       "      <td>9000.0</td>\n",
       "      <td>1000.0</td>\n",
       "      <td>0.005455</td>\n",
       "      <td>0.002913</td>\n",
       "      <td>0.008368</td>\n",
       "    </tr>\n",
       "  </tbody>\n",
       "</table>\n",
       "</div>"
      ],
      "text/plain": [
       "       n     n_A     n_B         T         E       T+E\n",
       "0  10000  9000.0  1000.0  0.005455  0.002913  0.008368"
      ]
     },
     "execution_count": 3,
     "metadata": {},
     "output_type": "execute_result"
    }
   ],
   "source": [
    "# input form\n",
    "example_input = effect_curve.loc[effect_curve.n == 10000, :]\n",
    "example_input"
   ]
  },
  {
   "cell_type": "markdown",
   "id": "polish-adelaide",
   "metadata": {},
   "source": [
    "For plotting we want this record to look like this:"
   ]
  },
  {
   "cell_type": "code",
   "execution_count": 4,
   "id": "cooked-allocation",
   "metadata": {
    "collapsed": false,
    "jupyter": {
     "outputs_hidden": false
    },
    "pycharm": {
     "name": "#%%\n"
    }
   },
   "outputs": [
    {
     "data": {
      "text/html": [
       "<div>\n",
       "<style scoped>\n",
       "    .dataframe tbody tr th:only-of-type {\n",
       "        vertical-align: middle;\n",
       "    }\n",
       "\n",
       "    .dataframe tbody tr th {\n",
       "        vertical-align: top;\n",
       "    }\n",
       "\n",
       "    .dataframe thead th {\n",
       "        text-align: right;\n",
       "    }\n",
       "</style>\n",
       "<table border=\"1\" class=\"dataframe\">\n",
       "  <thead>\n",
       "    <tr style=\"text-align: right;\">\n",
       "      <th></th>\n",
       "      <th>n</th>\n",
       "      <th>curve</th>\n",
       "      <th>effect size</th>\n",
       "    </tr>\n",
       "  </thead>\n",
       "  <tbody>\n",
       "    <tr>\n",
       "      <th>0</th>\n",
       "      <td>10000</td>\n",
       "      <td>T</td>\n",
       "      <td>0.005455</td>\n",
       "    </tr>\n",
       "    <tr>\n",
       "      <th>1</th>\n",
       "      <td>10000</td>\n",
       "      <td>T+E</td>\n",
       "      <td>0.008368</td>\n",
       "    </tr>\n",
       "  </tbody>\n",
       "</table>\n",
       "</div>"
      ],
      "text/plain": [
       "       n curve  effect size\n",
       "0  10000     T     0.005455\n",
       "1  10000   T+E     0.008368"
      ]
     },
     "execution_count": 4,
     "metadata": {},
     "output_type": "execute_result"
    }
   ],
   "source": [
    "# output form\n",
    "example_output = pandas.DataFrame({\n",
    "    'n': [10000, 10000],\n",
    "    'curve': ['T', 'T+E'],\n",
    "    'effect size': [0.005455, 0.008368]\n",
    "})\n",
    "\n",
    "example_output"
   ]
  },
  {
   "cell_type": "markdown",
   "id": "prospective-reliance",
   "metadata": {},
   "source": [
    "That is, we want a record that spans multiple rows that picks up a set of the columns of the original record.\n",
    "\n",
    "Our suggested way to achieve this transform is as follows. Look at the input and output and name some of the components\n",
    "as follows.\n",
    "\n",
    "  * Examine the input \"row record format\" example to identify what set of columns are the row record keys,\n",
    "    or uniquely identify rows.\n",
    "    In our case row record keys  are `['n']`. Values in this set of columns tell us what record we are referring to.\n",
    "  * Examine the input \"row record format\" example to identify columns we want values from.\n",
    "    In this example we want the columns `['T', 'T+E']`. We will call these the\n",
    "    \"record value columns\". What set of columns one wants is an application or domain decision.\n",
    "  * Examine the output \"block record format\" to identify the column that is the attribute key column.\n",
    "    The attribute key tells us what portion of the original row record we are referring to.\n",
    "    In this example it is the column `'curve'`. It is identifiable as the values it takes on are\n",
    "    exactly the record value columns.\n",
    "  * Examine the output \"block record format\" to identify the column that is the attribute value column.\n",
    "    The attribute value column is the value associate with the record key plus attribute key. In our\n",
    "    case it is the column `'effect size'`. We can identify it as it matches the values in the input\n",
    "    row record.\n",
    "\n",
    "The is a realization of Codd's rule of access: how scalar values are organized is irrelevant once we\n",
    "have an abstraction of the keying.\n",
    "\n",
    "All we have to do to realize the transform is record the above observations in an object. Let's do that now.\n"
   ]
  },
  {
   "cell_type": "code",
   "execution_count": 5,
   "id": "painful-reunion",
   "metadata": {
    "collapsed": false,
    "jupyter": {
     "outputs_hidden": false
    },
    "pycharm": {
     "name": "#%%\n"
    }
   },
   "outputs": [],
   "source": [
    "pivot = data_algebra.cdata.pivot_rowrecs_to_blocks(\n",
    "    attribute_key_column='curve',\n",
    "    attribute_value_column='effect size',\n",
    "    record_keys = ['n'],\n",
    "    record_value_columns = ['T', 'T+E'])"
   ]
  },
  {
   "cell_type": "markdown",
   "id": "decreased-means",
   "metadata": {},
   "source": [
    "Now that we have our pivot object we can use it to realize the transform."
   ]
  },
  {
   "cell_type": "code",
   "execution_count": 6,
   "id": "prime-hydrogen",
   "metadata": {
    "collapsed": false,
    "jupyter": {
     "outputs_hidden": false
    },
    "pycharm": {
     "name": "#%%\n"
    }
   },
   "outputs": [
    {
     "data": {
      "text/html": [
       "<div>\n",
       "<style scoped>\n",
       "    .dataframe tbody tr th:only-of-type {\n",
       "        vertical-align: middle;\n",
       "    }\n",
       "\n",
       "    .dataframe tbody tr th {\n",
       "        vertical-align: top;\n",
       "    }\n",
       "\n",
       "    .dataframe thead th {\n",
       "        text-align: right;\n",
       "    }\n",
       "</style>\n",
       "<table border=\"1\" class=\"dataframe\">\n",
       "  <thead>\n",
       "    <tr style=\"text-align: right;\">\n",
       "      <th></th>\n",
       "      <th>n</th>\n",
       "      <th>curve</th>\n",
       "      <th>effect size</th>\n",
       "    </tr>\n",
       "  </thead>\n",
       "  <tbody>\n",
       "    <tr>\n",
       "      <th>0</th>\n",
       "      <td>10000</td>\n",
       "      <td>T</td>\n",
       "      <td>0.005455</td>\n",
       "    </tr>\n",
       "    <tr>\n",
       "      <th>1</th>\n",
       "      <td>10000</td>\n",
       "      <td>T+E</td>\n",
       "      <td>0.008368</td>\n",
       "    </tr>\n",
       "  </tbody>\n",
       "</table>\n",
       "</div>"
      ],
      "text/plain": [
       "       n curve  effect size\n",
       "0  10000     T     0.005455\n",
       "1  10000   T+E     0.008368"
      ]
     },
     "execution_count": 6,
     "metadata": {},
     "output_type": "execute_result"
    }
   ],
   "source": [
    "plot_frame = pivot.transform(effect_curve)\n",
    "\n",
    "plot_frame.loc[plot_frame.n == 10000, :]"
   ]
  },
  {
   "cell_type": "markdown",
   "id": "engaged-afternoon",
   "metadata": {},
   "source": [
    "Notice the transform exactly realizes our desired record format. The point is: this transform is being applied to all\n",
    "rows, not just the example we are looking at.\n",
    "\n",
    "Now that we have done the work, let's make the plot."
   ]
  },
  {
   "cell_type": "code",
   "execution_count": 7,
   "id": "divine-orange",
   "metadata": {
    "collapsed": false,
    "jupyter": {
     "outputs_hidden": false
    },
    "pycharm": {
     "name": "#%%\n"
    }
   },
   "outputs": [
    {
     "data": {
      "image/png": "[encoded data removed]",
      "text/plain": [
       "<Figure size 432x288 with 1 Axes>"
      ]
     },
     "metadata": {
      "needs_background": "light"
     },
     "output_type": "display_data"
    }
   ],
   "source": [
    "ax = seaborn.lineplot(\n",
    "    data=plot_frame,\n",
    "    x='n', y='effect size',\n",
    "    hue='curve', style='curve')"
   ]
  },
  {
   "cell_type": "markdown",
   "id": "impressed-haven",
   "metadata": {},
   "source": [
    "And we are done."
   ]
  },
  {
   "cell_type": "markdown",
   "id": "supposed-bangkok",
   "metadata": {},
   "source": [
    "A neat side-feature of the transform is: it is pretty much invertible. For fun let's look at that."
   ]
  },
  {
   "cell_type": "code",
   "execution_count": 8,
   "id": "running-blackjack",
   "metadata": {
    "collapsed": false,
    "jupyter": {
     "outputs_hidden": false
    },
    "pycharm": {
     "name": "#%%\n"
    }
   },
   "outputs": [
    {
     "data": {
      "text/plain": [
       "data_algebra.cdata.RecordMap(\n",
       "    blocks_in=None,\n",
       "    blocks_out=data_algebra.cdata.RecordSpecification(\n",
       "    record_keys=['n'],\n",
       "    control_table=pandas.DataFrame({\n",
       "    'curve': ['T', 'T+E'],\n",
       "    'effect size': ['T', 'T+E'],\n",
       "    }),\n",
       "    control_table_keys=['curve']))"
      ]
     },
     "execution_count": 8,
     "metadata": {},
     "output_type": "execute_result"
    }
   ],
   "source": [
    "pivot"
   ]
  },
  {
   "cell_type": "code",
   "execution_count": 9,
   "id": "attended-reach",
   "metadata": {
    "collapsed": false,
    "jupyter": {
     "outputs_hidden": false
    },
    "pycharm": {
     "name": "#%%\n"
    }
   },
   "outputs": [
    {
     "data": {
      "text/plain": [
       "data_algebra.cdata.RecordMap(\n",
       "    blocks_in=data_algebra.cdata.RecordSpecification(\n",
       "    record_keys=['n'],\n",
       "    control_table=pandas.DataFrame({\n",
       "    'curve': ['T', 'T+E'],\n",
       "    'effect size': ['T', 'T+E'],\n",
       "    }),\n",
       "    control_table_keys=['curve']),\n",
       "    blocks_out=None)"
      ]
     },
     "execution_count": 9,
     "metadata": {},
     "output_type": "execute_result"
    }
   ],
   "source": [
    "inv_pivot = pivot.inverse()\n",
    "\n",
    "inv_pivot"
   ]
  },
  {
   "cell_type": "markdown",
   "id": "described-synthetic",
   "metadata": {},
   "source": [
    "Notice the `blocks_in` and `blocks_out` reversed roles when we took the inverse. Let's see what the inverse does."
   ]
  },
  {
   "cell_type": "code",
   "execution_count": 10,
   "id": "acute-prisoner",
   "metadata": {
    "collapsed": false,
    "jupyter": {
     "outputs_hidden": false
    },
    "pycharm": {
     "name": "#%%\n"
    }
   },
   "outputs": [
    {
     "data": {
      "text/html": [
       "<div>\n",
       "<style scoped>\n",
       "    .dataframe tbody tr th:only-of-type {\n",
       "        vertical-align: middle;\n",
       "    }\n",
       "\n",
       "    .dataframe tbody tr th {\n",
       "        vertical-align: top;\n",
       "    }\n",
       "\n",
       "    .dataframe thead th {\n",
       "        text-align: right;\n",
       "    }\n",
       "</style>\n",
       "<table border=\"1\" class=\"dataframe\">\n",
       "  <thead>\n",
       "    <tr style=\"text-align: right;\">\n",
       "      <th></th>\n",
       "      <th>n</th>\n",
       "      <th>curve</th>\n",
       "      <th>effect size</th>\n",
       "    </tr>\n",
       "  </thead>\n",
       "  <tbody>\n",
       "    <tr>\n",
       "      <th>0</th>\n",
       "      <td>10000</td>\n",
       "      <td>T</td>\n",
       "      <td>0.005455</td>\n",
       "    </tr>\n",
       "    <tr>\n",
       "      <th>1</th>\n",
       "      <td>10000</td>\n",
       "      <td>T+E</td>\n",
       "      <td>0.008368</td>\n",
       "    </tr>\n",
       "  </tbody>\n",
       "</table>\n",
       "</div>"
      ],
      "text/plain": [
       "       n curve  effect size\n",
       "0  10000     T     0.005455\n",
       "1  10000   T+E     0.008368"
      ]
     },
     "execution_count": 10,
     "metadata": {},
     "output_type": "execute_result"
    }
   ],
   "source": [
    "example_output"
   ]
  },
  {
   "cell_type": "code",
   "execution_count": 11,
   "id": "waiting-dublin",
   "metadata": {
    "collapsed": false,
    "jupyter": {
     "outputs_hidden": false
    },
    "pycharm": {
     "name": "#%%\n"
    }
   },
   "outputs": [
    {
     "data": {
      "text/html": [
       "<div>\n",
       "<style scoped>\n",
       "    .dataframe tbody tr th:only-of-type {\n",
       "        vertical-align: middle;\n",
       "    }\n",
       "\n",
       "    .dataframe tbody tr th {\n",
       "        vertical-align: top;\n",
       "    }\n",
       "\n",
       "    .dataframe thead th {\n",
       "        text-align: right;\n",
       "    }\n",
       "</style>\n",
       "<table border=\"1\" class=\"dataframe\">\n",
       "  <thead>\n",
       "    <tr style=\"text-align: right;\">\n",
       "      <th></th>\n",
       "      <th>n</th>\n",
       "      <th>T</th>\n",
       "      <th>T+E</th>\n",
       "    </tr>\n",
       "  </thead>\n",
       "  <tbody>\n",
       "    <tr>\n",
       "      <th>0</th>\n",
       "      <td>10000</td>\n",
       "      <td>0.005455</td>\n",
       "      <td>0.008368</td>\n",
       "    </tr>\n",
       "  </tbody>\n",
       "</table>\n",
       "</div>"
      ],
      "text/plain": [
       "       n         T       T+E\n",
       "0  10000  0.005455  0.008368"
      ]
     },
     "execution_count": 11,
     "metadata": {},
     "output_type": "execute_result"
    }
   ],
   "source": [
    "inv_pivot.transform(example_output)"
   ]
  },
  {
   "cell_type": "markdown",
   "id": "immediate-encoding",
   "metadata": {},
   "source": [
    "The inverse has re-assembled the columns that were present into essentially the original format.\n",
    "\n",
    "And that is \"the entire theory\" of record transformation:\n",
    "\n",
    "  * Draw one example input and output record.\n",
    "  * Systematically identify the record and attribute keys.\n",
    "  * Copy this specification into a `RecordMap` data structure using `data_algebra.cdata.pivot_rowrecs_to_blocks()`\n",
    "    or `data_algebra.cdata.pivot_blocks_to_rowrecs()`.\n",
    "  * Apply the transform as you wish.\n",
    "\n",
    "Some follow-up links:\n",
    "\n",
    "  * The `Python` `data_algebra` package that supplies the `cdata` implementation: [https://github.com/WinVector/data_algebra](https://github.com/WinVector/data_algebra).\n",
    "  * Some examples: [https://github.com/WinVector/data_algebra/tree/main/Examples/cdata](https://github.com/WinVector/data_algebra/tree/main/Examples/cdata) (including this example [here](https://github.com/WinVector/data_algebra/blob/main/Examples/cdata/plotting_multiple_curves_in_seaborn.ipynb)).\n",
    "  * The `R` version of the package: [https://github.com/WinVector/cdata](https://github.com/WinVector/cdata) (where\n",
    "    we did a lot of the original research).\n",
    "  * A tutorial video on the \"coordinatized data\" methodology (in `R`, but the concepts carry over): [https://youtu.be/4cYbP3kbc0k](https://youtu.be/4cYbP3kbc0k).\n"
   ]
  },
  {
   "cell_type": "code",
   "execution_count": null,
   "id": "suspended-experiment",
   "metadata": {
    "collapsed": false,
    "jupyter": {
     "outputs_hidden": false
    },
    "pycharm": {
     "name": "#%%\n"
    }
   },
   "outputs": [],
   "source": []
  }
 ],
 "metadata": {
  "kernelspec": {
   "display_name": "Python 3",
   "language": "python",
   "name": "python3"
  },
  "language_info": {
   "codemirror_mode": {
    "name": "ipython",
    "version": 3
   },
   "file_extension": ".py",
   "mimetype": "text/x-python",
   "name": "python",
   "nbconvert_exporter": "python",
   "pygments_lexer": "ipython3",
   "version": "3.8.5"
  }
 },
 "nbformat": 4,
 "nbformat_minor": 5
}
