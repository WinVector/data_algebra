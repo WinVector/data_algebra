{
 "cells": [
  {
   "cell_type": "code",
   "execution_count": 1,
   "metadata": {
    "pycharm": {
     "is_executing": false
    }
   },
   "outputs": [
    {
     "data": {
      "text/html": [
       "<div>\n",
       "<style scoped>\n",
       "    .dataframe tbody tr th:only-of-type {\n",
       "        vertical-align: middle;\n",
       "    }\n",
       "\n",
       "    .dataframe tbody tr th {\n",
       "        vertical-align: top;\n",
       "    }\n",
       "\n",
       "    .dataframe thead th {\n",
       "        text-align: right;\n",
       "    }\n",
       "</style>\n",
       "<table border=\"1\" class=\"dataframe\">\n",
       "  <thead>\n",
       "    <tr style=\"text-align: right;\">\n",
       "      <th></th>\n",
       "      <th>Sepal.Length</th>\n",
       "      <th>Sepal.Width</th>\n",
       "      <th>Petal.Length</th>\n",
       "      <th>Petal.Width</th>\n",
       "      <th>Species</th>\n",
       "      <th>id</th>\n",
       "    </tr>\n",
       "  </thead>\n",
       "  <tbody>\n",
       "    <tr>\n",
       "      <th>0</th>\n",
       "      <td>5.1</td>\n",
       "      <td>3.5</td>\n",
       "      <td>1.4</td>\n",
       "      <td>0.2</td>\n",
       "      <td>setosa</td>\n",
       "      <td>0</td>\n",
       "    </tr>\n",
       "    <tr>\n",
       "      <th>1</th>\n",
       "      <td>4.9</td>\n",
       "      <td>3.0</td>\n",
       "      <td>1.4</td>\n",
       "      <td>0.2</td>\n",
       "      <td>setosa</td>\n",
       "      <td>1</td>\n",
       "    </tr>\n",
       "    <tr>\n",
       "      <th>2</th>\n",
       "      <td>4.7</td>\n",
       "      <td>3.2</td>\n",
       "      <td>1.3</td>\n",
       "      <td>0.2</td>\n",
       "      <td>setosa</td>\n",
       "      <td>2</td>\n",
       "    </tr>\n",
       "  </tbody>\n",
       "</table>\n",
       "</div>"
      ],
      "text/plain": [
       "   Sepal.Length  Sepal.Width  Petal.Length  Petal.Width Species  id\n",
       "0           5.1          3.5           1.4          0.2  setosa   0\n",
       "1           4.9          3.0           1.4          0.2  setosa   1\n",
       "2           4.7          3.2           1.3          0.2  setosa   2"
      ]
     },
     "execution_count": 1,
     "metadata": {},
     "output_type": "execute_result"
    }
   ],
   "source": [
    "import sqlite3\n",
    "\n",
    "import pandas\n",
    "\n",
    "from data_algebra.data_ops import *\n",
    "from data_algebra.cdata import *\n",
    "import data_algebra.SQLite\n",
    "from data_algebra.util import pandas_to_example_str\n",
    "\n",
    "\n",
    "iris = pandas.read_csv('iris_small.csv')\n",
    "# print it out\n",
    "iris"
   ]
  },
  {
   "cell_type": "code",
   "execution_count": 2,
   "metadata": {},
   "outputs": [
    {
     "name": "stdout",
     "output_type": "stream",
     "text": [
      "pandas.DataFrame({\n",
      "    'Sepal.Length': [5.1, 4.9, 4.7],\n",
      "    'Sepal.Width': [3.5, 3.0, 3.2],\n",
      "    'Petal.Length': [1.4, 1.4, 1.3],\n",
      "    'Petal.Width': [0.2, 0.2, 0.2],\n",
      "    'Species': ['setosa', 'setosa', 'setosa'],\n",
      "    'id': [0, 1, 2],\n",
      "    })\n"
     ]
    }
   ],
   "source": [
    "print(pandas_to_example_str(iris))"
   ]
  },
  {
   "cell_type": "code",
   "execution_count": 3,
   "metadata": {
    "collapsed": false,
    "jupyter": {
     "outputs_hidden": false
    },
    "pycharm": {
     "is_executing": false,
     "name": "#%%\n"
    }
   },
   "outputs": [
    {
     "data": {
      "text/plain": [
       "TableDescription(\n",
       " table_name='iris',\n",
       " column_names=[\n",
       "   'Sepal.Length', 'Sepal.Width', 'Petal.Length', 'Petal.Width',  \n",
       " 'Species', 'id'])"
      ]
     },
     "execution_count": 3,
     "metadata": {},
     "output_type": "execute_result"
    }
   ],
   "source": [
    "td = describe_table(iris, 'iris')\n",
    "td"
   ]
  },
  {
   "cell_type": "code",
   "execution_count": 4,
   "metadata": {
    "collapsed": false,
    "jupyter": {
     "outputs_hidden": false
    },
    "pycharm": {
     "is_executing": false,
     "name": "#%%\n"
    }
   },
   "outputs": [
    {
     "data": {
      "text/plain": [
       "data_algebra.cdata.RecordSpecification(\n",
       "    record_keys=['id', 'Species'],\n",
       "    control_table=pandas.DataFrame({\n",
       "    'Part': ['Sepal', 'Sepal', 'Petal', 'Petal'],\n",
       "    'Measure': ['Length', 'Width', 'Length', 'Width'],\n",
       "    'Value': ['Sepal.Length', 'Sepal.Width', 'Petal.Length', 'Petal.Width'],\n",
       "    }),\n",
       "    control_table_keys=['Part', 'Measure'])"
      ]
     },
     "execution_count": 4,
     "metadata": {},
     "output_type": "execute_result"
    }
   ],
   "source": [
    "control_table = pandas.DataFrame(\n",
    "    {\n",
    "        \"Part\": [\"Sepal\", \"Sepal\", \"Petal\", \"Petal\"],\n",
    "        \"Measure\": [\"Length\", \"Width\", \"Length\", \"Width\"],\n",
    "        \"Value\": [\"Sepal.Length\", \"Sepal.Width\", \"Petal.Length\", \"Petal.Width\"],\n",
    "    }\n",
    ")\n",
    "\n",
    "record_spec = data_algebra.cdata.RecordSpecification(\n",
    "    control_table,\n",
    "    control_table_keys = ['Part', 'Measure'],\n",
    "    record_keys = ['id', 'Species']\n",
    "    )\n",
    "record_spec"
   ]
  },
  {
   "cell_type": "code",
   "execution_count": 5,
   "metadata": {
    "collapsed": false,
    "jupyter": {
     "outputs_hidden": false
    },
    "pycharm": {
     "is_executing": false,
     "name": "#%%\n"
    }
   },
   "outputs": [
    {
     "data": {
      "text/plain": [
       "TableDescription(\n",
       " table_name='iris',\n",
       " column_names=[\n",
       "   'Sepal.Length', 'Sepal.Width', 'Petal.Length', 'Petal.Width',  \n",
       " 'Species', 'id']) .\\\n",
       "   convert_record(data_algebra.cdata.RecordMap(\n",
       "       blocks_in=None,\n",
       "       blocks_out=data_algebra.cdata.RecordSpecification(\n",
       "       record_keys=['id', 'Species'],\n",
       "       control_table=pandas.DataFrame({\n",
       "       'Part': ['Sepal', 'Sepal', 'Petal', 'Petal'],\n",
       "       'Measure': ['Length', 'Width', 'Length', 'Width'],\n",
       "       'Value': ['Sepal.Length', 'Sepal.Width', 'Petal.Length', 'Petal.Width'],\n",
       "       }),\n",
       "       control_table_keys=['Part', 'Measure']))\n",
       ",   blocks_out_table=TableDescription(\n",
       "    table_name='cdata_temp_record',\n",
       "    column_names=[\n",
       "      'id', 'Species', 'Part', 'Measure', 'Value']))"
      ]
     },
     "execution_count": 5,
     "metadata": {},
     "output_type": "execute_result"
    }
   ],
   "source": [
    "ops = td.convert_records(record_map=RecordMap(blocks_out=record_spec))\n",
    "ops"
   ]
  },
  {
   "cell_type": "code",
   "execution_count": 6,
   "metadata": {
    "collapsed": false,
    "jupyter": {
     "outputs_hidden": false
    },
    "pycharm": {
     "is_executing": false,
     "name": "#%%\n"
    }
   },
   "outputs": [
    {
     "data": {
      "text/plain": [
       "data_algebra.data_ops.ConvertRecordsNode"
      ]
     },
     "execution_count": 6,
     "metadata": {},
     "output_type": "execute_result"
    }
   ],
   "source": [
    "type(ops)"
   ]
  },
  {
   "cell_type": "code",
   "execution_count": 7,
   "metadata": {
    "collapsed": false,
    "jupyter": {
     "outputs_hidden": false
    },
    "pycharm": {
     "is_executing": false,
     "name": "#%%\n"
    }
   },
   "outputs": [
    {
     "name": "stdout",
     "output_type": "stream",
     "text": [
      "SELECT a.\"id\" AS \"id\",\n",
      "       a.\"Species\" AS \"Species\",\n",
      "       b.\"Part\" AS \"Part\",\n",
      "       b.\"Measure\" AS \"Measure\",\n",
      "       CASE\n",
      "           WHEN b.\"Value\" = 'Sepal.Length' THEN a.\"Sepal.Length\"\n",
      "           WHEN b.\"Value\" = 'Sepal.Width' THEN a.\"Sepal.Width\"\n",
      "           WHEN b.\"Value\" = 'Petal.Length' THEN a.\"Petal.Length\"\n",
      "           WHEN b.\"Value\" = 'Petal.Width' THEN a.\"Petal.Width\"\n",
      "           ELSE NULL\n",
      "       END AS \"Value\"\n",
      "FROM (\"iris\") a\n",
      "CROSS JOIN (\"cdata_temp_record\") b\n",
      "ORDER BY a.\"id\",\n",
      "         a.\"Species\",\n",
      "         b.\"Part\",\n",
      "         b.\"Measure\"\n"
     ]
    }
   ],
   "source": [
    "db_model = data_algebra.SQLite.SQLiteModel()\n",
    "sql_str = ops.to_sql(db_model, pretty=True)\n",
    "print(sql_str)"
   ]
  },
  {
   "cell_type": "code",
   "execution_count": 8,
   "metadata": {
    "collapsed": false,
    "jupyter": {
     "outputs_hidden": false
    },
    "pycharm": {
     "is_executing": false,
     "name": "#%%\n"
    }
   },
   "outputs": [
    {
     "data": {
      "text/html": [
       "<div>\n",
       "<style scoped>\n",
       "    .dataframe tbody tr th:only-of-type {\n",
       "        vertical-align: middle;\n",
       "    }\n",
       "\n",
       "    .dataframe tbody tr th {\n",
       "        vertical-align: top;\n",
       "    }\n",
       "\n",
       "    .dataframe thead th {\n",
       "        text-align: right;\n",
       "    }\n",
       "</style>\n",
       "<table border=\"1\" class=\"dataframe\">\n",
       "  <thead>\n",
       "    <tr style=\"text-align: right;\">\n",
       "      <th></th>\n",
       "      <th>id</th>\n",
       "      <th>Species</th>\n",
       "      <th>Part</th>\n",
       "      <th>Measure</th>\n",
       "      <th>Value</th>\n",
       "    </tr>\n",
       "  </thead>\n",
       "  <tbody>\n",
       "    <tr>\n",
       "      <th>0</th>\n",
       "      <td>0</td>\n",
       "      <td>setosa</td>\n",
       "      <td>Petal</td>\n",
       "      <td>Length</td>\n",
       "      <td>1.4</td>\n",
       "    </tr>\n",
       "    <tr>\n",
       "      <th>1</th>\n",
       "      <td>0</td>\n",
       "      <td>setosa</td>\n",
       "      <td>Petal</td>\n",
       "      <td>Width</td>\n",
       "      <td>0.2</td>\n",
       "    </tr>\n",
       "    <tr>\n",
       "      <th>2</th>\n",
       "      <td>0</td>\n",
       "      <td>setosa</td>\n",
       "      <td>Sepal</td>\n",
       "      <td>Length</td>\n",
       "      <td>5.1</td>\n",
       "    </tr>\n",
       "    <tr>\n",
       "      <th>3</th>\n",
       "      <td>0</td>\n",
       "      <td>setosa</td>\n",
       "      <td>Sepal</td>\n",
       "      <td>Width</td>\n",
       "      <td>3.5</td>\n",
       "    </tr>\n",
       "    <tr>\n",
       "      <th>4</th>\n",
       "      <td>1</td>\n",
       "      <td>setosa</td>\n",
       "      <td>Petal</td>\n",
       "      <td>Length</td>\n",
       "      <td>1.4</td>\n",
       "    </tr>\n",
       "    <tr>\n",
       "      <th>5</th>\n",
       "      <td>1</td>\n",
       "      <td>setosa</td>\n",
       "      <td>Petal</td>\n",
       "      <td>Width</td>\n",
       "      <td>0.2</td>\n",
       "    </tr>\n",
       "    <tr>\n",
       "      <th>6</th>\n",
       "      <td>1</td>\n",
       "      <td>setosa</td>\n",
       "      <td>Sepal</td>\n",
       "      <td>Length</td>\n",
       "      <td>4.9</td>\n",
       "    </tr>\n",
       "    <tr>\n",
       "      <th>7</th>\n",
       "      <td>1</td>\n",
       "      <td>setosa</td>\n",
       "      <td>Sepal</td>\n",
       "      <td>Width</td>\n",
       "      <td>3.0</td>\n",
       "    </tr>\n",
       "    <tr>\n",
       "      <th>8</th>\n",
       "      <td>2</td>\n",
       "      <td>setosa</td>\n",
       "      <td>Petal</td>\n",
       "      <td>Length</td>\n",
       "      <td>1.3</td>\n",
       "    </tr>\n",
       "    <tr>\n",
       "      <th>9</th>\n",
       "      <td>2</td>\n",
       "      <td>setosa</td>\n",
       "      <td>Petal</td>\n",
       "      <td>Width</td>\n",
       "      <td>0.2</td>\n",
       "    </tr>\n",
       "    <tr>\n",
       "      <th>10</th>\n",
       "      <td>2</td>\n",
       "      <td>setosa</td>\n",
       "      <td>Sepal</td>\n",
       "      <td>Length</td>\n",
       "      <td>4.7</td>\n",
       "    </tr>\n",
       "    <tr>\n",
       "      <th>11</th>\n",
       "      <td>2</td>\n",
       "      <td>setosa</td>\n",
       "      <td>Sepal</td>\n",
       "      <td>Width</td>\n",
       "      <td>3.2</td>\n",
       "    </tr>\n",
       "  </tbody>\n",
       "</table>\n",
       "</div>"
      ],
      "text/plain": [
       "    id Species   Part Measure  Value\n",
       "0    0  setosa  Petal  Length    1.4\n",
       "1    0  setosa  Petal   Width    0.2\n",
       "2    0  setosa  Sepal  Length    5.1\n",
       "3    0  setosa  Sepal   Width    3.5\n",
       "4    1  setosa  Petal  Length    1.4\n",
       "5    1  setosa  Petal   Width    0.2\n",
       "6    1  setosa  Sepal  Length    4.9\n",
       "7    1  setosa  Sepal   Width    3.0\n",
       "8    2  setosa  Petal  Length    1.3\n",
       "9    2  setosa  Petal   Width    0.2\n",
       "10   2  setosa  Sepal  Length    4.7\n",
       "11   2  setosa  Sepal   Width    3.2"
      ]
     },
     "execution_count": 8,
     "metadata": {},
     "output_type": "execute_result"
    }
   ],
   "source": [
    "conn = sqlite3.connect(\":memory:\")\n",
    "db_model.prepare_connection(conn)\n",
    "\n",
    "db_model.insert_table(conn, iris, 'iris')\n",
    "\n",
    "db_model.insert_table(conn, ops.record_map.blocks_out.control_table, ops.blocks_out_table.table_name)\n",
    "\n",
    "db_model.read_query(conn, sql_str)\n"
   ]
  },
  {
   "cell_type": "code",
   "execution_count": 9,
   "metadata": {
    "collapsed": false,
    "jupyter": {
     "outputs_hidden": false
    },
    "pycharm": {
     "is_executing": false,
     "name": "#%%\n"
    }
   },
   "outputs": [],
   "source": [
    "conn.close()"
   ]
  }
 ],
 "metadata": {
  "kernelspec": {
   "display_name": "Python 3",
   "language": "python",
   "name": "python3"
  },
  "language_info": {
   "codemirror_mode": {
    "name": "ipython",
    "version": 3
   },
   "file_extension": ".py",
   "mimetype": "text/x-python",
   "name": "python",
   "nbconvert_exporter": "python",
   "pygments_lexer": "ipython3",
   "version": "3.6.9"
  },
  "pycharm": {
   "stem_cell": {
    "cell_type": "raw",
    "metadata": {
     "collapsed": false
    },
    "source": []
   }
  }
 },
 "nbformat": 4,
 "nbformat_minor": 4
}
