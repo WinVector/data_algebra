{
 "cells": [
  {
   "cell_type": "markdown",
   "metadata": {},
   "source": [
    "I would like to show how to reshape data using the [data algebra](https://pypi.org/project/data-algebra/)'s [cdata data reshaping tool](https://github.com/WinVector/data_algebra/blob/main/Examples/cdata/cdata.ipynb).\n",
    "\n",
    "Let's set up our Python worksheet and start with an example."
   ]
  },
  {
   "cell_type": "code",
   "execution_count": 1,
   "metadata": {},
   "outputs": [
    {
     "name": "stdout",
     "output_type": "stream",
     "text": [
      "Intel MKL WARNING: Support of Intel(R) Streaming SIMD Extensions 4.2 (Intel(R) SSE4.2) enabled only processors has been deprecated. Intel oneAPI Math Kernel Library 2025.0 will require Intel(R) Advanced Vector Extensions (Intel(R) AVX) instructions.\n",
      "Intel MKL WARNING: Support of Intel(R) Streaming SIMD Extensions 4.2 (Intel(R) SSE4.2) enabled only processors has been deprecated. Intel oneAPI Math Kernel Library 2025.0 will require Intel(R) Advanced Vector Extensions (Intel(R) AVX) instructions.\n"
     ]
    }
   ],
   "source": [
    "# import our modules.\n",
    "import pandas as pd\n",
    "from data_algebra import RecordMap, RecordSpecification\n",
    "from data_algebra.test_util import equivalent_frames"
   ]
  },
  {
   "cell_type": "markdown",
   "metadata": {},
   "source": [
    "For a [recent plotting task](https://github.com/WinVector/Examples/blob/main/calling_R_from_Python/plot_from_R_example.ipynb) it was convenient generate data in the following format."
   ]
  },
  {
   "cell_type": "code",
   "execution_count": 2,
   "metadata": {},
   "outputs": [
    {
     "data": {
      "text/html": [
       "<div>\n",
       "<style scoped>\n",
       "    .dataframe tbody tr th:only-of-type {\n",
       "        vertical-align: middle;\n",
       "    }\n",
       "\n",
       "    .dataframe tbody tr th {\n",
       "        vertical-align: top;\n",
       "    }\n",
       "\n",
       "    .dataframe thead th {\n",
       "        text-align: right;\n",
       "    }\n",
       "</style>\n",
       "<table border=\"1\" class=\"dataframe\">\n",
       "  <thead>\n",
       "    <tr style=\"text-align: right;\">\n",
       "      <th></th>\n",
       "      <th>x</th>\n",
       "      <th>control</th>\n",
       "      <th>treatment</th>\n",
       "      <th>control_tail</th>\n",
       "      <th>treatment_tail</th>\n",
       "    </tr>\n",
       "  </thead>\n",
       "  <tbody>\n",
       "    <tr>\n",
       "      <th>0</th>\n",
       "      <td>-0.14</td>\n",
       "      <td>4.96</td>\n",
       "      <td>1.06900</td>\n",
       "      <td>2</td>\n",
       "      <td>19</td>\n",
       "    </tr>\n",
       "    <tr>\n",
       "      <th>1</th>\n",
       "      <td>-0.20</td>\n",
       "      <td>5.21</td>\n",
       "      <td>1.16196</td>\n",
       "      <td>3</td>\n",
       "      <td>11</td>\n",
       "    </tr>\n",
       "  </tbody>\n",
       "</table>\n",
       "</div>"
      ],
      "text/plain": [
       "      x  control  treatment  control_tail  treatment_tail\n",
       "0 -0.14     4.96    1.06900             2              19\n",
       "1 -0.20     5.21    1.16196             3              11"
      ]
     },
     "execution_count": 2,
     "metadata": {},
     "output_type": "execute_result"
    }
   ],
   "source": [
    "# Example data (values changed for legibility) from:\n",
    "#  https://github.com/WinVector/Examples/blob/main/calling_R_from_Python/sig_pow.ipynb\n",
    "d_row_form = pd.DataFrame({\n",
    "    'x': [-0.14, -0.2],\n",
    "    'control': [4.96, 5.21],\n",
    "    'treatment': [1.069, 1.16196],\n",
    "    'control_tail': [2, 3],\n",
    "    'treatment_tail': [19, 11],\n",
    "    })\n",
    "\n",
    "d_row_form"
   ]
  },
  {
   "cell_type": "markdown",
   "metadata": {},
   "source": [
    "However, for the [actual plotting](https://github.com/WinVector/Examples/blob/main/calling_R_from_Python/sig_pow.ipynb) it was more convenient to have the data in a different format. We take a single row of our example data below."
   ]
  },
  {
   "cell_type": "code",
   "execution_count": 3,
   "metadata": {},
   "outputs": [
    {
     "data": {
      "text/html": [
       "<div>\n",
       "<style scoped>\n",
       "    .dataframe tbody tr th:only-of-type {\n",
       "        vertical-align: middle;\n",
       "    }\n",
       "\n",
       "    .dataframe tbody tr th {\n",
       "        vertical-align: top;\n",
       "    }\n",
       "\n",
       "    .dataframe thead th {\n",
       "        text-align: right;\n",
       "    }\n",
       "</style>\n",
       "<table border=\"1\" class=\"dataframe\">\n",
       "  <thead>\n",
       "    <tr style=\"text-align: right;\">\n",
       "      <th></th>\n",
       "      <th>x</th>\n",
       "      <th>control</th>\n",
       "      <th>treatment</th>\n",
       "      <th>control_tail</th>\n",
       "      <th>treatment_tail</th>\n",
       "    </tr>\n",
       "  </thead>\n",
       "  <tbody>\n",
       "    <tr>\n",
       "      <th>0</th>\n",
       "      <td>-0.14</td>\n",
       "      <td>4.96</td>\n",
       "      <td>1.069</td>\n",
       "      <td>2</td>\n",
       "      <td>19</td>\n",
       "    </tr>\n",
       "  </tbody>\n",
       "</table>\n",
       "</div>"
      ],
      "text/plain": [
       "      x  control  treatment  control_tail  treatment_tail\n",
       "0 -0.14     4.96      1.069             2              19"
      ]
     },
     "execution_count": 3,
     "metadata": {},
     "output_type": "execute_result"
    }
   ],
   "source": [
    "# pick one row out as a simpler example\n",
    "example_row = d_row_form.iloc[[0], :]\n",
    "\n",
    "example_row"
   ]
  },
  {
   "cell_type": "markdown",
   "metadata": {},
   "source": [
    "For plotting it would be more convenient to have the above example data be in the following format."
   ]
  },
  {
   "cell_type": "code",
   "execution_count": 4,
   "metadata": {},
   "outputs": [
    {
     "data": {
      "text/html": [
       "<div>\n",
       "<style scoped>\n",
       "    .dataframe tbody tr th:only-of-type {\n",
       "        vertical-align: middle;\n",
       "    }\n",
       "\n",
       "    .dataframe tbody tr th {\n",
       "        vertical-align: top;\n",
       "    }\n",
       "\n",
       "    .dataframe thead th {\n",
       "        text-align: right;\n",
       "    }\n",
       "</style>\n",
       "<table border=\"1\" class=\"dataframe\">\n",
       "  <thead>\n",
       "    <tr style=\"text-align: right;\">\n",
       "      <th></th>\n",
       "      <th>x</th>\n",
       "      <th>group</th>\n",
       "      <th>y</th>\n",
       "      <th>tail</th>\n",
       "    </tr>\n",
       "  </thead>\n",
       "  <tbody>\n",
       "    <tr>\n",
       "      <th>0</th>\n",
       "      <td>-0.14</td>\n",
       "      <td>treatment</td>\n",
       "      <td>1.069</td>\n",
       "      <td>19</td>\n",
       "    </tr>\n",
       "    <tr>\n",
       "      <th>1</th>\n",
       "      <td>-0.14</td>\n",
       "      <td>control</td>\n",
       "      <td>4.960</td>\n",
       "      <td>2</td>\n",
       "    </tr>\n",
       "  </tbody>\n",
       "</table>\n",
       "</div>"
      ],
      "text/plain": [
       "      x      group      y  tail\n",
       "0 -0.14  treatment  1.069    19\n",
       "1 -0.14    control  4.960     2"
      ]
     },
     "execution_count": 4,
     "metadata": {},
     "output_type": "execute_result"
    }
   ],
   "source": [
    "# specify, after hard work, what how we wish the example row\n",
    "# was structured\n",
    "d_want = pd.DataFrame({\n",
    "    'x': -0.14,\n",
    "    'group': ['treatment', 'control'],\n",
    "    'y': [1.069, 4.96],\n",
    "    'tail': [19, 2],\n",
    "})\n",
    "\n",
    "d_want"
   ]
  },
  {
   "cell_type": "markdown",
   "metadata": {},
   "source": [
    "The job of the data scientist is to work out what formats data is available in, and derive formats that make tasks easier. It took some thought to think of the plotting otimized format, and now we want to realize it.\n",
    "\n",
    "We have data reshaping or melding tools that can finish the task. What we do is convert `d_want` into a data record specification by:\n",
    "\n",
    "  * Restricting to the \"record data content portion\" of the data. We treat `x` as a record key (not content) and exclude the `x` column.\n",
    "  * Replacing the example values with value names.\n",
    "\n",
    "The record specification can be built up as follows. This is using ideas from [the theory of coordinatized data](https://win-vector.com/tag/coordinatized-data/)."
   ]
  },
  {
   "cell_type": "code",
   "execution_count": 5,
   "metadata": {},
   "outputs": [
    {
     "data": {
      "text/html": [
       "<div>\n",
       "<style scoped>\n",
       "    .dataframe tbody tr th:only-of-type {\n",
       "        vertical-align: middle;\n",
       "    }\n",
       "\n",
       "    .dataframe tbody tr th {\n",
       "        vertical-align: top;\n",
       "    }\n",
       "\n",
       "    .dataframe thead th {\n",
       "        text-align: right;\n",
       "    }\n",
       "</style>\n",
       "<table border=\"1\" class=\"dataframe\">\n",
       "  <thead>\n",
       "    <tr style=\"text-align: right;\">\n",
       "      <th></th>\n",
       "      <th>group</th>\n",
       "      <th>y</th>\n",
       "      <th>tail</th>\n",
       "    </tr>\n",
       "  </thead>\n",
       "  <tbody>\n",
       "    <tr>\n",
       "      <th>0</th>\n",
       "      <td>treatment</td>\n",
       "      <td>treatment</td>\n",
       "      <td>treatment_tail</td>\n",
       "    </tr>\n",
       "    <tr>\n",
       "      <th>1</th>\n",
       "      <td>control</td>\n",
       "      <td>control</td>\n",
       "      <td>control_tail</td>\n",
       "    </tr>\n",
       "  </tbody>\n",
       "</table>\n",
       "</div>"
      ],
      "text/plain": [
       "       group          y            tail\n",
       "0  treatment  treatment  treatment_tail\n",
       "1    control    control    control_tail"
      ]
     },
     "execution_count": 5,
     "metadata": {},
     "output_type": "execute_result"
    }
   ],
   "source": [
    "# convert the example result into a data specification\n",
    "d_specification = pd.DataFrame({\n",
    "    \"group\": d_want[\"group\"]\n",
    "})\n",
    "# replace values with names\n",
    "for new_col, suffix in [('y', ''), ('tail', '_tail')]:\n",
    "    d_specification[new_col] = [k + suffix for k in d_specification['group']]\n",
    "\n",
    "d_specification"
   ]
  },
  {
   "cell_type": "markdown",
   "metadata": {},
   "source": [
    "Now we take this symbolic data frame and turn it into a complete data record specification by using the `RecordSpecification` class. We specify:\n",
    "\n",
    "  * What the data record values block looks like.\n",
    "  * What key columns tell us which record we are working (`record_keys = ['x']`).\n",
    "  * What key columns tell us which row is which within a record (`control_table_keys = ['group']`)."
   ]
  },
  {
   "cell_type": "code",
   "execution_count": 6,
   "metadata": {},
   "outputs": [
    {
     "data": {
      "text/html": [
       "<p>RecordSpecification<br>\n",
       "<ul><li>record_keys: [&#x27;x&#x27;]</li>\n",
       "<li>control_table_keys: [&#x27;group&#x27;]</li>\n",
       "<li>control_table:<br>\n",
       "<style type=\"text/css\">\n",
       "#T_829e6_row0_col0, #T_829e6_row1_col0 {\n",
       "  background-color: #7FFFD4;\n",
       "}\n",
       "</style>\n",
       "<table id=\"T_829e6\">\n",
       "  <thead>\n",
       "    <tr>\n",
       "      <th class=\"blank level0\" >&nbsp;</th>\n",
       "      <th id=\"T_829e6_level0_col0\" class=\"col_heading level0 col0\" >record structure</th>\n",
       "      <th id=\"T_829e6_level0_col1\" class=\"col_heading level0 col1\" colspan=\"2\">value</th>\n",
       "    </tr>\n",
       "    <tr>\n",
       "      <th class=\"blank level1\" >&nbsp;</th>\n",
       "      <th id=\"T_829e6_level1_col0\" class=\"col_heading level1 col0\" >group</th>\n",
       "      <th id=\"T_829e6_level1_col1\" class=\"col_heading level1 col1\" >y</th>\n",
       "      <th id=\"T_829e6_level1_col2\" class=\"col_heading level1 col2\" >tail</th>\n",
       "    </tr>\n",
       "  </thead>\n",
       "  <tbody>\n",
       "    <tr>\n",
       "      <th id=\"T_829e6_level0_row0\" class=\"row_heading level0 row0\" >0</th>\n",
       "      <td id=\"T_829e6_row0_col0\" class=\"data row0 col0\" >treatment</td>\n",
       "      <td id=\"T_829e6_row0_col1\" class=\"data row0 col1\" >treatment</td>\n",
       "      <td id=\"T_829e6_row0_col2\" class=\"data row0 col2\" >treatment_tail</td>\n",
       "    </tr>\n",
       "    <tr>\n",
       "      <th id=\"T_829e6_level0_row1\" class=\"row_heading level0 row1\" >1</th>\n",
       "      <td id=\"T_829e6_row1_col0\" class=\"data row1 col0\" >control</td>\n",
       "      <td id=\"T_829e6_row1_col1\" class=\"data row1 col1\" >control</td>\n",
       "      <td id=\"T_829e6_row1_col2\" class=\"data row1 col2\" >control_tail</td>\n",
       "    </tr>\n",
       "  </tbody>\n",
       "</table>\n",
       "</li>\n",
       "</ul></p>\n"
      ],
      "text/plain": [
       "RecordSpecification\n",
       "   record_keys: ['x']\n",
       "   control_table_keys: ['group']\n",
       "   control_table:\n",
       "          group          y            tail\n",
       "   0  treatment  treatment  treatment_tail\n",
       "   1    control    control    control_tail\n"
      ]
     },
     "execution_count": 6,
     "metadata": {},
     "output_type": "execute_result"
    }
   ],
   "source": [
    "# upgrade the data specification into a record specification\n",
    "rs = RecordSpecification(\n",
    "    d_specification,\n",
    "    record_keys=['x'],\n",
    "    control_table_keys=['group'],\n",
    "    )\n",
    "\n",
    "rs"
   ]
  },
  {
   "cell_type": "markdown",
   "metadata": {},
   "source": [
    "Notice the `RecordSpecification` class organizes all of the above concerns together.\n",
    "\n",
    "From our `RecordSpecification` we can then implement our desired record transform. Let's implement the data transform and print it out to confirm it claims to do what we want."
   ]
  },
  {
   "cell_type": "code",
   "execution_count": 7,
   "metadata": {},
   "outputs": [
    {
     "data": {
      "text/html": [
       "RecordMap: transforming records of the form:<br>\n",
       "<style type=\"text/css\">\n",
       "#T_1517d_row0_col0 {\n",
       "  background-color: #FFE4C4;\n",
       "}\n",
       "</style>\n",
       "<table id=\"T_1517d\">\n",
       "  <thead>\n",
       "    <tr>\n",
       "      <th class=\"blank level0\" >&nbsp;</th>\n",
       "      <th id=\"T_1517d_level0_col0\" class=\"col_heading level0 col0\" >record id</th>\n",
       "      <th id=\"T_1517d_level0_col1\" class=\"col_heading level0 col1\" colspan=\"4\">value</th>\n",
       "    </tr>\n",
       "    <tr>\n",
       "      <th class=\"blank level1\" >&nbsp;</th>\n",
       "      <th id=\"T_1517d_level1_col0\" class=\"col_heading level1 col0\" >x</th>\n",
       "      <th id=\"T_1517d_level1_col1\" class=\"col_heading level1 col1\" >treatment</th>\n",
       "      <th id=\"T_1517d_level1_col2\" class=\"col_heading level1 col2\" >control</th>\n",
       "      <th id=\"T_1517d_level1_col3\" class=\"col_heading level1 col3\" >treatment_tail</th>\n",
       "      <th id=\"T_1517d_level1_col4\" class=\"col_heading level1 col4\" >control_tail</th>\n",
       "    </tr>\n",
       "  </thead>\n",
       "  <tbody>\n",
       "    <tr>\n",
       "      <th id=\"T_1517d_level0_row0\" class=\"row_heading level0 row0\" >0</th>\n",
       "      <td id=\"T_1517d_row0_col0\" class=\"data row0 col0\" >x record key</td>\n",
       "      <td id=\"T_1517d_row0_col1\" class=\"data row0 col1\" >treatment value</td>\n",
       "      <td id=\"T_1517d_row0_col2\" class=\"data row0 col2\" >control value</td>\n",
       "      <td id=\"T_1517d_row0_col3\" class=\"data row0 col3\" >treatment_tail value</td>\n",
       "      <td id=\"T_1517d_row0_col4\" class=\"data row0 col4\" >control_tail value</td>\n",
       "    </tr>\n",
       "  </tbody>\n",
       "</table>\n",
       "<br>\n",
       "to records of the form:<br>\n",
       "<style type=\"text/css\">\n",
       "#T_1094b_row0_col0, #T_1094b_row1_col0 {\n",
       "  background-color: #FFE4C4;\n",
       "}\n",
       "#T_1094b_row0_col1, #T_1094b_row1_col1 {\n",
       "  background-color: #7FFFD4;\n",
       "}\n",
       "</style>\n",
       "<table id=\"T_1094b\">\n",
       "  <thead>\n",
       "    <tr>\n",
       "      <th class=\"blank level0\" >&nbsp;</th>\n",
       "      <th id=\"T_1094b_level0_col0\" class=\"col_heading level0 col0\" >record id</th>\n",
       "      <th id=\"T_1094b_level0_col1\" class=\"col_heading level0 col1\" >record structure</th>\n",
       "      <th id=\"T_1094b_level0_col2\" class=\"col_heading level0 col2\" colspan=\"2\">value</th>\n",
       "    </tr>\n",
       "    <tr>\n",
       "      <th class=\"blank level1\" >&nbsp;</th>\n",
       "      <th id=\"T_1094b_level1_col0\" class=\"col_heading level1 col0\" >x</th>\n",
       "      <th id=\"T_1094b_level1_col1\" class=\"col_heading level1 col1\" >group</th>\n",
       "      <th id=\"T_1094b_level1_col2\" class=\"col_heading level1 col2\" >y</th>\n",
       "      <th id=\"T_1094b_level1_col3\" class=\"col_heading level1 col3\" >tail</th>\n",
       "    </tr>\n",
       "  </thead>\n",
       "  <tbody>\n",
       "    <tr>\n",
       "      <th id=\"T_1094b_level0_row0\" class=\"row_heading level0 row0\" >0</th>\n",
       "      <td id=\"T_1094b_row0_col0\" class=\"data row0 col0\" >x record key</td>\n",
       "      <td id=\"T_1094b_row0_col1\" class=\"data row0 col1\" >control</td>\n",
       "      <td id=\"T_1094b_row0_col2\" class=\"data row0 col2\" >control value</td>\n",
       "      <td id=\"T_1094b_row0_col3\" class=\"data row0 col3\" >control_tail value</td>\n",
       "    </tr>\n",
       "    <tr>\n",
       "      <th id=\"T_1094b_level0_row1\" class=\"row_heading level0 row1\" >1</th>\n",
       "      <td id=\"T_1094b_row1_col0\" class=\"data row1 col0\" >x record key</td>\n",
       "      <td id=\"T_1094b_row1_col1\" class=\"data row1 col1\" >treatment</td>\n",
       "      <td id=\"T_1094b_row1_col2\" class=\"data row1 col2\" >treatment value</td>\n",
       "      <td id=\"T_1094b_row1_col3\" class=\"data row1 col3\" >treatment_tail value</td>\n",
       "    </tr>\n",
       "  </tbody>\n",
       "</table>\n"
      ],
      "text/plain": [
       "RecordMap: transforming records of the form:\n",
       "<div>\n",
       "<style scoped>\n",
       "    .dataframe tbody tr th:only-of-type {\n",
       "        vertical-align: middle;\n",
       "    }\n",
       "\n",
       "    .dataframe tbody tr th {\n",
       "        vertical-align: top;\n",
       "    }\n",
       "\n",
       "    .dataframe thead tr th {\n",
       "        text-align: left;\n",
       "    }\n",
       "</style>\n",
       "<table border=\"1\" class=\"dataframe\">\n",
       "  <thead>\n",
       "    <tr>\n",
       "      <th></th>\n",
       "      <th>record id</th>\n",
       "      <th colspan=\"4\" halign=\"left\">value</th>\n",
       "    </tr>\n",
       "    <tr>\n",
       "      <th></th>\n",
       "      <th>x</th>\n",
       "      <th>treatment</th>\n",
       "      <th>control</th>\n",
       "      <th>treatment_tail</th>\n",
       "      <th>control_tail</th>\n",
       "    </tr>\n",
       "  </thead>\n",
       "  <tbody>\n",
       "    <tr>\n",
       "      <th>0</th>\n",
       "      <td>x record key</td>\n",
       "      <td>treatment value</td>\n",
       "      <td>control value</td>\n",
       "      <td>treatment_tail value</td>\n",
       "      <td>control_tail value</td>\n",
       "    </tr>\n",
       "  </tbody>\n",
       "</table>\n",
       "</div>\n",
       "to records of the form:\n",
       "<div>\n",
       "<style scoped>\n",
       "    .dataframe tbody tr th:only-of-type {\n",
       "        vertical-align: middle;\n",
       "    }\n",
       "\n",
       "    .dataframe tbody tr th {\n",
       "        vertical-align: top;\n",
       "    }\n",
       "\n",
       "    .dataframe thead tr th {\n",
       "        text-align: left;\n",
       "    }\n",
       "</style>\n",
       "<table border=\"1\" class=\"dataframe\">\n",
       "  <thead>\n",
       "    <tr>\n",
       "      <th></th>\n",
       "      <th>record id</th>\n",
       "      <th>record structure</th>\n",
       "      <th colspan=\"2\" halign=\"left\">value</th>\n",
       "    </tr>\n",
       "    <tr>\n",
       "      <th></th>\n",
       "      <th>x</th>\n",
       "      <th>group</th>\n",
       "      <th>y</th>\n",
       "      <th>tail</th>\n",
       "    </tr>\n",
       "  </thead>\n",
       "  <tbody>\n",
       "    <tr>\n",
       "      <th>0</th>\n",
       "      <td>x record key</td>\n",
       "      <td>control</td>\n",
       "      <td>control value</td>\n",
       "      <td>control_tail value</td>\n",
       "    </tr>\n",
       "    <tr>\n",
       "      <th>1</th>\n",
       "      <td>x record key</td>\n",
       "      <td>treatment</td>\n",
       "      <td>treatment value</td>\n",
       "      <td>treatment_tail value</td>\n",
       "    </tr>\n",
       "  </tbody>\n",
       "</table>\n",
       "</div>"
      ]
     },
     "execution_count": 7,
     "metadata": {},
     "output_type": "execute_result"
    }
   ],
   "source": [
    "# ask the record specification to design a map from \n",
    "# rows to records of our specified form\n",
    "map_from_rows = rs.map_from_rows()\n",
    "\n",
    "map_from_rows"
   ]
  },
  {
   "cell_type": "markdown",
   "metadata": {},
   "source": [
    "Of course, we don't know this really works- until we try it. Let's see the transform in action.\n"
   ]
  },
  {
   "cell_type": "code",
   "execution_count": 8,
   "metadata": {},
   "outputs": [
    {
     "data": {
      "text/html": [
       "<div>\n",
       "<style scoped>\n",
       "    .dataframe tbody tr th:only-of-type {\n",
       "        vertical-align: middle;\n",
       "    }\n",
       "\n",
       "    .dataframe tbody tr th {\n",
       "        vertical-align: top;\n",
       "    }\n",
       "\n",
       "    .dataframe thead th {\n",
       "        text-align: right;\n",
       "    }\n",
       "</style>\n",
       "<table border=\"1\" class=\"dataframe\">\n",
       "  <thead>\n",
       "    <tr style=\"text-align: right;\">\n",
       "      <th></th>\n",
       "      <th>x</th>\n",
       "      <th>group</th>\n",
       "      <th>y</th>\n",
       "      <th>tail</th>\n",
       "    </tr>\n",
       "  </thead>\n",
       "  <tbody>\n",
       "    <tr>\n",
       "      <th>0</th>\n",
       "      <td>-0.20</td>\n",
       "      <td>control</td>\n",
       "      <td>5.21000</td>\n",
       "      <td>3</td>\n",
       "    </tr>\n",
       "    <tr>\n",
       "      <th>1</th>\n",
       "      <td>-0.20</td>\n",
       "      <td>treatment</td>\n",
       "      <td>1.16196</td>\n",
       "      <td>11</td>\n",
       "    </tr>\n",
       "    <tr>\n",
       "      <th>2</th>\n",
       "      <td>-0.14</td>\n",
       "      <td>control</td>\n",
       "      <td>4.96000</td>\n",
       "      <td>2</td>\n",
       "    </tr>\n",
       "    <tr>\n",
       "      <th>3</th>\n",
       "      <td>-0.14</td>\n",
       "      <td>treatment</td>\n",
       "      <td>1.06900</td>\n",
       "      <td>19</td>\n",
       "    </tr>\n",
       "  </tbody>\n",
       "</table>\n",
       "</div>"
      ],
      "text/plain": [
       "      x      group        y  tail\n",
       "0 -0.20    control  5.21000     3\n",
       "1 -0.20  treatment  1.16196    11\n",
       "2 -0.14    control  4.96000     2\n",
       "3 -0.14  treatment  1.06900    19"
      ]
     },
     "execution_count": 8,
     "metadata": {},
     "output_type": "execute_result"
    }
   ],
   "source": [
    "# apply the mapping to our original example data\n",
    "d_records = map_from_rows(d_row_form)\n",
    "\n",
    "d_records"
   ]
  },
  {
   "cell_type": "markdown",
   "metadata": {},
   "source": [
    "And we now have all of our data transformed into the format we specified.\n",
    "\n",
    "We can even invert the transform to pull data back the other direction (note, row order and column order are considered inessential in this formulation)."
   ]
  },
  {
   "cell_type": "code",
   "execution_count": 9,
   "metadata": {},
   "outputs": [
    {
     "data": {
      "text/html": [
       "<div>\n",
       "<style scoped>\n",
       "    .dataframe tbody tr th:only-of-type {\n",
       "        vertical-align: middle;\n",
       "    }\n",
       "\n",
       "    .dataframe tbody tr th {\n",
       "        vertical-align: top;\n",
       "    }\n",
       "\n",
       "    .dataframe thead th {\n",
       "        text-align: right;\n",
       "    }\n",
       "</style>\n",
       "<table border=\"1\" class=\"dataframe\">\n",
       "  <thead>\n",
       "    <tr style=\"text-align: right;\">\n",
       "      <th></th>\n",
       "      <th>x</th>\n",
       "      <th>control</th>\n",
       "      <th>control_tail</th>\n",
       "      <th>treatment</th>\n",
       "      <th>treatment_tail</th>\n",
       "    </tr>\n",
       "  </thead>\n",
       "  <tbody>\n",
       "    <tr>\n",
       "      <th>0</th>\n",
       "      <td>-0.20</td>\n",
       "      <td>5.21</td>\n",
       "      <td>3</td>\n",
       "      <td>1.16196</td>\n",
       "      <td>11</td>\n",
       "    </tr>\n",
       "    <tr>\n",
       "      <th>1</th>\n",
       "      <td>-0.14</td>\n",
       "      <td>4.96</td>\n",
       "      <td>2</td>\n",
       "      <td>1.06900</td>\n",
       "      <td>19</td>\n",
       "    </tr>\n",
       "  </tbody>\n",
       "</table>\n",
       "</div>"
      ],
      "text/plain": [
       "      x  control  control_tail  treatment  treatment_tail\n",
       "0 -0.20     5.21             3    1.16196              11\n",
       "1 -0.14     4.96             2    1.06900              19"
      ]
     },
     "execution_count": 9,
     "metadata": {},
     "output_type": "execute_result"
    }
   ],
   "source": [
    "inv_map = map_from_rows.inverse()\n",
    "d_recovered = inv_map(d_records)\n",
    "assert equivalent_frames(d_recovered, d_row_form)\n",
    "\n",
    "d_recovered"
   ]
  },
  {
   "cell_type": "markdown",
   "metadata": {},
   "source": [
    "From a practical point of view, we are done.\n",
    "\n",
    "From a theoretical point of view: the `cdata` `RecordSpecification` supplies four major services.\n",
    "\n",
    "  * `.map_from_rows()`\n",
    "  * `.map_to_rows()`\n",
    "  * `.map_from_keyed_column()`\n",
    "  * `.map_to_keyed_column()`\n",
    "\n",
    "`.map_from_rows()` and  `.map_to_rows()` map a general record structure to and from rows is the core of the `cdata` data \"pivoting\" system. The idea is data is in records, and sometimes those records span multiple rows. These are the fundemental operations\n",
    "\n",
    "`.map_from_keyed_column()` and `.map_to_keyed_column()` map between a general record structure and essentially [RDF Triples](https://en.wikipedia.org/wiki/Semantic_triple). This has a number of direct applications. It is also direct support of concepts such as `melt()` and `cast()`.\n",
    "\n",
    "About 90% of data reshaping tasks are actually simple maps between \"row records\" (records where all data is in a single row) and \"keyed columns\" (or triples, where all but one column are keys). Our example above was a bit more general. For fully general transforms one directly instantiates a `RecordMap` class, as it allows general input and output fixed record structure.\n"
   ]
  },
  {
   "cell_type": "markdown",
   "metadata": {},
   "source": [
    "I strongly feel the specification of data transforms as example records to example records is the correct formulation for data rehaping or pivoting. I also feel that transforms between arbitrary records and rows (not to keyed columns!) is also fundemenatal. One of these is a join, and the other an aggregation- giving a foundation from the usual [relational operators](https://en.wikipedia.org/wiki/Relational_algebra)."
   ]
  }
 ],
 "metadata": {
  "kernelspec": {
   "display_name": "data_algebra_dev_env",
   "language": "python",
   "name": "python3"
  },
  "language_info": {
   "codemirror_mode": {
    "name": "ipython",
    "version": 3
   },
   "file_extension": ".py",
   "mimetype": "text/x-python",
   "name": "python",
   "nbconvert_exporter": "python",
   "pygments_lexer": "ipython3",
   "version": "3.11.5"
  },
  "orig_nbformat": 4
 },
 "nbformat": 4,
 "nbformat_minor": 2
}
