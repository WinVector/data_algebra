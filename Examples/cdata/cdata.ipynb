{
 "cells": [
  {
   "cell_type": "code",
   "execution_count": 1,
   "metadata": {
    "collapsed": true,
    "pycharm": {
     "is_executing": false
    }
   },
   "outputs": [],
   "source": [
    "import pandas\n",
    "import data_algebra.cdata\n",
    "import data_algebra.SQLite\n",
    "from data_algebra.data_ops import *\n",
    "from data_algebra.data_pipe import *"
   ]
  },
  {
   "cell_type": "code",
   "execution_count": 2,
   "outputs": [
    {
     "data": {
      "text/plain": "    Part Measure         Value\n0  Sepal  Length  Sepal.Length\n1  Sepal   Width   Sepal.Width\n2  Petal  Length  Petal.Length\n3  Petal   Width   Petal.Width",
      "text/html": "<div>\n<style scoped>\n    .dataframe tbody tr th:only-of-type {\n        vertical-align: middle;\n    }\n\n    .dataframe tbody tr th {\n        vertical-align: top;\n    }\n\n    .dataframe thead th {\n        text-align: right;\n    }\n</style>\n<table border=\"1\" class=\"dataframe\">\n  <thead>\n    <tr style=\"text-align: right;\">\n      <th></th>\n      <th>Part</th>\n      <th>Measure</th>\n      <th>Value</th>\n    </tr>\n  </thead>\n  <tbody>\n    <tr>\n      <th>0</th>\n      <td>Sepal</td>\n      <td>Length</td>\n      <td>Sepal.Length</td>\n    </tr>\n    <tr>\n      <th>1</th>\n      <td>Sepal</td>\n      <td>Width</td>\n      <td>Sepal.Width</td>\n    </tr>\n    <tr>\n      <th>2</th>\n      <td>Petal</td>\n      <td>Length</td>\n      <td>Petal.Length</td>\n    </tr>\n    <tr>\n      <th>3</th>\n      <td>Petal</td>\n      <td>Width</td>\n      <td>Petal.Width</td>\n    </tr>\n  </tbody>\n</table>\n</div>"
     },
     "metadata": {},
     "output_type": "execute_result",
     "execution_count": 2
    }
   ],
   "source": [
    "# from:\n",
    "#   https://github.com/WinVector/cdata/blob/master/vignettes/control_table_keys.Rmd\n",
    "\n",
    "control_table = pandas.DataFrame({\n",
    "    'Part': [\"Sepal\", \"Sepal\", \"Petal\", \"Petal\"],\n",
    "    'Measure': [\"Length\", \"Width\", \"Length\", \"Width\"],\n",
    "    'Value': [\"Sepal.Length\", \"Sepal.Width\", \"Petal.Length\", \"Petal.Width\"]\n",
    "})\n",
    "control_table"
   ],
   "metadata": {
    "collapsed": false,
    "pycharm": {
     "name": "#%%\n",
     "is_executing": false
    }
   }
  },
  {
   "cell_type": "code",
   "execution_count": null,
   "outputs": [],
   "source": [
    "record_spec = data_algebra.cdata.RecordSpecification(\n",
    "    control_table,\n",
    "    control_table_keys = ['Part', 'Measure'],\n",
    "    record_keys = ['Species']\n",
    "    )\n",
    "record_spec"
   ],
   "metadata": {
    "collapsed": false,
    "pycharm": {
     "name": "#%%\n"
    }
   }
  },
  {
   "cell_type": "code",
   "execution_count": null,
   "outputs": [],
   "source": [
    "db_model = data_algebra.SQLite.SQLiteModel()\n",
    "\n",
    "source_table = data_algebra.data_ops.TableDescription(\n",
    "    'iris',\n",
    "    ['Sepal.Length', 'Sepal.Width', 'Petal.Length', 'Petal.Width', 'Species']\n",
    "    )\n",
    "\n",
    "temp_table = data_algebra.data_ops.TableDescription(\n",
    "    'control_table',\n",
    "    record_spec.control_table.columns\n",
    "    )\n",
    "    \n",
    "\n",
    "sql = db_model.row_recs_to_blocks_query(source_table, record_spec, temp_table)\n",
    "print(sql)\n"
   ],
   "metadata": {
    "collapsed": false,
    "pycharm": {
     "name": "#%%\n"
    }
   }
  }
 ],
 "metadata": {
  "language_info": {
   "codemirror_mode": {
    "name": "ipython",
    "version": 2
   },
   "file_extension": ".py",
   "mimetype": "text/x-python",
   "name": "python",
   "nbconvert_exporter": "python",
   "pygments_lexer": "ipython2",
   "version": "2.7.6"
  },
  "kernelspec": {
   "name": "python3",
   "language": "python",
   "display_name": "Python 3"
  },
  "pycharm": {
   "stem_cell": {
    "cell_type": "raw",
    "source": [],
    "metadata": {
     "collapsed": false
    }
   }
  }
 },
 "nbformat": 4,
 "nbformat_minor": 0
}