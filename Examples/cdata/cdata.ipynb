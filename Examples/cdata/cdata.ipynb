{
 "cells": [
  {
   "cell_type": "markdown",
   "metadata": {
    "pycharm": {
     "is_executing": false
    }
   },
   "source": [
    "This note is a simple data wrangling example worked using both the Python [data_algebra](https://github.com/WinVector/data_algebra) package \n",
    "and the [R](https://www.r-project.org) [cdata](https://github.com/WinVector/cdata) package. \n",
    "Both of these packages make data wrangling easy through he use of [coordinatized data](http://www.win-vector.com/blog/tag/coordinatized-data/) concepts \n",
    "(relying heavily on [Codd's \"rule of access\"](https://en.wikipedia.org/wiki/Codd%27s_12_rules)).\n",
    "\n",
    "The advantages of [data_algebra](https://github.com/WinVector/data_algebra) and [cdata](https://github.com/WinVector/cdata) are:\n",
    "\n",
    " * The user specifies their desired transform declaratively *by example* and *in data*.  What one does is: work \n",
    "    an example, and then write down what you want (we have a tutorial on this [here](https://winvector.github.io/cdata/articles/design.html)).\n",
    "    \n",
    " * The transform systems can print what a transform is going to do.  This makes reasoning about data transforms *much* easier.\n",
    " \n",
    " * The transforms, as they themselves are written as data, can be easily shared between systems (such as R and Python).\n",
    " \n",
    "Let's re-work a small [R cdata example](https://github.com/WinVector/cdata/blob/master/vignettes/control_table_keys.Rmd), using the Python package [data_algebra](https://github.com/WinVector/data_algebra).\n",
    "\n",
    "## An Example\n",
    "\n",
    "First we import some modules and packages, and import some notional data."
   ]
  },
  {
   "cell_type": "code",
   "execution_count": 1,
   "metadata": {
    "pycharm": {
     "is_executing": false
    }
   },
   "outputs": [
    {
     "data": {
      "text/html": [
       "<div>\n",
       "<style scoped>\n",
       "    .dataframe tbody tr th:only-of-type {\n",
       "        vertical-align: middle;\n",
       "    }\n",
       "\n",
       "    .dataframe tbody tr th {\n",
       "        vertical-align: top;\n",
       "    }\n",
       "\n",
       "    .dataframe thead th {\n",
       "        text-align: right;\n",
       "    }\n",
       "</style>\n",
       "<table border=\"1\" class=\"dataframe\">\n",
       "  <thead>\n",
       "    <tr style=\"text-align: right;\">\n",
       "      <th></th>\n",
       "      <th>Sepal.Length</th>\n",
       "      <th>Sepal.Width</th>\n",
       "      <th>Petal.Length</th>\n",
       "      <th>Petal.Width</th>\n",
       "      <th>Species</th>\n",
       "      <th>id</th>\n",
       "    </tr>\n",
       "  </thead>\n",
       "  <tbody>\n",
       "    <tr>\n",
       "      <th>0</th>\n",
       "      <td>5.1</td>\n",
       "      <td>3.5</td>\n",
       "      <td>1.4</td>\n",
       "      <td>0.2</td>\n",
       "      <td>setosa</td>\n",
       "      <td>0</td>\n",
       "    </tr>\n",
       "    <tr>\n",
       "      <th>1</th>\n",
       "      <td>4.9</td>\n",
       "      <td>3.0</td>\n",
       "      <td>1.4</td>\n",
       "      <td>0.2</td>\n",
       "      <td>setosa</td>\n",
       "      <td>1</td>\n",
       "    </tr>\n",
       "    <tr>\n",
       "      <th>2</th>\n",
       "      <td>4.7</td>\n",
       "      <td>3.2</td>\n",
       "      <td>1.3</td>\n",
       "      <td>0.2</td>\n",
       "      <td>setosa</td>\n",
       "      <td>2</td>\n",
       "    </tr>\n",
       "  </tbody>\n",
       "</table>\n",
       "</div>"
      ],
      "text/plain": [
       "   Sepal.Length  Sepal.Width  Petal.Length  Petal.Width Species  id\n",
       "0           5.1          3.5           1.4          0.2  setosa   0\n",
       "1           4.9          3.0           1.4          0.2  setosa   1\n",
       "2           4.7          3.2           1.3          0.2  setosa   2"
      ]
     },
     "execution_count": 1,
     "metadata": {},
     "output_type": "execute_result"
    }
   ],
   "source": [
    "# https://pandas.pydata.org\n",
    "import pandas\n",
    "\n",
    "# PyYAML from https://pyyaml.org\n",
    "import yaml\n",
    "\n",
    "# pip install https://github.com/WinVector/data_algebra/raw/master/dist/data_algebra-0.1.3.tar.gz\n",
    "import data_algebra.cdata\n",
    "import data_algebra.cdata_impl\n",
    "import data_algebra.data_ops\n",
    "import data_algebra.yaml\n",
    "import data_algebra.SQLite\n",
    "\n",
    "# ask YAML to write simpler structures\n",
    "data_algebra.yaml.fix_ordered_dict_yaml_rep()\n",
    "\n",
    "# read our example data\n",
    "iris = pandas.read_csv('iris_small.csv')\n",
    "# print it out\n",
    "iris"
   ]
  },
  {
   "cell_type": "markdown",
   "metadata": {},
   "source": [
    "Our goal is to move from this de-normalized or wide-form (or \"model matrix\"/\"data matrix\" form, where each record is exactly one row) into a tall form where records may span more than one row.\n",
    "\n",
    "Or, more concretely, we want our data to look like the following."
   ]
  },
  {
   "cell_type": "code",
   "execution_count": 2,
   "metadata": {
    "pycharm": {
     "is_executing": false
    }
   },
   "outputs": [
    {
     "data": {
      "text/html": [
       "<div>\n",
       "<style scoped>\n",
       "    .dataframe tbody tr th:only-of-type {\n",
       "        vertical-align: middle;\n",
       "    }\n",
       "\n",
       "    .dataframe tbody tr th {\n",
       "        vertical-align: top;\n",
       "    }\n",
       "\n",
       "    .dataframe thead th {\n",
       "        text-align: right;\n",
       "    }\n",
       "</style>\n",
       "<table border=\"1\" class=\"dataframe\">\n",
       "  <thead>\n",
       "    <tr style=\"text-align: right;\">\n",
       "      <th></th>\n",
       "      <th>id</th>\n",
       "      <th>Species</th>\n",
       "      <th>Part</th>\n",
       "      <th>Measure</th>\n",
       "      <th>Value</th>\n",
       "    </tr>\n",
       "  </thead>\n",
       "  <tbody>\n",
       "    <tr>\n",
       "      <th>0</th>\n",
       "      <td>0</td>\n",
       "      <td>setosa</td>\n",
       "      <td>Petal</td>\n",
       "      <td>Length</td>\n",
       "      <td>1.4</td>\n",
       "    </tr>\n",
       "    <tr>\n",
       "      <th>1</th>\n",
       "      <td>0</td>\n",
       "      <td>setosa</td>\n",
       "      <td>Petal</td>\n",
       "      <td>Width</td>\n",
       "      <td>0.2</td>\n",
       "    </tr>\n",
       "    <tr>\n",
       "      <th>2</th>\n",
       "      <td>0</td>\n",
       "      <td>setosa</td>\n",
       "      <td>Sepal</td>\n",
       "      <td>Length</td>\n",
       "      <td>5.1</td>\n",
       "    </tr>\n",
       "    <tr>\n",
       "      <th>3</th>\n",
       "      <td>0</td>\n",
       "      <td>setosa</td>\n",
       "      <td>Sepal</td>\n",
       "      <td>Width</td>\n",
       "      <td>3.5</td>\n",
       "    </tr>\n",
       "    <tr>\n",
       "      <th>4</th>\n",
       "      <td>1</td>\n",
       "      <td>setosa</td>\n",
       "      <td>Petal</td>\n",
       "      <td>Length</td>\n",
       "      <td>1.4</td>\n",
       "    </tr>\n",
       "    <tr>\n",
       "      <th>5</th>\n",
       "      <td>1</td>\n",
       "      <td>setosa</td>\n",
       "      <td>Petal</td>\n",
       "      <td>Width</td>\n",
       "      <td>0.2</td>\n",
       "    </tr>\n",
       "    <tr>\n",
       "      <th>6</th>\n",
       "      <td>1</td>\n",
       "      <td>setosa</td>\n",
       "      <td>Sepal</td>\n",
       "      <td>Length</td>\n",
       "      <td>4.9</td>\n",
       "    </tr>\n",
       "    <tr>\n",
       "      <th>7</th>\n",
       "      <td>1</td>\n",
       "      <td>setosa</td>\n",
       "      <td>Sepal</td>\n",
       "      <td>Width</td>\n",
       "      <td>3.0</td>\n",
       "    </tr>\n",
       "    <tr>\n",
       "      <th>8</th>\n",
       "      <td>2</td>\n",
       "      <td>setosa</td>\n",
       "      <td>Petal</td>\n",
       "      <td>Length</td>\n",
       "      <td>1.3</td>\n",
       "    </tr>\n",
       "    <tr>\n",
       "      <th>9</th>\n",
       "      <td>2</td>\n",
       "      <td>setosa</td>\n",
       "      <td>Petal</td>\n",
       "      <td>Width</td>\n",
       "      <td>0.2</td>\n",
       "    </tr>\n",
       "    <tr>\n",
       "      <th>10</th>\n",
       "      <td>2</td>\n",
       "      <td>setosa</td>\n",
       "      <td>Sepal</td>\n",
       "      <td>Length</td>\n",
       "      <td>4.7</td>\n",
       "    </tr>\n",
       "    <tr>\n",
       "      <th>11</th>\n",
       "      <td>2</td>\n",
       "      <td>setosa</td>\n",
       "      <td>Sepal</td>\n",
       "      <td>Width</td>\n",
       "      <td>3.2</td>\n",
       "    </tr>\n",
       "  </tbody>\n",
       "</table>\n",
       "</div>"
      ],
      "text/plain": [
       "    id Species   Part Measure  Value\n",
       "0    0  setosa  Petal  Length    1.4\n",
       "1    0  setosa  Petal   Width    0.2\n",
       "2    0  setosa  Sepal  Length    5.1\n",
       "3    0  setosa  Sepal   Width    3.5\n",
       "4    1  setosa  Petal  Length    1.4\n",
       "5    1  setosa  Petal   Width    0.2\n",
       "6    1  setosa  Sepal  Length    4.9\n",
       "7    1  setosa  Sepal   Width    3.0\n",
       "8    2  setosa  Petal  Length    1.3\n",
       "9    2  setosa  Petal   Width    0.2\n",
       "10   2  setosa  Sepal  Length    4.7\n",
       "11   2  setosa  Sepal   Width    3.2"
      ]
     },
     "execution_count": 2,
     "metadata": {},
     "output_type": "execute_result"
    }
   ],
   "source": [
    "answer = pandas.read_csv(\"answer.csv\")\n",
    "answer"
   ]
  },
  {
   "cell_type": "markdown",
   "metadata": {},
   "source": [
    "Notice each row of the original data set is now four rows of the derived one. This \"tall form\" is often useful for plotting.\n",
    "\n",
    "This sort of conversion can be called an anti-pivot. In Python these sorts of transforms are specified with\n",
    "[pandas.DataFrame.pivot](https://pandas.pydata.org/pandas-docs/stable/reference/api/pandas.DataFrame.pivot.html), [pandas.pivot_table](https://pandas.pydata.org/pandas-docs/stable/reference/api/pandas.pivot_table.html), [pandas.melt](https://pandas.pydata.org/pandas-docs/stable/reference/api/pandas.melt.html), \n",
    "and others. Many [R](https://www.r-project.org) packages supply related operators: [reshape]( https://CRAN.R-project.org/package=reshape), [reshape2](https://CRAN.R-project.org/package=reshape2),\n",
    "[data.table](https://CRAN.R-project.org/package=data.table), [tidyr](https://CRAN.R-project.org/package=tidyr), [cdata](https://CRAN.R-project.org/package=cdata), and more.  \n",
    "We feel the [data_algebra](https://github.com/WinVector/data_algebra) and [cdata](https://CRAN.R-project.org/package=cdata) methods (which only perform data-reshaping, and not aggregation) offer a number of significant advantages \n",
    "(some of which we have already mentioned, and a few more of which we will see demonstrated in this note).\n",
    "\n",
    "Back to our example.\n",
    "\n",
    "To specify our desired transform, we build a structure describing what a data record looks like. We can crib this specification from the answer as follows."
   ]
  },
  {
   "cell_type": "code",
   "execution_count": 3,
   "metadata": {
    "collapsed": false,
    "jupyter": {
     "outputs_hidden": false
    },
    "pycharm": {
     "is_executing": false,
     "name": "#%%\n"
    }
   },
   "outputs": [
    {
     "data": {
      "text/html": [
       "<div>\n",
       "<style scoped>\n",
       "    .dataframe tbody tr th:only-of-type {\n",
       "        vertical-align: middle;\n",
       "    }\n",
       "\n",
       "    .dataframe tbody tr th {\n",
       "        vertical-align: top;\n",
       "    }\n",
       "\n",
       "    .dataframe thead th {\n",
       "        text-align: right;\n",
       "    }\n",
       "</style>\n",
       "<table border=\"1\" class=\"dataframe\">\n",
       "  <thead>\n",
       "    <tr style=\"text-align: right;\">\n",
       "      <th></th>\n",
       "      <th>Part</th>\n",
       "      <th>Measure</th>\n",
       "      <th>Value</th>\n",
       "    </tr>\n",
       "  </thead>\n",
       "  <tbody>\n",
       "    <tr>\n",
       "      <th>0</th>\n",
       "      <td>Petal</td>\n",
       "      <td>Length</td>\n",
       "      <td>Petal.Length</td>\n",
       "    </tr>\n",
       "    <tr>\n",
       "      <th>1</th>\n",
       "      <td>Petal</td>\n",
       "      <td>Width</td>\n",
       "      <td>Petal.Width</td>\n",
       "    </tr>\n",
       "    <tr>\n",
       "      <th>2</th>\n",
       "      <td>Sepal</td>\n",
       "      <td>Length</td>\n",
       "      <td>Sepal.Length</td>\n",
       "    </tr>\n",
       "    <tr>\n",
       "      <th>3</th>\n",
       "      <td>Sepal</td>\n",
       "      <td>Width</td>\n",
       "      <td>Sepal.Width</td>\n",
       "    </tr>\n",
       "  </tbody>\n",
       "</table>\n",
       "</div>"
      ],
      "text/plain": [
       "    Part Measure         Value\n",
       "0  Petal  Length  Petal.Length\n",
       "1  Petal   Width   Petal.Width\n",
       "2  Sepal  Length  Sepal.Length\n",
       "3  Sepal   Width   Sepal.Width"
      ]
     },
     "execution_count": 3,
     "metadata": {},
     "output_type": "execute_result"
    }
   ],
   "source": [
    "control_table = answer.loc[answer.id == 0, ['Part', 'Measure']]\n",
    "control_table = control_table.reset_index(inplace=False, drop=True)\n",
    "control_table[\"Value\"] = [control_table['Part'][i] + '.' + control_table['Measure'][i] for \n",
    "                            i in range(control_table.shape[0])]\n",
    "control_table"
   ]
  },
  {
   "cell_type": "markdown",
   "metadata": {
    "pycharm": {
     "name": "#%% md\n"
    }
   },
   "source": [
    "We can derive the control table from the answer, as we did here, or just type one in directly.  The idea is: we can\n",
    "use any method we want to derive the prototype record shape, we are not limited to a sub-query language or methodology\n",
    "from any one package.\n",
    "\n",
    "For each record\n",
    "we take care to identify what keys identify records (the `record_keys`) and want parts identify rows within the record\n",
    "(the `control_table_keys`).  We suppress the `record_key` when writing the control table, as these are exactly \n",
    "the values that do not vary inside each record.\n",
    "\n",
    "We combine all of these specification into a `RecordSpecification` as follows:"
   ]
  },
  {
   "cell_type": "code",
   "execution_count": 4,
   "metadata": {
    "collapsed": false,
    "jupyter": {
     "outputs_hidden": false
    },
    "pycharm": {
     "is_executing": false,
     "name": "#%%\n"
    }
   },
   "outputs": [
    {
     "data": {
      "text/plain": [
       "RecordSpecification\n",
       "   record_keys: ['id', 'Species']\n",
       "   control_table_keys: ['Part', 'Measure']\n",
       "   control_table:\n",
       "       Part Measure         Value\n",
       "   0  Petal  Length  Petal.Length\n",
       "   1  Petal   Width   Petal.Width\n",
       "   2  Sepal  Length  Sepal.Length\n",
       "   3  Sepal   Width   Sepal.Width"
      ]
     },
     "execution_count": 4,
     "metadata": {},
     "output_type": "execute_result"
    }
   ],
   "source": [
    "record_spec = data_algebra.cdata.RecordSpecification(\n",
    "    control_table,\n",
    "    control_table_keys = ['Part', 'Measure'],\n",
    "    record_keys = ['id', 'Species']\n",
    "    )\n",
    "record_spec"
   ]
  },
  {
   "cell_type": "markdown",
   "metadata": {},
   "source": [
    "In this notation any cells of the control table from columns that are not `control_table_keys` are \"value stand ins\".  During data transfrom these cells will be replaced by values coming from the columns named by these cells.\n",
    "\n",
    "Now we can transform our original row-record oriented data into general block records.  To do this we specify a `RecordMap` using our record specification to describe the outgoing record structure. The incoming record structure is implicitly assumed to be single-row records, unless we specify otherwise (using the `blocks_in` argument)."
   ]
  },
  {
   "cell_type": "code",
   "execution_count": 5,
   "metadata": {
    "collapsed": false,
    "jupyter": {
     "outputs_hidden": false
    },
    "pycharm": {
     "is_executing": false,
     "name": "#%%\n"
    }
   },
   "outputs": [
    {
     "name": "stdout",
     "output_type": "stream",
     "text": [
      "Transform row records of the form:\n",
      "  record_keys: ['id', 'Species']\n",
      " ['id', 'Species', 'Petal.Length', 'Petal.Width', 'Sepal.Length', 'Sepal.Width']\n",
      "to block records of structure:\n",
      "RecordSpecification\n",
      "   record_keys: ['id', 'Species']\n",
      "   control_table_keys: ['Part', 'Measure']\n",
      "   control_table:\n",
      "       Part Measure         Value\n",
      "   0  Petal  Length  Petal.Length\n",
      "   1  Petal   Width   Petal.Width\n",
      "   2  Sepal  Length  Sepal.Length\n",
      "   3  Sepal   Width   Sepal.Width\n",
      "\n"
     ]
    }
   ],
   "source": [
    "mp_to_blocks = data_algebra.cdata_impl.RecordMap(blocks_out=record_spec)\n",
    "print(str(mp_to_blocks))"
   ]
  },
  {
   "cell_type": "markdown",
   "metadata": {},
   "source": [
    "And we are ready to apply our specified transform."
   ]
  },
  {
   "cell_type": "code",
   "execution_count": 6,
   "metadata": {
    "pycharm": {
     "is_executing": false
    }
   },
   "outputs": [
    {
     "data": {
      "text/html": [
       "<div>\n",
       "<style scoped>\n",
       "    .dataframe tbody tr th:only-of-type {\n",
       "        vertical-align: middle;\n",
       "    }\n",
       "\n",
       "    .dataframe tbody tr th {\n",
       "        vertical-align: top;\n",
       "    }\n",
       "\n",
       "    .dataframe thead th {\n",
       "        text-align: right;\n",
       "    }\n",
       "</style>\n",
       "<table border=\"1\" class=\"dataframe\">\n",
       "  <thead>\n",
       "    <tr style=\"text-align: right;\">\n",
       "      <th></th>\n",
       "      <th>id</th>\n",
       "      <th>Species</th>\n",
       "      <th>Part</th>\n",
       "      <th>Measure</th>\n",
       "      <th>Value</th>\n",
       "    </tr>\n",
       "  </thead>\n",
       "  <tbody>\n",
       "    <tr>\n",
       "      <th>0</th>\n",
       "      <td>0</td>\n",
       "      <td>setosa</td>\n",
       "      <td>Petal</td>\n",
       "      <td>Length</td>\n",
       "      <td>1.4</td>\n",
       "    </tr>\n",
       "    <tr>\n",
       "      <th>1</th>\n",
       "      <td>0</td>\n",
       "      <td>setosa</td>\n",
       "      <td>Petal</td>\n",
       "      <td>Width</td>\n",
       "      <td>0.2</td>\n",
       "    </tr>\n",
       "    <tr>\n",
       "      <th>2</th>\n",
       "      <td>0</td>\n",
       "      <td>setosa</td>\n",
       "      <td>Sepal</td>\n",
       "      <td>Length</td>\n",
       "      <td>5.1</td>\n",
       "    </tr>\n",
       "    <tr>\n",
       "      <th>3</th>\n",
       "      <td>0</td>\n",
       "      <td>setosa</td>\n",
       "      <td>Sepal</td>\n",
       "      <td>Width</td>\n",
       "      <td>3.5</td>\n",
       "    </tr>\n",
       "    <tr>\n",
       "      <th>4</th>\n",
       "      <td>1</td>\n",
       "      <td>setosa</td>\n",
       "      <td>Petal</td>\n",
       "      <td>Length</td>\n",
       "      <td>1.4</td>\n",
       "    </tr>\n",
       "    <tr>\n",
       "      <th>5</th>\n",
       "      <td>1</td>\n",
       "      <td>setosa</td>\n",
       "      <td>Petal</td>\n",
       "      <td>Width</td>\n",
       "      <td>0.2</td>\n",
       "    </tr>\n",
       "    <tr>\n",
       "      <th>6</th>\n",
       "      <td>1</td>\n",
       "      <td>setosa</td>\n",
       "      <td>Sepal</td>\n",
       "      <td>Length</td>\n",
       "      <td>4.9</td>\n",
       "    </tr>\n",
       "    <tr>\n",
       "      <th>7</th>\n",
       "      <td>1</td>\n",
       "      <td>setosa</td>\n",
       "      <td>Sepal</td>\n",
       "      <td>Width</td>\n",
       "      <td>3.0</td>\n",
       "    </tr>\n",
       "    <tr>\n",
       "      <th>8</th>\n",
       "      <td>2</td>\n",
       "      <td>setosa</td>\n",
       "      <td>Petal</td>\n",
       "      <td>Length</td>\n",
       "      <td>1.3</td>\n",
       "    </tr>\n",
       "    <tr>\n",
       "      <th>9</th>\n",
       "      <td>2</td>\n",
       "      <td>setosa</td>\n",
       "      <td>Petal</td>\n",
       "      <td>Width</td>\n",
       "      <td>0.2</td>\n",
       "    </tr>\n",
       "    <tr>\n",
       "      <th>10</th>\n",
       "      <td>2</td>\n",
       "      <td>setosa</td>\n",
       "      <td>Sepal</td>\n",
       "      <td>Length</td>\n",
       "      <td>4.7</td>\n",
       "    </tr>\n",
       "    <tr>\n",
       "      <th>11</th>\n",
       "      <td>2</td>\n",
       "      <td>setosa</td>\n",
       "      <td>Sepal</td>\n",
       "      <td>Width</td>\n",
       "      <td>3.2</td>\n",
       "    </tr>\n",
       "  </tbody>\n",
       "</table>\n",
       "</div>"
      ],
      "text/plain": [
       "    id Species   Part Measure  Value\n",
       "0    0  setosa  Petal  Length    1.4\n",
       "1    0  setosa  Petal   Width    0.2\n",
       "2    0  setosa  Sepal  Length    5.1\n",
       "3    0  setosa  Sepal   Width    3.5\n",
       "4    1  setosa  Petal  Length    1.4\n",
       "5    1  setosa  Petal   Width    0.2\n",
       "6    1  setosa  Sepal  Length    4.9\n",
       "7    1  setosa  Sepal   Width    3.0\n",
       "8    2  setosa  Petal  Length    1.3\n",
       "9    2  setosa  Petal   Width    0.2\n",
       "10   2  setosa  Sepal  Length    4.7\n",
       "11   2  setosa  Sepal   Width    3.2"
      ]
     },
     "execution_count": 6,
     "metadata": {},
     "output_type": "execute_result"
    }
   ],
   "source": [
    "arranged_blocks = mp_to_blocks.transform(iris)\n",
    "arranged_blocks"
   ]
  },
  {
   "cell_type": "markdown",
   "metadata": {},
   "source": [
    "We see the operation has been performed for us. Notice we specify the transform *declaratively* with data structures carrying deceptions of what we want, instead of having to build a sequence of verbs that realize the transformation."
   ]
  },
  {
   "cell_type": "markdown",
   "metadata": {},
   "source": [
    "### Inverting the transform\n",
    "\n",
    "An inverse transform is simply expressed by reversing the roles of the `blocks_out` and `blocks_in` arguments. In this case the output is row-records, as we didn't specify an outgoing block structure with `blocks_out`."
   ]
  },
  {
   "cell_type": "code",
   "execution_count": 7,
   "metadata": {
    "collapsed": false,
    "jupyter": {
     "outputs_hidden": false
    },
    "pycharm": {
     "is_executing": false,
     "name": "#%%\n"
    }
   },
   "outputs": [
    {
     "name": "stdout",
     "output_type": "stream",
     "text": [
      "Transform block records of structure:\n",
      "RecordSpecification\n",
      "   record_keys: ['id', 'Species']\n",
      "   control_table_keys: ['Part', 'Measure']\n",
      "   control_table:\n",
      "       Part Measure         Value\n",
      "   0  Petal  Length  Petal.Length\n",
      "   1  Petal   Width   Petal.Width\n",
      "   2  Sepal  Length  Sepal.Length\n",
      "   3  Sepal   Width   Sepal.Width\n",
      "to row records of the form:\n",
      "  record_keys: ['id', 'Species']\n",
      " ['id', 'Species', 'Petal.Length', 'Petal.Width', 'Sepal.Length', 'Sepal.Width']\n",
      "\n"
     ]
    }
   ],
   "source": [
    "mp_to_rows = data_algebra.cdata_impl.RecordMap(blocks_in=record_spec)\n",
    "print(str(mp_to_rows))"
   ]
  },
  {
   "cell_type": "code",
   "execution_count": 8,
   "metadata": {
    "pycharm": {
     "is_executing": false
    }
   },
   "outputs": [
    {
     "data": {
      "text/html": [
       "<div>\n",
       "<style scoped>\n",
       "    .dataframe tbody tr th:only-of-type {\n",
       "        vertical-align: middle;\n",
       "    }\n",
       "\n",
       "    .dataframe tbody tr th {\n",
       "        vertical-align: top;\n",
       "    }\n",
       "\n",
       "    .dataframe thead th {\n",
       "        text-align: right;\n",
       "    }\n",
       "</style>\n",
       "<table border=\"1\" class=\"dataframe\">\n",
       "  <thead>\n",
       "    <tr style=\"text-align: right;\">\n",
       "      <th></th>\n",
       "      <th>id</th>\n",
       "      <th>Species</th>\n",
       "      <th>Petal.Length</th>\n",
       "      <th>Petal.Width</th>\n",
       "      <th>Sepal.Length</th>\n",
       "      <th>Sepal.Width</th>\n",
       "    </tr>\n",
       "  </thead>\n",
       "  <tbody>\n",
       "    <tr>\n",
       "      <th>0</th>\n",
       "      <td>0</td>\n",
       "      <td>setosa</td>\n",
       "      <td>1.4</td>\n",
       "      <td>0.2</td>\n",
       "      <td>5.1</td>\n",
       "      <td>3.5</td>\n",
       "    </tr>\n",
       "    <tr>\n",
       "      <th>1</th>\n",
       "      <td>1</td>\n",
       "      <td>setosa</td>\n",
       "      <td>1.4</td>\n",
       "      <td>0.2</td>\n",
       "      <td>4.9</td>\n",
       "      <td>3.0</td>\n",
       "    </tr>\n",
       "    <tr>\n",
       "      <th>2</th>\n",
       "      <td>2</td>\n",
       "      <td>setosa</td>\n",
       "      <td>1.3</td>\n",
       "      <td>0.2</td>\n",
       "      <td>4.7</td>\n",
       "      <td>3.2</td>\n",
       "    </tr>\n",
       "  </tbody>\n",
       "</table>\n",
       "</div>"
      ],
      "text/plain": [
       "   id Species  Petal.Length  Petal.Width  Sepal.Length  Sepal.Width\n",
       "0   0  setosa           1.4          0.2           5.1          3.5\n",
       "1   1  setosa           1.4          0.2           4.9          3.0\n",
       "2   2  setosa           1.3          0.2           4.7          3.2"
      ]
     },
     "execution_count": 8,
     "metadata": {},
     "output_type": "execute_result"
    }
   ],
   "source": [
    "arranged_rows = mp_to_rows.transform(arranged_blocks)\n",
    "arranged_rows"
   ]
  },
  {
   "cell_type": "markdown",
   "metadata": {
    "pycharm": {
     "name": "#%% md\n"
    }
   },
   "source": [
    "## Arbitrary transforms\n",
    "\n",
    "Arbitrary record to record transforms can be specified by setting both `blocks_in` (to describe incoming structure) \n",
    "and `blocks_out` (to describe outgoing structure) at the same time.  \n",
    "\n",
    "## Transforms in databases\n",
    "\n",
    "`data_algebra` also implements all the transform steps in databases using [`SQL`](https://en.wikipedia.org/wiki/SQL) \n",
    "(via `row_recs_to_blocks_query()` and `blocks_to_row_recs_query()`).\n",
    "\n",
    "These queries can be seen below."
   ]
  },
  {
   "cell_type": "code",
   "execution_count": 9,
   "metadata": {
    "collapsed": false,
    "jupyter": {
     "outputs_hidden": false
    },
    "pycharm": {
     "is_executing": false,
     "name": "#%%\n"
    }
   },
   "outputs": [],
   "source": [
    "db_model = data_algebra.SQLite.SQLiteModel()"
   ]
  },
  {
   "cell_type": "code",
   "execution_count": 10,
   "metadata": {
    "pycharm": {
     "is_executing": false
    }
   },
   "outputs": [
    {
     "name": "stdout",
     "output_type": "stream",
     "text": [
      "SELECT\n",
      " a.\"id\" AS \"id\",\n",
      " a.\"Species\" AS \"Species\",\n",
      " b.\"Part\" AS \"Part\",\n",
      " b.\"Measure\" AS \"Measure\",\n",
      " CASE\n",
      "  WHEN b.\"Value\" = 'Petal.Length' THEN a.\"Petal.Length\"\n",
      "  WHEN b.\"Value\" = 'Petal.Width' THEN a.\"Petal.Width\"\n",
      "  WHEN b.\"Value\" = 'Sepal.Length' THEN a.\"Sepal.Length\"\n",
      "  WHEN b.\"Value\" = 'Sepal.Width' THEN a.\"Sepal.Width\"\n",
      "  ELSE NULL END AS \"Value\"\n",
      "FROM (\n",
      "  \"iris\" ) a\n",
      "CROSS JOIN (\n",
      "  \"control_table\" ) b\n",
      " ORDER BY a.\"id\", a.\"Species\", b.\"Part\", b.\"Measure\"\n"
     ]
    }
   ],
   "source": [
    "print(db_model.row_recs_to_blocks_query(\n",
    "    source_view=data_algebra.data_ops.describe_pandas_table(\n",
    "        iris, 'iris'),\n",
    "    record_spec=record_spec,\n",
    "    record_view=data_algebra.data_ops.describe_pandas_table(\n",
    "        record_spec.control_table, \"control_table\")\n",
    "))"
   ]
  },
  {
   "cell_type": "code",
   "execution_count": 11,
   "metadata": {
    "collapsed": false,
    "jupyter": {
     "outputs_hidden": false
    },
    "pycharm": {
     "is_executing": false,
     "name": "#%%\n"
    }
   },
   "outputs": [
    {
     "name": "stdout",
     "output_type": "stream",
     "text": [
      "SELECT\n",
      " \"id\" AS \"id\",\n",
      " \"Species\" AS \"Species\",\n",
      " MAX(CASE WHEN  ( \"Part\" = 'Petal' )  AND  ( \"Measure\" = 'Length' )  THEN \"Value\" ELSE NULL END) AS \"Petal.Length\",\n",
      " MAX(CASE WHEN  ( \"Part\" = 'Petal' )  AND  ( \"Measure\" = 'Width' )  THEN \"Value\" ELSE NULL END) AS \"Petal.Width\",\n",
      " MAX(CASE WHEN  ( \"Part\" = 'Sepal' )  AND  ( \"Measure\" = 'Length' )  THEN \"Value\" ELSE NULL END) AS \"Sepal.Length\",\n",
      " MAX(CASE WHEN  ( \"Part\" = 'Sepal' )  AND  ( \"Measure\" = 'Width' )  THEN \"Value\" ELSE NULL END) AS \"Sepal.Width\"\n",
      "FROM (\n",
      "  \"iris\"\n",
      " )\n",
      " GROUP BY \"id\", \"Species\"\n",
      " ORDER BY \"id\", \"Species\"\n"
     ]
    }
   ],
   "source": [
    "print(db_model.blocks_to_row_recs_query(\n",
    "    source_view=data_algebra.data_ops.describe_pandas_table(\n",
    "        iris, 'iris'),\n",
    "    record_spec=record_spec\n",
    "))"
   ]
  },
  {
   "cell_type": "markdown",
   "metadata": {
    "pycharm": {
     "name": "#%% md\n"
    }
   },
   "source": [
    "The use case for `SQL` queries is: the queries can be used to with \"`CREATE TABLE table_name AS`\" to materialize transform results in a database, without round-tripping the data in and out of the database.\n",
    "\n",
    "As complicated as the queries look, they actually expose some deep truths:\n",
    "\n",
    "  * The `row_recs_to_blocks_query()` is essentially a cross-join of the data to the record description.  Each combination of data row and record description row builds a new result row.\n",
    "\n",
    "  * The `blocks_to_row_recs_query()` is an aggregation.  Each set of rows corresponding to a given data record is aggregated into a single result row.\n",
    "  \n",
    "  * Just about any arbitrary record shape to arbitrary record shape can be written as a transform from the first record shape to row-records (record sets that have exactly one row per record), followed by a transform from the row-records to the new format.  This transform can preserve column types as in the intermediate form each different record entry has its own column.  This is an advantage of using a \"thin\" intermediate form such as [RDF triples](https://en.wikipedia.org/wiki/Semantic_triple).\n",
    "\n",
    "This leads us to believe that transforming to and from single-row records are in fact fundemental operations, and\n",
    "not just implementation details.\n",
    "\n",
    "## The R `cdata` version\n",
    "\n",
    "The `data_algebra` had been previously implemented in \n",
    "[R](https://www.r-project.org) in the [`cdata`](https://github.com/WinVector/cdata), [`rquery`](https://github.com/WinVector/rquery), and [`rqdatatable`](https://github.com/WinVector/rqdatatable) packages.\n",
    "This packages support both in-memory operations and translation of the transforms to SQL.\n",
    "\n",
    "We would perform the above transforms in R as follows.\n",
    "\n",
    "First we write out a copy of the transform."
   ]
  },
  {
   "cell_type": "code",
   "execution_count": 12,
   "metadata": {
    "collapsed": false,
    "jupyter": {
     "outputs_hidden": false
    },
    "pycharm": {
     "is_executing": false,
     "name": "#%%\n"
    }
   },
   "outputs": [],
   "source": [
    "# convert objects to a YAML string\n",
    "xform_rep = yaml.dump(mp_to_blocks.to_simple_obj())\n",
    "# write to file\n",
    "with open(\"xform_yaml.txt\", \"wt\") as f:\n",
    "    print(xform_rep, file=f)"
   ]
  },
  {
   "cell_type": "markdown",
   "metadata": {
    "pycharm": {
     "name": "#%% md\n"
    }
   },
   "source": [
    "Now we we start up our R environment and read in the transform specification and data."
   ]
  },
  {
   "cell_type": "code",
   "execution_count": 13,
   "metadata": {
    "pycharm": {
     "is_executing": false
    }
   },
   "outputs": [],
   "source": [
    "%load_ext rpy2.ipython"
   ]
  },
  {
   "cell_type": "code",
   "execution_count": 14,
   "metadata": {
    "pycharm": {
     "is_executing": false
    }
   },
   "outputs": [
    {
     "name": "stdout",
     "output_type": "stream",
     "text": [
      "  Sepal.Length Sepal.Width Petal.Length Petal.Width Species id\n",
      "1          5.1         3.5          1.4         0.2  setosa  0\n",
      "2          4.9         3.0          1.4         0.2  setosa  1\n",
      "3          4.7         3.2          1.3         0.2  setosa  2\n"
     ]
    }
   ],
   "source": [
    "%%R\n",
    "\n",
    "# install.packages(\"cdata\")\n",
    "library(cdata)\n",
    "library(yaml)\n",
    "# https://github.com/WinVector/data_algebra/blob/master/Examples/cdata/cdata_yaml.R\n",
    "source(\"cdata_yaml.R\")\n",
    "\n",
    "iris <- read.csv('iris_small.csv')\n",
    "print(iris)\n"
   ]
  },
  {
   "cell_type": "code",
   "execution_count": 15,
   "metadata": {
    "pycharm": {
     "is_executing": false
    }
   },
   "outputs": [
    {
     "name": "stdout",
     "output_type": "stream",
     "text": [
      "{\n",
      " row_record <- wrapr::qchar_frame(\n",
      "   \"id\"  , \"Species\", \"Petal.Length\", \"Petal.Width\", \"Sepal.Length\", \"Sepal.Width\" |\n",
      "     .   , .        , Petal.Length  , Petal.Width  , Sepal.Length  , Sepal.Width   )\n",
      " row_keys <- c('id', 'Species')\n",
      "\n",
      " # becomes\n",
      "\n",
      " block_record <- wrapr::qchar_frame(\n",
      "   \"id\"  , \"Species\", \"Part\" , \"Measure\", \"Value\"      |\n",
      "     .   , .        , \"Petal\", \"Length\" , Petal.Length |\n",
      "     .   , .        , \"Petal\", \"Width\"  , Petal.Width  |\n",
      "     .   , .        , \"Sepal\", \"Length\" , Sepal.Length |\n",
      "     .   , .        , \"Sepal\", \"Width\"  , Sepal.Width  )\n",
      " block_keys <- c('id', 'Species', 'Part', 'Measure')\n",
      "\n",
      " # args: c(checkNames = TRUE, checkKeys = FALSE, strict = FALSE, allow_rqdatatable = TRUE)\n",
      "}\n",
      "\n"
     ]
    }
   ],
   "source": [
    "%%R\n",
    "\n",
    "r_yaml <- yaml.load_file(\"xform_yaml.txt\")\n",
    "transform <- convert_yaml_to_cdata_spec(r_yaml)\n",
    "\n",
    "print(transform)"
   ]
  },
  {
   "cell_type": "markdown",
   "metadata": {},
   "source": [
    "Now that we have recovered the transform, we can use it in R."
   ]
  },
  {
   "cell_type": "code",
   "execution_count": 16,
   "metadata": {
    "pycharm": {
     "is_executing": false
    }
   },
   "outputs": [
    {
     "name": "stdout",
     "output_type": "stream",
     "text": [
      "   id Species  Part Measure Value\n",
      "1   0  setosa Petal  Length   1.4\n",
      "2   0  setosa Petal   Width   0.2\n",
      "3   0  setosa Sepal  Length   5.1\n",
      "4   0  setosa Sepal   Width   3.5\n",
      "5   1  setosa Petal  Length   1.4\n",
      "6   1  setosa Petal   Width   0.2\n",
      "7   1  setosa Sepal  Length   4.9\n",
      "8   1  setosa Sepal   Width   3.0\n",
      "9   2  setosa Petal  Length   1.3\n",
      "10  2  setosa Petal   Width   0.2\n",
      "11  2  setosa Sepal  Length   4.7\n",
      "12  2  setosa Sepal   Width   3.2\n"
     ]
    }
   ],
   "source": [
    "%%R\n",
    "\n",
    "iris %.>% transform"
   ]
  },
  {
   "cell_type": "markdown",
   "metadata": {},
   "source": [
    "### Cross-language work\n",
    "\n",
    "As the record transform specifications, both in Python `data_algebra` and R `cata` are simple data structures (just \n",
    "the control table, and a few lists of key column names), they can be moved from one language to another by `YAML` (as we also demonstrated\n",
    "in the [logistic scoring example](https://github.com/WinVector/data_algebra/blob/master/Examples/LogisticExample/ScoringExample.ipynb).\n",
    "\n",
    "`data_algebra` supplies a write method, so cross-language interoperation is just a matter of adding additional read/write methods."
   ]
  },
  {
   "cell_type": "code",
   "execution_count": 17,
   "metadata": {
    "pycharm": {
     "is_executing": false
    }
   },
   "outputs": [
    {
     "name": "stdout",
     "output_type": "stream",
     "text": [
      "type: data_algebra.cdata_impl.RecordMap\n",
      "blocks_out:\n",
      "  type: data_algebra.cdata.RecordSpecification\n",
      "  record_keys:\n",
      "  - id\n",
      "  - Species\n",
      "  control_table_keys:\n",
      "  - Part\n",
      "  - Measure\n",
      "  control_table:\n",
      "    Part:\n",
      "    - Petal\n",
      "    - Petal\n",
      "    - Sepal\n",
      "    - Sepal\n",
      "    Measure:\n",
      "    - Length\n",
      "    - Width\n",
      "    - Length\n",
      "    - Width\n",
      "    Value:\n",
      "    - Petal.Length\n",
      "    - Petal.Width\n",
      "    - Sepal.Length\n",
      "    - Sepal.Width\n",
      "\n"
     ]
    }
   ],
   "source": [
    "print(yaml.dump(mp_to_blocks.to_simple_obj()))"
   ]
  },
  {
   "cell_type": "markdown",
   "metadata": {},
   "source": [
    "## Conclusion\n",
    "\n",
    "The [`cdata`](https://github.com/WinVector/cdata) and [`data_algebra`](https://github.com/WinVector/data_algebra) systems yield powerful implementations, and deep understanding of the nature of record transformations.  They allow one to reshape data quickly and conveniently either in R. Python/[Pandas](https://pandas.pydata.org), or even SQL."
   ]
  }
 ],
 "metadata": {
  "kernelspec": {
   "display_name": "Python 3",
   "language": "python",
   "name": "python3"
  },
  "language_info": {
   "codemirror_mode": {
    "name": "ipython",
    "version": 3
   },
   "file_extension": ".py",
   "mimetype": "text/x-python",
   "name": "python",
   "nbconvert_exporter": "python",
   "pygments_lexer": "ipython3",
   "version": "3.6.9"
  },
  "pycharm": {
   "stem_cell": {
    "cell_type": "raw",
    "metadata": {
     "collapsed": false
    },
    "source": []
   }
  }
 },
 "nbformat": 4,
 "nbformat_minor": 4
}
