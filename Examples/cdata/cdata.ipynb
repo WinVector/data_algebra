{
 "cells": [
  {
   "cell_type": "markdown",
   "metadata": {
    "pycharm": {
     "is_executing": false
    }
   },
   "source": [
    "One of the great features of the [R](https://www.r-project.org) [cdata](https://github.com/WinVector/cdata) and Python [data_algebra](https://github.com/WinVector/data_algebra) data wrangling system is: it can print what a transform is going to do.  This makes reasoning about data transforms *much* easier.  Let's re-work a small [R cdata example](https://github.com/WinVector/cdata/blob/master/vignettes/control_table_keys.Rmd), using the Python package [data_algebra](https://github.com/WinVector/data_algebra).\n",
    "\n",
    "First we import some modules and packages, and type in some notional data."
   ]
  },
  {
   "cell_type": "code",
   "execution_count": 1,
   "metadata": {
    "pycharm": {
     "is_executing": false
    }
   },
   "outputs": [
    {
     "data": {
      "text/plain": "   Sepal.Length  Sepal.Width  Petal.Length  Petal.Width Species  id\n0           5.1          3.5           1.4          0.2  setosa   0\n1           4.9          3.0           1.4          0.2  setosa   1\n2           4.7          3.2           1.3          0.2  setosa   2",
      "text/html": "<div>\n<style scoped>\n    .dataframe tbody tr th:only-of-type {\n        vertical-align: middle;\n    }\n\n    .dataframe tbody tr th {\n        vertical-align: top;\n    }\n\n    .dataframe thead th {\n        text-align: right;\n    }\n</style>\n<table border=\"1\" class=\"dataframe\">\n  <thead>\n    <tr style=\"text-align: right;\">\n      <th></th>\n      <th>Sepal.Length</th>\n      <th>Sepal.Width</th>\n      <th>Petal.Length</th>\n      <th>Petal.Width</th>\n      <th>Species</th>\n      <th>id</th>\n    </tr>\n  </thead>\n  <tbody>\n    <tr>\n      <th>0</th>\n      <td>5.1</td>\n      <td>3.5</td>\n      <td>1.4</td>\n      <td>0.2</td>\n      <td>setosa</td>\n      <td>0</td>\n    </tr>\n    <tr>\n      <th>1</th>\n      <td>4.9</td>\n      <td>3.0</td>\n      <td>1.4</td>\n      <td>0.2</td>\n      <td>setosa</td>\n      <td>1</td>\n    </tr>\n    <tr>\n      <th>2</th>\n      <td>4.7</td>\n      <td>3.2</td>\n      <td>1.3</td>\n      <td>0.2</td>\n      <td>setosa</td>\n      <td>2</td>\n    </tr>\n  </tbody>\n</table>\n</div>"
     },
     "metadata": {},
     "output_type": "execute_result",
     "execution_count": 1
    }
   ],
   "source": [
    "import pandas\n",
    "import yaml\n",
    "\n",
    "import data_algebra.cdata\n",
    "import data_algebra.cdata_impl\n",
    "import data_algebra.yaml\n",
    "\n",
    "# ask YAML to write simpler structures\n",
    "data_algebra.yaml.fix_ordered_dict_yaml_rep()\n",
    "\n",
    "iris = pandas.read_csv('iris_small.csv')\n",
    "iris"
   ]
  },
  {
   "cell_type": "markdown",
   "metadata": {},
   "source": [
    "Our goal is to move from this normalized or wide-form into a tall form where information that is currently in multiple columns in a single row is in many rows with descriptive row-keys.\n",
    "\n",
    "Or concretely we want our data to look like the following."
   ]
  },
  {
   "cell_type": "code",
   "execution_count": 2,
   "metadata": {
    "pycharm": {
     "is_executing": false
    }
   },
   "outputs": [
    {
     "data": {
      "text/plain": "    id Species   Part Measure  Value\n0    0  setosa  Petal  Length    1.4\n1    0  setosa  Petal   Width    0.2\n2    0  setosa  Sepal  Length    5.1\n3    0  setosa  Sepal   Width    3.5\n4    1  setosa  Petal  Length    1.4\n5    1  setosa  Petal   Width    0.2\n6    1  setosa  Sepal  Length    4.9\n7    1  setosa  Sepal   Width    3.0\n8    2  setosa  Petal  Length    1.3\n9    2  setosa  Petal   Width    0.2\n10   2  setosa  Sepal  Length    4.7\n11   2  setosa  Sepal   Width    3.2",
      "text/html": "<div>\n<style scoped>\n    .dataframe tbody tr th:only-of-type {\n        vertical-align: middle;\n    }\n\n    .dataframe tbody tr th {\n        vertical-align: top;\n    }\n\n    .dataframe thead th {\n        text-align: right;\n    }\n</style>\n<table border=\"1\" class=\"dataframe\">\n  <thead>\n    <tr style=\"text-align: right;\">\n      <th></th>\n      <th>id</th>\n      <th>Species</th>\n      <th>Part</th>\n      <th>Measure</th>\n      <th>Value</th>\n    </tr>\n  </thead>\n  <tbody>\n    <tr>\n      <th>0</th>\n      <td>0</td>\n      <td>setosa</td>\n      <td>Petal</td>\n      <td>Length</td>\n      <td>1.4</td>\n    </tr>\n    <tr>\n      <th>1</th>\n      <td>0</td>\n      <td>setosa</td>\n      <td>Petal</td>\n      <td>Width</td>\n      <td>0.2</td>\n    </tr>\n    <tr>\n      <th>2</th>\n      <td>0</td>\n      <td>setosa</td>\n      <td>Sepal</td>\n      <td>Length</td>\n      <td>5.1</td>\n    </tr>\n    <tr>\n      <th>3</th>\n      <td>0</td>\n      <td>setosa</td>\n      <td>Sepal</td>\n      <td>Width</td>\n      <td>3.5</td>\n    </tr>\n    <tr>\n      <th>4</th>\n      <td>1</td>\n      <td>setosa</td>\n      <td>Petal</td>\n      <td>Length</td>\n      <td>1.4</td>\n    </tr>\n    <tr>\n      <th>5</th>\n      <td>1</td>\n      <td>setosa</td>\n      <td>Petal</td>\n      <td>Width</td>\n      <td>0.2</td>\n    </tr>\n    <tr>\n      <th>6</th>\n      <td>1</td>\n      <td>setosa</td>\n      <td>Sepal</td>\n      <td>Length</td>\n      <td>4.9</td>\n    </tr>\n    <tr>\n      <th>7</th>\n      <td>1</td>\n      <td>setosa</td>\n      <td>Sepal</td>\n      <td>Width</td>\n      <td>3.0</td>\n    </tr>\n    <tr>\n      <th>8</th>\n      <td>2</td>\n      <td>setosa</td>\n      <td>Petal</td>\n      <td>Length</td>\n      <td>1.3</td>\n    </tr>\n    <tr>\n      <th>9</th>\n      <td>2</td>\n      <td>setosa</td>\n      <td>Petal</td>\n      <td>Width</td>\n      <td>0.2</td>\n    </tr>\n    <tr>\n      <th>10</th>\n      <td>2</td>\n      <td>setosa</td>\n      <td>Sepal</td>\n      <td>Length</td>\n      <td>4.7</td>\n    </tr>\n    <tr>\n      <th>11</th>\n      <td>2</td>\n      <td>setosa</td>\n      <td>Sepal</td>\n      <td>Width</td>\n      <td>3.2</td>\n    </tr>\n  </tbody>\n</table>\n</div>"
     },
     "metadata": {},
     "output_type": "execute_result",
     "execution_count": 2
    }
   ],
   "source": [
    "answer = pandas.read_csv(\"answer.csv\")\n",
    "answer"
   ]
  },
  {
   "cell_type": "markdown",
   "metadata": {},
   "source": [
    "First we build a structure describing what we thing a data record looks like.  The simplest data records are exactly rows, but often meaningful records span many rows.  So let's describe the record structure we want."
   ]
  },
  {
   "cell_type": "code",
   "execution_count": 3,
   "metadata": {
    "collapsed": false,
    "jupyter": {
     "outputs_hidden": false
    },
    "pycharm": {
     "is_executing": false,
     "name": "#%%\n"
    }
   },
   "outputs": [
    {
     "data": {
      "text/plain": "    Part Measure         Value\n0  Sepal  Length  Sepal.Length\n1  Sepal   Width   Sepal.Width\n2  Petal  Length  Petal.Length\n3  Petal   Width   Petal.Width",
      "text/html": "<div>\n<style scoped>\n    .dataframe tbody tr th:only-of-type {\n        vertical-align: middle;\n    }\n\n    .dataframe tbody tr th {\n        vertical-align: top;\n    }\n\n    .dataframe thead th {\n        text-align: right;\n    }\n</style>\n<table border=\"1\" class=\"dataframe\">\n  <thead>\n    <tr style=\"text-align: right;\">\n      <th></th>\n      <th>Part</th>\n      <th>Measure</th>\n      <th>Value</th>\n    </tr>\n  </thead>\n  <tbody>\n    <tr>\n      <th>0</th>\n      <td>Sepal</td>\n      <td>Length</td>\n      <td>Sepal.Length</td>\n    </tr>\n    <tr>\n      <th>1</th>\n      <td>Sepal</td>\n      <td>Width</td>\n      <td>Sepal.Width</td>\n    </tr>\n    <tr>\n      <th>2</th>\n      <td>Petal</td>\n      <td>Length</td>\n      <td>Petal.Length</td>\n    </tr>\n    <tr>\n      <th>3</th>\n      <td>Petal</td>\n      <td>Width</td>\n      <td>Petal.Width</td>\n    </tr>\n  </tbody>\n</table>\n</div>"
     },
     "metadata": {},
     "output_type": "execute_result",
     "execution_count": 3
    }
   ],
   "source": [
    "control_table = pandas.DataFrame({\n",
    "    'Part': [\"Sepal\", \"Sepal\", \"Petal\", \"Petal\"],\n",
    "    'Measure': [\"Length\", \"Width\", \"Length\", \"Width\"],\n",
    "    'Value': [\"Sepal.Length\", \"Sepal.Width\", \"Petal.Length\", \"Petal.Width\"]\n",
    "})\n",
    "control_table"
   ]
  },
  {
   "cell_type": "markdown",
   "source": [
    "Notice the above is literally an example of the desired record layout.  We then add a specification of which parts of the\n",
    "record are keys (tell us which row is which), which are values (to be filled out by the transform), and how\n",
    "we tell which rows are in the same record (the `record_key`).  This is shown below."
   ],
   "metadata": {
    "collapsed": false,
    "pycharm": {
     "name": "#%% md\n"
    }
   }
  },
  {
   "cell_type": "code",
   "execution_count": 4,
   "outputs": [
    {
     "data": {
      "text/plain": "RecordSpecification\n   record_keys: ['id', 'Species']\n   control_table_keys: ['Part', 'Measure']\n   control_table:\n       Part Measure         Value\n   0  Sepal  Length  Sepal.Length\n   1  Sepal   Width   Sepal.Width\n   2  Petal  Length  Petal.Length\n   3  Petal   Width   Petal.Width"
     },
     "metadata": {},
     "output_type": "execute_result",
     "execution_count": 4
    }
   ],
   "source": [
    "record_spec = data_algebra.cdata.RecordSpecification(\n",
    "    control_table,\n",
    "    control_table_keys = ['Part', 'Measure'],\n",
    "    record_keys = ['id', 'Species']\n",
    "    )\n",
    "record_spec"
   ],
   "metadata": {
    "collapsed": false,
    "pycharm": {
     "name": "#%%\n",
     "is_executing": false
    }
   }
  },
  {
   "cell_type": "markdown",
   "metadata": {},
   "source": [
    "The above is saying: we want each data record to be 4 rows internally keyed by the `Part` and `Measure` columns, and we expect which rows in a larger data frame that correspond to the same record to be identified by key-columns `id` and `Species`.  The \"A.B\" entries are stand-ins showing where we expect values to be placed.\n",
    "\n",
    "Now we can transform our original row-record oriented data into general block records.  To do this we specify a `RecordMap` using our record specification to describe the outgoing record structure. The incoming record structure is implicitly assumed to be single-row records, unless we specify otherwise (using the `blocks_in` argument)."
   ]
  },
  {
   "cell_type": "code",
   "execution_count": 5,
   "metadata": {
    "collapsed": false,
    "jupyter": {
     "outputs_hidden": false
    },
    "pycharm": {
     "is_executing": false,
     "name": "#%%\n"
    }
   },
   "outputs": [
    {
     "name": "stdout",
     "text": [
      "Transform row records of the form:\n  record_keys: ['id', 'Species']\n ['id', 'Species', 'Sepal.Length', 'Sepal.Width', 'Petal.Length', 'Petal.Width']\nto block records of structure:\nRecordSpecification\n   record_keys: ['id', 'Species']\n   control_table_keys: ['Part', 'Measure']\n   control_table:\n       Part Measure         Value\n   0  Sepal  Length  Sepal.Length\n   1  Sepal   Width   Sepal.Width\n   2  Petal  Length  Petal.Length\n   3  Petal   Width   Petal.Width\n\n"
     ],
     "output_type": "stream"
    }
   ],
   "source": [
    "mp_to_blocks = data_algebra.cdata_impl.RecordMap(blocks_out=record_spec)\n",
    "print(str(mp_to_blocks))"
   ]
  },
  {
   "cell_type": "markdown",
   "metadata": {},
   "source": [
    "Entries in the `RecordSpecification` that are not in columns mentioned `control_key_columns` are stand-in values that show where real values will later map. This is easiest to see by continuing the example.\n",
    "\n",
    "So let's apply our specified transform."
   ]
  },
  {
   "cell_type": "code",
   "execution_count": 6,
   "metadata": {
    "pycharm": {
     "is_executing": false
    }
   },
   "outputs": [
    {
     "data": {
      "text/plain": "    id Species   Part Measure  Value\n0    0  setosa  Petal  Length    1.4\n1    0  setosa  Petal   Width    0.2\n2    0  setosa  Sepal  Length    5.1\n3    0  setosa  Sepal   Width    3.5\n4    1  setosa  Petal  Length    1.4\n5    1  setosa  Petal   Width    0.2\n6    1  setosa  Sepal  Length    4.9\n7    1  setosa  Sepal   Width    3.0\n8    2  setosa  Petal  Length    1.3\n9    2  setosa  Petal   Width    0.2\n10   2  setosa  Sepal  Length    4.7\n11   2  setosa  Sepal   Width    3.2",
      "text/html": "<div>\n<style scoped>\n    .dataframe tbody tr th:only-of-type {\n        vertical-align: middle;\n    }\n\n    .dataframe tbody tr th {\n        vertical-align: top;\n    }\n\n    .dataframe thead th {\n        text-align: right;\n    }\n</style>\n<table border=\"1\" class=\"dataframe\">\n  <thead>\n    <tr style=\"text-align: right;\">\n      <th></th>\n      <th>id</th>\n      <th>Species</th>\n      <th>Part</th>\n      <th>Measure</th>\n      <th>Value</th>\n    </tr>\n  </thead>\n  <tbody>\n    <tr>\n      <th>0</th>\n      <td>0</td>\n      <td>setosa</td>\n      <td>Petal</td>\n      <td>Length</td>\n      <td>1.4</td>\n    </tr>\n    <tr>\n      <th>1</th>\n      <td>0</td>\n      <td>setosa</td>\n      <td>Petal</td>\n      <td>Width</td>\n      <td>0.2</td>\n    </tr>\n    <tr>\n      <th>2</th>\n      <td>0</td>\n      <td>setosa</td>\n      <td>Sepal</td>\n      <td>Length</td>\n      <td>5.1</td>\n    </tr>\n    <tr>\n      <th>3</th>\n      <td>0</td>\n      <td>setosa</td>\n      <td>Sepal</td>\n      <td>Width</td>\n      <td>3.5</td>\n    </tr>\n    <tr>\n      <th>4</th>\n      <td>1</td>\n      <td>setosa</td>\n      <td>Petal</td>\n      <td>Length</td>\n      <td>1.4</td>\n    </tr>\n    <tr>\n      <th>5</th>\n      <td>1</td>\n      <td>setosa</td>\n      <td>Petal</td>\n      <td>Width</td>\n      <td>0.2</td>\n    </tr>\n    <tr>\n      <th>6</th>\n      <td>1</td>\n      <td>setosa</td>\n      <td>Sepal</td>\n      <td>Length</td>\n      <td>4.9</td>\n    </tr>\n    <tr>\n      <th>7</th>\n      <td>1</td>\n      <td>setosa</td>\n      <td>Sepal</td>\n      <td>Width</td>\n      <td>3.0</td>\n    </tr>\n    <tr>\n      <th>8</th>\n      <td>2</td>\n      <td>setosa</td>\n      <td>Petal</td>\n      <td>Length</td>\n      <td>1.3</td>\n    </tr>\n    <tr>\n      <th>9</th>\n      <td>2</td>\n      <td>setosa</td>\n      <td>Petal</td>\n      <td>Width</td>\n      <td>0.2</td>\n    </tr>\n    <tr>\n      <th>10</th>\n      <td>2</td>\n      <td>setosa</td>\n      <td>Sepal</td>\n      <td>Length</td>\n      <td>4.7</td>\n    </tr>\n    <tr>\n      <th>11</th>\n      <td>2</td>\n      <td>setosa</td>\n      <td>Sepal</td>\n      <td>Width</td>\n      <td>3.2</td>\n    </tr>\n  </tbody>\n</table>\n</div>"
     },
     "metadata": {},
     "output_type": "execute_result",
     "execution_count": 6
    }
   ],
   "source": [
    "arranged_blocks = mp_to_blocks.transform(iris)\n",
    "arranged_blocks"
   ]
  },
  {
   "cell_type": "markdown",
   "metadata": {},
   "source": [
    "We see the operation has been performed for us. Notice we specify the transform *declaratively* with data structures carrying deceptions of what we want, instead of having to build a sequence of verbs that realize the transformation."
   ]
  },
  {
   "cell_type": "markdown",
   "metadata": {},
   "source": [
    "An inverse transform is simply expressed by reversing the roles of the `blocks_out` and `blocks_in` arguments. In this case the output is row-records, as we didn't specify an outgoing block structure with `blocks_out`."
   ]
  },
  {
   "cell_type": "code",
   "execution_count": 7,
   "metadata": {
    "collapsed": false,
    "jupyter": {
     "outputs_hidden": false
    },
    "pycharm": {
     "is_executing": false,
     "name": "#%%\n"
    }
   },
   "outputs": [
    {
     "name": "stdout",
     "text": [
      "Transform block records of structure:\nRecordSpecification\n   record_keys: ['id', 'Species']\n   control_table_keys: ['Part', 'Measure']\n   control_table:\n       Part Measure         Value\n   0  Sepal  Length  Sepal.Length\n   1  Sepal   Width   Sepal.Width\n   2  Petal  Length  Petal.Length\n   3  Petal   Width   Petal.Width\nto row records of the form:\n  record_keys: ['id', 'Species']\n ['id', 'Species', 'Sepal.Length', 'Sepal.Width', 'Petal.Length', 'Petal.Width']\n\n"
     ],
     "output_type": "stream"
    }
   ],
   "source": [
    "mp_to_rows = data_algebra.cdata_impl.RecordMap(blocks_in=record_spec)\n",
    "print(str(mp_to_rows))"
   ]
  },
  {
   "cell_type": "code",
   "execution_count": 8,
   "metadata": {
    "pycharm": {
     "is_executing": false
    }
   },
   "outputs": [
    {
     "data": {
      "text/plain": "   id Species  Sepal.Length  Sepal.Width  Petal.Length  Petal.Width\n0   0  setosa           5.1          3.5           1.4          0.2\n1   1  setosa           4.9          3.0           1.4          0.2\n2   2  setosa           4.7          3.2           1.3          0.2",
      "text/html": "<div>\n<style scoped>\n    .dataframe tbody tr th:only-of-type {\n        vertical-align: middle;\n    }\n\n    .dataframe tbody tr th {\n        vertical-align: top;\n    }\n\n    .dataframe thead th {\n        text-align: right;\n    }\n</style>\n<table border=\"1\" class=\"dataframe\">\n  <thead>\n    <tr style=\"text-align: right;\">\n      <th></th>\n      <th>id</th>\n      <th>Species</th>\n      <th>Sepal.Length</th>\n      <th>Sepal.Width</th>\n      <th>Petal.Length</th>\n      <th>Petal.Width</th>\n    </tr>\n  </thead>\n  <tbody>\n    <tr>\n      <th>0</th>\n      <td>0</td>\n      <td>setosa</td>\n      <td>5.1</td>\n      <td>3.5</td>\n      <td>1.4</td>\n      <td>0.2</td>\n    </tr>\n    <tr>\n      <th>1</th>\n      <td>1</td>\n      <td>setosa</td>\n      <td>4.9</td>\n      <td>3.0</td>\n      <td>1.4</td>\n      <td>0.2</td>\n    </tr>\n    <tr>\n      <th>2</th>\n      <td>2</td>\n      <td>setosa</td>\n      <td>4.7</td>\n      <td>3.2</td>\n      <td>1.3</td>\n      <td>0.2</td>\n    </tr>\n  </tbody>\n</table>\n</div>"
     },
     "metadata": {},
     "output_type": "execute_result",
     "execution_count": 8
    }
   ],
   "source": [
    "arranged_rows = mp_to_rows.transform(arranged_blocks)\n",
    "arranged_rows"
   ]
  },
  {
   "cell_type": "markdown",
   "metadata": {
    "pycharm": {
     "name": "#%% md\n"
    }
   },
   "source": [
    "Arbitrary record to record transforms can be specified by setting both `blocks_in` (to describe incoming structure) and `blocks_out` (to describe outgoing structure) at the same time.  data_algebra also implements all the transform steps in databases using `SQL` (via `data_algebra.db_model.row_recs_to_blocks_query()` and `data_algebra.db_model.blocks_to_row_recs_query()`)."
   ]
  }
 ],
 "metadata": {
  "kernelspec": {
   "display_name": "Python 3",
   "language": "python",
   "name": "python3"
  },
  "language_info": {
   "codemirror_mode": {
    "name": "ipython",
    "version": 3
   },
   "file_extension": ".py",
   "mimetype": "text/x-python",
   "name": "python",
   "nbconvert_exporter": "python",
   "pygments_lexer": "ipython3",
   "version": "3.6.9"
  },
  "pycharm": {
   "stem_cell": {
    "cell_type": "raw",
    "source": [],
    "metadata": {
     "collapsed": false
    }
   }
  }
 },
 "nbformat": 4,
 "nbformat_minor": 4
}