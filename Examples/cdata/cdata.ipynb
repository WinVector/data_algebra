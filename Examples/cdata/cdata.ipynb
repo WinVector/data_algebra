{
 "cells": [
  {
   "cell_type": "code",
   "execution_count": 1,
   "metadata": {
    "collapsed": true,
    "pycharm": {
     "is_executing": false
    }
   },
   "outputs": [],
   "source": [
    "import sqlite3\n",
    "import pandas\n",
    "import data_algebra.cdata\n",
    "import data_algebra.SQLite\n",
    "from data_algebra.data_ops import *\n",
    "from data_algebra.data_pipe import *"
   ]
  },
  {
   "cell_type": "code",
   "execution_count": 2,
   "outputs": [
    {
     "data": {
      "text/plain": "   Sepal.Length  Sepal.Width  Petal.Length  Petal.Width Species\n0           5.1          3.5           1.4          0.2  setosa\n1           4.9          3.0           1.4          0.2  setosa\n2           4.7          3.2           1.3          0.2  setosa",
      "text/html": "<div>\n<style scoped>\n    .dataframe tbody tr th:only-of-type {\n        vertical-align: middle;\n    }\n\n    .dataframe tbody tr th {\n        vertical-align: top;\n    }\n\n    .dataframe thead th {\n        text-align: right;\n    }\n</style>\n<table border=\"1\" class=\"dataframe\">\n  <thead>\n    <tr style=\"text-align: right;\">\n      <th></th>\n      <th>Sepal.Length</th>\n      <th>Sepal.Width</th>\n      <th>Petal.Length</th>\n      <th>Petal.Width</th>\n      <th>Species</th>\n    </tr>\n  </thead>\n  <tbody>\n    <tr>\n      <th>0</th>\n      <td>5.1</td>\n      <td>3.5</td>\n      <td>1.4</td>\n      <td>0.2</td>\n      <td>setosa</td>\n    </tr>\n    <tr>\n      <th>1</th>\n      <td>4.9</td>\n      <td>3.0</td>\n      <td>1.4</td>\n      <td>0.2</td>\n      <td>setosa</td>\n    </tr>\n    <tr>\n      <th>2</th>\n      <td>4.7</td>\n      <td>3.2</td>\n      <td>1.3</td>\n      <td>0.2</td>\n      <td>setosa</td>\n    </tr>\n  </tbody>\n</table>\n</div>"
     },
     "metadata": {},
     "output_type": "execute_result",
     "execution_count": 2
    }
   ],
   "source": [
    "iris = pandas.read_csv('iris.csv')\n",
    "iris = iris.iloc[range(3), :]\n",
    "iris.reset_index(inplace=True, drop=True)\n",
    "iris"
   ],
   "metadata": {
    "collapsed": false,
    "pycharm": {
     "name": "#%%\n",
     "is_executing": false
    }
   }
  },
  {
   "cell_type": "code",
   "execution_count": 3,
   "outputs": [
    {
     "data": {
      "text/plain": "    Part Measure         Value\n0  Sepal  Length  Sepal.Length\n1  Sepal   Width   Sepal.Width\n2  Petal  Length  Petal.Length\n3  Petal   Width   Petal.Width",
      "text/html": "<div>\n<style scoped>\n    .dataframe tbody tr th:only-of-type {\n        vertical-align: middle;\n    }\n\n    .dataframe tbody tr th {\n        vertical-align: top;\n    }\n\n    .dataframe thead th {\n        text-align: right;\n    }\n</style>\n<table border=\"1\" class=\"dataframe\">\n  <thead>\n    <tr style=\"text-align: right;\">\n      <th></th>\n      <th>Part</th>\n      <th>Measure</th>\n      <th>Value</th>\n    </tr>\n  </thead>\n  <tbody>\n    <tr>\n      <th>0</th>\n      <td>Sepal</td>\n      <td>Length</td>\n      <td>Sepal.Length</td>\n    </tr>\n    <tr>\n      <th>1</th>\n      <td>Sepal</td>\n      <td>Width</td>\n      <td>Sepal.Width</td>\n    </tr>\n    <tr>\n      <th>2</th>\n      <td>Petal</td>\n      <td>Length</td>\n      <td>Petal.Length</td>\n    </tr>\n    <tr>\n      <th>3</th>\n      <td>Petal</td>\n      <td>Width</td>\n      <td>Petal.Width</td>\n    </tr>\n  </tbody>\n</table>\n</div>"
     },
     "metadata": {},
     "output_type": "execute_result",
     "execution_count": 3
    }
   ],
   "source": [
    "# from:\n",
    "#   https://github.com/WinVector/cdata/blob/master/vignettes/control_table_keys.Rmd\n",
    "\n",
    "control_table = pandas.DataFrame({\n",
    "    'Part': [\"Sepal\", \"Sepal\", \"Petal\", \"Petal\"],\n",
    "    'Measure': [\"Length\", \"Width\", \"Length\", \"Width\"],\n",
    "    'Value': [\"Sepal.Length\", \"Sepal.Width\", \"Petal.Length\", \"Petal.Width\"]\n",
    "})\n",
    "control_table"
   ],
   "metadata": {
    "collapsed": false,
    "pycharm": {
     "name": "#%%\n",
     "is_executing": false
    }
   }
  },
  {
   "cell_type": "code",
   "execution_count": 4,
   "outputs": [
    {
     "data": {
      "text/plain": "RecordSpecification\n   record_keys: ['Species']\n   control_table_keys: ['Part', 'Measure']\n   control_table:\n       Part Measure         Value\n   0  Sepal  Length  Sepal.Length\n   1  Sepal   Width   Sepal.Width\n   2  Petal  Length  Petal.Length\n   3  Petal   Width   Petal.Width"
     },
     "metadata": {},
     "output_type": "execute_result",
     "execution_count": 4
    }
   ],
   "source": [
    "record_spec = data_algebra.cdata.RecordSpecification(\n",
    "    control_table,\n",
    "    control_table_keys = ['Part', 'Measure'],\n",
    "    record_keys = ['Species']\n",
    "    )\n",
    "record_spec"
   ],
   "metadata": {
    "collapsed": false,
    "pycharm": {
     "name": "#%%\n",
     "is_executing": false
    }
   }
  },
  {
   "cell_type": "code",
   "execution_count": 5,
   "outputs": [
    {
     "name": "stdout",
     "text": [
      "SELECT\n a.\"Species\" AS \"Species\",\n b.\"Part\" AS \"Part\",\n b.\"Measure\" AS \"Measure\",\n CASE\n  WHEN b.\"Value\" = 'Sepal.Length' THEN a.\"Sepal.Length\"\n  WHEN b.\"Value\" = 'Sepal.Width' THEN a.\"Sepal.Width\"\n  WHEN b.\"Value\" = 'Petal.Length' THEN a.\"Petal.Length\"\n  WHEN b.\"Value\" = 'Petal.Width' THEN a.\"Petal.Width\"\n ELSE NULL END AS \"Value\"\n FROM \"iris\" a CROSS JOIN \"control_table\" b\n\n"
     ],
     "output_type": "stream"
    },
    {
     "data": {
      "text/plain": "   Species   Part Measure  Value\n0   setosa  Sepal  Length    5.1\n1   setosa  Sepal   Width    3.5\n2   setosa  Petal  Length    1.4\n3   setosa  Petal   Width    0.2\n4   setosa  Sepal  Length    4.9\n5   setosa  Sepal   Width    3.0\n6   setosa  Petal  Length    1.4\n7   setosa  Petal   Width    0.2\n8   setosa  Sepal  Length    4.7\n9   setosa  Sepal   Width    3.2\n10  setosa  Petal  Length    1.3\n11  setosa  Petal   Width    0.2",
      "text/html": "<div>\n<style scoped>\n    .dataframe tbody tr th:only-of-type {\n        vertical-align: middle;\n    }\n\n    .dataframe tbody tr th {\n        vertical-align: top;\n    }\n\n    .dataframe thead th {\n        text-align: right;\n    }\n</style>\n<table border=\"1\" class=\"dataframe\">\n  <thead>\n    <tr style=\"text-align: right;\">\n      <th></th>\n      <th>Species</th>\n      <th>Part</th>\n      <th>Measure</th>\n      <th>Value</th>\n    </tr>\n  </thead>\n  <tbody>\n    <tr>\n      <th>0</th>\n      <td>setosa</td>\n      <td>Sepal</td>\n      <td>Length</td>\n      <td>5.1</td>\n    </tr>\n    <tr>\n      <th>1</th>\n      <td>setosa</td>\n      <td>Sepal</td>\n      <td>Width</td>\n      <td>3.5</td>\n    </tr>\n    <tr>\n      <th>2</th>\n      <td>setosa</td>\n      <td>Petal</td>\n      <td>Length</td>\n      <td>1.4</td>\n    </tr>\n    <tr>\n      <th>3</th>\n      <td>setosa</td>\n      <td>Petal</td>\n      <td>Width</td>\n      <td>0.2</td>\n    </tr>\n    <tr>\n      <th>4</th>\n      <td>setosa</td>\n      <td>Sepal</td>\n      <td>Length</td>\n      <td>4.9</td>\n    </tr>\n    <tr>\n      <th>5</th>\n      <td>setosa</td>\n      <td>Sepal</td>\n      <td>Width</td>\n      <td>3.0</td>\n    </tr>\n    <tr>\n      <th>6</th>\n      <td>setosa</td>\n      <td>Petal</td>\n      <td>Length</td>\n      <td>1.4</td>\n    </tr>\n    <tr>\n      <th>7</th>\n      <td>setosa</td>\n      <td>Petal</td>\n      <td>Width</td>\n      <td>0.2</td>\n    </tr>\n    <tr>\n      <th>8</th>\n      <td>setosa</td>\n      <td>Sepal</td>\n      <td>Length</td>\n      <td>4.7</td>\n    </tr>\n    <tr>\n      <th>9</th>\n      <td>setosa</td>\n      <td>Sepal</td>\n      <td>Width</td>\n      <td>3.2</td>\n    </tr>\n    <tr>\n      <th>10</th>\n      <td>setosa</td>\n      <td>Petal</td>\n      <td>Length</td>\n      <td>1.3</td>\n    </tr>\n    <tr>\n      <th>11</th>\n      <td>setosa</td>\n      <td>Petal</td>\n      <td>Width</td>\n      <td>0.2</td>\n    </tr>\n  </tbody>\n</table>\n</div>"
     },
     "metadata": {},
     "output_type": "execute_result",
     "execution_count": 5
    }
   ],
   "source": [
    "db_model = data_algebra.SQLite.SQLiteModel()\n",
    "\n",
    "source_table = data_algebra.data_ops.TableDescription(\n",
    "    'iris',\n",
    "    ['Sepal.Length', 'Sepal.Width', 'Petal.Length', 'Petal.Width', 'Species']\n",
    "    )\n",
    "\n",
    "temp_table = data_algebra.data_ops.TableDescription(\n",
    "    'control_table',\n",
    "    record_spec.control_table.columns\n",
    "    )\n",
    "    \n",
    "conn = sqlite3.connect(':memory:')\n",
    "cur = conn.cursor()\n",
    "\n",
    "\n",
    "sql = db_model.row_recs_to_blocks_query(source_table, record_spec, temp_table)\n",
    "print(sql)\n",
    "\n",
    "db_model.insert_table(conn, iris, 'iris')\n",
    "db_model.insert_table(conn, record_spec.control_table, temp_table.table_name)\n",
    "\n",
    "db_model.read_query(conn, sql)"
   ],
   "metadata": {
    "collapsed": false,
    "pycharm": {
     "name": "#%%\n",
     "is_executing": false
    }
   }
  },
  {
   "cell_type": "code",
   "execution_count": 6,
   "outputs": [],
   "source": [
    "conn.close()"
   ],
   "metadata": {
    "collapsed": false,
    "pycharm": {
     "name": "#%%\n",
     "is_executing": false
    }
   }
  }
 ],
 "metadata": {
  "language_info": {
   "codemirror_mode": {
    "name": "ipython",
    "version": 2
   },
   "file_extension": ".py",
   "mimetype": "text/x-python",
   "name": "python",
   "nbconvert_exporter": "python",
   "pygments_lexer": "ipython2",
   "version": "2.7.6"
  },
  "kernelspec": {
   "name": "python3",
   "language": "python",
   "display_name": "Python 3"
  },
  "pycharm": {
   "stem_cell": {
    "cell_type": "raw",
    "source": [],
    "metadata": {
     "collapsed": false
    }
   }
  }
 },
 "nbformat": 4,
 "nbformat_minor": 0
}