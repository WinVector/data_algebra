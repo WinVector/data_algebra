{
 "cells": [
  {
   "cell_type": "code",
   "execution_count": 1,
   "metadata": {
    "collapsed": true,
    "pycharm": {
     "is_executing": false
    }
   },
   "outputs": [],
   "source": [
    "import sqlite3\n",
    "import pandas\n",
    "import data_algebra.cdata\n",
    "import data_algebra.SQLite\n",
    "from data_algebra.data_ops import *\n",
    "from data_algebra.data_pipe import *"
   ]
  },
  {
   "cell_type": "code",
   "execution_count": 2,
   "outputs": [
    {
     "data": {
      "text/plain": "   Sepal.Length  Sepal.Width  Petal.Length  Petal.Width Species  id\n0           5.1          3.5           1.4          0.2  setosa   0\n1           4.9          3.0           1.4          0.2  setosa   1\n2           4.7          3.2           1.3          0.2  setosa   2",
      "text/html": "<div>\n<style scoped>\n    .dataframe tbody tr th:only-of-type {\n        vertical-align: middle;\n    }\n\n    .dataframe tbody tr th {\n        vertical-align: top;\n    }\n\n    .dataframe thead th {\n        text-align: right;\n    }\n</style>\n<table border=\"1\" class=\"dataframe\">\n  <thead>\n    <tr style=\"text-align: right;\">\n      <th></th>\n      <th>Sepal.Length</th>\n      <th>Sepal.Width</th>\n      <th>Petal.Length</th>\n      <th>Petal.Width</th>\n      <th>Species</th>\n      <th>id</th>\n    </tr>\n  </thead>\n  <tbody>\n    <tr>\n      <th>0</th>\n      <td>5.1</td>\n      <td>3.5</td>\n      <td>1.4</td>\n      <td>0.2</td>\n      <td>setosa</td>\n      <td>0</td>\n    </tr>\n    <tr>\n      <th>1</th>\n      <td>4.9</td>\n      <td>3.0</td>\n      <td>1.4</td>\n      <td>0.2</td>\n      <td>setosa</td>\n      <td>1</td>\n    </tr>\n    <tr>\n      <th>2</th>\n      <td>4.7</td>\n      <td>3.2</td>\n      <td>1.3</td>\n      <td>0.2</td>\n      <td>setosa</td>\n      <td>2</td>\n    </tr>\n  </tbody>\n</table>\n</div>"
     },
     "metadata": {},
     "output_type": "execute_result",
     "execution_count": 2
    }
   ],
   "source": [
    "iris = pandas.read_csv('iris.csv')\n",
    "iris = iris.iloc[range(3), :]\n",
    "iris.reset_index(inplace=True, drop=True)\n",
    "iris['id'] = [i for i in range(iris.shape[0])]\n",
    "iris"
   ],
   "metadata": {
    "collapsed": false,
    "pycharm": {
     "name": "#%%\n",
     "is_executing": false
    }
   }
  },
  {
   "cell_type": "code",
   "execution_count": 3,
   "outputs": [
    {
     "data": {
      "text/plain": "RecordSpecification\n   record_keys: ['id', 'Species']\n   control_table_keys: ['Part', 'Measure']\n   control_table:\n       Part Measure         Value\n   0  Sepal  Length  Sepal.Length\n   1  Sepal   Width   Sepal.Width\n   2  Petal  Length  Petal.Length\n   3  Petal   Width   Petal.Width"
     },
     "metadata": {},
     "output_type": "execute_result",
     "execution_count": 3
    }
   ],
   "source": [
    "# from:\n",
    "#   https://github.com/WinVector/cdata/blob/master/vignettes/control_table_keys.Rmd\n",
    "\n",
    "control_table = pandas.DataFrame({\n",
    "    'Part': [\"Sepal\", \"Sepal\", \"Petal\", \"Petal\"],\n",
    "    'Measure': [\"Length\", \"Width\", \"Length\", \"Width\"],\n",
    "    'Value': [\"Sepal.Length\", \"Sepal.Width\", \"Petal.Length\", \"Petal.Width\"]\n",
    "})\n",
    "record_spec = data_algebra.cdata.RecordSpecification(\n",
    "    control_table,\n",
    "    control_table_keys = ['Part', 'Measure'],\n",
    "    record_keys = ['id', 'Species']\n",
    "    )\n",
    "record_spec"
   ],
   "metadata": {
    "collapsed": false,
    "pycharm": {
     "name": "#%%\n",
     "is_executing": false
    }
   }
  },
  {
   "cell_type": "code",
   "execution_count": 4,
   "outputs": [
    {
     "name": "stdout",
     "text": [
      "SELECT\n a.\"id\" AS \"id\",\n a.\"Species\" AS \"Species\",\n b.\"Part\" AS \"Part\",\n b.\"Measure\" AS \"Measure\",\n CASE\n  WHEN b.\"Value\" = 'Sepal.Length' THEN a.\"Sepal.Length\"\n  WHEN b.\"Value\" = 'Sepal.Width' THEN a.\"Sepal.Width\"\n  WHEN b.\"Value\" = 'Petal.Length' THEN a.\"Petal.Length\"\n  WHEN b.\"Value\" = 'Petal.Width' THEN a.\"Petal.Width\"\n  ELSE NULL END AS \"Value\"\nFROM \"iris\" a\nCROSS JOIN \"control_table\" b\n ORDER BY a.\"id\", a.\"Species\", b.\"Part\", b.\"Measure\"\n"
     ],
     "output_type": "stream"
    }
   ],
   "source": [
    "db_model = data_algebra.SQLite.SQLiteModel()\n",
    "\n",
    "source_table = data_algebra.data_ops.TableDescription(\n",
    "    'iris',\n",
    "    ['Sepal.Length', 'Sepal.Width', 'Petal.Length', 'Petal.Width', 'Species']\n",
    "    )\n",
    "\n",
    "temp_table = data_algebra.data_ops.TableDescription(\n",
    "    'control_table',\n",
    "    record_spec.control_table.columns\n",
    "    )\n",
    "    \n",
    "conn = sqlite3.connect(':memory:')\n",
    "cur = conn.cursor()\n",
    "\n",
    "sql = db_model.row_recs_to_blocks_query(source_table, record_spec, temp_table)\n",
    "print(sql)"
   ],
   "metadata": {
    "collapsed": false,
    "pycharm": {
     "name": "#%%\n",
     "is_executing": false
    }
   }
  },
  {
   "cell_type": "code",
   "execution_count": 5,
   "outputs": [
    {
     "data": {
      "text/plain": "    id Species   Part Measure  Value\n0    0  setosa  Petal  Length    1.4\n1    0  setosa  Petal   Width    0.2\n2    0  setosa  Sepal  Length    5.1\n3    0  setosa  Sepal   Width    3.5\n4    1  setosa  Petal  Length    1.4\n5    1  setosa  Petal   Width    0.2\n6    1  setosa  Sepal  Length    4.9\n7    1  setosa  Sepal   Width    3.0\n8    2  setosa  Petal  Length    1.3\n9    2  setosa  Petal   Width    0.2\n10   2  setosa  Sepal  Length    4.7\n11   2  setosa  Sepal   Width    3.2",
      "text/html": "<div>\n<style scoped>\n    .dataframe tbody tr th:only-of-type {\n        vertical-align: middle;\n    }\n\n    .dataframe tbody tr th {\n        vertical-align: top;\n    }\n\n    .dataframe thead th {\n        text-align: right;\n    }\n</style>\n<table border=\"1\" class=\"dataframe\">\n  <thead>\n    <tr style=\"text-align: right;\">\n      <th></th>\n      <th>id</th>\n      <th>Species</th>\n      <th>Part</th>\n      <th>Measure</th>\n      <th>Value</th>\n    </tr>\n  </thead>\n  <tbody>\n    <tr>\n      <th>0</th>\n      <td>0</td>\n      <td>setosa</td>\n      <td>Petal</td>\n      <td>Length</td>\n      <td>1.4</td>\n    </tr>\n    <tr>\n      <th>1</th>\n      <td>0</td>\n      <td>setosa</td>\n      <td>Petal</td>\n      <td>Width</td>\n      <td>0.2</td>\n    </tr>\n    <tr>\n      <th>2</th>\n      <td>0</td>\n      <td>setosa</td>\n      <td>Sepal</td>\n      <td>Length</td>\n      <td>5.1</td>\n    </tr>\n    <tr>\n      <th>3</th>\n      <td>0</td>\n      <td>setosa</td>\n      <td>Sepal</td>\n      <td>Width</td>\n      <td>3.5</td>\n    </tr>\n    <tr>\n      <th>4</th>\n      <td>1</td>\n      <td>setosa</td>\n      <td>Petal</td>\n      <td>Length</td>\n      <td>1.4</td>\n    </tr>\n    <tr>\n      <th>5</th>\n      <td>1</td>\n      <td>setosa</td>\n      <td>Petal</td>\n      <td>Width</td>\n      <td>0.2</td>\n    </tr>\n    <tr>\n      <th>6</th>\n      <td>1</td>\n      <td>setosa</td>\n      <td>Sepal</td>\n      <td>Length</td>\n      <td>4.9</td>\n    </tr>\n    <tr>\n      <th>7</th>\n      <td>1</td>\n      <td>setosa</td>\n      <td>Sepal</td>\n      <td>Width</td>\n      <td>3.0</td>\n    </tr>\n    <tr>\n      <th>8</th>\n      <td>2</td>\n      <td>setosa</td>\n      <td>Petal</td>\n      <td>Length</td>\n      <td>1.3</td>\n    </tr>\n    <tr>\n      <th>9</th>\n      <td>2</td>\n      <td>setosa</td>\n      <td>Petal</td>\n      <td>Width</td>\n      <td>0.2</td>\n    </tr>\n    <tr>\n      <th>10</th>\n      <td>2</td>\n      <td>setosa</td>\n      <td>Sepal</td>\n      <td>Length</td>\n      <td>4.7</td>\n    </tr>\n    <tr>\n      <th>11</th>\n      <td>2</td>\n      <td>setosa</td>\n      <td>Sepal</td>\n      <td>Width</td>\n      <td>3.2</td>\n    </tr>\n  </tbody>\n</table>\n</div>"
     },
     "metadata": {},
     "output_type": "execute_result",
     "execution_count": 5
    }
   ],
   "source": [
    "db_model.insert_table(conn, iris, 'iris')\n",
    "db_model.insert_table(conn, record_spec.control_table, temp_table.table_name)\n",
    "\n",
    "res_blocks = db_model.read_query(conn, sql)\n",
    "res_blocks"
   ],
   "metadata": {
    "collapsed": false,
    "pycharm": {
     "name": "#%%\n",
     "is_executing": false
    }
   }
  },
  {
   "cell_type": "code",
   "execution_count": 6,
   "outputs": [
    {
     "name": "stdout",
     "text": [
      "SELECT\n \"id\" AS \"id\",\n \"Species\" AS \"Species\",\n MAX(CASE WHEN  ( \"Part\" = 'Sepal' )  AND  ( \"Measure\" = 'Length' )  THEN \"Value\" ELSE NULL END) AS \"Sepal.Length\",\n MAX(CASE WHEN  ( \"Part\" = 'Sepal' )  AND  ( \"Measure\" = 'Width' )  THEN \"Value\" ELSE NULL END) AS \"Sepal.Width\",\n MAX(CASE WHEN  ( \"Part\" = 'Petal' )  AND  ( \"Measure\" = 'Length' )  THEN \"Value\" ELSE NULL END) AS \"Petal.Length\",\n MAX(CASE WHEN  ( \"Part\" = 'Petal' )  AND  ( \"Measure\" = 'Width' )  THEN \"Value\" ELSE NULL END) AS \"Petal.Width\"\nFROM \"res_blocks\"\n GROUP BY \"id\", \"Species\"\n ORDER BY \"id\", \"Species\"\n"
     ],
     "output_type": "stream"
    }
   ],
   "source": [
    "db_model.insert_table(conn, res_blocks, 'res_blocks')\n",
    "source_table2 = data_algebra.data_ops.TableDescription(\n",
    "    'res_blocks',\n",
    "    ['Species', 'Part', 'Measure', 'Value']\n",
    "    )\n",
    "\n",
    "sql_back = db_model.blocks_to_row_recs_query(source_table2, record_spec)\n",
    "print(sql_back)"
   ],
   "metadata": {
    "collapsed": false,
    "pycharm": {
     "name": "#%%\n",
     "is_executing": false
    }
   }
  },
  {
   "cell_type": "code",
   "execution_count": 7,
   "outputs": [
    {
     "data": {
      "text/plain": "   id Species  Sepal.Length  Sepal.Width  Petal.Length  Petal.Width\n0   0  setosa           5.1          3.5           1.4          0.2\n1   1  setosa           4.9          3.0           1.4          0.2\n2   2  setosa           4.7          3.2           1.3          0.2",
      "text/html": "<div>\n<style scoped>\n    .dataframe tbody tr th:only-of-type {\n        vertical-align: middle;\n    }\n\n    .dataframe tbody tr th {\n        vertical-align: top;\n    }\n\n    .dataframe thead th {\n        text-align: right;\n    }\n</style>\n<table border=\"1\" class=\"dataframe\">\n  <thead>\n    <tr style=\"text-align: right;\">\n      <th></th>\n      <th>id</th>\n      <th>Species</th>\n      <th>Sepal.Length</th>\n      <th>Sepal.Width</th>\n      <th>Petal.Length</th>\n      <th>Petal.Width</th>\n    </tr>\n  </thead>\n  <tbody>\n    <tr>\n      <th>0</th>\n      <td>0</td>\n      <td>setosa</td>\n      <td>5.1</td>\n      <td>3.5</td>\n      <td>1.4</td>\n      <td>0.2</td>\n    </tr>\n    <tr>\n      <th>1</th>\n      <td>1</td>\n      <td>setosa</td>\n      <td>4.9</td>\n      <td>3.0</td>\n      <td>1.4</td>\n      <td>0.2</td>\n    </tr>\n    <tr>\n      <th>2</th>\n      <td>2</td>\n      <td>setosa</td>\n      <td>4.7</td>\n      <td>3.2</td>\n      <td>1.3</td>\n      <td>0.2</td>\n    </tr>\n  </tbody>\n</table>\n</div>"
     },
     "metadata": {},
     "output_type": "execute_result",
     "execution_count": 7
    }
   ],
   "source": [
    "res_rows = db_model.read_query(conn, sql_back)\n",
    "res_rows"
   ],
   "metadata": {
    "collapsed": false,
    "pycharm": {
     "name": "#%%\n",
     "is_executing": false
    }
   }
  },
  {
   "cell_type": "code",
   "execution_count": 8,
   "outputs": [],
   "source": [
    "conn.close()"
   ],
   "metadata": {
    "collapsed": false,
    "pycharm": {
     "name": "#%%\n",
     "is_executing": false
    }
   }
  }
 ],
 "metadata": {
  "language_info": {
   "codemirror_mode": {
    "name": "ipython",
    "version": 2
   },
   "file_extension": ".py",
   "mimetype": "text/x-python",
   "name": "python",
   "nbconvert_exporter": "python",
   "pygments_lexer": "ipython2",
   "version": "2.7.6"
  },
  "kernelspec": {
   "name": "python3",
   "language": "python",
   "display_name": "Python 3"
  },
  "pycharm": {
   "stem_cell": {
    "cell_type": "raw",
    "source": [],
    "metadata": {
     "collapsed": false
    }
   }
  }
 },
 "nbformat": 4,
 "nbformat_minor": 0
}