{
 "cells": [
  {
   "cell_type": "code",
   "execution_count": 1,
   "metadata": {
    "collapsed": true,
    "pycharm": {
     "is_executing": false
    }
   },
   "outputs": [
    {
     "data": {
      "text/plain": "    ID OP                 DATE\n0    1  A  2001-01-02 00:00:00\n1    1  B  2015-04-25 00:00:00\n2    2  A  2000-04-01 00:00:00\n3    3  D  2014-04-07 00:00:00\n4    4  C  2012-12-01 00:00:00\n5    4  A  2005-06-16 00:00:00\n6    4  D  2009-01-20 00:00:00\n7    4  B  2009-01-20 00:00:00\n8    5  A  2010-10-10 00:00:00\n9    5  B  2003-11-09 00:00:00\n10   6  B  2004-01-09 00:00:00",
      "text/html": "<div>\n<style scoped>\n    .dataframe tbody tr th:only-of-type {\n        vertical-align: middle;\n    }\n\n    .dataframe tbody tr th {\n        vertical-align: top;\n    }\n\n    .dataframe thead th {\n        text-align: right;\n    }\n</style>\n<table border=\"1\" class=\"dataframe\">\n  <thead>\n    <tr style=\"text-align: right;\">\n      <th></th>\n      <th>ID</th>\n      <th>OP</th>\n      <th>DATE</th>\n    </tr>\n  </thead>\n  <tbody>\n    <tr>\n      <th>0</th>\n      <td>1</td>\n      <td>A</td>\n      <td>2001-01-02 00:00:00</td>\n    </tr>\n    <tr>\n      <th>1</th>\n      <td>1</td>\n      <td>B</td>\n      <td>2015-04-25 00:00:00</td>\n    </tr>\n    <tr>\n      <th>2</th>\n      <td>2</td>\n      <td>A</td>\n      <td>2000-04-01 00:00:00</td>\n    </tr>\n    <tr>\n      <th>3</th>\n      <td>3</td>\n      <td>D</td>\n      <td>2014-04-07 00:00:00</td>\n    </tr>\n    <tr>\n      <th>4</th>\n      <td>4</td>\n      <td>C</td>\n      <td>2012-12-01 00:00:00</td>\n    </tr>\n    <tr>\n      <th>5</th>\n      <td>4</td>\n      <td>A</td>\n      <td>2005-06-16 00:00:00</td>\n    </tr>\n    <tr>\n      <th>6</th>\n      <td>4</td>\n      <td>D</td>\n      <td>2009-01-20 00:00:00</td>\n    </tr>\n    <tr>\n      <th>7</th>\n      <td>4</td>\n      <td>B</td>\n      <td>2009-01-20 00:00:00</td>\n    </tr>\n    <tr>\n      <th>8</th>\n      <td>5</td>\n      <td>A</td>\n      <td>2010-10-10 00:00:00</td>\n    </tr>\n    <tr>\n      <th>9</th>\n      <td>5</td>\n      <td>B</td>\n      <td>2003-11-09 00:00:00</td>\n    </tr>\n    <tr>\n      <th>10</th>\n      <td>6</td>\n      <td>B</td>\n      <td>2004-01-09 00:00:00</td>\n    </tr>\n  </tbody>\n</table>\n</div>"
     },
     "metadata": {},
     "output_type": "execute_result",
     "execution_count": 1
    }
   ],
   "source": [
    "import pandas\n",
    "\n",
    "d = pandas.DataFrame({\n",
    "    'ID': [1, 1, 2, 3, 4, 4, 4, 4, 5, 5, 6],\n",
    "    'OP': ['A', 'B', 'A', 'D', 'C', 'A', 'D', 'B', 'A', 'B', 'B'],\n",
    "    'DATE': ['2001-01-02 00:00:00', '2015-04-25 00:00:00', '2000-04-01 00:00:00', \n",
    "             '2014-04-07 00:00:00', '2012-12-01 00:00:00', '2005-06-16 00:00:00', \n",
    "             '2009-01-20 00:00:00', '2009-01-20 00:00:00', '2010-10-10 00:00:00', \n",
    "             '2003-11-09 00:00:00', '2004-01-09 00:00:00'],\n",
    "    })\n",
    "\n",
    "d"
   ]
  },
  {
   "cell_type": "code",
   "execution_count": 2,
   "outputs": [
    {
     "data": {
      "text/plain": "  rank   DATE   OP\n0    1  DATE1  OP1\n1    2  DATE2  OP2\n2    3  DATE3  OP3",
      "text/html": "<div>\n<style scoped>\n    .dataframe tbody tr th:only-of-type {\n        vertical-align: middle;\n    }\n\n    .dataframe tbody tr th {\n        vertical-align: top;\n    }\n\n    .dataframe thead th {\n        text-align: right;\n    }\n</style>\n<table border=\"1\" class=\"dataframe\">\n  <thead>\n    <tr style=\"text-align: right;\">\n      <th></th>\n      <th>rank</th>\n      <th>DATE</th>\n      <th>OP</th>\n    </tr>\n  </thead>\n  <tbody>\n    <tr>\n      <th>0</th>\n      <td>1</td>\n      <td>DATE1</td>\n      <td>OP1</td>\n    </tr>\n    <tr>\n      <th>1</th>\n      <td>2</td>\n      <td>DATE2</td>\n      <td>OP2</td>\n    </tr>\n    <tr>\n      <th>2</th>\n      <td>3</td>\n      <td>DATE3</td>\n      <td>OP3</td>\n    </tr>\n  </tbody>\n</table>\n</div>"
     },
     "metadata": {},
     "output_type": "execute_result",
     "execution_count": 2
    }
   ],
   "source": [
    "diagram = pandas.DataFrame({\n",
    "    'rank': ['1', '2', '3'],\n",
    "    'DATE': ['DATE1', 'DATE2', 'DATE3'],\n",
    "    'OP': ['OP1', 'OP2', 'OP3']\n",
    "})\n",
    "\n",
    "diagram"
   ],
   "metadata": {
    "collapsed": false,
    "pycharm": {
     "name": "#%%\n",
     "is_executing": false
    }
   }
  },
  {
   "cell_type": "code",
   "execution_count": 3,
   "outputs": [
    {
     "name": "stdout",
     "text": [
      "Transform block records of structure:\n",
      "RecordSpecification\n",
      "   record_keys: ['ID']\n",
      "   control_table_keys: ['rank']\n",
      "   control_table:\n",
      "     rank   DATE   OP\n",
      "   0    1  DATE1  OP1\n",
      "   1    2  DATE2  OP2\n",
      "   2    3  DATE3  OP3\n",
      "to row records of the form:\n",
      "  record_keys: ['ID']\n",
      " ['DATE1', 'DATE2', 'DATE3', 'OP1', 'OP2', 'OP3']\n",
      "\n"
     ],
     "output_type": "stream"
    }
   ],
   "source": [
    "from data_algebra.cdata import *\n",
    "\n",
    "record_map = RecordMap(\n",
    "    blocks_in=RecordSpecification(\n",
    "        control_table=diagram,\n",
    "        record_keys=['ID']\n",
    "    ))\n",
    "\n",
    "print(str(record_map))"
   ],
   "metadata": {
    "collapsed": false,
    "pycharm": {
     "name": "#%%\n",
     "is_executing": false
    }
   }
  },
  {
   "cell_type": "code",
   "execution_count": 4,
   "outputs": [
    {
     "data": {
      "text/plain": "   ID                DATE1 OP1                DATE2   OP2  \\\n0   1  2001-01-02 00:00:00   A  2015-04-25 00:00:00     B   \n1   2  2000-04-01 00:00:00   A                 None  None   \n2   3  2014-04-07 00:00:00   D                 None  None   \n3   4  2005-06-16 00:00:00   A  2009-01-20 00:00:00     B   \n4   5  2003-11-09 00:00:00   B  2010-10-10 00:00:00     A   \n5   6  2004-01-09 00:00:00   B                 None  None   \n\n                 DATE3   OP3  \n0                 None  None  \n1                 None  None  \n2                 None  None  \n3  2009-01-20 00:00:00     D  \n4                 None  None  \n5                 None  None  ",
      "text/html": "<div>\n<style scoped>\n    .dataframe tbody tr th:only-of-type {\n        vertical-align: middle;\n    }\n\n    .dataframe tbody tr th {\n        vertical-align: top;\n    }\n\n    .dataframe thead th {\n        text-align: right;\n    }\n</style>\n<table border=\"1\" class=\"dataframe\">\n  <thead>\n    <tr style=\"text-align: right;\">\n      <th></th>\n      <th>ID</th>\n      <th>DATE1</th>\n      <th>OP1</th>\n      <th>DATE2</th>\n      <th>OP2</th>\n      <th>DATE3</th>\n      <th>OP3</th>\n    </tr>\n  </thead>\n  <tbody>\n    <tr>\n      <th>0</th>\n      <td>1</td>\n      <td>2001-01-02 00:00:00</td>\n      <td>A</td>\n      <td>2015-04-25 00:00:00</td>\n      <td>B</td>\n      <td>None</td>\n      <td>None</td>\n    </tr>\n    <tr>\n      <th>1</th>\n      <td>2</td>\n      <td>2000-04-01 00:00:00</td>\n      <td>A</td>\n      <td>None</td>\n      <td>None</td>\n      <td>None</td>\n      <td>None</td>\n    </tr>\n    <tr>\n      <th>2</th>\n      <td>3</td>\n      <td>2014-04-07 00:00:00</td>\n      <td>D</td>\n      <td>None</td>\n      <td>None</td>\n      <td>None</td>\n      <td>None</td>\n    </tr>\n    <tr>\n      <th>3</th>\n      <td>4</td>\n      <td>2005-06-16 00:00:00</td>\n      <td>A</td>\n      <td>2009-01-20 00:00:00</td>\n      <td>B</td>\n      <td>2009-01-20 00:00:00</td>\n      <td>D</td>\n    </tr>\n    <tr>\n      <th>4</th>\n      <td>5</td>\n      <td>2003-11-09 00:00:00</td>\n      <td>B</td>\n      <td>2010-10-10 00:00:00</td>\n      <td>A</td>\n      <td>None</td>\n      <td>None</td>\n    </tr>\n    <tr>\n      <th>5</th>\n      <td>6</td>\n      <td>2004-01-09 00:00:00</td>\n      <td>B</td>\n      <td>None</td>\n      <td>None</td>\n      <td>None</td>\n      <td>None</td>\n    </tr>\n  </tbody>\n</table>\n</div>"
     },
     "metadata": {},
     "output_type": "execute_result",
     "execution_count": 4
    }
   ],
   "source": [
    "from data_algebra.data_ops import *\n",
    "\n",
    "ops = describe_table(d, table_name='d'). \\\n",
    "    extend({'rank': '_row_number()'},\n",
    "           partition_by=['ID'],\n",
    "           order_by=['DATE', 'OP']). \\\n",
    "    convert_records(record_map). \\\n",
    "    order_rows(['ID'])\n",
    "\n",
    "ops.transform(d)"
   ],
   "metadata": {
    "collapsed": false,
    "pycharm": {
     "name": "#%%\n",
     "is_executing": false
    }
   }
  },
  {
   "cell_type": "code",
   "execution_count": 5,
   "outputs": [
    {
     "name": "stdout",
     "text": [
      "SELECT \"OP2\",\n",
      "       \"OP3\",\n",
      "       \"OP1\",\n",
      "       \"DATE3\",\n",
      "       \"DATE2\",\n",
      "       \"ID\",\n",
      "       \"DATE1\"\n",
      "FROM\n",
      "  (SELECT \"OP2\",\n",
      "          \"OP3\",\n",
      "          \"OP1\",\n",
      "          \"DATE3\",\n",
      "          \"DATE2\",\n",
      "          \"ID\",\n",
      "          \"DATE1\"\n",
      "   FROM\n",
      "     (SELECT \"ID\" AS \"ID\",\n",
      "             MAX(CASE\n",
      "                     WHEN (CAST(\"rank\" AS VARCHAR) = '1') THEN \"DATE\"\n",
      "                     ELSE NULL\n",
      "                 END) AS \"DATE1\",\n",
      "             MAX(CASE\n",
      "                     WHEN (CAST(\"rank\" AS VARCHAR) = '1') THEN \"OP\"\n",
      "                     ELSE NULL\n",
      "                 END) AS \"OP1\",\n",
      "             MAX(CASE\n",
      "                     WHEN (CAST(\"rank\" AS VARCHAR) = '2') THEN \"DATE\"\n",
      "                     ELSE NULL\n",
      "                 END) AS \"DATE2\",\n",
      "             MAX(CASE\n",
      "                     WHEN (CAST(\"rank\" AS VARCHAR) = '2') THEN \"OP\"\n",
      "                     ELSE NULL\n",
      "                 END) AS \"OP2\",\n",
      "             MAX(CASE\n",
      "                     WHEN (CAST(\"rank\" AS VARCHAR) = '3') THEN \"DATE\"\n",
      "                     ELSE NULL\n",
      "                 END) AS \"DATE3\",\n",
      "             MAX(CASE\n",
      "                     WHEN (CAST(\"rank\" AS VARCHAR) = '3') THEN \"OP\"\n",
      "                     ELSE NULL\n",
      "                 END) AS \"OP3\"\n",
      "      FROM\n",
      "        (SELECT \"ID\",\n",
      "                ROW_NUMBER() OVER (PARTITION BY \"ID\"\n",
      "                                   ORDER BY \"DATE\",\n",
      "                                            \"OP\") AS \"rank\",\n",
      "                                  \"DATE\",\n",
      "                                  \"OP\"\n",
      "         FROM \"d\") a\n",
      "      GROUP BY \"ID\"\n",
      "      ORDER BY \"ID\") \"convert_records_out_3\") \"convert_records_in_2\"\n",
      "ORDER BY \"ID\"\n"
     ],
     "output_type": "stream"
    }
   ],
   "source": [
    "import data_algebra.SQLite\n",
    "\n",
    "db_model = data_algebra.SQLite.SQLiteModel()\n",
    "\n",
    "sql = ops.to_sql(db_model, pretty=True)\n",
    "\n",
    "print(sql)"
   ],
   "metadata": {
    "collapsed": false,
    "pycharm": {
     "name": "#%%\n",
     "is_executing": false
    }
   }
  },
  {
   "cell_type": "code",
   "execution_count": 6,
   "outputs": [
    {
     "data": {
      "text/plain": "    OP2   OP3 OP1                DATE3                DATE2  ID  \\\n0     B  None   A                 None  2015-04-25 00:00:00   1   \n1  None  None   A                 None                 None   2   \n2  None  None   D                 None                 None   3   \n3     B     D   A  2009-01-20 00:00:00  2009-01-20 00:00:00   4   \n4     A  None   B                 None  2010-10-10 00:00:00   5   \n5  None  None   B                 None                 None   6   \n\n                 DATE1  \n0  2001-01-02 00:00:00  \n1  2000-04-01 00:00:00  \n2  2014-04-07 00:00:00  \n3  2005-06-16 00:00:00  \n4  2003-11-09 00:00:00  \n5  2004-01-09 00:00:00  ",
      "text/html": "<div>\n<style scoped>\n    .dataframe tbody tr th:only-of-type {\n        vertical-align: middle;\n    }\n\n    .dataframe tbody tr th {\n        vertical-align: top;\n    }\n\n    .dataframe thead th {\n        text-align: right;\n    }\n</style>\n<table border=\"1\" class=\"dataframe\">\n  <thead>\n    <tr style=\"text-align: right;\">\n      <th></th>\n      <th>OP2</th>\n      <th>OP3</th>\n      <th>OP1</th>\n      <th>DATE3</th>\n      <th>DATE2</th>\n      <th>ID</th>\n      <th>DATE1</th>\n    </tr>\n  </thead>\n  <tbody>\n    <tr>\n      <th>0</th>\n      <td>B</td>\n      <td>None</td>\n      <td>A</td>\n      <td>None</td>\n      <td>2015-04-25 00:00:00</td>\n      <td>1</td>\n      <td>2001-01-02 00:00:00</td>\n    </tr>\n    <tr>\n      <th>1</th>\n      <td>None</td>\n      <td>None</td>\n      <td>A</td>\n      <td>None</td>\n      <td>None</td>\n      <td>2</td>\n      <td>2000-04-01 00:00:00</td>\n    </tr>\n    <tr>\n      <th>2</th>\n      <td>None</td>\n      <td>None</td>\n      <td>D</td>\n      <td>None</td>\n      <td>None</td>\n      <td>3</td>\n      <td>2014-04-07 00:00:00</td>\n    </tr>\n    <tr>\n      <th>3</th>\n      <td>B</td>\n      <td>D</td>\n      <td>A</td>\n      <td>2009-01-20 00:00:00</td>\n      <td>2009-01-20 00:00:00</td>\n      <td>4</td>\n      <td>2005-06-16 00:00:00</td>\n    </tr>\n    <tr>\n      <th>4</th>\n      <td>A</td>\n      <td>None</td>\n      <td>B</td>\n      <td>None</td>\n      <td>2010-10-10 00:00:00</td>\n      <td>5</td>\n      <td>2003-11-09 00:00:00</td>\n    </tr>\n    <tr>\n      <th>5</th>\n      <td>None</td>\n      <td>None</td>\n      <td>B</td>\n      <td>None</td>\n      <td>None</td>\n      <td>6</td>\n      <td>2004-01-09 00:00:00</td>\n    </tr>\n  </tbody>\n</table>\n</div>"
     },
     "metadata": {},
     "output_type": "execute_result",
     "execution_count": 6
    }
   ],
   "source": [
    "import sqlite3\n",
    "\n",
    "con = sqlite3.connect(\":memory:\")\n",
    "db_model.prepare_connection(con)\n",
    "d.to_sql('d', con, if_exists='replace')\n",
    "\n",
    "res_db = pandas.read_sql_query(sql, con)\n",
    "con.close()\n",
    "\n",
    "res_db"
   ],
   "metadata": {
    "collapsed": false,
    "pycharm": {
     "name": "#%%\n",
     "is_executing": false
    }
   }
  },
  {
   "cell_type": "code",
   "execution_count": 7,
   "outputs": [
    {
     "data": {
      "text/plain": "   ID                DATE1 OP1                DATE2   OP2  \\\n0   1  2001-01-02 00:00:00   A  2015-04-25 00:00:00     B   \n1   2  2000-04-01 00:00:00   A                 None  None   \n2   3  2014-04-07 00:00:00   D                 None  None   \n3   4  2005-06-16 00:00:00   A  2009-01-20 00:00:00     D   \n4   5  2003-11-09 00:00:00   B  2010-10-10 00:00:00     A   \n5   6  2004-01-09 00:00:00   B                 None  None   \n\n                 DATE3   OP3  \n0                 None  None  \n1                 None  None  \n2                 None  None  \n3  2012-12-01 00:00:00     C  \n4                 None  None  \n5                 None  None  ",
      "text/html": "<div>\n<style scoped>\n    .dataframe tbody tr th:only-of-type {\n        vertical-align: middle;\n    }\n\n    .dataframe tbody tr th {\n        vertical-align: top;\n    }\n\n    .dataframe thead th {\n        text-align: right;\n    }\n</style>\n<table border=\"1\" class=\"dataframe\">\n  <thead>\n    <tr style=\"text-align: right;\">\n      <th></th>\n      <th>ID</th>\n      <th>DATE1</th>\n      <th>OP1</th>\n      <th>DATE2</th>\n      <th>OP2</th>\n      <th>DATE3</th>\n      <th>OP3</th>\n    </tr>\n  </thead>\n  <tbody>\n    <tr>\n      <th>0</th>\n      <td>1</td>\n      <td>2001-01-02 00:00:00</td>\n      <td>A</td>\n      <td>2015-04-25 00:00:00</td>\n      <td>B</td>\n      <td>None</td>\n      <td>None</td>\n    </tr>\n    <tr>\n      <th>1</th>\n      <td>2</td>\n      <td>2000-04-01 00:00:00</td>\n      <td>A</td>\n      <td>None</td>\n      <td>None</td>\n      <td>None</td>\n      <td>None</td>\n    </tr>\n    <tr>\n      <th>2</th>\n      <td>3</td>\n      <td>2014-04-07 00:00:00</td>\n      <td>D</td>\n      <td>None</td>\n      <td>None</td>\n      <td>None</td>\n      <td>None</td>\n    </tr>\n    <tr>\n      <th>3</th>\n      <td>4</td>\n      <td>2005-06-16 00:00:00</td>\n      <td>A</td>\n      <td>2009-01-20 00:00:00</td>\n      <td>D</td>\n      <td>2012-12-01 00:00:00</td>\n      <td>C</td>\n    </tr>\n    <tr>\n      <th>4</th>\n      <td>5</td>\n      <td>2003-11-09 00:00:00</td>\n      <td>B</td>\n      <td>2010-10-10 00:00:00</td>\n      <td>A</td>\n      <td>None</td>\n      <td>None</td>\n    </tr>\n    <tr>\n      <th>5</th>\n      <td>6</td>\n      <td>2004-01-09 00:00:00</td>\n      <td>B</td>\n      <td>None</td>\n      <td>None</td>\n      <td>None</td>\n      <td>None</td>\n    </tr>\n  </tbody>\n</table>\n</div>"
     },
     "metadata": {},
     "output_type": "execute_result",
     "execution_count": 7
    }
   ],
   "source": [
    "ops2 = describe_table(d). \\\n",
    "    project({'OP': 'OP.max()'},\n",
    "            group_by=['ID', 'DATE']). \\\n",
    "    extend({'rank': '_row_number()'},\n",
    "           partition_by=['ID'],\n",
    "           order_by=['DATE']). \\\n",
    "    convert_records(record_map). \\\n",
    "    order_rows(['ID'])\n",
    "\n",
    "ops2.transform(d)"
   ],
   "metadata": {
    "collapsed": false,
    "pycharm": {
     "name": "#%%\n",
     "is_executing": false
    }
   }
  }
 ],
 "metadata": {
  "kernelspec": {
   "display_name": "Python 3",
   "language": "python",
   "name": "python3"
  },
  "language_info": {
   "codemirror_mode": {
    "name": "ipython",
    "version": 2
   },
   "file_extension": ".py",
   "mimetype": "text/x-python",
   "name": "python",
   "nbconvert_exporter": "python",
   "pygments_lexer": "ipython2",
   "version": "2.7.6"
  },
  "pycharm": {
   "stem_cell": {
    "cell_type": "raw",
    "source": [],
    "metadata": {
     "collapsed": false
    }
   }
  }
 },
 "nbformat": 4,
 "nbformat_minor": 0
}