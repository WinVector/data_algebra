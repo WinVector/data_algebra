{
 "cells": [
  {
   "attachments": {},
   "cell_type": "markdown",
   "id": "minimal-express",
   "metadata": {},
   "source": [
    "The most common data conversions are converting into or out-of row-records. This is what is commonly called pivoting/un-pivot or melt/cast. In cdata terms it is exactly the cases where the control table has two columns.\n",
    "\n",
    "In these cases we supply convenience functions for specifying the transforms.\n",
    "\n",
    "For our example we will assume we have some data where for each training epoch of a deep neural net we have the loss on both training and test data."
   ]
  },
  {
   "cell_type": "code",
   "execution_count": 1,
   "id": "popular-imagination",
   "metadata": {},
   "outputs": [],
   "source": [
    "import io\n",
    "import pandas\n",
    "import graphviz\n",
    "import seaborn as sns\n",
    "import matplotlib.pyplot as plt\n",
    "\n",
    "from data_algebra.cdata import *\n",
    "from transform_to_dot import transform_to_dot"
   ]
  },
  {
   "cell_type": "code",
   "execution_count": 2,
   "id": "treated-durham",
   "metadata": {},
   "outputs": [
    {
     "data": {
      "text/html": [
       "<div>\n",
       "<style scoped>\n",
       "    .dataframe tbody tr th:only-of-type {\n",
       "        vertical-align: middle;\n",
       "    }\n",
       "\n",
       "    .dataframe tbody tr th {\n",
       "        vertical-align: top;\n",
       "    }\n",
       "\n",
       "    .dataframe thead th {\n",
       "        text-align: right;\n",
       "    }\n",
       "</style>\n",
       "<table border=\"1\" class=\"dataframe\">\n",
       "  <thead>\n",
       "    <tr style=\"text-align: right;\">\n",
       "      <th></th>\n",
       "      <th>epoch</th>\n",
       "      <th>Train Error</th>\n",
       "      <th>Test Error</th>\n",
       "    </tr>\n",
       "  </thead>\n",
       "  <tbody>\n",
       "    <tr>\n",
       "      <th>0</th>\n",
       "      <td>10000</td>\n",
       "      <td>0.005455</td>\n",
       "      <td>0.008368</td>\n",
       "    </tr>\n",
       "    <tr>\n",
       "      <th>1</th>\n",
       "      <td>23778</td>\n",
       "      <td>0.003538</td>\n",
       "      <td>0.005427</td>\n",
       "    </tr>\n",
       "    <tr>\n",
       "      <th>2</th>\n",
       "      <td>37556</td>\n",
       "      <td>0.002815</td>\n",
       "      <td>0.004318</td>\n",
       "    </tr>\n",
       "    <tr>\n",
       "      <th>3</th>\n",
       "      <td>51335</td>\n",
       "      <td>0.002408</td>\n",
       "      <td>0.003693</td>\n",
       "    </tr>\n",
       "  </tbody>\n",
       "</table>\n",
       "</div>"
      ],
      "text/plain": [
       "   epoch  Train Error  Test Error\n",
       "0  10000     0.005455    0.008368\n",
       "1  23778     0.003538    0.005427\n",
       "2  37556     0.002815    0.004318\n",
       "3  51335     0.002408    0.003693"
      ]
     },
     "execution_count": 2,
     "metadata": {},
     "output_type": "execute_result"
    }
   ],
   "source": [
    "d = pandas.DataFrame({\n",
    "    'epoch': [10000, 23778, 37556, 51335],\n",
    "    'Train Error': [0.005455, 0.003538, 0.002815, 0.002408],\n",
    "    'Test Error': [0.008368, 0.005427, 0.004318, 0.003693],\n",
    "    })\n",
    "\n",
    "d"
   ]
  },
  {
   "attachments": {},
   "cell_type": "markdown",
   "id": "4978b7c5",
   "metadata": {},
   "source": [
    "For many graphing tasks we would like the above data to not have many values per row, but only one value per row.\n",
    "\n",
    "We can achieve this with a classic `melt9()`, or with cdata by asking for a \"row records to blocks\" transform specification."
   ]
  },
  {
   "cell_type": "code",
   "execution_count": 3,
   "id": "narrative-ceremony",
   "metadata": {},
   "outputs": [],
   "source": [
    "mp = pivot_rowrecs_to_blocks(\n",
    "    attribute_key_column=\"curve\",  # name for new column itself naming measurements\n",
    "    attribute_value_column=\"loss (or error)\", # name for new column containing measurement values\n",
    "    record_keys=[\"epoch\"], # columns defining an incoming record\n",
    "    record_value_columns=[\"Train Error\", \"Test Error\"],  # columns to take values from\n",
    ")\n",
    "\n"
   ]
  },
  {
   "attachments": {},
   "cell_type": "markdown",
   "id": "ad1feb8f",
   "metadata": {},
   "source": [
    "And the transform arranges our data for plotting as follows."
   ]
  },
  {
   "cell_type": "code",
   "execution_count": 4,
   "id": "silent-questionnaire",
   "metadata": {},
   "outputs": [
    {
     "data": {
      "text/html": [
       "<div>\n",
       "<style scoped>\n",
       "    .dataframe tbody tr th:only-of-type {\n",
       "        vertical-align: middle;\n",
       "    }\n",
       "\n",
       "    .dataframe tbody tr th {\n",
       "        vertical-align: top;\n",
       "    }\n",
       "\n",
       "    .dataframe thead th {\n",
       "        text-align: right;\n",
       "    }\n",
       "</style>\n",
       "<table border=\"1\" class=\"dataframe\">\n",
       "  <thead>\n",
       "    <tr style=\"text-align: right;\">\n",
       "      <th></th>\n",
       "      <th>epoch</th>\n",
       "      <th>curve</th>\n",
       "      <th>loss (or error)</th>\n",
       "    </tr>\n",
       "  </thead>\n",
       "  <tbody>\n",
       "    <tr>\n",
       "      <th>0</th>\n",
       "      <td>10000</td>\n",
       "      <td>Test Error</td>\n",
       "      <td>0.008368</td>\n",
       "    </tr>\n",
       "    <tr>\n",
       "      <th>1</th>\n",
       "      <td>10000</td>\n",
       "      <td>Train Error</td>\n",
       "      <td>0.005455</td>\n",
       "    </tr>\n",
       "    <tr>\n",
       "      <th>2</th>\n",
       "      <td>23778</td>\n",
       "      <td>Test Error</td>\n",
       "      <td>0.005427</td>\n",
       "    </tr>\n",
       "    <tr>\n",
       "      <th>3</th>\n",
       "      <td>23778</td>\n",
       "      <td>Train Error</td>\n",
       "      <td>0.003538</td>\n",
       "    </tr>\n",
       "    <tr>\n",
       "      <th>4</th>\n",
       "      <td>37556</td>\n",
       "      <td>Test Error</td>\n",
       "      <td>0.004318</td>\n",
       "    </tr>\n",
       "    <tr>\n",
       "      <th>5</th>\n",
       "      <td>37556</td>\n",
       "      <td>Train Error</td>\n",
       "      <td>0.002815</td>\n",
       "    </tr>\n",
       "    <tr>\n",
       "      <th>6</th>\n",
       "      <td>51335</td>\n",
       "      <td>Test Error</td>\n",
       "      <td>0.003693</td>\n",
       "    </tr>\n",
       "    <tr>\n",
       "      <th>7</th>\n",
       "      <td>51335</td>\n",
       "      <td>Train Error</td>\n",
       "      <td>0.002408</td>\n",
       "    </tr>\n",
       "  </tbody>\n",
       "</table>\n",
       "</div>"
      ],
      "text/plain": [
       "   epoch        curve  loss (or error)\n",
       "0  10000   Test Error         0.008368\n",
       "1  10000  Train Error         0.005455\n",
       "2  23778   Test Error         0.005427\n",
       "3  23778  Train Error         0.003538\n",
       "4  37556   Test Error         0.004318\n",
       "5  37556  Train Error         0.002815\n",
       "6  51335   Test Error         0.003693\n",
       "7  51335  Train Error         0.002408"
      ]
     },
     "execution_count": 4,
     "metadata": {},
     "output_type": "execute_result"
    }
   ],
   "source": [
    "d2 = mp.transform(d)\n",
    "d2"
   ]
  },
  {
   "cell_type": "code",
   "execution_count": 5,
   "id": "579bc694",
   "metadata": {},
   "outputs": [
    {
     "data": {
      "image/png": "[encoded data removed]",
      "text/plain": [
       "<Figure size 640x480 with 1 Axes>"
      ]
     },
     "metadata": {},
     "output_type": "display_data"
    }
   ],
   "source": [
    "sns.lineplot(\n",
    "    data=d2,\n",
    "    x=\"epoch\",\n",
    "    y=\"loss (or error)\",\n",
    "    hue=\"curve\"\n",
    ")\n",
    "plt.title(\"training performance\")\n",
    "plt.show()"
   ]
  },
  {
   "attachments": {},
   "cell_type": "markdown",
   "id": "incomplete-carroll",
   "metadata": {},
   "source": [
    "We can even invert the transform as follows."
   ]
  },
  {
   "cell_type": "code",
   "execution_count": 6,
   "id": "greenhouse-standard",
   "metadata": {},
   "outputs": [
    {
     "data": {
      "text/html": [
       "<div>\n",
       "<style scoped>\n",
       "    .dataframe tbody tr th:only-of-type {\n",
       "        vertical-align: middle;\n",
       "    }\n",
       "\n",
       "    .dataframe tbody tr th {\n",
       "        vertical-align: top;\n",
       "    }\n",
       "\n",
       "    .dataframe thead th {\n",
       "        text-align: right;\n",
       "    }\n",
       "</style>\n",
       "<table border=\"1\" class=\"dataframe\">\n",
       "  <thead>\n",
       "    <tr style=\"text-align: right;\">\n",
       "      <th></th>\n",
       "      <th>epoch</th>\n",
       "      <th>Train Error</th>\n",
       "      <th>Test Error</th>\n",
       "    </tr>\n",
       "  </thead>\n",
       "  <tbody>\n",
       "    <tr>\n",
       "      <th>0</th>\n",
       "      <td>10000</td>\n",
       "      <td>0.005455</td>\n",
       "      <td>0.008368</td>\n",
       "    </tr>\n",
       "    <tr>\n",
       "      <th>1</th>\n",
       "      <td>23778</td>\n",
       "      <td>0.003538</td>\n",
       "      <td>0.005427</td>\n",
       "    </tr>\n",
       "    <tr>\n",
       "      <th>2</th>\n",
       "      <td>37556</td>\n",
       "      <td>0.002815</td>\n",
       "      <td>0.004318</td>\n",
       "    </tr>\n",
       "    <tr>\n",
       "      <th>3</th>\n",
       "      <td>51335</td>\n",
       "      <td>0.002408</td>\n",
       "      <td>0.003693</td>\n",
       "    </tr>\n",
       "  </tbody>\n",
       "</table>\n",
       "</div>"
      ],
      "text/plain": [
       "   epoch  Train Error  Test Error\n",
       "0  10000     0.005455    0.008368\n",
       "1  23778     0.003538    0.005427\n",
       "2  37556     0.002815    0.004318\n",
       "3  51335     0.002408    0.003693"
      ]
     },
     "execution_count": 6,
     "metadata": {},
     "output_type": "execute_result"
    }
   ],
   "source": [
    "mp.inverse().transform(d2)"
   ]
  },
  {
   "cell_type": "markdown",
   "id": "hungry-ecology",
   "metadata": {},
   "source": [
    "Or we can define the inverse (with respect to columns preserved) transform by hand."
   ]
  },
  {
   "cell_type": "code",
   "execution_count": 7,
   "id": "danish-anthropology",
   "metadata": {},
   "outputs": [],
   "source": [
    "inv = pivot_blocks_to_rowrecs(\n",
    "    attribute_key_column=\"curve\",\n",
    "    attribute_value_column=\"loss (or error)\",\n",
    "    record_keys=[\"epoch\"],\n",
    "    record_value_columns=[\"Train Error\", \"Test Error\"],\n",
    ")\n"
   ]
  },
  {
   "cell_type": "code",
   "execution_count": 8,
   "id": "damaged-paintball",
   "metadata": {},
   "outputs": [
    {
     "data": {
      "text/html": [
       "<div>\n",
       "<style scoped>\n",
       "    .dataframe tbody tr th:only-of-type {\n",
       "        vertical-align: middle;\n",
       "    }\n",
       "\n",
       "    .dataframe tbody tr th {\n",
       "        vertical-align: top;\n",
       "    }\n",
       "\n",
       "    .dataframe thead th {\n",
       "        text-align: right;\n",
       "    }\n",
       "</style>\n",
       "<table border=\"1\" class=\"dataframe\">\n",
       "  <thead>\n",
       "    <tr style=\"text-align: right;\">\n",
       "      <th></th>\n",
       "      <th>epoch</th>\n",
       "      <th>Train Error</th>\n",
       "      <th>Test Error</th>\n",
       "    </tr>\n",
       "  </thead>\n",
       "  <tbody>\n",
       "    <tr>\n",
       "      <th>0</th>\n",
       "      <td>10000</td>\n",
       "      <td>0.005455</td>\n",
       "      <td>0.008368</td>\n",
       "    </tr>\n",
       "    <tr>\n",
       "      <th>1</th>\n",
       "      <td>23778</td>\n",
       "      <td>0.003538</td>\n",
       "      <td>0.005427</td>\n",
       "    </tr>\n",
       "    <tr>\n",
       "      <th>2</th>\n",
       "      <td>37556</td>\n",
       "      <td>0.002815</td>\n",
       "      <td>0.004318</td>\n",
       "    </tr>\n",
       "    <tr>\n",
       "      <th>3</th>\n",
       "      <td>51335</td>\n",
       "      <td>0.002408</td>\n",
       "      <td>0.003693</td>\n",
       "    </tr>\n",
       "  </tbody>\n",
       "</table>\n",
       "</div>"
      ],
      "text/plain": [
       "   epoch  Train Error  Test Error\n",
       "0  10000     0.005455    0.008368\n",
       "1  23778     0.003538    0.005427\n",
       "2  37556     0.002815    0.004318\n",
       "3  51335     0.002408    0.003693"
      ]
     },
     "execution_count": 8,
     "metadata": {},
     "output_type": "execute_result"
    }
   ],
   "source": [
    "inv.transform(d2)"
   ]
  },
  {
   "attachments": {},
   "cell_type": "markdown",
   "id": "7be01d5b",
   "metadata": {},
   "source": [
    "One of the great features of cdata is: it can help explain these and other transforms. The transform can tell us what inputs it expects."
   ]
  },
  {
   "cell_type": "code",
   "execution_count": 9,
   "id": "bright-kidney",
   "metadata": {},
   "outputs": [
    {
     "data": {
      "text/html": [
       "<style type=\"text/css\">\n",
       "#T_8c994_row0_col0 {\n",
       "  background-color: red;\n",
       "}\n",
       "</style>\n",
       "<table id=\"T_8c994\">\n",
       "  <thead>\n",
       "    <tr>\n",
       "      <th class=\"blank level0\" >&nbsp;</th>\n",
       "      <th id=\"T_8c994_level0_col0\" class=\"col_heading level0 col0\" >epoch</th>\n",
       "      <th id=\"T_8c994_level0_col1\" class=\"col_heading level0 col1\" >Train Error</th>\n",
       "      <th id=\"T_8c994_level0_col2\" class=\"col_heading level0 col2\" >Test Error</th>\n",
       "    </tr>\n",
       "  </thead>\n",
       "  <tbody>\n",
       "    <tr>\n",
       "      <th id=\"T_8c994_level0_row0\" class=\"row_heading level0 row0\" >0</th>\n",
       "      <td id=\"T_8c994_row0_col0\" class=\"data row0 col0\" >epoch record key</td>\n",
       "      <td id=\"T_8c994_row0_col1\" class=\"data row0 col1\" >Train Error value</td>\n",
       "      <td id=\"T_8c994_row0_col2\" class=\"data row0 col2\" >Test Error value</td>\n",
       "    </tr>\n",
       "  </tbody>\n",
       "</table>\n"
      ],
      "text/plain": [
       "<pandas.io.formats.style.Styler at 0x7f84616399c0>"
      ]
     },
     "execution_count": 9,
     "metadata": {},
     "output_type": "execute_result"
    }
   ],
   "source": [
    "example_input = mp.example_input()\n",
    "value_fields = [k for k in example_input.to_numpy().flatten() if k.endswith(\" value\")]\n",
    "\n",
    "(\n",
    "    example_input\n",
    "        .style\n",
    "        .set_properties(**{'background-color': 'red'}, subset=mp.record_keys())\n",
    "        .set_properties(**{'background-color': 'green'}, subset=mp.input_control_table_key_columns())\n",
    ")"
   ]
  },
  {
   "attachments": {},
   "cell_type": "markdown",
   "id": "5c6fff46",
   "metadata": {},
   "source": [
    "We can even apply the transform to the example input to get an example output."
   ]
  },
  {
   "cell_type": "code",
   "execution_count": 10,
   "id": "91d78d10",
   "metadata": {},
   "outputs": [
    {
     "data": {
      "text/html": [
       "<style type=\"text/css\">\n",
       "#T_27345_row0_col0, #T_27345_row1_col0 {\n",
       "  background-color: red;\n",
       "}\n",
       "#T_27345_row0_col1, #T_27345_row1_col1 {\n",
       "  background-color: green;\n",
       "}\n",
       "</style>\n",
       "<table id=\"T_27345\">\n",
       "  <thead>\n",
       "    <tr>\n",
       "      <th class=\"blank level0\" >&nbsp;</th>\n",
       "      <th id=\"T_27345_level0_col0\" class=\"col_heading level0 col0\" >epoch</th>\n",
       "      <th id=\"T_27345_level0_col1\" class=\"col_heading level0 col1\" >curve</th>\n",
       "      <th id=\"T_27345_level0_col2\" class=\"col_heading level0 col2\" >loss (or error)</th>\n",
       "    </tr>\n",
       "  </thead>\n",
       "  <tbody>\n",
       "    <tr>\n",
       "      <th id=\"T_27345_level0_row0\" class=\"row_heading level0 row0\" >0</th>\n",
       "      <td id=\"T_27345_row0_col0\" class=\"data row0 col0\" >epoch record key</td>\n",
       "      <td id=\"T_27345_row0_col1\" class=\"data row0 col1\" >Test Error</td>\n",
       "      <td id=\"T_27345_row0_col2\" class=\"data row0 col2\" >Test Error value</td>\n",
       "    </tr>\n",
       "    <tr>\n",
       "      <th id=\"T_27345_level0_row1\" class=\"row_heading level0 row1\" >1</th>\n",
       "      <td id=\"T_27345_row1_col0\" class=\"data row1 col0\" >epoch record key</td>\n",
       "      <td id=\"T_27345_row1_col1\" class=\"data row1 col1\" >Train Error</td>\n",
       "      <td id=\"T_27345_row1_col2\" class=\"data row1 col2\" >Train Error value</td>\n",
       "    </tr>\n",
       "  </tbody>\n",
       "</table>\n"
      ],
      "text/plain": [
       "<pandas.io.formats.style.Styler at 0x7f8461638e20>"
      ]
     },
     "execution_count": 10,
     "metadata": {},
     "output_type": "execute_result"
    }
   ],
   "source": [
    "example_output = mp.transform(example_input)\n",
    "\n",
    "(\n",
    "    example_output\n",
    "        .style\n",
    "        .set_properties(**{'background-color': 'red'}, subset=mp.record_keys())\n",
    "        .set_properties(**{'background-color': 'green'}, subset=mp.output_control_table_key_columns())\n",
    ")"
   ]
  },
  {
   "attachments": {},
   "cell_type": "markdown",
   "id": "b15a4f93",
   "metadata": {},
   "source": [
    "In the above examples we have color coded the 3 different types of columns we think about in data transforms:\n",
    "\n",
    "  * Record keys, in red, which identify which set of rows constitute a single data record.\n",
    "  * Table keys, in green, which specify where in a single dat record different pieces of data are.\n",
    "  * Value entires, not colored, which are the data we are working with."
   ]
  },
  {
   "attachments": {},
   "cell_type": "markdown",
   "id": "bc2cd9ee",
   "metadata": {},
   "source": [
    "We can also use arrows instead of colors to attempt to illustrate the transform."
   ]
  },
  {
   "cell_type": "code",
   "execution_count": 11,
   "id": "057c073e",
   "metadata": {},
   "outputs": [],
   "source": [
    "dot = transform_to_dot(mp)"
   ]
  },
  {
   "cell_type": "code",
   "execution_count": 12,
   "id": "31738155",
   "metadata": {},
   "outputs": [
    {
     "data": {
      "image/svg+xml": "<?xml version=\"1.0\" encoding=\"UTF-8\" standalone=\"no\"?>\n<!DOCTYPE svg PUBLIC \"-//W3C//DTD SVG 1.1//EN\"\n \"http://www.w3.org/Graphics/SVG/1.1/DTD/svg11.dtd\">\n<!-- Generated by graphviz version 2.47.3 (20210619.1520)\n -->\n<!-- Pages: 1 -->\n<svg width=\"783pt\" height=\"188pt\"\n viewBox=\"0.00 0.00 783.00 188.00\" xmlns=\"http://www.w3.org/2000/svg\" xmlns:xlink=\"http://www.w3.org/1999/xlink\">\n<g id=\"graph0\" class=\"graph\" transform=\"scale(1 1) rotate(0) translate(4 184)\">\n<polygon fill=\"white\" stroke=\"transparent\" points=\"-4,4 -4,-184 779,-184 779,4 -4,4\"/>\n<!-- in_c_0 -->\n<g id=\"node1\" class=\"node\">\n<title>in_c_0</title>\n<text text-anchor=\"middle\" x=\"89\" y=\"-158.3\" font-family=\"Helvetica,Arial,sans-serif\" font-size=\"14.00\" fill=\"blue\">epoch</text>\n</g>\n<!-- in_0_0 -->\n<g id=\"node2\" class=\"node\">\n<title>in_0_0</title>\n<text text-anchor=\"middle\" x=\"62\" y=\"-86.3\" font-family=\"Helvetica,Arial,sans-serif\" font-size=\"14.00\" fill=\"blue\">epoch record key</text>\n</g>\n<!-- in_c_0&#45;&gt;in_0_0 -->\n<g id=\"edge1\" class=\"edge\">\n<title>in_c_0&#45;&gt;in_0_0</title>\n<path fill=\"none\" stroke=\"blue\" stroke-dasharray=\"5,2\" d=\"M82.33,-143.7C78.14,-132.85 72.77,-118.92 68.6,-108.1\"/>\n</g>\n<!-- in_c_1 -->\n<g id=\"node3\" class=\"node\">\n<title>in_c_1</title>\n<text text-anchor=\"middle\" x=\"202\" y=\"-158.3\" font-family=\"Helvetica,Arial,sans-serif\" font-size=\"14.00\" fill=\"blue\">Train Error</text>\n</g>\n<!-- in_c_0&#45;&gt;in_c_1 -->\n<g id=\"edge4\" class=\"edge\">\n<title>in_c_0&#45;&gt;in_c_1</title>\n<path fill=\"none\" stroke=\"blue\" stroke-dasharray=\"5,2\" d=\"M116.81,-162C131.34,-162 145.87,-162 160.4,-162\"/>\n</g>\n<!-- in_0_1 -->\n<g id=\"node4\" class=\"node\">\n<title>in_0_1</title>\n<text text-anchor=\"middle\" x=\"202\" y=\"-86.3\" font-family=\"Helvetica,Arial,sans-serif\" font-size=\"14.00\" fill=\"blue\">Train Error value</text>\n</g>\n<!-- in_0_0&#45;&gt;in_0_1 -->\n<g id=\"edge6\" class=\"edge\">\n<title>in_0_0&#45;&gt;in_0_1</title>\n<path fill=\"none\" stroke=\"blue\" stroke-dasharray=\"5,2\" d=\"M124.07,-90C129.96,-90 135.84,-90 141.73,-90\"/>\n</g>\n<!-- in_c_1&#45;&gt;in_0_1 -->\n<g id=\"edge2\" class=\"edge\">\n<title>in_c_1&#45;&gt;in_0_1</title>\n<path fill=\"none\" stroke=\"blue\" stroke-dasharray=\"5,2\" d=\"M202,-143.7C202,-132.85 202,-118.92 202,-108.1\"/>\n</g>\n<!-- in_c_2 -->\n<g id=\"node5\" class=\"node\">\n<title>in_c_2</title>\n<text text-anchor=\"middle\" x=\"319\" y=\"-158.3\" font-family=\"Helvetica,Arial,sans-serif\" font-size=\"14.00\" fill=\"blue\">Test Error</text>\n</g>\n<!-- in_c_1&#45;&gt;in_c_2 -->\n<g id=\"edge5\" class=\"edge\">\n<title>in_c_1&#45;&gt;in_c_2</title>\n<path fill=\"none\" stroke=\"blue\" stroke-dasharray=\"5,2\" d=\"M243.59,-162C255.86,-162 268.14,-162 280.41,-162\"/>\n</g>\n<!-- in_0_2 -->\n<g id=\"node6\" class=\"node\">\n<title>in_0_2</title>\n<text text-anchor=\"middle\" x=\"338\" y=\"-86.3\" font-family=\"Helvetica,Arial,sans-serif\" font-size=\"14.00\" fill=\"blue\">Test Error value</text>\n</g>\n<!-- in_0_1&#45;&gt;in_0_2 -->\n<g id=\"edge7\" class=\"edge\">\n<title>in_0_1&#45;&gt;in_0_2</title>\n<path fill=\"none\" stroke=\"blue\" stroke-dasharray=\"5,2\" d=\"M262.03,-90C268.16,-90 274.3,-90 280.43,-90\"/>\n</g>\n<!-- out_1_2 -->\n<g id=\"node15\" class=\"node\">\n<title>out_1_2</title>\n<text text-anchor=\"middle\" x=\"715\" y=\"-14.3\" font-family=\"Helvetica,Arial,sans-serif\" font-size=\"14.00\" fill=\"orange\">Train Error value</text>\n</g>\n<!-- in_0_1&#45;&gt;out_1_2 -->\n<g id=\"edge20\" class=\"edge\">\n<title>in_0_1&#45;&gt;out_1_2</title>\n<path fill=\"none\" stroke=\"black\" d=\"M262.22,-73.8C265.52,-73.15 268.79,-72.54 272,-72 433.45,-44.77 479.59,-63.29 644.88,-36.04\"/>\n<polygon fill=\"black\" stroke=\"black\" points=\"654.9,-34.35 645.78,-40.45 649.97,-35.18 645.04,-36.01 645.04,-36.01 645.04,-36.01 649.97,-35.18 644.29,-31.57 654.9,-34.35 654.9,-34.35\"/>\n</g>\n<!-- in_c_2&#45;&gt;in_0_2 -->\n<g id=\"edge3\" class=\"edge\">\n<title>in_c_2&#45;&gt;in_0_2</title>\n<path fill=\"none\" stroke=\"blue\" stroke-dasharray=\"5,2\" d=\"M323.7,-143.7C326.64,-132.85 330.42,-118.92 333.36,-108.1\"/>\n</g>\n<!-- out_0_2 -->\n<g id=\"node14\" class=\"node\">\n<title>out_0_2</title>\n<text text-anchor=\"middle\" x=\"709\" y=\"-86.3\" font-family=\"Helvetica,Arial,sans-serif\" font-size=\"14.00\" fill=\"orange\">Test Error value</text>\n</g>\n<!-- in_0_2&#45;&gt;out_0_2 -->\n<g id=\"edge21\" class=\"edge\">\n<title>in_0_2&#45;&gt;out_0_2</title>\n<path fill=\"none\" stroke=\"black\" d=\"M368.31,-108.14C381.8,-115.2 398.19,-122.44 414,-126 509.4,-147.45 538.66,-147.7 634,-126 646.21,-123.22 658.76,-118.19 670.01,-112.76\"/>\n<polygon fill=\"black\" stroke=\"black\" points=\"679.12,-108.14 672.23,-116.68 674.66,-110.4 670.2,-112.66 670.2,-112.66 670.2,-112.66 674.66,-110.4 668.16,-108.65 679.12,-108.14 679.12,-108.14\"/>\n</g>\n<!-- out_c_0 -->\n<g id=\"node7\" class=\"node\">\n<title>out_c_0</title>\n<text text-anchor=\"middle\" x=\"499\" y=\"-158.3\" font-family=\"Helvetica,Arial,sans-serif\" font-size=\"14.00\" fill=\"orange\">epoch</text>\n</g>\n<!-- out_0_0 -->\n<g id=\"node8\" class=\"node\">\n<title>out_0_0</title>\n<text text-anchor=\"middle\" x=\"476\" y=\"-86.3\" font-family=\"Helvetica,Arial,sans-serif\" font-size=\"14.00\" fill=\"orange\">epoch record key</text>\n</g>\n<!-- out_c_0&#45;&gt;out_0_0 -->\n<g id=\"edge8\" class=\"edge\">\n<title>out_c_0&#45;&gt;out_0_0</title>\n<path fill=\"none\" stroke=\"orange\" stroke-dasharray=\"5,2\" d=\"M493.31,-143.7C489.75,-132.85 485.17,-118.92 481.62,-108.1\"/>\n</g>\n<!-- out_c_1 -->\n<g id=\"node10\" class=\"node\">\n<title>out_c_1</title>\n<text text-anchor=\"middle\" x=\"595\" y=\"-158.3\" font-family=\"Helvetica,Arial,sans-serif\" font-size=\"14.00\" fill=\"orange\">curve</text>\n</g>\n<!-- out_c_0&#45;&gt;out_c_1 -->\n<g id=\"edge14\" class=\"edge\">\n<title>out_c_0&#45;&gt;out_c_1</title>\n<path fill=\"none\" stroke=\"orange\" stroke-dasharray=\"5,2\" d=\"M526.75,-162C540.44,-162 554.12,-162 567.81,-162\"/>\n</g>\n<!-- out_1_0 -->\n<g id=\"node9\" class=\"node\">\n<title>out_1_0</title>\n<text text-anchor=\"middle\" x=\"473\" y=\"-14.3\" font-family=\"Helvetica,Arial,sans-serif\" font-size=\"14.00\" fill=\"orange\">epoch record key</text>\n</g>\n<!-- out_0_0&#45;&gt;out_1_0 -->\n<g id=\"edge9\" class=\"edge\">\n<title>out_0_0&#45;&gt;out_1_0</title>\n<path fill=\"none\" stroke=\"orange\" stroke-dasharray=\"5,2\" d=\"M475.26,-71.7C474.79,-60.85 474.2,-46.92 473.73,-36.1\"/>\n</g>\n<!-- out_0_1 -->\n<g id=\"node11\" class=\"node\">\n<title>out_0_1</title>\n<text text-anchor=\"middle\" x=\"595\" y=\"-86.3\" font-family=\"Helvetica,Arial,sans-serif\" font-size=\"14.00\" fill=\"orange\">Test Error</text>\n</g>\n<!-- out_0_0&#45;&gt;out_0_1 -->\n<g id=\"edge16\" class=\"edge\">\n<title>out_0_0&#45;&gt;out_0_1</title>\n<path fill=\"none\" stroke=\"orange\" stroke-dasharray=\"5,2\" d=\"M538.29,-90C544.34,-90 550.4,-90 556.45,-90\"/>\n</g>\n<!-- out_1_1 -->\n<g id=\"node12\" class=\"node\">\n<title>out_1_1</title>\n<text text-anchor=\"middle\" x=\"595\" y=\"-14.3\" font-family=\"Helvetica,Arial,sans-serif\" font-size=\"14.00\" fill=\"orange\">Train Error</text>\n</g>\n<!-- out_1_0&#45;&gt;out_1_1 -->\n<g id=\"edge18\" class=\"edge\">\n<title>out_1_0&#45;&gt;out_1_1</title>\n<path fill=\"none\" stroke=\"orange\" stroke-dasharray=\"5,2\" d=\"M535.43,-18C541.32,-18 547.22,-18 553.11,-18\"/>\n</g>\n<!-- out_c_1&#45;&gt;out_0_1 -->\n<g id=\"edge10\" class=\"edge\">\n<title>out_c_1&#45;&gt;out_0_1</title>\n<path fill=\"none\" stroke=\"orange\" stroke-dasharray=\"5,2\" d=\"M595,-143.7C595,-132.85 595,-118.92 595,-108.1\"/>\n</g>\n<!-- out_c_2 -->\n<g id=\"node13\" class=\"node\">\n<title>out_c_2</title>\n<text text-anchor=\"middle\" x=\"700\" y=\"-158.3\" font-family=\"Helvetica,Arial,sans-serif\" font-size=\"14.00\" fill=\"orange\">loss (or error)</text>\n</g>\n<!-- out_c_1&#45;&gt;out_c_2 -->\n<g id=\"edge15\" class=\"edge\">\n<title>out_c_1&#45;&gt;out_c_2</title>\n<path fill=\"none\" stroke=\"orange\" stroke-dasharray=\"5,2\" d=\"M622.07,-162C631.2,-162 640.34,-162 649.47,-162\"/>\n</g>\n<!-- out_0_1&#45;&gt;out_1_1 -->\n<g id=\"edge11\" class=\"edge\">\n<title>out_0_1&#45;&gt;out_1_1</title>\n<path fill=\"none\" stroke=\"orange\" stroke-dasharray=\"5,2\" d=\"M595,-71.7C595,-60.85 595,-46.92 595,-36.1\"/>\n</g>\n<!-- out_0_1&#45;&gt;out_0_2 -->\n<g id=\"edge17\" class=\"edge\">\n<title>out_0_1&#45;&gt;out_0_2</title>\n<path fill=\"none\" stroke=\"orange\" stroke-dasharray=\"5,2\" d=\"M633.74,-90C639.62,-90 645.5,-90 651.38,-90\"/>\n</g>\n<!-- out_1_1&#45;&gt;out_1_2 -->\n<g id=\"edge19\" class=\"edge\">\n<title>out_1_1&#45;&gt;out_1_2</title>\n<path fill=\"none\" stroke=\"orange\" stroke-dasharray=\"5,2\" d=\"M636.72,-18C642.73,-18 648.75,-18 654.76,-18\"/>\n</g>\n<!-- out_c_2&#45;&gt;out_0_2 -->\n<g id=\"edge12\" class=\"edge\">\n<title>out_c_2&#45;&gt;out_0_2</title>\n<path fill=\"none\" stroke=\"orange\" stroke-dasharray=\"5,2\" d=\"M702.22,-143.7C703.62,-132.85 705.41,-118.92 706.8,-108.1\"/>\n</g>\n<!-- out_0_2&#45;&gt;out_1_2 -->\n<g id=\"edge13\" class=\"edge\">\n<title>out_0_2&#45;&gt;out_1_2</title>\n<path fill=\"none\" stroke=\"orange\" stroke-dasharray=\"5,2\" d=\"M710.48,-71.7C711.41,-60.85 712.61,-46.92 713.53,-36.1\"/>\n</g>\n</g>\n</svg>\n",
      "text/plain": [
       "<graphviz.graphs.Digraph at 0x7f8420ba6530>"
      ]
     },
     "execution_count": 12,
     "metadata": {},
     "output_type": "execute_result"
    }
   ],
   "source": [
    "dot"
   ]
  }
 ],
 "metadata": {
  "kernelspec": {
   "display_name": "data_algebra_dev_env",
   "language": "python",
   "name": "python3"
  },
  "language_info": {
   "codemirror_mode": {
    "name": "ipython",
    "version": 3
   },
   "file_extension": ".py",
   "mimetype": "text/x-python",
   "name": "python",
   "nbconvert_exporter": "python",
   "pygments_lexer": "ipython3",
   "version": "3.10.8"
  },
  "vscode": {
   "interpreter": {
    "hash": "78f2e370b2228f20769c50722e4fc1c000bb9a3ed5301a20de3a1aec2b74b543"
   }
  }
 },
 "nbformat": 4,
 "nbformat_minor": 5
}
