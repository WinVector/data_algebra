{
 "cells": [
  {
   "cell_type": "markdown",
   "id": "minimal-express",
   "metadata": {},
   "source": [
    "The most common data conversions are converting into out of row-records. This is what is commonly called pivoting/un-pivot or melt/cast. In cdata terms it is exactly the cases where the control table has two columns.\n",
    "\n",
    "In these cases we supply convenience functions for specifying the transforms."
   ]
  },
  {
   "cell_type": "code",
   "execution_count": 1,
   "id": "popular-imagination",
   "metadata": {},
   "outputs": [],
   "source": [
    "import io\n",
    "import pandas\n",
    "\n",
    "from data_algebra.cdata import *"
   ]
  },
  {
   "cell_type": "code",
   "execution_count": 2,
   "id": "treated-durham",
   "metadata": {},
   "outputs": [
    {
     "data": {
      "text/html": [
       "<div>\n",
       "<style scoped>\n",
       "    .dataframe tbody tr th:only-of-type {\n",
       "        vertical-align: middle;\n",
       "    }\n",
       "\n",
       "    .dataframe tbody tr th {\n",
       "        vertical-align: top;\n",
       "    }\n",
       "\n",
       "    .dataframe thead th {\n",
       "        text-align: right;\n",
       "    }\n",
       "</style>\n",
       "<table border=\"1\" class=\"dataframe\">\n",
       "  <thead>\n",
       "    <tr style=\"text-align: right;\">\n",
       "      <th></th>\n",
       "      <th>n</th>\n",
       "      <th>n_A</th>\n",
       "      <th>n_B</th>\n",
       "      <th>T</th>\n",
       "      <th>E</th>\n",
       "      <th>T+E</th>\n",
       "    </tr>\n",
       "  </thead>\n",
       "  <tbody>\n",
       "    <tr>\n",
       "      <th>0</th>\n",
       "      <td>10000</td>\n",
       "      <td>9000.0</td>\n",
       "      <td>1000.0</td>\n",
       "      <td>0.005455</td>\n",
       "      <td>0.002913</td>\n",
       "      <td>0.008368</td>\n",
       "    </tr>\n",
       "    <tr>\n",
       "      <th>1</th>\n",
       "      <td>23778</td>\n",
       "      <td>21400.2</td>\n",
       "      <td>2377.8</td>\n",
       "      <td>0.003538</td>\n",
       "      <td>0.001889</td>\n",
       "      <td>0.005427</td>\n",
       "    </tr>\n",
       "    <tr>\n",
       "      <th>2</th>\n",
       "      <td>37556</td>\n",
       "      <td>33800.4</td>\n",
       "      <td>3755.6</td>\n",
       "      <td>0.002815</td>\n",
       "      <td>0.001503</td>\n",
       "      <td>0.004318</td>\n",
       "    </tr>\n",
       "    <tr>\n",
       "      <th>3</th>\n",
       "      <td>51335</td>\n",
       "      <td>46201.5</td>\n",
       "      <td>5133.5</td>\n",
       "      <td>0.002408</td>\n",
       "      <td>0.001286</td>\n",
       "      <td>0.003693</td>\n",
       "    </tr>\n",
       "  </tbody>\n",
       "</table>\n",
       "</div>"
      ],
      "text/plain": [
       "       n      n_A     n_B         T         E       T+E\n",
       "0  10000   9000.0  1000.0  0.005455  0.002913  0.008368\n",
       "1  23778  21400.2  2377.8  0.003538  0.001889  0.005427\n",
       "2  37556  33800.4  3755.6  0.002815  0.001503  0.004318\n",
       "3  51335  46201.5  5133.5  0.002408  0.001286  0.003693"
      ]
     },
     "execution_count": 2,
     "metadata": {},
     "output_type": "execute_result"
    }
   ],
   "source": [
    "d = pandas.DataFrame({\n",
    "    'n': [10000, 23778, 37556, 51335],\n",
    "    'n_A': [9000.0, 21400.2, 33800.4, 46201.5],\n",
    "    'n_B': [1000.0, 2377.8, 3755.6, 5133.5],\n",
    "    'T': [0.005455, 0.003538, 0.002815, 0.002408],\n",
    "    'E': [0.002913, 0.001889, 0.001503, 0.001286],\n",
    "    'T+E': [0.008368, 0.005427, 0.004318, 0.003693],\n",
    "    })\n",
    "\n",
    "d"
   ]
  },
  {
   "cell_type": "code",
   "execution_count": 3,
   "id": "narrative-ceremony",
   "metadata": {},
   "outputs": [
    {
     "data": {
      "text/plain": [
       "data_algebra.cdata.RecordMap(\n",
       "    blocks_in=None,\n",
       "    blocks_out=data_algebra.cdata.RecordSpecification(\n",
       "    record_keys=['n'],\n",
       "    control_table=pandas.DataFrame({\n",
       "    'curve': ['T', 'T+E'],\n",
       "    'effect size': ['T', 'T+E'],\n",
       "    }),\n",
       "    control_table_keys=['curve']))"
      ]
     },
     "execution_count": 3,
     "metadata": {},
     "output_type": "execute_result"
    }
   ],
   "source": [
    "mp = pivot_rowrecs_to_blocks(\n",
    "    attribute_key_column=\"curve\",  # name for new column itself naming measurements\n",
    "    attribute_value_column=\"effect size\", # name for new column containing measurement values\n",
    "    record_keys=[\"n\"], # columns defining an incoming record\n",
    "    record_value_columns=[\"T\", \"T+E\"],  # columns to take values from\n",
    ")\n",
    "\n",
    "mp"
   ]
  },
  {
   "cell_type": "code",
   "execution_count": 4,
   "id": "silent-questionnaire",
   "metadata": {},
   "outputs": [
    {
     "data": {
      "text/html": [
       "<div>\n",
       "<style scoped>\n",
       "    .dataframe tbody tr th:only-of-type {\n",
       "        vertical-align: middle;\n",
       "    }\n",
       "\n",
       "    .dataframe tbody tr th {\n",
       "        vertical-align: top;\n",
       "    }\n",
       "\n",
       "    .dataframe thead th {\n",
       "        text-align: right;\n",
       "    }\n",
       "</style>\n",
       "<table border=\"1\" class=\"dataframe\">\n",
       "  <thead>\n",
       "    <tr style=\"text-align: right;\">\n",
       "      <th></th>\n",
       "      <th>n</th>\n",
       "      <th>curve</th>\n",
       "      <th>effect size</th>\n",
       "    </tr>\n",
       "  </thead>\n",
       "  <tbody>\n",
       "    <tr>\n",
       "      <th>0</th>\n",
       "      <td>10000</td>\n",
       "      <td>T</td>\n",
       "      <td>0.005455</td>\n",
       "    </tr>\n",
       "    <tr>\n",
       "      <th>1</th>\n",
       "      <td>10000</td>\n",
       "      <td>T+E</td>\n",
       "      <td>0.008368</td>\n",
       "    </tr>\n",
       "    <tr>\n",
       "      <th>2</th>\n",
       "      <td>23778</td>\n",
       "      <td>T</td>\n",
       "      <td>0.003538</td>\n",
       "    </tr>\n",
       "    <tr>\n",
       "      <th>3</th>\n",
       "      <td>23778</td>\n",
       "      <td>T+E</td>\n",
       "      <td>0.005427</td>\n",
       "    </tr>\n",
       "    <tr>\n",
       "      <th>4</th>\n",
       "      <td>37556</td>\n",
       "      <td>T</td>\n",
       "      <td>0.002815</td>\n",
       "    </tr>\n",
       "    <tr>\n",
       "      <th>5</th>\n",
       "      <td>37556</td>\n",
       "      <td>T+E</td>\n",
       "      <td>0.004318</td>\n",
       "    </tr>\n",
       "    <tr>\n",
       "      <th>6</th>\n",
       "      <td>51335</td>\n",
       "      <td>T</td>\n",
       "      <td>0.002408</td>\n",
       "    </tr>\n",
       "    <tr>\n",
       "      <th>7</th>\n",
       "      <td>51335</td>\n",
       "      <td>T+E</td>\n",
       "      <td>0.003693</td>\n",
       "    </tr>\n",
       "  </tbody>\n",
       "</table>\n",
       "</div>"
      ],
      "text/plain": [
       "       n curve  effect size\n",
       "0  10000     T     0.005455\n",
       "1  10000   T+E     0.008368\n",
       "2  23778     T     0.003538\n",
       "3  23778   T+E     0.005427\n",
       "4  37556     T     0.002815\n",
       "5  37556   T+E     0.004318\n",
       "6  51335     T     0.002408\n",
       "7  51335   T+E     0.003693"
      ]
     },
     "execution_count": 4,
     "metadata": {},
     "output_type": "execute_result"
    }
   ],
   "source": [
    "d2 = mp.transform(d)\n",
    "d2"
   ]
  },
  {
   "cell_type": "markdown",
   "id": "incomplete-carroll",
   "metadata": {},
   "source": [
    "We could invert the transform as follows."
   ]
  },
  {
   "cell_type": "code",
   "execution_count": 5,
   "id": "greenhouse-standard",
   "metadata": {},
   "outputs": [
    {
     "data": {
      "text/plain": [
       "data_algebra.cdata.RecordMap(\n",
       "    blocks_in=data_algebra.cdata.RecordSpecification(\n",
       "    record_keys=['n'],\n",
       "    control_table=pandas.DataFrame({\n",
       "    'curve': ['T', 'T+E'],\n",
       "    'effect size': ['T', 'T+E'],\n",
       "    }),\n",
       "    control_table_keys=['curve']),\n",
       "    blocks_out=None)"
      ]
     },
     "execution_count": 5,
     "metadata": {},
     "output_type": "execute_result"
    }
   ],
   "source": [
    "mp.inverse()"
   ]
  },
  {
   "cell_type": "markdown",
   "id": "hungry-ecology",
   "metadata": {},
   "source": [
    "Or we can define the inverse (with respect to columns preserved) transform by hand."
   ]
  },
  {
   "cell_type": "code",
   "execution_count": 6,
   "id": "danish-anthropology",
   "metadata": {},
   "outputs": [
    {
     "data": {
      "text/plain": [
       "data_algebra.cdata.RecordMap(\n",
       "    blocks_in=data_algebra.cdata.RecordSpecification(\n",
       "    record_keys=['n'],\n",
       "    control_table=pandas.DataFrame({\n",
       "    'curve': ['T', 'T+E'],\n",
       "    'effect size': ['T', 'T+E'],\n",
       "    }),\n",
       "    control_table_keys=['curve']),\n",
       "    blocks_out=None)"
      ]
     },
     "execution_count": 6,
     "metadata": {},
     "output_type": "execute_result"
    }
   ],
   "source": [
    "inv = pivot_blocks_to_rowrecs(\n",
    "    attribute_key_column=\"curve\",\n",
    "    attribute_value_column=\"effect size\",\n",
    "    record_keys=[\"n\"],\n",
    "    record_value_columns=[\"T\", \"T+E\"],\n",
    ")\n",
    "\n",
    "inv"
   ]
  },
  {
   "cell_type": "code",
   "execution_count": 7,
   "id": "damaged-paintball",
   "metadata": {},
   "outputs": [
    {
     "data": {
      "text/html": [
       "<div>\n",
       "<style scoped>\n",
       "    .dataframe tbody tr th:only-of-type {\n",
       "        vertical-align: middle;\n",
       "    }\n",
       "\n",
       "    .dataframe tbody tr th {\n",
       "        vertical-align: top;\n",
       "    }\n",
       "\n",
       "    .dataframe thead th {\n",
       "        text-align: right;\n",
       "    }\n",
       "</style>\n",
       "<table border=\"1\" class=\"dataframe\">\n",
       "  <thead>\n",
       "    <tr style=\"text-align: right;\">\n",
       "      <th></th>\n",
       "      <th>n</th>\n",
       "      <th>T</th>\n",
       "      <th>T+E</th>\n",
       "    </tr>\n",
       "  </thead>\n",
       "  <tbody>\n",
       "    <tr>\n",
       "      <th>0</th>\n",
       "      <td>10000</td>\n",
       "      <td>0.005455</td>\n",
       "      <td>0.008368</td>\n",
       "    </tr>\n",
       "    <tr>\n",
       "      <th>1</th>\n",
       "      <td>23778</td>\n",
       "      <td>0.003538</td>\n",
       "      <td>0.005427</td>\n",
       "    </tr>\n",
       "    <tr>\n",
       "      <th>2</th>\n",
       "      <td>37556</td>\n",
       "      <td>0.002815</td>\n",
       "      <td>0.004318</td>\n",
       "    </tr>\n",
       "    <tr>\n",
       "      <th>3</th>\n",
       "      <td>51335</td>\n",
       "      <td>0.002408</td>\n",
       "      <td>0.003693</td>\n",
       "    </tr>\n",
       "  </tbody>\n",
       "</table>\n",
       "</div>"
      ],
      "text/plain": [
       "       n         T       T+E\n",
       "0  10000  0.005455  0.008368\n",
       "1  23778  0.003538  0.005427\n",
       "2  37556  0.002815  0.004318\n",
       "3  51335  0.002408  0.003693"
      ]
     },
     "execution_count": 7,
     "metadata": {},
     "output_type": "execute_result"
    }
   ],
   "source": [
    "inv.transform(d2)"
   ]
  },
  {
   "cell_type": "code",
   "execution_count": null,
   "id": "bright-kidney",
   "metadata": {},
   "outputs": [],
   "source": []
  }
 ],
 "metadata": {
  "kernelspec": {
   "display_name": "Python 3",
   "language": "python",
   "name": "python3"
  },
  "language_info": {
   "codemirror_mode": {
    "name": "ipython",
    "version": 3
   },
   "file_extension": ".py",
   "mimetype": "text/x-python",
   "name": "python",
   "nbconvert_exporter": "python",
   "pygments_lexer": "ipython3",
   "version": "3.7.7"
  }
 },
 "nbformat": 4,
 "nbformat_minor": 5
}
