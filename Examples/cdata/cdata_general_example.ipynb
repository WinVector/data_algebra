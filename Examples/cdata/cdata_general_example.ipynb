{
 "cells": [
  {
   "cell_type": "code",
   "execution_count": 1,
   "metadata": {
    "collapsed": true,
    "pycharm": {
     "name": "#%%\n",
     "is_executing": false
    }
   },
   "outputs": [
    {
     "data": {
      "text/plain": "   record_id   row  col1  col2  col3\n0          1  row1     1     2     3\n1          1  row2     4     5     6\n2          1  row3     7     8     9\n3          2  row1    11    12    13\n4          2  row2    14    15    16\n5          2  row3    17    18    19",
      "text/html": "<div>\n<style scoped>\n    .dataframe tbody tr th:only-of-type {\n        vertical-align: middle;\n    }\n\n    .dataframe tbody tr th {\n        vertical-align: top;\n    }\n\n    .dataframe thead th {\n        text-align: right;\n    }\n</style>\n<table border=\"1\" class=\"dataframe\">\n  <thead>\n    <tr style=\"text-align: right;\">\n      <th></th>\n      <th>record_id</th>\n      <th>row</th>\n      <th>col1</th>\n      <th>col2</th>\n      <th>col3</th>\n    </tr>\n  </thead>\n  <tbody>\n    <tr>\n      <th>0</th>\n      <td>1</td>\n      <td>row1</td>\n      <td>1</td>\n      <td>2</td>\n      <td>3</td>\n    </tr>\n    <tr>\n      <th>1</th>\n      <td>1</td>\n      <td>row2</td>\n      <td>4</td>\n      <td>5</td>\n      <td>6</td>\n    </tr>\n    <tr>\n      <th>2</th>\n      <td>1</td>\n      <td>row3</td>\n      <td>7</td>\n      <td>8</td>\n      <td>9</td>\n    </tr>\n    <tr>\n      <th>3</th>\n      <td>2</td>\n      <td>row1</td>\n      <td>11</td>\n      <td>12</td>\n      <td>13</td>\n    </tr>\n    <tr>\n      <th>4</th>\n      <td>2</td>\n      <td>row2</td>\n      <td>14</td>\n      <td>15</td>\n      <td>16</td>\n    </tr>\n    <tr>\n      <th>5</th>\n      <td>2</td>\n      <td>row3</td>\n      <td>17</td>\n      <td>18</td>\n      <td>19</td>\n    </tr>\n  </tbody>\n</table>\n</div>"
     },
     "metadata": {},
     "output_type": "execute_result",
     "execution_count": 1
    }
   ],
   "source": [
    "import pandas\n",
    "\n",
    "import data_algebra.cdata\n",
    "import data_algebra.cdata_impl\n",
    "\n",
    "data = pandas.DataFrame({\n",
    "    'record_id': [1, 1, 1, 2, 2, 2],\n",
    "    'row': ['row1', 'row2', 'row3', 'row1', 'row2', 'row3'],\n",
    "    'col1': [1, 4, 7, 11, 14, 17],\n",
    "    'col2': [2, 5, 8, 12, 15, 18],\n",
    "    'col3': [3, 6, 9, 13, 16, 19],\n",
    "})\n",
    "\n",
    "data"
   ]
  },
  {
   "cell_type": "code",
   "execution_count": 2,
   "outputs": [
    {
     "data": {
      "text/plain": "    row col1 col2 col3\n0  row1  v11  v12  v13\n1  row2  v21  v22  v23\n2  row3  v31  v32  v33",
      "text/html": "<div>\n<style scoped>\n    .dataframe tbody tr th:only-of-type {\n        vertical-align: middle;\n    }\n\n    .dataframe tbody tr th {\n        vertical-align: top;\n    }\n\n    .dataframe thead th {\n        text-align: right;\n    }\n</style>\n<table border=\"1\" class=\"dataframe\">\n  <thead>\n    <tr style=\"text-align: right;\">\n      <th></th>\n      <th>row</th>\n      <th>col1</th>\n      <th>col2</th>\n      <th>col3</th>\n    </tr>\n  </thead>\n  <tbody>\n    <tr>\n      <th>0</th>\n      <td>row1</td>\n      <td>v11</td>\n      <td>v12</td>\n      <td>v13</td>\n    </tr>\n    <tr>\n      <th>1</th>\n      <td>row2</td>\n      <td>v21</td>\n      <td>v22</td>\n      <td>v23</td>\n    </tr>\n    <tr>\n      <th>2</th>\n      <td>row3</td>\n      <td>v31</td>\n      <td>v32</td>\n      <td>v33</td>\n    </tr>\n  </tbody>\n</table>\n</div>"
     },
     "metadata": {},
     "output_type": "execute_result",
     "execution_count": 2
    }
   ],
   "source": [
    "record_keys = ['record_id']\n",
    "\n",
    "incoming_shape = pandas.DataFrame({\n",
    "    'row': ['row1', 'row2', 'row3'],\n",
    "    'col1': ['v11', 'v21', 'v31'],\n",
    "    'col2': ['v12', 'v22', 'v32'],\n",
    "    'col3': ['v13', 'v23', 'v33'],\n",
    "})\n",
    "\n",
    "incoming_shape"
   ],
   "metadata": {
    "collapsed": false,
    "pycharm": {
     "name": "#%%\n",
     "is_executing": false
    }
   }
  },
  {
   "cell_type": "code",
   "execution_count": 3,
   "outputs": [
    {
     "data": {
      "text/plain": "  column_label c_row1 c_row2 c_row3\n0     rec_col1    v11    v21    v31\n1     rec_col2    v12    v22    v32\n2     rec_col3    v13    v23    v33",
      "text/html": "<div>\n<style scoped>\n    .dataframe tbody tr th:only-of-type {\n        vertical-align: middle;\n    }\n\n    .dataframe tbody tr th {\n        vertical-align: top;\n    }\n\n    .dataframe thead th {\n        text-align: right;\n    }\n</style>\n<table border=\"1\" class=\"dataframe\">\n  <thead>\n    <tr style=\"text-align: right;\">\n      <th></th>\n      <th>column_label</th>\n      <th>c_row1</th>\n      <th>c_row2</th>\n      <th>c_row3</th>\n    </tr>\n  </thead>\n  <tbody>\n    <tr>\n      <th>0</th>\n      <td>rec_col1</td>\n      <td>v11</td>\n      <td>v21</td>\n      <td>v31</td>\n    </tr>\n    <tr>\n      <th>1</th>\n      <td>rec_col2</td>\n      <td>v12</td>\n      <td>v22</td>\n      <td>v32</td>\n    </tr>\n    <tr>\n      <th>2</th>\n      <td>rec_col3</td>\n      <td>v13</td>\n      <td>v23</td>\n      <td>v33</td>\n    </tr>\n  </tbody>\n</table>\n</div>"
     },
     "metadata": {},
     "output_type": "execute_result",
     "execution_count": 3
    }
   ],
   "source": [
    "outgoing_shape = pandas.DataFrame({\n",
    "    'column_label': ['rec_col1', 'rec_col2', 'rec_col3'],\n",
    "    'c_row1': ['v11', 'v12', 'v13'],\n",
    "    'c_row2': ['v21', 'v22', 'v23'],\n",
    "    'c_row3': ['v31', 'v32', 'v33'],\n",
    "})\n",
    "\n",
    "outgoing_shape"
   ],
   "metadata": {
    "collapsed": false,
    "pycharm": {
     "name": "#%%\n",
     "is_executing": false
    }
   }
  },
  {
   "cell_type": "code",
   "execution_count": 4,
   "outputs": [
    {
     "data": {
      "text/plain": "data_algebra.cdata_impl.RecordMap(\n    blocks_in=data_algebra.cdata.RecordSpecification(\n    record_keys=['record_id'],\n    control_table=pandas.DataFrame({\n    'row': ['row1', 'row2', 'row3'],\n    'col1': ['v11', 'v21', 'v31'],\n    'col2': ['v12', 'v22', 'v32'],\n    'col3': ['v13', 'v23', 'v33'],\n    }),\n    control_table_keys=['row']),\n    blocks_out=data_algebra.cdata.RecordSpecification(\n    record_keys=['record_id'],\n    control_table=pandas.DataFrame({\n    'column_label': ['rec_col1', 'rec_col2', 'rec_col3'],\n    'c_row1': ['v11', 'v12', 'v13'],\n    'c_row2': ['v21', 'v22', 'v23'],\n    'c_row3': ['v31', 'v32', 'v33'],\n    }),\n    control_table_keys=['column_label']))"
     },
     "metadata": {},
     "output_type": "execute_result",
     "execution_count": 4
    }
   ],
   "source": [
    "record_map = data_algebra.cdata_impl.RecordMap(\n",
    "    blocks_in=data_algebra.cdata.RecordSpecification(\n",
    "        control_table=incoming_shape,\n",
    "        record_keys=record_keys\n",
    "    ),\n",
    "    blocks_out=data_algebra.cdata.RecordSpecification(\n",
    "        control_table=outgoing_shape,\n",
    "        record_keys=record_keys\n",
    "    ),\n",
    ")\n",
    "\n",
    "record_map"
   ],
   "metadata": {
    "collapsed": false,
    "pycharm": {
     "name": "#%%\n",
     "is_executing": false
    }
   }
  },
  {
   "cell_type": "code",
   "execution_count": 5,
   "outputs": [
    {
     "data": {
      "text/plain": "   record_id column_label  c_row1  c_row2  c_row3\n0          1     rec_col1       1       4       7\n1          1     rec_col2       2       5       8\n2          1     rec_col3       3       6       9\n3          2     rec_col1      11      14      17\n4          2     rec_col2      12      15      18\n5          2     rec_col3      13      16      19",
      "text/html": "<div>\n<style scoped>\n    .dataframe tbody tr th:only-of-type {\n        vertical-align: middle;\n    }\n\n    .dataframe tbody tr th {\n        vertical-align: top;\n    }\n\n    .dataframe thead th {\n        text-align: right;\n    }\n</style>\n<table border=\"1\" class=\"dataframe\">\n  <thead>\n    <tr style=\"text-align: right;\">\n      <th></th>\n      <th>record_id</th>\n      <th>column_label</th>\n      <th>c_row1</th>\n      <th>c_row2</th>\n      <th>c_row3</th>\n    </tr>\n  </thead>\n  <tbody>\n    <tr>\n      <th>0</th>\n      <td>1</td>\n      <td>rec_col1</td>\n      <td>1</td>\n      <td>4</td>\n      <td>7</td>\n    </tr>\n    <tr>\n      <th>1</th>\n      <td>1</td>\n      <td>rec_col2</td>\n      <td>2</td>\n      <td>5</td>\n      <td>8</td>\n    </tr>\n    <tr>\n      <th>2</th>\n      <td>1</td>\n      <td>rec_col3</td>\n      <td>3</td>\n      <td>6</td>\n      <td>9</td>\n    </tr>\n    <tr>\n      <th>3</th>\n      <td>2</td>\n      <td>rec_col1</td>\n      <td>11</td>\n      <td>14</td>\n      <td>17</td>\n    </tr>\n    <tr>\n      <th>4</th>\n      <td>2</td>\n      <td>rec_col2</td>\n      <td>12</td>\n      <td>15</td>\n      <td>18</td>\n    </tr>\n    <tr>\n      <th>5</th>\n      <td>2</td>\n      <td>rec_col3</td>\n      <td>13</td>\n      <td>16</td>\n      <td>19</td>\n    </tr>\n  </tbody>\n</table>\n</div>"
     },
     "metadata": {},
     "output_type": "execute_result",
     "execution_count": 5
    }
   ],
   "source": [
    "res = record_map.transform(data)\n",
    "\n",
    "res"
   ],
   "metadata": {
    "collapsed": false,
    "pycharm": {
     "name": "#%%\n",
     "is_executing": false
    }
   }
  },
  {
   "cell_type": "code",
   "execution_count": 6,
   "outputs": [
    {
     "data": {
      "text/plain": "data_algebra.cdata_impl.RecordMap(\n    blocks_in=data_algebra.cdata.RecordSpecification(\n    record_keys=['record_id'],\n    control_table=pandas.DataFrame({\n    'column_label': ['rec_col1', 'rec_col2', 'rec_col3'],\n    'c_row1': ['v11', 'v12', 'v13'],\n    'c_row2': ['v21', 'v22', 'v23'],\n    'c_row3': ['v31', 'v32', 'v33'],\n    }),\n    control_table_keys=['column_label']),\n    blocks_out=data_algebra.cdata.RecordSpecification(\n    record_keys=['record_id'],\n    control_table=pandas.DataFrame({\n    'row': ['row1', 'row2', 'row3'],\n    'col1': ['v11', 'v21', 'v31'],\n    'col2': ['v12', 'v22', 'v32'],\n    'col3': ['v13', 'v23', 'v33'],\n    }),\n    control_table_keys=['row']))"
     },
     "metadata": {},
     "output_type": "execute_result",
     "execution_count": 6
    }
   ],
   "source": [
    "inv = record_map.inverse()\n",
    "\n",
    "inv"
   ],
   "metadata": {
    "collapsed": false,
    "pycharm": {
     "name": "#%%\n",
     "is_executing": false
    }
   }
  },
  {
   "cell_type": "code",
   "execution_count": 7,
   "outputs": [
    {
     "data": {
      "text/plain": "   record_id   row  col1  col2  col3\n0          1  row1     1     2     3\n1          1  row2     4     5     6\n2          1  row3     7     8     9\n3          2  row1    11    12    13\n4          2  row2    14    15    16\n5          2  row3    17    18    19",
      "text/html": "<div>\n<style scoped>\n    .dataframe tbody tr th:only-of-type {\n        vertical-align: middle;\n    }\n\n    .dataframe tbody tr th {\n        vertical-align: top;\n    }\n\n    .dataframe thead th {\n        text-align: right;\n    }\n</style>\n<table border=\"1\" class=\"dataframe\">\n  <thead>\n    <tr style=\"text-align: right;\">\n      <th></th>\n      <th>record_id</th>\n      <th>row</th>\n      <th>col1</th>\n      <th>col2</th>\n      <th>col3</th>\n    </tr>\n  </thead>\n  <tbody>\n    <tr>\n      <th>0</th>\n      <td>1</td>\n      <td>row1</td>\n      <td>1</td>\n      <td>2</td>\n      <td>3</td>\n    </tr>\n    <tr>\n      <th>1</th>\n      <td>1</td>\n      <td>row2</td>\n      <td>4</td>\n      <td>5</td>\n      <td>6</td>\n    </tr>\n    <tr>\n      <th>2</th>\n      <td>1</td>\n      <td>row3</td>\n      <td>7</td>\n      <td>8</td>\n      <td>9</td>\n    </tr>\n    <tr>\n      <th>3</th>\n      <td>2</td>\n      <td>row1</td>\n      <td>11</td>\n      <td>12</td>\n      <td>13</td>\n    </tr>\n    <tr>\n      <th>4</th>\n      <td>2</td>\n      <td>row2</td>\n      <td>14</td>\n      <td>15</td>\n      <td>16</td>\n    </tr>\n    <tr>\n      <th>5</th>\n      <td>2</td>\n      <td>row3</td>\n      <td>17</td>\n      <td>18</td>\n      <td>19</td>\n    </tr>\n  </tbody>\n</table>\n</div>"
     },
     "metadata": {},
     "output_type": "execute_result",
     "execution_count": 7
    }
   ],
   "source": [
    "inv.transform(res)"
   ],
   "metadata": {
    "collapsed": false,
    "pycharm": {
     "name": "#%%\n",
     "is_executing": false
    }
   }
  },
  {
   "cell_type": "code",
   "execution_count": 8,
   "outputs": [
    {
     "data": {
      "text/plain": "    row col1 col2 col3  record_id\n0  row1  v11  v12  v13  record_id\n1  row2  v21  v22  v23  record_id\n2  row3  v31  v32  v33  record_id",
      "text/html": "<div>\n<style scoped>\n    .dataframe tbody tr th:only-of-type {\n        vertical-align: middle;\n    }\n\n    .dataframe tbody tr th {\n        vertical-align: top;\n    }\n\n    .dataframe thead th {\n        text-align: right;\n    }\n</style>\n<table border=\"1\" class=\"dataframe\">\n  <thead>\n    <tr style=\"text-align: right;\">\n      <th></th>\n      <th>row</th>\n      <th>col1</th>\n      <th>col2</th>\n      <th>col3</th>\n      <th>record_id</th>\n    </tr>\n  </thead>\n  <tbody>\n    <tr>\n      <th>0</th>\n      <td>row1</td>\n      <td>v11</td>\n      <td>v12</td>\n      <td>v13</td>\n      <td>record_id</td>\n    </tr>\n    <tr>\n      <th>1</th>\n      <td>row2</td>\n      <td>v21</td>\n      <td>v22</td>\n      <td>v23</td>\n      <td>record_id</td>\n    </tr>\n    <tr>\n      <th>2</th>\n      <td>row3</td>\n      <td>v31</td>\n      <td>v32</td>\n      <td>v33</td>\n      <td>record_id</td>\n    </tr>\n  </tbody>\n</table>\n</div>"
     },
     "metadata": {},
     "output_type": "execute_result",
     "execution_count": 8
    }
   ],
   "source": [
    "inp = record_map.example_input()\n",
    "\n",
    "inp"
   ],
   "metadata": {
    "collapsed": false,
    "pycharm": {
     "name": "#%%%\n",
     "is_executing": false
    }
   }
  },
  {
   "cell_type": "code",
   "execution_count": 9,
   "outputs": [
    {
     "data": {
      "text/plain": "   record_id column_label c_row1 c_row2 c_row3\n0  record_id     rec_col1    v11    v21    v31\n1  record_id     rec_col2    v12    v22    v32\n2  record_id     rec_col3    v13    v23    v33",
      "text/html": "<div>\n<style scoped>\n    .dataframe tbody tr th:only-of-type {\n        vertical-align: middle;\n    }\n\n    .dataframe tbody tr th {\n        vertical-align: top;\n    }\n\n    .dataframe thead th {\n        text-align: right;\n    }\n</style>\n<table border=\"1\" class=\"dataframe\">\n  <thead>\n    <tr style=\"text-align: right;\">\n      <th></th>\n      <th>record_id</th>\n      <th>column_label</th>\n      <th>c_row1</th>\n      <th>c_row2</th>\n      <th>c_row3</th>\n    </tr>\n  </thead>\n  <tbody>\n    <tr>\n      <th>0</th>\n      <td>record_id</td>\n      <td>rec_col1</td>\n      <td>v11</td>\n      <td>v21</td>\n      <td>v31</td>\n    </tr>\n    <tr>\n      <th>1</th>\n      <td>record_id</td>\n      <td>rec_col2</td>\n      <td>v12</td>\n      <td>v22</td>\n      <td>v32</td>\n    </tr>\n    <tr>\n      <th>2</th>\n      <td>record_id</td>\n      <td>rec_col3</td>\n      <td>v13</td>\n      <td>v23</td>\n      <td>v33</td>\n    </tr>\n  </tbody>\n</table>\n</div>"
     },
     "metadata": {},
     "output_type": "execute_result",
     "execution_count": 9
    }
   ],
   "source": [
    "out = record_map.transform(inp)\n",
    "\n",
    "out"
   ],
   "metadata": {
    "collapsed": false,
    "pycharm": {
     "name": "#%%\n",
     "is_executing": false
    }
   }
  },
  {
   "cell_type": "markdown",
   "source": [
    "Compose steps."
   ],
   "metadata": {
    "collapsed": false,
    "pycharm": {
     "name": "#%% md\n"
    }
   }
  },
  {
   "cell_type": "code",
   "execution_count": 10,
   "outputs": [
    {
     "data": {
      "text/plain": "   record_id column_label  c_row1  c_row2  c_row3\n0          1     rec_col1       1       4       7\n1          1     rec_col2       2       5       8\n2          1     rec_col3       3       6       9\n3          2     rec_col1      11      14      17\n4          2     rec_col2      12      15      18\n5          2     rec_col3      13      16      19",
      "text/html": "<div>\n<style scoped>\n    .dataframe tbody tr th:only-of-type {\n        vertical-align: middle;\n    }\n\n    .dataframe tbody tr th {\n        vertical-align: top;\n    }\n\n    .dataframe thead th {\n        text-align: right;\n    }\n</style>\n<table border=\"1\" class=\"dataframe\">\n  <thead>\n    <tr style=\"text-align: right;\">\n      <th></th>\n      <th>record_id</th>\n      <th>column_label</th>\n      <th>c_row1</th>\n      <th>c_row2</th>\n      <th>c_row3</th>\n    </tr>\n  </thead>\n  <tbody>\n    <tr>\n      <th>0</th>\n      <td>1</td>\n      <td>rec_col1</td>\n      <td>1</td>\n      <td>4</td>\n      <td>7</td>\n    </tr>\n    <tr>\n      <th>1</th>\n      <td>1</td>\n      <td>rec_col2</td>\n      <td>2</td>\n      <td>5</td>\n      <td>8</td>\n    </tr>\n    <tr>\n      <th>2</th>\n      <td>1</td>\n      <td>rec_col3</td>\n      <td>3</td>\n      <td>6</td>\n      <td>9</td>\n    </tr>\n    <tr>\n      <th>3</th>\n      <td>2</td>\n      <td>rec_col1</td>\n      <td>11</td>\n      <td>14</td>\n      <td>17</td>\n    </tr>\n    <tr>\n      <th>4</th>\n      <td>2</td>\n      <td>rec_col2</td>\n      <td>12</td>\n      <td>15</td>\n      <td>18</td>\n    </tr>\n    <tr>\n      <th>5</th>\n      <td>2</td>\n      <td>rec_col3</td>\n      <td>13</td>\n      <td>16</td>\n      <td>19</td>\n    </tr>\n  </tbody>\n</table>\n</div>"
     },
     "metadata": {},
     "output_type": "execute_result",
     "execution_count": 10
    }
   ],
   "source": [
    "\n",
    "step1 = data_algebra.cdata_impl.RecordMap(\n",
    "    blocks_in=data_algebra.cdata.RecordSpecification(\n",
    "        control_table=incoming_shape,\n",
    "        record_keys=record_keys\n",
    "    ),\n",
    ")\n",
    "\n",
    "\n",
    "step2 = data_algebra.cdata_impl.RecordMap(\n",
    "    blocks_out=data_algebra.cdata.RecordSpecification(\n",
    "        control_table=outgoing_shape,\n",
    "        record_keys=record_keys\n",
    "    ),\n",
    ")\n",
    "\n",
    "step2.transform(step1.transform(data))"
   ],
   "metadata": {
    "collapsed": false,
    "pycharm": {
     "name": "#%%\n",
     "is_executing": false
    }
   }
  },
  {
   "cell_type": "code",
   "execution_count": 11,
   "outputs": [
    {
     "data": {
      "text/plain": "data_algebra.cdata_impl.RecordMap(\n    blocks_in=data_algebra.cdata.RecordSpecification(\n    record_keys=['record_id'],\n    control_table=pandas.DataFrame({\n    'row': ['row1', 'row2', 'row3'],\n    'col1': ['v11', 'v21', 'v31'],\n    'col2': ['v12', 'v22', 'v32'],\n    'col3': ['v13', 'v23', 'v33'],\n    }),\n    control_table_keys=['row']),\n    blocks_out=data_algebra.cdata.RecordSpecification(\n    record_keys=['record_id'],\n    control_table=pandas.DataFrame({\n    'column_label': ['rec_col1', 'rec_col2', 'rec_col3'],\n    'c_row1': ['v11', 'v12', 'v13'],\n    'c_row2': ['v21', 'v22', 'v23'],\n    'c_row3': ['v31', 'v32', 'v33'],\n    }),\n    control_table_keys=['column_label']))"
     },
     "metadata": {},
     "output_type": "execute_result",
     "execution_count": 11
    }
   ],
   "source": [
    "both = step2.compose(step1)\n",
    "\n",
    "both"
   ],
   "metadata": {
    "collapsed": false,
    "pycharm": {
     "name": "#%%\n",
     "is_executing": false
    }
   }
  },
  {
   "cell_type": "code",
   "execution_count": 12,
   "outputs": [
    {
     "data": {
      "text/plain": "   record_id column_label  c_row1  c_row2  c_row3\n0          1     rec_col1       1       4       7\n1          1     rec_col2       2       5       8\n2          1     rec_col3       3       6       9\n3          2     rec_col1      11      14      17\n4          2     rec_col2      12      15      18\n5          2     rec_col3      13      16      19",
      "text/html": "<div>\n<style scoped>\n    .dataframe tbody tr th:only-of-type {\n        vertical-align: middle;\n    }\n\n    .dataframe tbody tr th {\n        vertical-align: top;\n    }\n\n    .dataframe thead th {\n        text-align: right;\n    }\n</style>\n<table border=\"1\" class=\"dataframe\">\n  <thead>\n    <tr style=\"text-align: right;\">\n      <th></th>\n      <th>record_id</th>\n      <th>column_label</th>\n      <th>c_row1</th>\n      <th>c_row2</th>\n      <th>c_row3</th>\n    </tr>\n  </thead>\n  <tbody>\n    <tr>\n      <th>0</th>\n      <td>1</td>\n      <td>rec_col1</td>\n      <td>1</td>\n      <td>4</td>\n      <td>7</td>\n    </tr>\n    <tr>\n      <th>1</th>\n      <td>1</td>\n      <td>rec_col2</td>\n      <td>2</td>\n      <td>5</td>\n      <td>8</td>\n    </tr>\n    <tr>\n      <th>2</th>\n      <td>1</td>\n      <td>rec_col3</td>\n      <td>3</td>\n      <td>6</td>\n      <td>9</td>\n    </tr>\n    <tr>\n      <th>3</th>\n      <td>2</td>\n      <td>rec_col1</td>\n      <td>11</td>\n      <td>14</td>\n      <td>17</td>\n    </tr>\n    <tr>\n      <th>4</th>\n      <td>2</td>\n      <td>rec_col2</td>\n      <td>12</td>\n      <td>15</td>\n      <td>18</td>\n    </tr>\n    <tr>\n      <th>5</th>\n      <td>2</td>\n      <td>rec_col3</td>\n      <td>13</td>\n      <td>16</td>\n      <td>19</td>\n    </tr>\n  </tbody>\n</table>\n</div>"
     },
     "metadata": {},
     "output_type": "execute_result",
     "execution_count": 12
    }
   ],
   "source": [
    "both.transform(data)"
   ],
   "metadata": {
    "collapsed": false,
    "pycharm": {
     "name": "#%%\n",
     "is_executing": false
    }
   }
  }
 ],
 "metadata": {
  "language_info": {
   "codemirror_mode": {
    "name": "ipython",
    "version": 2
   },
   "file_extension": ".py",
   "mimetype": "text/x-python",
   "name": "python",
   "nbconvert_exporter": "python",
   "pygments_lexer": "ipython2",
   "version": "2.7.6"
  },
  "kernelspec": {
   "name": "python3",
   "language": "python",
   "display_name": "Python 3"
  },
  "pycharm": {
   "stem_cell": {
    "cell_type": "raw",
    "source": [],
    "metadata": {
     "collapsed": false
    }
   }
  }
 },
 "nbformat": 4,
 "nbformat_minor": 0
}