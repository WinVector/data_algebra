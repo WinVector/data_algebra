{
 "cells": [
  {
   "cell_type": "markdown",
   "metadata": {
    "pycharm": {
     "name": "#%% md\n"
    }
   },
   "source": [
    "This is a quick re-work of the [`Keras` record transform example](http://winvector.github.io/FluidData/FluidDataReshapingWithCdata.html) in `Python`. For an `R` version please see [here](https://github.com/WinVector/cdata/blob/master/Examples/Inverse/Inverse.md).\n",
    "\n",
    "\n",
    "In the [original article](http://winvector.github.io/FluidData/FluidDataReshapingWithCdata.html) we had `Keras` model performance data, which looked like the following."
   ]
  },
  {
   "cell_type": "code",
   "execution_count": 1,
   "metadata": {
    "pycharm": {
     "is_executing": false
    }
   },
   "outputs": [
    {
     "data": {
      "text/html": [
       "<div>\n",
       "<style scoped>\n",
       "    .dataframe tbody tr th:only-of-type {\n",
       "        vertical-align: middle;\n",
       "    }\n",
       "\n",
       "    .dataframe tbody tr th {\n",
       "        vertical-align: top;\n",
       "    }\n",
       "\n",
       "    .dataframe thead th {\n",
       "        text-align: right;\n",
       "    }\n",
       "</style>\n",
       "<table border=\"1\" class=\"dataframe\">\n",
       "  <thead>\n",
       "    <tr style=\"text-align: right;\">\n",
       "      <th></th>\n",
       "      <th>val_loss</th>\n",
       "      <th>val_acc</th>\n",
       "      <th>loss</th>\n",
       "      <th>acc</th>\n",
       "      <th>epoch</th>\n",
       "    </tr>\n",
       "  </thead>\n",
       "  <tbody>\n",
       "    <tr>\n",
       "      <th>0</th>\n",
       "      <td>-0.3770</td>\n",
       "      <td>0.8722</td>\n",
       "      <td>-0.5067</td>\n",
       "      <td>0.7852</td>\n",
       "      <td>1</td>\n",
       "    </tr>\n",
       "    <tr>\n",
       "      <th>1</th>\n",
       "      <td>-0.2997</td>\n",
       "      <td>0.8895</td>\n",
       "      <td>-0.3002</td>\n",
       "      <td>0.9040</td>\n",
       "      <td>2</td>\n",
       "    </tr>\n",
       "    <tr>\n",
       "      <th>2</th>\n",
       "      <td>-0.2964</td>\n",
       "      <td>0.8822</td>\n",
       "      <td>-0.2166</td>\n",
       "      <td>0.9303</td>\n",
       "      <td>3</td>\n",
       "    </tr>\n",
       "    <tr>\n",
       "      <th>3</th>\n",
       "      <td>-0.2779</td>\n",
       "      <td>0.8899</td>\n",
       "      <td>-0.1739</td>\n",
       "      <td>0.9428</td>\n",
       "      <td>4</td>\n",
       "    </tr>\n",
       "    <tr>\n",
       "      <th>4</th>\n",
       "      <td>-0.2843</td>\n",
       "      <td>0.8861</td>\n",
       "      <td>-0.1411</td>\n",
       "      <td>0.9545</td>\n",
       "      <td>5</td>\n",
       "    </tr>\n",
       "    <tr>\n",
       "      <th>5</th>\n",
       "      <td>-0.3120</td>\n",
       "      <td>0.8817</td>\n",
       "      <td>-0.1136</td>\n",
       "      <td>0.9656</td>\n",
       "      <td>6</td>\n",
       "    </tr>\n",
       "  </tbody>\n",
       "</table>\n",
       "</div>"
      ],
      "text/plain": [
       "   val_loss  val_acc    loss     acc  epoch\n",
       "0   -0.3770   0.8722 -0.5067  0.7852      1\n",
       "1   -0.2997   0.8895 -0.3002  0.9040      2\n",
       "2   -0.2964   0.8822 -0.2166  0.9303      3\n",
       "3   -0.2779   0.8899 -0.1739  0.9428      4\n",
       "4   -0.2843   0.8861 -0.1411  0.9545      5\n",
       "5   -0.3120   0.8817 -0.1136  0.9656      6"
      ]
     },
     "execution_count": 1,
     "metadata": {},
     "output_type": "execute_result"
    }
   ],
   "source": [
    "import pandas\n",
    "import data_algebra.cdata\n",
    "import data_algebra.cdata_impl\n",
    "\n",
    "\n",
    "df = pandas.DataFrame({\n",
    "    'val_loss': [-0.377, -0.2997, -0.2964, -0.2779, -0.2843, -0.312],\n",
    "    'val_acc': [0.8722, 0.8895, 0.8822, 0.8899, 0.8861, 0.8817],\n",
    "    'loss': [-0.5067, -0.3002, -0.2166, -0.1739, -0.1411, -0.1136],\n",
    "    'acc': [0.7852, 0.904, 0.9303, 0.9428, 0.9545, 0.9656],\n",
    "    'epoch': [1, 2, 3, 4, 5, 6],\n",
    "    })\n",
    "\n",
    "df"
   ]
  },
  {
   "cell_type": "markdown",
   "metadata": {},
   "source": [
    "\n",
    "But for plotting, it is more convenient to have the data in the following form:\n",
    "\n",
    "| epoch | measure                    | training | validation |\n",
    "| ----: | :------------------------- | -------: | ---------: |\n",
    "|     1 | minus binary cross entropy | \\-0.5067 |   \\-0.3770 |\n",
    "|     1 | accuracy                   |   0.7852 |     0.8722 |\n",
    "| ...                                                        |\n",
    "\n",
    "[The article](http://winvector.github.io/FluidData/FluidDataReshapingWithCdata.html) uses ideas similar to [these](https://winvector.github.io/cdata/articles/design.html) to visualize the desired record structure and then write down this visualization as a concrete data record example.\n",
    "\n",
    "The principle is: if you have a visualization of the input and output, it is then trivial to marshal these into a graphical representation of the desired transform. And if you can't work out what the input and output look like, then you really are not quite ready to perform the transform.  Knowing what we want is the minimum requirement and with this methodology it is also all that is needed.\n"
   ]
  },
  {
   "cell_type": "code",
   "execution_count": 2,
   "metadata": {
    "collapsed": false,
    "jupyter": {
     "outputs_hidden": false
    },
    "pycharm": {
     "is_executing": false,
     "name": "#%%\n"
    }
   },
   "outputs": [
    {
     "data": {
      "text/html": [
       "<div>\n",
       "<style scoped>\n",
       "    .dataframe tbody tr th:only-of-type {\n",
       "        vertical-align: middle;\n",
       "    }\n",
       "\n",
       "    .dataframe tbody tr th {\n",
       "        vertical-align: top;\n",
       "    }\n",
       "\n",
       "    .dataframe thead th {\n",
       "        text-align: right;\n",
       "    }\n",
       "</style>\n",
       "<table border=\"1\" class=\"dataframe\">\n",
       "  <thead>\n",
       "    <tr style=\"text-align: right;\">\n",
       "      <th></th>\n",
       "      <th>measure</th>\n",
       "      <th>training</th>\n",
       "      <th>validation</th>\n",
       "    </tr>\n",
       "  </thead>\n",
       "  <tbody>\n",
       "    <tr>\n",
       "      <th>0</th>\n",
       "      <td>minus binary cross entropy</td>\n",
       "      <td>loss</td>\n",
       "      <td>val_loss</td>\n",
       "    </tr>\n",
       "    <tr>\n",
       "      <th>1</th>\n",
       "      <td>accuracy</td>\n",
       "      <td>acc</td>\n",
       "      <td>val_acc</td>\n",
       "    </tr>\n",
       "  </tbody>\n",
       "</table>\n",
       "</div>"
      ],
      "text/plain": [
       "                      measure training validation\n",
       "0  minus binary cross entropy     loss   val_loss\n",
       "1                    accuracy      acc    val_acc"
      ]
     },
     "execution_count": 2,
     "metadata": {},
     "output_type": "execute_result"
    }
   ],
   "source": [
    "shape = pandas.DataFrame({\n",
    "    'measure': ['minus binary cross entropy', 'accuracy'],\n",
    "    'training': ['loss', 'acc'],\n",
    "    'validation': ['val_loss', 'val_acc'],\n",
    "    })\n",
    "\n",
    "shape"
   ]
  },
  {
   "cell_type": "markdown",
   "metadata": {},
   "source": [
    "This description of the desired record shape is easily transformed into a data transformation specification."
   ]
  },
  {
   "cell_type": "code",
   "execution_count": 3,
   "metadata": {
    "collapsed": false,
    "jupyter": {
     "outputs_hidden": false
    },
    "pycharm": {
     "is_executing": false,
     "name": "#%%\n"
    }
   },
   "outputs": [
    {
     "data": {
      "text/plain": [
       "data_algebra.cdata_impl.RecordMap(\n",
       "    blocks_in=None,\n",
       "    blocks_out=data_algebra.cdata.RecordSpecification(\n",
       "    record_keys=['epoch'],\n",
       "    control_table=pandas.DataFrame({\n",
       "    'measure': ['minus binary cross entropy', 'accuracy'],\n",
       "    'training': ['loss', 'acc'],\n",
       "    'validation': ['val_loss', 'val_acc'],\n",
       "    }),\n",
       "    control_table_keys=['measure']))"
      ]
     },
     "execution_count": 3,
     "metadata": {},
     "output_type": "execute_result"
    }
   ],
   "source": [
    "record_map = data_algebra.cdata_impl.RecordMap(\n",
    "    blocks_out=data_algebra.cdata.RecordSpecification(\n",
    "        control_table=shape,\n",
    "        record_keys=['epoch']\n",
    "    ),\n",
    ")\n",
    "\n",
    "record_map"
   ]
  },
  {
   "cell_type": "code",
   "execution_count": 4,
   "metadata": {
    "collapsed": false,
    "jupyter": {
     "outputs_hidden": false
    },
    "pycharm": {
     "is_executing": false,
     "name": "#%%\n"
    }
   },
   "outputs": [
    {
     "name": "stdout",
     "output_type": "stream",
     "text": [
      "Transform row records of the form:\n",
      "  record_keys: ['epoch']\n",
      " ['epoch', 'loss', 'acc', 'val_loss', 'val_acc']\n",
      "to block records of structure:\n",
      "RecordSpecification\n",
      "   record_keys: ['epoch']\n",
      "   control_table_keys: ['measure']\n",
      "   control_table:\n",
      "                         measure training validation\n",
      "   0  minus binary cross entropy     loss   val_loss\n",
      "   1                    accuracy      acc    val_acc\n",
      "\n"
     ]
    }
   ],
   "source": [
    "print(str(record_map))"
   ]
  },
  {
   "cell_type": "markdown",
   "metadata": {},
   "source": [
    "Just about any transfrom we want can be specified through `data_algebra.cdata_impl.RecordMap` by specifying the `blocks_in` and `blocks_out` shapes (leaving these as `None` specifies the corresponding shape is a row record or record that is entirely in a single row).\n",
    "\n",
    "We can easily apply this transform to our data."
   ]
  },
  {
   "cell_type": "code",
   "execution_count": 5,
   "metadata": {
    "collapsed": false,
    "jupyter": {
     "outputs_hidden": false
    },
    "pycharm": {
     "is_executing": false,
     "name": "#%%\n"
    }
   },
   "outputs": [
    {
     "data": {
      "text/html": [
       "<div>\n",
       "<style scoped>\n",
       "    .dataframe tbody tr th:only-of-type {\n",
       "        vertical-align: middle;\n",
       "    }\n",
       "\n",
       "    .dataframe tbody tr th {\n",
       "        vertical-align: top;\n",
       "    }\n",
       "\n",
       "    .dataframe thead th {\n",
       "        text-align: right;\n",
       "    }\n",
       "</style>\n",
       "<table border=\"1\" class=\"dataframe\">\n",
       "  <thead>\n",
       "    <tr style=\"text-align: right;\">\n",
       "      <th></th>\n",
       "      <th>epoch</th>\n",
       "      <th>measure</th>\n",
       "      <th>training</th>\n",
       "      <th>validation</th>\n",
       "    </tr>\n",
       "  </thead>\n",
       "  <tbody>\n",
       "    <tr>\n",
       "      <th>0</th>\n",
       "      <td>1</td>\n",
       "      <td>accuracy</td>\n",
       "      <td>0.7852</td>\n",
       "      <td>0.8722</td>\n",
       "    </tr>\n",
       "    <tr>\n",
       "      <th>1</th>\n",
       "      <td>1</td>\n",
       "      <td>minus binary cross entropy</td>\n",
       "      <td>-0.5067</td>\n",
       "      <td>-0.3770</td>\n",
       "    </tr>\n",
       "    <tr>\n",
       "      <th>2</th>\n",
       "      <td>2</td>\n",
       "      <td>accuracy</td>\n",
       "      <td>0.9040</td>\n",
       "      <td>0.8895</td>\n",
       "    </tr>\n",
       "    <tr>\n",
       "      <th>3</th>\n",
       "      <td>2</td>\n",
       "      <td>minus binary cross entropy</td>\n",
       "      <td>-0.3002</td>\n",
       "      <td>-0.2997</td>\n",
       "    </tr>\n",
       "    <tr>\n",
       "      <th>4</th>\n",
       "      <td>3</td>\n",
       "      <td>accuracy</td>\n",
       "      <td>0.9303</td>\n",
       "      <td>0.8822</td>\n",
       "    </tr>\n",
       "    <tr>\n",
       "      <th>5</th>\n",
       "      <td>3</td>\n",
       "      <td>minus binary cross entropy</td>\n",
       "      <td>-0.2166</td>\n",
       "      <td>-0.2964</td>\n",
       "    </tr>\n",
       "    <tr>\n",
       "      <th>6</th>\n",
       "      <td>4</td>\n",
       "      <td>accuracy</td>\n",
       "      <td>0.9428</td>\n",
       "      <td>0.8899</td>\n",
       "    </tr>\n",
       "    <tr>\n",
       "      <th>7</th>\n",
       "      <td>4</td>\n",
       "      <td>minus binary cross entropy</td>\n",
       "      <td>-0.1739</td>\n",
       "      <td>-0.2779</td>\n",
       "    </tr>\n",
       "    <tr>\n",
       "      <th>8</th>\n",
       "      <td>5</td>\n",
       "      <td>accuracy</td>\n",
       "      <td>0.9545</td>\n",
       "      <td>0.8861</td>\n",
       "    </tr>\n",
       "    <tr>\n",
       "      <th>9</th>\n",
       "      <td>5</td>\n",
       "      <td>minus binary cross entropy</td>\n",
       "      <td>-0.1411</td>\n",
       "      <td>-0.2843</td>\n",
       "    </tr>\n",
       "    <tr>\n",
       "      <th>10</th>\n",
       "      <td>6</td>\n",
       "      <td>accuracy</td>\n",
       "      <td>0.9656</td>\n",
       "      <td>0.8817</td>\n",
       "    </tr>\n",
       "    <tr>\n",
       "      <th>11</th>\n",
       "      <td>6</td>\n",
       "      <td>minus binary cross entropy</td>\n",
       "      <td>-0.1136</td>\n",
       "      <td>-0.3120</td>\n",
       "    </tr>\n",
       "  </tbody>\n",
       "</table>\n",
       "</div>"
      ],
      "text/plain": [
       "    epoch                     measure  training  validation\n",
       "0       1                    accuracy    0.7852      0.8722\n",
       "1       1  minus binary cross entropy   -0.5067     -0.3770\n",
       "2       2                    accuracy    0.9040      0.8895\n",
       "3       2  minus binary cross entropy   -0.3002     -0.2997\n",
       "4       3                    accuracy    0.9303      0.8822\n",
       "5       3  minus binary cross entropy   -0.2166     -0.2964\n",
       "6       4                    accuracy    0.9428      0.8899\n",
       "7       4  minus binary cross entropy   -0.1739     -0.2779\n",
       "8       5                    accuracy    0.9545      0.8861\n",
       "9       5  minus binary cross entropy   -0.1411     -0.2843\n",
       "10      6                    accuracy    0.9656      0.8817\n",
       "11      6  minus binary cross entropy   -0.1136     -0.3120"
      ]
     },
     "execution_count": 5,
     "metadata": {},
     "output_type": "execute_result"
    }
   ],
   "source": [
    "res = record_map.transform(df)\n",
    "\n",
    "res"
   ]
  },
  {
   "cell_type": "markdown",
   "metadata": {},
   "source": [
    "And it is simple to build an inverse transform."
   ]
  },
  {
   "cell_type": "code",
   "execution_count": 6,
   "metadata": {
    "collapsed": false,
    "jupyter": {
     "outputs_hidden": false
    },
    "pycharm": {
     "is_executing": false,
     "name": "#%%\n"
    }
   },
   "outputs": [
    {
     "name": "stdout",
     "output_type": "stream",
     "text": [
      "Transform block records of structure:\n",
      "RecordSpecification\n",
      "   record_keys: ['epoch']\n",
      "   control_table_keys: ['measure']\n",
      "   control_table:\n",
      "                         measure training validation\n",
      "   0  minus binary cross entropy     loss   val_loss\n",
      "   1                    accuracy      acc    val_acc\n",
      "to row records of the form:\n",
      "  record_keys: ['epoch']\n",
      " ['epoch', 'loss', 'acc', 'val_loss', 'val_acc']\n",
      "\n"
     ]
    }
   ],
   "source": [
    "inv = record_map.inverse()\n",
    "\n",
    "print(str(inv))"
   ]
  },
  {
   "cell_type": "markdown",
   "metadata": {},
   "source": [
    "And equally easy to apply this inverse transform to data."
   ]
  },
  {
   "cell_type": "code",
   "execution_count": 7,
   "metadata": {
    "collapsed": false,
    "jupyter": {
     "outputs_hidden": false
    },
    "pycharm": {
     "is_executing": false,
     "name": "#%%\n"
    }
   },
   "outputs": [
    {
     "data": {
      "text/html": [
       "<div>\n",
       "<style scoped>\n",
       "    .dataframe tbody tr th:only-of-type {\n",
       "        vertical-align: middle;\n",
       "    }\n",
       "\n",
       "    .dataframe tbody tr th {\n",
       "        vertical-align: top;\n",
       "    }\n",
       "\n",
       "    .dataframe thead th {\n",
       "        text-align: right;\n",
       "    }\n",
       "</style>\n",
       "<table border=\"1\" class=\"dataframe\">\n",
       "  <thead>\n",
       "    <tr style=\"text-align: right;\">\n",
       "      <th></th>\n",
       "      <th>epoch</th>\n",
       "      <th>loss</th>\n",
       "      <th>val_loss</th>\n",
       "      <th>acc</th>\n",
       "      <th>val_acc</th>\n",
       "    </tr>\n",
       "  </thead>\n",
       "  <tbody>\n",
       "    <tr>\n",
       "      <th>0</th>\n",
       "      <td>1</td>\n",
       "      <td>-0.5067</td>\n",
       "      <td>-0.3770</td>\n",
       "      <td>0.7852</td>\n",
       "      <td>0.8722</td>\n",
       "    </tr>\n",
       "    <tr>\n",
       "      <th>1</th>\n",
       "      <td>2</td>\n",
       "      <td>-0.3002</td>\n",
       "      <td>-0.2997</td>\n",
       "      <td>0.9040</td>\n",
       "      <td>0.8895</td>\n",
       "    </tr>\n",
       "    <tr>\n",
       "      <th>2</th>\n",
       "      <td>3</td>\n",
       "      <td>-0.2166</td>\n",
       "      <td>-0.2964</td>\n",
       "      <td>0.9303</td>\n",
       "      <td>0.8822</td>\n",
       "    </tr>\n",
       "    <tr>\n",
       "      <th>3</th>\n",
       "      <td>4</td>\n",
       "      <td>-0.1739</td>\n",
       "      <td>-0.2779</td>\n",
       "      <td>0.9428</td>\n",
       "      <td>0.8899</td>\n",
       "    </tr>\n",
       "    <tr>\n",
       "      <th>4</th>\n",
       "      <td>5</td>\n",
       "      <td>-0.1411</td>\n",
       "      <td>-0.2843</td>\n",
       "      <td>0.9545</td>\n",
       "      <td>0.8861</td>\n",
       "    </tr>\n",
       "    <tr>\n",
       "      <th>5</th>\n",
       "      <td>6</td>\n",
       "      <td>-0.1136</td>\n",
       "      <td>-0.3120</td>\n",
       "      <td>0.9656</td>\n",
       "      <td>0.8817</td>\n",
       "    </tr>\n",
       "  </tbody>\n",
       "</table>\n",
       "</div>"
      ],
      "text/plain": [
       "   epoch    loss  val_loss     acc  val_acc\n",
       "0      1 -0.5067   -0.3770  0.7852   0.8722\n",
       "1      2 -0.3002   -0.2997  0.9040   0.8895\n",
       "2      3 -0.2166   -0.2964  0.9303   0.8822\n",
       "3      4 -0.1739   -0.2779  0.9428   0.8899\n",
       "4      5 -0.1411   -0.2843  0.9545   0.8861\n",
       "5      6 -0.1136   -0.3120  0.9656   0.8817"
      ]
     },
     "execution_count": 7,
     "metadata": {},
     "output_type": "execute_result"
    }
   ],
   "source": [
    "inv.transform(res)"
   ]
  },
  {
   "cell_type": "markdown",
   "metadata": {},
   "source": [
    "Notice how each step can be inspected and checked as we worked. I would definitely recommend re-reading [the original article](http://winvector.github.io/FluidData/FluidDataReshapingWithCdata.html) with the new transform notation in mind. In any case, please check out the `cdata` [package](https://github.com/WinVector/cdata) and [documentation](https://winvector.github.io/cdata/)."
   ]
  }
 ],
 "metadata": {
  "kernelspec": {
   "display_name": "Python 3",
   "language": "python",
   "name": "python3"
  },
  "language_info": {
   "codemirror_mode": {
    "name": "ipython",
    "version": 3
   },
   "file_extension": ".py",
   "mimetype": "text/x-python",
   "name": "python",
   "nbconvert_exporter": "python",
   "pygments_lexer": "ipython3",
   "version": "3.6.9"
  },
  "pycharm": {
   "stem_cell": {
    "cell_type": "raw",
    "metadata": {
     "collapsed": false
    },
    "source": []
   }
  }
 },
 "nbformat": 4,
 "nbformat_minor": 4
}
