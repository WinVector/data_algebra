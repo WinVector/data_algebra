{
 "cells": [
  {
   "cell_type": "code",
   "execution_count": 1,
   "metadata": {
    "collapsed": true,
    "pycharm": {
     "is_executing": false
    }
   },
   "outputs": [],
   "source": [
    "import sqlite3\n",
    "from data_algebra.data_ops import *  # https://github.com/WinVector/data_algebra\n",
    "import data_algebra.SQLite\n",
    "\n",
    "\n",
    "conn = sqlite3.connect(':memory:')\n",
    "cur = conn.cursor()\n",
    "\n",
    "# From: \n",
    "#   https://docs.python.org/3.5/library/sqlite3.html\n",
    "\n",
    "cur.execute('''CREATE TABLE stocks\n",
    "             (date text, trans text, symbol text, qty real, price real)''')\n",
    "\n",
    "# Insert a row of data\n",
    "cur.execute(\"INSERT INTO stocks VALUES ('2006-01-05','BUY','RHAT',100,35.14)\")\n",
    "\n",
    "# Save (commit) the changes\n",
    "conn.commit()"
   ]
  },
  {
   "cell_type": "code",
   "execution_count": 2,
   "outputs": [
    {
     "name": "stdout",
     "text": [
      "TableDescription(\n    table_name=\"stocks\", column_names=[\"date\", \"trans\", \"symbol\", \"qty\", \"price\"]\n).extend({\"cost\": \"qty * price\"})\n\n"
     ],
     "output_type": "stream"
    }
   ],
   "source": [
    "# work a simple example\n",
    "\n",
    "ops = TableDescription('stocks', \n",
    "                 ['date',\n",
    "                  'trans',\n",
    "                  'symbol',\n",
    "                  'qty',\n",
    "                  'price']) .\\\n",
    "    extend({'cost': 'qty * price'})\n",
    "\n",
    "print(ops.to_python(pretty=True))"
   ],
   "metadata": {
    "collapsed": false,
    "pycharm": {
     "name": "#%%\n",
     "is_executing": false
    }
   }
  },
  {
   "cell_type": "code",
   "execution_count": 3,
   "outputs": [
    {
     "name": "stdout",
     "text": [
      "SELECT \"symbol\",\n       \"trans\",\n       \"qty\",\n       \"date\",\n       \"price\",\n       \"qty\" * \"price\" AS \"cost\"\nFROM\n  (SELECT \"symbol\",\n          \"trans\",\n          \"qty\",\n          \"date\",\n          \"price\"\n   FROM \"stocks\") \"sq_0\"\n"
     ],
     "output_type": "stream"
    }
   ],
   "source": [
    "db_model = data_algebra.SQLite.SQLiteModel()\n",
    "\n",
    "sql = ops.to_sql(db_model, pretty=True)\n",
    "print(sql)"
   ],
   "metadata": {
    "collapsed": false,
    "pycharm": {
     "name": "#%%\n",
     "is_executing": false
    }
   }
  },
  {
   "cell_type": "code",
   "execution_count": 4,
   "outputs": [
    {
     "data": {
      "text/plain": "  symbol trans    qty        date  price    cost\n0   RHAT   BUY  100.0  2006-01-05  35.14  3514.0",
      "text/html": "<div>\n<style scoped>\n    .dataframe tbody tr th:only-of-type {\n        vertical-align: middle;\n    }\n\n    .dataframe tbody tr th {\n        vertical-align: top;\n    }\n\n    .dataframe thead th {\n        text-align: right;\n    }\n</style>\n<table border=\"1\" class=\"dataframe\">\n  <thead>\n    <tr style=\"text-align: right;\">\n      <th></th>\n      <th>symbol</th>\n      <th>trans</th>\n      <th>qty</th>\n      <th>date</th>\n      <th>price</th>\n      <th>cost</th>\n    </tr>\n  </thead>\n  <tbody>\n    <tr>\n      <th>0</th>\n      <td>RHAT</td>\n      <td>BUY</td>\n      <td>100.0</td>\n      <td>2006-01-05</td>\n      <td>35.14</td>\n      <td>3514.0</td>\n    </tr>\n  </tbody>\n</table>\n</div>"
     },
     "metadata": {},
     "output_type": "execute_result",
     "execution_count": 4
    }
   ],
   "source": [
    "db_model.read_query(conn, sql)"
   ],
   "metadata": {
    "collapsed": false,
    "pycharm": {
     "name": "#%%\n",
     "is_executing": false
    }
   }
  },
  {
   "cell_type": "code",
   "execution_count": 5,
   "outputs": [],
   "source": [
    "# neaten up\n",
    "conn.close()"
   ],
   "metadata": {
    "collapsed": false,
    "pycharm": {
     "name": "#%%\n",
     "is_executing": false
    }
   }
  }
 ],
 "metadata": {
  "language_info": {
   "codemirror_mode": {
    "name": "ipython",
    "version": 2
   },
   "file_extension": ".py",
   "mimetype": "text/x-python",
   "name": "python",
   "nbconvert_exporter": "python",
   "pygments_lexer": "ipython2",
   "version": "2.7.6"
  },
  "kernelspec": {
   "name": "python3",
   "language": "python",
   "display_name": "Python 3"
  },
  "pycharm": {
   "stem_cell": {
    "cell_type": "raw",
    "source": [],
    "metadata": {
     "collapsed": false
    }
   }
  }
 },
 "nbformat": 4,
 "nbformat_minor": 0
}